{
 "cells": [
  {
   "cell_type": "code",
   "execution_count": 8,
   "metadata": {},
   "outputs": [],
   "source": [
    "import numpy as np\n",
    "import matplotlib.pyplot as plt\n",
    "import pandas as pd\n",
    "import pickle\n",
    "from skeleton import skeleton\n",
    "from matplotlib.animation import FFMpegWriter\n",
    "import cv2 \n",
    "from math import atan2\n",
    "from scipy import ndimage\n",
    "\n",
    "home_dir = '/data/LiftFly3D/prism/'\n",
    "data_dir = '/mnt/NAS/SG/prism_data/'\n",
    "\n",
    "border_width = 105\n",
    "threshold = 45\n",
    "bbox_width = 550\n",
    "horiz_crop = 440"
   ]
  },
  {
   "cell_type": "code",
   "execution_count": 9,
   "metadata": {},
   "outputs": [],
   "source": [
    "crop_positions = ['/bottom_view/videos/crop_loc_191125_PR_Fly1_001_prism.txt',\n",
    "                  '/bottom_view/videos/crop_loc_191125_PR_Fly1_002_prism.txt',\n",
    "                  '/bottom_view/videos/crop_loc_191125_PR_Fly1_003_prism.txt',\n",
    "                  '/bottom_view/videos/crop_loc_191125_PR_Fly1_004_prism.txt',\n",
    "                  '/bottom_view/videos/crop_loc_191125_PR_Fly2_001_prism.txt',\n",
    "                  '/bottom_view/videos/crop_loc_191125_PR_Fly2_002_prism.txt',\n",
    "                  '/bottom_view/videos/crop_loc_191125_PR_Fly2_003_prism.txt',\n",
    "                  '/bottom_view/videos/crop_loc_191125_PR_Fly2_004_prism.txt']\n",
    "\n",
    "im_full = ['191125_PR/Fly1/001_prism/behData/images/',\n",
    "           '191125_PR/Fly1/002_prism/behData/images/',\n",
    "           '191125_PR/Fly1/003_prism/behData/images/',\n",
    "           '191125_PR/Fly1/004_prism/behData/images/',\n",
    "           '191125_PR/Fly2/001_prism/behData/images/',\n",
    "           '191125_PR/Fly2/002_prism/behData/images/',\n",
    "           '191125_PR/Fly2/003_prism/behData/images/',\n",
    "           '191125_PR/Fly2/004_prism/behData/images/']\n",
    "\n",
    "images_side = ['191125_PR/Fly1/001_prism/behData/images/side_view_prism_data_191125_PR_Fly1/',\n",
    "               '191125_PR/Fly1/002_prism/behData/images/side_view_prism_data_191125_PR_Fly1/',\n",
    "               '191125_PR/Fly1/003_prism/behData/images/side_view_prism_data_191125_PR_Fly1/',\n",
    "               '191125_PR/Fly1/004_prism/behData/images/side_view_prism_data_191125_PR_Fly1/',\n",
    "               '191125_PR/Fly2/001_prism/behData/images/side_view_prism_data_191125_PR_Fly2/',\n",
    "               '191125_PR/Fly2/002_prism/behData/images/side_view_prism_data_191125_PR_Fly2/',\n",
    "               '191125_PR/Fly2/003_prism/behData/images/side_view_prism_data_191125_PR_Fly2/',\n",
    "               '191125_PR/Fly2/004_prism/behData/images/side_view_prism_data_191125_PR_Fly2/']\n",
    "\n",
    "images_bottom =  ['191125_PR/Fly1/001_prism/behData/images/bottom_view_prism_data_191125_PR_Fly1/',\n",
    "                  '191125_PR/Fly1/002_prism/behData/images/bottom_view_prism_data_191125_PR_Fly1/',\n",
    "                  '191125_PR/Fly1/003_prism/behData/images/bottom_view_prism_data_191125_PR_Fly1/',\n",
    "                  '191125_PR/Fly1/004_prism/behData/images/bottom_view_prism_data_191125_PR_Fly1/',\n",
    "                  '191125_PR/Fly2/001_prism/behData/images/bottom_view_prism_data_191125_PR_Fly2/',\n",
    "                  '191125_PR/Fly2/002_prism/behData/images/bottom_view_prism_data_191125_PR_Fly2/',\n",
    "                  '191125_PR/Fly2/003_prism/behData/images/bottom_view_prism_data_191125_PR_Fly2/',\n",
    "                  '191125_PR/Fly2/004_prism/behData/images/bottom_view_prism_data_191125_PR_Fly2/']\n",
    "\n",
    "DLC_predictions = ['191125_PR_Fly1_001_prism.pkl',\n",
    "                  '191125_PR_Fly1_002_prism.pkl',\n",
    "                  '191125_PR_Fly1_003_prism.pkl',\n",
    "                  '191125_PR_Fly1_004_prism.pkl',\n",
    "                  '191125_PR_Fly2_001_prism.pkl',\n",
    "                  '191125_PR_Fly2_002_prism.pkl',\n",
    "                  '191125_PR_Fly2_003_prism.pkl',\n",
    "                  '191125_PR_Fly2_004_prism.pkl']"
   ]
  },
  {
   "cell_type": "code",
   "execution_count": 10,
   "metadata": {},
   "outputs": [
    {
     "ename": "FileNotFoundError",
     "evalue": "[Errno 2] No such file or directory: '/data/LiftFly3D/prism/data_unoriented/bottom_view/videos/crop_loc_191125_PR_Fly1_004_prism.txt'",
     "output_type": "error",
     "traceback": [
      "\u001b[0;31m---------------------------------------------------------------------------\u001b[0m",
      "\u001b[0;31mFileNotFoundError\u001b[0m                         Traceback (most recent call last)",
      "\u001b[0;32m<ipython-input-10-ae7f9f5bd10f>\u001b[0m in \u001b[0;36m<module>\u001b[0;34m\u001b[0m\n\u001b[1;32m     24\u001b[0m                 \u001b[0mplt\u001b[0m\u001b[0;34m.\u001b[0m\u001b[0mplot\u001b[0m\u001b[0;34m(\u001b[0m\u001b[0mu\u001b[0m\u001b[0;34m,\u001b[0m \u001b[0mv\u001b[0m\u001b[0;34m,\u001b[0m \u001b[0mc\u001b[0m\u001b[0;34m=\u001b[0m\u001b[0mcolor_edge\u001b[0m\u001b[0;34m[\u001b[0m\u001b[0mi\u001b[0m\u001b[0;34m]\u001b[0m\u001b[0;34m,\u001b[0m \u001b[0malpha\u001b[0m\u001b[0;34m=\u001b[0m\u001b[0;36m1.0\u001b[0m\u001b[0;34m,\u001b[0m \u001b[0mlinewidth\u001b[0m \u001b[0;34m=\u001b[0m \u001b[0;36m2\u001b[0m\u001b[0;34m)\u001b[0m\u001b[0;34m\u001b[0m\u001b[0;34m\u001b[0m\u001b[0m\n\u001b[1;32m     25\u001b[0m \u001b[0;34m\u001b[0m\u001b[0m\n\u001b[0;32m---> 26\u001b[0;31m \u001b[0mim_file\u001b[0m\u001b[0;34m,\u001b[0m \u001b[0mx_pos\u001b[0m \u001b[0;34m=\u001b[0m \u001b[0mread_crop_pos\u001b[0m\u001b[0;34m(\u001b[0m\u001b[0mhome_dir\u001b[0m \u001b[0;34m+\u001b[0m \u001b[0mcrop_positions\u001b[0m\u001b[0;34m[\u001b[0m\u001b[0;36m3\u001b[0m\u001b[0;34m]\u001b[0m\u001b[0;34m)\u001b[0m\u001b[0;34m\u001b[0m\u001b[0;34m\u001b[0m\u001b[0m\n\u001b[0m",
      "\u001b[0;32m<ipython-input-10-ae7f9f5bd10f>\u001b[0m in \u001b[0;36mread_crop_pos\u001b[0;34m(file)\u001b[0m\n\u001b[1;32m      1\u001b[0m \u001b[0;31m#crop loc file\u001b[0m\u001b[0;34m\u001b[0m\u001b[0;34m\u001b[0m\u001b[0;34m\u001b[0m\u001b[0m\n\u001b[1;32m      2\u001b[0m \u001b[0;32mdef\u001b[0m \u001b[0mread_crop_pos\u001b[0m\u001b[0;34m(\u001b[0m\u001b[0mfile\u001b[0m\u001b[0;34m)\u001b[0m\u001b[0;34m:\u001b[0m\u001b[0;34m\u001b[0m\u001b[0;34m\u001b[0m\u001b[0m\n\u001b[0;32m----> 3\u001b[0;31m     \u001b[0mf\u001b[0m\u001b[0;34m=\u001b[0m\u001b[0mopen\u001b[0m\u001b[0;34m(\u001b[0m\u001b[0mfile\u001b[0m\u001b[0;34m,\u001b[0m \u001b[0;34m\"r\"\u001b[0m\u001b[0;34m)\u001b[0m\u001b[0;34m\u001b[0m\u001b[0;34m\u001b[0m\u001b[0m\n\u001b[0m\u001b[1;32m      4\u001b[0m     \u001b[0mcontents\u001b[0m \u001b[0;34m=\u001b[0m\u001b[0mf\u001b[0m\u001b[0;34m.\u001b[0m\u001b[0mreadlines\u001b[0m\u001b[0;34m(\u001b[0m\u001b[0;34m)\u001b[0m\u001b[0;34m\u001b[0m\u001b[0;34m\u001b[0m\u001b[0m\n\u001b[1;32m      5\u001b[0m     \u001b[0mim_file\u001b[0m \u001b[0;34m=\u001b[0m \u001b[0;34m[\u001b[0m\u001b[0;34m]\u001b[0m\u001b[0;34m\u001b[0m\u001b[0;34m\u001b[0m\u001b[0m\n",
      "\u001b[0;31mFileNotFoundError\u001b[0m: [Errno 2] No such file or directory: '/data/LiftFly3D/prism/data_unoriented/bottom_view/videos/crop_loc_191125_PR_Fly1_004_prism.txt'"
     ]
    }
   ],
   "source": [
    "#crop loc file\n",
    "def read_crop_pos(file):\n",
    "    f=open(file, \"r\")\n",
    "    contents =f.readlines()\n",
    "    im_file = []\n",
    "    x_pos = []\n",
    "    for i in range(4,len(contents)):\n",
    "        line = contents[i][:-1].split(' ')\n",
    "        im_file.append(line[0])\n",
    "        x_pos.append(line[1])\n",
    "        \n",
    "    return im_file, x_pos\n",
    "\n",
    "\n",
    "def plot_skeleton(x, y,id_range, color_edge,  ax=None):\n",
    "           \n",
    "    for i, j in enumerate(G.edges()): \n",
    "        if (j[0] >= id_range[0]) & (j[0] <= id_range[1]) & (j[0] >= id_range[0]) & (j[1] <= id_range[1]):\n",
    "            u = np.array((x[j[0]], x[j[1]]))\n",
    "            v = np.array((y[j[0]], y[j[1]]))\n",
    "            if ax is not None:\n",
    "                ax.plot(u, v, c=color_edge[i], alpha=1.0, linewidth = 2)\n",
    "            else:\n",
    "                plt.plot(u, v, c=color_edge[i], alpha=1.0, linewidth = 2)\n",
    "\n",
    "im_file, x_pos = read_crop_pos(home_dir + crop_positions[3])"
   ]
  },
  {
   "cell_type": "code",
   "execution_count": 4,
   "metadata": {},
   "outputs": [
    {
     "ename": "FileNotFoundError",
     "evalue": "[Errno 2] No such file or directory: '/data/LiftFly3D/prism/191125_PR_Fly1_004_prism.pkl'",
     "output_type": "error",
     "traceback": [
      "\u001b[0;31m---------------------------------------------------------------------------\u001b[0m",
      "\u001b[0;31mFileNotFoundError\u001b[0m                         Traceback (most recent call last)",
      "\u001b[0;32m<ipython-input-4-c06b656351fe>\u001b[0m in \u001b[0;36m<module>\u001b[0;34m\u001b[0m\n\u001b[1;32m      1\u001b[0m \u001b[0;31m#load DLC predictions\u001b[0m\u001b[0;34m\u001b[0m\u001b[0;34m\u001b[0m\u001b[0;34m\u001b[0m\u001b[0m\n\u001b[0;32m----> 2\u001b[0;31m \u001b[0mposes\u001b[0m \u001b[0;34m=\u001b[0m \u001b[0mpickle\u001b[0m\u001b[0;34m.\u001b[0m\u001b[0mload\u001b[0m\u001b[0;34m(\u001b[0m\u001b[0mopen\u001b[0m\u001b[0;34m(\u001b[0m\u001b[0mhome_dir\u001b[0m \u001b[0;34m+\u001b[0m \u001b[0mDLC_predictions\u001b[0m\u001b[0;34m[\u001b[0m\u001b[0;36m3\u001b[0m\u001b[0;34m]\u001b[0m\u001b[0;34m,\u001b[0m \u001b[0;34m'rb'\u001b[0m\u001b[0;34m)\u001b[0m\u001b[0;34m)\u001b[0m\u001b[0;34m\u001b[0m\u001b[0;34m\u001b[0m\u001b[0m\n\u001b[0m\u001b[1;32m      3\u001b[0m \u001b[0mindex\u001b[0m \u001b[0;34m=\u001b[0m \u001b[0mposes\u001b[0m\u001b[0;34m[\u001b[0m\u001b[0;34m'index'\u001b[0m\u001b[0;34m]\u001b[0m\u001b[0;34m\u001b[0m\u001b[0;34m\u001b[0m\u001b[0m\n\u001b[1;32m      4\u001b[0m \u001b[0mflip_idx\u001b[0m \u001b[0;34m=\u001b[0m \u001b[0mposes\u001b[0m\u001b[0;34m[\u001b[0m\u001b[0;34m'flip_idx'\u001b[0m\u001b[0;34m]\u001b[0m\u001b[0;34m\u001b[0m\u001b[0;34m\u001b[0m\u001b[0m\n\u001b[1;32m      5\u001b[0m \u001b[0mG\u001b[0m\u001b[0;34m,\u001b[0m \u001b[0mcolor_edge\u001b[0m \u001b[0;34m=\u001b[0m \u001b[0mskeleton\u001b[0m\u001b[0;34m(\u001b[0m\u001b[0;34m)\u001b[0m\u001b[0;34m\u001b[0m\u001b[0;34m\u001b[0m\u001b[0m\n",
      "\u001b[0;31mFileNotFoundError\u001b[0m: [Errno 2] No such file or directory: '/data/LiftFly3D/prism/191125_PR_Fly1_004_prism.pkl'"
     ]
    }
   ],
   "source": [
    "#load DLC predictions\n",
    "poses = pickle.load(open(home_dir + DLC_predictions[3], 'rb'))\n",
    "index = poses['index']\n",
    "flip_idx = poses['flip_idx']\n",
    "G, color_edge = skeleton()"
   ]
  },
  {
   "cell_type": "code",
   "execution_count": null,
   "metadata": {},
   "outputs": [],
   "source": [
    "#cropped image\n",
    "i = 1\n",
    "\n",
    "bottom = poses['points2d'][0,i,:,:]\n",
    "side = poses['points2d'][1,i,:,:]\n",
    "\n",
    "im_crop_bottom = cv2.imread(data_dir + images_bottom[3] + im_file[index[i]],cv2.IMREAD_GRAYSCALE)\n",
    "im_crop_side = cv2.imread(data_dir + images_side[3] + im_file[index[i]],cv2.IMREAD_GRAYSCALE)\n",
    "\n",
    "bottom_x = bottom[:,0]\n",
    "bottom_y = bottom[:,1]\n",
    "side_x = side[:,0]\n",
    "side_y = side[:,1]\n",
    "\n",
    "f, (ax1, ax2) = plt.subplots(2, 1, sharey=True, figsize=(20,10))\n",
    "\n",
    "ax1.imshow(im_crop_bottom,cmap='gray', vmin=0, vmax=255)\n",
    "ax2.imshow(im_crop_side,cmap='gray', vmin=0, vmax=255)\n",
    "ax1.set_axis_off()\n",
    "ax2.set_axis_off()\n",
    "\n",
    "plot_skeleton(bottom_x, bottom_y, [0,29], color_edge, ax1)\n",
    "if flip_idx[i]==0:\n",
    "    plot_skeleton(side_x, side_y, [0,15], color_edge, ax2)\n",
    "if flip_idx[i]==1:\n",
    "    plot_skeleton(side_x, side_y, [15,29], color_edge, ax2)\n",
    "#plt.savefig('DLC_pred.svg')"
   ]
  },
  {
   "cell_type": "code",
   "execution_count": null,
   "metadata": {},
   "outputs": [],
   "source": [
    "#full image\n",
    "fig = plt.figure(figsize=(10,6))\n",
    "            \n",
    "metadata = dict(title='LiftFly3D prediction', artist='Nely',comment='Watch this!')\n",
    "writer = FFMpegWriter(fps=10, metadata=metadata)\n",
    "with writer.saving(fig, \"DLC_prediction.mp4\", 100):\n",
    "    for i in range(1000):\n",
    "        pos_pred = []\n",
    "        pos_tar = []\n",
    "        \n",
    "        plt.cla()\n",
    "        \n",
    "        bottom = poses['points2d'][0,i,:,:]\n",
    "        side = poses['points2d'][1,i,:,:]\n",
    "\n",
    "        bottom_x = bottom[:,0]\n",
    "        bottom_y = bottom[:,1]\n",
    "        side_x = side[:,0]\n",
    "        side_y = side[:,1]\n",
    "\n",
    "        im = plt.imread(data_dir + im_full[3] + im_file[index[i]])\n",
    "\n",
    "        plt.imshow(im,cmap='gray', vmin=0, vmax=255)\n",
    "        plt.axhline(horiz_crop, color=\"red\", linestyle=\"--\")\n",
    "        plt.axvline(border_width, color=\"red\", linestyle=\"--\")\n",
    "        plt.axvline(im.shape[1] - border_width, color=\"red\", linestyle=\"--\")\n",
    "                 \n",
    "        plot_skeleton(border_width + bottom_x + int(x_pos[index[i]]), bottom_y, [0,29], color_edge)\n",
    "        if flip_idx[i]==0:\n",
    "            plot_skeleton(border_width + side_x + int(x_pos[index[i]]), horiz_crop + side_y, [0,15], color_edge)\n",
    "        if flip_idx[i]==1:\n",
    "            plot_skeleton(border_width + side_x + int(x_pos[index[i]]), horiz_crop + side_y, [15,29], color_edge)\n",
    "        \n",
    "        plt.axis('off')\n",
    "        writer.grab_frame()    "
   ]
  },
  {
   "cell_type": "code",
   "execution_count": null,
   "metadata": {},
   "outputs": [],
   "source": [
    "#stack videos horizontally (call this in the folder where the images are)\n",
    "#ffmpeg -i prediction_cams.mp4 -i DLC_prediction.mp4 -filter_complex \"[0:v]scale=-1:600[v0];[v0][1:v]hstack=inputs=2\" output.mp4"
   ]
  }
 ],
 "metadata": {
  "kernelspec": {
   "display_name": "Python 3",
   "language": "python",
   "name": "python3"
  },
  "language_info": {
   "codemirror_mode": {
    "name": "ipython",
    "version": 3
   },
   "file_extension": ".py",
   "mimetype": "text/x-python",
   "name": "python",
   "nbconvert_exporter": "python",
   "pygments_lexer": "ipython3",
   "version": "3.7.6"
  }
 },
 "nbformat": 4,
 "nbformat_minor": 4
}
