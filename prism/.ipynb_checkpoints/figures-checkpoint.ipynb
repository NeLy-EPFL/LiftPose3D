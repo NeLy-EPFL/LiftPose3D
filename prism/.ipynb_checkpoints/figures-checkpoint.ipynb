{
 "cells": [
  {
   "cell_type": "markdown",
   "metadata": {},
   "source": [
    "# Videos"
   ]
  },
  {
   "cell_type": "code",
   "execution_count": 1,
   "metadata": {},
   "outputs": [],
   "source": [
    "import cv2\n",
    "import numpy as np\n",
    "import glob\n",
    "import pickle\n",
    "import matplotlib.pyplot as plt\n",
    "from skeleton import skeleton\n",
    "from matplotlib.animation import FFMpegWriter\n",
    "import matplotlib"
   ]
  },
  {
   "cell_type": "code",
   "execution_count": 2,
   "metadata": {},
   "outputs": [],
   "source": [
    "def read_convergence_info(file):\n",
    "    f=open(file, \"r\")\n",
    "    contents=f.readlines()\n",
    "    epoch, lr, loss_train, loss_test, err_test = [], [], [], [], []\n",
    "    for i in range(1,len(contents)):\n",
    "        line = contents[i][:-1].split('\\t')\n",
    "        epoch.append(float(line[0]))\n",
    "        lr.append(float(line[1]))\n",
    "        loss_train.append(float(line[2]))\n",
    "        loss_test.append(float(line[3]))\n",
    "        err_test.append(float(line[4]))\n",
    "        \n",
    "    return epoch, lr, loss_train, loss_test, err_test"
   ]
  },
  {
   "cell_type": "markdown",
   "metadata": {},
   "source": [
    "Folders"
   ]
  },
  {
   "cell_type": "code",
   "execution_count": null,
   "metadata": {},
   "outputs": [],
   "source": [
    "experiment = '180919_MDN_CsCh_Fly6_001_SG1_behData_images'\n",
    "root_folder = '/data/LiftFly3D/DF3D/data_DF3D/'\n",
    "dims_to_consider = [i for i in range(38) if i not in [15,16,17,18,34,35,36,37]] "
   ]
  },
  {
   "cell_type": "markdown",
   "metadata": {},
   "source": [
    "Plot 2D stacked hourglass prediction on images and save as a 25fps video (4x slower)"
   ]
  },
  {
   "cell_type": "code",
   "execution_count": null,
   "metadata": {},
   "outputs": [],
   "source": [
    "G, color_edge = skeleton()\n",
    "poses = pickle.load(open(root_folder + 'pose_result__data_paper_' + experiment + '.pkl', \"rb\"))\n",
    "poses = poses['points2d']\n",
    "poses = poses[:,:,dims_to_consider,:]\n",
    "poses.shape"
   ]
  },
  {
   "cell_type": "code",
   "execution_count": null,
   "metadata": {},
   "outputs": [],
   "source": [
    "cam=1 #5 #run twice for cam 1 and 5\n",
    "\n",
    "#load images\n",
    "files = glob.glob(root_folder + experiment + '/' + 'camera_' + str(cam) + '*.jpg')\n",
    "imgs = []\n",
    "for f in sorted(files):\n",
    "    img = cv2.imread(f)\n",
    "    if cam == 5:\n",
    "        img = np.fliplr(img)\n",
    "    imgs.append(img)\n",
    "    \n",
    "assert imgs != [], 'no files found'    \n",
    "\n",
    "#filter\n",
    "poses2d = poses[cam,:,:,:]\n",
    "poses2d = np.reshape(poses2d, (poses2d.shape[0], poses2d.shape[1]*poses2d.shape[2]))\n",
    "poses2d = filter_data({'data': poses2d}, window=5, order=2)['data']\n",
    "\n",
    "fig = plt.figure(figsize=(9.6,4.8))\n",
    "print(root_folder + experiment + '/' + 'camera_' + str(cam) + '*.jpg')\n",
    "metadata = dict(title='camera_' + str(cam), artist='LiftFly3D', comment='Watch this!')\n",
    "writer = FFMpegWriter(fps=25, metadata=metadata)\n",
    "with writer.saving(fig, root_folder + experiment + \"/camera_\" + str(cam) + \".mp4\", 100):\n",
    "    for t in range(poses.shape[1]):\n",
    "        plt.cla()\n",
    "        \n",
    "        plt.imshow(imgs[t])\n",
    "        #plt.text(750, 450, 'Camera ' + str(cam), color='white', size=20)\n",
    "        \n",
    "        for i, j in enumerate(G.edges()): \n",
    "            x = np.array((poses2d[t,2*j[0]], poses2d[t,2*j[1]]))\n",
    "            y = np.array((poses2d[t,2*j[0]+1], poses2d[t,2*j[1]+1]))\n",
    "                   \n",
    "            plt.plot(x, y, c=color_edge[i], alpha=1.0, linewidth = 2)    \n",
    "            \n",
    "        plt.axis('off')\n",
    "        fig.subplots_adjust(left=0, bottom=0, right=1, top=1, wspace=None, hspace=None)\n",
    "        \n",
    "        writer.grab_frame()"
   ]
  },
  {
   "cell_type": "markdown",
   "metadata": {},
   "source": [
    "Merge videos"
   ]
  },
  {
   "cell_type": "code",
   "execution_count": null,
   "metadata": {},
   "outputs": [],
   "source": [
    "#to create video_1.mp4, execute these commands in sequence in the folder where the images are\n",
    "\n",
    "#flip camera5 horizontally \n",
    "#ffmpeg -i camera_5.mp4 -vf hflip -c:a copy camera_5b.mp4\n",
    "\n",
    "#stack videos vertically (call this in the folder where the images are)\n",
    "#ffmpeg -i camera_1.mp4 -i camera_5b.mp4 -filter_complex vstack=inputs=2 stacked.mp4\n",
    "\n",
    "#annotate\n",
    "#ffmpeg -i stacked.mp4 -vf drawtext=\"fontfile=/home/gosztolai/Dropbox/github/fly_data_analysis/Liftfly3D/DF3D/helvetica.ttf: text='camera 1': fontcolor=white: fontsize=24: box=1: boxcolor=black@0.5: boxborderw=5: x=9*(w-text_w)/10: y=9*(h-text_h)/10/2\" -codec:a copy stacked_b.mp4\n",
    "#ffmpeg -i stacked_b.mp4 -vf drawtext=\"fontfile=/home/gosztolai/Dropbox/github/fly_data_analysis/Liftfly3D/DF3D/helvetica.ttf: text='camera 5': fontcolor=white: fontsize=24: box=1: boxcolor=black@0.5: boxborderw=5: x=9*(w-text_w)/10: y=9*(h-text_h)/10\" -codec:a copy stacked_2b.mp4\n",
    "\n",
    "#stack videos horizontally (call this in the folder where the images are)\n",
    "#ffmpeg -i prediction_cams.mp4 -i stacked_2b.mp4 -filter_complex \"[0:v]scale=-1:960[v0];[v0][1:v]hstack=inputs=2\" output.mp4"
   ]
  },
  {
   "cell_type": "markdown",
   "metadata": {},
   "source": [
    "# Errors"
   ]
  },
  {
   "cell_type": "markdown",
   "metadata": {},
   "source": [
    "Convergence"
   ]
  },
  {
   "cell_type": "code",
   "execution_count": 86,
   "metadata": {},
   "outputs": [
    {
     "data": {
      "text/plain": [
       "Text(0.5, 0, 'Iterations')"
      ]
     },
     "execution_count": 86,
     "metadata": {},
     "output_type": "execute_result"
    },
    {
     "data": {
      "image/png": "[encoded data removed]",
      "text/plain": [
       "<Figure size 432x288 with 1 Axes>"
      ]
     },
     "metadata": {
      "needs_background": "light"
     },
     "output_type": "display_data"
    }
   ],
   "source": [
    "root_folder = '/data/LiftFly3D/prism/data_oriented/training_data/'\n",
    "\n",
    "epoch, lr, loss_train, loss_test, err_test = read_convergence_info(root_folder +'log_train.txt')\n",
    "plt.plot(np.array(err_test)*15/1700)\n",
    "    \n",
    "plt.xlim([0, 100])\n",
    "plt.ylim([0.01,0.03])\n",
    "plt.ylabel('Training error')\n",
    "plt.xlabel('Iterations')\n",
    "#plt.savefig('training_error.svg')"
   ]
  },
  {
   "cell_type": "markdown",
   "metadata": {},
   "source": [
    "Joint errors"
   ]
  },
  {
   "cell_type": "code",
   "execution_count": 83,
   "metadata": {},
   "outputs": [],
   "source": [
    "import seaborn as sns\n",
    "import pandas as pd\n",
    "import os\n",
    "import torch\n",
    "import numpy as np\n",
    "import matplotlib.pyplot as plt\n",
    "\n",
    "root_dir = '/data/LiftFly3D/prism/data_oriented/test_data'\n",
    "scale = 2.5/400\n",
    "all_err = torch.load(root_dir + '/test_results.pth.tar')['all_err']\n",
    "all_err*=scale\n",
    "ttl_err = pd.DataFrame(all_err.reshape(-1,4)).dropna()\n",
    "ttl_err.columns.names = ['frame']\n",
    "ttl_err = ttl_err.rename(columns={0:'coxa-femur',1:'femur-tibia',2:'tibia-tarsus',3:'tarsus-tip'})\n",
    "ttl_err['total'] = ttl_err.mean(1)"
   ]
  },
  {
   "cell_type": "code",
   "execution_count": 84,
   "metadata": {},
   "outputs": [
    {
     "data": {
      "image/png": "[encoded data removed]",
      "text/plain": [
       "<Figure size 432x288 with 1 Axes>"
      ]
     },
     "metadata": {
      "needs_background": "light"
     },
     "output_type": "display_data"
    }
   ],
   "source": [
    "ttl_err1 = ttl_err.unstack().reset_index()\n",
    "ttl_err1 = ttl_err1.rename(columns={0:'Absolute error'})\n",
    "q = ttl_err1.quantile(q=0.99)\n",
    "ttl_err1 = ttl_err1.loc[ttl_err1['Absolute error'] < q['Absolute error']]\n",
    "sns.violinplot(x=\"frame\", y='Absolute error', data=ttl_err1,bw=0.4, width=0.4)\n",
    "plt.ylim([0,0.04])\n",
    "plt.savefig('error.svg')\n"
   ]
  },
  {
   "cell_type": "code",
   "execution_count": null,
   "metadata": {},
   "outputs": [],
   "source": []
  }
 ],
 "metadata": {
  "kernelspec": {
   "display_name": "Python 3",
   "language": "python",
   "name": "python3"
  },
  "language_info": {
   "codemirror_mode": {
    "name": "ipython",
    "version": 3
   },
   "file_extension": ".py",
   "mimetype": "text/x-python",
   "name": "python",
   "nbconvert_exporter": "python",
   "pygments_lexer": "ipython3",
   "version": "3.7.6"
  }
 },
 "nbformat": 4,
 "nbformat_minor": 4
}
