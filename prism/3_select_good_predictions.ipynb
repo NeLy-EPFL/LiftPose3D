{
 "cells": [
  {
   "cell_type": "code",
   "execution_count": 1,
   "metadata": {},
   "outputs": [],
   "source": [
    "import numpy as np\n",
    "import pandas as pd\n",
    "import glob\n",
    "from tqdm import tqdm\n",
    "import pickle\n",
    "import cv2\n",
    "from itertools import repeat\n",
    "import src.procrustes as procrustes\n",
    "import src.utils as utils"
   ]
  },
  {
   "cell_type": "code",
   "execution_count": 2,
   "metadata": {},
   "outputs": [],
   "source": [
    "home_dir = '/data/LiftFly3D/prism/'\n",
    "data_dir = '/mnt/NAS/SG/prism_data/'\n",
    "scorer_bottom = 'DLC_resnet50_jointTrackingDec13shuffle1_200000'\n",
    "scorer_side = 'DLC_resnet50_sideJointTrackingDec17shuffle1_200000'\n",
    "\n",
    "#joints whose confidence to consider\n",
    "leg_tips = ['tarsus tip front L', 'tarsus tip mid L', 'tarsus tip back L',\n",
    "          'tarsus tip front R', 'tarsus tip mid R', 'tarsus tip back R']\n",
    "\n",
    "crop_positions = ['/bottom_view/videos/crop_loc_191125_PR_Fly1_001_prism.txt',\n",
    "                  '/bottom_view/videos/crop_loc_191125_PR_Fly1_002_prism.txt',\n",
    "                  '/bottom_view/videos/crop_loc_191125_PR_Fly1_003_prism.txt',\n",
    "                  '/bottom_view/videos/crop_loc_191125_PR_Fly1_004_prism.txt',\n",
    "                  '/bottom_view/videos/crop_loc_191125_PR_Fly2_001_prism.txt',\n",
    "                  '/bottom_view/videos/crop_loc_191125_PR_Fly2_002_prism.txt',\n",
    "                  '/bottom_view/videos/crop_loc_191125_PR_Fly2_003_prism.txt',\n",
    "                  '/bottom_view/videos/crop_loc_191125_PR_Fly2_004_prism.txt']\n",
    "\n",
    "videos_side = ['side_view/videos/video_191125_PR_Fly1_001_prism',\n",
    "               'side_view/videos/video_191125_PR_Fly1_002_prism',\n",
    "               'side_view/videos/video_191125_PR_Fly1_003_prism',\n",
    "               'side_view/videos/video_191125_PR_Fly1_004_prism',\n",
    "               'side_view/videos/video_191125_PR_Fly2_001_prism',\n",
    "               'side_view/videos/video_191125_PR_Fly2_002_prism',\n",
    "               'side_view/videos/video_191125_PR_Fly2_003_prism',\n",
    "               'side_view/videos/video_191125_PR_Fly2_004_prism']\n",
    "\n",
    "videos_bottom =  ['bottom_view/videos/video_191125_PR_Fly1_001_prism',\n",
    "                  'bottom_view/videos/video_191125_PR_Fly1_002_prism',\n",
    "                  'bottom_view/videos/video_191125_PR_Fly1_003_prism',\n",
    "                  'bottom_view/videos/video_191125_PR_Fly1_004_prism',\n",
    "                  'bottom_view/videos/video_191125_PR_Fly2_001_prism',\n",
    "                  'bottom_view/videos/video_191125_PR_Fly2_002_prism',\n",
    "                  'bottom_view/videos/video_191125_PR_Fly2_003_prism',\n",
    "                  'bottom_view/videos/video_191125_PR_Fly2_004_prism']\n",
    "\n",
    "images_side = ['191125_PR/Fly1/001_prism/behData/images/side_view_prism_data_191125_PR_Fly1/',\n",
    "               '191125_PR/Fly1/002_prism/behData/images/side_view_prism_data_191125_PR_Fly1/',\n",
    "               '191125_PR/Fly1/003_prism/behData/images/side_view_prism_data_191125_PR_Fly1/',\n",
    "               '191125_PR/Fly1/004_prism/behData/images/side_view_prism_data_191125_PR_Fly1/',\n",
    "               '191125_PR/Fly2/001_prism/behData/images/side_view_prism_data_191125_PR_Fly2/',\n",
    "               '191125_PR/Fly2/002_prism/behData/images/side_view_prism_data_191125_PR_Fly2/',\n",
    "               '191125_PR/Fly2/003_prism/behData/images/side_view_prism_data_191125_PR_Fly2/',\n",
    "               '191125_PR/Fly2/004_prism/behData/images/side_view_prism_data_191125_PR_Fly2/']\n",
    "\n",
    "images_bottom =  ['191125_PR/Fly1/001_prism/behData/images/bottom_view_prism_data_191125_PR_Fly1/',\n",
    "                  '191125_PR/Fly1/002_prism/behData/images/bottom_view_prism_data_191125_PR_Fly1/',\n",
    "                  '191125_PR/Fly1/003_prism/behData/images/bottom_view_prism_data_191125_PR_Fly1/',\n",
    "                  '191125_PR/Fly1/004_prism/behData/images/bottom_view_prism_data_191125_PR_Fly1/',\n",
    "                  '191125_PR/Fly2/001_prism/behData/images/bottom_view_prism_data_191125_PR_Fly2/',\n",
    "                  '191125_PR/Fly2/002_prism/behData/images/bottom_view_prism_data_191125_PR_Fly2/',\n",
    "                  '191125_PR/Fly2/003_prism/behData/images/bottom_view_prism_data_191125_PR_Fly2/',\n",
    "                  '191125_PR/Fly2/004_prism/behData/images/bottom_view_prism_data_191125_PR_Fly2/']\n",
    "\n",
    "assert len(videos_side)==len(videos_bottom), 'Number of video files must be the same from side and bottom!'"
   ]
  },
  {
   "cell_type": "markdown",
   "metadata": {},
   "source": [
    "# Select mode"
   ]
  },
  {
   "cell_type": "code",
   "execution_count": 3,
   "metadata": {},
   "outputs": [],
   "source": [
    "mode= 'prediction' #0: train, 1: prediction, 2: DLC_video, 3: train_low_res\n",
    "\n",
    "if mode=='train':\n",
    "    th1 = 0.95 #confidence threshold\n",
    "    th2 = 10 #max L-R discrepancy in x coordinate\n",
    "    orient=1\n",
    "    align=1\n",
    "    fine_align=0\n",
    "    nice_epochs=0\n",
    "if mode=='prediction':\n",
    "    th1 = 0.9 #confidence threshold\n",
    "    th2 = 10 #max L-R discrepancy in x coordinate\n",
    "    orient=1\n",
    "    align=1\n",
    "    fine_align=1\n",
    "    nice_epochs=1\n",
    "if mode=='DLC_video':\n",
    "    th1 = 0.9 #confidence threshold\n",
    "    th2 = 10 #max L-R discrepancy in x coordinate\n",
    "    orient=0\n",
    "    align=0\n",
    "    fine_align=0\n",
    "    nice_epochs=1\n",
    "if mode=='train_low_res':\n",
    "    th1 = 0.95 #confidence threshold\n",
    "    th2 = 10 #max L-R discrepancy in x coordinate\n",
    "    orient=1\n",
    "    align=1\n",
    "    fine_align=0\n",
    "    nice_epochs=0"
   ]
  },
  {
   "cell_type": "markdown",
   "metadata": {},
   "source": [
    "Process data"
   ]
  },
  {
   "cell_type": "code",
   "execution_count": 4,
   "metadata": {},
   "outputs": [
    {
     "name": "stderr",
     "output_type": "stream",
     "text": [
      "\r",
      "  0%|          | 0/8 [00:00<?, ?it/s]"
     ]
    },
    {
     "name": "stdout",
     "output_type": "stream",
     "text": [
      "orient\n",
      "align\n",
      "fine align\n"
     ]
    },
    {
     "name": "stderr",
     "output_type": "stream",
     "text": [
      "\r",
      " 12%|█▎        | 1/8 [00:43<05:04, 43.53s/it]"
     ]
    },
    {
     "name": "stdout",
     "output_type": "stream",
     "text": [
      "nice epochs\n",
      "orient\n",
      "align\n",
      "fine align\n"
     ]
    },
    {
     "name": "stderr",
     "output_type": "stream",
     "text": [
      "\r",
      " 25%|██▌       | 2/8 [02:35<06:24, 64.08s/it]"
     ]
    },
    {
     "name": "stdout",
     "output_type": "stream",
     "text": [
      "nice epochs\n",
      "orient\n",
      "align\n",
      "fine align\n"
     ]
    },
    {
     "name": "stderr",
     "output_type": "stream",
     "text": [
      "\r",
      " 38%|███▊      | 3/8 [04:11<06:07, 73.49s/it]"
     ]
    },
    {
     "name": "stdout",
     "output_type": "stream",
     "text": [
      "nice epochs\n",
      "orient\n",
      "align\n",
      "fine align\n"
     ]
    },
    {
     "name": "stderr",
     "output_type": "stream",
     "text": [
      "\r",
      " 50%|█████     | 4/8 [04:47<04:09, 62.43s/it]"
     ]
    },
    {
     "name": "stdout",
     "output_type": "stream",
     "text": [
      "nice epochs\n",
      "orient\n",
      "align\n",
      "fine align\n"
     ]
    },
    {
     "name": "stderr",
     "output_type": "stream",
     "text": [
      "\r",
      " 62%|██████▎   | 5/8 [05:34<02:53, 57.71s/it]"
     ]
    },
    {
     "name": "stdout",
     "output_type": "stream",
     "text": [
      "nice epochs\n",
      "orient\n",
      "align\n"
     ]
    },
    {
     "name": "stderr",
     "output_type": "stream",
     "text": [
      "\r",
      " 75%|███████▌  | 6/8 [05:49<01:29, 44.80s/it]"
     ]
    },
    {
     "name": "stdout",
     "output_type": "stream",
     "text": [
      "fine align\n",
      "nice epochs\n",
      "orient\n",
      "align\n",
      "fine align\n"
     ]
    },
    {
     "name": "stderr",
     "output_type": "stream",
     "text": [
      "\r",
      " 88%|████████▊ | 7/8 [06:09<00:37, 37.64s/it]"
     ]
    },
    {
     "name": "stdout",
     "output_type": "stream",
     "text": [
      "nice epochs\n",
      "orient\n",
      "align\n"
     ]
    },
    {
     "name": "stderr",
     "output_type": "stream",
     "text": [
      "100%|██████████| 8/8 [06:25<00:00, 48.21s/it]"
     ]
    },
    {
     "name": "stdout",
     "output_type": "stream",
     "text": [
      "fine align\n",
      "nice epochs\n"
     ]
    },
    {
     "name": "stderr",
     "output_type": "stream",
     "text": [
      "\n"
     ]
    }
   ],
   "source": [
    "index = []\n",
    "side = pd.DataFrame()\n",
    "bottom = pd.DataFrame()\n",
    "flip_idx = None\n",
    "for i in tqdm(range(len(videos_side))):\n",
    "    #load data of side and bottom view\n",
    "    _side = pd.read_hdf(home_dir + videos_side[i] + scorer_side + '.h5')\n",
    "    _bottom = pd.read_hdf(home_dir + videos_bottom[i] + scorer_bottom + '.h5')\n",
    "    _side = _side.droplevel('scorer',axis=1) \n",
    "    _bottom = _bottom.droplevel('scorer',axis=1) \n",
    "    \n",
    "    #select for high confidence datapoints\n",
    "    _bottom, _side = utils.select_best_data(_bottom, _side, th1, th2, leg_tips)\n",
    "    \n",
    "    #check which way the flies are pointing\n",
    "    side_R_lk = _side.loc[:,(leg_tips[3:],'likelihood')] #high confidence on R joints means fly points right\n",
    "    flip_idx = (side_R_lk>th1).sum(1)==3\n",
    "    \n",
    "    #flip left and right side due to prism reflection\n",
    "    _side = utils.flip_LR(_side)\n",
    "    \n",
    "    #get epochs (list of lists of consecutive timesteps)\n",
    "    epochs = utils.get_epochs(_bottom)\n",
    "    \n",
    "    #orient all flies left\n",
    "    if orient: \n",
    "        print('orient')\n",
    "        _bottom, _side = utils.orient_left(_bottom, _side, th1, flip_idx)\n",
    "        \n",
    "    #align horizontally\n",
    "    if align: #1 for training and prediction, 0 for making of DLC video\n",
    "        print('align')\n",
    "        path_crop_pos = home_dir + crop_positions[i]\n",
    "        path_img = data_dir + images_bottom[i]\n",
    "        _bottom.loc[:,(slice(None),['x','y'])] = \\\n",
    "        _bottom.loc[:,(slice(None),['x','y'])].apply(lambda x: procrustes.rotate_to_horizontal(x, path_crop_pos, path_img), axis=1)\n",
    "        \n",
    "    #fine-align flies \n",
    "    if fine_align: #0 for training, 1 for prediction\n",
    "        print('fine align')\n",
    "        _bottom = procrustes.procrustes_on_epochs(_bottom, epochs)\n",
    "            \n",
    "    #take only those frames with at least 10 consecutive frames\n",
    "    if nice_epochs: #0 for training, 1 for prediction\n",
    "        print('nice epochs')\n",
    "        long_epochs = []\n",
    "        for e in range(len(epochs)-1):\n",
    "            if (len(epochs[e]) >= 5) | ((len(epochs[e])<5) & ((epochs[e+1][0] - epochs[e][-1]<5))):\n",
    "                long_epochs += epochs[e]\n",
    "                long_epochs += epochs[e+1]\n",
    "            \n",
    "        long_epochs=np.unique(long_epochs)  \n",
    "    \n",
    "        _bottom=_bottom.loc[long_epochs,:]\n",
    "        _side=_side.loc[long_epochs,:]\n",
    "        flip_idx = flip_idx[long_epochs]\n",
    "    \n",
    "    #save indices for later\n",
    "    index.append(_bottom.index.values)\n",
    "    \n",
    "    #convert & save to DF3D format\n",
    "    side_np = _side.loc[:,(slice(None),['x','y'])].to_numpy()\n",
    "    z = _side.loc[:,(slice(None),'y')].to_numpy()\n",
    "    side_np = np.stack((side_np[:,::2], side_np[:,1::2]), axis=2)\n",
    "\n",
    "    bottom_np = _bottom.loc[:,(slice(None),['x','y'])].to_numpy()\n",
    "    bottom_np = np.stack((bottom_np[:,::2], bottom_np[:,1::2]), axis=2)\n",
    "    \n",
    "    poses = {'points2d': np.stack((bottom_np, side_np), axis=0),\n",
    "             'points3d': np.concatenate((bottom_np, z[:,:,None]), axis=2),\n",
    "             'index':_side.index.values,\n",
    "             'flip_idx': np.array(flip_idx)\n",
    "            }\n",
    "    \n",
    "    #save\n",
    "    pickle.dump(poses,open(home_dir + videos_side[i].split('/')[-1][6:] + '.pkl', 'wb'))"
   ]
  },
  {
   "cell_type": "code",
   "execution_count": null,
   "metadata": {},
   "outputs": [],
   "source": []
  }
 ],
 "metadata": {
  "kernelspec": {
   "display_name": "Python 3",
   "language": "python",
   "name": "python3"
  },
  "language_info": {
   "codemirror_mode": {
    "name": "ipython",
    "version": 3
   },
   "file_extension": ".py",
   "mimetype": "text/x-python",
   "name": "python",
   "nbconvert_exporter": "python",
   "pygments_lexer": "ipython3",
   "version": "3.7.6"
  }
 },
 "nbformat": 4,
 "nbformat_minor": 4
}
