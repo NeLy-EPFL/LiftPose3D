{
 "cells": [
  {
   "cell_type": "code",
   "execution_count": 14,
   "metadata": {},
   "outputs": [],
   "source": [
    "import numpy as np\n",
    "import pandas as pd\n",
    "import glob\n",
    "from tqdm import tqdm"
   ]
  },
  {
   "cell_type": "code",
   "execution_count": 15,
   "metadata": {},
   "outputs": [],
   "source": [
    "th1 = 0.95 #confidence threshold\n",
    "th2 = 10 #max L-R discrepancy in x coordinate\n",
    "\n",
    "root_folder = '/data/LiftFly3D/prism/'\n",
    "scorer_bottom = 'DLC_resnet50_jointTrackingDec13shuffle1_200000'\n",
    "scorer_side = 'DLC_resnet50_sideJointTrackingDec17shuffle1_200000'\n",
    "\n",
    "#joints whose confidence to consider\n",
    "joints = ['tarsus tip front L', 'tarsus tip mid L', 'tarsus tip back L',\n",
    "          'tarsus tip front R', 'tarsus tip mid R', 'tarsus tip back R']\n",
    "\n",
    "crop_positions = ['/bottom_view/videos/crop_loc_191125_PR_Fly1_001_prism.txt',\n",
    "                  '/bottom_view/videos/crop_loc_191125_PR_Fly1_002_prism.txt',\n",
    "                  '/bottom_view/videos/crop_loc_191125_PR_Fly1_003_prism.txt',\n",
    "                  '/bottom_view/videos/crop_loc_191125_PR_Fly1_004_prism.txt',\n",
    "                  '/bottom_view/videos/crop_loc_191125_PR_Fly2_001_prism.txt',\n",
    "                  '/bottom_view/videos/crop_loc_191125_PR_Fly2_002_prism.txt',\n",
    "                  '/bottom_view/videos/crop_loc_191125_PR_Fly2_003_prism.txt',\n",
    "                  '/bottom_view/videos/crop_loc_191125_PR_Fly2_004_prism.txt']\n",
    "\n",
    "videos_side = ['side_view/videos/video_191125_PR_Fly1_001_prism',\n",
    "               'side_view/videos/video_191125_PR_Fly1_002_prism',\n",
    "               'side_view/videos/video_191125_PR_Fly1_003_prism',\n",
    "               'side_view/videos/video_191125_PR_Fly1_004_prism',\n",
    "               'side_view/videos/video_191125_PR_Fly2_001_prism',\n",
    "               'side_view/videos/video_191125_PR_Fly2_002_prism',\n",
    "               'side_view/videos/video_191125_PR_Fly2_003_prism',\n",
    "               'side_view/videos/video_191125_PR_Fly2_004_prism']\n",
    "\n",
    "videos_bottom =  ['bottom_view/videos/video_191125_PR_Fly1_001_prism',\n",
    "                  'bottom_view/videos/video_191125_PR_Fly1_002_prism',\n",
    "                  'bottom_view/videos/video_191125_PR_Fly1_003_prism',\n",
    "                  'bottom_view/videos/video_191125_PR_Fly1_004_prism',\n",
    "                  'bottom_view/videos/video_191125_PR_Fly2_001_prism',\n",
    "                  'bottom_view/videos/video_191125_PR_Fly2_002_prism',\n",
    "                  'bottom_view/videos/video_191125_PR_Fly2_003_prism',\n",
    "                  'bottom_view/videos/video_191125_PR_Fly2_004_prism']\n",
    "\n",
    "assert len(videos_side)==len(videos_bottom), 'Number of video files must be the same from side and bottom!'"
   ]
  },
  {
   "cell_type": "code",
   "execution_count": 16,
   "metadata": {},
   "outputs": [],
   "source": [
    "def read_crop_pos(file):\n",
    "    f=open(file, \"r\")\n",
    "    contents =f.readlines()\n",
    "    pos = []\n",
    "    for i in range(4,len(contents)):\n",
    "        line = contents[i][:-1].split(' ')\n",
    "        pos.append(int(line[1]))\n",
    "        \n",
    "    return pos    "
   ]
  },
  {
   "cell_type": "markdown",
   "metadata": {},
   "source": [
    "Filter for high quality frames"
   ]
  },
  {
   "cell_type": "code",
   "execution_count": 22,
   "metadata": {},
   "outputs": [
    {
     "name": "stderr",
     "output_type": "stream",
     "text": [
      "  0%|          | 0/8 [00:00<?, ?it/s]\n"
     ]
    },
    {
     "ename": "SystemExit",
     "evalue": "",
     "output_type": "error",
     "traceback": [
      "An exception has occurred, use %tb to see the full traceback.\n",
      "\u001b[0;31mSystemExit\u001b[0m\n"
     ]
    },
    {
     "name": "stderr",
     "output_type": "stream",
     "text": [
      "/home/gosztolai/anaconda3/envs/DLC_env/lib/python3.6/site-packages/IPython/core/interactiveshell.py:3327: UserWarning: To exit: use 'exit', 'quit', or Ctrl-D.\n",
      "  warn(\"To exit: use 'exit', 'quit', or Ctrl-D.\", stacklevel=1)\n"
     ]
    }
   ],
   "source": [
    "index = []\n",
    "side = pd.DataFrame()\n",
    "bottom = pd.DataFrame()\n",
    "for i in tqdm(range(len(videos_side))):\n",
    "    _side = pd.read_hdf(root_folder + videos_side[i] + scorer_side + '.h5')\n",
    "    _bottom = pd.read_hdf(root_folder + videos_bottom[i] + scorer_bottom + '.h5')\n",
    "    import sys\n",
    "    sys.exit()\n",
    "    \n",
    "    #drop scorer column label\n",
    "    _side = _side.droplevel('scorer',axis=1) \n",
    "    _bottom = _bottom.droplevel('scorer',axis=1) \n",
    "    \n",
    "    #add location of crop to get global coordinates\n",
    "    crop_loc = read_crop_pos(root_folder + crop_positions[i])\n",
    "    _side.loc[:,(slice(None),'x')] = _side.loc[:,(slice(None),'x')].add(crop_loc,axis=0)\n",
    "    _bottom.loc[:,(slice(None),'x')] = _bottom.loc[:,(slice(None),'x')].add(crop_loc,axis=0)\n",
    "    \n",
    "    #split L and R (remove if we include flipping) and select for high likelihood frames\n",
    "    side_L_lk = _side.loc[:,(joints[:3],'likelihood')]\n",
    "    side_R_lk = _side.loc[:,(joints[3:],'likelihood')]\n",
    "    bottom_lk = _bottom.loc[:,(joints,'likelihood')]\n",
    "    \n",
    "    mask = ( ((side_L_lk>th1).sum(1)==3) | ((side_R_lk>th1).sum(1)==3) ) & ((bottom_lk>th1).sum(1)==6)\n",
    "    _side = _side[mask].dropna()\n",
    "    _bottom = _bottom[mask].dropna()\n",
    "    \n",
    "    #sometimes DLC mixes up limbs so take only those frames there the x coordinate matches on side and bottom views\n",
    "    diff_L = np.abs(_bottom.loc[:,(joints[:3],'x')].values - _side.loc[:,(joints[3:],'x')].values)\n",
    "    diff_R = np.abs(_bottom.loc[:,(joints[3:],'x')].values - _side.loc[:,(joints[:3],'x')].values)\n",
    "    mask = ((diff_L<th2).sum(1)==3) | ((diff_R<th2).sum(1)==3)\n",
    "    _side = _side[mask].dropna()\n",
    "    _bottom = _bottom[mask].dropna()\n",
    "\n",
    "    assert _side.shape[0]==_bottom.shape[0], 'Number of rows must match in filtered data!'\n",
    "    \n",
    "    #collect index\n",
    "    side = side.append(_side)\n",
    "    bottom = bottom.append(_bottom)\n",
    "    index.append(_side.index.values)\n",
    "    \n",
    "    name = crop_positions[i].split('/')[-1].split('_')[2:]\n",
    "    _side.to_hdf(root_folder + 'prediction_filtered_' + name[2] + '_' +name[3] + '.h5', key='side', mode='w')\n",
    "    _bottom.to_hdf(root_folder + 'prediction_filtered_' + name[2] + '_' +name[3] + '.h5', key='bottom')"
   ]
  },
  {
   "cell_type": "code",
   "execution_count": 18,
   "metadata": {},
   "outputs": [],
   "source": [
    "#save\n",
    "side.to_hdf(root_folder + 'prediction_filtered.h5', key='side', mode='w')\n",
    "bottom.to_hdf(root_folder + 'prediction_filtered.h5', key='bottom')\n",
    "side = [] #this is just to free up memory\n",
    "bottom = []"
   ]
  },
  {
   "cell_type": "markdown",
   "metadata": {},
   "source": [
    "Make joint video"
   ]
  },
  {
   "cell_type": "code",
   "execution_count": 19,
   "metadata": {},
   "outputs": [],
   "source": [
    "import subprocess\n",
    "import cv2\n",
    "    \n",
    "def imgs_to_video(imgs, fps, out_path):\n",
    "    '''Write video from a list of images'''\n",
    "    \n",
    "    fourcc = cv2.VideoWriter_fourcc(*'mp4v') #‘F’, ‘M’, ‘P’, ‘4’\n",
    "    out = cv2.VideoWriter(out_path, fourcc, fps, (imgs[0].shape[1], imgs[0].shape[0]))\n",
    "                          #imgs[0].shape[:2])\n",
    "    for img in imgs:\n",
    "        out.write(cv2.cvtColor(img, cv2.COLOR_BGR2RGB))\n",
    "    out.release()\n",
    "    \n",
    "                          \n",
    "def video_to_imgs(vid_path):\n",
    "    '''Convert video to a list of images'''\n",
    "    \n",
    "    cap = cv2.VideoCapture(vid_path)         \n",
    "    imgs = []            \n",
    "    while True:\n",
    "        flag, frame = cap.read()\n",
    "        if flag:                            \n",
    "            imgs.append(frame)       \n",
    "        else:\n",
    "            break        \n",
    "    \n",
    "    return imgs\n",
    "                                          \n",
    "    \n",
    "def concat_vids(vid_name):   \n",
    "     \n",
    "    cmd = 'ffmpeg -f concat -safe 0 -i videos.txt -c copy ' + vid_name\n",
    "    subprocess.call(cmd, shell=True)\n",
    "\n",
    "    \n",
    "def videos_to_concat(paths):\n",
    "    '''\n",
    "    Make a textfile with paths to videos to concatenate\n",
    "    '''\n",
    "    f = open('videos.txt','w+')\n",
    "    for i in paths:\n",
    "        f.write(\"file '\" + i + \"'\\r\\n\")\n",
    "        \n",
    "    f.close()"
   ]
  },
  {
   "cell_type": "code",
   "execution_count": 20,
   "metadata": {},
   "outputs": [
    {
     "name": "stderr",
     "output_type": "stream",
     "text": [
      "\r",
      "  0%|          | 0/8 [00:00<?, ?it/s]"
     ]
    },
    {
     "name": "stdout",
     "output_type": "stream",
     "text": [
      "create videos\n"
     ]
    },
    {
     "name": "stderr",
     "output_type": "stream",
     "text": [
      "100%|██████████| 8/8 [00:24<00:00,  3.03s/it]\n"
     ]
    },
    {
     "name": "stdout",
     "output_type": "stream",
     "text": [
      "concatenate videos\n"
     ]
    },
    {
     "name": "stderr",
     "output_type": "stream",
     "text": [
      "\r",
      "  0%|          | 0/8 [00:00<?, ?it/s]"
     ]
    },
    {
     "name": "stdout",
     "output_type": "stream",
     "text": [
      "create videos\n"
     ]
    },
    {
     "name": "stderr",
     "output_type": "stream",
     "text": [
      "100%|██████████| 8/8 [00:38<00:00,  4.79s/it]\n"
     ]
    },
    {
     "name": "stdout",
     "output_type": "stream",
     "text": [
      "concatenate videos\n",
      "stack videos\n"
     ]
    },
    {
     "data": {
      "text/plain": [
       "0"
      ]
     },
     "execution_count": 20,
     "metadata": {},
     "output_type": "execute_result"
    }
   ],
   "source": [
    "print('create videos')\n",
    "paths = []\n",
    "for i in tqdm(range(len(videos_side))):       \n",
    "    #extract frames\n",
    "    frames = video_to_imgs(root_folder + videos_side[i] + scorer_side + '_labeled.mp4') #convert to frames\n",
    "    frames = [frames[j] for j in index[i]] #prune frames\n",
    "    paths.append(root_folder + 'side_' + str(i) + '.mp4') #save output video path for later\n",
    "    imgs_to_video(frames, 50, paths[i]) #convert back to video\n",
    "frames = [] #to free up memory \n",
    "    \n",
    "print('concatenate videos')\n",
    "videos_to_concat(paths)\n",
    "concat_vids(root_folder + 'side.mp4')\n",
    "    \n",
    "print('create videos')    \n",
    "paths = []\n",
    "for i in tqdm(range(len(videos_bottom))):    \n",
    "    #extract frames\n",
    "    frames = video_to_imgs(root_folder + videos_bottom[i] + scorer_bottom + '_labeled.mp4') #convert to frames\n",
    "    frames = [frames[j] for j in index[i]] #prune frames\n",
    "    paths.append(root_folder + 'bottom_' + str(i) + '.mp4') #save output video path for later\n",
    "    imgs_to_video(frames, 50, paths[i]) #convert back to video\n",
    "\n",
    "frames = [] #to free up memory    \n",
    "print('concatenate videos')\n",
    "videos_to_concat(paths)\n",
    "concat_vids(root_folder + 'bottom.mp4')    \n",
    "\n",
    "print('stack videos')\n",
    "ffmpeg_cmd = \"ffmpeg -i \" + root_folder + \"side.mp4 -i \" + root_folder + \"bottom.mp4 -filter_complex vstack=inputs=2 \" + root_folder + \"stacked.mp4\"\n",
    "subprocess.call(ffmpeg_cmd, shell=True)"
   ]
  },
  {
   "cell_type": "code",
   "execution_count": null,
   "metadata": {},
   "outputs": [],
   "source": []
  }
 ],
 "metadata": {
  "kernelspec": {
   "display_name": "Python 3",
   "language": "python",
   "name": "python3"
  },
  "language_info": {
   "codemirror_mode": {
    "name": "ipython",
    "version": 3
   },
   "file_extension": ".py",
   "mimetype": "text/x-python",
   "name": "python",
   "nbconvert_exporter": "python",
   "pygments_lexer": "ipython3",
   "version": "3.6.10"
  }
 },
 "nbformat": 4,
 "nbformat_minor": 4
}
