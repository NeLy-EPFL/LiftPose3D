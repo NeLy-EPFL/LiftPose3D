{
 "cells": [
  {
   "cell_type": "markdown",
   "metadata": {},
   "source": [
    "# Convergence"
   ]
  },
  {
   "cell_type": "code",
   "execution_count": null,
   "metadata": {},
   "outputs": [],
   "source": [
    "import matplotlib.pyplot as plt\n",
    "root_folder = '/data/LiftFly3D/DF3D/'\n",
    "\n",
    "def read_convergence_info(file):\n",
    "    f=open(file, \"r\")\n",
    "    contents=f.readlines()\n",
    "    epoch, lr, loss_train, loss_test, err_test = [], [], [], [], []\n",
    "    for i in range(1,len(contents)):\n",
    "        line = contents[i][:-1].split('\\t')\n",
    "        epoch.append(float(line[0]))\n",
    "        lr.append(float(line[1]))\n",
    "        loss_train.append(float(line[2]))\n",
    "        loss_test.append(float(line[3]))\n",
    "        err_test.append(float(line[4]))\n",
    "        \n",
    "    return epoch, lr, loss_train, loss_test, err_test\n",
    "\n",
    "for cam in ['cam_0', 'cam_1', 'cam_2']:\n",
    "    epoch, lr, loss_train, loss_test, err_test = read_convergence_info(root_folder + cam +'/log_train.txt')\n",
    "    plt.plot(err_test)\n",
    "    \n",
    "#plt.xscale('log')\n",
    "plt.xlim([1, 100]) "
   ]
  },
  {
   "cell_type": "markdown",
   "metadata": {},
   "source": [
    "# Errors"
   ]
  },
  {
   "cell_type": "code",
   "execution_count": null,
   "metadata": {},
   "outputs": [],
   "source": [
    "root_folder = '/home/gosztolai/Dropbox/github/fly_data_analysis/LiftFly3D/DF3D'\n",
    "\n",
    "def read_convergence_info(file):\n",
    "    f=open(file, \"r\")\n",
    "    contents=f.readlines()\n",
    "    errH, errM, errF, errtotal = [], [], [], []\n",
    "    for i in range(1,len(contents)):\n",
    "        line = contents[i].split('\\t')\n",
    "        errH.append(float(line[0]))\n",
    "        errM.append(float(line[1]))\n",
    "        errF.append(float(line[2]))\n",
    "        if i < 4:\n",
    "            errtotal.append(float(line[3]))\n",
    "        \n",
    "    return errH, errM, errF, errtotal\n",
    "\n",
    "errH, errM, errF, errtotal = read_convergence_info(root_folder + '/cam_angle_test_errors.txt')        "
   ]
  },
  {
   "cell_type": "code",
   "execution_count": null,
   "metadata": {},
   "outputs": [],
   "source": [
    "import numpy as np\n",
    "np.array(errtotal)"
   ]
  },
  {
   "cell_type": "markdown",
   "metadata": {},
   "source": [
    "# Videos"
   ]
  },
  {
   "cell_type": "code",
   "execution_count": 7,
   "metadata": {},
   "outputs": [],
   "source": [
    "import cv2\n",
    "import numpy as np\n",
    "import glob\n",
    "import pickle\n",
    "import matplotlib.pyplot as plt\n",
    "from skeleton import skeleton\n",
    "from matplotlib.animation import FFMpegWriter\n",
    "import matplotlib\n",
    "matplotlib.use(\"Agg\")"
   ]
  },
  {
   "cell_type": "markdown",
   "metadata": {},
   "source": [
    "Folders"
   ]
  },
  {
   "cell_type": "code",
   "execution_count": 2,
   "metadata": {},
   "outputs": [],
   "source": [
    "experiment = '180920_MDN_CsCh_Fly8_002_SG1_behData_images'\n",
    "root_folder = '/data/LiftFly3D/DF3D/'"
   ]
  },
  {
   "cell_type": "markdown",
   "metadata": {},
   "source": [
    "Plot DF3D prediction on images and save as a 25fps video"
   ]
  },
  {
   "cell_type": "code",
   "execution_count": 3,
   "metadata": {},
   "outputs": [
    {
     "data": {
      "text/plain": [
       "(7, 900, 38, 2)"
      ]
     },
     "execution_count": 3,
     "metadata": {},
     "output_type": "execute_result"
    }
   ],
   "source": [
    "G, color_edge = skeleton()\n",
    "poses = pickle.load(open(root_folder + 'pose_result__data_paper_' + experiment + '.pkl', \"rb\"))\n",
    "poses = poses['points2d']\n",
    "poses.shape"
   ]
  },
  {
   "cell_type": "code",
   "execution_count": 13,
   "metadata": {},
   "outputs": [],
   "source": [
    "cam=1 #5 #run twice for cam 1 and 5\n",
    "\n",
    "#load images\n",
    "files = glob.glob(root_folder + experiment + '/' + 'camera_' + str(cam) + '*.jpg')\n",
    "imgs = []\n",
    "for f in sorted(files):\n",
    "    img = cv2.imread(f)\n",
    "    if cam == 5:\n",
    "        img = np.fliplr(img)\n",
    "    imgs.append(img)\n",
    "\n",
    "fig = plt.figure()\n",
    "ax = fig.add_subplot(111)\n",
    "\n",
    "metadata = dict(title='camera_' + str(cam), artist='LiftFly3D', comment='Watch this!')\n",
    "writer = FFMpegWriter(fps=25, metadata=metadata)\n",
    "with writer.saving(fig, root_folder + experiment + \"/camera_\" + str(cam) + \".mp4\", 100):\n",
    "    for t in range(poses.shape[1]):\n",
    "        ax.cla()\n",
    "        \n",
    "        ax.imshow(imgs[t])\n",
    "        \n",
    "        for i, j in enumerate(G.edges()): \n",
    "            x = np.array((poses[cam,t,j[0],0], poses[cam,t,j[1],0]))\n",
    "            y = np.array((poses[cam,t,j[0],1], poses[cam,t,j[1],1]))\n",
    "                   \n",
    "            ax.plot(x, y, c=color_edge[i], alpha=1.0, linewidth = 2)\n",
    "            \n",
    "        ax.set_axis_off()    \n",
    "        \n",
    "        writer.grab_frame()"
   ]
  },
  {
   "cell_type": "code",
   "execution_count": null,
   "metadata": {},
   "outputs": [],
   "source": [
    "#flip camera5 horizontally \n",
    "#ffmpeg -i camera_5.mp4 -vf hflip -c:a copy camera_5.mp4\n",
    "\n",
    "#stack videos vertically (call this in the folder where the images are)\n",
    "#ffmpeg -i camera_1.mp4 -i camera_5.mp4 -filter_complex vstack=inputs=2 stacked.mp4\n",
    "\n",
    "#stack videos horizontally (call this in the folder where the images are)\n",
    "#ffmpeg -i prediction_cams.mp4 -i stacked.mp4 -filter_complex \"[0:v]scale=-1:800[v0];[v0][1:v]hstack=inputs=2\" output.mp4"
   ]
  },
  {
   "cell_type": "code",
   "execution_count": null,
   "metadata": {},
   "outputs": [],
   "source": []
  }
 ],
 "metadata": {
  "kernelspec": {
   "display_name": "Python 3",
   "language": "python",
   "name": "python3"
  },
  "language_info": {
   "codemirror_mode": {
    "name": "ipython",
    "version": 3
   },
   "file_extension": ".py",
   "mimetype": "text/x-python",
   "name": "python",
   "nbconvert_exporter": "python",
   "pygments_lexer": "ipython3",
   "version": "3.7.6"
  }
 },
 "nbformat": 4,
 "nbformat_minor": 4
}
