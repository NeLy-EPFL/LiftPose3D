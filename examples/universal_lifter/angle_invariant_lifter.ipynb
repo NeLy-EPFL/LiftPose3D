{
 "cells": [
  {
   "cell_type": "markdown",
   "metadata": {},
   "source": [
    "# Load DeepFly3D Data"
   ]
  },
  {
   "cell_type": "code",
   "execution_count": 1,
   "metadata": {},
   "outputs": [],
   "source": [
    "%load_ext autoreload\n",
    "%autoreload 2\n",
    "from load import *\n",
    "import torch\n",
    "import yaml\n",
    "import logging\n",
    "from imp import reload\n",
    "import matplotlib.pyplot as plt\n",
    "from liftpose.vision_3d import transform_frame\n",
    "reload(logging)\n",
    "logger = logging.getLogger(__name__).setLevel(logging.INFO)\n",
    "\n",
    "#import os\n",
    "#os.environ[\"CUDA_VISIBLE_DEVICES\"] = \"0\"\n",
    "\n",
    "# decleare data parameters\n",
    "par_train = {'data_dir' : '/data/LiftPose3D/fly_tether/data_DF3D', # change the path \n",
    "       'out_dir'        : '/data/LiftPose3D/fly_tether/',\n",
    "       'train_subjects' : [1],\n",
    "       'test_subjects'  : [6,7],\n",
    "       'actions'        : ['all'],\n",
    "       'cam_id'         : [2,5]}\n",
    "\n",
    "# merge with training parameters\n",
    "par_data = yaml.full_load(open('param.yaml', \"rb\"))\n",
    "par = {**par_data[\"data\"], **par_train}\n",
    "\n",
    "# Load 2D data\n",
    "train_2d = load_2D(\n",
    "    par[\"data_dir\"],\n",
    "    par,\n",
    "    cam_id=par[\"cam_id\"],\n",
    "    subjects=par[\"train_subjects\"],\n",
    "    actions=par[\"actions\"],\n",
    ")\n",
    "test_2d = load_2D(\n",
    "    par[\"data_dir\"],\n",
    "    par,\n",
    "    cam_id=par[\"cam_id\"],\n",
    "    subjects=par[\"test_subjects\"],\n",
    "    actions=par[\"actions\"],\n",
    ")\n",
    "\n",
    "# Load 3D data\n",
    "train_3d, _, rcams_train = load_3D(\n",
    "    par[\"data_dir\"],\n",
    "    par,\n",
    "    cam_id=par[\"cam_id\"],\n",
    "    subjects=par[\"train_subjects\"],\n",
    "    actions=par[\"actions\"],\n",
    ")\n",
    "test_3d, _, rcams_test = load_3D(\n",
    "    par[\"data_dir\"],\n",
    "    par,\n",
    "    cam_id=par[\"cam_id\"],\n",
    "    subjects=par[\"test_subjects\"],\n",
    "    actions=par[\"actions\"],\n",
    ")\n",
    "\n",
    "\n",
    "train_3d = transform_frame(train_3d, rcams_train)\n",
    "test_3d = transform_frame(test_3d, rcams_test)"
   ]
  },
  {
   "cell_type": "markdown",
   "metadata": {},
   "source": [
    "# Train LiftPose3D Network on DeepFly3D Data"
   ]
  },
  {
   "cell_type": "code",
   "execution_count": 2,
   "metadata": {},
   "outputs": [
    {
     "name": "stdout",
     "output_type": "stream",
     "text": [
      "[main.py:180]:INFO:Saving pre-processed 2D data at /home/gosztolai/Dropbox/github/LiftPose3D/examples/universal_lifter/out/stat_2d.pth.tar.\n",
      "[main.py:202]:INFO:Saving pre-processed 3D data at /home/gosztolai/Dropbox/github/LiftPose3D/examples/universal_lifter/outstat_3d.pth.tar.\n",
      "[main.py:229]:INFO:Starting training model.\n",
      "[main.py:238]:DEBUG:\n",
      "==================Options=================\n",
      "[main.py:239]:DEBUG:{   'batch_size': 128,\n",
      "    'data_dir': '/home/gosztolai/Dropbox/github/LiftPose3D/examples/universal_lifter/out',\n",
      "    'dropout': 0.5,\n",
      "    'epochs': 30,\n",
      "    'exp': '',\n",
      "    'is_train': True,\n",
      "    'job': 8,\n",
      "    'linear_size': 1024,\n",
      "    'load': None,\n",
      "    'lr': 0.001,\n",
      "    'lr_decay': 5000,\n",
      "    'lr_gamma': 0.9,\n",
      "    'max_norm': True,\n",
      "    'noise': None,\n",
      "    'num_stage': 2,\n",
      "    'out': '/home/gosztolai/Dropbox/github/LiftPose3D/examples/universal_lifter/out',\n",
      "    'out_dir': '/home/gosztolai/Dropbox/github/LiftPose3D/examples/universal_lifter/out',\n",
      "    'predict': False,\n",
      "    'procrustes': False,\n",
      "    'resume': False,\n",
      "    'test': False}\n",
      "[main.py:240]:DEBUG:==========================================\n",
      "\n",
      "[lift.py:30]:INFO:Training on the device: cuda:0\n",
      "[lift.py:56]:INFO:total params: 4.27M\n"
     ]
    },
    {
     "name": "stderr",
     "output_type": "stream",
     "text": [
      "Epoch 000 | LR  0.00100 | Loss Test  0.00000 | Loss Train  0.43083|: 100%|██████████| 1646/1646 [00:09<00:00, 169.61it/s]\n",
      "Epoch 001 | LR  0.00100 | Loss Test  0.11283 | Loss Train  0.16664|: 100%|██████████| 1646/1646 [00:09<00:00, 170.88it/s]\n",
      "Epoch 002 | LR  0.00100 | Loss Test  0.09578 | Loss Train  0.15179|: 100%|██████████| 1646/1646 [00:09<00:00, 171.92it/s]\n",
      "Epoch 003 | LR  0.00090 | Loss Test  0.08857 | Loss Train  0.14180|: 100%|██████████| 1646/1646 [00:09<00:00, 171.99it/s]\n",
      "Epoch 004 | LR  0.00090 | Loss Test  0.07957 | Loss Train  0.13657|: 100%|██████████| 1646/1646 [00:09<00:00, 175.80it/s]\n",
      "Epoch 005 | LR  0.00090 | Loss Test  0.07550 | Loss Train  0.13213|: 100%|██████████| 1646/1646 [00:09<00:00, 170.49it/s]\n",
      "Epoch 006 | LR  0.00081 | Loss Test  0.07268 | Loss Train  0.12796|: 100%|██████████| 1646/1646 [00:09<00:00, 173.84it/s]\n",
      "Epoch 007 | LR  0.00081 | Loss Test  0.07132 | Loss Train  0.12560|: 100%|██████████| 1646/1646 [00:09<00:00, 171.74it/s]\n",
      "Epoch 008 | LR  0.00081 | Loss Test  0.06905 | Loss Train  0.12310|: 100%|██████████| 1646/1646 [00:09<00:00, 171.63it/s]\n",
      "Epoch 009 | LR  0.00073 | Loss Test  0.06661 | Loss Train  0.12078|: 100%|██████████| 1646/1646 [00:09<00:00, 171.82it/s]\n",
      "Epoch 010 | LR  0.00073 | Loss Test  0.06480 | Loss Train  0.11920|: 100%|██████████| 1646/1646 [00:09<00:00, 171.79it/s]\n",
      "Epoch 011 | LR  0.00073 | Loss Test  0.06402 | Loss Train  0.11802|: 100%|██████████| 1646/1646 [00:09<00:00, 172.86it/s]\n",
      "Epoch 012 | LR  0.00066 | Loss Test  0.06352 | Loss Train  0.11622|: 100%|██████████| 1646/1646 [00:09<00:00, 172.50it/s]\n",
      "Epoch 013 | LR  0.00066 | Loss Test  0.06220 | Loss Train  0.11534|: 100%|██████████| 1646/1646 [00:09<00:00, 168.98it/s]\n",
      "Epoch 014 | LR  0.00066 | Loss Test  0.06084 | Loss Train  0.11420|: 100%|██████████| 1646/1646 [00:09<00:00, 174.61it/s]\n",
      "Epoch 015 | LR  0.00059 | Loss Test  0.06087 | Loss Train  0.11296|: 100%|██████████| 1646/1646 [00:09<00:00, 172.34it/s]\n",
      "Epoch 016 | LR  0.00059 | Loss Test  0.05979 | Loss Train  0.11220|: 100%|██████████| 1646/1646 [00:09<00:00, 168.32it/s]\n",
      "Epoch 017 | LR  0.00059 | Loss Test  0.05864 | Loss Train  0.11147|: 100%|██████████| 1646/1646 [00:09<00:00, 172.23it/s]\n",
      "Epoch 018 | LR  0.00053 | Loss Test  0.05885 | Loss Train  0.11040|: 100%|██████████| 1646/1646 [00:09<00:00, 171.77it/s]\n",
      "Epoch 019 | LR  0.00053 | Loss Test  0.05789 | Loss Train  0.10993|: 100%|██████████| 1646/1646 [00:09<00:00, 172.58it/s]\n",
      "Epoch 020 | LR  0.00053 | Loss Test  0.05763 | Loss Train  0.10928|: 100%|██████████| 1646/1646 [00:09<00:00, 173.24it/s]\n",
      "Epoch 021 | LR  0.00048 | Loss Test  0.05700 | Loss Train  0.10877|: 100%|██████████| 1646/1646 [00:09<00:00, 172.87it/s]\n",
      "Epoch 022 | LR  0.00048 | Loss Test  0.05683 | Loss Train  0.10767|: 100%|██████████| 1646/1646 [00:09<00:00, 174.04it/s]\n",
      "Epoch 023 | LR  0.00048 | Loss Test  0.05720 | Loss Train  0.10775|: 100%|██████████| 1646/1646 [00:09<00:00, 170.20it/s]\n",
      "Epoch 024 | LR  0.00043 | Loss Test  0.05618 | Loss Train  0.10707|: 100%|██████████| 1646/1646 [00:09<00:00, 167.77it/s]\n",
      "Epoch 025 | LR  0.00043 | Loss Test  0.05569 | Loss Train  0.10647|: 100%|██████████| 1646/1646 [00:09<00:00, 174.56it/s]\n",
      "Epoch 026 | LR  0.00043 | Loss Test  0.05640 | Loss Train  0.10618|: 100%|██████████| 1646/1646 [00:09<00:00, 172.28it/s]\n",
      "Epoch 027 | LR  0.00039 | Loss Test  0.05580 | Loss Train  0.10561|: 100%|██████████| 1646/1646 [00:09<00:00, 168.78it/s]\n",
      "Epoch 028 | LR  0.00039 | Loss Test  0.05551 | Loss Train  0.10526|: 100%|██████████| 1646/1646 [00:09<00:00, 174.62it/s]\n",
      "Epoch 029 | LR  0.00039 | Loss Test  0.05490 | Loss Train  0.10502|: 100%|██████████| 1646/1646 [00:09<00:00, 172.64it/s]\n"
     ]
    }
   ],
   "source": [
    "from liftpose.main import train as lp3d_train\n",
    "\n",
    "lp3d_train(train_2d=train_2d, test_2d=test_2d, train_3d=train_3d, test_3d=test_3d, \n",
    "           **{k:par[k] for k in ['roots', 'target_sets', 'out_dir']})"
   ]
  },
  {
   "cell_type": "code",
   "execution_count": null,
   "metadata": {},
   "outputs": [],
   "source": [
    "%matplotlib inline\n",
    "from liftpose.plot import read_log_train, plot_log_train\n",
    "epoch, lr, loss_train, loss_test, err_test = read_log_train(par['out_dir'])\n",
    "plot_log_train(plt.gca(), loss_train, loss_test, epoch)"
   ]
  },
  {
   "cell_type": "markdown",
   "metadata": {},
   "source": [
    "# Run Trained LiftPose3D Network on the Test Data"
   ]
  },
  {
   "cell_type": "code",
   "execution_count": null,
   "metadata": {},
   "outputs": [],
   "source": [
    "from liftpose.main import test as lp3d_test\n",
    "lp3d_test(par['out_dir'])"
   ]
  },
  {
   "cell_type": "markdown",
   "metadata": {},
   "source": [
    "# Visualize Predictions"
   ]
  },
  {
   "cell_type": "code",
   "execution_count": null,
   "metadata": {},
   "outputs": [],
   "source": [
    "from liftpose.postprocess import load_test_results\n",
    "data = torch.load(os.path.join(par['out_dir'], \"test_results.pth.tar\"))\n",
    "stat_2d, stat_3d = (\n",
    "    torch.load(os.path.join(par['out_dir'], \"stat_2d.pth.tar\")),\n",
    "    torch.load(os.path.join(par['out_dir'], \"stat_3d.pth.tar\")),\n",
    ")\n",
    "test_3d_gt, test_3d_pred = load_test_results(data, stat_2d, stat_3d)"
   ]
  },
  {
   "cell_type": "code",
   "execution_count": null,
   "metadata": {},
   "outputs": [],
   "source": [
    "# https://stackoverflow.com/a/38865534/7554774\n",
    "# conda install ipympl\n",
    "#%matplotlib widget\n",
    "%matplotlib inline\n",
    "from liftpose.plot import plot_pose_3d\n",
    "\n",
    "fig = plt.figure(figsize=plt.figaspect(1), dpi=100)\n",
    "ax = fig.add_subplot(111, projection='3d')\n",
    "ax.view_init(elev=200, azim=60)\n",
    "\n",
    "t = 900\n",
    "plot_pose_3d(ax=ax, tar=test_3d_gt[t], \n",
    "            pred=test_3d_pred[t], \n",
    "            bones=par_data[\"vis\"][\"bones\"], \n",
    "            limb_id=par_data[\"vis\"][\"limb_id\"], \n",
    "            colors=par_data[\"vis\"][\"colors\"])"
   ]
  },
  {
   "cell_type": "code",
   "execution_count": null,
   "metadata": {},
   "outputs": [],
   "source": []
  }
 ],
 "metadata": {
  "kernelspec": {
   "display_name": "Python 3",
   "language": "python",
   "name": "python3"
  },
  "language_info": {
   "codemirror_mode": {
    "name": "ipython",
    "version": 3
   },
   "file_extension": ".py",
   "mimetype": "text/x-python",
   "name": "python",
   "nbconvert_exporter": "python",
   "pygments_lexer": "ipython3",
   "version": "3.8.6"
  }
 },
 "nbformat": 4,
 "nbformat_minor": 4
}
