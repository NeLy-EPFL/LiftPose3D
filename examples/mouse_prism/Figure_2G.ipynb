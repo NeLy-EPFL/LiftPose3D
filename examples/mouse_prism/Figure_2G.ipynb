{
 "cells": [
  {
   "cell_type": "code",
   "execution_count": 5,
   "metadata": {},
   "outputs": [],
   "source": [
    "import pickle\n",
    "import numpy as np\n",
    "import torch\n",
    "import matplotlib.pyplot as plt\n",
    "import seaborn as sns\n",
    "import pandas as pd\n",
    "import os\n",
    "from plot_util import *\n",
    "from liftpose.preprocess import add_roots, unNormalize\n",
    "sns.set()\n",
    "\n",
    "#windows\n",
    "#par_train = {'data_dir' : r'\\Users\\NeLy\\Desktop\\mouse_prism\\mouse_prism', # change the path \n",
    "#       'out_dir'        : 'out',\n",
    "#       'train_subjects' : ['G6AE6','G6AE2','G6AE3','G6AE5'],\n",
    "#       'test_subjects'  : ['G6AE1'],\n",
    "#       'actions'        : ['control']}\n",
    "\n",
    "#mac/ubuntu\n",
    "par_train = {'data_dir' : '/data/LiftPose3D/mouse_prism', # change the path \n",
    "       'out_dir'        : '/data/LiftPose3D/mouse_prism/out',\n",
    "       'train_subjects' : ['G6AE6','G6AE2','G6AE3','G6AE5'],\n",
    "       'test_subjects'  : ['G6AE1'],\n",
    "       'actions'        : ['control']}"
   ]
  },
  {
   "cell_type": "markdown",
   "metadata": {},
   "source": [
    "# Loading LP3D Predictions"
   ]
  },
  {
   "cell_type": "code",
   "execution_count": 8,
   "metadata": {},
   "outputs": [
    {
     "name": "stdout",
     "output_type": "stream",
     "text": [
      "[PngImagePlugin.py:187]:DEBUG:STREAM b'IHDR' 16 13\n",
      "[PngImagePlugin.py:187]:DEBUG:STREAM b'IDAT' 41 8192\n"
     ]
    },
    {
     "name": "stderr",
     "output_type": "stream",
     "text": [
      "<ipython-input-8-25282d457481>:7: FutureWarning: arrays to stack must be passed as a \"sequence\" type such as list or tuple. Support for non-sequence iterables such as generators is deprecated as of NumPy 1.16 and will raise an error in the future.\n",
      "  tar_offset = np.vstack(torch.load(os.path.join(par_train['out_dir'], 'stat_3d.pth.tar'))['offset'].values())\n",
      "<ipython-input-8-25282d457481>:13: FutureWarning: arrays to stack must be passed as a \"sequence\" type such as list or tuple. Support for non-sequence iterables such as generators is deprecated as of NumPy 1.16 and will raise an error in the future.\n",
      "  inp_offset = np.vstack(torch.load(os.path.join(par_train['out_dir'], 'stat_2d.pth.tar'))['offset'].values())\n"
     ]
    }
   ],
   "source": [
    "#LiftPose3D prediction\n",
    "data = torch.load(os.path.join(par_train['out_dir'], 'test_results.pth.tar'))\n",
    "\n",
    "tar_mean = torch.load(os.path.join(par_train['out_dir'], 'stat_3d.pth.tar'))['mean']\n",
    "tar_std = torch.load( os.path.join(par_train['out_dir'], 'stat_3d.pth.tar'))['std']\n",
    "targets_1d = torch.load( os.path.join(par_train['out_dir'], 'stat_3d.pth.tar'))['targets_3d']\n",
    "tar_offset = np.vstack(torch.load(os.path.join(par_train['out_dir'], 'stat_3d.pth.tar'))['offset'].values())\n",
    "good_keypts = add_roots(data['good_keypts'],targets_1d,len(tar_mean)).astype(bool)\n",
    "\n",
    "inp_mean = torch.load(os.path.join(par_train['out_dir'], 'stat_2d.pth.tar'))['mean']\n",
    "inp_std = torch.load(os.path.join(par_train['out_dir'], 'stat_2d.pth.tar'))['std']\n",
    "targets_2d = torch.load(os.path.join(par_train['out_dir'], 'stat_2d.pth.tar'))['targets_2d']\n",
    "inp_offset = np.vstack(torch.load(os.path.join(par_train['out_dir'], 'stat_2d.pth.tar'))['offset'].values())\n",
    "\n",
    "tar = unNormalize(data['target'], tar_mean[targets_1d], tar_std[targets_1d])\n",
    "tar = add_roots(tar,targets_1d,len(tar_mean))\n",
    "tar += tar_offset\n",
    "out = unNormalize(data['output'], tar_mean[targets_1d], tar_std[targets_1d])\n",
    "out = add_roots(out,targets_1d,len(tar_mean))\n",
    "out += tar_offset\n",
    "inp = unNormalize(data['input'], inp_mean[targets_2d], inp_std[targets_2d])\n",
    "inp = add_roots(inp,targets_2d,len(inp_mean))\n",
    "inp += inp_offset\n",
    "\n",
    "chosen_keypts = [0,1,2,3,4,5,6]\n",
    "inp[inp==0]=np.NaN\n",
    "out[out==0]=np.NaN\n",
    "tar[tar==0]=np.NaN\n",
    "\n",
    "inp = inp[:462]\n",
    "out = out[:462]\n",
    "tar = tar[:462]\n",
    "\n",
    "bottom_x, bottom_y = inp[:,::2], inp[:,1::2]\n",
    "side_x, side_y = inp[:,::2], tar\n",
    "side_x_pred, side_y_pred = inp[:,::2], out\n",
    "\n",
    "bottom_x, bottom_y = bottom_x[:,chosen_keypts], bottom_y[:,chosen_keypts]\n",
    "side_x, side_y = side_x[:,chosen_keypts], side_y[:,chosen_keypts]\n",
    "side_x_pred, side_y_pred = side_x_pred[:,chosen_keypts], side_y_pred[:,chosen_keypts]\n",
    "good_keypts = good_keypts[:,chosen_keypts]\n",
    "\n",
    "poses = pickle.load(open(os.path.join(par_train['data_dir'], 'G6AE1_100_27_1_control_S3T12.pkl'), 'rb'))\n",
    "index = pickle.load(open(os.path.join(par_train['data_dir'], 'G6AE1_100_27_1_control_S3T12.pkl'), 'rb'))[\"index\"]\n",
    "\n",
    "i = 0\n",
    "img = plt.imread(os.path.join(par_train['data_dir'], 'img{:03d}.png'.format(index[i])))\n",
    "s = img.shape\n",
    "x_ind, y_ind = flat_to_xy(np.squeeze(poses[\"distort\"]), img.shape[0], img.shape[1])"
   ]
  },
  {
   "cell_type": "markdown",
   "metadata": {},
   "source": [
    "# Loading Manual Annotations"
   ]
  },
  {
   "cell_type": "code",
   "execution_count": 10,
   "metadata": {},
   "outputs": [],
   "source": [
    "d = pd.read_csv((os.path.join(par_train['data_dir'], 'ManualAnnotation.csv')))\n",
    "d_np = d.to_numpy()\n",
    "img_name_list = list()\n",
    "kp = list()\n",
    "for i in range(3, d_np.shape[0]):\n",
    "    img_name_list.append(d_np[i][0])\n",
    "    kp.append(d_np[i][1:])\n",
    "kp = np.array(kp)\n",
    "is_full = np.logical_not(pd.isnull(np.array(kp)).sum(axis=1).astype(np.bool))\n",
    "kp = kp[is_full, :].astype(np.float32)\n",
    "kp = kp.reshape(kp.shape[0], 6, 2)\n",
    "\n",
    "img_name_list = np.array(img_name_list)[is_full]\n",
    "img_name_list = [int(img_name.split('/')[-1].replace('img', '').replace('.png', '')) for img_name in img_name_list]\n",
    "\n",
    "for kp_idx in range(kp.shape[0]):\n",
    "    for k in range(6):\n",
    "        pts = kp[kp_idx]\n",
    "        x, y = pts[k, :].astype(int)\n",
    "        try:\n",
    "            x_und, y_und = flat_to_xy(np.where(np.logical_and(x_ind==y, y_ind==x))[0][0], s[0], s[1])\n",
    "            kp[kp_idx, k, 0 ] = y_und\n",
    "            kp[kp_idx, k, 1 ] = x_und\n",
    "        except:\n",
    "            kp[kp_idx, :] = 0\n",
    "            continue\n",
    "            \n",
    "rot = [2, 4, 1, 3, 0, 5]\n",
    "kp = kp[:, rot]"
   ]
  },
  {
   "cell_type": "markdown",
   "metadata": {},
   "source": [
    "# Loading LocoMouse Annotations"
   ]
  },
  {
   "cell_type": "code",
   "execution_count": 11,
   "metadata": {},
   "outputs": [],
   "source": [
    "kp_loco = np.zeros((517, 7, 2))\n",
    "kp_loco[index, :, 0] = side_x\n",
    "kp_loco[index, :, 1] = side_y\n",
    "kp_loco_selected = kp_loco[img_name_list]\n",
    "\n",
    "kp_pred = np.zeros((517, 7, 2))\n",
    "kp_pred[index, :, 0] = side_x_pred\n",
    "kp_pred[index, :, 1] = side_y_pred\n",
    "kp_pred_selected = kp_pred[img_name_list]"
   ]
  },
  {
   "cell_type": "code",
   "execution_count": 13,
   "metadata": {},
   "outputs": [
    {
     "data": {
      "text/plain": [
       "(0.0, 50.0)"
      ]
     },
     "execution_count": 13,
     "metadata": {},
     "output_type": "execute_result"
    },
    {
     "data": {
      "image/png": "[encoded data removed]",
      "text/plain": [
       "<Figure size 432x288 with 1 Axes>"
      ]
     },
     "metadata": {},
     "output_type": "display_data"
    }
   ],
   "source": [
    "lp3d = np.zeros((104, 6, 2))\n",
    "\n",
    "names_joint = ['mouth', 'left-front-paw', \"right-front-paw\", \"left-back-paw\",  \"right-back-paw\", \"tail\"]\n",
    "names_joint_rot = np.array(names_joint)[rot]\n",
    "\n",
    "err_norm = list()\n",
    "err_joint = list()\n",
    "err_hue = list()\n",
    "for img_id in range(kp.shape[0]):\n",
    "    if np.any(kp[img_id]==0) or np.any(kp_pred_selected[img_id]==0) or np.any(pd.isnull(kp[img_id])) or np.any(pd.isnull(kp_pred_selected[img_id])):\n",
    "        continue\n",
    "    for j_id in range(6):\n",
    "        err_norm.append(np.sum(np.abs(kp[img_id][j_id]-kp_pred_selected[img_id][j_id])))\n",
    "        err_joint.append(names_joint_rot[j_id])\n",
    "        err_hue.append('lp3d')\n",
    "\n",
    "for img_id in range(kp.shape[0]):\n",
    "    if np.any(kp[img_id]==0) or np.any(kp_loco_selected[img_id]==0) or np.any(pd.isnull(kp[img_id])) or np.any(pd.isnull(kp_loco_selected[img_id])):\n",
    "        continue\n",
    "    for j_id in range(6):\n",
    "        err_norm.append(np.sum(np.abs(kp[img_id][j_id]-kp_loco_selected[img_id][j_id])))\n",
    "        err_joint.append(names_joint_rot[j_id])\n",
    "        err_hue.append('locomouse')\n",
    "        \n",
    "d = pd.DataFrame({\"err\":err_norm, \"joint\": err_joint, \"hue\": err_hue})\n",
    "q = d.quantile(q=0.95)\n",
    "d = d.loc[d['err'] < q['err']]\n",
    "\n",
    "#plt.figure(dpi=100)\n",
    "plt.figure()\n",
    "plt.grid(False)\n",
    "sns.violinplot(x=\"joint\" , y=\"err\", hue='hue', data=d, color='gray')\n",
    "plt.xlabel('')\n",
    "plt.ylabel('')\n",
    "plt.ylim([0,50])\n",
    "#plt.savefig('/results/Figure_2G.png')"
   ]
  }
 ],
 "metadata": {
  "kernelspec": {
   "display_name": "Python 3",
   "language": "python",
   "name": "python3"
  },
  "language_info": {
   "codemirror_mode": {
    "name": "ipython",
    "version": 3
   },
   "file_extension": ".py",
   "mimetype": "text/x-python",
   "name": "python",
   "nbconvert_exporter": "python",
   "pygments_lexer": "ipython3",
   "version": "3.8.6"
  }
 },
 "nbformat": 4,
 "nbformat_minor": 4
}
