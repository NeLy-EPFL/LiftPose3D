{
 "cells": [
  {
   "cell_type": "markdown",
   "metadata": {},
   "source": [
    "Process data"
   ]
  },
  {
   "cell_type": "code",
   "execution_count": 4,
   "metadata": {},
   "outputs": [],
   "source": [
    "#frames mislabelled by DLC\n",
    "bad_frames = [[],\n",
    "              [663, 668, 676, 1012, 1013, 1014, 1015, 1016, 1017, 1019, 1024, 1294, 2099, 2114, 2149, 2152, 2860, 3506],\n",
    "              [],\n",
    "              [5, 306, 871, 945],\n",
    "              [595],\n",
    "              [],\n",
    "              [],\n",
    "              []]"
   ]
  },
  {
   "cell_type": "code",
   "execution_count": 7,
   "metadata": {},
   "outputs": [
    {
     "name": "stdout",
     "output_type": "stream",
     "text": [
      "/data/LiftFly3D/prism/side_view/videos/video_191125_PR_Fly1_001_prism\n",
      "nice frames\n",
      "align\n",
      "orient\n",
      "fine align\n",
      "align with x-y plane\n",
      "/data/LiftFly3D/prism/side_view/videos/video_191125_PR_Fly1_002_prism\n",
      "nice frames\n",
      "align\n",
      "orient\n",
      "fine align\n",
      "align with x-y plane\n",
      "/data/LiftFly3D/prism/side_view/videos/video_191125_PR_Fly1_003_prism\n",
      "nice frames\n",
      "align\n",
      "orient\n",
      "fine align\n",
      "align with x-y plane\n",
      "/data/LiftFly3D/prism/side_view/videos/video_191125_PR_Fly1_004_prism\n",
      "nice frames\n",
      "align\n",
      "orient\n",
      "fine align\n",
      "align with x-y plane\n",
      "/data/LiftFly3D/prism/side_view/videos/video_191125_PR_Fly2_001_prism\n",
      "nice frames\n",
      "align\n",
      "orient\n",
      "fine align\n",
      "align with x-y plane\n",
      "/data/LiftFly3D/prism/side_view/videos/video_191125_PR_Fly2_002_prism\n",
      "nice frames\n",
      "align\n",
      "orient\n",
      "fine align\n",
      "align with x-y plane\n",
      "/data/LiftFly3D/prism/side_view/videos/video_191125_PR_Fly2_003_prism\n",
      "nice frames\n",
      "align\n",
      "orient\n",
      "fine align\n",
      "align with x-y plane\n",
      "/data/LiftFly3D/prism/side_view/videos/video_191125_PR_Fly2_004_prism\n",
      "nice frames\n",
      "align\n",
      "orient\n",
      "fine align\n",
      "align with x-y plane\n"
     ]
    }
   ],
   "source": [
    "for i in range(len(videos_side)): \n",
    "        \n",
    "    #align horizontally\n",
    "    if align: #1 for training and prediction, 0 for making of DLC video\n",
    "        print('align')\n",
    "        path_crop_pos = home_dir + crop_positions[i]\n",
    "        path_img = data_dir + images_bottom[i]\n",
    "        angle, c = procrustes.get_orientation(path_crop_pos, path_img, index)\n",
    "        _bottom.loc[:,(slice(None),['x','y'])] = \\\n",
    "        _bottom.loc[:,(slice(None),['x','y'])].apply(lambda x: procrustes.center_and_align(x, angle, c), axis=1)\n",
    "        \n",
    "    #remove some bad frames manually\n",
    "    for b_frame in bad_frames[i]:\n",
    "        points2d = np.delete(points2d, b_frame, 1)\n",
    "        points3d = np.delete(points3d, b_frame, 0)\n",
    "        index = np.delete(index, b_frame, 0)\n",
    "        good_keypts = np.delete(good_keypts, b_frame, 0)\n",
    "    \n",
    "    \n",
    "\n",
    "\n",
    "    "
   ]
  },
  {
   "cell_type": "code",
   "execution_count": null,
   "metadata": {},
   "outputs": [],
   "source": []
  }
 ],
 "metadata": {
  "kernelspec": {
   "display_name": "Python 3",
   "language": "python",
   "name": "python3"
  },
  "language_info": {
   "codemirror_mode": {
    "name": "ipython",
    "version": 3
   },
   "file_extension": ".py",
   "mimetype": "text/x-python",
   "name": "python",
   "nbconvert_exporter": "python",
   "pygments_lexer": "ipython3",
   "version": "3.7.6"
  }
 },
 "nbformat": 4,
 "nbformat_minor": 4
}
