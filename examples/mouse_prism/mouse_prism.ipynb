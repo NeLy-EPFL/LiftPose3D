{
 "cells": [
  {
   "cell_type": "code",
   "execution_count": 11,
   "metadata": {},
   "outputs": [
    {
     "name": "stdout",
     "output_type": "stream",
     "text": [
      "The autoreload extension is already loaded. To reload it, use:\n",
      "  %reload_ext autoreload\n"
     ]
    }
   ],
   "source": [
    "%load_ext autoreload\n",
    "%autoreload 2\n",
    "from load import *\n",
    "import yaml\n",
    "import logging\n",
    "from imp import reload\n",
    "import matplotlib.pyplot as plt\n",
    "import load\n",
    "import torch\n",
    "from liftpose.vision_3d import XY_coord_dict, Z_coord_dict\n",
    "\n",
    "reload(logging)\n",
    "logger = logging.getLogger(__name__).setLevel(logging.INFO)\n",
    "\n",
    "# decleare data parameters\n",
    "par_train = {'data_dir' : '/data/LiftPose3D/mouse_prism', # change the path \n",
    "       'out_dir'        : './out',\n",
    "       'train_subjects' : ['G6AE1','G6AE2','G6AE3','G6AE5'],\n",
    "       'test_subjects'  : ['G6AE6'],\n",
    "       'actions'        : ['control']}\n",
    "\n",
    "# merge with training parameters\n",
    "par_data = yaml.full_load(open('param.yaml', \"rb\"))\n",
    "par = {**par_data[\"data\"], **par_train}\n",
    "\n",
    "# Load data\n",
    "train, train_keypts, _ = load.load_3D(par['data_dir'], subjects=par['train_subjects'], actions=par['actions'])\n",
    "test,  test_keypts, _ = load.load_3D(par['data_dir'], subjects=par['test_subjects'],  actions=par['actions'])\n",
    "# project data\n",
    "train_2d, train_3d = XY_coord_dict(train), Z_coord_dict(train)\n",
    "test_2d, test_3d  = XY_coord_dict(test), Z_coord_dict(test)"
   ]
  },
  {
   "cell_type": "code",
   "execution_count": 13,
   "metadata": {},
   "outputs": [
    {
     "name": "stdout",
     "output_type": "stream",
     "text": [
      "[main.py:187]:INFO:Saving pre-processed 2D data at /home/user/Desktop/LiftPose3D/examples/mouse_prism/out/stat_2d.pth.tar.\n",
      "[main.py:216]:INFO:Saving pre-processed 3D data at /home/user/Desktop/LiftPose3D/examples/mouse_prism/outstat_3d.pth.tar.\n",
      "[main.py:237]:INFO:Starting training model.\n",
      "[main.py:244]:DEBUG:\n",
      "==================Options=================\n",
      "[main.py:245]:DEBUG:{   'batch_size': 64,\n",
      "    'data_dir': '/home/user/Desktop/LiftPose3D/examples/mouse_prism/out',\n",
      "    'dropout': 0.5,\n",
      "    'epochs': 10,\n",
      "    'exp': '',\n",
      "    'is_train': True,\n",
      "    'job': 8,\n",
      "    'linear_size': 1024,\n",
      "    'load': None,\n",
      "    'lr': 0.001,\n",
      "    'lr_decay': 5000,\n",
      "    'lr_gamma': 0.9,\n",
      "    'max_norm': True,\n",
      "    'noise': None,\n",
      "    'num_stage': 2,\n",
      "    'out': '/home/user/Desktop/LiftPose3D/examples/mouse_prism/out',\n",
      "    'out_dir': '/home/user/Desktop/LiftPose3D/examples/mouse_prism/out',\n",
      "    'predict': False,\n",
      "    'procrustes': False,\n",
      "    'resume': False,\n",
      "    'test': False}\n",
      "[main.py:246]:DEBUG:==========================================\n",
      "\n",
      "[lift.py:29]:INFO:Training on the device: cuda:0\n",
      "[lift.py:57]:INFO:total params: 4.23M\n"
     ]
    },
    {
     "name": "stderr",
     "output_type": "stream",
     "text": [
      "Epoch 000 | LR  0.00100 | Loss Test  0.00000 | Loss Train  2.26609|: 100%|██████████| 523/523 [00:12<00:00, 41.25it/s]\n",
      "Epoch 001 | LR  0.00100 | Loss Test  1.28210 | Loss Train  0.99630|: 100%|██████████| 523/523 [00:11<00:00, 46.03it/s]\n",
      "Epoch 002 | LR  0.00100 | Loss Test  1.54332 | Loss Train  0.88267|: 100%|██████████| 523/523 [00:12<00:00, 43.46it/s]\n",
      "Epoch 003 | LR  0.00100 | Loss Test  1.52709 | Loss Train  0.86058|: 100%|██████████| 523/523 [00:11<00:00, 44.17it/s]\n",
      "Epoch 004 | LR  0.00100 | Loss Test  1.33170 | Loss Train  0.83079|: 100%|██████████| 523/523 [00:12<00:00, 41.72it/s]\n",
      "Epoch 005 | LR  0.00100 | Loss Test  1.33045 | Loss Train  0.80749|: 100%|██████████| 523/523 [00:11<00:00, 44.51it/s]\n",
      "Epoch 006 | LR  0.00100 | Loss Test  1.26249 | Loss Train  0.78268|: 100%|██████████| 523/523 [00:11<00:00, 43.98it/s]\n",
      "Epoch 007 | LR  0.00100 | Loss Test  1.13308 | Loss Train  0.76321|: 100%|██████████| 523/523 [00:12<00:00, 42.48it/s]\n",
      "Epoch 008 | LR  0.00100 | Loss Test  1.78771 | Loss Train  0.74809|: 100%|██████████| 523/523 [00:11<00:00, 44.23it/s]\n",
      "Epoch 009 | LR  0.00090 | Loss Test  1.24972 | Loss Train  0.73253|: 100%|██████████| 523/523 [00:11<00:00, 43.76it/s]\n"
     ]
    }
   ],
   "source": [
    "from liftpose.main import train as lp3d_train\n",
    "lp3d_train(train_2d=train_2d, test_2d=test_2d, train_3d=train_3d, test_3d=test_3d, \n",
    "           train_keypts=train_keypts, test_keypts=test_keypts,\n",
    "           roots=par['roots'],\n",
    "           target_sets=par['target_sets'],\n",
    "           out_dir=par['out_dir'])"
   ]
  },
  {
   "cell_type": "code",
   "execution_count": 14,
   "metadata": {},
   "outputs": [
    {
     "data": {
      "image/png": "[encoded data removed]",
      "text/plain": [
       "<Figure size 432x288 with 1 Axes>"
      ]
     },
     "metadata": {
      "needs_background": "light"
     },
     "output_type": "display_data"
    }
   ],
   "source": [
    "%matplotlib inline\n",
    "from liftpose.plot import read_log_train, plot_log_train\n",
    "epoch, lr, loss_train, loss_test, err_test = read_log_train(par['out_dir'])\n",
    "plot_log_train(plt.gca(), loss_train, loss_test, epoch)"
   ]
  },
  {
   "cell_type": "code",
   "execution_count": 15,
   "metadata": {},
   "outputs": [
    {
     "name": "stdout",
     "output_type": "stream",
     "text": [
      "[main.py:268]:INFO:starting testing in path: ./out\n",
      "[lift.py:29]:INFO:Training on the device: cuda:0\n",
      "[lift.py:57]:INFO:total params: 4.23M\n",
      "[lift.py:63]:INFO:loading ckpt from './out/ckpt_best.pth.tar'\n",
      "[lift.py:71]:INFO:ckpt loaded (epoch: 10 | err: 2.1332210742428312)\n",
      "[lift.py:109]:INFO:Saving results: /home/user/Desktop/LiftPose3D/examples/mouse_prism/out/test_results.pth.tar\n"
     ]
    }
   ],
   "source": [
    "from liftpose.main import test as lp3d_test\n",
    "lp3d_test(par['out_dir'])"
   ]
  },
  {
   "cell_type": "code",
   "execution_count": 23,
   "metadata": {},
   "outputs": [],
   "source": [
    "from liftpose.postprocess import load_test_results\n",
    "data = torch.load(par['out_dir'] + \"/test_results.pth.tar\")\n",
    "stat_2d, stat_3d = (\n",
    "    torch.load(par['out_dir'] + \"/stat_2d.pth.tar\"),\n",
    "    torch.load(par['out_dir'] + \"/stat_3d.pth.tar\"),\n",
    ")\n",
    "test_3d_gt, test_3d_pred, good_keypts  = load_test_results(data, stat_2d, stat_3d)"
   ]
  },
  {
   "cell_type": "code",
   "execution_count": 37,
   "metadata": {},
   "outputs": [
    {
     "data": {
      "application/vnd.jupyter.widget-view+json": {
       "model_id": "4c24291c4fb447ab94655bccb2f3a577",
       "version_major": 2,
       "version_minor": 0
      },
      "text/plain": [
       "Canvas(toolbar=Toolbar(toolitems=[('Home', 'Reset original view', 'home', 'home'), ('Back', 'Back to previous …"
      ]
     },
     "metadata": {},
     "output_type": "display_data"
    }
   ],
   "source": [
    "# https://stackoverflow.com/a/38865534/7554774\n",
    "# conda install ipympl\n",
    "%matplotlib widget\n",
    "#%matplotlib inline\n",
    "from liftpose.plot import plot_pose_3d\n",
    "\n",
    "fig = plt.figure(figsize=plt.figaspect(1), dpi=100)\n",
    "ax = fig.add_subplot(111, projection='3d')\n",
    "ax.view_init(elev=200, azim=60)\n",
    "\n",
    "t = 0\n",
    "plot_pose_3d(ax=ax, tar=test_3d_gt[t], \n",
    "            pred=test_3d_pred[t], \n",
    "            bones=par_data[\"vis\"][\"bones\"], \n",
    "            limb_id=par_data[\"vis\"][\"limb_id\"], \n",
    "            colors=par_data[\"vis\"][\"colors\"],\n",
    "            good_keypts=good_keypts[t], show_gt_always=False)"
   ]
  }
 ],
 "metadata": {
  "kernelspec": {
   "display_name": "Python 3",
   "language": "python",
   "name": "python3"
  },
  "language_info": {
   "codemirror_mode": {
    "name": "ipython",
    "version": 3
   },
   "file_extension": ".py",
   "mimetype": "text/x-python",
   "name": "python",
   "nbconvert_exporter": "python",
   "pygments_lexer": "ipython3",
   "version": "3.7.7"
  }
 },
 "nbformat": 4,
 "nbformat_minor": 4
}
