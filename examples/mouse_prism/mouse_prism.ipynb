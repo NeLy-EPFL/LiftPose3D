{
 "cells": [
  {
   "cell_type": "code",
   "execution_count": 25,
   "metadata": {},
   "outputs": [
    {
     "name": "stdout",
     "output_type": "stream",
     "text": [
      "The autoreload extension is already loaded. To reload it, use:\n",
      "  %reload_ext autoreload\n"
     ]
    }
   ],
   "source": [
    "%load_ext autoreload\n",
    "%autoreload 2\n",
    "from load import *\n",
    "import yaml\n",
    "import logging\n",
    "from imp import reload\n",
    "import matplotlib.pyplot as plt\n",
    "import load\n",
    "from liftpose.vision_3d import XY_coord, Z_coord\n",
    "\n",
    "reload(logging)\n",
    "logger = logging.getLogger(__name__).setLevel(logging.INFO)\n",
    "\n",
    "# decleare data parameters\n",
    "par_train = {'data_dir'       : '/data/LiftPose3D/mouse_prism', # change the path \n",
    "       'out_dir'        : './out',\n",
    "       'train_subjects' : ['G6AE1','G6AE2','G6AE3','G6AE5'],\n",
    "       'test_subjects'  : ['G6AE6'],\n",
    "       'actions'        : ['control']}\n",
    "\n",
    "# merge with training parameters\n",
    "par_data = yaml.full_load(open('param.yaml', \"rb\"))\n",
    "par = {**par_data[\"data\"], **par_train}\n",
    "\n",
    "# Load data\n",
    "train, train_keypts, _ = load.load_3D( par['data_dir'], subjects=par['train_subjects'], actions=par['actions'] )\n",
    "test,  test_keypts, _ = load.load_3D( par['data_dir'], subjects=par['test_subjects'],  actions=par['actions'] )\n",
    "\n",
    "train = {k:np.squeeze(v) for (k,v) in train.items()}\n",
    "test = {k:np.squeeze(v) for (k,v) in test.items()}\n",
    "\n",
    "train_2d, train_3d = XY_coord(train), Z_coord(train)\n",
    "test_2d, test_3d  = XY_coord(test), Z_coord(test)\n",
    "train_2d = {k:np.squeeze(v) for (k,v) in train_2d.items()}\n",
    "test_2d = {k:np.squeeze(v) for (k,v) in test_2d.items()}\n",
    "train_3d = {k:np.squeeze(v) for (k,v) in train_3d.items()}\n",
    "test_3d = {k:np.squeeze(v) for (k,v) in test_3d.items()}"
   ]
  },
  {
   "cell_type": "code",
   "execution_count": 26,
   "metadata": {},
   "outputs": [
    {
     "name": "stdout",
     "output_type": "stream",
     "text": [
      "(462, 14)\n",
      "(14,)\n",
      "(462, 12)\n",
      "[main.py:94]:INFO:Saving pre-processed 2D data at /home/user/Desktop/LiftPose3D/examples/mouse_prism_package/out/stat_2d.pth.tar.\n",
      "[main.py:118]:INFO:Saving pre-processed 3D data at /home/user/Desktop/LiftPose3D/examples/mouse_prism_package/out/stat_3d.pth.tar.\n",
      "[main.py:146]:INFO:Starting training model\n",
      "[main.py:155]:DEBUG:\n",
      "==================Options=================\n",
      "[main.py:156]:DEBUG:{   'batch_size': 64,\n",
      "    'data_dir': '/home/user/Desktop/LiftPose3D/examples/mouse_prism_package/out',\n",
      "    'dropout': 0.5,\n",
      "    'epochs': 10,\n",
      "    'exp': '',\n",
      "    'is_train': True,\n",
      "    'job': 8,\n",
      "    'linear_size': 1024,\n",
      "    'load': None,\n",
      "    'lr': 0.001,\n",
      "    'lr_decay': 100000,\n",
      "    'lr_gamma': 0.96,\n",
      "    'max_norm': True,\n",
      "    'noise': None,\n",
      "    'num_stage': 2,\n",
      "    'out': '/home/user/Desktop/LiftPose3D/examples/mouse_prism_package/out',\n",
      "    'out_dir': '/home/user/Desktop/LiftPose3D/examples/mouse_prism_package/out',\n",
      "    'predict': False,\n",
      "    'procrustes': False,\n",
      "    'resume': False,\n",
      "    'test': False}\n",
      "[main.py:157]:DEBUG:==========================================\n",
      "\n",
      "[lift.py:54]:INFO:total params: 4.23M\n"
     ]
    },
    {
     "name": "stderr",
     "output_type": "stream",
     "text": [
      "Epoch 0 | Loss Test 0 | Loss Train 2.2831|: 100%|██████████| 523/523 [00:06<00:00, 75.09it/s]\n",
      "Epoch 1 | Loss Test 2.4459 | Loss Train 0.97878|: 100%|██████████| 523/523 [00:07<00:00, 74.59it/s]\n",
      "Epoch 2 | Loss Test 2.1674 | Loss Train 0.87817|: 100%|██████████| 523/523 [00:05<00:00, 98.03it/s] \n",
      "Epoch 3 | Loss Test 1.7977 | Loss Train 0.84769|: 100%|██████████| 523/523 [00:06<00:00, 78.62it/s]\n",
      "Epoch 4 | Loss Test 1.4093 | Loss Train 0.82595|: 100%|██████████| 523/523 [00:07<00:00, 73.67it/s]\n",
      "Epoch 5 | Loss Test 2.717 | Loss Train 0.80635|: 100%|██████████| 523/523 [00:06<00:00, 80.78it/s] \n",
      "Epoch 6 | Loss Test 1.0989 | Loss Train 0.78088|: 100%|██████████| 523/523 [00:06<00:00, 82.24it/s]\n",
      "Epoch 7 | Loss Test 1.1004 | Loss Train 0.76573|: 100%|██████████| 523/523 [00:05<00:00, 98.94it/s] \n",
      "Epoch 8 | Loss Test 1.1816 | Loss Train 0.74571|: 100%|██████████| 523/523 [00:06<00:00, 76.50it/s]\n",
      "Epoch 9 | Loss Test 1.1211 | Loss Train 0.72984|: 100%|██████████| 523/523 [00:05<00:00, 97.10it/s] \n"
     ]
    }
   ],
   "source": [
    "from liftpose.main import train as lp3d_train\n",
    "lp3d_train(train_2d=train_2d, test_2d=test_2d, train_3d=train_3d, test_3d=test_3d, \n",
    "           train_keypts=train_keypts, test_keypts=test_keypts, \n",
    "           roots=par['roots'], target_sets=par['targets'], in_dim=par['in_dim'], \n",
    "           out_dim=par[\"out_dim\"], out_dir=par['out_dir'])"
   ]
  },
  {
   "cell_type": "code",
   "execution_count": 27,
   "metadata": {},
   "outputs": [
    {
     "data": {
      "image/png": "[encoded data removed]",
      "text/plain": [
       "<Figure size 432x288 with 1 Axes>"
      ]
     },
     "metadata": {
      "needs_background": "light"
     },
     "output_type": "display_data"
    }
   ],
   "source": [
    "from liftpose.plot import read_log_train, plot_log_train\n",
    "epoch, lr, loss_train, loss_test, err_test = read_log_train(par['out_dir'])\n",
    "plot_log_train(plt.gca(), loss_train, loss_test, epoch)"
   ]
  },
  {
   "cell_type": "code",
   "execution_count": 28,
   "metadata": {},
   "outputs": [
    {
     "name": "stdout",
     "output_type": "stream",
     "text": [
      "[main.py:162]:INFO:starting testing in path: ./out\n",
      "[lift.py:54]:INFO:total params: 4.23M\n",
      "[lift.py:60]:INFO:loading ckpt from './out/ckpt_best.pth.tar'\n",
      "[lift.py:68]:INFO:ckpt loaded (epoch: 9 | err: 2.159269332885742)\n",
      "[lift.py:106]:INFO:Saving results: /home/user/Desktop/LiftPose3D/examples/mouse_prism_package/out/test_results.pth.tar\n"
     ]
    }
   ],
   "source": [
    "from liftpose.main import test as lp3d_test\n",
    "lp3d_test(par['out_dir'])"
   ]
  },
  {
   "cell_type": "code",
   "execution_count": 29,
   "metadata": {},
   "outputs": [],
   "source": [
    "from liftpose.postprocess import load_test_results\n",
    "test_3d, test_3d_pred = load_test_results(par['out_dir'])"
   ]
  },
  {
   "cell_type": "code",
   "execution_count": 30,
   "metadata": {},
   "outputs": [
    {
     "data": {
      "application/vnd.jupyter.widget-view+json": {
       "model_id": "fc23531a0b724d238edabed680870b03",
       "version_major": 2,
       "version_minor": 0
      },
      "text/plain": [
       "Canvas(toolbar=Toolbar(toolitems=[('Home', 'Reset original view', 'home', 'home'), ('Back', 'Back to previous …"
      ]
     },
     "metadata": {},
     "output_type": "display_data"
    },
    {
     "ename": "ValueError",
     "evalue": "cannot reshape array of size 7 into shape (3)",
     "output_type": "error",
     "traceback": [
      "\u001b[0;31m---------------------------------------------------------------------------\u001b[0m",
      "\u001b[0;31mValueError\u001b[0m                                Traceback (most recent call last)",
      "\u001b[0;32m<ipython-input-30-82d52120d1ef>\u001b[0m in \u001b[0;36m<module>\u001b[0;34m\u001b[0m\n\u001b[1;32m     14\u001b[0m             \u001b[0mnp\u001b[0m\u001b[0;34m.\u001b[0m\u001b[0marray\u001b[0m\u001b[0;34m(\u001b[0m\u001b[0mpar_data\u001b[0m\u001b[0;34m[\u001b[0m\u001b[0;34m\"vis\"\u001b[0m\u001b[0;34m]\u001b[0m\u001b[0;34m[\u001b[0m\u001b[0;34m\"bones\"\u001b[0m\u001b[0;34m]\u001b[0m\u001b[0;34m)\u001b[0m\u001b[0;34m,\u001b[0m\u001b[0;34m\u001b[0m\u001b[0;34m\u001b[0m\u001b[0m\n\u001b[1;32m     15\u001b[0m             \u001b[0mpar_data\u001b[0m\u001b[0;34m[\u001b[0m\u001b[0;34m\"vis\"\u001b[0m\u001b[0;34m]\u001b[0m\u001b[0;34m[\u001b[0m\u001b[0;34m\"limb_id\"\u001b[0m\u001b[0;34m]\u001b[0m\u001b[0;34m,\u001b[0m\u001b[0;34m\u001b[0m\u001b[0;34m\u001b[0m\u001b[0m\n\u001b[0;32m---> 16\u001b[0;31m             par_data[\"vis\"][\"colors\"])\n\u001b[0m",
      "\u001b[0;32m~/Desktop/LiftPose3D/liftpose/plot.py\u001b[0m in \u001b[0;36mplot_pose_3d\u001b[0;34m(ax, tar, pred, ndims, bones, limb_id, colors, good_keypts)\u001b[0m\n\u001b[1;32m      8\u001b[0m \u001b[0;34m\u001b[0m\u001b[0m\n\u001b[1;32m      9\u001b[0m \u001b[0;32mdef\u001b[0m \u001b[0mplot_pose_3d\u001b[0m\u001b[0;34m(\u001b[0m\u001b[0max\u001b[0m\u001b[0;34m,\u001b[0m \u001b[0mtar\u001b[0m\u001b[0;34m,\u001b[0m \u001b[0mpred\u001b[0m\u001b[0;34m,\u001b[0m \u001b[0mndims\u001b[0m\u001b[0;34m,\u001b[0m \u001b[0mbones\u001b[0m\u001b[0;34m,\u001b[0m \u001b[0mlimb_id\u001b[0m\u001b[0;34m,\u001b[0m \u001b[0mcolors\u001b[0m\u001b[0;34m,\u001b[0m \u001b[0mgood_keypts\u001b[0m\u001b[0;34m=\u001b[0m\u001b[0;32mNone\u001b[0m\u001b[0;34m)\u001b[0m\u001b[0;34m:\u001b[0m\u001b[0;34m\u001b[0m\u001b[0;34m\u001b[0m\u001b[0m\n\u001b[0;32m---> 10\u001b[0;31m     \u001b[0mtar\u001b[0m \u001b[0;34m=\u001b[0m \u001b[0mtar\u001b[0m\u001b[0;34m.\u001b[0m\u001b[0mreshape\u001b[0m\u001b[0;34m(\u001b[0m\u001b[0;34m-\u001b[0m\u001b[0;36m1\u001b[0m\u001b[0;34m,\u001b[0m \u001b[0;36m3\u001b[0m\u001b[0;34m)\u001b[0m\u001b[0;34m\u001b[0m\u001b[0;34m\u001b[0m\u001b[0m\n\u001b[0m\u001b[1;32m     11\u001b[0m     \u001b[0mpred\u001b[0m \u001b[0;34m=\u001b[0m \u001b[0mpred\u001b[0m\u001b[0;34m.\u001b[0m\u001b[0mreshape\u001b[0m\u001b[0;34m(\u001b[0m\u001b[0;34m-\u001b[0m\u001b[0;36m1\u001b[0m\u001b[0;34m,\u001b[0m \u001b[0;36m3\u001b[0m\u001b[0;34m)\u001b[0m\u001b[0;34m\u001b[0m\u001b[0;34m\u001b[0m\u001b[0m\n\u001b[1;32m     12\u001b[0m     \u001b[0mtar_m\u001b[0m \u001b[0;34m=\u001b[0m \u001b[0mnp\u001b[0m\u001b[0;34m.\u001b[0m\u001b[0mmedian\u001b[0m\u001b[0;34m(\u001b[0m\u001b[0mtar\u001b[0m\u001b[0;34m,\u001b[0m \u001b[0maxis\u001b[0m\u001b[0;34m=\u001b[0m\u001b[0;36m0\u001b[0m\u001b[0;34m)\u001b[0m\u001b[0;34m\u001b[0m\u001b[0;34m\u001b[0m\u001b[0m\n",
      "\u001b[0;31mValueError\u001b[0m: cannot reshape array of size 7 into shape (3)"
     ]
    }
   ],
   "source": [
    "# https://stackoverflow.com/a/38865534/7554774\n",
    "# conda install ipympl\n",
    "%matplotlib widget\n",
    "from liftpose.plot import plot_pose_3d\n",
    "\n",
    "fig = plt.figure(figsize=plt.figaspect(1), dpi=100)\n",
    "ax = fig.add_subplot(111, projection='3d')\n",
    "ax.view_init(elev=200, azim=60)\n",
    "\n",
    "t = 900\n",
    "plot_pose_3d(ax, test_3d[t], \n",
    "            test_3d_pred[t], \n",
    "            par[\"ndims\"], \n",
    "            np.array(par_data[\"vis\"][\"bones\"]), \n",
    "            par_data[\"vis\"][\"limb_id\"], \n",
    "            par_data[\"vis\"][\"colors\"])"
   ]
  }
 ],
 "metadata": {
  "kernelspec": {
   "display_name": "Python 3",
   "language": "python",
   "name": "python3"
  },
  "language_info": {
   "codemirror_mode": {
    "name": "ipython",
    "version": 3
   },
   "file_extension": ".py",
   "mimetype": "text/x-python",
   "name": "python",
   "nbconvert_exporter": "python",
   "pygments_lexer": "ipython3",
   "version": "3.7.7"
  }
 },
 "nbformat": 4,
 "nbformat_minor": 4
}
