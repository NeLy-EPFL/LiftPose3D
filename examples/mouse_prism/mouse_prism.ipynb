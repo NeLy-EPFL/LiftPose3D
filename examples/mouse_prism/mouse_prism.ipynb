{
 "cells": [
  {
   "cell_type": "code",
   "execution_count": 1,
   "metadata": {},
   "outputs": [],
   "source": [
    "%load_ext autoreload\n",
    "%autoreload 2\n",
    "from load import *\n",
    "import yaml\n",
    "import logging\n",
    "from imp import reload\n",
    "import matplotlib.pyplot as plt\n",
    "import load\n",
    "import torch\n",
    "from liftpose.vision_3d import XY_coord_dict, Z_coord_dict\n",
    "\n",
    "reload(logging)\n",
    "logger = logging.getLogger(__name__).setLevel(logging.INFO)\n",
    "\n",
    "# declare data parameters\n",
    "#windows\n",
    "#par_train = {'data_dir' : r'\\Users\\NeLy\\Desktop\\mouse_prism\\mouse_prism', # change the path \n",
    "#       'out_dir'        : 'out',\n",
    "#       'train_subjects' : ['G6AE6','G6AE2','G6AE3','G6AE5'],\n",
    "#       'test_subjects'  : ['G6AE1'],\n",
    "#       'actions'        : ['control']}\n",
    "#mac/ubuntu\n",
    "par_train = {'data_dir' : '/data/LiftPose3D/mouse_prism', # change the path \n",
    "       'out_dir'        : '/data/LiftPose3D/mouse_prism/out',\n",
    "       'train_subjects' : ['G6AE6','G6AE2','G6AE3','G6AE5'],\n",
    "       'test_subjects'  : ['G6AE1'],\n",
    "       'actions'        : ['control']}\n",
    "\n",
    "# merge with training parameters\n",
    "par_data = yaml.full_load(open('param.yaml', \"rb\"))\n",
    "par = {**par_data[\"data\"], **par_train}\n",
    "\n",
    "# Load data\n",
    "train, train_keypts, _ = load.load_3D(par['data_dir'], subjects=par['train_subjects'], actions=par['actions'])\n",
    "test,  test_keypts, _ = load.load_3D(par['data_dir'], subjects=par['test_subjects'],  actions=par['actions'])\n",
    "# project data\n",
    "train_2d, train_3d = XY_coord_dict(train), Z_coord_dict(train)\n",
    "test_2d, test_3d  = XY_coord_dict(test), Z_coord_dict(test)"
   ]
  },
  {
   "cell_type": "code",
   "execution_count": 3,
   "metadata": {
    "tags": []
   },
   "outputs": [
    {
     "name": "stdout",
     "output_type": "stream",
     "text": [
      "[main.py:252]:INFO:Saving pre-processed 2D data at /data/LiftPose3D/mouse_prism/out/stat_2d.pth.tar.\n",
      "[main.py:271]:INFO:Saving pre-processed 3D data at /data/LiftPose3D/mouse_prism/out/stat_3d.pth.tar.\n",
      "[main.py:299]:INFO:Starting training model.\n",
      "[main.py:309]:DEBUG:\n",
      "==================Options=================\n",
      "[main.py:310]:DEBUG:{   'batch_size': 64,\n",
      "    'data_dir': '/data/LiftPose3D/mouse_prism/out',\n",
      "    'drop_input': 0.0,\n",
      "    'dropout': 0.5,\n",
      "    'epochs': 10,\n",
      "    'exp': '',\n",
      "    'is_train': True,\n",
      "    'job': 8,\n",
      "    'linear_size': 1024,\n",
      "    'load': None,\n",
      "    'lr': 0.001,\n",
      "    'lr_decay': 5000,\n",
      "    'lr_gamma': 0.9,\n",
      "    'max_norm': True,\n",
      "    'noise': None,\n",
      "    'num_stage': 2,\n",
      "    'out': '/data/LiftPose3D/mouse_prism/out',\n",
      "    'out_dir': '/data/LiftPose3D/mouse_prism/out',\n",
      "    'predict': False,\n",
      "    'procrustes': False,\n",
      "    'resume': False,\n",
      "    'test': False}\n",
      "[main.py:311]:DEBUG:==========================================\n",
      "\n",
      "[lift.py:31]:INFO:Training on the device: cuda:0\n",
      "[lift.py:58]:INFO:total params: 4.23M\n"
     ]
    },
    {
     "name": "stderr",
     "output_type": "stream",
     "text": [
      "Epoch 000 | LR  0.00100 | Loss Test  0.00000 | Loss Train  2.65823|: 100%|██████████| 451/451 [00:02<00:00, 158.42it/s]\n",
      "Epoch 001 | LR  0.00100 | Loss Test  1.11883 | Loss Train  1.17507|: 100%|██████████| 451/451 [00:02<00:00, 162.80it/s]\n",
      "Epoch 002 | LR  0.00100 | Loss Test  0.94618 | Loss Train  0.94424|: 100%|██████████| 451/451 [00:02<00:00, 160.40it/s]\n",
      "Epoch 003 | LR  0.00100 | Loss Test  1.01948 | Loss Train  0.88123|: 100%|██████████| 451/451 [00:02<00:00, 160.22it/s]\n",
      "Epoch 004 | LR  0.00100 | Loss Test  1.00524 | Loss Train  0.86368|: 100%|██████████| 451/451 [00:02<00:00, 161.35it/s]\n",
      "Epoch 005 | LR  0.00100 | Loss Test  0.94941 | Loss Train  0.83450|: 100%|██████████| 451/451 [00:02<00:00, 166.25it/s]\n",
      "Epoch 006 | LR  0.00100 | Loss Test  0.95757 | Loss Train  0.81766|: 100%|██████████| 451/451 [00:02<00:00, 161.76it/s]\n",
      "Epoch 007 | LR  0.00100 | Loss Test  0.99436 | Loss Train  0.80110|: 100%|██████████| 451/451 [00:02<00:00, 158.57it/s]\n",
      "Epoch 008 | LR  0.00100 | Loss Test  0.91802 | Loss Train  0.79050|: 100%|██████████| 451/451 [00:02<00:00, 163.12it/s]\n",
      "Epoch 009 | LR  0.00100 | Loss Test  0.92742 | Loss Train  0.77439|: 100%|██████████| 451/451 [00:02<00:00, 163.70it/s]\n"
     ]
    }
   ],
   "source": [
    "from liftpose.main import train as lp3d_train\n",
    "lp3d_train(train_2d=train_2d, test_2d=test_2d, train_3d=train_3d, test_3d=test_3d, \n",
    "           train_keypts=train_keypts, test_keypts=test_keypts,\n",
    "           roots=par['roots'],\n",
    "           target_sets=par['target_sets'],\n",
    "           out_dir=par['out_dir'], training_kwargs={\"epochs\":10})"
   ]
  },
  {
   "cell_type": "code",
   "execution_count": 4,
   "metadata": {},
   "outputs": [
    {
     "name": "stderr",
     "output_type": "stream",
     "text": [
      "<frozen importlib._bootstrap>:219: RuntimeWarning: numpy.ufunc size changed, may indicate binary incompatibility. Expected 192 from C header, got 216 from PyObject\n"
     ]
    },
    {
     "data": {
      "image/png": "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\n",
      "text/plain": [
       "<Figure size 432x288 with 1 Axes>"
      ]
     },
     "metadata": {
      "needs_background": "light"
     },
     "output_type": "display_data"
    }
   ],
   "source": [
    "%matplotlib inline\n",
    "from liftpose.plot import read_log_train, plot_log_train\n",
    "epoch, lr, loss_train, loss_test, err_test = read_log_train(par['out_dir'])\n",
    "plot_log_train(plt.gca(), loss_train, loss_test, epoch)"
   ]
  },
  {
   "cell_type": "code",
   "execution_count": 5,
   "metadata": {},
   "outputs": [
    {
     "name": "stdout",
     "output_type": "stream",
     "text": [
      "[main.py:410]:INFO:starting testing in path: /data/LiftPose3D/mouse_prism/out\n",
      "[lift.py:31]:INFO:Training on the device: cuda:0\n",
      "[lift.py:58]:INFO:total params: 4.23M\n",
      "[lift.py:66]:INFO:loading ckpt from '/data/LiftPose3D/mouse_prism/out/ckpt_best.pth.tar'\n",
      "[lift.py:74]:INFO:ckpt loaded (epoch: 9 | err: 6.883217259328435)\n",
      "[lift.py:108]:INFO:Saving results: /data/LiftPose3D/mouse_prism/out/test_results.pth.tar\n"
     ]
    }
   ],
   "source": [
    "from liftpose.main import test as lp3d_test\n",
    "lp3d_test(par['out_dir'])"
   ]
  },
  {
   "cell_type": "code",
   "execution_count": null,
   "metadata": {},
   "outputs": [],
   "source": []
  }
 ],
 "metadata": {
  "kernelspec": {
   "display_name": "Python 3",
   "language": "python",
   "name": "python3"
  },
  "language_info": {
   "codemirror_mode": {
    "name": "ipython",
    "version": 3
   },
   "file_extension": ".py",
   "mimetype": "text/x-python",
   "name": "python",
   "nbconvert_exporter": "python",
   "pygments_lexer": "ipython3",
<<<<<<< HEAD
   "version": "3.7.10"
=======
   "version": "3.8.6"
>>>>>>> 28b9f6cfccbeb9cf7c468b7c580f68340f1a4cb5
  }
 },
 "nbformat": 4,
 "nbformat_minor": 4
}
