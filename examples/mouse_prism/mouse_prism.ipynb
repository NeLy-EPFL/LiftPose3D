{
 "cells": [
  {
   "cell_type": "code",
   "execution_count": 10,
   "metadata": {},
   "outputs": [
    {
     "name": "stdout",
     "output_type": "stream",
     "text": [
      "The autoreload extension is already loaded. To reload it, use:\n",
      "  %reload_ext autoreload\n"
     ]
    }
   ],
   "source": [
    "%load_ext autoreload\n",
    "%autoreload 2\n",
    "from load import *\n",
    "import yaml\n",
    "import logging\n",
    "from imp import reload\n",
    "import matplotlib.pyplot as plt\n",
    "import load\n",
    "import torch\n",
    "from liftpose.vision_3d import XY_coord_dict, Z_coord_dict\n",
    "\n",
    "reload(logging)\n",
    "logger = logging.getLogger(__name__).setLevel(logging.INFO)\n",
    "\n",
    "# decleare data parameters\n",
    "par_train = {'data_dir' : r'\\Users\\NeLy\\Desktop\\mouse_prism\\mouse_prism', # change the path \n",
    "       'out_dir'        : 'out',\n",
    "       'train_subjects' : ['G6AE6','G6AE2','G6AE3','G6AE5'],\n",
    "       'test_subjects'  : ['G6AE1'],\n",
    "       'actions'        : ['control']}\n",
    "\n",
    "# merge with training parameters\n",
    "par_data = yaml.full_load(open('param.yaml', \"rb\"))\n",
    "par = {**par_data[\"data\"], **par_train}\n",
    "\n",
    "# Load data\n",
    "train, train_keypts, _ = load.load_3D(par['data_dir'], subjects=par['train_subjects'], actions=par['actions'])\n",
    "test,  test_keypts, _ = load.load_3D(par['data_dir'], subjects=par['test_subjects'],  actions=par['actions'])\n",
    "# project data\n",
    "train_2d, train_3d = XY_coord_dict(train), Z_coord_dict(train)\n",
    "test_2d, test_3d  = XY_coord_dict(test), Z_coord_dict(test)"
   ]
  },
  {
   "cell_type": "code",
   "execution_count": 11,
   "metadata": {
    "tags": []
   },
   "outputs": [
    {
     "name": "stdout",
     "output_type": "stream",
     "text": [
      "[main.py:252]:INFO:Saving pre-processed 2D data at C:\\Users\\NeLy\\Desktop\\LiftPose3D\\examples\\mouse_prism\\out\\stat_2d.pth.tar\n",
      "[main.py:271]:INFO:Saving pre-processed 3D data at C:\\Users\\NeLy\\Desktop\\LiftPose3D\\examples\\mouse_prism\\out\\stat_3d.pth.tar\n",
      "[main.py:298]:INFO:Starting training model.\n",
      "[main.py:309]:DEBUG:\n",
      "==================Options=================\n",
      "[main.py:310]:DEBUG:{   'batch_size': 64,\n",
      "    'data_dir': 'C:\\\\Users\\\\NeLy\\\\Desktop\\\\LiftPose3D\\\\examples\\\\mouse_prism\\\\out',\n",
      "    'drop_input': 0.0,\n",
      "    'dropout': 0.5,\n",
      "    'epochs': 10,\n",
      "    'exp': '',\n",
      "    'is_train': True,\n",
      "    'job': 8,\n",
      "    'linear_size': 1024,\n",
      "    'load': None,\n",
      "    'lr': 0.001,\n",
      "    'lr_decay': 5000,\n",
      "    'lr_gamma': 0.9,\n",
      "    'max_norm': True,\n",
      "    'noise': None,\n",
      "    'num_stage': 2,\n",
      "    'out': 'C:\\\\Users\\\\NeLy\\\\Desktop\\\\LiftPose3D\\\\examples\\\\mouse_prism\\\\out',\n",
      "    'out_dir': 'C:\\\\Users\\\\NeLy\\\\Desktop\\\\LiftPose3D\\\\examples\\\\mouse_prism\\\\out',\n",
      "    'predict': False,\n",
      "    'procrustes': False,\n",
      "    'resume': False,\n",
      "    'test': False}\n",
      "[main.py:311]:DEBUG:==========================================\n",
      "\n",
      "[lift.py:31]:INFO:Training on the device: cuda:0\n",
      "[lift.py:60]:INFO:total params: 4.23M\n"
     ]
    },
    {
     "name": "stderr",
     "output_type": "stream",
     "text": [
      "Epoch 000 | LR  0.00100 | Loss Test  0.00000 | Loss Train  2.73747|: 100%|███████████| 451/451 [00:11<00:00, 39.21it/s]\n",
      "Epoch 001 | LR  0.00100 | Loss Test  1.13196 | Loss Train  1.17063|: 100%|███████████| 451/451 [00:11<00:00, 38.90it/s]\n",
      "Epoch 002 | LR  0.00100 | Loss Test  1.08742 | Loss Train  0.93708|: 100%|███████████| 451/451 [00:11<00:00, 39.04it/s]\n",
      "Epoch 003 | LR  0.00100 | Loss Test  0.98083 | Loss Train  0.88049|: 100%|███████████| 451/451 [00:11<00:00, 39.50it/s]\n",
      "Epoch 004 | LR  0.00100 | Loss Test  1.08153 | Loss Train  0.85868|: 100%|███████████| 451/451 [00:11<00:00, 38.99it/s]\n",
      "Epoch 005 | LR  0.00100 | Loss Test  1.05298 | Loss Train  0.83750|: 100%|███████████| 451/451 [00:11<00:00, 39.08it/s]\n",
      "Epoch 006 | LR  0.00100 | Loss Test  0.95401 | Loss Train  0.81968|: 100%|███████████| 451/451 [00:11<00:00, 39.90it/s]\n",
      "Epoch 007 | LR  0.00100 | Loss Test  0.93005 | Loss Train  0.80966|: 100%|███████████| 451/451 [00:11<00:00, 38.72it/s]\n",
      "Epoch 008 | LR  0.00100 | Loss Test  0.95864 | Loss Train  0.78702|: 100%|███████████| 451/451 [00:11<00:00, 39.91it/s]\n",
      "Epoch 009 | LR  0.00100 | Loss Test  0.95431 | Loss Train  0.77477|: 100%|███████████| 451/451 [00:11<00:00, 39.76it/s]\n"
     ]
    }
   ],
   "source": [
    "from liftpose.main import train as lp3d_train\n",
    "lp3d_train(train_2d=train_2d, test_2d=test_2d, train_3d=train_3d, test_3d=test_3d, \n",
    "           train_keypts=train_keypts, test_keypts=test_keypts,\n",
    "           roots=par['roots'],\n",
    "           target_sets=par['target_sets'],\n",
    "           out_dir=par['out_dir'], training_kwargs={\"epochs\":10})"
   ]
  },
  {
   "cell_type": "code",
   "execution_count": 12,
   "metadata": {},
   "outputs": [
    {
     "data": {
      "image/png": "[encoded data removed]",
      "text/plain": [
       "<Figure size 432x288 with 1 Axes>"
      ]
     },
     "metadata": {
      "needs_background": "light"
     },
     "output_type": "display_data"
    }
   ],
   "source": [
    "%matplotlib inline\n",
    "from liftpose.plot import read_log_train, plot_log_train\n",
    "epoch, lr, loss_train, loss_test, err_test = read_log_train(par['out_dir'])\n",
    "plot_log_train(plt.gca(), loss_train, loss_test, epoch)"
   ]
  },
  {
   "cell_type": "code",
   "execution_count": 13,
   "metadata": {},
   "outputs": [
    {
     "name": "stdout",
     "output_type": "stream",
     "text": [
      "[main.py:410]:INFO:starting testing in path: out\n",
      "[lift.py:31]:INFO:Training on the device: cuda:0\n",
      "[lift.py:60]:INFO:total params: 4.23M\n",
      "[lift.py:66]:INFO:loading ckpt from 'out\\ckpt_best.pth.tar'\n",
      "[lift.py:74]:INFO:ckpt loaded (epoch: 6 | err: 2.1706617718775223)\n",
      "[lift.py:110]:INFO:Saving results: C:\\Users\\NeLy\\Desktop\\LiftPose3D\\examples\\mouse_prism\\out\\test_results.pth.tar\n"
     ]
    }
   ],
   "source": [
    "from liftpose.main import test as lp3d_test\n",
    "lp3d_test(par['out_dir'])"
   ]
  },
  {
   "cell_type": "code",
   "execution_count": 14,
   "metadata": {},
   "outputs": [],
   "source": [
    "from liftpose.postprocess import load_test_results\n",
    "data = torch.load(par['out_dir'] + \"/test_results.pth.tar\")\n",
    "stat_2d, stat_3d = (\n",
    "    torch.load(par['out_dir'] + \"/stat_2d.pth.tar\"),\n",
    "    torch.load(par['out_dir'] + \"/stat_3d.pth.tar\"),\n",
    ")\n",
    "test_3d_gt, test_3d_pred, good_keypts  = load_test_results(data, stat_2d, stat_3d)"
   ]
  }
 ],
 "metadata": {
  "kernelspec": {
   "display_name": "Python 3",
   "language": "python",
   "name": "python3"
  },
  "language_info": {
   "codemirror_mode": {
    "name": "ipython",
    "version": 3
   },
   "file_extension": ".py",
   "mimetype": "text/x-python",
   "name": "python",
   "nbconvert_exporter": "python",
   "pygments_lexer": "ipython3",
   "version": "3.7.1"
  }
 },
 "nbformat": 4,
 "nbformat_minor": 4
}
