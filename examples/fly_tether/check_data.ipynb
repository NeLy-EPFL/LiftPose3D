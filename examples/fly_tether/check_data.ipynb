{
 "cells": [
  {
   "cell_type": "code",
   "execution_count": null,
   "metadata": {},
   "outputs": [],
   "source": [
    "%load_ext autoreload\n",
    "%autoreload 2\n",
    "from load import *\n",
    "import torch\n",
    "import yaml\n",
    "import logging\n",
    "from imp import reload\n",
    "import matplotlib.pyplot as plt\n",
    "from liftpose.vision_3d import world_to_camera_dict, reprojection_error\n",
    "reload(logging)\n",
    "logger = logging.getLogger(__name__).setLevel(logging.INFO)\n",
    "\n",
    "# decleare data parameters\n",
    "par_train = {'data_dir' : '/data/LiftPose3D/fly_tether/data_DF3D', # change the path \n",
    "               'out_dir'        : './out',\n",
    "               'train_subjects' : [1],\n",
    "               'test_subjects'  : [6,7],\n",
    "               'actions'        : ['all'],\n",
    "               'cam_id'         : [2]}\n",
    "\n",
    "# merge with training parameters\n",
    "par_data = yaml.full_load(open('param.yaml', \"rb\"))\n",
    "par = {**par_data[\"data\"], **par_train}\n",
    "\n",
    "# Load 2D data\n",
    "train_2d = load_2D(\n",
    "    par[\"data_dir\"],\n",
    "    par,\n",
    "    cam_id=par[\"cam_id\"],\n",
    "    subjects=par[\"train_subjects\"],\n",
    "    actions=par[\"actions\"],\n",
    ")\n",
    "test_2d = load_2D(\n",
    "    par[\"data_dir\"],\n",
    "    par,\n",
    "    cam_id=par[\"cam_id\"],\n",
    "    subjects=par[\"test_subjects\"],\n",
    "    actions=par[\"actions\"],\n",
    ")\n",
    "\n",
    "# Load 3D data\n",
    "train_3d, _, rcams_train = load_3D(\n",
    "    par[\"data_dir\"],\n",
    "    par,\n",
    "    cam_id=par[\"cam_id\"],\n",
    "    subjects=par[\"train_subjects\"],\n",
    "    actions=par[\"actions\"],\n",
    ")\n",
    "test_3d, _, rcams_test = load_3D(\n",
    "    par[\"data_dir\"],\n",
    "    par,\n",
    "    cam_id=par[\"cam_id\"],\n",
    "    subjects=par[\"test_subjects\"],\n",
    "    actions=par[\"actions\"],\n",
    ")\n",
    "\n",
    "#train_3d = transform_frame(train_3d, rcams_train)\n",
    "#test_3d = transform_frame(test_3d, rcams_test)"
   ]
  },
  {
   "cell_type": "code",
   "execution_count": null,
   "metadata": {},
   "outputs": [],
   "source": [
    "dat = pickle.load(open('/home/user/Desktop/df3d_anomaly/pose_result/pose_result_fix__data_paper_180918_MDN_CsCh_Fly1_001_SG1_behData_images.pkl', 'rb'))\n",
    "\n",
    "pts3d = dat[\"points3d\"]\n",
    "pts2d = dat[\"points2d\"][2]\n",
    "cam = dat[2]\n",
    "proj = reprojection_error(pts3d, pts2d, cam['R'], cam['tvec'], cam['intr'])\n",
    "(np.linalg.norm(proj - pts2d, axis=-1)[:,:15])"
   ]
  },
  {
   "cell_type": "code",
   "execution_count": null,
   "metadata": {},
   "outputs": [],
   "source": [
    "k = list(train_3d)[1]\n",
    "print(k)\n",
    "cam_id = 2\n",
    "k_2d = (k[0], k[1], k[2]+f'.cam_{cam_id}')\n",
    "cam =  rcams_train[k][cam_id]\n",
    "proj = reprojection_error(train_3d[k], train_2d[k_2d], cam['R'], cam['tvec'], cam['intr'])[:, :15] "
   ]
  }
 ],
 "metadata": {
  "kernelspec": {
   "display_name": "Python 3",
   "language": "python",
   "name": "python3"
  },
  "language_info": {
   "codemirror_mode": {
    "name": "ipython",
    "version": 3
   },
   "file_extension": ".py",
   "mimetype": "text/x-python",
   "name": "python",
   "nbconvert_exporter": "python",
   "pygments_lexer": "ipython3",
   "version": "3.7.7"
  }
 },
 "nbformat": 4,
 "nbformat_minor": 4
}
