{
 "cells": [
  {
   "cell_type": "markdown",
   "metadata": {},
   "source": [
    "# Load DeepFly3D Data"
   ]
  },
  {
   "cell_type": "code",
   "execution_count": 8,
   "metadata": {},
   "outputs": [
    {
     "name": "stdout",
     "output_type": "stream",
     "text": [
      "The autoreload extension is already loaded. To reload it, use:\n",
      "  %reload_ext autoreload\n"
     ]
    }
   ],
   "source": [
    "%load_ext autoreload\n",
    "%autoreload 2\n",
    "from load import *\n",
    "import torch\n",
    "import yaml\n",
    "import logging\n",
    "from imp import reload\n",
    "import matplotlib.pyplot as plt\n",
    "from liftpose.vision_3d import world_to_camera_dict, reprojection_error\n",
    "reload(logging)\n",
    "logger = logging.getLogger(__name__).setLevel(logging.INFO)\n",
    "from tqdm import tqdm\n",
    "tqdm.get_lock().locks = []\n",
    "\n",
    "# decleare data parameters\n",
    "par_train = {  'data_dir'       : '/data/LiftPose3D/fly_tether/data_DF3D', # change the path \n",
    "               'out_dir'        : '/data/LiftPose3D/fly_tether/cams_test',\n",
    "               'train_subjects' : [1],\n",
    "               'test_subjects'  : [6,7],\n",
    "               'actions'        : ['all'],\n",
    "               'cam_id'         : [2,5]}\n",
    "\n",
    "# merge with training parameters\n",
    "par_data = yaml.full_load(open('param.yaml', \"rb\"))\n",
    "par = {**par_data[\"data\"], **par_train}\n",
    "\n",
    "# Load 2D data\n",
    "train_2d = load_2D(\n",
    "    par[\"data_dir\"],\n",
    "    par,\n",
    "    cam_id=par[\"cam_id\"],\n",
    "    subjects=par[\"train_subjects\"],\n",
    "    actions=par[\"actions\"],\n",
    ")\n",
    "test_2d = load_2D(\n",
    "    par[\"data_dir\"],\n",
    "    par,\n",
    "    cam_id=par[\"cam_id\"],\n",
    "    subjects=par[\"test_subjects\"],\n",
    "    actions=par[\"actions\"],\n",
    ")\n",
    "\n",
    "# Load 3D data\n",
    "train_3d, train_keypts, rcams_train = load_3D(\n",
    "    par[\"data_dir\"],\n",
    "    par,\n",
    "    cam_id=par[\"cam_id\"],\n",
    "    subjects=par[\"train_subjects\"],\n",
    "    actions=par[\"actions\"],\n",
    ")\n",
    "test_3d, test_keypts, rcams_test = load_3D(\n",
    "    par[\"data_dir\"],\n",
    "    par,\n",
    "    cam_id=par[\"cam_id\"],\n",
    "    subjects=par[\"test_subjects\"],\n",
    "    actions=par[\"actions\"],\n",
    ")\n",
    "\n",
    "train_3d = world_to_camera_dict(train_3d, rcams_train)\n",
    "test_3d = world_to_camera_dict(test_3d, rcams_test)"
   ]
  },
  {
   "cell_type": "markdown",
   "metadata": {},
   "source": [
    "# Train LiftPose3D Network on DeepFly3D Data"
   ]
  },
  {
   "cell_type": "code",
   "execution_count": null,
   "metadata": {
    "scrolled": false
   },
   "outputs": [
    {
     "name": "stdout",
     "output_type": "stream",
     "text": [
      "[main.py:190]:INFO:Saving pre-processed 2D data at /data/LiftPose3D/fly_tether/cams_test/stat_2d.pth.tar.\n",
      "[main.py:219]:INFO:Saving pre-processed 3D data at /data/LiftPose3D/fly_tether/cams_test/stat_3d.pth.tar.\n",
      "[main.py:241]:INFO:Starting training model.\n",
      "[main.py:248]:DEBUG:\n",
      "==================Options=================\n",
      "[main.py:249]:DEBUG:{   'batch_size': 64,\n",
      "    'data_dir': '/data/LiftPose3D/fly_tether/cams_test',\n",
      "    'dropout': 0.5,\n",
      "    'epochs': 30,\n",
      "    'exp': '',\n",
      "    'is_train': True,\n",
      "    'job': 8,\n",
      "    'linear_size': 1024,\n",
      "    'load': None,\n",
      "    'lr': 0.001,\n",
      "    'lr_decay': 5000,\n",
      "    'lr_gamma': 0.9,\n",
      "    'max_norm': True,\n",
      "    'noise': None,\n",
      "    'num_stage': 2,\n",
      "    'out': '/data/LiftPose3D/fly_tether/cams_test',\n",
      "    'out_dir': '/data/LiftPose3D/fly_tether/cams_test',\n",
      "    'predict': False,\n",
      "    'procrustes': False,\n",
      "    'resume': False,\n",
      "    'test': False}\n",
      "[main.py:250]:DEBUG:==========================================\n",
      "\n",
      "[lift.py:29]:INFO:Training on the device: cuda:0\n",
      "[lift.py:51]:INFO:total params: 4.33M\n"
     ]
    },
    {
     "name": "stderr",
     "output_type": "stream",
     "text": [
      "Epoch 000 | LR  0.00100 | Loss Test  0.00000 | Loss Train  0.19450|: 100%|██████████| 3291/3291 [00:20<00:00, 164.27it/s]\n",
      "Epoch 001 | LR  0.00090 | Loss Test  0.09245 | Loss Train  0.11803|: 100%|██████████| 3291/3291 [00:18<00:00, 179.25it/s]\n",
      "Epoch 002 | LR  0.00090 | Loss Test  0.08322 | Loss Train  0.11120|: 100%|██████████| 3291/3291 [00:18<00:00, 178.86it/s]\n",
      "Epoch 003 | LR  0.00081 | Loss Test  0.08045 | Loss Train  0.10771|: 100%|██████████| 3291/3291 [00:18<00:00, 178.24it/s]\n",
      "Epoch 004 | LR  0.00073 | Loss Test  0.07565 | Loss Train  0.10536|: 100%|██████████| 3291/3291 [00:18<00:00, 178.06it/s]\n",
      "Epoch 005 | LR  0.00073 | Loss Test  0.07373 | Loss Train  0.10353|: 100%|██████████| 3291/3291 [00:18<00:00, 175.62it/s]\n",
      "Epoch 006 | LR  0.00066 | Loss Test  0.07037 | Loss Train  0.10180|: 100%|██████████| 3291/3291 [00:18<00:00, 178.47it/s]\n",
      "Epoch 007 | LR  0.00059 | Loss Test  0.06993 | Loss Train  0.10047|: 100%|██████████| 3291/3291 [00:17<00:00, 182.86it/s]\n",
      "Epoch 008 | LR  0.00059 | Loss Test  0.06910 | Loss Train  0.09941|: 100%|██████████| 3291/3291 [00:18<00:00, 178.53it/s]\n",
      "Epoch 009 | LR  0.00053 | Loss Test  0.06699 | Loss Train  0.09843|: 100%|██████████| 3291/3291 [00:18<00:00, 179.54it/s]\n",
      "Epoch 010 | LR  0.00048 | Loss Test  0.06746 | Loss Train  0.09762|: 100%|██████████| 3291/3291 [00:18<00:00, 178.16it/s]\n",
      "Epoch 011 | LR  0.00048 | Loss Test  0.06631 | Loss Train  0.09690|: 100%|██████████| 3291/3291 [00:18<00:00, 180.41it/s]\n",
      "Epoch 012 | LR  0.00043 | Loss Test  0.06570 | Loss Train  0.09621|: 100%|██████████| 3291/3291 [00:18<00:00, 180.77it/s]\n",
      "Epoch 013 | LR  0.00039 | Loss Test  0.06453 | Loss Train  0.09564|: 100%|██████████| 3291/3291 [00:18<00:00, 180.08it/s]\n",
      "Epoch 014 | LR  0.00039 | Loss Test  0.06375 | Loss Train  0.09511|: 100%|██████████| 3291/3291 [00:18<00:00, 181.68it/s]\n",
      "Epoch 015 | LR  0.00035 | Loss Test  0.06294 | Loss Train  0.09461|: 100%|██████████| 3291/3291 [00:18<00:00, 178.74it/s]\n",
      "Epoch 016 | LR  0.00031 | Loss Test  0.06281 | Loss Train  0.09420|: 100%|██████████| 3291/3291 [00:18<00:00, 182.02it/s]\n",
      "Epoch 017 | LR  0.00031 | Loss Test  0.06340 | Loss Train  0.09390|:  67%|██████▋   | 2209/3291 [00:12<00:05, 185.58it/s]"
     ]
    }
   ],
   "source": [
    "from liftpose.main import train as lp3d_train\n",
    "\n",
    "lp3d_train(train_2d=train_2d, test_2d=test_2d,\n",
    "           train_3d=train_3d, test_3d=test_3d, \n",
    "           train_keypts=train_keypts,\n",
    "           test_keypts=test_keypts,\n",
    "           roots=par['roots'],\n",
    "           target_sets=par['target_sets'],\n",
    "           out_dir=par['out_dir'])"
   ]
  },
  {
   "cell_type": "code",
   "execution_count": null,
   "metadata": {},
   "outputs": [],
   "source": [
    "%matplotlib inline\n",
    "from liftpose.plot import read_log_train, plot_log_train\n",
    "epoch, lr, loss_train, loss_test, err_test = read_log_train(par['out_dir'])\n",
    "plot_log_train(plt.gca(), loss_train, loss_test, epoch)"
   ]
  },
  {
   "cell_type": "markdown",
   "metadata": {},
   "source": [
    "# Run Trained LiftPose3D Network on the Test Data"
   ]
  },
  {
   "cell_type": "code",
   "execution_count": null,
   "metadata": {},
   "outputs": [],
   "source": [
    "from liftpose.main import test as lp3d_test\n",
    "lp3d_test(par['out_dir'])"
   ]
  },
  {
   "cell_type": "markdown",
   "metadata": {},
   "source": [
    "# Visualize Predictions"
   ]
  },
  {
   "cell_type": "code",
   "execution_count": null,
   "metadata": {},
   "outputs": [],
   "source": [
    "from liftpose.postprocess import load_test_results\n",
    "data = torch.load(os.path.join(par['out_dir'], \"test_results.pth.tar\"))\n",
    "stat_2d, stat_3d = (\n",
    "    torch.load(os.path.join(par['out_dir'], \"stat_2d.pth.tar\")),\n",
    "    torch.load(os.path.join(par['out_dir'], \"stat_3d.pth.tar\")),\n",
    ")\n",
    "test_3d_gt, test_3d_pred, good_keypts = load_test_results(data, stat_2d, stat_3d)"
   ]
  },
  {
   "cell_type": "code",
   "execution_count": null,
   "metadata": {},
   "outputs": [],
   "source": [
    "# https://stackoverflow.com/a/38865534/7554774\n",
    "# conda install ipympl\n",
    "#%matplotlib widget\n",
    "%matplotlib inline\n",
    "from liftpose.plot import plot_pose_3d\n",
    "\n",
    "fig = plt.figure(figsize=plt.figaspect(1), dpi=100)\n",
    "ax = fig.add_subplot(111, projection='3d')\n",
    "ax.view_init(elev=90, azim=0)\n",
    "\n",
    "t = 0\n",
    "plot_pose_3d(ax=ax, tar=test_3d_gt[t], \n",
    "            pred=test_3d_pred[t], \n",
    "            bones=par_data[\"vis\"][\"bones\"], \n",
    "            limb_id=par_data[\"vis\"][\"limb_id\"], \n",
    "            colors=par_data[\"vis\"][\"colors\"],\n",
    "            good_keypts_pred=good_keypts[t])"
   ]
  },
  {
   "cell_type": "code",
   "execution_count": null,
   "metadata": {},
   "outputs": [],
   "source": []
  }
 ],
 "metadata": {
  "kernelspec": {
   "display_name": "Python 3",
   "language": "python",
   "name": "python3"
  },
  "language_info": {
   "codemirror_mode": {
    "name": "ipython",
    "version": 3
   },
   "file_extension": ".py",
   "mimetype": "text/x-python",
   "name": "python",
   "nbconvert_exporter": "python",
   "pygments_lexer": "ipython3",
   "version": "3.8.6"
  }
 },
 "nbformat": 4,
 "nbformat_minor": 4
}
