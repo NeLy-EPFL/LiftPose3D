{
 "cells": [
  {
   "cell_type": "markdown",
   "metadata": {},
   "source": [
    "# Load DeepFly3D Data"
   ]
  },
  {
   "cell_type": "code",
   "execution_count": 9,
   "metadata": {},
   "outputs": [
    {
     "name": "stdout",
     "output_type": "stream",
     "text": [
      "The autoreload extension is already loaded. To reload it, use:\n",
      "  %reload_ext autoreload\n"
     ]
    }
   ],
   "source": [
    "%load_ext autoreload\n",
    "%autoreload 2\n",
    "from load import *\n",
    "import torch\n",
    "import yaml\n",
    "import logging\n",
    "from imp import reload\n",
    "import matplotlib.pyplot as plt\n",
    "from liftpose.vision_3d import world_to_camera_dict, reprojection_error\n",
    "reload(logging)\n",
    "logger = logging.getLogger(__name__).setLevel(logging.INFO)\n",
    "from tqdm import tqdm\n",
    "tqdm.get_lock().locks = []\n",
    "\n",
    "# decleare data parameters\n",
    "par_train = {  'data_dir'       : '/data/LiftPose3D/fly_tether/data_DF3D/', # change the path \n",
    "               'out_dir'        : '/data/LiftPose3D/fly_tether/cams_test/',\n",
    "               'train_subjects' : [1],\n",
    "               'test_subjects'  : [6],\n",
    "               'actions'        : ['all'],\n",
    "               'cam_id'         : [0,1,2,4,5,6]}\n",
    "\n",
    "# merge with training parameters\n",
    "par_data = yaml.full_load(open('param.yaml', \"rb\"))\n",
    "par = {**par_data[\"data\"], **par_train}\n",
    "\n",
    "# Load 2D data\n",
    "train_2d = load_2D(\n",
    "    par[\"data_dir\"],\n",
    "    par,\n",
    "    cam_id=par[\"cam_id\"],\n",
    "    subjects=par[\"train_subjects\"],\n",
    "    actions=par[\"actions\"],\n",
    ")\n",
    "test_2d = load_2D(\n",
    "    par[\"data_dir\"],\n",
    "    par,\n",
    "    cam_id=par[\"cam_id\"],\n",
    "    subjects=par[\"test_subjects\"],\n",
    "    actions=par[\"actions\"],\n",
    ")\n",
    "\n",
    "# Load 3D data\n",
    "train_3d, train_keypts, rcams_train = load_3D(\n",
    "    par[\"data_dir\"],\n",
    "    par,\n",
    "    cam_id=par[\"cam_id\"],\n",
    "    subjects=par[\"train_subjects\"],\n",
    "    actions=par[\"actions\"],\n",
    ")\n",
    "test_3d, test_keypts, rcams_test = load_3D(\n",
    "    par[\"data_dir\"],\n",
    "    par,\n",
    "    cam_id=par[\"cam_id\"],\n",
    "    subjects=par[\"test_subjects\"],\n",
    "    actions=par[\"actions\"],\n",
    ")\n",
    "\n",
    "train_3d = world_to_camera_dict(train_3d, rcams_train)\n",
    "test_3d = world_to_camera_dict(test_3d, rcams_test)"
   ]
  },
  {
   "cell_type": "markdown",
   "metadata": {},
   "source": [
    "# Train LiftPose3D Network on DeepFly3D Data"
   ]
  },
  {
   "cell_type": "code",
   "execution_count": null,
   "metadata": {},
   "outputs": [
    {
     "name": "stderr",
     "output_type": "stream",
     "text": [
      "/home/gosztolai/Dropbox/github/LiftPose3D/liftpose/preprocess.py:148: RuntimeWarning: Mean of empty slice\n",
      "  mean = np.nanmean(cp_d, axis=0)\n",
      "/home/gosztolai/anaconda3/envs/LiftPose3D/lib/python3.8/site-packages/numpy/lib/nanfunctions.py:1664: RuntimeWarning: Degrees of freedom <= 0 for slice.\n",
      "  var = nanvar(a, axis=axis, dtype=dtype, out=out, ddof=ddof,\n"
     ]
    },
    {
     "name": "stdout",
     "output_type": "stream",
     "text": [
      "[main.py:250]:INFO:Saving pre-processed 2D data at /data/LiftPose3D/fly_tether/cams_test/stat_2d.pth.tar.\n",
      "[main.py:269]:INFO:Saving pre-processed 3D data at /data/LiftPose3D/fly_tether/cams_test/stat_3d.pth.tar.\n",
      "[main.py:297]:INFO:Starting training model.\n",
      "[main.py:307]:DEBUG:\n",
      "==================Options=================\n",
      "[main.py:308]:DEBUG:{   'batch_size': 64,\n",
      "    'data_dir': '/data/LiftPose3D/fly_tether/cams_test',\n",
      "    'dropout': 0.5,\n",
      "    'epochs': 100,\n",
      "    'exp': '',\n",
      "    'is_train': True,\n",
      "    'job': 8,\n",
      "    'linear_size': 1024,\n",
      "    'load': None,\n",
      "    'lr': 0.001,\n",
      "    'lr_decay': 5000,\n",
      "    'lr_gamma': 0.9,\n",
      "    'max_norm': True,\n",
      "    'noise': None,\n",
      "    'num_stage': 2,\n",
      "    'out': '/data/LiftPose3D/fly_tether/cams_test',\n",
      "    'out_dir': '/data/LiftPose3D/fly_tether/cams_test',\n",
      "    'predict': False,\n",
      "    'procrustes': False,\n",
      "    'resume': False,\n",
      "    'test': False}\n",
      "[main.py:309]:DEBUG:==========================================\n",
      "\n",
      "[lift.py:31]:INFO:Training on the device: cuda:0\n",
      "[lift.py:53]:INFO:total params: 4.27M\n"
     ]
    },
    {
     "name": "stderr",
     "output_type": "stream",
     "text": [
      "Epoch 000 | LR  0.00090 | Loss Test  0.00000 | Loss Train  0.25297|: 100%|██████████| 9871/9871 [00:53<00:00, 183.47it/s]\n",
      "Epoch 001 | LR  0.00073 | Loss Test  0.08801 | Loss Train  0.16374|: 100%|██████████| 9871/9871 [00:53<00:00, 185.26it/s]\n",
      "Epoch 002 | LR  0.00059 | Loss Test  0.07726 | Loss Train  0.15249|: 100%|██████████| 9871/9871 [00:52<00:00, 186.36it/s]\n",
      "Epoch 003 | LR  0.00048 | Loss Test  0.07398 | Loss Train  0.14597|: 100%|██████████| 9871/9871 [00:53<00:00, 184.00it/s]\n",
      "Epoch 004 | LR  0.00039 | Loss Test  0.07123 | Loss Train  0.14160|: 100%|██████████| 9871/9871 [00:52<00:00, 188.11it/s]\n",
      "Epoch 005 | LR  0.00031 | Loss Test  0.07004 | Loss Train  0.13856|: 100%|██████████| 9871/9871 [00:52<00:00, 187.26it/s]\n",
      "Epoch 006 | LR  0.00025 | Loss Test  0.06820 | Loss Train  0.13624|: 100%|██████████| 9871/9871 [00:52<00:00, 188.31it/s]\n",
      "Epoch 007 | LR  0.00021 | Loss Test  0.06614 | Loss Train  0.13440|: 100%|██████████| 9871/9871 [00:53<00:00, 186.11it/s]\n",
      "Epoch 008 | LR  0.00017 | Loss Test  0.06657 | Loss Train  0.13284|: 100%|██████████| 9871/9871 [00:53<00:00, 183.43it/s]\n",
      "Epoch 009 | LR  0.00014 | Loss Test  0.06666 | Loss Train  0.13179|: 100%|██████████| 9871/9871 [00:52<00:00, 187.14it/s]\n",
      "Epoch 010 | LR  0.00011 | Loss Test  0.06486 | Loss Train  0.13091|: 100%|██████████| 9871/9871 [00:53<00:00, 186.01it/s]\n",
      "Epoch 011 | LR  0.00009 | Loss Test  0.06458 | Loss Train  0.13013|: 100%|██████████| 9871/9871 [00:53<00:00, 185.07it/s]\n",
      "Epoch 012 | LR  0.00007 | Loss Test  0.06316 | Loss Train  0.12953|: 100%|██████████| 9871/9871 [00:53<00:00, 185.85it/s]\n",
      "Epoch 015 | LR  0.00004 | Loss Test  0.06251 | Loss Train  0.12848|:  33%|███▎      | 3223/9871 [00:17<00:36, 183.92it/s]IOPub message rate exceeded.\n",
      "The notebook server will temporarily stop sending output\n",
      "to the client in order to avoid crashing it.\n",
      "To change this limit, set the config variable\n",
      "`--NotebookApp.iopub_msg_rate_limit`.\n",
      "\n",
      "Current values:\n",
      "NotebookApp.iopub_msg_rate_limit=1000.0 (msgs/sec)\n",
      "NotebookApp.rate_limit_window=3.0 (secs)\n",
      "\n",
      "Epoch 016 | LR  0.00003 | Loss Test  0.06381 | Loss Train  0.12812|: 100%|██████████| 9871/9871 [00:53<00:00, 185.31it/s]\n",
      "Epoch 017 | LR  0.00003 | Loss Test  0.06332 | Loss Train  0.12791|: 100%|██████████| 9871/9871 [00:53<00:00, 185.67it/s]\n",
      "Epoch 018 | LR  0.00002 | Loss Test  0.06213 | Loss Train  0.12781|: 100%|██████████| 9871/9871 [00:52<00:00, 186.82it/s]\n",
      "Epoch 019 | LR  0.00002 | Loss Test  0.06210 | Loss Train  0.12747|: 100%|██████████| 9871/9871 [00:53<00:00, 186.02it/s]\n",
      "Epoch 020 | LR  0.00001 | Loss Test  0.06264 | Loss Train  0.12738|: 100%|██████████| 9871/9871 [00:52<00:00, 186.49it/s]\n",
      "Epoch 021 | LR  0.00001 | Loss Test  0.06355 | Loss Train  0.12742|: 100%|██████████| 9871/9871 [00:52<00:00, 187.26it/s]\n",
      "Epoch 022 | LR  0.00001 | Loss Test  0.06324 | Loss Train  0.12730|: 100%|██████████| 9871/9871 [00:52<00:00, 186.80it/s]\n",
      "Epoch 023 | LR  0.00001 | Loss Test  0.06272 | Loss Train  0.12723|: 100%|██████████| 9871/9871 [00:54<00:00, 180.82it/s]\n",
      "Epoch 024 | LR  0.00001 | Loss Test  0.06252 | Loss Train  0.12720|: 100%|██████████| 9871/9871 [00:53<00:00, 183.78it/s]\n",
      "Epoch 025 | LR  0.00000 | Loss Test  0.06220 | Loss Train  0.12708|: 100%|██████████| 9871/9871 [00:53<00:00, 184.48it/s]\n",
      "Epoch 026 | LR  0.00000 | Loss Test  0.06212 | Loss Train  0.12710|: 100%|██████████| 9871/9871 [00:53<00:00, 184.68it/s]\n",
      "Epoch 027 | LR  0.00000 | Loss Test  0.06382 | Loss Train  0.12712|: 100%|██████████| 9871/9871 [00:53<00:00, 184.98it/s]\n",
      "Epoch 028 | LR  0.00000 | Loss Test  0.06282 | Loss Train  0.12710|: 100%|██████████| 9871/9871 [00:52<00:00, 186.71it/s]\n",
      "Epoch 029 | LR  0.00000 | Loss Test  0.06311 | Loss Train  0.12719|: 100%|██████████| 9871/9871 [00:52<00:00, 186.91it/s]\n",
      "Epoch 030 | LR  0.00000 | Loss Test  0.06154 | Loss Train  0.12706|: 100%|██████████| 9871/9871 [00:52<00:00, 186.72it/s]\n",
      "Epoch 031 | LR  0.00000 | Loss Test  0.06251 | Loss Train  0.12711|: 100%|██████████| 9871/9871 [00:53<00:00, 186.19it/s]\n",
      "Epoch 032 | LR  0.00000 | Loss Test  0.06340 | Loss Train  0.12715|: 100%|██████████| 9871/9871 [00:53<00:00, 185.72it/s]\n",
      "Epoch 033 | LR  0.00000 | Loss Test  0.06285 | Loss Train  0.12706|: 100%|██████████| 9871/9871 [00:52<00:00, 186.57it/s]\n",
      "Epoch 034 | LR  0.00000 | Loss Test  0.06152 | Loss Train  0.12696|: 100%|██████████| 9871/9871 [00:53<00:00, 185.35it/s]\n",
      "Epoch 035 | LR  0.00000 | Loss Test  0.06146 | Loss Train  0.12705|: 100%|██████████| 9871/9871 [00:53<00:00, 185.71it/s]\n",
      "Epoch 036 | LR  0.00000 | Loss Test  0.06222 | Loss Train  0.12709|: 100%|██████████| 9871/9871 [00:53<00:00, 186.06it/s]\n",
      "Epoch 037 | LR  0.00000 | Loss Test  0.06264 | Loss Train  0.12702|: 100%|██████████| 9871/9871 [00:52<00:00, 187.06it/s]\n",
      "Epoch 038 | LR  0.00000 | Loss Test  0.06224 | Loss Train  0.12702|: 100%|██████████| 9871/9871 [00:53<00:00, 184.76it/s]\n",
      "Epoch 039 | LR  0.00000 | Loss Test  0.06223 | Loss Train  0.12707|: 100%|██████████| 9871/9871 [00:53<00:00, 183.93it/s]\n",
      "Epoch 040 | LR  0.00000 | Loss Test  0.06220 | Loss Train  0.12710|: 100%|██████████| 9871/9871 [00:53<00:00, 183.74it/s]\n",
      "Epoch 041 | LR  0.00000 | Loss Test  0.06207 | Loss Train  0.12696|: 100%|██████████| 9871/9871 [00:53<00:00, 185.54it/s]\n",
      "Epoch 042 | LR  0.00000 | Loss Test  0.06443 | Loss Train  0.12698|: 100%|██████████| 9871/9871 [00:53<00:00, 185.27it/s]\n",
      "Epoch 043 | LR  0.00000 | Loss Test  0.06247 | Loss Train  0.12705|: 100%|██████████| 9871/9871 [00:52<00:00, 186.26it/s]\n",
      "Epoch 044 | LR  0.00000 | Loss Test  0.06201 | Loss Train  0.12706|: 100%|██████████| 9871/9871 [00:52<00:00, 188.70it/s]\n",
      "Epoch 045 | LR  0.00000 | Loss Test  0.06223 | Loss Train  0.12705|: 100%|██████████| 9871/9871 [00:53<00:00, 185.39it/s]\n",
      "Epoch 046 | LR  0.00000 | Loss Test  0.06278 | Loss Train  0.12706|: 100%|██████████| 9871/9871 [00:52<00:00, 187.90it/s]\n",
      "Epoch 047 | LR  0.00000 | Loss Test  0.06207 | Loss Train  0.12704|: 100%|██████████| 9871/9871 [00:53<00:00, 185.77it/s]\n",
      "Epoch 048 | LR  0.00000 | Loss Test  0.06250 | Loss Train  0.12690|: 100%|██████████| 9871/9871 [00:53<00:00, 185.97it/s]\n",
      "Epoch 049 | LR  0.00000 | Loss Test  0.06272 | Loss Train  0.12697|: 100%|██████████| 9871/9871 [00:53<00:00, 186.17it/s]\n",
      "Epoch 050 | LR  0.00000 | Loss Test  0.06313 | Loss Train  0.12695|: 100%|██████████| 9871/9871 [00:52<00:00, 186.82it/s]\n",
      "Epoch 051 | LR  0.00000 | Loss Test  0.06266 | Loss Train  0.12703|: 100%|██████████| 9871/9871 [00:53<00:00, 185.14it/s]\n",
      "Epoch 052 | LR  0.00000 | Loss Test  0.06247 | Loss Train  0.12714|: 100%|██████████| 9871/9871 [00:52<00:00, 187.02it/s]\n",
      "Epoch 053 | LR  0.00000 | Loss Test  0.06164 | Loss Train  0.12713|: 100%|██████████| 9871/9871 [00:53<00:00, 184.72it/s]\n",
      "Epoch 054 | LR  0.00000 | Loss Test  0.06241 | Loss Train  0.12725|:  42%|████▏     | 4114/9871 [00:22<00:30, 186.01it/s]"
     ]
    }
   ],
   "source": [
    "from liftpose.main import train as lp3d_train\n",
    "from liftpose.lifter.augmentation import add_noise\n",
    "\n",
    "lp3d_train(train_2d=train_2d, test_2d=test_2d,\n",
    "           train_3d=train_3d, test_3d=test_3d, \n",
    "           train_keypts=train_keypts,\n",
    "           test_keypts=test_keypts,\n",
    "           roots=par['roots'],\n",
    "           target_sets=par['target_sets'],\n",
    "           out_dir=par['out_dir'],\n",
    "           training_kwargs={\"epochs\":100},\n",
    "          )#augmentation=[add_noise(noise_amplitude=.1)])"
   ]
  },
  {
   "cell_type": "code",
   "execution_count": 4,
   "metadata": {},
   "outputs": [
    {
     "name": "stderr",
     "output_type": "stream",
     "text": [
      "<frozen importlib._bootstrap>:219: RuntimeWarning: numpy.ufunc size changed, may indicate binary incompatibility. Expected 192 from C header, got 216 from PyObject\n"
     ]
    },
    {
     "data": {
      "image/png": "[encoded data removed]",
      "text/plain": [
       "<Figure size 432x288 with 1 Axes>"
      ]
     },
     "metadata": {
      "needs_background": "light"
     },
     "output_type": "display_data"
    }
   ],
   "source": [
    "%matplotlib inline\n",
    "from liftpose.plot import read_log_train, plot_log_train\n",
    "epoch, lr, loss_train, loss_test, err_test = read_log_train(par['out_dir'])\n",
    "plot_log_train(plt.gca(), loss_train, loss_test, epoch)"
   ]
  },
  {
   "cell_type": "markdown",
   "metadata": {},
   "source": [
    "# Run Trained LiftPose3D Network on the Test Data"
   ]
  },
  {
   "cell_type": "code",
   "execution_count": 5,
   "metadata": {},
   "outputs": [
    {
     "name": "stdout",
     "output_type": "stream",
     "text": [
      "[main.py:397]:INFO:starting testing in path: /data/LiftPose3D/fly_tether/cams_test/\n",
      "[lift.py:31]:INFO:Training on the device: cuda:0\n",
      "[lift.py:53]:INFO:total params: 4.27M\n",
      "[lift.py:61]:INFO:loading ckpt from '/data/LiftPose3D/fly_tether/cams_test/ckpt_best.pth.tar'\n",
      "[lift.py:69]:INFO:ckpt loaded (epoch: 63 | err: 0.04522848333992943)\n",
      "[lift.py:103]:INFO:Saving results: /data/LiftPose3D/fly_tether/cams_test/test_results.pth.tar\n"
     ]
    }
   ],
   "source": [
    "from liftpose.main import test as lp3d_test\n",
    "lp3d_test(par['out_dir'])"
   ]
  },
  {
   "cell_type": "markdown",
   "metadata": {},
   "source": [
    "# Visualize Predictions"
   ]
  },
  {
   "cell_type": "code",
   "execution_count": 6,
   "metadata": {},
   "outputs": [],
   "source": [
    "from liftpose.postprocess import load_test_results\n",
    "data = torch.load(os.path.join(par['out_dir'], \"test_results.pth.tar\"))\n",
    "stat_2d, stat_3d = (\n",
    "    torch.load(os.path.join(par['out_dir'], \"stat_2d.pth.tar\")),\n",
    "    torch.load(os.path.join(par['out_dir'], \"stat_3d.pth.tar\")),\n",
    ")\n",
    "test_3d_gt, test_3d_pred, good_keypts = load_test_results(data, stat_2d, stat_3d)"
   ]
  },
  {
   "cell_type": "code",
   "execution_count": 7,
   "metadata": {},
   "outputs": [
    {
     "data": {
      "image/png": "[encoded data removed]",
      "text/plain": [
       "<Figure size 400x400 with 1 Axes>"
      ]
     },
     "metadata": {
      "needs_background": "light"
     },
     "output_type": "display_data"
    }
   ],
   "source": [
    "# https://stackoverflow.com/a/38865534/7554774\n",
    "# conda install ipympl\n",
    "#%matplotlib widget\n",
    "%matplotlib inline\n",
    "from liftpose.plot import plot_pose_3d\n",
    "\n",
    "fig = plt.figure(figsize=plt.figaspect(1), dpi=100)\n",
    "ax = fig.add_subplot(111, projection='3d')\n",
    "ax.view_init(elev=90, azim=0)\n",
    "\n",
    "t = 0\n",
    "plot_pose_3d(ax=ax, tar=test_3d_gt[t], \n",
    "            pred=test_3d_pred[t], \n",
    "            bones=par_data[\"vis\"][\"bones\"], \n",
    "            limb_id=par_data[\"vis\"][\"limb_id\"], \n",
    "            colors=par_data[\"vis\"][\"colors\"],\n",
    "            good_keypts=good_keypts[t])"
   ]
  },
  {
   "cell_type": "code",
   "execution_count": null,
   "metadata": {},
   "outputs": [],
   "source": []
  }
 ],
 "metadata": {
  "kernelspec": {
   "display_name": "Python 3",
   "language": "python",
   "name": "python3"
  },
  "language_info": {
   "codemirror_mode": {
    "name": "ipython",
    "version": 3
   },
   "file_extension": ".py",
   "mimetype": "text/x-python",
   "name": "python",
   "nbconvert_exporter": "python",
   "pygments_lexer": "ipython3",
   "version": "3.8.6"
  }
 },
 "nbformat": 4,
 "nbformat_minor": 4
}
