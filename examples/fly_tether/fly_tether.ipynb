{
 "cells": [
  {
   "cell_type": "markdown",
   "metadata": {},
   "source": [
    "# Load DeepFly3D Data"
   ]
  },
  {
   "cell_type": "code",
   "execution_count": 2,
   "metadata": {},
   "outputs": [
    {
     "name": "stdout",
     "output_type": "stream",
     "text": [
      "The autoreload extension is already loaded. To reload it, use:\n",
      "  %reload_ext autoreload\n"
     ]
    }
   ],
   "source": [
    "%load_ext autoreload\n",
    "%autoreload 2\n",
    "from load import *\n",
    "import torch\n",
    "import yaml\n",
    "import logging\n",
    "from imp import reload\n",
    "import matplotlib.pyplot as plt\n",
    "from liftpose.vision_3d import world_to_camera_dict, reprojection_error\n",
    "reload(logging)\n",
    "logger = logging.getLogger(__name__).setLevel(logging.INFO)\n",
    "from tqdm import tqdm\n",
    "tqdm.get_lock().locks = []\n",
    "\n",
    "# declare data parameters\n",
    "par_train = {  'data_dir'       : '/data/LiftPose3D/fly_tether/data_DF3D', #mac/ubuntu path format\n",
    "               #'data_dir'       : r'\\Users\\NeLy\\Desktop\\fly_tether', #windows path format\n",
    "               'out_dir'        : '/data/LiftPose3D/fly_tether/fixed_cams',\n",
    "               'train_subjects' : [1,2,3,4,5],\n",
    "               'test_subjects'  : [6,7],\n",
    "               'actions'        : ['all'],\n",
    "               'cam_id'         : [2]}\n",
    "\n",
    "# merge with training parameters\n",
    "par_data = yaml.full_load(open('param.yaml', \"rb\"))\n",
    "par = {**par_data[\"data\"], **par_train}\n",
    "\n",
    "# Load 2D data\n",
    "train_2d = load_2D(\n",
    "    par[\"data_dir\"],\n",
    "    par,\n",
    "    cam_id=par[\"cam_id\"],\n",
    "    subjects=par[\"train_subjects\"],\n",
    "    actions=par[\"actions\"],\n",
    ")\n",
    "test_2d = load_2D(\n",
    "    par[\"data_dir\"],\n",
    "    par,\n",
    "    cam_id=par[\"cam_id\"],\n",
    "    subjects=par[\"test_subjects\"],\n",
    "    actions=par[\"actions\"],\n",
    ")\n",
    "\n",
    "# Load 3D data\n",
    "train_3d, train_keypts, rcams_train = load_3D(\n",
    "    par[\"data_dir\"],\n",
    "    par,\n",
    "    cam_id=par[\"cam_id\"],\n",
    "    subjects=par[\"train_subjects\"],\n",
    "    actions=par[\"actions\"],\n",
    ")\n",
    "test_3d, test_keypts, rcams_test = load_3D(\n",
    "    par[\"data_dir\"],\n",
    "    par,\n",
    "    cam_id=par[\"cam_id\"],\n",
    "    subjects=par[\"test_subjects\"],\n",
    "    actions=par[\"actions\"],\n",
    ")\n",
    "\n",
    "train_3d = world_to_camera_dict(train_3d, rcams_train)\n",
    "test_3d = world_to_camera_dict(test_3d, rcams_test)"
   ]
  },
  {
   "cell_type": "markdown",
   "metadata": {},
   "source": [
    "# Train LiftPose3D Network on DeepFly3D Data"
   ]
  },
  {
   "cell_type": "code",
   "execution_count": 3,
   "metadata": {
    "jupyter": {
     "outputs_hidden": true
    },
    "tags": []
   },
   "outputs": [
    {
     "name": "stdout",
     "output_type": "stream",
     "text": [
      "[main.py:206]:INFO:Creating directory /data/LiftPose3D/fly_tether/fixed_cams\n",
      "[main.py:252]:INFO:Saving pre-processed 2D data at /data/LiftPose3D/fly_tether/fixed_cams/stat_2d.pth.tar.\n",
      "[main.py:271]:INFO:Saving pre-processed 3D data at /data/LiftPose3D/fly_tether/fixed_cams/stat_3d.pth.tar.\n",
      "[main.py:299]:INFO:Starting training model.\n",
      "[main.py:310]:DEBUG:\n",
      "==================Options=================\n",
      "[main.py:311]:DEBUG:{   'batch_size': 64,\n",
      "    'data_dir': '/data/LiftPose3D/fly_tether/fixed_cams',\n",
      "    'drop_input': 0.0,\n",
      "    'dropout': 0,\n",
      "    'epochs': 5,\n",
      "    'exp': '',\n",
      "    'is_train': True,\n",
      "    'job': 8,\n",
      "    'linear_size': 1024,\n",
      "    'load': None,\n",
      "    'lr': 0.001,\n",
      "    'lr_decay': 5000,\n",
      "    'lr_gamma': 0.9,\n",
      "    'max_norm': True,\n",
      "    'noise': None,\n",
      "    'num_stage': 2,\n",
      "    'out': '/data/LiftPose3D/fly_tether/fixed_cams',\n",
      "    'out_dir': '/data/LiftPose3D/fly_tether/fixed_cams',\n",
      "    'predict': False,\n",
      "    'procrustes': False,\n",
      "    'resume': False,\n",
      "    'test': False}\n",
      "[main.py:312]:DEBUG:==========================================\n",
      "\n",
      "[lift.py:31]:INFO:Training on the device: cuda:0\n",
      "[lift.py:58]:INFO:total params: 4.27M\n"
     ]
    },
    {
     "name": "stderr",
     "output_type": "stream",
     "text": [
      "Epoch 000 | LR  0.00090 | Loss Test  0.00000 | Loss Train  0.16630|: 100%|██████████| 5526/5526 [00:31<00:00, 177.82it/s]\n",
      "Epoch 001 | LR  0.00081 | Loss Test  0.07257 | Loss Train  0.09671|: 100%|██████████| 5526/5526 [00:29<00:00, 185.75it/s]\n",
      "Epoch 002 | LR  0.00073 | Loss Test  0.05452 | Loss Train  0.07530|: 100%|██████████| 5526/5526 [00:29<00:00, 187.71it/s]\n",
      "Epoch 003 | LR  0.00066 | Loss Test  0.04313 | Loss Train  0.06282|: 100%|██████████| 5526/5526 [00:29<00:00, 185.64it/s]\n",
      "Epoch 004 | LR  0.00059 | Loss Test  0.03773 | Loss Train  0.05485|: 100%|██████████| 5526/5526 [00:29<00:00, 185.73it/s]\n"
     ]
    }
   ],
   "source": [
    "from liftpose.main import train as lp3d_train\n",
    "from liftpose.lifter.augmentation import add_noise\n",
    "\n",
    "lp3d_train(train_2d=train_2d, test_2d=test_2d,\n",
    "           train_3d=train_3d, test_3d=test_3d, \n",
    "           train_keypts=train_keypts,\n",
    "           test_keypts=test_keypts,\n",
    "           roots=par['roots'],\n",
    "           target_sets=par['target_sets'],\n",
    "           out_dir=par['out_dir'],\n",
    "           training_kwargs={\"epochs\":5, \"dropout\":0},\n",
    "          )"
   ]
  },
  {
   "cell_type": "code",
   "execution_count": 5,
   "metadata": {},
   "outputs": [
    {
     "name": "stderr",
     "output_type": "stream",
     "text": [
      "<frozen importlib._bootstrap>:219: RuntimeWarning: numpy.ufunc size changed, may indicate binary incompatibility. Expected 192 from C header, got 216 from PyObject\n"
     ]
    },
    {
     "data": {
      "image/png": "[encoded data removed]",
      "text/plain": [
       "<Figure size 432x288 with 1 Axes>"
      ]
     },
     "metadata": {
      "needs_background": "light"
     },
     "output_type": "display_data"
    }
   ],
   "source": [
    "%matplotlib inline\n",
    "from liftpose.plot import read_log_train, plot_log_train\n",
    "epoch, lr, loss_train, loss_test, err_test = read_log_train(par['out_dir'])\n",
    "plot_log_train(plt.gca(), loss_train, loss_test, epoch)"
   ]
  },
  {
   "cell_type": "markdown",
   "metadata": {},
   "source": [
    "# Run Trained LiftPose3D Network on the Test Data"
   ]
  },
  {
   "cell_type": "code",
   "execution_count": 79,
   "metadata": {},
   "outputs": [
    {
     "name": "stdout",
     "output_type": "stream",
     "text": [
      "[main.py:411]:INFO:starting testing in path: /data/LiftPose3D/fly_tether/fixed_cams\n",
      "[lift.py:31]:INFO:Training on the device: cuda:0\n",
      "[lift.py:58]:INFO:total params: 4.27M\n",
      "[lift.py:66]:INFO:loading ckpt from '/data/LiftPose3D/fly_tether/fixed_cams/ckpt_best.pth.tar'\n",
      "[lift.py:74]:INFO:ckpt loaded (epoch: 5 | err: 0.027696605465993535)\n",
      "[lift.py:108]:INFO:Saving results: /data/LiftPose3D/fly_tether/fixed_cams/test_results.pth.tar\n",
      "[main.py:411]:INFO:starting testing in path: /data/LiftPose3D/fly_tether/fixed_cams\n",
      "[lift.py:31]:INFO:Training on the device: cuda:0\n",
      "[lift.py:58]:INFO:total params: 4.27M\n",
      "[lift.py:66]:INFO:loading ckpt from '/data/LiftPose3D/fly_tether/fixed_cams/ckpt_best.pth.tar'\n",
      "[lift.py:74]:INFO:ckpt loaded (epoch: 5 | err: 0.027696605465993535)\n",
      "[lift.py:108]:INFO:Saving results: /data/LiftPose3D/fly_tether/fixed_cams/test_results.pth.tar\n"
     ]
    }
   ],
   "source": [
    "from liftpose.main import test as lp3d_test\n",
    "from liftpose.preprocess import concat_dict\n",
    "\n",
    "good_keypts = {}\n",
    "test_3d_gt = {}\n",
    "test_3d_pred = {}\n",
    "for cam in [2,5]:\n",
    "\n",
    "    test_3d, test_keypts, _ = load_3D(par[\"data_dir\"],par,cam_id=[cam],subjects=[1],actions=['PR'])\n",
    "    test_2d = load_2D(par[\"data_dir\"],par,cam_id=[cam],subjects=[1],actions=['PR'])\n",
    "    \n",
    "    test_3d = list(test_3d.values())[0]\n",
    "    test_2d = list(test_2d.values())[0]\n",
    "    test_keypts = list(test_keypts.values())[0]\n",
    "\n",
    "    lp3d_test(par[\"out_dir\"], test_2d, test_3d, test_keypts)\n",
    "    \n",
    "    data = torch.load(os.path.join(par['out_dir'], \"test_results.pth.tar\"))\n",
    "    stat_2d, stat_3d = (\n",
    "        torch.load(os.path.join(par['out_dir'], \"stat_2d.pth.tar\")),\n",
    "        torch.load(os.path.join(par['out_dir'], \"stat_3d.pth.tar\")),\n",
    "    )\n",
    "    \n",
    "    test_3d_gt['cam'+str(cam)], test_3d_pred['cam'+str(cam)], good_keypts['cam'+str(cam)] = load_test_results(data, stat_2d, stat_3d)\n",
    "        \n",
    "    \n",
    "test_3d_gt = concat_dict(test_3d_gt,axis=1)\n",
    "test_3d_pred = concat_dict(test_3d_pred,axis=1)\n",
    "good_keypts = concat_dict(good_keypts,axis=1)"
   ]
  },
  {
   "cell_type": "markdown",
   "metadata": {},
   "source": [
    "# Visualize Predictions"
   ]
  },
  {
   "cell_type": "code",
   "execution_count": 73,
   "metadata": {
    "tags": []
   },
   "outputs": [],
   "source": [
    "from liftpose.postprocess import load_test_results\n",
    "data = torch.load(os.path.join(par['out_dir'], \"test_results.pth.tar\"))\n",
    "stat_2d, stat_3d = (\n",
    "    torch.load(os.path.join(par['out_dir'], \"stat_2d.pth.tar\")),\n",
    "    torch.load(os.path.join(par['out_dir'], \"stat_3d.pth.tar\")),\n",
    ")\n",
    "test_3d_gt, test_3d_pred, good_keypts = load_test_results(data, stat_2d, stat_3d)"
   ]
  },
  {
   "cell_type": "code",
   "execution_count": 80,
   "metadata": {},
   "outputs": [
    {
     "data": {
      "image/png": "[encoded data removed]",
      "text/plain": [
       "<Figure size 400x400 with 1 Axes>"
      ]
     },
     "metadata": {
      "needs_background": "light"
     },
     "output_type": "display_data"
    }
   ],
   "source": [
    "%matplotlib inline\n",
    "from liftpose.plot import plot_pose_3d\n",
    "\n",
    "fig = plt.figure(figsize=plt.figaspect(1), dpi=100)\n",
    "ax = fig.add_subplot(111, projection='3d')\n",
    "ax.view_init(elev=-80, azim=180)\n",
    "\n",
    "t = 0\n",
    "plot_pose_3d(ax=ax, tar=test_3d_gt[t], \n",
    "            pred=test_3d_pred[t], \n",
    "            bones=par_data[\"vis\"][\"bones\"], \n",
    "            limb_id=par_data[\"vis\"][\"limb_id\"], \n",
    "            colors=par_data[\"vis\"][\"colors\"],\n",
    "            good_keypts=good_keypts[t])"
   ]
  },
  {
   "cell_type": "markdown",
   "metadata": {},
   "source": [
    "# Make video"
   ]
  },
  {
   "cell_type": "code",
   "execution_count": 12,
   "metadata": {},
   "outputs": [
    {
     "data": {
      "image/png": "[encoded data removed]",
      "text/plain": [
       "<Figure size 400x400 with 1 Axes>"
      ]
     },
     "metadata": {
      "needs_background": "light"
     },
     "output_type": "display_data"
    }
   ],
   "source": [
    "from liftpose.plot import plot_video_3d\n",
    "fig = plt.figure(figsize=plt.figaspect(1), dpi=100)\n",
    "ax = fig.add_subplot(111, projection='3d')\n",
    "ax.view_init(elev=-90, azim=-90)\n",
    "\n",
    "def f(ax3d, idx):\n",
    "    plot_pose_3d(ax=ax3d, tar=test_3d_gt[idx],\n",
    "        pred=test_3d_pred[idx],\n",
    "        bones=par_data[\"vis\"][\"bones\"], \n",
    "        limb_id=par_data[\"vis\"][\"limb_id\"], \n",
    "        colors=par_data[\"vis\"][\"colors\"], \n",
    "        normalize=True)\n",
    "    \n",
    "plot_video_3d(fig, ax, n=2, fps=1, draw_function=f, name='kek.mp4')"
   ]
  },
  {
   "cell_type": "code",
   "execution_count": 81,
   "metadata": {},
   "outputs": [
    {
     "data": {
      "text/plain": [
       "(899, 30, 3)"
      ]
     },
     "execution_count": 81,
     "metadata": {},
     "output_type": "execute_result"
    }
   ],
   "source": [
    "test_3d_pred.shape"
   ]
  },
  {
   "cell_type": "code",
   "execution_count": null,
   "metadata": {},
   "outputs": [],
   "source": []
  }
 ],
 "metadata": {
  "kernelspec": {
   "display_name": "Python 3",
   "language": "python",
   "name": "python3"
  },
  "language_info": {
   "codemirror_mode": {
    "name": "ipython",
    "version": 3
   },
   "file_extension": ".py",
   "mimetype": "text/x-python",
   "name": "python",
   "nbconvert_exporter": "python",
   "pygments_lexer": "ipython3",
   "version": "3.8.6"
  }
 },
 "nbformat": 4,
 "nbformat_minor": 4
}
