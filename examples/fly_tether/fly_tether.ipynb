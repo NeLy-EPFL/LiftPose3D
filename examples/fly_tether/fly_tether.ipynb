{
 "cells": [
  {
   "cell_type": "markdown",
   "metadata": {},
   "source": [
    "# Load DeepFly3D Data"
   ]
  },
  {
   "cell_type": "code",
   "execution_count": 82,
   "metadata": {},
   "outputs": [
    {
     "name": "stdout",
     "output_type": "stream",
     "text": [
      "The autoreload extension is already loaded. To reload it, use:\n",
      "  %reload_ext autoreload\n"
     ]
    }
   ],
   "source": [
    "%load_ext autoreload\n",
    "%autoreload 2\n",
    "from src.load import *\n",
    "import yaml\n",
    "import logging\n",
    "from imp import reload\n",
    "reload(logging)\n",
    "\n",
    "# decleare data parameters\n",
    "par = {'data_dir'       : '/data/LiftPose3D/fly_tether/data_DF3D', # change the path \n",
    "       'out_dir'        : './out',\n",
    "       'train_subjects' : [1,2,3,4,5],\n",
    "       'test_subjects'  : [6,7],\n",
    "       'actions'        : ['all'],\n",
    "       'cam_id'         : [2,5]}\n",
    "\n",
    "# merge with training parameters\n",
    "par = {**yaml.full_load(open('param.yaml', \"rb\"))[\"data\"], **par}\n",
    "\n",
    "# Load 2D data\n",
    "train_2d = load_2D(\n",
    "    par[\"data_dir\"],\n",
    "    par,\n",
    "    cam_id=par[\"cam_id\"],\n",
    "    subjects=par[\"train_subjects\"],\n",
    "    actions=par[\"actions\"],\n",
    ")\n",
    "test_2d = load_2D(\n",
    "    par[\"data_dir\"],\n",
    "    par,\n",
    "    cam_id=par[\"cam_id\"],\n",
    "    subjects=par[\"test_subjects\"],\n",
    "    actions=par[\"actions\"],\n",
    ")\n",
    "\n",
    "# Load 3D data\n",
    "train_3d, _, rcams_train = load_3D(\n",
    "    par[\"data_dir\"],\n",
    "    par,\n",
    "    cam_id=par[\"cam_id\"],\n",
    "    subjects=par[\"train_subjects\"],\n",
    "    actions=par[\"actions\"],\n",
    ")\n",
    "test_3d, _, rcams_test = load_3D(\n",
    "    par[\"data_dir\"],\n",
    "    par,\n",
    "    cam_id=par[\"cam_id\"],\n",
    "    subjects=par[\"test_subjects\"],\n",
    "    actions=par[\"actions\"],\n",
    ")"
   ]
  },
  {
   "cell_type": "markdown",
   "metadata": {},
   "source": [
    "# Train LiftPose3D Network on DeepFly3D Data"
   ]
  },
  {
   "cell_type": "code",
   "execution_count": 21,
   "metadata": {
    "collapsed": true,
    "jupyter": {
     "outputs_hidden": true
    }
   },
   "outputs": [
    {
     "name": "stdout",
     "output_type": "stream",
     "text": [
      "2020-12-20 08:41:46,532:INFO:Saving pre-processed 2D data at /home/user/Desktop/LiftPose3D/examples/fly_tether/out/stat_2d.pth.tar.\n",
      "2020-12-20 08:41:48,389:INFO:Saving pre-processed 3D data at /home/user/Desktop/LiftPose3D/examples/fly_tether/out/stat_3d.pth.tar.\n",
      "2020-12-20 08:41:49,921:INFO:Starting training model\n",
      "2020-12-20 08:41:49,925:DEBUG:\n",
      "==================Options=================\n",
      "2020-12-20 08:41:49,926:DEBUG:{   'batch_size': 64,\n",
      "    'data_dir': '/home/user/Desktop/LiftPose3D/examples/fly_tether/out',\n",
      "    'dropout': 0.5,\n",
      "    'epochs': 200,\n",
      "    'exp': '',\n",
      "    'is_train': True,\n",
      "    'job': 8,\n",
      "    'linear_size': 1024,\n",
      "    'load': None,\n",
      "    'lr': 0.001,\n",
      "    'lr_decay': 100000,\n",
      "    'lr_gamma': 0.96,\n",
      "    'max_norm': True,\n",
      "    'noise': None,\n",
      "    'num_stage': 2,\n",
      "    'out': '/home/user/Desktop/LiftPose3D/examples/fly_tether/out',\n",
      "    'out_dir': '/home/user/Desktop/LiftPose3D/examples/fly_tether/out',\n",
      "    'predict': False,\n",
      "    'procrustes': False,\n",
      "    'resume': False,\n",
      "    'test': False}\n",
      "2020-12-20 08:41:49,927:DEBUG:==========================================\n",
      "\n",
      "\n",
      ">>> loading data\n",
      ">>> input dimension: 24\n",
      ">>> output dimension: 36\n",
      ">>> total params: 4.27M\n"
     ]
    },
    {
     "name": "stderr",
     "output_type": "stream",
     "text": [
      "  0%|          | 0/11053 [00:00<?, ?it/s]"
     ]
    },
    {
     "name": "stdout",
     "output_type": "stream",
     "text": [
      "==========================\n",
      ">>> epoch: 1 | lr: 0.00100\n"
     ]
    },
    {
     "name": "stderr",
     "output_type": "stream",
     "text": [
      "100%|██████████| 11053/11053 [01:30<00:00, 121.80it/s]\n",
      "100%|██████████| 594/594 [00:02<00:00, 272.70it/s]\n",
      "  0%|          | 0/11053 [00:00<?, ?it/s]"
     ]
    },
    {
     "name": "stdout",
     "output_type": "stream",
     "text": [
      ">>> test error: 0.06316868960857391 <<<\n",
      "==========================\n",
      ">>> epoch: 2 | lr: 0.00100\n"
     ]
    },
    {
     "name": "stderr",
     "output_type": "stream",
     "text": [
      "100%|██████████| 11053/11053 [01:36<00:00, 114.95it/s]\n",
      "100%|██████████| 594/594 [00:01<00:00, 328.70it/s]\n",
      "  0%|          | 0/11053 [00:00<?, ?it/s]"
     ]
    },
    {
     "name": "stdout",
     "output_type": "stream",
     "text": [
      ">>> test error: 0.05749255046248436 <<<\n",
      "==========================\n",
      ">>> epoch: 3 | lr: 0.00100\n"
     ]
    },
    {
     "name": "stderr",
     "output_type": "stream",
     "text": [
      "100%|██████████| 11053/11053 [01:38<00:00, 112.25it/s]\n",
      "100%|██████████| 594/594 [00:01<00:00, 333.40it/s]\n",
      "  0%|          | 0/11053 [00:00<?, ?it/s]"
     ]
    },
    {
     "name": "stdout",
     "output_type": "stream",
     "text": [
      ">>> test error: 0.053613901138305664 <<<\n",
      "==========================\n",
      ">>> epoch: 4 | lr: 0.00100\n"
     ]
    },
    {
     "name": "stderr",
     "output_type": "stream",
     "text": [
      "100%|██████████| 11053/11053 [01:31<00:00, 121.11it/s]\n",
      "100%|██████████| 594/594 [00:01<00:00, 330.27it/s]\n",
      "  0%|          | 0/11053 [00:00<?, ?it/s]"
     ]
    },
    {
     "name": "stdout",
     "output_type": "stream",
     "text": [
      ">>> test error: 0.05254906415939331 <<<\n",
      "==========================\n",
      ">>> epoch: 5 | lr: 0.00100\n"
     ]
    },
    {
     "name": "stderr",
     "output_type": "stream",
     "text": [
      "100%|██████████| 11053/11053 [01:41<00:00, 108.90it/s]\n",
      "100%|██████████| 594/594 [00:01<00:00, 329.25it/s]\n",
      "  0%|          | 0/11053 [00:00<?, ?it/s]"
     ]
    },
    {
     "name": "stdout",
     "output_type": "stream",
     "text": [
      ">>> test error: 0.052096862345933914 <<<\n",
      "==========================\n",
      ">>> epoch: 6 | lr: 0.00100\n"
     ]
    },
    {
     "name": "stderr",
     "output_type": "stream",
     "text": [
      "100%|██████████| 11053/11053 [01:39<00:00, 111.27it/s]\n",
      "100%|██████████| 594/594 [00:01<00:00, 321.61it/s]\n",
      "  0%|          | 0/11053 [00:00<?, ?it/s]"
     ]
    },
    {
     "name": "stdout",
     "output_type": "stream",
     "text": [
      ">>> test error: 0.049836646765470505 <<<\n",
      "==========================\n",
      ">>> epoch: 7 | lr: 0.00100\n"
     ]
    },
    {
     "name": "stderr",
     "output_type": "stream",
     "text": [
      "100%|██████████| 11053/11053 [01:37<00:00, 112.98it/s]\n",
      "100%|██████████| 594/594 [00:01<00:00, 313.38it/s]\n",
      "  0%|          | 0/11053 [00:00<?, ?it/s]"
     ]
    },
    {
     "name": "stdout",
     "output_type": "stream",
     "text": [
      ">>> test error: 0.05005735158920288 <<<\n",
      "==========================\n",
      ">>> epoch: 8 | lr: 0.00100\n"
     ]
    },
    {
     "name": "stderr",
     "output_type": "stream",
     "text": [
      "100%|██████████| 11053/11053 [01:35<00:00, 115.99it/s]\n",
      "100%|██████████| 594/594 [00:01<00:00, 316.69it/s]\n",
      "  0%|          | 0/11053 [00:00<?, ?it/s]"
     ]
    },
    {
     "name": "stdout",
     "output_type": "stream",
     "text": [
      ">>> test error: 0.04968129098415375 <<<\n",
      "==========================\n",
      ">>> epoch: 9 | lr: 0.00100\n"
     ]
    },
    {
     "name": "stderr",
     "output_type": "stream",
     "text": [
      "100%|██████████| 11053/11053 [01:31<00:00, 121.23it/s]\n",
      "100%|██████████| 594/594 [00:01<00:00, 328.87it/s]\n",
      "  0%|          | 0/11053 [00:00<?, ?it/s]"
     ]
    },
    {
     "name": "stdout",
     "output_type": "stream",
     "text": [
      ">>> test error: 0.05045212432742119 <<<\n",
      "==========================\n",
      ">>> epoch: 10 | lr: 0.00100\n"
     ]
    },
    {
     "name": "stderr",
     "output_type": "stream",
     "text": [
      "100%|██████████| 11053/11053 [01:30<00:00, 122.13it/s]\n",
      "100%|██████████| 594/594 [00:01<00:00, 329.41it/s]\n",
      "  0%|          | 0/11053 [00:00<?, ?it/s]"
     ]
    },
    {
     "name": "stdout",
     "output_type": "stream",
     "text": [
      ">>> test error: 0.048586249351501465 <<<\n",
      "==========================\n",
      ">>> epoch: 11 | lr: 0.00096\n"
     ]
    },
    {
     "name": "stderr",
     "output_type": "stream",
     "text": [
      "100%|██████████| 11053/11053 [01:32<00:00, 119.48it/s]\n",
      "100%|██████████| 594/594 [00:01<00:00, 325.45it/s]\n",
      "  0%|          | 0/11053 [00:00<?, ?it/s]"
     ]
    },
    {
     "name": "stdout",
     "output_type": "stream",
     "text": [
      ">>> test error: 0.04769899323582649 <<<\n",
      "==========================\n",
      ">>> epoch: 12 | lr: 0.00096\n"
     ]
    },
    {
     "name": "stderr",
     "output_type": "stream",
     "text": [
      "100%|██████████| 11053/11053 [01:34<00:00, 117.11it/s]\n",
      "100%|██████████| 594/594 [00:01<00:00, 319.16it/s]\n",
      "  0%|          | 0/11053 [00:00<?, ?it/s]"
     ]
    },
    {
     "name": "stdout",
     "output_type": "stream",
     "text": [
      ">>> test error: 0.04894165322184563 <<<\n",
      "==========================\n",
      ">>> epoch: 13 | lr: 0.00096\n"
     ]
    },
    {
     "name": "stderr",
     "output_type": "stream",
     "text": [
      "100%|██████████| 11053/11053 [01:41<00:00, 109.16it/s]\n",
      "100%|██████████| 594/594 [00:01<00:00, 326.13it/s]\n",
      "  0%|          | 0/11053 [00:00<?, ?it/s]"
     ]
    },
    {
     "name": "stdout",
     "output_type": "stream",
     "text": [
      ">>> test error: 0.048920586705207825 <<<\n",
      "==========================\n",
      ">>> epoch: 14 | lr: 0.00096\n"
     ]
    },
    {
     "name": "stderr",
     "output_type": "stream",
     "text": [
      "100%|██████████| 11053/11053 [01:41<00:00, 108.56it/s]\n",
      "100%|██████████| 594/594 [00:01<00:00, 333.82it/s]\n",
      "  0%|          | 0/11053 [00:00<?, ?it/s]"
     ]
    },
    {
     "name": "stdout",
     "output_type": "stream",
     "text": [
      ">>> test error: 0.04772130772471428 <<<\n",
      "==========================\n",
      ">>> epoch: 15 | lr: 0.00096\n"
     ]
    },
    {
     "name": "stderr",
     "output_type": "stream",
     "text": [
      "100%|██████████| 11053/11053 [01:28<00:00, 124.85it/s]\n",
      "100%|██████████| 594/594 [00:01<00:00, 314.72it/s]\n",
      "  0%|          | 0/11053 [00:00<?, ?it/s]"
     ]
    },
    {
     "name": "stdout",
     "output_type": "stream",
     "text": [
      ">>> test error: 0.04847876355051994 <<<\n",
      "==========================\n",
      ">>> epoch: 16 | lr: 0.00096\n"
     ]
    },
    {
     "name": "stderr",
     "output_type": "stream",
     "text": [
      "100%|██████████| 11053/11053 [01:39<00:00, 110.76it/s]\n",
      "100%|██████████| 594/594 [00:01<00:00, 328.81it/s]\n",
      "  0%|          | 0/11053 [00:00<?, ?it/s]"
     ]
    },
    {
     "name": "stdout",
     "output_type": "stream",
     "text": [
      ">>> test error: 0.046560853719711304 <<<\n",
      "==========================\n",
      ">>> epoch: 17 | lr: 0.00096\n"
     ]
    },
    {
     "name": "stderr",
     "output_type": "stream",
     "text": [
      "100%|██████████| 11053/11053 [01:38<00:00, 112.19it/s]\n",
      "100%|██████████| 594/594 [00:01<00:00, 326.38it/s]\n",
      "  0%|          | 0/11053 [00:00<?, ?it/s]"
     ]
    },
    {
     "name": "stdout",
     "output_type": "stream",
     "text": [
      ">>> test error: 0.04801526665687561 <<<\n",
      "==========================\n",
      ">>> epoch: 18 | lr: 0.00096\n"
     ]
    },
    {
     "name": "stderr",
     "output_type": "stream",
     "text": [
      "  4%|▍         | 467/11053 [00:04<01:31, 115.24it/s]Exception in thread Thread-89:\n",
      "Traceback (most recent call last):\n",
      "  File \"/home/user/anaconda3/envs/lf3d/lib/python3.7/threading.py\", line 926, in _bootstrap_inner\n",
      "    self.run()\n",
      "  File \"/home/user/anaconda3/envs/lf3d/lib/python3.7/threading.py\", line 870, in run\n",
      "    self._target(*self._args, **self._kwargs)\n",
      "  File \"/home/user/anaconda3/envs/lf3d/lib/python3.7/site-packages/torch/utils/data/_utils/pin_memory.py\", line 25, in _pin_memory_loop\n",
      "    r = in_queue.get(timeout=MP_STATUS_CHECK_INTERVAL)\n",
      "  File \"/home/user/anaconda3/envs/lf3d/lib/python3.7/multiprocessing/queues.py\", line 113, in get\n",
      "    return _ForkingPickler.loads(res)\n",
      "  File \"/home/user/anaconda3/envs/lf3d/lib/python3.7/site-packages/torch/multiprocessing/reductions.py\", line 294, in rebuild_storage_fd\n",
      "    fd = df.detach()\n",
      "  File \"/home/user/anaconda3/envs/lf3d/lib/python3.7/multiprocessing/resource_sharer.py\", line 57, in detach\n",
      "    with _resource_sharer.get_connection(self._id) as conn:\n",
      "  File \"/home/user/anaconda3/envs/lf3d/lib/python3.7/multiprocessing/resource_sharer.py\", line 87, in get_connection\n",
      "    c = Client(address, authkey=process.current_process().authkey)\n",
      "  File \"/home/user/anaconda3/envs/lf3d/lib/python3.7/multiprocessing/connection.py\", line 492, in Client\n",
      "    c = SocketClient(address)\n",
      "  File \"/home/user/anaconda3/envs/lf3d/lib/python3.7/multiprocessing/connection.py\", line 619, in SocketClient\n",
      "    s.connect(address)\n",
      "FileNotFoundError: [Errno 2] No such file or directory\n",
      "\n",
      "  4%|▍         | 469/11053 [00:04<01:44, 101.24it/s]\n"
     ]
    },
    {
     "ename": "KeyboardInterrupt",
     "evalue": "",
     "output_type": "error",
     "traceback": [
      "\u001b[0;31m---------------------------------------------------------------------------\u001b[0m",
      "\u001b[0;31mKeyboardInterrupt\u001b[0m                         Traceback (most recent call last)",
      "\u001b[0;32m<ipython-input-21-8deebb4f0a78>\u001b[0m in \u001b[0;36m<module>\u001b[0;34m\u001b[0m\n\u001b[1;32m      3\u001b[0m \u001b[0;31m# TODO it does not make sense to input dictionary, it should be two numpy arrays instead, or at least dictionary of same size\u001b[0m\u001b[0;34m\u001b[0m\u001b[0;34m\u001b[0m\u001b[0;34m\u001b[0m\u001b[0m\n\u001b[1;32m      4\u001b[0m lp3d_train(train_2d, test_2d, train_3d, test_3d, rcams_train, rcams_test, \n\u001b[0;32m----> 5\u001b[0;31m       par['roots'], par['targets'], 2, par[\"out_dim\"], par['out_dir'])\n\u001b[0m",
      "\u001b[0;32m~/Desktop/LiftPose3D/liftpose/main.py\u001b[0m in \u001b[0;36mtrain\u001b[0;34m(train_2d, test_2d, train_3d, test_3d, rcams_train, rcams_test, roots, target_sets, in_dim, out_dim, out_dir)\u001b[0m\n\u001b[1;32m    128\u001b[0m     \u001b[0mlogger\u001b[0m\u001b[0;34m.\u001b[0m\u001b[0mdebug\u001b[0m\u001b[0;34m(\u001b[0m\u001b[0mpformat\u001b[0m\u001b[0;34m(\u001b[0m\u001b[0mvars\u001b[0m\u001b[0;34m(\u001b[0m\u001b[0moption\u001b[0m\u001b[0;34m)\u001b[0m\u001b[0;34m,\u001b[0m \u001b[0mindent\u001b[0m\u001b[0;34m=\u001b[0m\u001b[0;36m4\u001b[0m\u001b[0;34m)\u001b[0m\u001b[0;34m)\u001b[0m\u001b[0;34m\u001b[0m\u001b[0;34m\u001b[0m\u001b[0m\n\u001b[1;32m    129\u001b[0m     \u001b[0mlogger\u001b[0m\u001b[0;34m.\u001b[0m\u001b[0mdebug\u001b[0m\u001b[0;34m(\u001b[0m\u001b[0;34m\"==========================================\\n\"\u001b[0m\u001b[0;34m)\u001b[0m\u001b[0;34m\u001b[0m\u001b[0;34m\u001b[0m\u001b[0m\n\u001b[0;32m--> 130\u001b[0;31m     \u001b[0mnetwork_main\u001b[0m\u001b[0;34m(\u001b[0m\u001b[0moption\u001b[0m\u001b[0;34m)\u001b[0m\u001b[0;34m\u001b[0m\u001b[0;34m\u001b[0m\u001b[0m\n\u001b[0m\u001b[1;32m    131\u001b[0m \u001b[0;34m\u001b[0m\u001b[0m\n\u001b[1;32m    132\u001b[0m \u001b[0;34m\u001b[0m\u001b[0m\n",
      "\u001b[0;32m~/Desktop/LiftPose3D/liftpose/lifter/lift.py\u001b[0m in \u001b[0;36mnetwork_main\u001b[0;34m(opt)\u001b[0m\n\u001b[1;32m    131\u001b[0m             \u001b[0mlr_decay\u001b[0m\u001b[0;34m=\u001b[0m\u001b[0mopt\u001b[0m\u001b[0;34m.\u001b[0m\u001b[0mlr_decay\u001b[0m\u001b[0;34m,\u001b[0m\u001b[0;34m\u001b[0m\u001b[0;34m\u001b[0m\u001b[0m\n\u001b[1;32m    132\u001b[0m             \u001b[0mgamma\u001b[0m\u001b[0;34m=\u001b[0m\u001b[0mopt\u001b[0m\u001b[0;34m.\u001b[0m\u001b[0mlr_gamma\u001b[0m\u001b[0;34m,\u001b[0m\u001b[0;34m\u001b[0m\u001b[0;34m\u001b[0m\u001b[0m\n\u001b[0;32m--> 133\u001b[0;31m             \u001b[0mmax_norm\u001b[0m\u001b[0;34m=\u001b[0m\u001b[0mopt\u001b[0m\u001b[0;34m.\u001b[0m\u001b[0mmax_norm\u001b[0m\u001b[0;34m,\u001b[0m\u001b[0;34m\u001b[0m\u001b[0;34m\u001b[0m\u001b[0m\n\u001b[0m\u001b[1;32m    134\u001b[0m         )\n\u001b[1;32m    135\u001b[0m \u001b[0;34m\u001b[0m\u001b[0m\n",
      "\u001b[0;32m~/Desktop/LiftPose3D/liftpose/lifter/train.py\u001b[0m in \u001b[0;36mtrain\u001b[0;34m(train_loader, model, criterion, optimizer, lr_init, lr_now, glob_step, lr_decay, gamma, max_norm)\u001b[0m\n\u001b[1;32m     26\u001b[0m         \u001b[0mloss\u001b[0m \u001b[0;34m=\u001b[0m \u001b[0mcriterion\u001b[0m\u001b[0;34m(\u001b[0m\u001b[0moutputs\u001b[0m\u001b[0;34m,\u001b[0m \u001b[0mtargets\u001b[0m\u001b[0;34m)\u001b[0m\u001b[0;34m\u001b[0m\u001b[0;34m\u001b[0m\u001b[0m\n\u001b[1;32m     27\u001b[0m         \u001b[0mlosses\u001b[0m\u001b[0;34m.\u001b[0m\u001b[0mupdate\u001b[0m\u001b[0;34m(\u001b[0m\u001b[0mloss\u001b[0m\u001b[0;34m.\u001b[0m\u001b[0mitem\u001b[0m\u001b[0;34m(\u001b[0m\u001b[0;34m)\u001b[0m\u001b[0;34m,\u001b[0m \u001b[0minputs\u001b[0m\u001b[0;34m.\u001b[0m\u001b[0msize\u001b[0m\u001b[0;34m(\u001b[0m\u001b[0;36m0\u001b[0m\u001b[0;34m)\u001b[0m\u001b[0;34m)\u001b[0m\u001b[0;34m\u001b[0m\u001b[0;34m\u001b[0m\u001b[0m\n\u001b[0;32m---> 28\u001b[0;31m         \u001b[0mloss\u001b[0m\u001b[0;34m.\u001b[0m\u001b[0mbackward\u001b[0m\u001b[0;34m(\u001b[0m\u001b[0;34m)\u001b[0m\u001b[0;34m\u001b[0m\u001b[0;34m\u001b[0m\u001b[0m\n\u001b[0m\u001b[1;32m     29\u001b[0m         \u001b[0;32mif\u001b[0m \u001b[0mmax_norm\u001b[0m\u001b[0;34m:\u001b[0m\u001b[0;34m\u001b[0m\u001b[0;34m\u001b[0m\u001b[0m\n\u001b[1;32m     30\u001b[0m             \u001b[0mnn\u001b[0m\u001b[0;34m.\u001b[0m\u001b[0mutils\u001b[0m\u001b[0;34m.\u001b[0m\u001b[0mclip_grad_norm_\u001b[0m\u001b[0;34m(\u001b[0m\u001b[0mmodel\u001b[0m\u001b[0;34m.\u001b[0m\u001b[0mparameters\u001b[0m\u001b[0;34m(\u001b[0m\u001b[0;34m)\u001b[0m\u001b[0;34m,\u001b[0m \u001b[0mmax_norm\u001b[0m\u001b[0;34m=\u001b[0m\u001b[0;36m1\u001b[0m\u001b[0;34m)\u001b[0m\u001b[0;34m\u001b[0m\u001b[0;34m\u001b[0m\u001b[0m\n",
      "\u001b[0;32m~/anaconda3/envs/lf3d/lib/python3.7/site-packages/torch/tensor.py\u001b[0m in \u001b[0;36mbackward\u001b[0;34m(self, gradient, retain_graph, create_graph)\u001b[0m\n\u001b[1;32m    196\u001b[0m                 \u001b[0mproducts\u001b[0m\u001b[0;34m.\u001b[0m \u001b[0mDefaults\u001b[0m \u001b[0mto\u001b[0m\u001b[0;31m \u001b[0m\u001b[0;31m`\u001b[0m\u001b[0;31m`\u001b[0m\u001b[0;32mFalse\u001b[0m\u001b[0;31m`\u001b[0m\u001b[0;31m`\u001b[0m\u001b[0;34m.\u001b[0m\u001b[0;34m\u001b[0m\u001b[0;34m\u001b[0m\u001b[0m\n\u001b[1;32m    197\u001b[0m         \"\"\"\n\u001b[0;32m--> 198\u001b[0;31m         \u001b[0mtorch\u001b[0m\u001b[0;34m.\u001b[0m\u001b[0mautograd\u001b[0m\u001b[0;34m.\u001b[0m\u001b[0mbackward\u001b[0m\u001b[0;34m(\u001b[0m\u001b[0mself\u001b[0m\u001b[0;34m,\u001b[0m \u001b[0mgradient\u001b[0m\u001b[0;34m,\u001b[0m \u001b[0mretain_graph\u001b[0m\u001b[0;34m,\u001b[0m \u001b[0mcreate_graph\u001b[0m\u001b[0;34m)\u001b[0m\u001b[0;34m\u001b[0m\u001b[0;34m\u001b[0m\u001b[0m\n\u001b[0m\u001b[1;32m    199\u001b[0m \u001b[0;34m\u001b[0m\u001b[0m\n\u001b[1;32m    200\u001b[0m     \u001b[0;32mdef\u001b[0m \u001b[0mregister_hook\u001b[0m\u001b[0;34m(\u001b[0m\u001b[0mself\u001b[0m\u001b[0;34m,\u001b[0m \u001b[0mhook\u001b[0m\u001b[0;34m)\u001b[0m\u001b[0;34m:\u001b[0m\u001b[0;34m\u001b[0m\u001b[0;34m\u001b[0m\u001b[0m\n",
      "\u001b[0;32m~/anaconda3/envs/lf3d/lib/python3.7/site-packages/torch/autograd/__init__.py\u001b[0m in \u001b[0;36mbackward\u001b[0;34m(tensors, grad_tensors, retain_graph, create_graph, grad_variables)\u001b[0m\n\u001b[1;32m     98\u001b[0m     Variable._execution_engine.run_backward(\n\u001b[1;32m     99\u001b[0m         \u001b[0mtensors\u001b[0m\u001b[0;34m,\u001b[0m \u001b[0mgrad_tensors\u001b[0m\u001b[0;34m,\u001b[0m \u001b[0mretain_graph\u001b[0m\u001b[0;34m,\u001b[0m \u001b[0mcreate_graph\u001b[0m\u001b[0;34m,\u001b[0m\u001b[0;34m\u001b[0m\u001b[0;34m\u001b[0m\u001b[0m\n\u001b[0;32m--> 100\u001b[0;31m         allow_unreachable=True)  # allow_unreachable flag\n\u001b[0m\u001b[1;32m    101\u001b[0m \u001b[0;34m\u001b[0m\u001b[0m\n\u001b[1;32m    102\u001b[0m \u001b[0;34m\u001b[0m\u001b[0m\n",
      "\u001b[0;31mKeyboardInterrupt\u001b[0m: "
     ]
    }
   ],
   "source": [
    "from liftpose.main import train as lp3d_train\n",
    "from liftpose.main import test as lp3d_test\n",
    "# TODO it does not make sense to input dictionary, it should be two numpy arrays instead, or at least dictionary of same size\n",
    "lp3d_train(train_2d, test_2d, train_3d, test_3d, rcams_train, rcams_test, \n",
    "      par['roots'], par['targets'], 2, par[\"out_dim\"], par['out_dir'])"
   ]
  },
  {
   "cell_type": "code",
   "execution_count": 22,
   "metadata": {},
   "outputs": [
    {
     "data": {
      "image/png": "[encoded data removed]",
      "text/plain": [
       "<Figure size 432x288 with 1 Axes>"
      ]
     },
     "metadata": {
      "needs_background": "light"
     },
     "output_type": "display_data"
    }
   ],
   "source": [
    "from liftpose.plot import read_log_train, plot_log_train\n",
    "import matplotlib.pyplot as plt\n",
    "# TODO why large gap between train and test?\n",
    "epoch, lr, loss_train, loss_test, err_test = read_log_train(par['out_dir'])\n",
    "plot_log_train(plt.gca(), loss_train, loss_test, epoch)"
   ]
  },
  {
   "cell_type": "markdown",
   "metadata": {},
   "source": [
    "# Run Trained LiftPose3D Network on the Test Data"
   ]
  },
  {
   "cell_type": "code",
   "execution_count": 23,
   "metadata": {},
   "outputs": [
    {
     "name": "stderr",
     "output_type": "stream",
     "text": [
      "  0%|          | 0/594 [00:00<?, ?it/s]"
     ]
    },
    {
     "name": "stdout",
     "output_type": "stream",
     "text": [
      "\n",
      ">>> loading data\n",
      ">>> input dimension: 24\n",
      ">>> output dimension: 36\n",
      ">>> total params: 4.27M\n",
      ">>> loading ckpt from './out/ckpt_best.pth.tar'\n",
      ">>> ckpt loaded (epoch: 16 | err: 0.046560853719711304)\n"
     ]
    },
    {
     "name": "stderr",
     "output_type": "stream",
     "text": [
      "100%|██████████| 594/594 [00:01<00:00, 326.77it/s]\n"
     ]
    },
    {
     "name": "stdout",
     "output_type": "stream",
     "text": [
      ">>> test error: 0.046560853719711304 <<<\n",
      "/home/user/Desktop/LiftPose3D/examples/fly_tether/out/test_results.pth.tar\n",
      "0.0466\t"
     ]
    },
    {
     "ename": "SystemExit",
     "evalue": "",
     "output_type": "error",
     "traceback": [
      "An exception has occurred, use %tb to see the full traceback.\n",
      "\u001b[0;31mSystemExit\u001b[0m\n"
     ]
    }
   ],
   "source": [
    "# TODO test prints as log instead\n",
    "# TODO pass arguments if we want to test it on the data that is not trained on\n",
    "lp3d_test(par['out_dir'])"
   ]
  },
  {
   "cell_type": "markdown",
   "metadata": {},
   "source": [
    "# Visualize Predictions"
   ]
  },
  {
   "cell_type": "code",
   "execution_count": 83,
   "metadata": {},
   "outputs": [],
   "source": [
    "# TODO we are losing correspondence between exp names and final predictions, we should keep it!\n",
    "from liftpose.postprocess import load_test_results\n",
    "test_3d, test_3d_pred = load_test_results(par['out_dir'])"
   ]
  },
  {
   "cell_type": "code",
   "execution_count": 125,
   "metadata": {},
   "outputs": [
    {
     "name": "stdout",
     "output_type": "stream",
     "text": [
      "\n"
     ]
    },
    {
     "data": {
      "image/png": "[encoded data removed]",
      "text/plain": [
       "<Figure size 288x288 with 1 Axes>"
      ]
     },
     "metadata": {
      "needs_background": "light"
     },
     "output_type": "display_data"
    }
   ],
   "source": [
    "import networkx as nx\n",
    "from liftpose.plot import plot_3d_graph\n",
    "pos_pred, pos_tar = [], []\n",
    "\n",
    "thist = 7\n",
    "pos_pred, pos_tar = [], []\n",
    "t = 900\n",
    "for j in range(test_3d_pred.shape[1]//3):\n",
    "    tmin = max(0,t-thist+1)\n",
    "    pos_pred.append((test_3d_pred[tmin:(t+1), 3*j], test_3d_pred[tmin:(t+1), 3*j+1], test_3d_pred[tmin:(t+1), 3*j+2]))\n",
    "    pos_tar.append((test_3d[tmin:(t+1), 3*j], test_3d[tmin:(t+1), 3*j+1], test_3d[tmin:(t+1), 3*j+2]))\n",
    "\n",
    "pos_pred, pos_tar = np.array(pos_pred), np.array(pos_tar)\n",
    "#.plot_trailing_points(pos_pred[legtips,:,:],min(thist,t+1),ax)\n",
    "\n",
    "G=nx.Graph()\n",
    "G.add_edges_from(np.array(par['bones'])[:12])\n",
    "G.add_nodes_from(np.arange(par['ndims']))\n",
    "print(G)\n",
    "\n",
    "fig = plt.figure(figsize=plt.figaspect(1))\n",
    "fig.subplots_adjust(left=0, right=1, bottom=0, top=1)\n",
    "ax = fig.add_subplot(111, projection='3d')\n",
    "ax.view_init(elev=200, azim=60)\n",
    "\n",
    "limb_id = [i for i in range(6) for j in range(5)]\n",
    "nodes = [i for i in range(30)]\n",
    "\n",
    "colors = [[186,30,49], [201,86,79], [213,133,121], #RF, RM, RH\n",
    "          [15,115, 153], [26,141, 175], [117,190,203] #LF, LM, LH\n",
    "          ]\n",
    "\n",
    "edge_colors = [[x / 255.0 for x in colors[i]] for i in limb_id]\n",
    "\n",
    "#plot skeleton\n",
    "plot_3d_graph(G, pos_tar[:,:,-1], ax, color_edge=edge_colors)\n",
    "plot_3d_graph(G, pos_pred[:,:,-1], ax, color_edge=edge_colors, style='--')"
   ]
  },
  {
   "cell_type": "code",
   "execution_count": null,
   "metadata": {},
   "outputs": [],
   "source": []
  }
 ],
 "metadata": {
  "kernelspec": {
   "display_name": "Python 3.7.7 64-bit",
   "language": "python",
   "name": "python37764bit67c49755760a41fd8ae638ded7068a5f"
  },
  "language_info": {
   "codemirror_mode": {
    "name": "ipython",
    "version": 3
   },
   "file_extension": ".py",
   "mimetype": "text/x-python",
   "name": "python",
   "nbconvert_exporter": "python",
   "pygments_lexer": "ipython3",
   "version": "3.7.7"
  }
 },
 "nbformat": 4,
 "nbformat_minor": 4
}
