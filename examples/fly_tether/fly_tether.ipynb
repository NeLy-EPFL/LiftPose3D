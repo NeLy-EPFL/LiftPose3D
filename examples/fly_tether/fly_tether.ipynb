{
 "cells": [
  {
   "cell_type": "markdown",
   "metadata": {},
   "source": [
    "# Load DeepFly3D Data"
   ]
  },
  {
   "cell_type": "code",
   "execution_count": 5,
   "metadata": {},
   "outputs": [
    {
     "name": "stdout",
     "output_type": "stream",
     "text": [
      "The autoreload extension is already loaded. To reload it, use:\n",
      "  %reload_ext autoreload\n"
     ]
    }
   ],
   "source": [
    "%load_ext autoreload\n",
    "%autoreload 2\n",
    "from load import *\n",
    "import torch\n",
    "import yaml\n",
    "import logging\n",
    "from imp import reload\n",
    "import matplotlib.pyplot as plt\n",
    "from liftpose.vision_3d import world_to_camera_dict, reprojection_error\n",
    "reload(logging)\n",
    "logger = logging.getLogger(__name__).setLevel(logging.INFO)\n",
    "from tqdm import tqdm\n",
    "tqdm.get_lock().locks = []\n",
    "\n",
    "# decleare data parameters\n",
    "par_train = {  'data_dir'       : '/data/LiftPose3D/fly_tether/data_DF3D/', # change the path \n",
    "               'out_dir'        : '/data/LiftPose3D/fly_tether/cams_test/',\n",
    "               'train_subjects' : [1],\n",
    "               'test_subjects'  : [6],\n",
    "               'actions'        : ['all'],\n",
    "               'cam_id'         : [0,1,2,4,5,6]}\n",
    "\n",
    "# merge with training parameters\n",
    "par_data = yaml.full_load(open('param.yaml', \"rb\"))\n",
    "par = {**par_data[\"data\"], **par_train}\n",
    "\n",
    "# Load 2D data\n",
    "train_2d = load_2D(\n",
    "    par[\"data_dir\"],\n",
    "    par,\n",
    "    cam_id=par[\"cam_id\"],\n",
    "    subjects=par[\"train_subjects\"],\n",
    "    actions=par[\"actions\"],\n",
    ")\n",
    "test_2d = load_2D(\n",
    "    par[\"data_dir\"],\n",
    "    par,\n",
    "    cam_id=par[\"cam_id\"],\n",
    "    subjects=par[\"test_subjects\"],\n",
    "    actions=par[\"actions\"],\n",
    ")\n",
    "\n",
    "# Load 3D data\n",
    "train_3d, train_keypts, rcams_train = load_3D(\n",
    "    par[\"data_dir\"],\n",
    "    par,\n",
    "    cam_id=par[\"cam_id\"],\n",
    "    subjects=par[\"train_subjects\"],\n",
    "    actions=par[\"actions\"],\n",
    ")\n",
    "test_3d, test_keypts, rcams_test = load_3D(\n",
    "    par[\"data_dir\"],\n",
    "    par,\n",
    "    cam_id=par[\"cam_id\"],\n",
    "    subjects=par[\"test_subjects\"],\n",
    "    actions=par[\"actions\"],\n",
    ")\n",
    "\n",
    "train_3d = world_to_camera_dict(train_3d, rcams_train)\n",
    "test_3d = world_to_camera_dict(test_3d, rcams_test)"
   ]
  },
  {
   "cell_type": "markdown",
   "metadata": {},
   "source": [
    "# Train LiftPose3D Network on DeepFly3D Data"
   ]
  },
  {
   "cell_type": "code",
   "execution_count": 6,
   "metadata": {},
   "outputs": [
    {
     "name": "stdout",
     "output_type": "stream",
     "text": [
      "[main.py:251]:INFO:Saving pre-processed 2D data at /data/LiftPose3D/fly_tether/cams_test3/stat_2d.pth.tar.\n",
      "[main.py:270]:INFO:Saving pre-processed 3D data at /data/LiftPose3D/fly_tether/cams_test3/stat_3d.pth.tar.\n",
      "[main.py:298]:INFO:Starting training model.\n",
      "[main.py:308]:DEBUG:\n",
      "==================Options=================\n",
      "[main.py:309]:DEBUG:{   'batch_size': 64,\n",
      "    'data_dir': '/data/LiftPose3D/fly_tether/cams_test3',\n",
      "    'drop_input': 0.0,\n",
      "    'dropout': 0.0,\n",
      "    'epochs': 20,\n",
      "    'exp': '',\n",
      "    'is_train': True,\n",
      "    'job': 8,\n",
      "    'linear_size': 1024,\n",
      "    'load': None,\n",
      "    'lr': 0.001,\n",
      "    'lr_decay': 5000,\n",
      "    'lr_gamma': 0.9,\n",
      "    'max_norm': True,\n",
      "    'noise': None,\n",
      "    'num_stage': 2,\n",
      "    'out': '/data/LiftPose3D/fly_tether/cams_test3',\n",
      "    'out_dir': '/data/LiftPose3D/fly_tether/cams_test3',\n",
      "    'predict': False,\n",
      "    'procrustes': False,\n",
      "    'resume': False,\n",
      "    'test': False}\n",
      "[main.py:310]:DEBUG:==========================================\n",
      "\n",
      "[lift.py:31]:INFO:Training on the device: cuda:0\n",
      "[lift.py:58]:INFO:total params: 4.27M\n"
     ]
    },
    {
     "name": "stderr",
     "output_type": "stream",
     "text": [
      "Epoch 000 | LR  0.00090 | Loss Test  0.00000 | Loss Train  0.14981|: 100%|██████████| 9871/9871 [00:53<00:00, 182.86it/s]\n",
      "Epoch 001 | LR  0.00073 | Loss Test  0.07093 | Loss Train  0.09155|: 100%|██████████| 9871/9871 [00:52<00:00, 186.69it/s]\n",
      "Epoch 002 | LR  0.00059 | Loss Test  0.05167 | Loss Train  0.07762|: 100%|██████████| 9871/9871 [00:54<00:00, 182.73it/s]\n",
      "Epoch 003 | LR  0.00048 | Loss Test  0.04614 | Loss Train  0.07015|: 100%|██████████| 9871/9871 [00:53<00:00, 184.95it/s]\n",
      "Epoch 004 | LR  0.00039 | Loss Test  0.04248 | Loss Train  0.06517|: 100%|██████████| 9871/9871 [00:53<00:00, 184.50it/s]\n",
      "Epoch 005 | LR  0.00031 | Loss Test  0.04098 | Loss Train  0.06165|: 100%|██████████| 9871/9871 [00:53<00:00, 184.91it/s]\n",
      "Epoch 006 | LR  0.00025 | Loss Test  0.03850 | Loss Train  0.05884|: 100%|██████████| 9871/9871 [00:53<00:00, 185.57it/s]\n",
      "Epoch 007 | LR  0.00021 | Loss Test  0.03703 | Loss Train  0.05659|: 100%|██████████| 9871/9871 [00:53<00:00, 184.63it/s]\n",
      "Epoch 008 | LR  0.00017 | Loss Test  0.03612 | Loss Train  0.05483|: 100%|██████████| 9871/9871 [00:53<00:00, 183.48it/s]\n",
      "Epoch 009 | LR  0.00014 | Loss Test  0.03486 | Loss Train  0.05349|: 100%|██████████| 9871/9871 [00:54<00:00, 182.00it/s]\n",
      "Epoch 010 | LR  0.00011 | Loss Test  0.03424 | Loss Train  0.05229|: 100%|██████████| 9871/9871 [00:54<00:00, 182.13it/s]\n",
      "Epoch 011 | LR  0.00009 | Loss Test  0.03379 | Loss Train  0.05135|: 100%|██████████| 9871/9871 [00:53<00:00, 184.77it/s]\n",
      "Epoch 012 | LR  0.00007 | Loss Test  0.03324 | Loss Train  0.05053|: 100%|██████████| 9871/9871 [00:53<00:00, 182.86it/s]\n",
      "Epoch 013 | LR  0.00006 | Loss Test  0.03309 | Loss Train  0.04987|: 100%|██████████| 9871/9871 [00:53<00:00, 185.75it/s]\n",
      "Epoch 014 | LR  0.00005 | Loss Test  0.03239 | Loss Train  0.04938|: 100%|██████████| 9871/9871 [00:53<00:00, 183.99it/s]\n",
      "Epoch 015 | LR  0.00004 | Loss Test  0.03259 | Loss Train  0.04898|: 100%|██████████| 9871/9871 [00:53<00:00, 184.79it/s]\n",
      "Epoch 016 | LR  0.00003 | Loss Test  0.03229 | Loss Train  0.04863|: 100%|██████████| 9871/9871 [00:53<00:00, 184.77it/s]\n",
      "Epoch 017 | LR  0.00003 | Loss Test  0.03176 | Loss Train  0.04834|: 100%|██████████| 9871/9871 [00:54<00:00, 182.05it/s]\n",
      "Epoch 018 | LR  0.00002 | Loss Test  0.03211 | Loss Train  0.04814|: 100%|██████████| 9871/9871 [00:53<00:00, 183.17it/s]\n",
      "Epoch 019 | LR  0.00002 | Loss Test  0.03136 | Loss Train  0.04792|: 100%|██████████| 9871/9871 [00:53<00:00, 185.26it/s]\n"
     ]
    }
   ],
   "source": [
    "from liftpose.main import train as lp3d_train\n",
    "from liftpose.lifter.augmentation import add_noise\n",
    "\n",
    "lp3d_train(train_2d=train_2d, test_2d=test_2d,\n",
    "           train_3d=train_3d, test_3d=test_3d, \n",
    "           train_keypts=train_keypts,\n",
    "           test_keypts=test_keypts,\n",
    "           roots=par['roots'],\n",
    "           target_sets=par['target_sets'],\n",
    "           out_dir=par['out_dir'],\n",
    "           training_kwargs={\"epochs\":20,\n",
    "                            \"dropout\":0.0},\n",
    "           norm_2d = True,\n",
    "          )#augmentation=[add_noise(noise_amplitude=.1)])"
   ]
  },
  {
   "cell_type": "code",
   "execution_count": 7,
   "metadata": {},
   "outputs": [
    {
     "name": "stderr",
     "output_type": "stream",
     "text": [
      "<frozen importlib._bootstrap>:219: RuntimeWarning: numpy.ufunc size changed, may indicate binary incompatibility. Expected 192 from C header, got 216 from PyObject\n"
     ]
    },
    {
     "data": {
      "image/png": "[encoded data removed]",
      "text/plain": [
       "<Figure size 432x288 with 1 Axes>"
      ]
     },
     "metadata": {
      "needs_background": "light"
     },
     "output_type": "display_data"
    }
   ],
   "source": [
    "%matplotlib inline\n",
    "from liftpose.plot import read_log_train, plot_log_train\n",
    "epoch, lr, loss_train, loss_test, err_test = read_log_train(par['out_dir'])\n",
    "plot_log_train(plt.gca(), loss_train, loss_test, epoch)"
   ]
  },
  {
   "cell_type": "markdown",
   "metadata": {},
   "source": [
    "# Run Trained LiftPose3D Network on the Test Data"
   ]
  },
  {
   "cell_type": "code",
   "execution_count": 8,
   "metadata": {},
   "outputs": [
    {
     "name": "stdout",
     "output_type": "stream",
     "text": [
      "[main.py:409]:INFO:starting testing in path: /data/LiftPose3D/fly_tether/cams_test3/\n",
      "[lift.py:31]:INFO:Training on the device: cuda:0\n",
      "[lift.py:58]:INFO:total params: 4.27M\n",
      "[lift.py:66]:INFO:loading ckpt from '/data/LiftPose3D/fly_tether/cams_test3/ckpt_best.pth.tar'\n",
      "[lift.py:74]:INFO:ckpt loaded (epoch: 20 | err: 0.028130949137750175)\n",
      "[lift.py:108]:INFO:Saving results: /data/LiftPose3D/fly_tether/cams_test3/test_results.pth.tar\n"
     ]
    }
   ],
   "source": [
    "from liftpose.main import test as lp3d_test\n",
    "lp3d_test(par['out_dir'])"
   ]
  },
  {
   "cell_type": "markdown",
   "metadata": {},
   "source": [
    "# Visualize Predictions"
   ]
  },
  {
   "cell_type": "code",
   "execution_count": 9,
   "metadata": {},
   "outputs": [],
   "source": [
    "from liftpose.postprocess import load_test_results\n",
    "data = torch.load(os.path.join(par['out_dir'], \"test_results.pth.tar\"))\n",
    "stat_2d, stat_3d = (\n",
    "    torch.load(os.path.join(par['out_dir'], \"stat_2d.pth.tar\")),\n",
    "    torch.load(os.path.join(par['out_dir'], \"stat_3d.pth.tar\")),\n",
    ")\n",
    "test_3d_gt, test_3d_pred, good_keypts = load_test_results(data, stat_2d, stat_3d)"
   ]
  },
  {
   "cell_type": "code",
   "execution_count": 10,
   "metadata": {},
   "outputs": [
    {
     "data": {
      "image/png": "[encoded data removed]",
      "text/plain": [
       "<Figure size 400x400 with 1 Axes>"
      ]
     },
     "metadata": {
      "needs_background": "light"
     },
     "output_type": "display_data"
    }
   ],
   "source": [
    "# https://stackoverflow.com/a/38865534/7554774\n",
    "# conda install ipympl\n",
    "#%matplotlib widget\n",
    "%matplotlib inline\n",
    "from liftpose.plot import plot_pose_3d\n",
    "\n",
    "fig = plt.figure(figsize=plt.figaspect(1), dpi=100)\n",
    "ax = fig.add_subplot(111, projection='3d')\n",
    "ax.view_init(elev=90, azim=0)\n",
    "\n",
    "t = 0\n",
    "plot_pose_3d(ax=ax, tar=test_3d_gt[t], \n",
    "            pred=test_3d_pred[t], \n",
    "            bones=par_data[\"vis\"][\"bones\"], \n",
    "            limb_id=par_data[\"vis\"][\"limb_id\"], \n",
    "            colors=par_data[\"vis\"][\"colors\"],\n",
    "            good_keypts=good_keypts[t])"
   ]
  },
  {
   "cell_type": "code",
   "execution_count": null,
   "metadata": {},
   "outputs": [],
   "source": []
  }
 ],
 "metadata": {
  "kernelspec": {
   "display_name": "Python 3",
   "language": "python",
   "name": "python3"
  },
  "language_info": {
   "codemirror_mode": {
    "name": "ipython",
    "version": 3
   },
   "file_extension": ".py",
   "mimetype": "text/x-python",
   "name": "python",
   "nbconvert_exporter": "python",
   "pygments_lexer": "ipython3",
   "version": "3.8.6"
  }
 },
 "nbformat": 4,
 "nbformat_minor": 4
}
