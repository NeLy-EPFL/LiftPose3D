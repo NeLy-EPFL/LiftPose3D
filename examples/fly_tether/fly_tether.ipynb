{
 "cells": [
  {
   "cell_type": "markdown",
   "metadata": {},
   "source": [
    "# Load DeepFly3D Data"
   ]
  },
  {
   "cell_type": "code",
   "execution_count": 39,
   "metadata": {},
   "outputs": [
    {
     "name": "stdout",
     "output_type": "stream",
     "text": [
      "The autoreload extension is already loaded. To reload it, use:\n",
      "  %reload_ext autoreload\n"
     ]
    }
   ],
   "source": [
    "%load_ext autoreload\n",
    "%autoreload 2\n",
    "from load import *\n",
    "import yaml\n",
    "import logging\n",
    "from imp import reload\n",
    "import matplotlib.pyplot as plt\n",
    "reload(logging)\n",
    "logger = logging.getLogger(__name__).setLevel(logging.INFO)\n",
    "\n",
    "# decleare data parameters\n",
    "par_train = {'data_dir'       : '/data/LiftPose3D/fly_tether/data_DF3D', # change the path \n",
    "       'out_dir'        : './out',\n",
    "       'train_subjects' : [1],\n",
    "       'test_subjects'  : [6,7],\n",
    "       'actions'        : ['all'],\n",
    "       'cam_id'         : [2,5]}\n",
    "\n",
    "# merge with training parameters\n",
    "par_data = yaml.full_load(open('param.yaml', \"rb\"))\n",
    "par = {**par_data[\"data\"], **par_train}\n",
    "\n",
    "# Load 2D data\n",
    "train_2d = load_2D(\n",
    "    par[\"data_dir\"],\n",
    "    par,\n",
    "    cam_id=par[\"cam_id\"],\n",
    "    subjects=par[\"train_subjects\"],\n",
    "    actions=par[\"actions\"],\n",
    ")\n",
    "test_2d = load_2D(\n",
    "    par[\"data_dir\"],\n",
    "    par,\n",
    "    cam_id=par[\"cam_id\"],\n",
    "    subjects=par[\"test_subjects\"],\n",
    "    actions=par[\"actions\"],\n",
    ")\n",
    "\n",
    "# Load 3D data\n",
    "train_3d, _, rcams_train = load_3D(\n",
    "    par[\"data_dir\"],\n",
    "    par,\n",
    "    cam_id=par[\"cam_id\"],\n",
    "    subjects=par[\"train_subjects\"],\n",
    "    actions=par[\"actions\"],\n",
    ")\n",
    "test_3d, _, rcams_test = load_3D(\n",
    "    par[\"data_dir\"],\n",
    "    par,\n",
    "    cam_id=par[\"cam_id\"],\n",
    "    subjects=par[\"test_subjects\"],\n",
    "    actions=par[\"actions\"],\n",
    ")"
   ]
  },
  {
   "cell_type": "markdown",
   "metadata": {},
   "source": [
    "# Train LiftPose3D Network on DeepFly3D Data"
   ]
  },
  {
   "cell_type": "code",
   "execution_count": 40,
   "metadata": {},
   "outputs": [
    {
     "name": "stdout",
     "output_type": "stream",
     "text": [
      "[main.py:91]:INFO:Saving pre-processed 2D data at /home/user/Desktop/LiftPose3D/examples/fly_tether/out/stat_2d.pth.tar.\n",
      "[main.py:115]:INFO:Saving pre-processed 3D data at /home/user/Desktop/LiftPose3D/examples/fly_tether/out/stat_3d.pth.tar.\n",
      "[main.py:143]:INFO:Starting training model\n",
      "[main.py:152]:DEBUG:\n",
      "==================Options=================\n",
      "[main.py:153]:DEBUG:{   'batch_size': 64,\n",
      "    'data_dir': '/home/user/Desktop/LiftPose3D/examples/fly_tether/out',\n",
      "    'dropout': 0.5,\n",
      "    'epochs': 10,\n",
      "    'exp': '',\n",
      "    'is_train': True,\n",
      "    'job': 8,\n",
      "    'linear_size': 1024,\n",
      "    'load': None,\n",
      "    'lr': 0.001,\n",
      "    'lr_decay': 100000,\n",
      "    'lr_gamma': 0.96,\n",
      "    'max_norm': True,\n",
      "    'noise': None,\n",
      "    'num_stage': 2,\n",
      "    'out': '/home/user/Desktop/LiftPose3D/examples/fly_tether/out',\n",
      "    'out_dir': '/home/user/Desktop/LiftPose3D/examples/fly_tether/out',\n",
      "    'predict': False,\n",
      "    'procrustes': False,\n",
      "    'resume': False,\n",
      "    'test': False}\n",
      "[main.py:154]:DEBUG:==========================================\n",
      "\n",
      "[lift.py:54]:INFO:total params: 4.27M\n"
     ]
    },
    {
     "name": "stderr",
     "output_type": "stream",
     "text": [
      "Epoch 0 | Loss Test 0 | Loss Train 0.31063|: 100%|██████████| 3291/3291 [00:44<00:00, 73.98it/s]\n",
      "/home/user/Desktop/LiftPose3D/liftpose/lifter/test.py:95: RuntimeWarning: Mean of empty slice\n",
      "  joint_err = np.nanmean(all_dist, axis=0)\n",
      "Epoch 1 | Loss Test 0.053558 | Loss Train 0.10089|: 100%|██████████| 3291/3291 [00:43<00:00, 75.13it/s] \n",
      "Epoch 2 | Loss Test 0.044599 | Loss Train 0.091078|: 100%|██████████| 3291/3291 [00:41<00:00, 79.47it/s] \n",
      "Epoch 3 | Loss Test 0.042222 | Loss Train 0.086015|: 100%|██████████| 3291/3291 [00:42<00:00, 78.07it/s] \n",
      "Epoch 4 | Loss Test 0.037939 | Loss Train 0.082773|: 100%|██████████| 3291/3291 [00:42<00:00, 76.65it/s] \n",
      "Epoch 5 | Loss Test 0.03778 | Loss Train 0.080006|: 100%|██████████| 3291/3291 [00:41<00:00, 78.41it/s] \n",
      "Epoch 6 | Loss Test 0.034813 | Loss Train 0.077926|: 100%|██████████| 3291/3291 [00:42<00:00, 76.68it/s] \n",
      "Epoch 7 | Loss Test 0.033929 | Loss Train 0.076083|: 100%|██████████| 3291/3291 [00:44<00:00, 74.08it/s]\n",
      "Epoch 8 | Loss Test 0.033131 | Loss Train 0.074548|: 100%|██████████| 3291/3291 [00:42<00:00, 77.05it/s] \n",
      "Epoch 9 | Loss Test 0.033464 | Loss Train 0.073535|: 100%|██████████| 3291/3291 [00:40<00:00, 80.75it/s] \n"
     ]
    }
   ],
   "source": [
    "from liftpose.main import train as lp3d_train\n",
    "lp3d_train(train_2d=train_2d, test_2d=test_2d, train_3d=train_3d, test_3d=test_3d, rcams_train=rcams_train, rcams_test=rcams_test, \n",
    "      roots=par['roots'], target_sets=par['targets'], in_dim=2, out_dim=par[\"out_dim\"], out_dir=par['out_dir'])"
   ]
  },
  {
   "cell_type": "code",
   "execution_count": 41,
   "metadata": {},
   "outputs": [
    {
     "data": {
      "image/png": "[encoded data removed]",
      "text/plain": [
       "<Figure size 432x288 with 1 Axes>"
      ]
     },
     "metadata": {
      "needs_background": "light"
     },
     "output_type": "display_data"
    }
   ],
   "source": [
    "from liftpose.plot import read_log_train, plot_log_train\n",
    "epoch, lr, loss_train, loss_test, err_test = read_log_train(par['out_dir'])\n",
    "plot_log_train(plt.gca(), loss_train, loss_test, epoch)"
   ]
  },
  {
   "cell_type": "markdown",
   "metadata": {},
   "source": [
    "# Run Trained LiftPose3D Network on the Test Data"
   ]
  },
  {
   "cell_type": "code",
   "execution_count": 42,
   "metadata": {},
   "outputs": [
    {
     "name": "stdout",
     "output_type": "stream",
     "text": [
      "[main.py:159]:INFO:starting testing in path: ./out\n",
      "[lift.py:54]:INFO:total params: 4.27M\n",
      "[lift.py:60]:INFO:loading ckpt from './out/ckpt_best.pth.tar'\n",
      "[lift.py:68]:INFO:ckpt loaded (epoch: 8 | err: 0.36680230498313904)\n",
      "[lift.py:106]:INFO:Saving results: /home/user/Desktop/LiftPose3D/examples/fly_tether/out/test_results.pth.tar\n"
     ]
    }
   ],
   "source": [
    "from liftpose.main import test as lp3d_test\n",
    "lp3d_test(par['out_dir'])"
   ]
  },
  {
   "cell_type": "markdown",
   "metadata": {},
   "source": [
    "# Visualize Predictions"
   ]
  },
  {
   "cell_type": "code",
   "execution_count": 49,
   "metadata": {},
   "outputs": [],
   "source": [
    "from liftpose.postprocess import load_test_results\n",
    "test_3d_gt, test_3d_pred, test_3d_inp = load_test_results(par['out_dir'])"
   ]
  },
  {
   "cell_type": "code",
   "execution_count": 53,
   "metadata": {},
   "outputs": [
    {
     "data": {
      "application/vnd.jupyter.widget-view+json": {
       "model_id": "3203427ee4ee414c941e6b6024a25a61",
       "version_major": 2,
       "version_minor": 0
      },
      "text/plain": [
       "Canvas(toolbar=Toolbar(toolitems=[('Home', 'Reset original view', 'home', 'home'), ('Back', 'Back to previous …"
      ]
     },
     "metadata": {},
     "output_type": "display_data"
    },
    {
     "name": "stdout",
     "output_type": "stream",
     "text": [
      "(15, 3) (15, 2) (15, 3)\n"
     ]
    }
   ],
   "source": [
    "# https://stackoverflow.com/a/38865534/7554774\n",
    "# conda install ipympl\n",
    "%matplotlib widget\n",
    "from liftpose.plot import plot_pose_3d\n",
    "\n",
    "fig = plt.figure(figsize=plt.figaspect(1), dpi=100)\n",
    "ax = fig.add_subplot(111, projection='3d')\n",
    "ax.view_init(elev=200, azim=60)\n",
    "\n",
    "t = 900\n",
    "plot_pose_3d(ax, test_3d_gt[t], \n",
    "            test_3d_pred[t], \n",
    "            test_3d_inp[t],\n",
    "            par[\"out_dim\"], \n",
    "            np.array(par_data[\"vis\"][\"bones\"][:12]), \n",
    "            par_data[\"vis\"][\"limb_id\"], \n",
    "            par_data[\"vis\"][\"colors\"])"
   ]
  }
 ],
 "metadata": {
  "kernelspec": {
   "display_name": "Python 3.7.7 64-bit",
   "language": "python",
   "name": "python37764bit67c49755760a41fd8ae638ded7068a5f"
  },
  "language_info": {
   "codemirror_mode": {
    "name": "ipython",
    "version": 3
   },
   "file_extension": ".py",
   "mimetype": "text/x-python",
   "name": "python",
   "nbconvert_exporter": "python",
   "pygments_lexer": "ipython3",
   "version": "3.7.7"
  }
 },
 "nbformat": 4,
 "nbformat_minor": 4
}
