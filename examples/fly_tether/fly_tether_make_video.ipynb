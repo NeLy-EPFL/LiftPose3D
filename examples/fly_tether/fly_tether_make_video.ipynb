{
 "cells": [
  {
   "cell_type": "code",
   "execution_count": 11,
   "id": "dense-clarity",
   "metadata": {},
   "outputs": [
    {
     "name": "stdout",
     "output_type": "stream",
     "text": [
      "The autoreload extension is already loaded. To reload it, use:\n",
      "  %reload_ext autoreload\n"
     ]
    }
   ],
   "source": [
    "%load_ext autoreload\n",
    "%autoreload 2\n",
    "from load_tether import *\n",
    "import torch\n",
    "import yaml\n",
    "import logging\n",
    "from imp import reload\n",
    "import matplotlib.pyplot as plt\n",
    "from liftpose.vision_3d import world_to_camera_dict, reprojection_error\n",
    "reload(logging)\n",
    "logger = logging.getLogger(__name__).setLevel(logging.INFO)\n",
    "from tqdm import tqdm\n",
    "tqdm.get_lock().locks = []\n",
    "\n",
    "# decleare data parameters\n",
    "par_train = {  'data_dir'       : '/data/LiftPose3D_2602/fly_tether/data_DF3D/', # change the path \n",
    "               'out_dir'        : './out',\n",
    "               'train_subjects' : [1,2,3,4,5],\n",
    "               'test_subjects'  : [6,7],\n",
    "               'actions'        : ['all'],\n",
    "               'cam_id'         : [2]}\n",
    "\n",
    "# merge with training parameter\n",
    "par_data = yaml.full_load(open('param.yaml', \"rb\"))\n",
    "par = {**par_data[\"data\"], **par_train}\n",
    "plt.style.use('dark_background')"
   ]
  },
  {
   "cell_type": "code",
   "execution_count": 25,
   "id": "monetary-lecture",
   "metadata": {},
   "outputs": [],
   "source": [
    "test_3d, _, rcams_test = load_3D(\n",
    "    par[\"data_dir\"],\n",
    "    par,\n",
    "    cam_id=[cam],\n",
    "    subjects=par[\"test_subjects\"],\n",
    "    actions=par[\"actions\"],\n",
    ")\n",
    "\n",
    "test_3d_srt = dict(sorted(test_3d.items()))"
   ]
  },
  {
   "cell_type": "code",
   "execution_count": 27,
   "id": "popular-shuttle",
   "metadata": {},
   "outputs": [
    {
     "data": {
      "text/plain": [
       "[11]"
      ]
     },
     "execution_count": 27,
     "metadata": {},
     "output_type": "execute_result"
    }
   ],
   "source": [
    "[i for (i,k) in enumerate(test_3d.keys()) if k[2] == 'pose_result_fix__data_paper_180918_MDN_CsCh_Fly1_001_SG1_behData_images.cam_5']"
   ]
  },
  {
   "cell_type": "code",
   "execution_count": 31,
   "id": "daily-cathedral",
   "metadata": {},
   "outputs": [
    {
     "name": "stdout",
     "output_type": "stream",
     "text": [
      "[animation.py:329]:DEBUG:frame size in pixels is 400 x 400\n",
      "[animation.py:346]:INFO:MovieWriter._run: running command: ffmpeg -f rawvideo -vcodec rawvideo -s 400x400 -pix_fmt rgba -r 10 -i pipe: -vcodec h264 -pix_fmt yuv420p -y LiftPose3D_prediction_fly_tether_MDN.mp4\n"
     ]
    },
    {
     "name": "stderr",
     "output_type": "stream",
     "text": [
      "  0%|          | 0/900 [00:00<?, ?it/s]"
     ]
    },
    {
     "name": "stdout",
     "output_type": "stream",
     "text": [
      "[animation.py:358]:DEBUG:MovieWriter.grab_frame: Grabbing frame.\n"
     ]
    },
    {
     "name": "stderr",
     "output_type": "stream",
     "text": [
      "  0%|          | 1/900 [00:00<02:03,  7.28it/s]"
     ]
    },
    {
     "name": "stdout",
     "output_type": "stream",
     "text": [
      "[animation.py:358]:DEBUG:MovieWriter.grab_frame: Grabbing frame.\n"
     ]
    },
    {
     "name": "stderr",
     "output_type": "stream",
     "text": [
      "  0%|          | 2/900 [00:00<01:59,  7.53it/s]"
     ]
    },
    {
     "name": "stdout",
     "output_type": "stream",
     "text": [
      "[animation.py:358]:DEBUG:MovieWriter.grab_frame: Grabbing frame.\n"
     ]
    },
    {
     "name": "stderr",
     "output_type": "stream",
     "text": [
      "  0%|          | 3/900 [00:00<01:56,  7.69it/s]"
     ]
    },
    {
     "name": "stdout",
     "output_type": "stream",
     "text": [
      "[animation.py:358]:DEBUG:MovieWriter.grab_frame: Grabbing frame.\n"
     ]
    },
    {
     "name": "stderr",
     "output_type": "stream",
     "text": [
      "  0%|          | 4/900 [00:00<01:55,  7.74it/s]"
     ]
    },
    {
     "name": "stdout",
     "output_type": "stream",
     "text": [
      "[animation.py:358]:DEBUG:MovieWriter.grab_frame: Grabbing frame.\n"
     ]
    },
    {
     "name": "stderr",
     "output_type": "stream",
     "text": [
      "  1%|          | 5/900 [00:00<01:56,  7.71it/s]"
     ]
    },
    {
     "name": "stdout",
     "output_type": "stream",
     "text": [
      "[animation.py:358]:DEBUG:MovieWriter.grab_frame: Grabbing frame.\n"
     ]
    },
    {
     "name": "stderr",
     "output_type": "stream",
     "text": [
      "  1%|          | 6/900 [00:00<01:56,  7.68it/s]"
     ]
    },
    {
     "name": "stdout",
     "output_type": "stream",
     "text": [
      "[animation.py:358]:DEBUG:MovieWriter.grab_frame: Grabbing frame.\n"
     ]
    },
    {
     "name": "stderr",
     "output_type": "stream",
     "text": [
      "  1%|          | 7/900 [00:00<01:56,  7.69it/s]"
     ]
    },
    {
     "name": "stdout",
     "output_type": "stream",
     "text": [
      "[animation.py:358]:DEBUG:MovieWriter.grab_frame: Grabbing frame.\n"
     ]
    },
    {
     "name": "stderr",
     "output_type": "stream",
     "text": [
      "  1%|          | 8/900 [00:01<01:55,  7.69it/s]"
     ]
    },
    {
     "name": "stdout",
     "output_type": "stream",
     "text": [
      "[animation.py:358]:DEBUG:MovieWriter.grab_frame: Grabbing frame.\n"
     ]
    },
    {
     "name": "stderr",
     "output_type": "stream",
     "text": [
      "  1%|          | 9/900 [00:01<03:20,  4.45it/s]"
     ]
    },
    {
     "name": "stdout",
     "output_type": "stream",
     "text": [
      "[animation.py:358]:DEBUG:MovieWriter.grab_frame: Grabbing frame.\n"
     ]
    },
    {
     "name": "stderr",
     "output_type": "stream",
     "text": [
      "  1%|          | 10/900 [00:01<02:53,  5.13it/s]"
     ]
    },
    {
     "name": "stdout",
     "output_type": "stream",
     "text": [
      "[animation.py:358]:DEBUG:MovieWriter.grab_frame: Grabbing frame.\n"
     ]
    },
    {
     "name": "stderr",
     "output_type": "stream",
     "text": [
      "  1%|          | 11/900 [00:01<02:35,  5.70it/s]"
     ]
    },
    {
     "name": "stdout",
     "output_type": "stream",
     "text": [
      "[animation.py:358]:DEBUG:MovieWriter.grab_frame: Grabbing frame.\n"
     ]
    },
    {
     "name": "stderr",
     "output_type": "stream",
     "text": [
      "  1%|▏         | 12/900 [00:01<02:23,  6.17it/s]"
     ]
    },
    {
     "name": "stdout",
     "output_type": "stream",
     "text": [
      "[animation.py:358]:DEBUG:MovieWriter.grab_frame: Grabbing frame.\n"
     ]
    },
    {
     "name": "stderr",
     "output_type": "stream",
     "text": [
      "  1%|▏         | 13/900 [00:01<02:14,  6.57it/s]"
     ]
    },
    {
     "name": "stdout",
     "output_type": "stream",
     "text": [
      "[animation.py:358]:DEBUG:MovieWriter.grab_frame: Grabbing frame.\n"
     ]
    },
    {
     "name": "stderr",
     "output_type": "stream",
     "text": [
      "  2%|▏         | 14/900 [00:02<02:08,  6.88it/s]"
     ]
    },
    {
     "name": "stdout",
     "output_type": "stream",
     "text": [
      "[animation.py:358]:DEBUG:MovieWriter.grab_frame: Grabbing frame.\n"
     ]
    },
    {
     "name": "stderr",
     "output_type": "stream",
     "text": [
      "  2%|▏         | 15/900 [00:02<02:04,  7.10it/s]"
     ]
    },
    {
     "name": "stdout",
     "output_type": "stream",
     "text": [
      "[animation.py:358]:DEBUG:MovieWriter.grab_frame: Grabbing frame.\n"
     ]
    },
    {
     "name": "stderr",
     "output_type": "stream",
     "text": [
      "  2%|▏         | 16/900 [00:02<02:00,  7.31it/s]"
     ]
    },
    {
     "name": "stdout",
     "output_type": "stream",
     "text": [
      "[animation.py:358]:DEBUG:MovieWriter.grab_frame: Grabbing frame.\n"
     ]
    },
    {
     "name": "stderr",
     "output_type": "stream",
     "text": [
      "  2%|▏         | 17/900 [00:02<01:58,  7.46it/s]"
     ]
    },
    {
     "name": "stdout",
     "output_type": "stream",
     "text": [
      "[animation.py:358]:DEBUG:MovieWriter.grab_frame: Grabbing frame.\n"
     ]
    },
    {
     "name": "stderr",
     "output_type": "stream",
     "text": [
      "  2%|▏         | 18/900 [00:02<01:57,  7.48it/s]"
     ]
    },
    {
     "name": "stdout",
     "output_type": "stream",
     "text": [
      "[animation.py:358]:DEBUG:MovieWriter.grab_frame: Grabbing frame.\n"
     ]
    },
    {
     "name": "stderr",
     "output_type": "stream",
     "text": [
      "  2%|▏         | 19/900 [00:02<01:56,  7.55it/s]"
     ]
    },
    {
     "name": "stdout",
     "output_type": "stream",
     "text": [
      "[animation.py:358]:DEBUG:MovieWriter.grab_frame: Grabbing frame.\n"
     ]
    },
    {
     "name": "stderr",
     "output_type": "stream",
     "text": [
      "  2%|▏         | 20/900 [00:02<01:56,  7.57it/s]"
     ]
    },
    {
     "name": "stdout",
     "output_type": "stream",
     "text": [
      "[animation.py:358]:DEBUG:MovieWriter.grab_frame: Grabbing frame.\n"
     ]
    },
    {
     "name": "stderr",
     "output_type": "stream",
     "text": [
      "  2%|▏         | 21/900 [00:03<01:55,  7.58it/s]"
     ]
    },
    {
     "name": "stdout",
     "output_type": "stream",
     "text": [
      "[animation.py:358]:DEBUG:MovieWriter.grab_frame: Grabbing frame.\n"
     ]
    },
    {
     "name": "stderr",
     "output_type": "stream",
     "text": [
      "  2%|▏         | 22/900 [00:03<01:55,  7.59it/s]"
     ]
    },
    {
     "name": "stdout",
     "output_type": "stream",
     "text": [
      "[animation.py:358]:DEBUG:MovieWriter.grab_frame: Grabbing frame.\n"
     ]
    },
    {
     "name": "stderr",
     "output_type": "stream",
     "text": [
      "  3%|▎         | 23/900 [00:03<03:13,  4.54it/s]"
     ]
    },
    {
     "name": "stdout",
     "output_type": "stream",
     "text": [
      "[animation.py:358]:DEBUG:MovieWriter.grab_frame: Grabbing frame.\n"
     ]
    },
    {
     "name": "stderr",
     "output_type": "stream",
     "text": [
      "  3%|▎         | 24/900 [00:03<02:49,  5.18it/s]"
     ]
    },
    {
     "name": "stdout",
     "output_type": "stream",
     "text": [
      "[animation.py:358]:DEBUG:MovieWriter.grab_frame: Grabbing frame.\n"
     ]
    },
    {
     "name": "stderr",
     "output_type": "stream",
     "text": [
      "  3%|▎         | 25/900 [00:03<02:35,  5.62it/s]"
     ]
    },
    {
     "name": "stdout",
     "output_type": "stream",
     "text": [
      "[animation.py:358]:DEBUG:MovieWriter.grab_frame: Grabbing frame.\n"
     ]
    },
    {
     "name": "stderr",
     "output_type": "stream",
     "text": [
      "  3%|▎         | 26/900 [00:03<02:23,  6.10it/s]"
     ]
    },
    {
     "name": "stdout",
     "output_type": "stream",
     "text": [
      "[animation.py:358]:DEBUG:MovieWriter.grab_frame: Grabbing frame.\n"
     ]
    },
    {
     "name": "stderr",
     "output_type": "stream",
     "text": [
      "  3%|▎         | 27/900 [00:04<02:13,  6.52it/s]"
     ]
    },
    {
     "name": "stdout",
     "output_type": "stream",
     "text": [
      "[animation.py:358]:DEBUG:MovieWriter.grab_frame: Grabbing frame.\n"
     ]
    },
    {
     "name": "stderr",
     "output_type": "stream",
     "text": [
      "  3%|▎         | 28/900 [00:04<02:07,  6.83it/s]"
     ]
    },
    {
     "name": "stdout",
     "output_type": "stream",
     "text": [
      "[animation.py:358]:DEBUG:MovieWriter.grab_frame: Grabbing frame.\n"
     ]
    },
    {
     "name": "stderr",
     "output_type": "stream",
     "text": [
      "  3%|▎         | 29/900 [00:04<02:02,  7.09it/s]"
     ]
    },
    {
     "name": "stdout",
     "output_type": "stream",
     "text": [
      "[animation.py:358]:DEBUG:MovieWriter.grab_frame: Grabbing frame.\n"
     ]
    },
    {
     "name": "stderr",
     "output_type": "stream",
     "text": [
      "  3%|▎         | 30/900 [00:04<01:59,  7.26it/s]"
     ]
    },
    {
     "name": "stdout",
     "output_type": "stream",
     "text": [
      "[animation.py:358]:DEBUG:MovieWriter.grab_frame: Grabbing frame.\n"
     ]
    },
    {
     "name": "stderr",
     "output_type": "stream",
     "text": [
      "  3%|▎         | 31/900 [00:04<01:57,  7.40it/s]"
     ]
    },
    {
     "name": "stdout",
     "output_type": "stream",
     "text": [
      "[animation.py:358]:DEBUG:MovieWriter.grab_frame: Grabbing frame.\n"
     ]
    },
    {
     "name": "stderr",
     "output_type": "stream",
     "text": [
      "  4%|▎         | 32/900 [00:04<01:56,  7.47it/s]"
     ]
    },
    {
     "name": "stdout",
     "output_type": "stream",
     "text": [
      "[animation.py:358]:DEBUG:MovieWriter.grab_frame: Grabbing frame.\n"
     ]
    },
    {
     "name": "stderr",
     "output_type": "stream",
     "text": [
      "  4%|▎         | 33/900 [00:04<01:55,  7.53it/s]"
     ]
    },
    {
     "name": "stdout",
     "output_type": "stream",
     "text": [
      "[animation.py:358]:DEBUG:MovieWriter.grab_frame: Grabbing frame.\n"
     ]
    },
    {
     "name": "stderr",
     "output_type": "stream",
     "text": [
      "  4%|▍         | 34/900 [00:05<01:54,  7.56it/s]"
     ]
    },
    {
     "name": "stdout",
     "output_type": "stream",
     "text": [
      "[animation.py:358]:DEBUG:MovieWriter.grab_frame: Grabbing frame.\n"
     ]
    },
    {
     "name": "stderr",
     "output_type": "stream",
     "text": [
      "  4%|▍         | 35/900 [00:05<01:53,  7.61it/s]"
     ]
    },
    {
     "name": "stdout",
     "output_type": "stream",
     "text": [
      "[animation.py:358]:DEBUG:MovieWriter.grab_frame: Grabbing frame.\n"
     ]
    },
    {
     "name": "stderr",
     "output_type": "stream",
     "text": [
      "  4%|▍         | 36/900 [00:05<01:54,  7.56it/s]"
     ]
    },
    {
     "name": "stdout",
     "output_type": "stream",
     "text": [
      "[animation.py:358]:DEBUG:MovieWriter.grab_frame: Grabbing frame.\n"
     ]
    },
    {
     "name": "stderr",
     "output_type": "stream",
     "text": [
      "  4%|▍         | 37/900 [00:05<01:53,  7.58it/s]"
     ]
    },
    {
     "name": "stdout",
     "output_type": "stream",
     "text": [
      "[animation.py:358]:DEBUG:MovieWriter.grab_frame: Grabbing frame.\n"
     ]
    },
    {
     "name": "stderr",
     "output_type": "stream",
     "text": [
      "  4%|▍         | 38/900 [00:05<03:11,  4.50it/s]"
     ]
    },
    {
     "name": "stdout",
     "output_type": "stream",
     "text": [
      "[animation.py:358]:DEBUG:MovieWriter.grab_frame: Grabbing frame.\n"
     ]
    },
    {
     "name": "stderr",
     "output_type": "stream",
     "text": [
      "  4%|▍         | 39/900 [00:05<02:46,  5.16it/s]"
     ]
    },
    {
     "name": "stdout",
     "output_type": "stream",
     "text": [
      "[animation.py:358]:DEBUG:MovieWriter.grab_frame: Grabbing frame.\n"
     ]
    },
    {
     "name": "stderr",
     "output_type": "stream",
     "text": [
      "  4%|▍         | 40/900 [00:06<02:29,  5.73it/s]"
     ]
    },
    {
     "name": "stdout",
     "output_type": "stream",
     "text": [
      "[animation.py:358]:DEBUG:MovieWriter.grab_frame: Grabbing frame.\n"
     ]
    },
    {
     "name": "stderr",
     "output_type": "stream",
     "text": [
      "  5%|▍         | 41/900 [00:06<02:18,  6.22it/s]"
     ]
    },
    {
     "name": "stdout",
     "output_type": "stream",
     "text": [
      "[animation.py:358]:DEBUG:MovieWriter.grab_frame: Grabbing frame.\n"
     ]
    },
    {
     "name": "stderr",
     "output_type": "stream",
     "text": [
      "  5%|▍         | 42/900 [00:06<02:10,  6.60it/s]"
     ]
    },
    {
     "name": "stdout",
     "output_type": "stream",
     "text": [
      "[animation.py:358]:DEBUG:MovieWriter.grab_frame: Grabbing frame.\n"
     ]
    },
    {
     "name": "stderr",
     "output_type": "stream",
     "text": [
      "  5%|▍         | 43/900 [00:06<02:05,  6.81it/s]"
     ]
    },
    {
     "name": "stdout",
     "output_type": "stream",
     "text": [
      "[animation.py:358]:DEBUG:MovieWriter.grab_frame: Grabbing frame.\n"
     ]
    },
    {
     "name": "stderr",
     "output_type": "stream",
     "text": [
      "  5%|▍         | 44/900 [00:06<02:01,  7.04it/s]"
     ]
    },
    {
     "name": "stdout",
     "output_type": "stream",
     "text": [
      "[animation.py:358]:DEBUG:MovieWriter.grab_frame: Grabbing frame.\n"
     ]
    },
    {
     "name": "stderr",
     "output_type": "stream",
     "text": [
      "  5%|▌         | 45/900 [00:06<01:58,  7.20it/s]"
     ]
    },
    {
     "name": "stdout",
     "output_type": "stream",
     "text": [
      "[animation.py:358]:DEBUG:MovieWriter.grab_frame: Grabbing frame.\n"
     ]
    },
    {
     "name": "stderr",
     "output_type": "stream",
     "text": [
      "  5%|▌         | 46/900 [00:06<01:56,  7.32it/s]"
     ]
    },
    {
     "name": "stdout",
     "output_type": "stream",
     "text": [
      "[animation.py:358]:DEBUG:MovieWriter.grab_frame: Grabbing frame.\n"
     ]
    },
    {
     "name": "stderr",
     "output_type": "stream",
     "text": [
      "  5%|▌         | 47/900 [00:07<01:55,  7.38it/s]"
     ]
    },
    {
     "name": "stdout",
     "output_type": "stream",
     "text": [
      "[animation.py:358]:DEBUG:MovieWriter.grab_frame: Grabbing frame.\n"
     ]
    },
    {
     "name": "stderr",
     "output_type": "stream",
     "text": [
      "  5%|▌         | 48/900 [00:07<01:57,  7.25it/s]"
     ]
    },
    {
     "name": "stdout",
     "output_type": "stream",
     "text": [
      "[animation.py:358]:DEBUG:MovieWriter.grab_frame: Grabbing frame.\n"
     ]
    },
    {
     "name": "stderr",
     "output_type": "stream",
     "text": [
      "  5%|▌         | 49/900 [00:07<01:55,  7.34it/s]"
     ]
    },
    {
     "name": "stdout",
     "output_type": "stream",
     "text": [
      "[animation.py:358]:DEBUG:MovieWriter.grab_frame: Grabbing frame.\n"
     ]
    },
    {
     "name": "stderr",
     "output_type": "stream",
     "text": [
      "  6%|▌         | 50/900 [00:07<01:54,  7.43it/s]"
     ]
    },
    {
     "name": "stdout",
     "output_type": "stream",
     "text": [
      "[animation.py:358]:DEBUG:MovieWriter.grab_frame: Grabbing frame.\n"
     ]
    },
    {
     "name": "stderr",
     "output_type": "stream",
     "text": [
      "  6%|▌         | 51/900 [00:07<01:54,  7.43it/s]"
     ]
    },
    {
     "name": "stdout",
     "output_type": "stream",
     "text": [
      "[animation.py:358]:DEBUG:MovieWriter.grab_frame: Grabbing frame.\n"
     ]
    },
    {
     "name": "stderr",
     "output_type": "stream",
     "text": [
      "  6%|▌         | 52/900 [00:08<03:07,  4.51it/s]"
     ]
    },
    {
     "name": "stdout",
     "output_type": "stream",
     "text": [
      "[animation.py:358]:DEBUG:MovieWriter.grab_frame: Grabbing frame.\n"
     ]
    },
    {
     "name": "stderr",
     "output_type": "stream",
     "text": [
      "  6%|▌         | 53/900 [00:08<02:43,  5.19it/s]"
     ]
    },
    {
     "name": "stdout",
     "output_type": "stream",
     "text": [
      "[animation.py:358]:DEBUG:MovieWriter.grab_frame: Grabbing frame.\n"
     ]
    },
    {
     "name": "stderr",
     "output_type": "stream",
     "text": [
      "  6%|▌         | 54/900 [00:08<02:27,  5.74it/s]"
     ]
    },
    {
     "name": "stdout",
     "output_type": "stream",
     "text": [
      "[animation.py:358]:DEBUG:MovieWriter.grab_frame: Grabbing frame.\n"
     ]
    },
    {
     "name": "stderr",
     "output_type": "stream",
     "text": [
      "  6%|▌         | 55/900 [00:08<02:15,  6.22it/s]"
     ]
    },
    {
     "name": "stdout",
     "output_type": "stream",
     "text": [
      "[animation.py:358]:DEBUG:MovieWriter.grab_frame: Grabbing frame.\n"
     ]
    },
    {
     "name": "stderr",
     "output_type": "stream",
     "text": [
      "  6%|▌         | 56/900 [00:08<02:07,  6.60it/s]"
     ]
    },
    {
     "name": "stdout",
     "output_type": "stream",
     "text": [
      "[animation.py:358]:DEBUG:MovieWriter.grab_frame: Grabbing frame.\n"
     ]
    },
    {
     "name": "stderr",
     "output_type": "stream",
     "text": [
      "  6%|▋         | 57/900 [00:08<02:02,  6.90it/s]"
     ]
    },
    {
     "name": "stdout",
     "output_type": "stream",
     "text": [
      "[animation.py:358]:DEBUG:MovieWriter.grab_frame: Grabbing frame.\n"
     ]
    },
    {
     "name": "stderr",
     "output_type": "stream",
     "text": [
      "  6%|▋         | 58/900 [00:08<01:58,  7.11it/s]"
     ]
    },
    {
     "name": "stdout",
     "output_type": "stream",
     "text": [
      "[animation.py:358]:DEBUG:MovieWriter.grab_frame: Grabbing frame.\n"
     ]
    },
    {
     "name": "stderr",
     "output_type": "stream",
     "text": [
      "  7%|▋         | 59/900 [00:08<01:56,  7.25it/s]"
     ]
    },
    {
     "name": "stdout",
     "output_type": "stream",
     "text": [
      "[animation.py:358]:DEBUG:MovieWriter.grab_frame: Grabbing frame.\n"
     ]
    },
    {
     "name": "stderr",
     "output_type": "stream",
     "text": [
      "  7%|▋         | 60/900 [00:09<01:54,  7.36it/s]"
     ]
    },
    {
     "name": "stdout",
     "output_type": "stream",
     "text": [
      "[animation.py:358]:DEBUG:MovieWriter.grab_frame: Grabbing frame.\n"
     ]
    },
    {
     "name": "stderr",
     "output_type": "stream",
     "text": [
      "  7%|▋         | 61/900 [00:09<01:53,  7.40it/s]"
     ]
    },
    {
     "name": "stdout",
     "output_type": "stream",
     "text": [
      "[animation.py:358]:DEBUG:MovieWriter.grab_frame: Grabbing frame.\n"
     ]
    },
    {
     "name": "stderr",
     "output_type": "stream",
     "text": [
      "  7%|▋         | 62/900 [00:09<01:52,  7.45it/s]"
     ]
    },
    {
     "name": "stdout",
     "output_type": "stream",
     "text": [
      "[animation.py:358]:DEBUG:MovieWriter.grab_frame: Grabbing frame.\n"
     ]
    },
    {
     "name": "stderr",
     "output_type": "stream",
     "text": [
      "  7%|▋         | 63/900 [00:09<01:51,  7.51it/s]"
     ]
    },
    {
     "name": "stdout",
     "output_type": "stream",
     "text": [
      "[animation.py:358]:DEBUG:MovieWriter.grab_frame: Grabbing frame.\n"
     ]
    },
    {
     "name": "stderr",
     "output_type": "stream",
     "text": [
      "  7%|▋         | 64/900 [00:09<01:50,  7.54it/s]"
     ]
    },
    {
     "name": "stdout",
     "output_type": "stream",
     "text": [
      "[animation.py:358]:DEBUG:MovieWriter.grab_frame: Grabbing frame.\n"
     ]
    },
    {
     "name": "stderr",
     "output_type": "stream",
     "text": [
      "  7%|▋         | 65/900 [00:09<01:51,  7.49it/s]"
     ]
    },
    {
     "name": "stdout",
     "output_type": "stream",
     "text": [
      "[animation.py:358]:DEBUG:MovieWriter.grab_frame: Grabbing frame.\n"
     ]
    },
    {
     "name": "stderr",
     "output_type": "stream",
     "text": [
      "  7%|▋         | 66/900 [00:10<03:05,  4.50it/s]"
     ]
    },
    {
     "name": "stdout",
     "output_type": "stream",
     "text": [
      "[animation.py:358]:DEBUG:MovieWriter.grab_frame: Grabbing frame.\n"
     ]
    },
    {
     "name": "stderr",
     "output_type": "stream",
     "text": [
      "  7%|▋         | 67/900 [00:10<02:41,  5.15it/s]"
     ]
    },
    {
     "name": "stdout",
     "output_type": "stream",
     "text": [
      "[animation.py:358]:DEBUG:MovieWriter.grab_frame: Grabbing frame.\n"
     ]
    },
    {
     "name": "stderr",
     "output_type": "stream",
     "text": [
      "  8%|▊         | 68/900 [00:10<02:24,  5.74it/s]"
     ]
    },
    {
     "name": "stdout",
     "output_type": "stream",
     "text": [
      "[animation.py:358]:DEBUG:MovieWriter.grab_frame: Grabbing frame.\n"
     ]
    },
    {
     "name": "stderr",
     "output_type": "stream",
     "text": [
      "  8%|▊         | 69/900 [00:10<02:14,  6.20it/s]"
     ]
    },
    {
     "name": "stdout",
     "output_type": "stream",
     "text": [
      "[animation.py:358]:DEBUG:MovieWriter.grab_frame: Grabbing frame.\n"
     ]
    },
    {
     "name": "stderr",
     "output_type": "stream",
     "text": [
      "  8%|▊         | 70/900 [00:10<02:05,  6.60it/s]"
     ]
    },
    {
     "name": "stdout",
     "output_type": "stream",
     "text": [
      "[animation.py:358]:DEBUG:MovieWriter.grab_frame: Grabbing frame.\n"
     ]
    },
    {
     "name": "stderr",
     "output_type": "stream",
     "text": [
      "  8%|▊         | 71/900 [00:10<02:00,  6.87it/s]"
     ]
    },
    {
     "name": "stdout",
     "output_type": "stream",
     "text": [
      "[animation.py:358]:DEBUG:MovieWriter.grab_frame: Grabbing frame.\n"
     ]
    },
    {
     "name": "stderr",
     "output_type": "stream",
     "text": [
      "  8%|▊         | 72/900 [00:10<01:56,  7.10it/s]"
     ]
    },
    {
     "name": "stdout",
     "output_type": "stream",
     "text": [
      "[animation.py:358]:DEBUG:MovieWriter.grab_frame: Grabbing frame.\n"
     ]
    },
    {
     "name": "stderr",
     "output_type": "stream",
     "text": [
      "  8%|▊         | 73/900 [00:11<01:54,  7.23it/s]"
     ]
    },
    {
     "name": "stdout",
     "output_type": "stream",
     "text": [
      "[animation.py:358]:DEBUG:MovieWriter.grab_frame: Grabbing frame.\n"
     ]
    },
    {
     "name": "stderr",
     "output_type": "stream",
     "text": [
      "  8%|▊         | 74/900 [00:11<01:51,  7.41it/s]"
     ]
    },
    {
     "name": "stdout",
     "output_type": "stream",
     "text": [
      "[animation.py:358]:DEBUG:MovieWriter.grab_frame: Grabbing frame.\n"
     ]
    },
    {
     "name": "stderr",
     "output_type": "stream",
     "text": [
      "  8%|▊         | 75/900 [00:11<01:49,  7.51it/s]"
     ]
    },
    {
     "name": "stdout",
     "output_type": "stream",
     "text": [
      "[animation.py:358]:DEBUG:MovieWriter.grab_frame: Grabbing frame.\n"
     ]
    },
    {
     "name": "stderr",
     "output_type": "stream",
     "text": [
      "  8%|▊         | 76/900 [00:11<01:49,  7.53it/s]"
     ]
    },
    {
     "name": "stdout",
     "output_type": "stream",
     "text": [
      "[animation.py:358]:DEBUG:MovieWriter.grab_frame: Grabbing frame.\n"
     ]
    },
    {
     "name": "stderr",
     "output_type": "stream",
     "text": [
      "  9%|▊         | 77/900 [00:11<01:49,  7.51it/s]"
     ]
    },
    {
     "name": "stdout",
     "output_type": "stream",
     "text": [
      "[animation.py:358]:DEBUG:MovieWriter.grab_frame: Grabbing frame.\n"
     ]
    },
    {
     "name": "stderr",
     "output_type": "stream",
     "text": [
      "  9%|▊         | 78/900 [00:11<01:48,  7.57it/s]"
     ]
    },
    {
     "name": "stdout",
     "output_type": "stream",
     "text": [
      "[animation.py:358]:DEBUG:MovieWriter.grab_frame: Grabbing frame.\n"
     ]
    },
    {
     "name": "stderr",
     "output_type": "stream",
     "text": [
      "  9%|▉         | 79/900 [00:11<01:51,  7.34it/s]"
     ]
    },
    {
     "name": "stdout",
     "output_type": "stream",
     "text": [
      "[animation.py:358]:DEBUG:MovieWriter.grab_frame: Grabbing frame.\n"
     ]
    },
    {
     "name": "stderr",
     "output_type": "stream",
     "text": [
      "  9%|▉         | 80/900 [00:11<01:51,  7.37it/s]"
     ]
    },
    {
     "name": "stdout",
     "output_type": "stream",
     "text": [
      "[animation.py:358]:DEBUG:MovieWriter.grab_frame: Grabbing frame.\n"
     ]
    },
    {
     "name": "stderr",
     "output_type": "stream",
     "text": [
      "  9%|▉         | 81/900 [00:12<03:01,  4.51it/s]"
     ]
    },
    {
     "name": "stdout",
     "output_type": "stream",
     "text": [
      "[animation.py:358]:DEBUG:MovieWriter.grab_frame: Grabbing frame.\n"
     ]
    },
    {
     "name": "stderr",
     "output_type": "stream",
     "text": [
      "  9%|▉         | 82/900 [00:12<02:38,  5.17it/s]"
     ]
    },
    {
     "name": "stdout",
     "output_type": "stream",
     "text": [
      "[animation.py:358]:DEBUG:MovieWriter.grab_frame: Grabbing frame.\n"
     ]
    },
    {
     "name": "stderr",
     "output_type": "stream",
     "text": [
      "  9%|▉         | 83/900 [00:12<02:22,  5.74it/s]"
     ]
    },
    {
     "name": "stdout",
     "output_type": "stream",
     "text": [
      "[animation.py:358]:DEBUG:MovieWriter.grab_frame: Grabbing frame.\n"
     ]
    },
    {
     "name": "stderr",
     "output_type": "stream",
     "text": [
      "  9%|▉         | 84/900 [00:12<02:11,  6.21it/s]"
     ]
    },
    {
     "name": "stdout",
     "output_type": "stream",
     "text": [
      "[animation.py:358]:DEBUG:MovieWriter.grab_frame: Grabbing frame.\n"
     ]
    },
    {
     "name": "stderr",
     "output_type": "stream",
     "text": [
      "  9%|▉         | 85/900 [00:12<02:04,  6.57it/s]"
     ]
    },
    {
     "name": "stdout",
     "output_type": "stream",
     "text": [
      "[animation.py:358]:DEBUG:MovieWriter.grab_frame: Grabbing frame.\n"
     ]
    },
    {
     "name": "stderr",
     "output_type": "stream",
     "text": [
      " 10%|▉         | 86/900 [00:13<01:58,  6.87it/s]"
     ]
    },
    {
     "name": "stdout",
     "output_type": "stream",
     "text": [
      "[animation.py:358]:DEBUG:MovieWriter.grab_frame: Grabbing frame.\n"
     ]
    },
    {
     "name": "stderr",
     "output_type": "stream",
     "text": [
      " 10%|▉         | 87/900 [00:13<01:54,  7.10it/s]"
     ]
    },
    {
     "name": "stdout",
     "output_type": "stream",
     "text": [
      "[animation.py:358]:DEBUG:MovieWriter.grab_frame: Grabbing frame.\n"
     ]
    },
    {
     "name": "stderr",
     "output_type": "stream",
     "text": [
      " 10%|▉         | 88/900 [00:13<01:51,  7.25it/s]"
     ]
    },
    {
     "name": "stdout",
     "output_type": "stream",
     "text": [
      "[animation.py:358]:DEBUG:MovieWriter.grab_frame: Grabbing frame.\n"
     ]
    },
    {
     "name": "stderr",
     "output_type": "stream",
     "text": [
      " 10%|▉         | 89/900 [00:13<01:50,  7.35it/s]"
     ]
    },
    {
     "name": "stdout",
     "output_type": "stream",
     "text": [
      "[animation.py:358]:DEBUG:MovieWriter.grab_frame: Grabbing frame.\n"
     ]
    },
    {
     "name": "stderr",
     "output_type": "stream",
     "text": [
      " 10%|█         | 90/900 [00:13<01:48,  7.47it/s]"
     ]
    },
    {
     "name": "stdout",
     "output_type": "stream",
     "text": [
      "[animation.py:358]:DEBUG:MovieWriter.grab_frame: Grabbing frame.\n"
     ]
    },
    {
     "name": "stderr",
     "output_type": "stream",
     "text": [
      " 10%|█         | 91/900 [00:13<01:47,  7.49it/s]"
     ]
    },
    {
     "name": "stdout",
     "output_type": "stream",
     "text": [
      "[animation.py:358]:DEBUG:MovieWriter.grab_frame: Grabbing frame.\n"
     ]
    },
    {
     "name": "stderr",
     "output_type": "stream",
     "text": [
      " 10%|█         | 92/900 [00:13<01:48,  7.46it/s]"
     ]
    },
    {
     "name": "stdout",
     "output_type": "stream",
     "text": [
      "[animation.py:358]:DEBUG:MovieWriter.grab_frame: Grabbing frame.\n"
     ]
    },
    {
     "name": "stderr",
     "output_type": "stream",
     "text": [
      " 10%|█         | 93/900 [00:13<01:47,  7.48it/s]"
     ]
    },
    {
     "name": "stdout",
     "output_type": "stream",
     "text": [
      "[animation.py:358]:DEBUG:MovieWriter.grab_frame: Grabbing frame.\n"
     ]
    },
    {
     "name": "stderr",
     "output_type": "stream",
     "text": [
      " 10%|█         | 94/900 [00:14<01:47,  7.52it/s]"
     ]
    },
    {
     "name": "stdout",
     "output_type": "stream",
     "text": [
      "[animation.py:358]:DEBUG:MovieWriter.grab_frame: Grabbing frame.\n"
     ]
    },
    {
     "name": "stderr",
     "output_type": "stream",
     "text": [
      " 11%|█         | 95/900 [00:14<02:57,  4.53it/s]"
     ]
    },
    {
     "name": "stdout",
     "output_type": "stream",
     "text": [
      "[animation.py:358]:DEBUG:MovieWriter.grab_frame: Grabbing frame.\n"
     ]
    },
    {
     "name": "stderr",
     "output_type": "stream",
     "text": [
      " 11%|█         | 96/900 [00:14<02:34,  5.19it/s]"
     ]
    },
    {
     "name": "stdout",
     "output_type": "stream",
     "text": [
      "[animation.py:358]:DEBUG:MovieWriter.grab_frame: Grabbing frame.\n"
     ]
    },
    {
     "name": "stderr",
     "output_type": "stream",
     "text": [
      " 11%|█         | 97/900 [00:14<02:20,  5.74it/s]"
     ]
    },
    {
     "name": "stdout",
     "output_type": "stream",
     "text": [
      "[animation.py:358]:DEBUG:MovieWriter.grab_frame: Grabbing frame.\n"
     ]
    },
    {
     "name": "stderr",
     "output_type": "stream",
     "text": [
      " 11%|█         | 98/900 [00:14<02:09,  6.21it/s]"
     ]
    },
    {
     "name": "stdout",
     "output_type": "stream",
     "text": [
      "[animation.py:358]:DEBUG:MovieWriter.grab_frame: Grabbing frame.\n"
     ]
    },
    {
     "name": "stderr",
     "output_type": "stream",
     "text": [
      " 11%|█         | 99/900 [00:15<02:01,  6.60it/s]"
     ]
    },
    {
     "name": "stdout",
     "output_type": "stream",
     "text": [
      "[animation.py:358]:DEBUG:MovieWriter.grab_frame: Grabbing frame.\n"
     ]
    },
    {
     "name": "stderr",
     "output_type": "stream",
     "text": [
      " 11%|█         | 100/900 [00:15<01:55,  6.90it/s]"
     ]
    },
    {
     "name": "stdout",
     "output_type": "stream",
     "text": [
      "[animation.py:358]:DEBUG:MovieWriter.grab_frame: Grabbing frame.\n"
     ]
    },
    {
     "name": "stderr",
     "output_type": "stream",
     "text": [
      " 11%|█         | 101/900 [00:15<01:52,  7.08it/s]"
     ]
    },
    {
     "name": "stdout",
     "output_type": "stream",
     "text": [
      "[animation.py:358]:DEBUG:MovieWriter.grab_frame: Grabbing frame.\n"
     ]
    },
    {
     "name": "stderr",
     "output_type": "stream",
     "text": [
      " 11%|█▏        | 102/900 [00:15<01:49,  7.26it/s]"
     ]
    },
    {
     "name": "stdout",
     "output_type": "stream",
     "text": [
      "[animation.py:358]:DEBUG:MovieWriter.grab_frame: Grabbing frame.\n"
     ]
    },
    {
     "name": "stderr",
     "output_type": "stream",
     "text": [
      " 11%|█▏        | 103/900 [00:15<01:48,  7.37it/s]"
     ]
    },
    {
     "name": "stdout",
     "output_type": "stream",
     "text": [
      "[animation.py:358]:DEBUG:MovieWriter.grab_frame: Grabbing frame.\n"
     ]
    },
    {
     "name": "stderr",
     "output_type": "stream",
     "text": [
      " 12%|█▏        | 104/900 [00:15<01:46,  7.44it/s]"
     ]
    },
    {
     "name": "stdout",
     "output_type": "stream",
     "text": [
      "[animation.py:358]:DEBUG:MovieWriter.grab_frame: Grabbing frame.\n"
     ]
    },
    {
     "name": "stderr",
     "output_type": "stream",
     "text": [
      " 12%|█▏        | 105/900 [00:15<01:46,  7.43it/s]"
     ]
    },
    {
     "name": "stdout",
     "output_type": "stream",
     "text": [
      "[animation.py:358]:DEBUG:MovieWriter.grab_frame: Grabbing frame.\n"
     ]
    },
    {
     "name": "stderr",
     "output_type": "stream",
     "text": [
      " 12%|█▏        | 106/900 [00:15<01:46,  7.47it/s]"
     ]
    },
    {
     "name": "stdout",
     "output_type": "stream",
     "text": [
      "[animation.py:358]:DEBUG:MovieWriter.grab_frame: Grabbing frame.\n"
     ]
    },
    {
     "name": "stderr",
     "output_type": "stream",
     "text": [
      " 12%|█▏        | 107/900 [00:16<01:45,  7.52it/s]"
     ]
    },
    {
     "name": "stdout",
     "output_type": "stream",
     "text": [
      "[animation.py:358]:DEBUG:MovieWriter.grab_frame: Grabbing frame.\n"
     ]
    },
    {
     "name": "stderr",
     "output_type": "stream",
     "text": [
      " 12%|█▏        | 108/900 [00:16<01:45,  7.54it/s]"
     ]
    },
    {
     "name": "stdout",
     "output_type": "stream",
     "text": [
      "[animation.py:358]:DEBUG:MovieWriter.grab_frame: Grabbing frame.\n"
     ]
    },
    {
     "name": "stderr",
     "output_type": "stream",
     "text": [
      " 12%|█▏        | 109/900 [00:16<02:55,  4.51it/s]"
     ]
    },
    {
     "name": "stdout",
     "output_type": "stream",
     "text": [
      "[animation.py:358]:DEBUG:MovieWriter.grab_frame: Grabbing frame.\n"
     ]
    },
    {
     "name": "stderr",
     "output_type": "stream",
     "text": [
      " 12%|█▏        | 110/900 [00:16<02:33,  5.16it/s]"
     ]
    },
    {
     "name": "stdout",
     "output_type": "stream",
     "text": [
      "[animation.py:358]:DEBUG:MovieWriter.grab_frame: Grabbing frame.\n"
     ]
    },
    {
     "name": "stderr",
     "output_type": "stream",
     "text": [
      " 12%|█▏        | 111/900 [00:16<02:17,  5.72it/s]"
     ]
    },
    {
     "name": "stdout",
     "output_type": "stream",
     "text": [
      "[animation.py:358]:DEBUG:MovieWriter.grab_frame: Grabbing frame.\n"
     ]
    },
    {
     "name": "stderr",
     "output_type": "stream",
     "text": [
      " 12%|█▏        | 112/900 [00:17<02:06,  6.21it/s]"
     ]
    },
    {
     "name": "stdout",
     "output_type": "stream",
     "text": [
      "[animation.py:358]:DEBUG:MovieWriter.grab_frame: Grabbing frame.\n"
     ]
    },
    {
     "name": "stderr",
     "output_type": "stream",
     "text": [
      " 13%|█▎        | 113/900 [00:17<02:00,  6.55it/s]"
     ]
    },
    {
     "name": "stdout",
     "output_type": "stream",
     "text": [
      "[animation.py:358]:DEBUG:MovieWriter.grab_frame: Grabbing frame.\n"
     ]
    },
    {
     "name": "stderr",
     "output_type": "stream",
     "text": [
      " 13%|█▎        | 114/900 [00:17<01:54,  6.87it/s]"
     ]
    },
    {
     "name": "stdout",
     "output_type": "stream",
     "text": [
      "[animation.py:358]:DEBUG:MovieWriter.grab_frame: Grabbing frame.\n"
     ]
    },
    {
     "name": "stderr",
     "output_type": "stream",
     "text": [
      " 13%|█▎        | 115/900 [00:17<01:51,  7.06it/s]"
     ]
    },
    {
     "name": "stdout",
     "output_type": "stream",
     "text": [
      "[animation.py:358]:DEBUG:MovieWriter.grab_frame: Grabbing frame.\n"
     ]
    },
    {
     "name": "stderr",
     "output_type": "stream",
     "text": [
      " 13%|█▎        | 116/900 [00:17<01:48,  7.23it/s]"
     ]
    },
    {
     "name": "stdout",
     "output_type": "stream",
     "text": [
      "[animation.py:358]:DEBUG:MovieWriter.grab_frame: Grabbing frame.\n"
     ]
    },
    {
     "name": "stderr",
     "output_type": "stream",
     "text": [
      " 13%|█▎        | 117/900 [00:17<01:47,  7.30it/s]"
     ]
    },
    {
     "name": "stdout",
     "output_type": "stream",
     "text": [
      "[animation.py:358]:DEBUG:MovieWriter.grab_frame: Grabbing frame.\n"
     ]
    },
    {
     "name": "stderr",
     "output_type": "stream",
     "text": [
      " 13%|█▎        | 118/900 [00:17<01:45,  7.39it/s]"
     ]
    },
    {
     "name": "stdout",
     "output_type": "stream",
     "text": [
      "[animation.py:358]:DEBUG:MovieWriter.grab_frame: Grabbing frame.\n"
     ]
    },
    {
     "name": "stderr",
     "output_type": "stream",
     "text": [
      " 13%|█▎        | 119/900 [00:17<01:45,  7.43it/s]"
     ]
    },
    {
     "name": "stdout",
     "output_type": "stream",
     "text": [
      "[animation.py:358]:DEBUG:MovieWriter.grab_frame: Grabbing frame.\n"
     ]
    },
    {
     "name": "stderr",
     "output_type": "stream",
     "text": [
      " 13%|█▎        | 120/900 [00:18<01:44,  7.46it/s]"
     ]
    },
    {
     "name": "stdout",
     "output_type": "stream",
     "text": [
      "[animation.py:358]:DEBUG:MovieWriter.grab_frame: Grabbing frame.\n"
     ]
    },
    {
     "name": "stderr",
     "output_type": "stream",
     "text": [
      " 13%|█▎        | 121/900 [00:18<01:42,  7.56it/s]"
     ]
    },
    {
     "name": "stdout",
     "output_type": "stream",
     "text": [
      "[animation.py:358]:DEBUG:MovieWriter.grab_frame: Grabbing frame.\n"
     ]
    },
    {
     "name": "stderr",
     "output_type": "stream",
     "text": [
      " 14%|█▎        | 122/900 [00:18<01:42,  7.58it/s]"
     ]
    },
    {
     "name": "stdout",
     "output_type": "stream",
     "text": [
      "[animation.py:358]:DEBUG:MovieWriter.grab_frame: Grabbing frame.\n"
     ]
    },
    {
     "name": "stderr",
     "output_type": "stream",
     "text": [
      " 14%|█▎        | 123/900 [00:18<01:42,  7.55it/s]"
     ]
    },
    {
     "name": "stdout",
     "output_type": "stream",
     "text": [
      "[animation.py:358]:DEBUG:MovieWriter.grab_frame: Grabbing frame.\n"
     ]
    },
    {
     "name": "stderr",
     "output_type": "stream",
     "text": [
      " 14%|█▍        | 124/900 [00:18<02:50,  4.54it/s]"
     ]
    },
    {
     "name": "stdout",
     "output_type": "stream",
     "text": [
      "[animation.py:358]:DEBUG:MovieWriter.grab_frame: Grabbing frame.\n"
     ]
    },
    {
     "name": "stderr",
     "output_type": "stream",
     "text": [
      " 14%|█▍        | 125/900 [00:19<02:29,  5.19it/s]"
     ]
    },
    {
     "name": "stdout",
     "output_type": "stream",
     "text": [
      "[animation.py:358]:DEBUG:MovieWriter.grab_frame: Grabbing frame.\n"
     ]
    },
    {
     "name": "stderr",
     "output_type": "stream",
     "text": [
      " 14%|█▍        | 126/900 [00:19<02:15,  5.72it/s]"
     ]
    },
    {
     "name": "stdout",
     "output_type": "stream",
     "text": [
      "[animation.py:358]:DEBUG:MovieWriter.grab_frame: Grabbing frame.\n"
     ]
    },
    {
     "name": "stderr",
     "output_type": "stream",
     "text": [
      " 14%|█▍        | 127/900 [00:19<02:04,  6.20it/s]"
     ]
    },
    {
     "name": "stdout",
     "output_type": "stream",
     "text": [
      "[animation.py:358]:DEBUG:MovieWriter.grab_frame: Grabbing frame.\n"
     ]
    },
    {
     "name": "stderr",
     "output_type": "stream",
     "text": [
      " 14%|█▍        | 128/900 [00:19<01:57,  6.59it/s]"
     ]
    },
    {
     "name": "stdout",
     "output_type": "stream",
     "text": [
      "[animation.py:358]:DEBUG:MovieWriter.grab_frame: Grabbing frame.\n"
     ]
    },
    {
     "name": "stderr",
     "output_type": "stream",
     "text": [
      " 14%|█▍        | 129/900 [00:19<01:52,  6.85it/s]"
     ]
    },
    {
     "name": "stdout",
     "output_type": "stream",
     "text": [
      "[animation.py:358]:DEBUG:MovieWriter.grab_frame: Grabbing frame.\n"
     ]
    },
    {
     "name": "stderr",
     "output_type": "stream",
     "text": [
      " 14%|█▍        | 130/900 [00:19<01:48,  7.07it/s]"
     ]
    },
    {
     "name": "stdout",
     "output_type": "stream",
     "text": [
      "[animation.py:358]:DEBUG:MovieWriter.grab_frame: Grabbing frame.\n"
     ]
    },
    {
     "name": "stderr",
     "output_type": "stream",
     "text": [
      " 15%|█▍        | 131/900 [00:19<01:47,  7.16it/s]"
     ]
    },
    {
     "name": "stdout",
     "output_type": "stream",
     "text": [
      "[animation.py:358]:DEBUG:MovieWriter.grab_frame: Grabbing frame.\n"
     ]
    },
    {
     "name": "stderr",
     "output_type": "stream",
     "text": [
      " 15%|█▍        | 132/900 [00:19<01:45,  7.30it/s]"
     ]
    },
    {
     "name": "stdout",
     "output_type": "stream",
     "text": [
      "[animation.py:358]:DEBUG:MovieWriter.grab_frame: Grabbing frame.\n"
     ]
    },
    {
     "name": "stderr",
     "output_type": "stream",
     "text": [
      " 15%|█▍        | 133/900 [00:20<01:43,  7.40it/s]"
     ]
    },
    {
     "name": "stdout",
     "output_type": "stream",
     "text": [
      "[animation.py:358]:DEBUG:MovieWriter.grab_frame: Grabbing frame.\n"
     ]
    },
    {
     "name": "stderr",
     "output_type": "stream",
     "text": [
      " 15%|█▍        | 134/900 [00:20<01:42,  7.46it/s]"
     ]
    },
    {
     "name": "stdout",
     "output_type": "stream",
     "text": [
      "[animation.py:358]:DEBUG:MovieWriter.grab_frame: Grabbing frame.\n"
     ]
    },
    {
     "name": "stderr",
     "output_type": "stream",
     "text": [
      " 15%|█▌        | 135/900 [00:20<01:41,  7.50it/s]"
     ]
    },
    {
     "name": "stdout",
     "output_type": "stream",
     "text": [
      "[animation.py:358]:DEBUG:MovieWriter.grab_frame: Grabbing frame.\n"
     ]
    },
    {
     "name": "stderr",
     "output_type": "stream",
     "text": [
      " 15%|█▌        | 136/900 [00:20<01:41,  7.53it/s]"
     ]
    },
    {
     "name": "stdout",
     "output_type": "stream",
     "text": [
      "[animation.py:358]:DEBUG:MovieWriter.grab_frame: Grabbing frame.\n"
     ]
    },
    {
     "name": "stderr",
     "output_type": "stream",
     "text": [
      " 15%|█▌        | 137/900 [00:20<01:42,  7.43it/s]"
     ]
    },
    {
     "name": "stdout",
     "output_type": "stream",
     "text": [
      "[animation.py:358]:DEBUG:MovieWriter.grab_frame: Grabbing frame.\n"
     ]
    },
    {
     "name": "stderr",
     "output_type": "stream",
     "text": [
      " 15%|█▌        | 138/900 [00:21<02:49,  4.51it/s]"
     ]
    },
    {
     "name": "stdout",
     "output_type": "stream",
     "text": [
      "[animation.py:358]:DEBUG:MovieWriter.grab_frame: Grabbing frame.\n"
     ]
    },
    {
     "name": "stderr",
     "output_type": "stream",
     "text": [
      " 15%|█▌        | 139/900 [00:21<02:27,  5.15it/s]"
     ]
    },
    {
     "name": "stdout",
     "output_type": "stream",
     "text": [
      "[animation.py:358]:DEBUG:MovieWriter.grab_frame: Grabbing frame.\n"
     ]
    },
    {
     "name": "stderr",
     "output_type": "stream",
     "text": [
      " 16%|█▌        | 140/900 [00:21<02:12,  5.72it/s]"
     ]
    },
    {
     "name": "stdout",
     "output_type": "stream",
     "text": [
      "[animation.py:358]:DEBUG:MovieWriter.grab_frame: Grabbing frame.\n"
     ]
    },
    {
     "name": "stderr",
     "output_type": "stream",
     "text": [
      " 16%|█▌        | 141/900 [00:21<02:02,  6.18it/s]"
     ]
    },
    {
     "name": "stdout",
     "output_type": "stream",
     "text": [
      "[animation.py:358]:DEBUG:MovieWriter.grab_frame: Grabbing frame.\n"
     ]
    },
    {
     "name": "stderr",
     "output_type": "stream",
     "text": [
      " 16%|█▌        | 142/900 [00:21<01:55,  6.55it/s]"
     ]
    },
    {
     "name": "stdout",
     "output_type": "stream",
     "text": [
      "[animation.py:358]:DEBUG:MovieWriter.grab_frame: Grabbing frame.\n"
     ]
    },
    {
     "name": "stderr",
     "output_type": "stream",
     "text": [
      " 16%|█▌        | 143/900 [00:21<01:51,  6.80it/s]"
     ]
    },
    {
     "name": "stdout",
     "output_type": "stream",
     "text": [
      "[animation.py:358]:DEBUG:MovieWriter.grab_frame: Grabbing frame.\n"
     ]
    },
    {
     "name": "stderr",
     "output_type": "stream",
     "text": [
      " 16%|█▌        | 144/900 [00:21<01:47,  7.03it/s]"
     ]
    },
    {
     "name": "stdout",
     "output_type": "stream",
     "text": [
      "[animation.py:358]:DEBUG:MovieWriter.grab_frame: Grabbing frame.\n"
     ]
    },
    {
     "name": "stderr",
     "output_type": "stream",
     "text": [
      " 16%|█▌        | 145/900 [00:21<01:45,  7.17it/s]"
     ]
    },
    {
     "name": "stdout",
     "output_type": "stream",
     "text": [
      "[animation.py:358]:DEBUG:MovieWriter.grab_frame: Grabbing frame.\n"
     ]
    },
    {
     "name": "stderr",
     "output_type": "stream",
     "text": [
      " 16%|█▌        | 146/900 [00:22<01:44,  7.25it/s]"
     ]
    },
    {
     "name": "stdout",
     "output_type": "stream",
     "text": [
      "[animation.py:358]:DEBUG:MovieWriter.grab_frame: Grabbing frame.\n"
     ]
    },
    {
     "name": "stderr",
     "output_type": "stream",
     "text": [
      " 16%|█▋        | 147/900 [00:22<01:42,  7.36it/s]"
     ]
    },
    {
     "name": "stdout",
     "output_type": "stream",
     "text": [
      "[animation.py:358]:DEBUG:MovieWriter.grab_frame: Grabbing frame.\n"
     ]
    },
    {
     "name": "stderr",
     "output_type": "stream",
     "text": [
      " 16%|█▋        | 148/900 [00:22<01:41,  7.44it/s]"
     ]
    },
    {
     "name": "stdout",
     "output_type": "stream",
     "text": [
      "[animation.py:358]:DEBUG:MovieWriter.grab_frame: Grabbing frame.\n"
     ]
    },
    {
     "name": "stderr",
     "output_type": "stream",
     "text": [
      " 17%|█▋        | 149/900 [00:22<01:40,  7.46it/s]"
     ]
    },
    {
     "name": "stdout",
     "output_type": "stream",
     "text": [
      "[animation.py:358]:DEBUG:MovieWriter.grab_frame: Grabbing frame.\n"
     ]
    },
    {
     "name": "stderr",
     "output_type": "stream",
     "text": [
      " 17%|█▋        | 150/900 [00:22<01:39,  7.53it/s]"
     ]
    },
    {
     "name": "stdout",
     "output_type": "stream",
     "text": [
      "[animation.py:358]:DEBUG:MovieWriter.grab_frame: Grabbing frame.\n"
     ]
    },
    {
     "name": "stderr",
     "output_type": "stream",
     "text": [
      " 17%|█▋        | 151/900 [00:22<01:39,  7.55it/s]"
     ]
    },
    {
     "name": "stdout",
     "output_type": "stream",
     "text": [
      "[animation.py:358]:DEBUG:MovieWriter.grab_frame: Grabbing frame.\n"
     ]
    },
    {
     "name": "stderr",
     "output_type": "stream",
     "text": [
      " 17%|█▋        | 152/900 [00:23<02:45,  4.53it/s]"
     ]
    },
    {
     "name": "stdout",
     "output_type": "stream",
     "text": [
      "[animation.py:358]:DEBUG:MovieWriter.grab_frame: Grabbing frame.\n"
     ]
    },
    {
     "name": "stderr",
     "output_type": "stream",
     "text": [
      " 17%|█▋        | 153/900 [00:23<02:24,  5.17it/s]"
     ]
    },
    {
     "name": "stdout",
     "output_type": "stream",
     "text": [
      "[animation.py:358]:DEBUG:MovieWriter.grab_frame: Grabbing frame.\n"
     ]
    },
    {
     "name": "stderr",
     "output_type": "stream",
     "text": [
      " 17%|█▋        | 154/900 [00:23<02:10,  5.71it/s]"
     ]
    },
    {
     "name": "stdout",
     "output_type": "stream",
     "text": [
      "[animation.py:358]:DEBUG:MovieWriter.grab_frame: Grabbing frame.\n"
     ]
    },
    {
     "name": "stderr",
     "output_type": "stream",
     "text": [
      " 17%|█▋        | 155/900 [00:23<02:00,  6.17it/s]"
     ]
    },
    {
     "name": "stdout",
     "output_type": "stream",
     "text": [
      "[animation.py:358]:DEBUG:MovieWriter.grab_frame: Grabbing frame.\n"
     ]
    },
    {
     "name": "stderr",
     "output_type": "stream",
     "text": [
      " 17%|█▋        | 156/900 [00:23<01:54,  6.51it/s]"
     ]
    },
    {
     "name": "stdout",
     "output_type": "stream",
     "text": [
      "[animation.py:358]:DEBUG:MovieWriter.grab_frame: Grabbing frame.\n"
     ]
    },
    {
     "name": "stderr",
     "output_type": "stream",
     "text": [
      " 17%|█▋        | 157/900 [00:23<01:52,  6.62it/s]"
     ]
    },
    {
     "name": "stdout",
     "output_type": "stream",
     "text": [
      "[animation.py:358]:DEBUG:MovieWriter.grab_frame: Grabbing frame.\n"
     ]
    },
    {
     "name": "stderr",
     "output_type": "stream",
     "text": [
      " 18%|█▊        | 158/900 [00:24<01:48,  6.84it/s]"
     ]
    },
    {
     "name": "stdout",
     "output_type": "stream",
     "text": [
      "[animation.py:358]:DEBUG:MovieWriter.grab_frame: Grabbing frame.\n"
     ]
    },
    {
     "name": "stderr",
     "output_type": "stream",
     "text": [
      " 18%|█▊        | 159/900 [00:24<01:44,  7.08it/s]"
     ]
    },
    {
     "name": "stdout",
     "output_type": "stream",
     "text": [
      "[animation.py:358]:DEBUG:MovieWriter.grab_frame: Grabbing frame.\n"
     ]
    },
    {
     "name": "stderr",
     "output_type": "stream",
     "text": [
      " 18%|█▊        | 160/900 [00:24<01:41,  7.27it/s]"
     ]
    },
    {
     "name": "stdout",
     "output_type": "stream",
     "text": [
      "[animation.py:358]:DEBUG:MovieWriter.grab_frame: Grabbing frame.\n"
     ]
    },
    {
     "name": "stderr",
     "output_type": "stream",
     "text": [
      " 18%|█▊        | 161/900 [00:24<01:43,  7.14it/s]"
     ]
    },
    {
     "name": "stdout",
     "output_type": "stream",
     "text": [
      "[animation.py:358]:DEBUG:MovieWriter.grab_frame: Grabbing frame.\n"
     ]
    },
    {
     "name": "stderr",
     "output_type": "stream",
     "text": [
      " 18%|█▊        | 162/900 [00:24<01:41,  7.25it/s]"
     ]
    },
    {
     "name": "stdout",
     "output_type": "stream",
     "text": [
      "[animation.py:358]:DEBUG:MovieWriter.grab_frame: Grabbing frame.\n"
     ]
    },
    {
     "name": "stderr",
     "output_type": "stream",
     "text": [
      " 18%|█▊        | 163/900 [00:24<01:40,  7.32it/s]"
     ]
    },
    {
     "name": "stdout",
     "output_type": "stream",
     "text": [
      "[animation.py:358]:DEBUG:MovieWriter.grab_frame: Grabbing frame.\n"
     ]
    },
    {
     "name": "stderr",
     "output_type": "stream",
     "text": [
      " 18%|█▊        | 164/900 [00:24<01:39,  7.40it/s]"
     ]
    },
    {
     "name": "stdout",
     "output_type": "stream",
     "text": [
      "[animation.py:358]:DEBUG:MovieWriter.grab_frame: Grabbing frame.\n"
     ]
    },
    {
     "name": "stderr",
     "output_type": "stream",
     "text": [
      " 18%|█▊        | 165/900 [00:24<01:39,  7.42it/s]"
     ]
    },
    {
     "name": "stdout",
     "output_type": "stream",
     "text": [
      "[animation.py:358]:DEBUG:MovieWriter.grab_frame: Grabbing frame.\n"
     ]
    },
    {
     "name": "stderr",
     "output_type": "stream",
     "text": [
      " 18%|█▊        | 166/900 [00:25<01:38,  7.42it/s]"
     ]
    },
    {
     "name": "stdout",
     "output_type": "stream",
     "text": [
      "[animation.py:358]:DEBUG:MovieWriter.grab_frame: Grabbing frame.\n"
     ]
    },
    {
     "name": "stderr",
     "output_type": "stream",
     "text": [
      " 19%|█▊        | 167/900 [00:25<02:42,  4.52it/s]"
     ]
    },
    {
     "name": "stdout",
     "output_type": "stream",
     "text": [
      "[animation.py:358]:DEBUG:MovieWriter.grab_frame: Grabbing frame.\n"
     ]
    },
    {
     "name": "stderr",
     "output_type": "stream",
     "text": [
      " 19%|█▊        | 168/900 [00:25<02:21,  5.18it/s]"
     ]
    },
    {
     "name": "stdout",
     "output_type": "stream",
     "text": [
      "[animation.py:358]:DEBUG:MovieWriter.grab_frame: Grabbing frame.\n"
     ]
    },
    {
     "name": "stderr",
     "output_type": "stream",
     "text": [
      " 19%|█▉        | 169/900 [00:25<02:07,  5.75it/s]"
     ]
    },
    {
     "name": "stdout",
     "output_type": "stream",
     "text": [
      "[animation.py:358]:DEBUG:MovieWriter.grab_frame: Grabbing frame.\n"
     ]
    },
    {
     "name": "stderr",
     "output_type": "stream",
     "text": [
      " 19%|█▉        | 170/900 [00:25<02:00,  6.05it/s]"
     ]
    },
    {
     "name": "stdout",
     "output_type": "stream",
     "text": [
      "[animation.py:358]:DEBUG:MovieWriter.grab_frame: Grabbing frame.\n"
     ]
    },
    {
     "name": "stderr",
     "output_type": "stream",
     "text": [
      " 19%|█▉        | 171/900 [00:26<01:52,  6.48it/s]"
     ]
    },
    {
     "name": "stdout",
     "output_type": "stream",
     "text": [
      "[animation.py:358]:DEBUG:MovieWriter.grab_frame: Grabbing frame.\n"
     ]
    },
    {
     "name": "stderr",
     "output_type": "stream",
     "text": [
      " 19%|█▉        | 172/900 [00:26<01:47,  6.77it/s]"
     ]
    },
    {
     "name": "stdout",
     "output_type": "stream",
     "text": [
      "[animation.py:358]:DEBUG:MovieWriter.grab_frame: Grabbing frame.\n"
     ]
    },
    {
     "name": "stderr",
     "output_type": "stream",
     "text": [
      " 19%|█▉        | 173/900 [00:26<01:44,  6.96it/s]"
     ]
    },
    {
     "name": "stdout",
     "output_type": "stream",
     "text": [
      "[animation.py:358]:DEBUG:MovieWriter.grab_frame: Grabbing frame.\n"
     ]
    },
    {
     "name": "stderr",
     "output_type": "stream",
     "text": [
      " 19%|█▉        | 174/900 [00:26<01:42,  7.12it/s]"
     ]
    },
    {
     "name": "stdout",
     "output_type": "stream",
     "text": [
      "[animation.py:358]:DEBUG:MovieWriter.grab_frame: Grabbing frame.\n"
     ]
    },
    {
     "name": "stderr",
     "output_type": "stream",
     "text": [
      " 19%|█▉        | 175/900 [00:26<01:40,  7.20it/s]"
     ]
    },
    {
     "name": "stdout",
     "output_type": "stream",
     "text": [
      "[animation.py:358]:DEBUG:MovieWriter.grab_frame: Grabbing frame.\n"
     ]
    },
    {
     "name": "stderr",
     "output_type": "stream",
     "text": [
      " 20%|█▉        | 176/900 [00:26<01:39,  7.26it/s]"
     ]
    },
    {
     "name": "stdout",
     "output_type": "stream",
     "text": [
      "[animation.py:358]:DEBUG:MovieWriter.grab_frame: Grabbing frame.\n"
     ]
    },
    {
     "name": "stderr",
     "output_type": "stream",
     "text": [
      " 20%|█▉        | 177/900 [00:26<01:39,  7.30it/s]"
     ]
    },
    {
     "name": "stdout",
     "output_type": "stream",
     "text": [
      "[animation.py:358]:DEBUG:MovieWriter.grab_frame: Grabbing frame.\n"
     ]
    },
    {
     "name": "stderr",
     "output_type": "stream",
     "text": [
      " 20%|█▉        | 178/900 [00:26<01:39,  7.29it/s]"
     ]
    },
    {
     "name": "stdout",
     "output_type": "stream",
     "text": [
      "[animation.py:358]:DEBUG:MovieWriter.grab_frame: Grabbing frame.\n"
     ]
    },
    {
     "name": "stderr",
     "output_type": "stream",
     "text": [
      " 20%|█▉        | 179/900 [00:27<01:37,  7.38it/s]"
     ]
    },
    {
     "name": "stdout",
     "output_type": "stream",
     "text": [
      "[animation.py:358]:DEBUG:MovieWriter.grab_frame: Grabbing frame.\n"
     ]
    },
    {
     "name": "stderr",
     "output_type": "stream",
     "text": [
      " 20%|██        | 180/900 [00:27<01:37,  7.42it/s]"
     ]
    },
    {
     "name": "stdout",
     "output_type": "stream",
     "text": [
      "[animation.py:358]:DEBUG:MovieWriter.grab_frame: Grabbing frame.\n"
     ]
    },
    {
     "name": "stderr",
     "output_type": "stream",
     "text": [
      " 20%|██        | 181/900 [00:27<02:39,  4.50it/s]"
     ]
    },
    {
     "name": "stdout",
     "output_type": "stream",
     "text": [
      "[animation.py:358]:DEBUG:MovieWriter.grab_frame: Grabbing frame.\n"
     ]
    },
    {
     "name": "stderr",
     "output_type": "stream",
     "text": [
      " 20%|██        | 182/900 [00:27<02:19,  5.14it/s]"
     ]
    },
    {
     "name": "stdout",
     "output_type": "stream",
     "text": [
      "[animation.py:358]:DEBUG:MovieWriter.grab_frame: Grabbing frame.\n"
     ]
    },
    {
     "name": "stderr",
     "output_type": "stream",
     "text": [
      " 20%|██        | 183/900 [00:27<02:05,  5.70it/s]"
     ]
    },
    {
     "name": "stdout",
     "output_type": "stream",
     "text": [
      "[animation.py:358]:DEBUG:MovieWriter.grab_frame: Grabbing frame.\n"
     ]
    },
    {
     "name": "stderr",
     "output_type": "stream",
     "text": [
      " 20%|██        | 184/900 [00:28<01:56,  6.16it/s]"
     ]
    },
    {
     "name": "stdout",
     "output_type": "stream",
     "text": [
      "[animation.py:358]:DEBUG:MovieWriter.grab_frame: Grabbing frame.\n"
     ]
    },
    {
     "name": "stderr",
     "output_type": "stream",
     "text": [
      " 21%|██        | 185/900 [00:28<01:49,  6.53it/s]"
     ]
    },
    {
     "name": "stdout",
     "output_type": "stream",
     "text": [
      "[animation.py:358]:DEBUG:MovieWriter.grab_frame: Grabbing frame.\n"
     ]
    },
    {
     "name": "stderr",
     "output_type": "stream",
     "text": [
      " 21%|██        | 186/900 [00:28<01:44,  6.83it/s]"
     ]
    },
    {
     "name": "stdout",
     "output_type": "stream",
     "text": [
      "[animation.py:358]:DEBUG:MovieWriter.grab_frame: Grabbing frame.\n"
     ]
    },
    {
     "name": "stderr",
     "output_type": "stream",
     "text": [
      " 21%|██        | 187/900 [00:28<01:41,  7.04it/s]"
     ]
    },
    {
     "name": "stdout",
     "output_type": "stream",
     "text": [
      "[animation.py:358]:DEBUG:MovieWriter.grab_frame: Grabbing frame.\n"
     ]
    },
    {
     "name": "stderr",
     "output_type": "stream",
     "text": [
      " 21%|██        | 188/900 [00:28<01:38,  7.20it/s]"
     ]
    },
    {
     "name": "stdout",
     "output_type": "stream",
     "text": [
      "[animation.py:358]:DEBUG:MovieWriter.grab_frame: Grabbing frame.\n"
     ]
    },
    {
     "name": "stderr",
     "output_type": "stream",
     "text": [
      " 21%|██        | 189/900 [00:28<01:36,  7.34it/s]"
     ]
    },
    {
     "name": "stdout",
     "output_type": "stream",
     "text": [
      "[animation.py:358]:DEBUG:MovieWriter.grab_frame: Grabbing frame.\n"
     ]
    },
    {
     "name": "stderr",
     "output_type": "stream",
     "text": [
      " 21%|██        | 190/900 [00:28<01:35,  7.41it/s]"
     ]
    },
    {
     "name": "stdout",
     "output_type": "stream",
     "text": [
      "[animation.py:358]:DEBUG:MovieWriter.grab_frame: Grabbing frame.\n"
     ]
    },
    {
     "name": "stderr",
     "output_type": "stream",
     "text": [
      " 21%|██        | 191/900 [00:28<01:35,  7.43it/s]"
     ]
    },
    {
     "name": "stdout",
     "output_type": "stream",
     "text": [
      "[animation.py:358]:DEBUG:MovieWriter.grab_frame: Grabbing frame.\n"
     ]
    },
    {
     "name": "stderr",
     "output_type": "stream",
     "text": [
      " 21%|██▏       | 192/900 [00:29<01:34,  7.49it/s]"
     ]
    },
    {
     "name": "stdout",
     "output_type": "stream",
     "text": [
      "[animation.py:358]:DEBUG:MovieWriter.grab_frame: Grabbing frame.\n"
     ]
    },
    {
     "name": "stderr",
     "output_type": "stream",
     "text": [
      " 21%|██▏       | 193/900 [00:29<01:34,  7.51it/s]"
     ]
    },
    {
     "name": "stdout",
     "output_type": "stream",
     "text": [
      "[animation.py:358]:DEBUG:MovieWriter.grab_frame: Grabbing frame.\n"
     ]
    },
    {
     "name": "stderr",
     "output_type": "stream",
     "text": [
      " 22%|██▏       | 194/900 [00:29<01:34,  7.47it/s]"
     ]
    },
    {
     "name": "stdout",
     "output_type": "stream",
     "text": [
      "[animation.py:358]:DEBUG:MovieWriter.grab_frame: Grabbing frame.\n"
     ]
    },
    {
     "name": "stderr",
     "output_type": "stream",
     "text": [
      " 22%|██▏       | 195/900 [00:29<02:39,  4.41it/s]"
     ]
    },
    {
     "name": "stdout",
     "output_type": "stream",
     "text": [
      "[animation.py:358]:DEBUG:MovieWriter.grab_frame: Grabbing frame.\n"
     ]
    },
    {
     "name": "stderr",
     "output_type": "stream",
     "text": [
      " 22%|██▏       | 196/900 [00:29<02:18,  5.10it/s]"
     ]
    },
    {
     "name": "stdout",
     "output_type": "stream",
     "text": [
      "[animation.py:358]:DEBUG:MovieWriter.grab_frame: Grabbing frame.\n"
     ]
    },
    {
     "name": "stderr",
     "output_type": "stream",
     "text": [
      " 22%|██▏       | 197/900 [00:30<02:04,  5.64it/s]"
     ]
    },
    {
     "name": "stdout",
     "output_type": "stream",
     "text": [
      "[animation.py:358]:DEBUG:MovieWriter.grab_frame: Grabbing frame.\n"
     ]
    },
    {
     "name": "stderr",
     "output_type": "stream",
     "text": [
      " 22%|██▏       | 198/900 [00:30<01:53,  6.16it/s]"
     ]
    },
    {
     "name": "stdout",
     "output_type": "stream",
     "text": [
      "[animation.py:358]:DEBUG:MovieWriter.grab_frame: Grabbing frame.\n"
     ]
    },
    {
     "name": "stderr",
     "output_type": "stream",
     "text": [
      " 22%|██▏       | 199/900 [00:30<01:46,  6.61it/s]"
     ]
    },
    {
     "name": "stdout",
     "output_type": "stream",
     "text": [
      "[animation.py:358]:DEBUG:MovieWriter.grab_frame: Grabbing frame.\n"
     ]
    },
    {
     "name": "stderr",
     "output_type": "stream",
     "text": [
      " 22%|██▏       | 200/900 [00:30<01:41,  6.89it/s]"
     ]
    },
    {
     "name": "stdout",
     "output_type": "stream",
     "text": [
      "[animation.py:358]:DEBUG:MovieWriter.grab_frame: Grabbing frame.\n"
     ]
    },
    {
     "name": "stderr",
     "output_type": "stream",
     "text": [
      " 22%|██▏       | 201/900 [00:30<01:37,  7.16it/s]"
     ]
    },
    {
     "name": "stdout",
     "output_type": "stream",
     "text": [
      "[animation.py:358]:DEBUG:MovieWriter.grab_frame: Grabbing frame.\n"
     ]
    },
    {
     "name": "stderr",
     "output_type": "stream",
     "text": [
      " 22%|██▏       | 202/900 [00:30<01:38,  7.06it/s]"
     ]
    },
    {
     "name": "stdout",
     "output_type": "stream",
     "text": [
      "[animation.py:358]:DEBUG:MovieWriter.grab_frame: Grabbing frame.\n"
     ]
    },
    {
     "name": "stderr",
     "output_type": "stream",
     "text": [
      " 23%|██▎       | 203/900 [00:30<01:39,  7.04it/s]"
     ]
    },
    {
     "name": "stdout",
     "output_type": "stream",
     "text": [
      "[animation.py:358]:DEBUG:MovieWriter.grab_frame: Grabbing frame.\n"
     ]
    },
    {
     "name": "stderr",
     "output_type": "stream",
     "text": [
      " 23%|██▎       | 204/900 [00:31<01:37,  7.17it/s]"
     ]
    },
    {
     "name": "stdout",
     "output_type": "stream",
     "text": [
      "[animation.py:358]:DEBUG:MovieWriter.grab_frame: Grabbing frame.\n"
     ]
    },
    {
     "name": "stderr",
     "output_type": "stream",
     "text": [
      " 23%|██▎       | 205/900 [00:31<01:35,  7.29it/s]"
     ]
    },
    {
     "name": "stdout",
     "output_type": "stream",
     "text": [
      "[animation.py:358]:DEBUG:MovieWriter.grab_frame: Grabbing frame.\n"
     ]
    },
    {
     "name": "stderr",
     "output_type": "stream",
     "text": [
      " 23%|██▎       | 206/900 [00:31<01:33,  7.40it/s]"
     ]
    },
    {
     "name": "stdout",
     "output_type": "stream",
     "text": [
      "[animation.py:358]:DEBUG:MovieWriter.grab_frame: Grabbing frame.\n"
     ]
    },
    {
     "name": "stderr",
     "output_type": "stream",
     "text": [
      " 23%|██▎       | 207/900 [00:31<01:33,  7.43it/s]"
     ]
    },
    {
     "name": "stdout",
     "output_type": "stream",
     "text": [
      "[animation.py:358]:DEBUG:MovieWriter.grab_frame: Grabbing frame.\n"
     ]
    },
    {
     "name": "stderr",
     "output_type": "stream",
     "text": [
      " 23%|██▎       | 208/900 [00:31<01:32,  7.48it/s]"
     ]
    },
    {
     "name": "stdout",
     "output_type": "stream",
     "text": [
      "[animation.py:358]:DEBUG:MovieWriter.grab_frame: Grabbing frame.\n"
     ]
    },
    {
     "name": "stderr",
     "output_type": "stream",
     "text": [
      " 23%|██▎       | 209/900 [00:31<01:32,  7.44it/s]"
     ]
    },
    {
     "name": "stdout",
     "output_type": "stream",
     "text": [
      "[animation.py:358]:DEBUG:MovieWriter.grab_frame: Grabbing frame.\n"
     ]
    },
    {
     "name": "stderr",
     "output_type": "stream",
     "text": [
      " 23%|██▎       | 210/900 [00:32<02:32,  4.51it/s]"
     ]
    },
    {
     "name": "stdout",
     "output_type": "stream",
     "text": [
      "[animation.py:358]:DEBUG:MovieWriter.grab_frame: Grabbing frame.\n"
     ]
    },
    {
     "name": "stderr",
     "output_type": "stream",
     "text": [
      " 23%|██▎       | 211/900 [00:32<02:13,  5.17it/s]"
     ]
    },
    {
     "name": "stdout",
     "output_type": "stream",
     "text": [
      "[animation.py:358]:DEBUG:MovieWriter.grab_frame: Grabbing frame.\n"
     ]
    },
    {
     "name": "stderr",
     "output_type": "stream",
     "text": [
      " 24%|██▎       | 212/900 [00:32<02:00,  5.72it/s]"
     ]
    },
    {
     "name": "stdout",
     "output_type": "stream",
     "text": [
      "[animation.py:358]:DEBUG:MovieWriter.grab_frame: Grabbing frame.\n"
     ]
    },
    {
     "name": "stderr",
     "output_type": "stream",
     "text": [
      " 24%|██▎       | 213/900 [00:32<01:52,  6.13it/s]"
     ]
    },
    {
     "name": "stdout",
     "output_type": "stream",
     "text": [
      "[animation.py:358]:DEBUG:MovieWriter.grab_frame: Grabbing frame.\n"
     ]
    },
    {
     "name": "stderr",
     "output_type": "stream",
     "text": [
      " 24%|██▍       | 214/900 [00:32<01:45,  6.50it/s]"
     ]
    },
    {
     "name": "stdout",
     "output_type": "stream",
     "text": [
      "[animation.py:358]:DEBUG:MovieWriter.grab_frame: Grabbing frame.\n"
     ]
    },
    {
     "name": "stderr",
     "output_type": "stream",
     "text": [
      " 24%|██▍       | 215/900 [00:32<01:40,  6.78it/s]"
     ]
    },
    {
     "name": "stdout",
     "output_type": "stream",
     "text": [
      "[animation.py:358]:DEBUG:MovieWriter.grab_frame: Grabbing frame.\n"
     ]
    },
    {
     "name": "stderr",
     "output_type": "stream",
     "text": [
      " 24%|██▍       | 216/900 [00:32<01:38,  6.92it/s]"
     ]
    },
    {
     "name": "stdout",
     "output_type": "stream",
     "text": [
      "[animation.py:358]:DEBUG:MovieWriter.grab_frame: Grabbing frame.\n"
     ]
    },
    {
     "name": "stderr",
     "output_type": "stream",
     "text": [
      " 24%|██▍       | 217/900 [00:33<01:36,  7.06it/s]"
     ]
    },
    {
     "name": "stdout",
     "output_type": "stream",
     "text": [
      "[animation.py:358]:DEBUG:MovieWriter.grab_frame: Grabbing frame.\n"
     ]
    },
    {
     "name": "stderr",
     "output_type": "stream",
     "text": [
      " 24%|██▍       | 218/900 [00:33<01:34,  7.22it/s]"
     ]
    },
    {
     "name": "stdout",
     "output_type": "stream",
     "text": [
      "[animation.py:358]:DEBUG:MovieWriter.grab_frame: Grabbing frame.\n"
     ]
    },
    {
     "name": "stderr",
     "output_type": "stream",
     "text": [
      " 24%|██▍       | 219/900 [00:33<01:33,  7.27it/s]"
     ]
    },
    {
     "name": "stdout",
     "output_type": "stream",
     "text": [
      "[animation.py:358]:DEBUG:MovieWriter.grab_frame: Grabbing frame.\n"
     ]
    },
    {
     "name": "stderr",
     "output_type": "stream",
     "text": [
      " 24%|██▍       | 220/900 [00:33<01:32,  7.35it/s]"
     ]
    },
    {
     "name": "stdout",
     "output_type": "stream",
     "text": [
      "[animation.py:358]:DEBUG:MovieWriter.grab_frame: Grabbing frame.\n"
     ]
    },
    {
     "name": "stderr",
     "output_type": "stream",
     "text": [
      " 25%|██▍       | 221/900 [00:33<01:32,  7.35it/s]"
     ]
    },
    {
     "name": "stdout",
     "output_type": "stream",
     "text": [
      "[animation.py:358]:DEBUG:MovieWriter.grab_frame: Grabbing frame.\n"
     ]
    },
    {
     "name": "stderr",
     "output_type": "stream",
     "text": [
      " 25%|██▍       | 222/900 [00:33<01:31,  7.43it/s]"
     ]
    },
    {
     "name": "stdout",
     "output_type": "stream",
     "text": [
      "[animation.py:358]:DEBUG:MovieWriter.grab_frame: Grabbing frame.\n"
     ]
    },
    {
     "name": "stderr",
     "output_type": "stream",
     "text": [
      " 25%|██▍       | 223/900 [00:33<01:32,  7.35it/s]"
     ]
    },
    {
     "name": "stdout",
     "output_type": "stream",
     "text": [
      "[animation.py:358]:DEBUG:MovieWriter.grab_frame: Grabbing frame.\n"
     ]
    },
    {
     "name": "stderr",
     "output_type": "stream",
     "text": [
      " 25%|██▍       | 224/900 [00:34<02:30,  4.50it/s]"
     ]
    },
    {
     "name": "stdout",
     "output_type": "stream",
     "text": [
      "[animation.py:358]:DEBUG:MovieWriter.grab_frame: Grabbing frame.\n"
     ]
    },
    {
     "name": "stderr",
     "output_type": "stream",
     "text": [
      " 25%|██▌       | 225/900 [00:34<02:10,  5.16it/s]"
     ]
    },
    {
     "name": "stdout",
     "output_type": "stream",
     "text": [
      "[animation.py:358]:DEBUG:MovieWriter.grab_frame: Grabbing frame.\n"
     ]
    },
    {
     "name": "stderr",
     "output_type": "stream",
     "text": [
      " 25%|██▌       | 226/900 [00:34<01:56,  5.77it/s]"
     ]
    },
    {
     "name": "stdout",
     "output_type": "stream",
     "text": [
      "[animation.py:358]:DEBUG:MovieWriter.grab_frame: Grabbing frame.\n"
     ]
    },
    {
     "name": "stderr",
     "output_type": "stream",
     "text": [
      " 25%|██▌       | 227/900 [00:34<01:48,  6.22it/s]"
     ]
    },
    {
     "name": "stdout",
     "output_type": "stream",
     "text": [
      "[animation.py:358]:DEBUG:MovieWriter.grab_frame: Grabbing frame.\n"
     ]
    },
    {
     "name": "stderr",
     "output_type": "stream",
     "text": [
      " 25%|██▌       | 228/900 [00:34<01:41,  6.59it/s]"
     ]
    },
    {
     "name": "stdout",
     "output_type": "stream",
     "text": [
      "[animation.py:358]:DEBUG:MovieWriter.grab_frame: Grabbing frame.\n"
     ]
    },
    {
     "name": "stderr",
     "output_type": "stream",
     "text": [
      " 25%|██▌       | 229/900 [00:34<01:37,  6.89it/s]"
     ]
    },
    {
     "name": "stdout",
     "output_type": "stream",
     "text": [
      "[animation.py:358]:DEBUG:MovieWriter.grab_frame: Grabbing frame.\n"
     ]
    },
    {
     "name": "stderr",
     "output_type": "stream",
     "text": [
      " 26%|██▌       | 230/900 [00:35<01:33,  7.14it/s]"
     ]
    },
    {
     "name": "stdout",
     "output_type": "stream",
     "text": [
      "[animation.py:358]:DEBUG:MovieWriter.grab_frame: Grabbing frame.\n"
     ]
    },
    {
     "name": "stderr",
     "output_type": "stream",
     "text": [
      " 26%|██▌       | 231/900 [00:35<01:31,  7.30it/s]"
     ]
    },
    {
     "name": "stdout",
     "output_type": "stream",
     "text": [
      "[animation.py:358]:DEBUG:MovieWriter.grab_frame: Grabbing frame.\n"
     ]
    },
    {
     "name": "stderr",
     "output_type": "stream",
     "text": [
      " 26%|██▌       | 232/900 [00:35<01:30,  7.38it/s]"
     ]
    },
    {
     "name": "stdout",
     "output_type": "stream",
     "text": [
      "[animation.py:358]:DEBUG:MovieWriter.grab_frame: Grabbing frame.\n"
     ]
    },
    {
     "name": "stderr",
     "output_type": "stream",
     "text": [
      " 26%|██▌       | 233/900 [00:35<01:28,  7.50it/s]"
     ]
    },
    {
     "name": "stdout",
     "output_type": "stream",
     "text": [
      "[animation.py:358]:DEBUG:MovieWriter.grab_frame: Grabbing frame.\n"
     ]
    },
    {
     "name": "stderr",
     "output_type": "stream",
     "text": [
      " 26%|██▌       | 234/900 [00:35<01:28,  7.54it/s]"
     ]
    },
    {
     "name": "stdout",
     "output_type": "stream",
     "text": [
      "[animation.py:358]:DEBUG:MovieWriter.grab_frame: Grabbing frame.\n"
     ]
    },
    {
     "name": "stderr",
     "output_type": "stream",
     "text": [
      " 26%|██▌       | 235/900 [00:35<01:27,  7.61it/s]"
     ]
    },
    {
     "name": "stdout",
     "output_type": "stream",
     "text": [
      "[animation.py:358]:DEBUG:MovieWriter.grab_frame: Grabbing frame.\n"
     ]
    },
    {
     "name": "stderr",
     "output_type": "stream",
     "text": [
      " 26%|██▌       | 236/900 [00:35<01:28,  7.48it/s]"
     ]
    },
    {
     "name": "stdout",
     "output_type": "stream",
     "text": [
      "[animation.py:358]:DEBUG:MovieWriter.grab_frame: Grabbing frame.\n"
     ]
    },
    {
     "name": "stderr",
     "output_type": "stream",
     "text": [
      " 26%|██▋       | 237/900 [00:35<01:28,  7.49it/s]"
     ]
    },
    {
     "name": "stdout",
     "output_type": "stream",
     "text": [
      "[animation.py:358]:DEBUG:MovieWriter.grab_frame: Grabbing frame.\n"
     ]
    },
    {
     "name": "stderr",
     "output_type": "stream",
     "text": [
      " 26%|██▋       | 238/900 [00:36<02:30,  4.41it/s]"
     ]
    },
    {
     "name": "stdout",
     "output_type": "stream",
     "text": [
      "[animation.py:358]:DEBUG:MovieWriter.grab_frame: Grabbing frame.\n"
     ]
    },
    {
     "name": "stderr",
     "output_type": "stream",
     "text": [
      " 27%|██▋       | 239/900 [00:36<02:10,  5.08it/s]"
     ]
    },
    {
     "name": "stdout",
     "output_type": "stream",
     "text": [
      "[animation.py:358]:DEBUG:MovieWriter.grab_frame: Grabbing frame.\n"
     ]
    },
    {
     "name": "stderr",
     "output_type": "stream",
     "text": [
      " 27%|██▋       | 240/900 [00:36<01:56,  5.67it/s]"
     ]
    },
    {
     "name": "stdout",
     "output_type": "stream",
     "text": [
      "[animation.py:358]:DEBUG:MovieWriter.grab_frame: Grabbing frame.\n"
     ]
    },
    {
     "name": "stderr",
     "output_type": "stream",
     "text": [
      " 27%|██▋       | 241/900 [00:36<01:46,  6.18it/s]"
     ]
    },
    {
     "name": "stdout",
     "output_type": "stream",
     "text": [
      "[animation.py:358]:DEBUG:MovieWriter.grab_frame: Grabbing frame.\n"
     ]
    },
    {
     "name": "stderr",
     "output_type": "stream",
     "text": [
      " 27%|██▋       | 242/900 [00:36<01:40,  6.54it/s]"
     ]
    },
    {
     "name": "stdout",
     "output_type": "stream",
     "text": [
      "[animation.py:358]:DEBUG:MovieWriter.grab_frame: Grabbing frame.\n"
     ]
    },
    {
     "name": "stderr",
     "output_type": "stream",
     "text": [
      " 27%|██▋       | 243/900 [00:37<01:35,  6.88it/s]"
     ]
    },
    {
     "name": "stdout",
     "output_type": "stream",
     "text": [
      "[animation.py:358]:DEBUG:MovieWriter.grab_frame: Grabbing frame.\n"
     ]
    },
    {
     "name": "stderr",
     "output_type": "stream",
     "text": [
      " 27%|██▋       | 244/900 [00:37<01:32,  7.12it/s]"
     ]
    },
    {
     "name": "stdout",
     "output_type": "stream",
     "text": [
      "[animation.py:358]:DEBUG:MovieWriter.grab_frame: Grabbing frame.\n"
     ]
    },
    {
     "name": "stderr",
     "output_type": "stream",
     "text": [
      " 27%|██▋       | 245/900 [00:37<01:30,  7.24it/s]"
     ]
    },
    {
     "name": "stdout",
     "output_type": "stream",
     "text": [
      "[animation.py:358]:DEBUG:MovieWriter.grab_frame: Grabbing frame.\n"
     ]
    },
    {
     "name": "stderr",
     "output_type": "stream",
     "text": [
      " 27%|██▋       | 246/900 [00:37<01:28,  7.41it/s]"
     ]
    },
    {
     "name": "stdout",
     "output_type": "stream",
     "text": [
      "[animation.py:358]:DEBUG:MovieWriter.grab_frame: Grabbing frame.\n"
     ]
    },
    {
     "name": "stderr",
     "output_type": "stream",
     "text": [
      " 27%|██▋       | 247/900 [00:37<01:27,  7.46it/s]"
     ]
    },
    {
     "name": "stdout",
     "output_type": "stream",
     "text": [
      "[animation.py:358]:DEBUG:MovieWriter.grab_frame: Grabbing frame.\n"
     ]
    },
    {
     "name": "stderr",
     "output_type": "stream",
     "text": [
      " 28%|██▊       | 248/900 [00:37<01:26,  7.50it/s]"
     ]
    },
    {
     "name": "stdout",
     "output_type": "stream",
     "text": [
      "[animation.py:358]:DEBUG:MovieWriter.grab_frame: Grabbing frame.\n"
     ]
    },
    {
     "name": "stderr",
     "output_type": "stream",
     "text": [
      " 28%|██▊       | 249/900 [00:37<01:27,  7.43it/s]"
     ]
    },
    {
     "name": "stdout",
     "output_type": "stream",
     "text": [
      "[animation.py:358]:DEBUG:MovieWriter.grab_frame: Grabbing frame.\n"
     ]
    },
    {
     "name": "stderr",
     "output_type": "stream",
     "text": [
      " 28%|██▊       | 250/900 [00:37<01:28,  7.37it/s]"
     ]
    },
    {
     "name": "stdout",
     "output_type": "stream",
     "text": [
      "[animation.py:358]:DEBUG:MovieWriter.grab_frame: Grabbing frame.\n"
     ]
    },
    {
     "name": "stderr",
     "output_type": "stream",
     "text": [
      " 28%|██▊       | 251/900 [00:38<01:28,  7.36it/s]"
     ]
    },
    {
     "name": "stdout",
     "output_type": "stream",
     "text": [
      "[animation.py:358]:DEBUG:MovieWriter.grab_frame: Grabbing frame.\n"
     ]
    },
    {
     "name": "stderr",
     "output_type": "stream",
     "text": [
      " 28%|██▊       | 252/900 [00:38<02:25,  4.45it/s]"
     ]
    },
    {
     "name": "stdout",
     "output_type": "stream",
     "text": [
      "[animation.py:358]:DEBUG:MovieWriter.grab_frame: Grabbing frame.\n"
     ]
    },
    {
     "name": "stderr",
     "output_type": "stream",
     "text": [
      " 28%|██▊       | 253/900 [00:38<02:07,  5.08it/s]"
     ]
    },
    {
     "name": "stdout",
     "output_type": "stream",
     "text": [
      "[animation.py:358]:DEBUG:MovieWriter.grab_frame: Grabbing frame.\n"
     ]
    },
    {
     "name": "stderr",
     "output_type": "stream",
     "text": [
      " 28%|██▊       | 254/900 [00:38<01:53,  5.67it/s]"
     ]
    },
    {
     "name": "stdout",
     "output_type": "stream",
     "text": [
      "[animation.py:358]:DEBUG:MovieWriter.grab_frame: Grabbing frame.\n"
     ]
    },
    {
     "name": "stderr",
     "output_type": "stream",
     "text": [
      " 28%|██▊       | 255/900 [00:38<01:45,  6.12it/s]"
     ]
    },
    {
     "name": "stdout",
     "output_type": "stream",
     "text": [
      "[animation.py:358]:DEBUG:MovieWriter.grab_frame: Grabbing frame.\n"
     ]
    },
    {
     "name": "stderr",
     "output_type": "stream",
     "text": [
      " 28%|██▊       | 256/900 [00:39<01:39,  6.50it/s]"
     ]
    },
    {
     "name": "stdout",
     "output_type": "stream",
     "text": [
      "[animation.py:358]:DEBUG:MovieWriter.grab_frame: Grabbing frame.\n"
     ]
    },
    {
     "name": "stderr",
     "output_type": "stream",
     "text": [
      " 29%|██▊       | 257/900 [00:39<01:35,  6.71it/s]"
     ]
    },
    {
     "name": "stdout",
     "output_type": "stream",
     "text": [
      "[animation.py:358]:DEBUG:MovieWriter.grab_frame: Grabbing frame.\n"
     ]
    },
    {
     "name": "stderr",
     "output_type": "stream",
     "text": [
      " 29%|██▊       | 258/900 [00:39<01:32,  6.90it/s]"
     ]
    },
    {
     "name": "stdout",
     "output_type": "stream",
     "text": [
      "[animation.py:358]:DEBUG:MovieWriter.grab_frame: Grabbing frame.\n"
     ]
    },
    {
     "name": "stderr",
     "output_type": "stream",
     "text": [
      " 29%|██▉       | 259/900 [00:39<01:29,  7.14it/s]"
     ]
    },
    {
     "name": "stdout",
     "output_type": "stream",
     "text": [
      "[animation.py:358]:DEBUG:MovieWriter.grab_frame: Grabbing frame.\n"
     ]
    },
    {
     "name": "stderr",
     "output_type": "stream",
     "text": [
      " 29%|██▉       | 260/900 [00:39<01:28,  7.27it/s]"
     ]
    },
    {
     "name": "stdout",
     "output_type": "stream",
     "text": [
      "[animation.py:358]:DEBUG:MovieWriter.grab_frame: Grabbing frame.\n"
     ]
    },
    {
     "name": "stderr",
     "output_type": "stream",
     "text": [
      " 29%|██▉       | 261/900 [00:39<01:27,  7.33it/s]"
     ]
    },
    {
     "name": "stdout",
     "output_type": "stream",
     "text": [
      "[animation.py:358]:DEBUG:MovieWriter.grab_frame: Grabbing frame.\n"
     ]
    },
    {
     "name": "stderr",
     "output_type": "stream",
     "text": [
      " 29%|██▉       | 262/900 [00:39<01:26,  7.36it/s]"
     ]
    },
    {
     "name": "stdout",
     "output_type": "stream",
     "text": [
      "[animation.py:358]:DEBUG:MovieWriter.grab_frame: Grabbing frame.\n"
     ]
    },
    {
     "name": "stderr",
     "output_type": "stream",
     "text": [
      " 29%|██▉       | 263/900 [00:40<01:26,  7.39it/s]"
     ]
    },
    {
     "name": "stdout",
     "output_type": "stream",
     "text": [
      "[animation.py:358]:DEBUG:MovieWriter.grab_frame: Grabbing frame.\n"
     ]
    },
    {
     "name": "stderr",
     "output_type": "stream",
     "text": [
      " 29%|██▉       | 264/900 [00:40<01:25,  7.42it/s]"
     ]
    },
    {
     "name": "stdout",
     "output_type": "stream",
     "text": [
      "[animation.py:358]:DEBUG:MovieWriter.grab_frame: Grabbing frame.\n"
     ]
    },
    {
     "name": "stderr",
     "output_type": "stream",
     "text": [
      " 29%|██▉       | 265/900 [00:40<01:25,  7.46it/s]"
     ]
    },
    {
     "name": "stdout",
     "output_type": "stream",
     "text": [
      "[animation.py:358]:DEBUG:MovieWriter.grab_frame: Grabbing frame.\n"
     ]
    },
    {
     "name": "stderr",
     "output_type": "stream",
     "text": [
      " 30%|██▉       | 266/900 [00:40<02:20,  4.50it/s]"
     ]
    },
    {
     "name": "stdout",
     "output_type": "stream",
     "text": [
      "[animation.py:358]:DEBUG:MovieWriter.grab_frame: Grabbing frame.\n"
     ]
    },
    {
     "name": "stderr",
     "output_type": "stream",
     "text": [
      " 30%|██▉       | 267/900 [00:40<02:03,  5.14it/s]"
     ]
    },
    {
     "name": "stdout",
     "output_type": "stream",
     "text": [
      "[animation.py:358]:DEBUG:MovieWriter.grab_frame: Grabbing frame.\n"
     ]
    },
    {
     "name": "stderr",
     "output_type": "stream",
     "text": [
      " 30%|██▉       | 268/900 [00:40<01:50,  5.74it/s]"
     ]
    },
    {
     "name": "stdout",
     "output_type": "stream",
     "text": [
      "[animation.py:358]:DEBUG:MovieWriter.grab_frame: Grabbing frame.\n"
     ]
    },
    {
     "name": "stderr",
     "output_type": "stream",
     "text": [
      " 30%|██▉       | 269/900 [00:41<01:41,  6.19it/s]"
     ]
    },
    {
     "name": "stdout",
     "output_type": "stream",
     "text": [
      "[animation.py:358]:DEBUG:MovieWriter.grab_frame: Grabbing frame.\n"
     ]
    },
    {
     "name": "stderr",
     "output_type": "stream",
     "text": [
      " 30%|███       | 270/900 [00:41<01:36,  6.53it/s]"
     ]
    },
    {
     "name": "stdout",
     "output_type": "stream",
     "text": [
      "[animation.py:358]:DEBUG:MovieWriter.grab_frame: Grabbing frame.\n"
     ]
    },
    {
     "name": "stderr",
     "output_type": "stream",
     "text": [
      " 30%|███       | 271/900 [00:41<01:32,  6.77it/s]"
     ]
    },
    {
     "name": "stdout",
     "output_type": "stream",
     "text": [
      "[animation.py:358]:DEBUG:MovieWriter.grab_frame: Grabbing frame.\n"
     ]
    },
    {
     "name": "stderr",
     "output_type": "stream",
     "text": [
      " 30%|███       | 272/900 [00:41<01:29,  7.00it/s]"
     ]
    },
    {
     "name": "stdout",
     "output_type": "stream",
     "text": [
      "[animation.py:358]:DEBUG:MovieWriter.grab_frame: Grabbing frame.\n"
     ]
    },
    {
     "name": "stderr",
     "output_type": "stream",
     "text": [
      " 30%|███       | 273/900 [00:41<01:27,  7.17it/s]"
     ]
    },
    {
     "name": "stdout",
     "output_type": "stream",
     "text": [
      "[animation.py:358]:DEBUG:MovieWriter.grab_frame: Grabbing frame.\n"
     ]
    },
    {
     "name": "stderr",
     "output_type": "stream",
     "text": [
      " 30%|███       | 274/900 [00:41<01:26,  7.26it/s]"
     ]
    },
    {
     "name": "stdout",
     "output_type": "stream",
     "text": [
      "[animation.py:358]:DEBUG:MovieWriter.grab_frame: Grabbing frame.\n"
     ]
    },
    {
     "name": "stderr",
     "output_type": "stream",
     "text": [
      " 31%|███       | 275/900 [00:41<01:25,  7.31it/s]"
     ]
    },
    {
     "name": "stdout",
     "output_type": "stream",
     "text": [
      "[animation.py:358]:DEBUG:MovieWriter.grab_frame: Grabbing frame.\n"
     ]
    },
    {
     "name": "stderr",
     "output_type": "stream",
     "text": [
      " 31%|███       | 276/900 [00:42<01:24,  7.34it/s]"
     ]
    },
    {
     "name": "stdout",
     "output_type": "stream",
     "text": [
      "[animation.py:358]:DEBUG:MovieWriter.grab_frame: Grabbing frame.\n"
     ]
    },
    {
     "name": "stderr",
     "output_type": "stream",
     "text": [
      " 31%|███       | 277/900 [00:42<01:24,  7.36it/s]"
     ]
    },
    {
     "name": "stdout",
     "output_type": "stream",
     "text": [
      "[animation.py:358]:DEBUG:MovieWriter.grab_frame: Grabbing frame.\n"
     ]
    },
    {
     "name": "stderr",
     "output_type": "stream",
     "text": [
      " 31%|███       | 278/900 [00:42<01:24,  7.39it/s]"
     ]
    },
    {
     "name": "stdout",
     "output_type": "stream",
     "text": [
      "[animation.py:358]:DEBUG:MovieWriter.grab_frame: Grabbing frame.\n"
     ]
    },
    {
     "name": "stderr",
     "output_type": "stream",
     "text": [
      " 31%|███       | 279/900 [00:42<01:22,  7.51it/s]"
     ]
    },
    {
     "name": "stdout",
     "output_type": "stream",
     "text": [
      "[animation.py:358]:DEBUG:MovieWriter.grab_frame: Grabbing frame.\n"
     ]
    },
    {
     "name": "stderr",
     "output_type": "stream",
     "text": [
      " 31%|███       | 280/900 [00:42<01:22,  7.52it/s]"
     ]
    },
    {
     "name": "stdout",
     "output_type": "stream",
     "text": [
      "[animation.py:358]:DEBUG:MovieWriter.grab_frame: Grabbing frame.\n"
     ]
    },
    {
     "name": "stderr",
     "output_type": "stream",
     "text": [
      " 31%|███       | 281/900 [00:42<02:15,  4.56it/s]"
     ]
    },
    {
     "name": "stdout",
     "output_type": "stream",
     "text": [
      "[animation.py:358]:DEBUG:MovieWriter.grab_frame: Grabbing frame.\n"
     ]
    },
    {
     "name": "stderr",
     "output_type": "stream",
     "text": [
      " 31%|███▏      | 282/900 [00:43<01:58,  5.24it/s]"
     ]
    },
    {
     "name": "stdout",
     "output_type": "stream",
     "text": [
      "[animation.py:358]:DEBUG:MovieWriter.grab_frame: Grabbing frame.\n"
     ]
    },
    {
     "name": "stderr",
     "output_type": "stream",
     "text": [
      " 31%|███▏      | 283/900 [00:43<01:45,  5.82it/s]"
     ]
    },
    {
     "name": "stdout",
     "output_type": "stream",
     "text": [
      "[animation.py:358]:DEBUG:MovieWriter.grab_frame: Grabbing frame.\n"
     ]
    },
    {
     "name": "stderr",
     "output_type": "stream",
     "text": [
      " 32%|███▏      | 284/900 [00:43<01:38,  6.28it/s]"
     ]
    },
    {
     "name": "stdout",
     "output_type": "stream",
     "text": [
      "[animation.py:358]:DEBUG:MovieWriter.grab_frame: Grabbing frame.\n"
     ]
    },
    {
     "name": "stderr",
     "output_type": "stream",
     "text": [
      " 32%|███▏      | 285/900 [00:43<01:31,  6.70it/s]"
     ]
    },
    {
     "name": "stdout",
     "output_type": "stream",
     "text": [
      "[animation.py:358]:DEBUG:MovieWriter.grab_frame: Grabbing frame.\n"
     ]
    },
    {
     "name": "stderr",
     "output_type": "stream",
     "text": [
      " 32%|███▏      | 286/900 [00:43<01:28,  6.97it/s]"
     ]
    },
    {
     "name": "stdout",
     "output_type": "stream",
     "text": [
      "[animation.py:358]:DEBUG:MovieWriter.grab_frame: Grabbing frame.\n"
     ]
    },
    {
     "name": "stderr",
     "output_type": "stream",
     "text": [
      " 32%|███▏      | 287/900 [00:43<01:25,  7.18it/s]"
     ]
    },
    {
     "name": "stdout",
     "output_type": "stream",
     "text": [
      "[animation.py:358]:DEBUG:MovieWriter.grab_frame: Grabbing frame.\n"
     ]
    },
    {
     "name": "stderr",
     "output_type": "stream",
     "text": [
      " 32%|███▏      | 288/900 [00:43<01:24,  7.26it/s]"
     ]
    },
    {
     "name": "stdout",
     "output_type": "stream",
     "text": [
      "[animation.py:358]:DEBUG:MovieWriter.grab_frame: Grabbing frame.\n"
     ]
    },
    {
     "name": "stderr",
     "output_type": "stream",
     "text": [
      " 32%|███▏      | 289/900 [00:44<01:23,  7.34it/s]"
     ]
    },
    {
     "name": "stdout",
     "output_type": "stream",
     "text": [
      "[animation.py:358]:DEBUG:MovieWriter.grab_frame: Grabbing frame.\n"
     ]
    },
    {
     "name": "stderr",
     "output_type": "stream",
     "text": [
      " 32%|███▏      | 290/900 [00:44<01:22,  7.42it/s]"
     ]
    },
    {
     "name": "stdout",
     "output_type": "stream",
     "text": [
      "[animation.py:358]:DEBUG:MovieWriter.grab_frame: Grabbing frame.\n"
     ]
    },
    {
     "name": "stderr",
     "output_type": "stream",
     "text": [
      " 32%|███▏      | 291/900 [00:44<01:22,  7.42it/s]"
     ]
    },
    {
     "name": "stdout",
     "output_type": "stream",
     "text": [
      "[animation.py:358]:DEBUG:MovieWriter.grab_frame: Grabbing frame.\n"
     ]
    },
    {
     "name": "stderr",
     "output_type": "stream",
     "text": [
      " 32%|███▏      | 292/900 [00:44<01:20,  7.51it/s]"
     ]
    },
    {
     "name": "stdout",
     "output_type": "stream",
     "text": [
      "[animation.py:358]:DEBUG:MovieWriter.grab_frame: Grabbing frame.\n"
     ]
    },
    {
     "name": "stderr",
     "output_type": "stream",
     "text": [
      " 33%|███▎      | 293/900 [00:44<01:20,  7.54it/s]"
     ]
    },
    {
     "name": "stdout",
     "output_type": "stream",
     "text": [
      "[animation.py:358]:DEBUG:MovieWriter.grab_frame: Grabbing frame.\n"
     ]
    },
    {
     "name": "stderr",
     "output_type": "stream",
     "text": [
      " 33%|███▎      | 294/900 [00:44<01:20,  7.54it/s]"
     ]
    },
    {
     "name": "stdout",
     "output_type": "stream",
     "text": [
      "[animation.py:358]:DEBUG:MovieWriter.grab_frame: Grabbing frame.\n"
     ]
    },
    {
     "name": "stderr",
     "output_type": "stream",
     "text": [
      " 33%|███▎      | 295/900 [00:45<02:13,  4.53it/s]"
     ]
    },
    {
     "name": "stdout",
     "output_type": "stream",
     "text": [
      "[animation.py:358]:DEBUG:MovieWriter.grab_frame: Grabbing frame.\n"
     ]
    },
    {
     "name": "stderr",
     "output_type": "stream",
     "text": [
      " 33%|███▎      | 296/900 [00:45<01:56,  5.19it/s]"
     ]
    },
    {
     "name": "stdout",
     "output_type": "stream",
     "text": [
      "[animation.py:358]:DEBUG:MovieWriter.grab_frame: Grabbing frame.\n"
     ]
    },
    {
     "name": "stderr",
     "output_type": "stream",
     "text": [
      " 33%|███▎      | 297/900 [00:45<01:44,  5.75it/s]"
     ]
    },
    {
     "name": "stdout",
     "output_type": "stream",
     "text": [
      "[animation.py:358]:DEBUG:MovieWriter.grab_frame: Grabbing frame.\n"
     ]
    },
    {
     "name": "stderr",
     "output_type": "stream",
     "text": [
      " 33%|███▎      | 298/900 [00:45<01:36,  6.23it/s]"
     ]
    },
    {
     "name": "stdout",
     "output_type": "stream",
     "text": [
      "[animation.py:358]:DEBUG:MovieWriter.grab_frame: Grabbing frame.\n"
     ]
    },
    {
     "name": "stderr",
     "output_type": "stream",
     "text": [
      " 33%|███▎      | 299/900 [00:45<01:30,  6.65it/s]"
     ]
    },
    {
     "name": "stdout",
     "output_type": "stream",
     "text": [
      "[animation.py:358]:DEBUG:MovieWriter.grab_frame: Grabbing frame.\n"
     ]
    },
    {
     "name": "stderr",
     "output_type": "stream",
     "text": [
      " 33%|███▎      | 300/900 [00:45<01:26,  6.91it/s]"
     ]
    },
    {
     "name": "stdout",
     "output_type": "stream",
     "text": [
      "[animation.py:358]:DEBUG:MovieWriter.grab_frame: Grabbing frame.\n"
     ]
    },
    {
     "name": "stderr",
     "output_type": "stream",
     "text": [
      " 33%|███▎      | 301/900 [00:45<01:23,  7.14it/s]"
     ]
    },
    {
     "name": "stdout",
     "output_type": "stream",
     "text": [
      "[animation.py:358]:DEBUG:MovieWriter.grab_frame: Grabbing frame.\n"
     ]
    },
    {
     "name": "stderr",
     "output_type": "stream",
     "text": [
      " 34%|███▎      | 302/900 [00:46<01:22,  7.26it/s]"
     ]
    },
    {
     "name": "stdout",
     "output_type": "stream",
     "text": [
      "[animation.py:358]:DEBUG:MovieWriter.grab_frame: Grabbing frame.\n"
     ]
    },
    {
     "name": "stderr",
     "output_type": "stream",
     "text": [
      " 34%|███▎      | 303/900 [00:46<01:20,  7.43it/s]"
     ]
    },
    {
     "name": "stdout",
     "output_type": "stream",
     "text": [
      "[animation.py:358]:DEBUG:MovieWriter.grab_frame: Grabbing frame.\n"
     ]
    },
    {
     "name": "stderr",
     "output_type": "stream",
     "text": [
      " 34%|███▍      | 304/900 [00:46<01:19,  7.54it/s]"
     ]
    },
    {
     "name": "stdout",
     "output_type": "stream",
     "text": [
      "[animation.py:358]:DEBUG:MovieWriter.grab_frame: Grabbing frame.\n"
     ]
    },
    {
     "name": "stderr",
     "output_type": "stream",
     "text": [
      " 34%|███▍      | 305/900 [00:46<01:17,  7.65it/s]"
     ]
    },
    {
     "name": "stdout",
     "output_type": "stream",
     "text": [
      "[animation.py:358]:DEBUG:MovieWriter.grab_frame: Grabbing frame.\n"
     ]
    },
    {
     "name": "stderr",
     "output_type": "stream",
     "text": [
      " 34%|███▍      | 306/900 [00:46<01:17,  7.67it/s]"
     ]
    },
    {
     "name": "stdout",
     "output_type": "stream",
     "text": [
      "[animation.py:358]:DEBUG:MovieWriter.grab_frame: Grabbing frame.\n"
     ]
    },
    {
     "name": "stderr",
     "output_type": "stream",
     "text": [
      " 34%|███▍      | 307/900 [00:46<01:16,  7.72it/s]"
     ]
    },
    {
     "name": "stdout",
     "output_type": "stream",
     "text": [
      "[animation.py:358]:DEBUG:MovieWriter.grab_frame: Grabbing frame.\n"
     ]
    },
    {
     "name": "stderr",
     "output_type": "stream",
     "text": [
      " 34%|███▍      | 308/900 [00:46<01:16,  7.69it/s]"
     ]
    },
    {
     "name": "stdout",
     "output_type": "stream",
     "text": [
      "[animation.py:358]:DEBUG:MovieWriter.grab_frame: Grabbing frame.\n"
     ]
    },
    {
     "name": "stderr",
     "output_type": "stream",
     "text": [
      " 34%|███▍      | 309/900 [00:46<01:17,  7.62it/s]"
     ]
    },
    {
     "name": "stdout",
     "output_type": "stream",
     "text": [
      "[animation.py:358]:DEBUG:MovieWriter.grab_frame: Grabbing frame.\n"
     ]
    },
    {
     "name": "stderr",
     "output_type": "stream",
     "text": [
      " 34%|███▍      | 310/900 [00:47<02:09,  4.57it/s]"
     ]
    },
    {
     "name": "stdout",
     "output_type": "stream",
     "text": [
      "[animation.py:358]:DEBUG:MovieWriter.grab_frame: Grabbing frame.\n"
     ]
    },
    {
     "name": "stderr",
     "output_type": "stream",
     "text": [
      " 35%|███▍      | 311/900 [00:47<01:53,  5.19it/s]"
     ]
    },
    {
     "name": "stdout",
     "output_type": "stream",
     "text": [
      "[animation.py:358]:DEBUG:MovieWriter.grab_frame: Grabbing frame.\n"
     ]
    },
    {
     "name": "stderr",
     "output_type": "stream",
     "text": [
      " 35%|███▍      | 312/900 [00:47<01:42,  5.74it/s]"
     ]
    },
    {
     "name": "stdout",
     "output_type": "stream",
     "text": [
      "[animation.py:358]:DEBUG:MovieWriter.grab_frame: Grabbing frame.\n"
     ]
    },
    {
     "name": "stderr",
     "output_type": "stream",
     "text": [
      " 35%|███▍      | 313/900 [00:47<01:34,  6.20it/s]"
     ]
    },
    {
     "name": "stdout",
     "output_type": "stream",
     "text": [
      "[animation.py:358]:DEBUG:MovieWriter.grab_frame: Grabbing frame.\n"
     ]
    },
    {
     "name": "stderr",
     "output_type": "stream",
     "text": [
      " 35%|███▍      | 314/900 [00:47<01:30,  6.47it/s]"
     ]
    },
    {
     "name": "stdout",
     "output_type": "stream",
     "text": [
      "[animation.py:358]:DEBUG:MovieWriter.grab_frame: Grabbing frame.\n"
     ]
    },
    {
     "name": "stderr",
     "output_type": "stream",
     "text": [
      " 35%|███▌      | 315/900 [00:47<01:26,  6.76it/s]"
     ]
    },
    {
     "name": "stdout",
     "output_type": "stream",
     "text": [
      "[animation.py:358]:DEBUG:MovieWriter.grab_frame: Grabbing frame.\n"
     ]
    },
    {
     "name": "stderr",
     "output_type": "stream",
     "text": [
      " 35%|███▌      | 316/900 [00:48<01:24,  6.94it/s]"
     ]
    },
    {
     "name": "stdout",
     "output_type": "stream",
     "text": [
      "[animation.py:358]:DEBUG:MovieWriter.grab_frame: Grabbing frame.\n"
     ]
    },
    {
     "name": "stderr",
     "output_type": "stream",
     "text": [
      " 35%|███▌      | 317/900 [00:48<01:22,  7.10it/s]"
     ]
    },
    {
     "name": "stdout",
     "output_type": "stream",
     "text": [
      "[animation.py:358]:DEBUG:MovieWriter.grab_frame: Grabbing frame.\n"
     ]
    },
    {
     "name": "stderr",
     "output_type": "stream",
     "text": [
      " 35%|███▌      | 318/900 [00:48<01:21,  7.17it/s]"
     ]
    },
    {
     "name": "stdout",
     "output_type": "stream",
     "text": [
      "[animation.py:358]:DEBUG:MovieWriter.grab_frame: Grabbing frame.\n"
     ]
    },
    {
     "name": "stderr",
     "output_type": "stream",
     "text": [
      " 35%|███▌      | 319/900 [00:48<01:19,  7.27it/s]"
     ]
    },
    {
     "name": "stdout",
     "output_type": "stream",
     "text": [
      "[animation.py:358]:DEBUG:MovieWriter.grab_frame: Grabbing frame.\n"
     ]
    },
    {
     "name": "stderr",
     "output_type": "stream",
     "text": [
      " 36%|███▌      | 320/900 [00:48<01:19,  7.30it/s]"
     ]
    },
    {
     "name": "stdout",
     "output_type": "stream",
     "text": [
      "[animation.py:358]:DEBUG:MovieWriter.grab_frame: Grabbing frame.\n"
     ]
    },
    {
     "name": "stderr",
     "output_type": "stream",
     "text": [
      " 36%|███▌      | 321/900 [00:48<01:18,  7.38it/s]"
     ]
    },
    {
     "name": "stdout",
     "output_type": "stream",
     "text": [
      "[animation.py:358]:DEBUG:MovieWriter.grab_frame: Grabbing frame.\n"
     ]
    },
    {
     "name": "stderr",
     "output_type": "stream",
     "text": [
      " 36%|███▌      | 322/900 [00:48<01:18,  7.35it/s]"
     ]
    },
    {
     "name": "stdout",
     "output_type": "stream",
     "text": [
      "[animation.py:358]:DEBUG:MovieWriter.grab_frame: Grabbing frame.\n"
     ]
    },
    {
     "name": "stderr",
     "output_type": "stream",
     "text": [
      " 36%|███▌      | 323/900 [00:49<01:18,  7.39it/s]"
     ]
    },
    {
     "name": "stdout",
     "output_type": "stream",
     "text": [
      "[animation.py:358]:DEBUG:MovieWriter.grab_frame: Grabbing frame.\n"
     ]
    },
    {
     "name": "stderr",
     "output_type": "stream",
     "text": [
      " 36%|███▌      | 324/900 [00:49<02:10,  4.43it/s]"
     ]
    },
    {
     "name": "stdout",
     "output_type": "stream",
     "text": [
      "[animation.py:358]:DEBUG:MovieWriter.grab_frame: Grabbing frame.\n"
     ]
    },
    {
     "name": "stderr",
     "output_type": "stream",
     "text": [
      " 36%|███▌      | 325/900 [00:49<01:53,  5.06it/s]"
     ]
    },
    {
     "name": "stdout",
     "output_type": "stream",
     "text": [
      "[animation.py:358]:DEBUG:MovieWriter.grab_frame: Grabbing frame.\n"
     ]
    },
    {
     "name": "stderr",
     "output_type": "stream",
     "text": [
      " 36%|███▌      | 326/900 [00:49<01:42,  5.59it/s]"
     ]
    },
    {
     "name": "stdout",
     "output_type": "stream",
     "text": [
      "[animation.py:358]:DEBUG:MovieWriter.grab_frame: Grabbing frame.\n"
     ]
    },
    {
     "name": "stderr",
     "output_type": "stream",
     "text": [
      " 36%|███▋      | 327/900 [00:49<01:35,  6.00it/s]"
     ]
    },
    {
     "name": "stdout",
     "output_type": "stream",
     "text": [
      "[animation.py:358]:DEBUG:MovieWriter.grab_frame: Grabbing frame.\n"
     ]
    },
    {
     "name": "stderr",
     "output_type": "stream",
     "text": [
      " 36%|███▋      | 328/900 [00:50<01:29,  6.39it/s]"
     ]
    },
    {
     "name": "stdout",
     "output_type": "stream",
     "text": [
      "[animation.py:358]:DEBUG:MovieWriter.grab_frame: Grabbing frame.\n"
     ]
    },
    {
     "name": "stderr",
     "output_type": "stream",
     "text": [
      " 37%|███▋      | 329/900 [00:50<01:25,  6.66it/s]"
     ]
    },
    {
     "name": "stdout",
     "output_type": "stream",
     "text": [
      "[animation.py:358]:DEBUG:MovieWriter.grab_frame: Grabbing frame.\n"
     ]
    },
    {
     "name": "stderr",
     "output_type": "stream",
     "text": [
      " 37%|███▋      | 330/900 [00:50<01:22,  6.90it/s]"
     ]
    },
    {
     "name": "stdout",
     "output_type": "stream",
     "text": [
      "[animation.py:358]:DEBUG:MovieWriter.grab_frame: Grabbing frame.\n"
     ]
    },
    {
     "name": "stderr",
     "output_type": "stream",
     "text": [
      " 37%|███▋      | 331/900 [00:50<01:21,  6.98it/s]"
     ]
    },
    {
     "name": "stdout",
     "output_type": "stream",
     "text": [
      "[animation.py:358]:DEBUG:MovieWriter.grab_frame: Grabbing frame.\n"
     ]
    },
    {
     "name": "stderr",
     "output_type": "stream",
     "text": [
      " 37%|███▋      | 332/900 [00:50<01:18,  7.19it/s]"
     ]
    },
    {
     "name": "stdout",
     "output_type": "stream",
     "text": [
      "[animation.py:358]:DEBUG:MovieWriter.grab_frame: Grabbing frame.\n"
     ]
    },
    {
     "name": "stderr",
     "output_type": "stream",
     "text": [
      " 37%|███▋      | 333/900 [00:50<01:18,  7.27it/s]"
     ]
    },
    {
     "name": "stdout",
     "output_type": "stream",
     "text": [
      "[animation.py:358]:DEBUG:MovieWriter.grab_frame: Grabbing frame.\n"
     ]
    },
    {
     "name": "stderr",
     "output_type": "stream",
     "text": [
      " 37%|███▋      | 334/900 [00:50<01:17,  7.26it/s]"
     ]
    },
    {
     "name": "stdout",
     "output_type": "stream",
     "text": [
      "[animation.py:358]:DEBUG:MovieWriter.grab_frame: Grabbing frame.\n"
     ]
    },
    {
     "name": "stderr",
     "output_type": "stream",
     "text": [
      " 37%|███▋      | 335/900 [00:50<01:16,  7.35it/s]"
     ]
    },
    {
     "name": "stdout",
     "output_type": "stream",
     "text": [
      "[animation.py:358]:DEBUG:MovieWriter.grab_frame: Grabbing frame.\n"
     ]
    },
    {
     "name": "stderr",
     "output_type": "stream",
     "text": [
      " 37%|███▋      | 336/900 [00:51<01:16,  7.41it/s]"
     ]
    },
    {
     "name": "stdout",
     "output_type": "stream",
     "text": [
      "[animation.py:358]:DEBUG:MovieWriter.grab_frame: Grabbing frame.\n"
     ]
    },
    {
     "name": "stderr",
     "output_type": "stream",
     "text": [
      " 37%|███▋      | 337/900 [00:51<01:15,  7.44it/s]"
     ]
    },
    {
     "name": "stdout",
     "output_type": "stream",
     "text": [
      "[animation.py:358]:DEBUG:MovieWriter.grab_frame: Grabbing frame.\n"
     ]
    },
    {
     "name": "stderr",
     "output_type": "stream",
     "text": [
      " 38%|███▊      | 338/900 [00:51<02:04,  4.53it/s]"
     ]
    },
    {
     "name": "stdout",
     "output_type": "stream",
     "text": [
      "[animation.py:358]:DEBUG:MovieWriter.grab_frame: Grabbing frame.\n"
     ]
    },
    {
     "name": "stderr",
     "output_type": "stream",
     "text": [
      " 38%|███▊      | 339/900 [00:51<01:49,  5.13it/s]"
     ]
    },
    {
     "name": "stdout",
     "output_type": "stream",
     "text": [
      "[animation.py:358]:DEBUG:MovieWriter.grab_frame: Grabbing frame.\n"
     ]
    },
    {
     "name": "stderr",
     "output_type": "stream",
     "text": [
      " 38%|███▊      | 340/900 [00:51<01:41,  5.51it/s]"
     ]
    },
    {
     "name": "stdout",
     "output_type": "stream",
     "text": [
      "[animation.py:358]:DEBUG:MovieWriter.grab_frame: Grabbing frame.\n"
     ]
    },
    {
     "name": "stderr",
     "output_type": "stream",
     "text": [
      " 38%|███▊      | 341/900 [00:52<01:33,  6.00it/s]"
     ]
    },
    {
     "name": "stdout",
     "output_type": "stream",
     "text": [
      "[animation.py:358]:DEBUG:MovieWriter.grab_frame: Grabbing frame.\n"
     ]
    },
    {
     "name": "stderr",
     "output_type": "stream",
     "text": [
      " 38%|███▊      | 342/900 [00:52<01:27,  6.38it/s]"
     ]
    },
    {
     "name": "stdout",
     "output_type": "stream",
     "text": [
      "[animation.py:358]:DEBUG:MovieWriter.grab_frame: Grabbing frame.\n"
     ]
    },
    {
     "name": "stderr",
     "output_type": "stream",
     "text": [
      " 38%|███▊      | 343/900 [00:52<01:23,  6.69it/s]"
     ]
    },
    {
     "name": "stdout",
     "output_type": "stream",
     "text": [
      "[animation.py:358]:DEBUG:MovieWriter.grab_frame: Grabbing frame.\n"
     ]
    },
    {
     "name": "stderr",
     "output_type": "stream",
     "text": [
      " 38%|███▊      | 344/900 [00:52<01:20,  6.93it/s]"
     ]
    },
    {
     "name": "stdout",
     "output_type": "stream",
     "text": [
      "[animation.py:358]:DEBUG:MovieWriter.grab_frame: Grabbing frame.\n"
     ]
    },
    {
     "name": "stderr",
     "output_type": "stream",
     "text": [
      " 38%|███▊      | 345/900 [00:52<01:22,  6.75it/s]"
     ]
    },
    {
     "name": "stdout",
     "output_type": "stream",
     "text": [
      "[animation.py:358]:DEBUG:MovieWriter.grab_frame: Grabbing frame.\n"
     ]
    },
    {
     "name": "stderr",
     "output_type": "stream",
     "text": [
      " 38%|███▊      | 346/900 [00:52<01:20,  6.86it/s]"
     ]
    },
    {
     "name": "stdout",
     "output_type": "stream",
     "text": [
      "[animation.py:358]:DEBUG:MovieWriter.grab_frame: Grabbing frame.\n"
     ]
    },
    {
     "name": "stderr",
     "output_type": "stream",
     "text": [
      " 39%|███▊      | 347/900 [00:52<01:18,  7.02it/s]"
     ]
    },
    {
     "name": "stdout",
     "output_type": "stream",
     "text": [
      "[animation.py:358]:DEBUG:MovieWriter.grab_frame: Grabbing frame.\n"
     ]
    },
    {
     "name": "stderr",
     "output_type": "stream",
     "text": [
      " 39%|███▊      | 348/900 [00:53<01:18,  7.06it/s]"
     ]
    },
    {
     "name": "stdout",
     "output_type": "stream",
     "text": [
      "[animation.py:358]:DEBUG:MovieWriter.grab_frame: Grabbing frame.\n"
     ]
    },
    {
     "name": "stderr",
     "output_type": "stream",
     "text": [
      " 39%|███▉      | 349/900 [00:53<01:18,  7.06it/s]"
     ]
    },
    {
     "name": "stdout",
     "output_type": "stream",
     "text": [
      "[animation.py:358]:DEBUG:MovieWriter.grab_frame: Grabbing frame.\n"
     ]
    },
    {
     "name": "stderr",
     "output_type": "stream",
     "text": [
      " 39%|███▉      | 350/900 [00:53<01:17,  7.07it/s]"
     ]
    },
    {
     "name": "stdout",
     "output_type": "stream",
     "text": [
      "[animation.py:358]:DEBUG:MovieWriter.grab_frame: Grabbing frame.\n"
     ]
    },
    {
     "name": "stderr",
     "output_type": "stream",
     "text": [
      " 39%|███▉      | 351/900 [00:53<01:17,  7.13it/s]"
     ]
    },
    {
     "name": "stdout",
     "output_type": "stream",
     "text": [
      "[animation.py:358]:DEBUG:MovieWriter.grab_frame: Grabbing frame.\n"
     ]
    },
    {
     "name": "stderr",
     "output_type": "stream",
     "text": [
      " 39%|███▉      | 352/900 [00:53<02:06,  4.34it/s]"
     ]
    },
    {
     "name": "stdout",
     "output_type": "stream",
     "text": [
      "[animation.py:358]:DEBUG:MovieWriter.grab_frame: Grabbing frame.\n"
     ]
    },
    {
     "name": "stderr",
     "output_type": "stream",
     "text": [
      " 39%|███▉      | 353/900 [00:54<01:49,  4.98it/s]"
     ]
    },
    {
     "name": "stdout",
     "output_type": "stream",
     "text": [
      "[animation.py:358]:DEBUG:MovieWriter.grab_frame: Grabbing frame.\n"
     ]
    },
    {
     "name": "stderr",
     "output_type": "stream",
     "text": [
      " 39%|███▉      | 354/900 [00:54<01:37,  5.58it/s]"
     ]
    },
    {
     "name": "stdout",
     "output_type": "stream",
     "text": [
      "[animation.py:358]:DEBUG:MovieWriter.grab_frame: Grabbing frame.\n"
     ]
    },
    {
     "name": "stderr",
     "output_type": "stream",
     "text": [
      " 39%|███▉      | 355/900 [00:54<01:30,  6.05it/s]"
     ]
    },
    {
     "name": "stdout",
     "output_type": "stream",
     "text": [
      "[animation.py:358]:DEBUG:MovieWriter.grab_frame: Grabbing frame.\n"
     ]
    },
    {
     "name": "stderr",
     "output_type": "stream",
     "text": [
      " 40%|███▉      | 356/900 [00:54<01:28,  6.16it/s]"
     ]
    },
    {
     "name": "stdout",
     "output_type": "stream",
     "text": [
      "[animation.py:358]:DEBUG:MovieWriter.grab_frame: Grabbing frame.\n"
     ]
    },
    {
     "name": "stderr",
     "output_type": "stream",
     "text": [
      " 40%|███▉      | 357/900 [00:54<01:23,  6.48it/s]"
     ]
    },
    {
     "name": "stdout",
     "output_type": "stream",
     "text": [
      "[animation.py:358]:DEBUG:MovieWriter.grab_frame: Grabbing frame.\n"
     ]
    },
    {
     "name": "stderr",
     "output_type": "stream",
     "text": [
      " 40%|███▉      | 358/900 [00:54<01:19,  6.79it/s]"
     ]
    },
    {
     "name": "stdout",
     "output_type": "stream",
     "text": [
      "[animation.py:358]:DEBUG:MovieWriter.grab_frame: Grabbing frame.\n"
     ]
    },
    {
     "name": "stderr",
     "output_type": "stream",
     "text": [
      " 40%|███▉      | 359/900 [00:54<01:17,  6.98it/s]"
     ]
    },
    {
     "name": "stdout",
     "output_type": "stream",
     "text": [
      "[animation.py:358]:DEBUG:MovieWriter.grab_frame: Grabbing frame.\n"
     ]
    },
    {
     "name": "stderr",
     "output_type": "stream",
     "text": [
      " 40%|████      | 360/900 [00:55<01:15,  7.16it/s]"
     ]
    },
    {
     "name": "stdout",
     "output_type": "stream",
     "text": [
      "[animation.py:358]:DEBUG:MovieWriter.grab_frame: Grabbing frame.\n"
     ]
    },
    {
     "name": "stderr",
     "output_type": "stream",
     "text": [
      " 40%|████      | 361/900 [00:55<01:14,  7.26it/s]"
     ]
    },
    {
     "name": "stdout",
     "output_type": "stream",
     "text": [
      "[animation.py:358]:DEBUG:MovieWriter.grab_frame: Grabbing frame.\n"
     ]
    },
    {
     "name": "stderr",
     "output_type": "stream",
     "text": [
      " 40%|████      | 362/900 [00:55<01:13,  7.36it/s]"
     ]
    },
    {
     "name": "stdout",
     "output_type": "stream",
     "text": [
      "[animation.py:358]:DEBUG:MovieWriter.grab_frame: Grabbing frame.\n"
     ]
    },
    {
     "name": "stderr",
     "output_type": "stream",
     "text": [
      " 40%|████      | 363/900 [00:55<01:12,  7.42it/s]"
     ]
    },
    {
     "name": "stdout",
     "output_type": "stream",
     "text": [
      "[animation.py:358]:DEBUG:MovieWriter.grab_frame: Grabbing frame.\n"
     ]
    },
    {
     "name": "stderr",
     "output_type": "stream",
     "text": [
      " 40%|████      | 364/900 [00:55<01:11,  7.45it/s]"
     ]
    },
    {
     "name": "stdout",
     "output_type": "stream",
     "text": [
      "[animation.py:358]:DEBUG:MovieWriter.grab_frame: Grabbing frame.\n"
     ]
    },
    {
     "name": "stderr",
     "output_type": "stream",
     "text": [
      " 41%|████      | 365/900 [00:55<01:12,  7.40it/s]"
     ]
    },
    {
     "name": "stdout",
     "output_type": "stream",
     "text": [
      "[animation.py:358]:DEBUG:MovieWriter.grab_frame: Grabbing frame.\n"
     ]
    },
    {
     "name": "stderr",
     "output_type": "stream",
     "text": [
      " 41%|████      | 366/900 [00:56<02:00,  4.45it/s]"
     ]
    },
    {
     "name": "stdout",
     "output_type": "stream",
     "text": [
      "[animation.py:358]:DEBUG:MovieWriter.grab_frame: Grabbing frame.\n"
     ]
    },
    {
     "name": "stderr",
     "output_type": "stream",
     "text": [
      " 41%|████      | 367/900 [00:56<01:44,  5.10it/s]"
     ]
    },
    {
     "name": "stdout",
     "output_type": "stream",
     "text": [
      "[animation.py:358]:DEBUG:MovieWriter.grab_frame: Grabbing frame.\n"
     ]
    },
    {
     "name": "stderr",
     "output_type": "stream",
     "text": [
      " 41%|████      | 368/900 [00:56<01:34,  5.65it/s]"
     ]
    },
    {
     "name": "stdout",
     "output_type": "stream",
     "text": [
      "[animation.py:358]:DEBUG:MovieWriter.grab_frame: Grabbing frame.\n"
     ]
    },
    {
     "name": "stderr",
     "output_type": "stream",
     "text": [
      " 41%|████      | 369/900 [00:56<01:26,  6.10it/s]"
     ]
    },
    {
     "name": "stdout",
     "output_type": "stream",
     "text": [
      "[animation.py:358]:DEBUG:MovieWriter.grab_frame: Grabbing frame.\n"
     ]
    },
    {
     "name": "stderr",
     "output_type": "stream",
     "text": [
      " 41%|████      | 370/900 [00:56<01:21,  6.49it/s]"
     ]
    },
    {
     "name": "stdout",
     "output_type": "stream",
     "text": [
      "[animation.py:358]:DEBUG:MovieWriter.grab_frame: Grabbing frame.\n"
     ]
    },
    {
     "name": "stderr",
     "output_type": "stream",
     "text": [
      " 41%|████      | 371/900 [00:56<01:18,  6.74it/s]"
     ]
    },
    {
     "name": "stdout",
     "output_type": "stream",
     "text": [
      "[animation.py:358]:DEBUG:MovieWriter.grab_frame: Grabbing frame.\n"
     ]
    },
    {
     "name": "stderr",
     "output_type": "stream",
     "text": [
      " 41%|████▏     | 372/900 [00:56<01:15,  6.96it/s]"
     ]
    },
    {
     "name": "stdout",
     "output_type": "stream",
     "text": [
      "[animation.py:358]:DEBUG:MovieWriter.grab_frame: Grabbing frame.\n"
     ]
    },
    {
     "name": "stderr",
     "output_type": "stream",
     "text": [
      " 41%|████▏     | 373/900 [00:57<01:14,  7.11it/s]"
     ]
    },
    {
     "name": "stdout",
     "output_type": "stream",
     "text": [
      "[animation.py:358]:DEBUG:MovieWriter.grab_frame: Grabbing frame.\n"
     ]
    },
    {
     "name": "stderr",
     "output_type": "stream",
     "text": [
      " 42%|████▏     | 374/900 [00:57<01:12,  7.21it/s]"
     ]
    },
    {
     "name": "stdout",
     "output_type": "stream",
     "text": [
      "[animation.py:358]:DEBUG:MovieWriter.grab_frame: Grabbing frame.\n"
     ]
    },
    {
     "name": "stderr",
     "output_type": "stream",
     "text": [
      " 42%|████▏     | 375/900 [00:57<01:11,  7.34it/s]"
     ]
    },
    {
     "name": "stdout",
     "output_type": "stream",
     "text": [
      "[animation.py:358]:DEBUG:MovieWriter.grab_frame: Grabbing frame.\n"
     ]
    },
    {
     "name": "stderr",
     "output_type": "stream",
     "text": [
      " 42%|████▏     | 376/900 [00:57<01:10,  7.41it/s]"
     ]
    },
    {
     "name": "stdout",
     "output_type": "stream",
     "text": [
      "[animation.py:358]:DEBUG:MovieWriter.grab_frame: Grabbing frame.\n"
     ]
    },
    {
     "name": "stderr",
     "output_type": "stream",
     "text": [
      " 42%|████▏     | 377/900 [00:57<01:11,  7.32it/s]"
     ]
    },
    {
     "name": "stdout",
     "output_type": "stream",
     "text": [
      "[animation.py:358]:DEBUG:MovieWriter.grab_frame: Grabbing frame.\n"
     ]
    },
    {
     "name": "stderr",
     "output_type": "stream",
     "text": [
      " 42%|████▏     | 378/900 [00:57<01:10,  7.38it/s]"
     ]
    },
    {
     "name": "stdout",
     "output_type": "stream",
     "text": [
      "[animation.py:358]:DEBUG:MovieWriter.grab_frame: Grabbing frame.\n"
     ]
    },
    {
     "name": "stderr",
     "output_type": "stream",
     "text": [
      " 42%|████▏     | 379/900 [00:57<01:11,  7.31it/s]"
     ]
    },
    {
     "name": "stdout",
     "output_type": "stream",
     "text": [
      "[animation.py:358]:DEBUG:MovieWriter.grab_frame: Grabbing frame.\n"
     ]
    },
    {
     "name": "stderr",
     "output_type": "stream",
     "text": [
      " 42%|████▏     | 380/900 [00:57<01:11,  7.30it/s]"
     ]
    },
    {
     "name": "stdout",
     "output_type": "stream",
     "text": [
      "[animation.py:358]:DEBUG:MovieWriter.grab_frame: Grabbing frame.\n"
     ]
    },
    {
     "name": "stderr",
     "output_type": "stream",
     "text": [
      " 42%|████▏     | 381/900 [00:58<01:55,  4.49it/s]"
     ]
    },
    {
     "name": "stdout",
     "output_type": "stream",
     "text": [
      "[animation.py:358]:DEBUG:MovieWriter.grab_frame: Grabbing frame.\n"
     ]
    },
    {
     "name": "stderr",
     "output_type": "stream",
     "text": [
      " 42%|████▏     | 382/900 [00:58<01:40,  5.17it/s]"
     ]
    },
    {
     "name": "stdout",
     "output_type": "stream",
     "text": [
      "[animation.py:358]:DEBUG:MovieWriter.grab_frame: Grabbing frame.\n"
     ]
    },
    {
     "name": "stderr",
     "output_type": "stream",
     "text": [
      " 43%|████▎     | 383/900 [00:58<01:29,  5.76it/s]"
     ]
    },
    {
     "name": "stdout",
     "output_type": "stream",
     "text": [
      "[animation.py:358]:DEBUG:MovieWriter.grab_frame: Grabbing frame.\n"
     ]
    },
    {
     "name": "stderr",
     "output_type": "stream",
     "text": [
      " 43%|████▎     | 384/900 [00:58<01:22,  6.25it/s]"
     ]
    },
    {
     "name": "stdout",
     "output_type": "stream",
     "text": [
      "[animation.py:358]:DEBUG:MovieWriter.grab_frame: Grabbing frame.\n"
     ]
    },
    {
     "name": "stderr",
     "output_type": "stream",
     "text": [
      " 43%|████▎     | 385/900 [00:58<01:18,  6.55it/s]"
     ]
    },
    {
     "name": "stdout",
     "output_type": "stream",
     "text": [
      "[animation.py:358]:DEBUG:MovieWriter.grab_frame: Grabbing frame.\n"
     ]
    },
    {
     "name": "stderr",
     "output_type": "stream",
     "text": [
      " 43%|████▎     | 386/900 [00:59<01:14,  6.86it/s]"
     ]
    },
    {
     "name": "stdout",
     "output_type": "stream",
     "text": [
      "[animation.py:358]:DEBUG:MovieWriter.grab_frame: Grabbing frame.\n"
     ]
    },
    {
     "name": "stderr",
     "output_type": "stream",
     "text": [
      " 43%|████▎     | 387/900 [00:59<01:12,  7.12it/s]"
     ]
    },
    {
     "name": "stdout",
     "output_type": "stream",
     "text": [
      "[animation.py:358]:DEBUG:MovieWriter.grab_frame: Grabbing frame.\n"
     ]
    },
    {
     "name": "stderr",
     "output_type": "stream",
     "text": [
      " 43%|████▎     | 388/900 [00:59<01:10,  7.29it/s]"
     ]
    },
    {
     "name": "stdout",
     "output_type": "stream",
     "text": [
      "[animation.py:358]:DEBUG:MovieWriter.grab_frame: Grabbing frame.\n"
     ]
    },
    {
     "name": "stderr",
     "output_type": "stream",
     "text": [
      " 43%|████▎     | 389/900 [00:59<01:09,  7.38it/s]"
     ]
    },
    {
     "name": "stdout",
     "output_type": "stream",
     "text": [
      "[animation.py:358]:DEBUG:MovieWriter.grab_frame: Grabbing frame.\n"
     ]
    },
    {
     "name": "stderr",
     "output_type": "stream",
     "text": [
      " 43%|████▎     | 390/900 [00:59<01:08,  7.43it/s]"
     ]
    },
    {
     "name": "stdout",
     "output_type": "stream",
     "text": [
      "[animation.py:358]:DEBUG:MovieWriter.grab_frame: Grabbing frame.\n"
     ]
    },
    {
     "name": "stderr",
     "output_type": "stream",
     "text": [
      " 43%|████▎     | 391/900 [00:59<01:07,  7.51it/s]"
     ]
    },
    {
     "name": "stdout",
     "output_type": "stream",
     "text": [
      "[animation.py:358]:DEBUG:MovieWriter.grab_frame: Grabbing frame.\n"
     ]
    },
    {
     "name": "stderr",
     "output_type": "stream",
     "text": [
      " 44%|████▎     | 392/900 [00:59<01:08,  7.45it/s]"
     ]
    },
    {
     "name": "stdout",
     "output_type": "stream",
     "text": [
      "[animation.py:358]:DEBUG:MovieWriter.grab_frame: Grabbing frame.\n"
     ]
    },
    {
     "name": "stderr",
     "output_type": "stream",
     "text": [
      " 44%|████▎     | 393/900 [00:59<01:08,  7.46it/s]"
     ]
    },
    {
     "name": "stdout",
     "output_type": "stream",
     "text": [
      "[animation.py:358]:DEBUG:MovieWriter.grab_frame: Grabbing frame.\n"
     ]
    },
    {
     "name": "stderr",
     "output_type": "stream",
     "text": [
      " 44%|████▍     | 394/900 [01:00<01:07,  7.46it/s]"
     ]
    },
    {
     "name": "stdout",
     "output_type": "stream",
     "text": [
      "[animation.py:358]:DEBUG:MovieWriter.grab_frame: Grabbing frame.\n"
     ]
    },
    {
     "name": "stderr",
     "output_type": "stream",
     "text": [
      " 44%|████▍     | 395/900 [01:00<01:52,  4.48it/s]"
     ]
    },
    {
     "name": "stdout",
     "output_type": "stream",
     "text": [
      "[animation.py:358]:DEBUG:MovieWriter.grab_frame: Grabbing frame.\n"
     ]
    },
    {
     "name": "stderr",
     "output_type": "stream",
     "text": [
      " 44%|████▍     | 396/900 [01:00<01:37,  5.14it/s]"
     ]
    },
    {
     "name": "stdout",
     "output_type": "stream",
     "text": [
      "[animation.py:358]:DEBUG:MovieWriter.grab_frame: Grabbing frame.\n"
     ]
    },
    {
     "name": "stderr",
     "output_type": "stream",
     "text": [
      " 44%|████▍     | 397/900 [01:00<01:28,  5.66it/s]"
     ]
    },
    {
     "name": "stdout",
     "output_type": "stream",
     "text": [
      "[animation.py:358]:DEBUG:MovieWriter.grab_frame: Grabbing frame.\n"
     ]
    },
    {
     "name": "stderr",
     "output_type": "stream",
     "text": [
      " 44%|████▍     | 398/900 [01:00<01:21,  6.19it/s]"
     ]
    },
    {
     "name": "stdout",
     "output_type": "stream",
     "text": [
      "[animation.py:358]:DEBUG:MovieWriter.grab_frame: Grabbing frame.\n"
     ]
    },
    {
     "name": "stderr",
     "output_type": "stream",
     "text": [
      " 44%|████▍     | 399/900 [01:01<01:16,  6.57it/s]"
     ]
    },
    {
     "name": "stdout",
     "output_type": "stream",
     "text": [
      "[animation.py:358]:DEBUG:MovieWriter.grab_frame: Grabbing frame.\n"
     ]
    },
    {
     "name": "stderr",
     "output_type": "stream",
     "text": [
      " 44%|████▍     | 400/900 [01:01<01:13,  6.82it/s]"
     ]
    },
    {
     "name": "stdout",
     "output_type": "stream",
     "text": [
      "[animation.py:358]:DEBUG:MovieWriter.grab_frame: Grabbing frame.\n"
     ]
    },
    {
     "name": "stderr",
     "output_type": "stream",
     "text": [
      " 45%|████▍     | 401/900 [01:01<01:11,  7.00it/s]"
     ]
    },
    {
     "name": "stdout",
     "output_type": "stream",
     "text": [
      "[animation.py:358]:DEBUG:MovieWriter.grab_frame: Grabbing frame.\n"
     ]
    },
    {
     "name": "stderr",
     "output_type": "stream",
     "text": [
      " 45%|████▍     | 402/900 [01:01<01:09,  7.18it/s]"
     ]
    },
    {
     "name": "stdout",
     "output_type": "stream",
     "text": [
      "[animation.py:358]:DEBUG:MovieWriter.grab_frame: Grabbing frame.\n"
     ]
    },
    {
     "name": "stderr",
     "output_type": "stream",
     "text": [
      " 45%|████▍     | 403/900 [01:01<01:08,  7.24it/s]"
     ]
    },
    {
     "name": "stdout",
     "output_type": "stream",
     "text": [
      "[animation.py:358]:DEBUG:MovieWriter.grab_frame: Grabbing frame.\n"
     ]
    },
    {
     "name": "stderr",
     "output_type": "stream",
     "text": [
      " 45%|████▍     | 404/900 [01:01<01:07,  7.33it/s]"
     ]
    },
    {
     "name": "stdout",
     "output_type": "stream",
     "text": [
      "[animation.py:358]:DEBUG:MovieWriter.grab_frame: Grabbing frame.\n"
     ]
    },
    {
     "name": "stderr",
     "output_type": "stream",
     "text": [
      " 45%|████▌     | 405/900 [01:01<01:07,  7.30it/s]"
     ]
    },
    {
     "name": "stdout",
     "output_type": "stream",
     "text": [
      "[animation.py:358]:DEBUG:MovieWriter.grab_frame: Grabbing frame.\n"
     ]
    },
    {
     "name": "stderr",
     "output_type": "stream",
     "text": [
      " 45%|████▌     | 406/900 [01:01<01:07,  7.31it/s]"
     ]
    },
    {
     "name": "stdout",
     "output_type": "stream",
     "text": [
      "[animation.py:358]:DEBUG:MovieWriter.grab_frame: Grabbing frame.\n"
     ]
    },
    {
     "name": "stderr",
     "output_type": "stream",
     "text": [
      " 45%|████▌     | 407/900 [01:02<01:06,  7.37it/s]"
     ]
    },
    {
     "name": "stdout",
     "output_type": "stream",
     "text": [
      "[animation.py:358]:DEBUG:MovieWriter.grab_frame: Grabbing frame.\n"
     ]
    },
    {
     "name": "stderr",
     "output_type": "stream",
     "text": [
      " 45%|████▌     | 408/900 [01:02<01:06,  7.40it/s]"
     ]
    },
    {
     "name": "stdout",
     "output_type": "stream",
     "text": [
      "[animation.py:358]:DEBUG:MovieWriter.grab_frame: Grabbing frame.\n"
     ]
    },
    {
     "name": "stderr",
     "output_type": "stream",
     "text": [
      " 45%|████▌     | 409/900 [01:02<01:49,  4.49it/s]"
     ]
    },
    {
     "name": "stdout",
     "output_type": "stream",
     "text": [
      "[animation.py:358]:DEBUG:MovieWriter.grab_frame: Grabbing frame.\n"
     ]
    },
    {
     "name": "stderr",
     "output_type": "stream",
     "text": [
      " 46%|████▌     | 410/900 [01:02<01:35,  5.14it/s]"
     ]
    },
    {
     "name": "stdout",
     "output_type": "stream",
     "text": [
      "[animation.py:358]:DEBUG:MovieWriter.grab_frame: Grabbing frame.\n"
     ]
    },
    {
     "name": "stderr",
     "output_type": "stream",
     "text": [
      " 46%|████▌     | 411/900 [01:02<01:25,  5.70it/s]"
     ]
    },
    {
     "name": "stdout",
     "output_type": "stream",
     "text": [
      "[animation.py:358]:DEBUG:MovieWriter.grab_frame: Grabbing frame.\n"
     ]
    },
    {
     "name": "stderr",
     "output_type": "stream",
     "text": [
      " 46%|████▌     | 412/900 [01:03<01:18,  6.19it/s]"
     ]
    },
    {
     "name": "stdout",
     "output_type": "stream",
     "text": [
      "[animation.py:358]:DEBUG:MovieWriter.grab_frame: Grabbing frame.\n"
     ]
    },
    {
     "name": "stderr",
     "output_type": "stream",
     "text": [
      " 46%|████▌     | 413/900 [01:03<01:13,  6.63it/s]"
     ]
    },
    {
     "name": "stdout",
     "output_type": "stream",
     "text": [
      "[animation.py:358]:DEBUG:MovieWriter.grab_frame: Grabbing frame.\n"
     ]
    },
    {
     "name": "stderr",
     "output_type": "stream",
     "text": [
      " 46%|████▌     | 414/900 [01:03<01:10,  6.90it/s]"
     ]
    },
    {
     "name": "stdout",
     "output_type": "stream",
     "text": [
      "[animation.py:358]:DEBUG:MovieWriter.grab_frame: Grabbing frame.\n"
     ]
    },
    {
     "name": "stderr",
     "output_type": "stream",
     "text": [
      " 46%|████▌     | 415/900 [01:03<01:07,  7.14it/s]"
     ]
    },
    {
     "name": "stdout",
     "output_type": "stream",
     "text": [
      "[animation.py:358]:DEBUG:MovieWriter.grab_frame: Grabbing frame.\n"
     ]
    },
    {
     "name": "stderr",
     "output_type": "stream",
     "text": [
      " 46%|████▌     | 416/900 [01:03<01:06,  7.24it/s]"
     ]
    },
    {
     "name": "stdout",
     "output_type": "stream",
     "text": [
      "[animation.py:358]:DEBUG:MovieWriter.grab_frame: Grabbing frame.\n"
     ]
    },
    {
     "name": "stderr",
     "output_type": "stream",
     "text": [
      " 46%|████▋     | 417/900 [01:03<01:05,  7.32it/s]"
     ]
    },
    {
     "name": "stdout",
     "output_type": "stream",
     "text": [
      "[animation.py:358]:DEBUG:MovieWriter.grab_frame: Grabbing frame.\n"
     ]
    },
    {
     "name": "stderr",
     "output_type": "stream",
     "text": [
      " 46%|████▋     | 418/900 [01:03<01:05,  7.40it/s]"
     ]
    },
    {
     "name": "stdout",
     "output_type": "stream",
     "text": [
      "[animation.py:358]:DEBUG:MovieWriter.grab_frame: Grabbing frame.\n"
     ]
    },
    {
     "name": "stderr",
     "output_type": "stream",
     "text": [
      " 47%|████▋     | 419/900 [01:03<01:04,  7.45it/s]"
     ]
    },
    {
     "name": "stdout",
     "output_type": "stream",
     "text": [
      "[animation.py:358]:DEBUG:MovieWriter.grab_frame: Grabbing frame.\n"
     ]
    },
    {
     "name": "stderr",
     "output_type": "stream",
     "text": [
      " 47%|████▋     | 420/900 [01:04<01:03,  7.54it/s]"
     ]
    },
    {
     "name": "stdout",
     "output_type": "stream",
     "text": [
      "[animation.py:358]:DEBUG:MovieWriter.grab_frame: Grabbing frame.\n"
     ]
    },
    {
     "name": "stderr",
     "output_type": "stream",
     "text": [
      " 47%|████▋     | 421/900 [01:04<01:03,  7.57it/s]"
     ]
    },
    {
     "name": "stdout",
     "output_type": "stream",
     "text": [
      "[animation.py:358]:DEBUG:MovieWriter.grab_frame: Grabbing frame.\n"
     ]
    },
    {
     "name": "stderr",
     "output_type": "stream",
     "text": [
      " 47%|████▋     | 422/900 [01:04<01:03,  7.56it/s]"
     ]
    },
    {
     "name": "stdout",
     "output_type": "stream",
     "text": [
      "[animation.py:358]:DEBUG:MovieWriter.grab_frame: Grabbing frame.\n"
     ]
    },
    {
     "name": "stderr",
     "output_type": "stream",
     "text": [
      " 47%|████▋     | 423/900 [01:04<01:02,  7.61it/s]"
     ]
    },
    {
     "name": "stdout",
     "output_type": "stream",
     "text": [
      "[animation.py:358]:DEBUG:MovieWriter.grab_frame: Grabbing frame.\n"
     ]
    },
    {
     "name": "stderr",
     "output_type": "stream",
     "text": [
      " 47%|████▋     | 424/900 [01:04<01:43,  4.58it/s]"
     ]
    },
    {
     "name": "stdout",
     "output_type": "stream",
     "text": [
      "[animation.py:358]:DEBUG:MovieWriter.grab_frame: Grabbing frame.\n"
     ]
    },
    {
     "name": "stderr",
     "output_type": "stream",
     "text": [
      " 47%|████▋     | 425/900 [01:05<01:30,  5.23it/s]"
     ]
    },
    {
     "name": "stdout",
     "output_type": "stream",
     "text": [
      "[animation.py:358]:DEBUG:MovieWriter.grab_frame: Grabbing frame.\n"
     ]
    },
    {
     "name": "stderr",
     "output_type": "stream",
     "text": [
      " 47%|████▋     | 426/900 [01:05<01:22,  5.76it/s]"
     ]
    },
    {
     "name": "stdout",
     "output_type": "stream",
     "text": [
      "[animation.py:358]:DEBUG:MovieWriter.grab_frame: Grabbing frame.\n"
     ]
    },
    {
     "name": "stderr",
     "output_type": "stream",
     "text": [
      " 47%|████▋     | 427/900 [01:05<01:15,  6.26it/s]"
     ]
    },
    {
     "name": "stdout",
     "output_type": "stream",
     "text": [
      "[animation.py:358]:DEBUG:MovieWriter.grab_frame: Grabbing frame.\n"
     ]
    },
    {
     "name": "stderr",
     "output_type": "stream",
     "text": [
      " 48%|████▊     | 428/900 [01:05<01:10,  6.66it/s]"
     ]
    },
    {
     "name": "stdout",
     "output_type": "stream",
     "text": [
      "[animation.py:358]:DEBUG:MovieWriter.grab_frame: Grabbing frame.\n"
     ]
    },
    {
     "name": "stderr",
     "output_type": "stream",
     "text": [
      " 48%|████▊     | 429/900 [01:05<01:08,  6.92it/s]"
     ]
    },
    {
     "name": "stdout",
     "output_type": "stream",
     "text": [
      "[animation.py:358]:DEBUG:MovieWriter.grab_frame: Grabbing frame.\n"
     ]
    },
    {
     "name": "stderr",
     "output_type": "stream",
     "text": [
      " 48%|████▊     | 430/900 [01:05<01:05,  7.15it/s]"
     ]
    },
    {
     "name": "stdout",
     "output_type": "stream",
     "text": [
      "[animation.py:358]:DEBUG:MovieWriter.grab_frame: Grabbing frame.\n"
     ]
    },
    {
     "name": "stderr",
     "output_type": "stream",
     "text": [
      " 48%|████▊     | 431/900 [01:05<01:04,  7.25it/s]"
     ]
    },
    {
     "name": "stdout",
     "output_type": "stream",
     "text": [
      "[animation.py:358]:DEBUG:MovieWriter.grab_frame: Grabbing frame.\n"
     ]
    },
    {
     "name": "stderr",
     "output_type": "stream",
     "text": [
      " 48%|████▊     | 432/900 [01:05<01:03,  7.38it/s]"
     ]
    },
    {
     "name": "stdout",
     "output_type": "stream",
     "text": [
      "[animation.py:358]:DEBUG:MovieWriter.grab_frame: Grabbing frame.\n"
     ]
    },
    {
     "name": "stderr",
     "output_type": "stream",
     "text": [
      " 48%|████▊     | 433/900 [01:06<01:03,  7.41it/s]"
     ]
    },
    {
     "name": "stdout",
     "output_type": "stream",
     "text": [
      "[animation.py:358]:DEBUG:MovieWriter.grab_frame: Grabbing frame.\n"
     ]
    },
    {
     "name": "stderr",
     "output_type": "stream",
     "text": [
      " 48%|████▊     | 434/900 [01:06<01:02,  7.43it/s]"
     ]
    },
    {
     "name": "stdout",
     "output_type": "stream",
     "text": [
      "[animation.py:358]:DEBUG:MovieWriter.grab_frame: Grabbing frame.\n"
     ]
    },
    {
     "name": "stderr",
     "output_type": "stream",
     "text": [
      " 48%|████▊     | 435/900 [01:06<01:02,  7.45it/s]"
     ]
    },
    {
     "name": "stdout",
     "output_type": "stream",
     "text": [
      "[animation.py:358]:DEBUG:MovieWriter.grab_frame: Grabbing frame.\n"
     ]
    },
    {
     "name": "stderr",
     "output_type": "stream",
     "text": [
      " 48%|████▊     | 436/900 [01:06<01:02,  7.47it/s]"
     ]
    },
    {
     "name": "stdout",
     "output_type": "stream",
     "text": [
      "[animation.py:358]:DEBUG:MovieWriter.grab_frame: Grabbing frame.\n"
     ]
    },
    {
     "name": "stderr",
     "output_type": "stream",
     "text": [
      " 49%|████▊     | 437/900 [01:06<01:01,  7.51it/s]"
     ]
    },
    {
     "name": "stdout",
     "output_type": "stream",
     "text": [
      "[animation.py:358]:DEBUG:MovieWriter.grab_frame: Grabbing frame.\n"
     ]
    },
    {
     "name": "stderr",
     "output_type": "stream",
     "text": [
      " 49%|████▊     | 438/900 [01:07<01:41,  4.54it/s]"
     ]
    },
    {
     "name": "stdout",
     "output_type": "stream",
     "text": [
      "[animation.py:358]:DEBUG:MovieWriter.grab_frame: Grabbing frame.\n"
     ]
    },
    {
     "name": "stderr",
     "output_type": "stream",
     "text": [
      " 49%|████▉     | 439/900 [01:07<01:28,  5.20it/s]"
     ]
    },
    {
     "name": "stdout",
     "output_type": "stream",
     "text": [
      "[animation.py:358]:DEBUG:MovieWriter.grab_frame: Grabbing frame.\n"
     ]
    },
    {
     "name": "stderr",
     "output_type": "stream",
     "text": [
      " 49%|████▉     | 440/900 [01:07<01:19,  5.78it/s]"
     ]
    },
    {
     "name": "stdout",
     "output_type": "stream",
     "text": [
      "[animation.py:358]:DEBUG:MovieWriter.grab_frame: Grabbing frame.\n"
     ]
    },
    {
     "name": "stderr",
     "output_type": "stream",
     "text": [
      " 49%|████▉     | 441/900 [01:07<01:13,  6.25it/s]"
     ]
    },
    {
     "name": "stdout",
     "output_type": "stream",
     "text": [
      "[animation.py:358]:DEBUG:MovieWriter.grab_frame: Grabbing frame.\n"
     ]
    },
    {
     "name": "stderr",
     "output_type": "stream",
     "text": [
      " 49%|████▉     | 442/900 [01:07<01:09,  6.57it/s]"
     ]
    },
    {
     "name": "stdout",
     "output_type": "stream",
     "text": [
      "[animation.py:358]:DEBUG:MovieWriter.grab_frame: Grabbing frame.\n"
     ]
    },
    {
     "name": "stderr",
     "output_type": "stream",
     "text": [
      " 49%|████▉     | 443/900 [01:07<01:06,  6.90it/s]"
     ]
    },
    {
     "name": "stdout",
     "output_type": "stream",
     "text": [
      "[animation.py:358]:DEBUG:MovieWriter.grab_frame: Grabbing frame.\n"
     ]
    },
    {
     "name": "stderr",
     "output_type": "stream",
     "text": [
      " 49%|████▉     | 444/900 [01:07<01:05,  7.01it/s]"
     ]
    },
    {
     "name": "stdout",
     "output_type": "stream",
     "text": [
      "[animation.py:358]:DEBUG:MovieWriter.grab_frame: Grabbing frame.\n"
     ]
    },
    {
     "name": "stderr",
     "output_type": "stream",
     "text": [
      " 49%|████▉     | 445/900 [01:07<01:03,  7.16it/s]"
     ]
    },
    {
     "name": "stdout",
     "output_type": "stream",
     "text": [
      "[animation.py:358]:DEBUG:MovieWriter.grab_frame: Grabbing frame.\n"
     ]
    },
    {
     "name": "stderr",
     "output_type": "stream",
     "text": [
      " 50%|████▉     | 446/900 [01:08<01:02,  7.29it/s]"
     ]
    },
    {
     "name": "stdout",
     "output_type": "stream",
     "text": [
      "[animation.py:358]:DEBUG:MovieWriter.grab_frame: Grabbing frame.\n"
     ]
    },
    {
     "name": "stderr",
     "output_type": "stream",
     "text": [
      " 50%|████▉     | 447/900 [01:08<01:01,  7.42it/s]"
     ]
    },
    {
     "name": "stdout",
     "output_type": "stream",
     "text": [
      "[animation.py:358]:DEBUG:MovieWriter.grab_frame: Grabbing frame.\n"
     ]
    },
    {
     "name": "stderr",
     "output_type": "stream",
     "text": [
      " 50%|████▉     | 448/900 [01:08<01:00,  7.48it/s]"
     ]
    },
    {
     "name": "stdout",
     "output_type": "stream",
     "text": [
      "[animation.py:358]:DEBUG:MovieWriter.grab_frame: Grabbing frame.\n"
     ]
    },
    {
     "name": "stderr",
     "output_type": "stream",
     "text": [
      " 50%|████▉     | 449/900 [01:08<01:00,  7.44it/s]"
     ]
    },
    {
     "name": "stdout",
     "output_type": "stream",
     "text": [
      "[animation.py:358]:DEBUG:MovieWriter.grab_frame: Grabbing frame.\n"
     ]
    },
    {
     "name": "stderr",
     "output_type": "stream",
     "text": [
      " 50%|█████     | 450/900 [01:08<01:00,  7.39it/s]"
     ]
    },
    {
     "name": "stdout",
     "output_type": "stream",
     "text": [
      "[animation.py:358]:DEBUG:MovieWriter.grab_frame: Grabbing frame.\n"
     ]
    },
    {
     "name": "stderr",
     "output_type": "stream",
     "text": [
      " 50%|█████     | 451/900 [01:08<01:01,  7.32it/s]"
     ]
    },
    {
     "name": "stdout",
     "output_type": "stream",
     "text": [
      "[animation.py:358]:DEBUG:MovieWriter.grab_frame: Grabbing frame.\n"
     ]
    },
    {
     "name": "stderr",
     "output_type": "stream",
     "text": [
      " 50%|█████     | 452/900 [01:09<01:40,  4.46it/s]"
     ]
    },
    {
     "name": "stdout",
     "output_type": "stream",
     "text": [
      "[animation.py:358]:DEBUG:MovieWriter.grab_frame: Grabbing frame.\n"
     ]
    },
    {
     "name": "stderr",
     "output_type": "stream",
     "text": [
      " 50%|█████     | 453/900 [01:09<01:27,  5.11it/s]"
     ]
    },
    {
     "name": "stdout",
     "output_type": "stream",
     "text": [
      "[animation.py:358]:DEBUG:MovieWriter.grab_frame: Grabbing frame.\n"
     ]
    },
    {
     "name": "stderr",
     "output_type": "stream",
     "text": [
      " 50%|█████     | 454/900 [01:09<01:18,  5.70it/s]"
     ]
    },
    {
     "name": "stdout",
     "output_type": "stream",
     "text": [
      "[animation.py:358]:DEBUG:MovieWriter.grab_frame: Grabbing frame.\n"
     ]
    },
    {
     "name": "stderr",
     "output_type": "stream",
     "text": [
      " 51%|█████     | 455/900 [01:09<01:11,  6.19it/s]"
     ]
    },
    {
     "name": "stdout",
     "output_type": "stream",
     "text": [
      "[animation.py:358]:DEBUG:MovieWriter.grab_frame: Grabbing frame.\n"
     ]
    },
    {
     "name": "stderr",
     "output_type": "stream",
     "text": [
      " 51%|█████     | 456/900 [01:09<01:07,  6.55it/s]"
     ]
    },
    {
     "name": "stdout",
     "output_type": "stream",
     "text": [
      "[animation.py:358]:DEBUG:MovieWriter.grab_frame: Grabbing frame.\n"
     ]
    },
    {
     "name": "stderr",
     "output_type": "stream",
     "text": [
      " 51%|█████     | 457/900 [01:09<01:04,  6.84it/s]"
     ]
    },
    {
     "name": "stdout",
     "output_type": "stream",
     "text": [
      "[animation.py:358]:DEBUG:MovieWriter.grab_frame: Grabbing frame.\n"
     ]
    },
    {
     "name": "stderr",
     "output_type": "stream",
     "text": [
      " 51%|█████     | 458/900 [01:09<01:02,  7.03it/s]"
     ]
    },
    {
     "name": "stdout",
     "output_type": "stream",
     "text": [
      "[animation.py:358]:DEBUG:MovieWriter.grab_frame: Grabbing frame.\n"
     ]
    },
    {
     "name": "stderr",
     "output_type": "stream",
     "text": [
      " 51%|█████     | 459/900 [01:10<01:01,  7.20it/s]"
     ]
    },
    {
     "name": "stdout",
     "output_type": "stream",
     "text": [
      "[animation.py:358]:DEBUG:MovieWriter.grab_frame: Grabbing frame.\n"
     ]
    },
    {
     "name": "stderr",
     "output_type": "stream",
     "text": [
      " 51%|█████     | 460/900 [01:10<00:59,  7.35it/s]"
     ]
    },
    {
     "name": "stdout",
     "output_type": "stream",
     "text": [
      "[animation.py:358]:DEBUG:MovieWriter.grab_frame: Grabbing frame.\n"
     ]
    },
    {
     "name": "stderr",
     "output_type": "stream",
     "text": [
      " 51%|█████     | 461/900 [01:10<00:58,  7.47it/s]"
     ]
    },
    {
     "name": "stdout",
     "output_type": "stream",
     "text": [
      "[animation.py:358]:DEBUG:MovieWriter.grab_frame: Grabbing frame.\n"
     ]
    },
    {
     "name": "stderr",
     "output_type": "stream",
     "text": [
      " 51%|█████▏    | 462/900 [01:10<00:57,  7.59it/s]"
     ]
    },
    {
     "name": "stdout",
     "output_type": "stream",
     "text": [
      "[animation.py:358]:DEBUG:MovieWriter.grab_frame: Grabbing frame.\n"
     ]
    },
    {
     "name": "stderr",
     "output_type": "stream",
     "text": [
      " 51%|█████▏    | 463/900 [01:10<00:57,  7.62it/s]"
     ]
    },
    {
     "name": "stdout",
     "output_type": "stream",
     "text": [
      "[animation.py:358]:DEBUG:MovieWriter.grab_frame: Grabbing frame.\n"
     ]
    },
    {
     "name": "stderr",
     "output_type": "stream",
     "text": [
      " 52%|█████▏    | 464/900 [01:10<00:57,  7.63it/s]"
     ]
    },
    {
     "name": "stdout",
     "output_type": "stream",
     "text": [
      "[animation.py:358]:DEBUG:MovieWriter.grab_frame: Grabbing frame.\n"
     ]
    },
    {
     "name": "stderr",
     "output_type": "stream",
     "text": [
      " 52%|█████▏    | 465/900 [01:10<00:57,  7.63it/s]"
     ]
    },
    {
     "name": "stdout",
     "output_type": "stream",
     "text": [
      "[animation.py:358]:DEBUG:MovieWriter.grab_frame: Grabbing frame.\n"
     ]
    },
    {
     "name": "stderr",
     "output_type": "stream",
     "text": [
      " 52%|█████▏    | 466/900 [01:11<00:57,  7.61it/s]"
     ]
    },
    {
     "name": "stdout",
     "output_type": "stream",
     "text": [
      "[animation.py:358]:DEBUG:MovieWriter.grab_frame: Grabbing frame.\n"
     ]
    },
    {
     "name": "stderr",
     "output_type": "stream",
     "text": [
      " 52%|█████▏    | 467/900 [01:11<01:34,  4.59it/s]"
     ]
    },
    {
     "name": "stdout",
     "output_type": "stream",
     "text": [
      "[animation.py:358]:DEBUG:MovieWriter.grab_frame: Grabbing frame.\n"
     ]
    },
    {
     "name": "stderr",
     "output_type": "stream",
     "text": [
      " 52%|█████▏    | 468/900 [01:11<01:22,  5.23it/s]"
     ]
    },
    {
     "name": "stdout",
     "output_type": "stream",
     "text": [
      "[animation.py:358]:DEBUG:MovieWriter.grab_frame: Grabbing frame.\n"
     ]
    },
    {
     "name": "stderr",
     "output_type": "stream",
     "text": [
      " 52%|█████▏    | 469/900 [01:11<01:14,  5.82it/s]"
     ]
    },
    {
     "name": "stdout",
     "output_type": "stream",
     "text": [
      "[animation.py:358]:DEBUG:MovieWriter.grab_frame: Grabbing frame.\n"
     ]
    },
    {
     "name": "stderr",
     "output_type": "stream",
     "text": [
      " 52%|█████▏    | 470/900 [01:11<01:09,  6.22it/s]"
     ]
    },
    {
     "name": "stdout",
     "output_type": "stream",
     "text": [
      "[animation.py:358]:DEBUG:MovieWriter.grab_frame: Grabbing frame.\n"
     ]
    },
    {
     "name": "stderr",
     "output_type": "stream",
     "text": [
      " 52%|█████▏    | 471/900 [01:11<01:04,  6.63it/s]"
     ]
    },
    {
     "name": "stdout",
     "output_type": "stream",
     "text": [
      "[animation.py:358]:DEBUG:MovieWriter.grab_frame: Grabbing frame.\n"
     ]
    },
    {
     "name": "stderr",
     "output_type": "stream",
     "text": [
      " 52%|█████▏    | 472/900 [01:12<01:02,  6.90it/s]"
     ]
    },
    {
     "name": "stdout",
     "output_type": "stream",
     "text": [
      "[animation.py:358]:DEBUG:MovieWriter.grab_frame: Grabbing frame.\n"
     ]
    },
    {
     "name": "stderr",
     "output_type": "stream",
     "text": [
      " 53%|█████▎    | 473/900 [01:12<01:00,  7.06it/s]"
     ]
    },
    {
     "name": "stdout",
     "output_type": "stream",
     "text": [
      "[animation.py:358]:DEBUG:MovieWriter.grab_frame: Grabbing frame.\n"
     ]
    },
    {
     "name": "stderr",
     "output_type": "stream",
     "text": [
      " 53%|█████▎    | 474/900 [01:12<00:59,  7.20it/s]"
     ]
    },
    {
     "name": "stdout",
     "output_type": "stream",
     "text": [
      "[animation.py:358]:DEBUG:MovieWriter.grab_frame: Grabbing frame.\n"
     ]
    },
    {
     "name": "stderr",
     "output_type": "stream",
     "text": [
      " 53%|█████▎    | 475/900 [01:12<00:58,  7.22it/s]"
     ]
    },
    {
     "name": "stdout",
     "output_type": "stream",
     "text": [
      "[animation.py:358]:DEBUG:MovieWriter.grab_frame: Grabbing frame.\n"
     ]
    },
    {
     "name": "stderr",
     "output_type": "stream",
     "text": [
      " 53%|█████▎    | 476/900 [01:12<00:58,  7.26it/s]"
     ]
    },
    {
     "name": "stdout",
     "output_type": "stream",
     "text": [
      "[animation.py:358]:DEBUG:MovieWriter.grab_frame: Grabbing frame.\n"
     ]
    },
    {
     "name": "stderr",
     "output_type": "stream",
     "text": [
      " 53%|█████▎    | 477/900 [01:12<00:58,  7.23it/s]"
     ]
    },
    {
     "name": "stdout",
     "output_type": "stream",
     "text": [
      "[animation.py:358]:DEBUG:MovieWriter.grab_frame: Grabbing frame.\n"
     ]
    },
    {
     "name": "stderr",
     "output_type": "stream",
     "text": [
      " 53%|█████▎    | 478/900 [01:12<00:58,  7.27it/s]"
     ]
    },
    {
     "name": "stdout",
     "output_type": "stream",
     "text": [
      "[animation.py:358]:DEBUG:MovieWriter.grab_frame: Grabbing frame.\n"
     ]
    },
    {
     "name": "stderr",
     "output_type": "stream",
     "text": [
      " 53%|█████▎    | 479/900 [01:13<00:57,  7.30it/s]"
     ]
    },
    {
     "name": "stdout",
     "output_type": "stream",
     "text": [
      "[animation.py:358]:DEBUG:MovieWriter.grab_frame: Grabbing frame.\n"
     ]
    },
    {
     "name": "stderr",
     "output_type": "stream",
     "text": [
      " 53%|█████▎    | 480/900 [01:13<00:57,  7.27it/s]"
     ]
    },
    {
     "name": "stdout",
     "output_type": "stream",
     "text": [
      "[animation.py:358]:DEBUG:MovieWriter.grab_frame: Grabbing frame.\n"
     ]
    },
    {
     "name": "stderr",
     "output_type": "stream",
     "text": [
      " 53%|█████▎    | 481/900 [01:13<01:34,  4.45it/s]"
     ]
    },
    {
     "name": "stdout",
     "output_type": "stream",
     "text": [
      "[animation.py:358]:DEBUG:MovieWriter.grab_frame: Grabbing frame.\n"
     ]
    },
    {
     "name": "stderr",
     "output_type": "stream",
     "text": [
      " 54%|█████▎    | 482/900 [01:13<01:22,  5.08it/s]"
     ]
    },
    {
     "name": "stdout",
     "output_type": "stream",
     "text": [
      "[animation.py:358]:DEBUG:MovieWriter.grab_frame: Grabbing frame.\n"
     ]
    },
    {
     "name": "stderr",
     "output_type": "stream",
     "text": [
      " 54%|█████▎    | 483/900 [01:13<01:14,  5.59it/s]"
     ]
    },
    {
     "name": "stdout",
     "output_type": "stream",
     "text": [
      "[animation.py:358]:DEBUG:MovieWriter.grab_frame: Grabbing frame.\n"
     ]
    },
    {
     "name": "stderr",
     "output_type": "stream",
     "text": [
      " 54%|█████▍    | 484/900 [01:14<01:09,  6.00it/s]"
     ]
    },
    {
     "name": "stdout",
     "output_type": "stream",
     "text": [
      "[animation.py:358]:DEBUG:MovieWriter.grab_frame: Grabbing frame.\n"
     ]
    },
    {
     "name": "stderr",
     "output_type": "stream",
     "text": [
      " 54%|█████▍    | 485/900 [01:14<01:05,  6.38it/s]"
     ]
    },
    {
     "name": "stdout",
     "output_type": "stream",
     "text": [
      "[animation.py:358]:DEBUG:MovieWriter.grab_frame: Grabbing frame.\n"
     ]
    },
    {
     "name": "stderr",
     "output_type": "stream",
     "text": [
      " 54%|█████▍    | 486/900 [01:14<01:02,  6.62it/s]"
     ]
    },
    {
     "name": "stdout",
     "output_type": "stream",
     "text": [
      "[animation.py:358]:DEBUG:MovieWriter.grab_frame: Grabbing frame.\n"
     ]
    },
    {
     "name": "stderr",
     "output_type": "stream",
     "text": [
      " 54%|█████▍    | 487/900 [01:14<01:01,  6.76it/s]"
     ]
    },
    {
     "name": "stdout",
     "output_type": "stream",
     "text": [
      "[animation.py:358]:DEBUG:MovieWriter.grab_frame: Grabbing frame.\n"
     ]
    },
    {
     "name": "stderr",
     "output_type": "stream",
     "text": [
      " 54%|█████▍    | 488/900 [01:14<00:59,  6.96it/s]"
     ]
    },
    {
     "name": "stdout",
     "output_type": "stream",
     "text": [
      "[animation.py:358]:DEBUG:MovieWriter.grab_frame: Grabbing frame.\n"
     ]
    },
    {
     "name": "stderr",
     "output_type": "stream",
     "text": [
      " 54%|█████▍    | 489/900 [01:14<00:58,  7.06it/s]"
     ]
    },
    {
     "name": "stdout",
     "output_type": "stream",
     "text": [
      "[animation.py:358]:DEBUG:MovieWriter.grab_frame: Grabbing frame.\n"
     ]
    },
    {
     "name": "stderr",
     "output_type": "stream",
     "text": [
      " 54%|█████▍    | 490/900 [01:14<00:57,  7.09it/s]"
     ]
    },
    {
     "name": "stdout",
     "output_type": "stream",
     "text": [
      "[animation.py:358]:DEBUG:MovieWriter.grab_frame: Grabbing frame.\n"
     ]
    },
    {
     "name": "stderr",
     "output_type": "stream",
     "text": [
      " 55%|█████▍    | 491/900 [01:14<00:57,  7.15it/s]"
     ]
    },
    {
     "name": "stdout",
     "output_type": "stream",
     "text": [
      "[animation.py:358]:DEBUG:MovieWriter.grab_frame: Grabbing frame.\n"
     ]
    },
    {
     "name": "stderr",
     "output_type": "stream",
     "text": [
      " 55%|█████▍    | 492/900 [01:15<00:56,  7.21it/s]"
     ]
    },
    {
     "name": "stdout",
     "output_type": "stream",
     "text": [
      "[animation.py:358]:DEBUG:MovieWriter.grab_frame: Grabbing frame.\n"
     ]
    },
    {
     "name": "stderr",
     "output_type": "stream",
     "text": [
      " 55%|█████▍    | 493/900 [01:15<00:56,  7.18it/s]"
     ]
    },
    {
     "name": "stdout",
     "output_type": "stream",
     "text": [
      "[animation.py:358]:DEBUG:MovieWriter.grab_frame: Grabbing frame.\n"
     ]
    },
    {
     "name": "stderr",
     "output_type": "stream",
     "text": [
      " 55%|█████▍    | 494/900 [01:15<00:56,  7.15it/s]"
     ]
    },
    {
     "name": "stdout",
     "output_type": "stream",
     "text": [
      "[animation.py:358]:DEBUG:MovieWriter.grab_frame: Grabbing frame.\n"
     ]
    },
    {
     "name": "stderr",
     "output_type": "stream",
     "text": [
      " 55%|█████▌    | 495/900 [01:15<00:57,  7.11it/s]"
     ]
    },
    {
     "name": "stdout",
     "output_type": "stream",
     "text": [
      "[animation.py:358]:DEBUG:MovieWriter.grab_frame: Grabbing frame.\n"
     ]
    },
    {
     "name": "stderr",
     "output_type": "stream",
     "text": [
      " 55%|█████▌    | 496/900 [01:15<01:34,  4.30it/s]"
     ]
    },
    {
     "name": "stdout",
     "output_type": "stream",
     "text": [
      "[animation.py:358]:DEBUG:MovieWriter.grab_frame: Grabbing frame.\n"
     ]
    },
    {
     "name": "stderr",
     "output_type": "stream",
     "text": [
      " 55%|█████▌    | 497/900 [01:16<01:22,  4.91it/s]"
     ]
    },
    {
     "name": "stdout",
     "output_type": "stream",
     "text": [
      "[animation.py:358]:DEBUG:MovieWriter.grab_frame: Grabbing frame.\n"
     ]
    },
    {
     "name": "stderr",
     "output_type": "stream",
     "text": [
      " 55%|█████▌    | 498/900 [01:16<01:13,  5.44it/s]"
     ]
    },
    {
     "name": "stdout",
     "output_type": "stream",
     "text": [
      "[animation.py:358]:DEBUG:MovieWriter.grab_frame: Grabbing frame.\n"
     ]
    },
    {
     "name": "stderr",
     "output_type": "stream",
     "text": [
      " 55%|█████▌    | 499/900 [01:16<01:08,  5.88it/s]"
     ]
    },
    {
     "name": "stdout",
     "output_type": "stream",
     "text": [
      "[animation.py:358]:DEBUG:MovieWriter.grab_frame: Grabbing frame.\n"
     ]
    },
    {
     "name": "stderr",
     "output_type": "stream",
     "text": [
      " 56%|█████▌    | 500/900 [01:16<01:03,  6.28it/s]"
     ]
    },
    {
     "name": "stdout",
     "output_type": "stream",
     "text": [
      "[animation.py:358]:DEBUG:MovieWriter.grab_frame: Grabbing frame.\n"
     ]
    },
    {
     "name": "stderr",
     "output_type": "stream",
     "text": [
      " 56%|█████▌    | 501/900 [01:16<01:00,  6.56it/s]"
     ]
    },
    {
     "name": "stdout",
     "output_type": "stream",
     "text": [
      "[animation.py:358]:DEBUG:MovieWriter.grab_frame: Grabbing frame.\n"
     ]
    },
    {
     "name": "stderr",
     "output_type": "stream",
     "text": [
      " 56%|█████▌    | 502/900 [01:16<00:58,  6.79it/s]"
     ]
    },
    {
     "name": "stdout",
     "output_type": "stream",
     "text": [
      "[animation.py:358]:DEBUG:MovieWriter.grab_frame: Grabbing frame.\n"
     ]
    },
    {
     "name": "stderr",
     "output_type": "stream",
     "text": [
      " 56%|█████▌    | 503/900 [01:16<00:57,  6.94it/s]"
     ]
    },
    {
     "name": "stdout",
     "output_type": "stream",
     "text": [
      "[animation.py:358]:DEBUG:MovieWriter.grab_frame: Grabbing frame.\n"
     ]
    },
    {
     "name": "stderr",
     "output_type": "stream",
     "text": [
      " 56%|█████▌    | 504/900 [01:17<00:56,  7.02it/s]"
     ]
    },
    {
     "name": "stdout",
     "output_type": "stream",
     "text": [
      "[animation.py:358]:DEBUG:MovieWriter.grab_frame: Grabbing frame.\n"
     ]
    },
    {
     "name": "stderr",
     "output_type": "stream",
     "text": [
      " 56%|█████▌    | 505/900 [01:17<00:55,  7.13it/s]"
     ]
    },
    {
     "name": "stdout",
     "output_type": "stream",
     "text": [
      "[animation.py:358]:DEBUG:MovieWriter.grab_frame: Grabbing frame.\n"
     ]
    },
    {
     "name": "stderr",
     "output_type": "stream",
     "text": [
      " 56%|█████▌    | 506/900 [01:17<00:55,  7.14it/s]"
     ]
    },
    {
     "name": "stdout",
     "output_type": "stream",
     "text": [
      "[animation.py:358]:DEBUG:MovieWriter.grab_frame: Grabbing frame.\n"
     ]
    },
    {
     "name": "stderr",
     "output_type": "stream",
     "text": [
      " 56%|█████▋    | 507/900 [01:17<00:54,  7.17it/s]"
     ]
    },
    {
     "name": "stdout",
     "output_type": "stream",
     "text": [
      "[animation.py:358]:DEBUG:MovieWriter.grab_frame: Grabbing frame.\n"
     ]
    },
    {
     "name": "stderr",
     "output_type": "stream",
     "text": [
      " 56%|█████▋    | 508/900 [01:17<00:54,  7.18it/s]"
     ]
    },
    {
     "name": "stdout",
     "output_type": "stream",
     "text": [
      "[animation.py:358]:DEBUG:MovieWriter.grab_frame: Grabbing frame.\n"
     ]
    },
    {
     "name": "stderr",
     "output_type": "stream",
     "text": [
      " 57%|█████▋    | 509/900 [01:17<00:54,  7.21it/s]"
     ]
    },
    {
     "name": "stdout",
     "output_type": "stream",
     "text": [
      "[animation.py:358]:DEBUG:MovieWriter.grab_frame: Grabbing frame.\n"
     ]
    },
    {
     "name": "stderr",
     "output_type": "stream",
     "text": [
      " 57%|█████▋    | 510/900 [01:18<01:27,  4.43it/s]"
     ]
    },
    {
     "name": "stdout",
     "output_type": "stream",
     "text": [
      "[animation.py:358]:DEBUG:MovieWriter.grab_frame: Grabbing frame.\n"
     ]
    },
    {
     "name": "stderr",
     "output_type": "stream",
     "text": [
      " 57%|█████▋    | 511/900 [01:18<01:17,  5.03it/s]"
     ]
    },
    {
     "name": "stdout",
     "output_type": "stream",
     "text": [
      "[animation.py:358]:DEBUG:MovieWriter.grab_frame: Grabbing frame.\n"
     ]
    },
    {
     "name": "stderr",
     "output_type": "stream",
     "text": [
      " 57%|█████▋    | 512/900 [01:18<01:09,  5.56it/s]"
     ]
    },
    {
     "name": "stdout",
     "output_type": "stream",
     "text": [
      "[animation.py:358]:DEBUG:MovieWriter.grab_frame: Grabbing frame.\n"
     ]
    },
    {
     "name": "stderr",
     "output_type": "stream",
     "text": [
      " 57%|█████▋    | 513/900 [01:18<01:04,  5.99it/s]"
     ]
    },
    {
     "name": "stdout",
     "output_type": "stream",
     "text": [
      "[animation.py:358]:DEBUG:MovieWriter.grab_frame: Grabbing frame.\n"
     ]
    },
    {
     "name": "stderr",
     "output_type": "stream",
     "text": [
      " 57%|█████▋    | 514/900 [01:18<01:00,  6.35it/s]"
     ]
    },
    {
     "name": "stdout",
     "output_type": "stream",
     "text": [
      "[animation.py:358]:DEBUG:MovieWriter.grab_frame: Grabbing frame.\n"
     ]
    },
    {
     "name": "stderr",
     "output_type": "stream",
     "text": [
      " 57%|█████▋    | 515/900 [01:18<00:58,  6.62it/s]"
     ]
    },
    {
     "name": "stdout",
     "output_type": "stream",
     "text": [
      "[animation.py:358]:DEBUG:MovieWriter.grab_frame: Grabbing frame.\n"
     ]
    },
    {
     "name": "stderr",
     "output_type": "stream",
     "text": [
      " 57%|█████▋    | 516/900 [01:19<00:56,  6.77it/s]"
     ]
    },
    {
     "name": "stdout",
     "output_type": "stream",
     "text": [
      "[animation.py:358]:DEBUG:MovieWriter.grab_frame: Grabbing frame.\n"
     ]
    },
    {
     "name": "stderr",
     "output_type": "stream",
     "text": [
      " 57%|█████▋    | 517/900 [01:19<00:55,  6.96it/s]"
     ]
    },
    {
     "name": "stdout",
     "output_type": "stream",
     "text": [
      "[animation.py:358]:DEBUG:MovieWriter.grab_frame: Grabbing frame.\n"
     ]
    },
    {
     "name": "stderr",
     "output_type": "stream",
     "text": [
      " 58%|█████▊    | 518/900 [01:19<00:54,  7.00it/s]"
     ]
    },
    {
     "name": "stdout",
     "output_type": "stream",
     "text": [
      "[animation.py:358]:DEBUG:MovieWriter.grab_frame: Grabbing frame.\n"
     ]
    },
    {
     "name": "stderr",
     "output_type": "stream",
     "text": [
      " 58%|█████▊    | 519/900 [01:19<00:53,  7.11it/s]"
     ]
    },
    {
     "name": "stdout",
     "output_type": "stream",
     "text": [
      "[animation.py:358]:DEBUG:MovieWriter.grab_frame: Grabbing frame.\n"
     ]
    },
    {
     "name": "stderr",
     "output_type": "stream",
     "text": [
      " 58%|█████▊    | 520/900 [01:19<00:53,  7.12it/s]"
     ]
    },
    {
     "name": "stdout",
     "output_type": "stream",
     "text": [
      "[animation.py:358]:DEBUG:MovieWriter.grab_frame: Grabbing frame.\n"
     ]
    },
    {
     "name": "stderr",
     "output_type": "stream",
     "text": [
      " 58%|█████▊    | 521/900 [01:19<00:52,  7.18it/s]"
     ]
    },
    {
     "name": "stdout",
     "output_type": "stream",
     "text": [
      "[animation.py:358]:DEBUG:MovieWriter.grab_frame: Grabbing frame.\n"
     ]
    },
    {
     "name": "stderr",
     "output_type": "stream",
     "text": [
      " 58%|█████▊    | 522/900 [01:19<00:52,  7.20it/s]"
     ]
    },
    {
     "name": "stdout",
     "output_type": "stream",
     "text": [
      "[animation.py:358]:DEBUG:MovieWriter.grab_frame: Grabbing frame.\n"
     ]
    },
    {
     "name": "stderr",
     "output_type": "stream",
     "text": [
      " 58%|█████▊    | 523/900 [01:20<01:25,  4.42it/s]"
     ]
    },
    {
     "name": "stdout",
     "output_type": "stream",
     "text": [
      "[animation.py:358]:DEBUG:MovieWriter.grab_frame: Grabbing frame.\n"
     ]
    },
    {
     "name": "stderr",
     "output_type": "stream",
     "text": [
      " 58%|█████▊    | 524/900 [01:20<01:14,  5.03it/s]"
     ]
    },
    {
     "name": "stdout",
     "output_type": "stream",
     "text": [
      "[animation.py:358]:DEBUG:MovieWriter.grab_frame: Grabbing frame.\n"
     ]
    },
    {
     "name": "stderr",
     "output_type": "stream",
     "text": [
      " 58%|█████▊    | 525/900 [01:20<01:07,  5.55it/s]"
     ]
    },
    {
     "name": "stdout",
     "output_type": "stream",
     "text": [
      "[animation.py:358]:DEBUG:MovieWriter.grab_frame: Grabbing frame.\n"
     ]
    },
    {
     "name": "stderr",
     "output_type": "stream",
     "text": [
      " 58%|█████▊    | 526/900 [01:20<01:02,  5.94it/s]"
     ]
    },
    {
     "name": "stdout",
     "output_type": "stream",
     "text": [
      "[animation.py:358]:DEBUG:MovieWriter.grab_frame: Grabbing frame.\n"
     ]
    },
    {
     "name": "stderr",
     "output_type": "stream",
     "text": [
      " 59%|█████▊    | 527/900 [01:20<00:59,  6.32it/s]"
     ]
    },
    {
     "name": "stdout",
     "output_type": "stream",
     "text": [
      "[animation.py:358]:DEBUG:MovieWriter.grab_frame: Grabbing frame.\n"
     ]
    },
    {
     "name": "stderr",
     "output_type": "stream",
     "text": [
      " 59%|█████▊    | 528/900 [01:20<00:56,  6.59it/s]"
     ]
    },
    {
     "name": "stdout",
     "output_type": "stream",
     "text": [
      "[animation.py:358]:DEBUG:MovieWriter.grab_frame: Grabbing frame.\n"
     ]
    },
    {
     "name": "stderr",
     "output_type": "stream",
     "text": [
      " 59%|█████▉    | 529/900 [01:21<00:54,  6.83it/s]"
     ]
    },
    {
     "name": "stdout",
     "output_type": "stream",
     "text": [
      "[animation.py:358]:DEBUG:MovieWriter.grab_frame: Grabbing frame.\n"
     ]
    },
    {
     "name": "stderr",
     "output_type": "stream",
     "text": [
      " 59%|█████▉    | 530/900 [01:21<00:53,  6.95it/s]"
     ]
    },
    {
     "name": "stdout",
     "output_type": "stream",
     "text": [
      "[animation.py:358]:DEBUG:MovieWriter.grab_frame: Grabbing frame.\n"
     ]
    },
    {
     "name": "stderr",
     "output_type": "stream",
     "text": [
      " 59%|█████▉    | 531/900 [01:21<00:51,  7.10it/s]"
     ]
    },
    {
     "name": "stdout",
     "output_type": "stream",
     "text": [
      "[animation.py:358]:DEBUG:MovieWriter.grab_frame: Grabbing frame.\n"
     ]
    },
    {
     "name": "stderr",
     "output_type": "stream",
     "text": [
      " 59%|█████▉    | 532/900 [01:21<00:51,  7.17it/s]"
     ]
    },
    {
     "name": "stdout",
     "output_type": "stream",
     "text": [
      "[animation.py:358]:DEBUG:MovieWriter.grab_frame: Grabbing frame.\n"
     ]
    },
    {
     "name": "stderr",
     "output_type": "stream",
     "text": [
      " 59%|█████▉    | 533/900 [01:21<00:50,  7.25it/s]"
     ]
    },
    {
     "name": "stdout",
     "output_type": "stream",
     "text": [
      "[animation.py:358]:DEBUG:MovieWriter.grab_frame: Grabbing frame.\n"
     ]
    },
    {
     "name": "stderr",
     "output_type": "stream",
     "text": [
      " 59%|█████▉    | 534/900 [01:21<00:51,  7.18it/s]"
     ]
    },
    {
     "name": "stdout",
     "output_type": "stream",
     "text": [
      "[animation.py:358]:DEBUG:MovieWriter.grab_frame: Grabbing frame.\n"
     ]
    },
    {
     "name": "stderr",
     "output_type": "stream",
     "text": [
      " 59%|█████▉    | 535/900 [01:21<00:50,  7.16it/s]"
     ]
    },
    {
     "name": "stdout",
     "output_type": "stream",
     "text": [
      "[animation.py:358]:DEBUG:MovieWriter.grab_frame: Grabbing frame.\n"
     ]
    },
    {
     "name": "stderr",
     "output_type": "stream",
     "text": [
      " 60%|█████▉    | 536/900 [01:22<00:50,  7.14it/s]"
     ]
    },
    {
     "name": "stdout",
     "output_type": "stream",
     "text": [
      "[animation.py:358]:DEBUG:MovieWriter.grab_frame: Grabbing frame.\n"
     ]
    },
    {
     "name": "stderr",
     "output_type": "stream",
     "text": [
      " 60%|█████▉    | 537/900 [01:22<01:21,  4.44it/s]"
     ]
    },
    {
     "name": "stdout",
     "output_type": "stream",
     "text": [
      "[animation.py:358]:DEBUG:MovieWriter.grab_frame: Grabbing frame.\n"
     ]
    },
    {
     "name": "stderr",
     "output_type": "stream",
     "text": [
      " 60%|█████▉    | 538/900 [01:22<01:11,  5.04it/s]"
     ]
    },
    {
     "name": "stdout",
     "output_type": "stream",
     "text": [
      "[animation.py:358]:DEBUG:MovieWriter.grab_frame: Grabbing frame.\n"
     ]
    },
    {
     "name": "stderr",
     "output_type": "stream",
     "text": [
      " 60%|█████▉    | 539/900 [01:22<01:05,  5.53it/s]"
     ]
    },
    {
     "name": "stdout",
     "output_type": "stream",
     "text": [
      "[animation.py:358]:DEBUG:MovieWriter.grab_frame: Grabbing frame.\n"
     ]
    },
    {
     "name": "stderr",
     "output_type": "stream",
     "text": [
      " 60%|██████    | 540/900 [01:22<01:00,  5.98it/s]"
     ]
    },
    {
     "name": "stdout",
     "output_type": "stream",
     "text": [
      "[animation.py:358]:DEBUG:MovieWriter.grab_frame: Grabbing frame.\n"
     ]
    },
    {
     "name": "stderr",
     "output_type": "stream",
     "text": [
      " 60%|██████    | 541/900 [01:23<00:56,  6.32it/s]"
     ]
    },
    {
     "name": "stdout",
     "output_type": "stream",
     "text": [
      "[animation.py:358]:DEBUG:MovieWriter.grab_frame: Grabbing frame.\n"
     ]
    },
    {
     "name": "stderr",
     "output_type": "stream",
     "text": [
      " 60%|██████    | 542/900 [01:23<00:54,  6.58it/s]"
     ]
    },
    {
     "name": "stdout",
     "output_type": "stream",
     "text": [
      "[animation.py:358]:DEBUG:MovieWriter.grab_frame: Grabbing frame.\n"
     ]
    },
    {
     "name": "stderr",
     "output_type": "stream",
     "text": [
      " 60%|██████    | 543/900 [01:23<00:52,  6.82it/s]"
     ]
    },
    {
     "name": "stdout",
     "output_type": "stream",
     "text": [
      "[animation.py:358]:DEBUG:MovieWriter.grab_frame: Grabbing frame.\n"
     ]
    },
    {
     "name": "stderr",
     "output_type": "stream",
     "text": [
      " 60%|██████    | 544/900 [01:23<00:50,  6.98it/s]"
     ]
    },
    {
     "name": "stdout",
     "output_type": "stream",
     "text": [
      "[animation.py:358]:DEBUG:MovieWriter.grab_frame: Grabbing frame.\n"
     ]
    },
    {
     "name": "stderr",
     "output_type": "stream",
     "text": [
      " 61%|██████    | 545/900 [01:23<00:50,  7.07it/s]"
     ]
    },
    {
     "name": "stdout",
     "output_type": "stream",
     "text": [
      "[animation.py:358]:DEBUG:MovieWriter.grab_frame: Grabbing frame.\n"
     ]
    },
    {
     "name": "stderr",
     "output_type": "stream",
     "text": [
      " 61%|██████    | 546/900 [01:23<00:49,  7.16it/s]"
     ]
    },
    {
     "name": "stdout",
     "output_type": "stream",
     "text": [
      "[animation.py:358]:DEBUG:MovieWriter.grab_frame: Grabbing frame.\n"
     ]
    },
    {
     "name": "stderr",
     "output_type": "stream",
     "text": [
      " 61%|██████    | 547/900 [01:23<00:49,  7.11it/s]"
     ]
    },
    {
     "name": "stdout",
     "output_type": "stream",
     "text": [
      "[animation.py:358]:DEBUG:MovieWriter.grab_frame: Grabbing frame.\n"
     ]
    },
    {
     "name": "stderr",
     "output_type": "stream",
     "text": [
      " 61%|██████    | 548/900 [01:24<00:49,  7.14it/s]"
     ]
    },
    {
     "name": "stdout",
     "output_type": "stream",
     "text": [
      "[animation.py:358]:DEBUG:MovieWriter.grab_frame: Grabbing frame.\n"
     ]
    },
    {
     "name": "stderr",
     "output_type": "stream",
     "text": [
      " 61%|██████    | 549/900 [01:24<00:48,  7.22it/s]"
     ]
    },
    {
     "name": "stdout",
     "output_type": "stream",
     "text": [
      "[animation.py:358]:DEBUG:MovieWriter.grab_frame: Grabbing frame.\n"
     ]
    },
    {
     "name": "stderr",
     "output_type": "stream",
     "text": [
      " 61%|██████    | 550/900 [01:24<00:48,  7.24it/s]"
     ]
    },
    {
     "name": "stdout",
     "output_type": "stream",
     "text": [
      "[animation.py:358]:DEBUG:MovieWriter.grab_frame: Grabbing frame.\n"
     ]
    },
    {
     "name": "stderr",
     "output_type": "stream",
     "text": [
      " 61%|██████    | 551/900 [01:24<00:48,  7.25it/s]"
     ]
    },
    {
     "name": "stdout",
     "output_type": "stream",
     "text": [
      "[animation.py:358]:DEBUG:MovieWriter.grab_frame: Grabbing frame.\n"
     ]
    },
    {
     "name": "stderr",
     "output_type": "stream",
     "text": [
      " 61%|██████▏   | 552/900 [01:24<01:18,  4.42it/s]"
     ]
    },
    {
     "name": "stdout",
     "output_type": "stream",
     "text": [
      "[animation.py:358]:DEBUG:MovieWriter.grab_frame: Grabbing frame.\n"
     ]
    },
    {
     "name": "stderr",
     "output_type": "stream",
     "text": [
      " 61%|██████▏   | 553/900 [01:24<01:09,  5.01it/s]"
     ]
    },
    {
     "name": "stdout",
     "output_type": "stream",
     "text": [
      "[animation.py:358]:DEBUG:MovieWriter.grab_frame: Grabbing frame.\n"
     ]
    },
    {
     "name": "stderr",
     "output_type": "stream",
     "text": [
      " 62%|██████▏   | 554/900 [01:25<01:02,  5.54it/s]"
     ]
    },
    {
     "name": "stdout",
     "output_type": "stream",
     "text": [
      "[animation.py:358]:DEBUG:MovieWriter.grab_frame: Grabbing frame.\n"
     ]
    },
    {
     "name": "stderr",
     "output_type": "stream",
     "text": [
      " 62%|██████▏   | 555/900 [01:25<00:57,  6.01it/s]"
     ]
    },
    {
     "name": "stdout",
     "output_type": "stream",
     "text": [
      "[animation.py:358]:DEBUG:MovieWriter.grab_frame: Grabbing frame.\n"
     ]
    },
    {
     "name": "stderr",
     "output_type": "stream",
     "text": [
      " 62%|██████▏   | 556/900 [01:25<00:53,  6.39it/s]"
     ]
    },
    {
     "name": "stdout",
     "output_type": "stream",
     "text": [
      "[animation.py:358]:DEBUG:MovieWriter.grab_frame: Grabbing frame.\n"
     ]
    },
    {
     "name": "stderr",
     "output_type": "stream",
     "text": [
      " 62%|██████▏   | 557/900 [01:25<00:51,  6.61it/s]"
     ]
    },
    {
     "name": "stdout",
     "output_type": "stream",
     "text": [
      "[animation.py:358]:DEBUG:MovieWriter.grab_frame: Grabbing frame.\n"
     ]
    },
    {
     "name": "stderr",
     "output_type": "stream",
     "text": [
      " 62%|██████▏   | 558/900 [01:25<00:50,  6.83it/s]"
     ]
    },
    {
     "name": "stdout",
     "output_type": "stream",
     "text": [
      "[animation.py:358]:DEBUG:MovieWriter.grab_frame: Grabbing frame.\n"
     ]
    },
    {
     "name": "stderr",
     "output_type": "stream",
     "text": [
      " 62%|██████▏   | 559/900 [01:25<00:49,  6.96it/s]"
     ]
    },
    {
     "name": "stdout",
     "output_type": "stream",
     "text": [
      "[animation.py:358]:DEBUG:MovieWriter.grab_frame: Grabbing frame.\n"
     ]
    },
    {
     "name": "stderr",
     "output_type": "stream",
     "text": [
      " 62%|██████▏   | 560/900 [01:25<00:48,  7.05it/s]"
     ]
    },
    {
     "name": "stdout",
     "output_type": "stream",
     "text": [
      "[animation.py:358]:DEBUG:MovieWriter.grab_frame: Grabbing frame.\n"
     ]
    },
    {
     "name": "stderr",
     "output_type": "stream",
     "text": [
      " 62%|██████▏   | 561/900 [01:26<00:47,  7.10it/s]"
     ]
    },
    {
     "name": "stdout",
     "output_type": "stream",
     "text": [
      "[animation.py:358]:DEBUG:MovieWriter.grab_frame: Grabbing frame.\n"
     ]
    },
    {
     "name": "stderr",
     "output_type": "stream",
     "text": [
      " 62%|██████▏   | 562/900 [01:26<00:47,  7.15it/s]"
     ]
    },
    {
     "name": "stdout",
     "output_type": "stream",
     "text": [
      "[animation.py:358]:DEBUG:MovieWriter.grab_frame: Grabbing frame.\n"
     ]
    },
    {
     "name": "stderr",
     "output_type": "stream",
     "text": [
      " 63%|██████▎   | 563/900 [01:26<00:46,  7.20it/s]"
     ]
    },
    {
     "name": "stdout",
     "output_type": "stream",
     "text": [
      "[animation.py:358]:DEBUG:MovieWriter.grab_frame: Grabbing frame.\n"
     ]
    },
    {
     "name": "stderr",
     "output_type": "stream",
     "text": [
      " 63%|██████▎   | 564/900 [01:26<00:46,  7.19it/s]"
     ]
    },
    {
     "name": "stdout",
     "output_type": "stream",
     "text": [
      "[animation.py:358]:DEBUG:MovieWriter.grab_frame: Grabbing frame.\n"
     ]
    },
    {
     "name": "stderr",
     "output_type": "stream",
     "text": [
      " 63%|██████▎   | 565/900 [01:26<01:15,  4.43it/s]"
     ]
    },
    {
     "name": "stdout",
     "output_type": "stream",
     "text": [
      "[animation.py:358]:DEBUG:MovieWriter.grab_frame: Grabbing frame.\n"
     ]
    },
    {
     "name": "stderr",
     "output_type": "stream",
     "text": [
      " 63%|██████▎   | 566/900 [01:27<01:06,  5.04it/s]"
     ]
    },
    {
     "name": "stdout",
     "output_type": "stream",
     "text": [
      "[animation.py:358]:DEBUG:MovieWriter.grab_frame: Grabbing frame.\n"
     ]
    },
    {
     "name": "stderr",
     "output_type": "stream",
     "text": [
      " 63%|██████▎   | 567/900 [01:27<00:59,  5.56it/s]"
     ]
    },
    {
     "name": "stdout",
     "output_type": "stream",
     "text": [
      "[animation.py:358]:DEBUG:MovieWriter.grab_frame: Grabbing frame.\n"
     ]
    },
    {
     "name": "stderr",
     "output_type": "stream",
     "text": [
      " 63%|██████▎   | 568/900 [01:27<00:55,  6.01it/s]"
     ]
    },
    {
     "name": "stdout",
     "output_type": "stream",
     "text": [
      "[animation.py:358]:DEBUG:MovieWriter.grab_frame: Grabbing frame.\n"
     ]
    },
    {
     "name": "stderr",
     "output_type": "stream",
     "text": [
      " 63%|██████▎   | 569/900 [01:27<00:52,  6.32it/s]"
     ]
    },
    {
     "name": "stdout",
     "output_type": "stream",
     "text": [
      "[animation.py:358]:DEBUG:MovieWriter.grab_frame: Grabbing frame.\n"
     ]
    },
    {
     "name": "stderr",
     "output_type": "stream",
     "text": [
      " 63%|██████▎   | 570/900 [01:27<00:50,  6.58it/s]"
     ]
    },
    {
     "name": "stdout",
     "output_type": "stream",
     "text": [
      "[animation.py:358]:DEBUG:MovieWriter.grab_frame: Grabbing frame.\n"
     ]
    },
    {
     "name": "stderr",
     "output_type": "stream",
     "text": [
      " 63%|██████▎   | 571/900 [01:27<00:48,  6.78it/s]"
     ]
    },
    {
     "name": "stdout",
     "output_type": "stream",
     "text": [
      "[animation.py:358]:DEBUG:MovieWriter.grab_frame: Grabbing frame.\n"
     ]
    },
    {
     "name": "stderr",
     "output_type": "stream",
     "text": [
      " 64%|██████▎   | 572/900 [01:27<00:47,  6.87it/s]"
     ]
    },
    {
     "name": "stdout",
     "output_type": "stream",
     "text": [
      "[animation.py:358]:DEBUG:MovieWriter.grab_frame: Grabbing frame.\n"
     ]
    },
    {
     "name": "stderr",
     "output_type": "stream",
     "text": [
      " 64%|██████▎   | 573/900 [01:28<00:46,  7.02it/s]"
     ]
    },
    {
     "name": "stdout",
     "output_type": "stream",
     "text": [
      "[animation.py:358]:DEBUG:MovieWriter.grab_frame: Grabbing frame.\n"
     ]
    },
    {
     "name": "stderr",
     "output_type": "stream",
     "text": [
      " 64%|██████▍   | 574/900 [01:28<00:46,  7.05it/s]"
     ]
    },
    {
     "name": "stdout",
     "output_type": "stream",
     "text": [
      "[animation.py:358]:DEBUG:MovieWriter.grab_frame: Grabbing frame.\n"
     ]
    },
    {
     "name": "stderr",
     "output_type": "stream",
     "text": [
      " 64%|██████▍   | 575/900 [01:28<00:45,  7.11it/s]"
     ]
    },
    {
     "name": "stdout",
     "output_type": "stream",
     "text": [
      "[animation.py:358]:DEBUG:MovieWriter.grab_frame: Grabbing frame.\n"
     ]
    },
    {
     "name": "stderr",
     "output_type": "stream",
     "text": [
      " 64%|██████▍   | 576/900 [01:28<00:45,  7.19it/s]"
     ]
    },
    {
     "name": "stdout",
     "output_type": "stream",
     "text": [
      "[animation.py:358]:DEBUG:MovieWriter.grab_frame: Grabbing frame.\n"
     ]
    },
    {
     "name": "stderr",
     "output_type": "stream",
     "text": [
      " 64%|██████▍   | 577/900 [01:28<00:44,  7.19it/s]"
     ]
    },
    {
     "name": "stdout",
     "output_type": "stream",
     "text": [
      "[animation.py:358]:DEBUG:MovieWriter.grab_frame: Grabbing frame.\n"
     ]
    },
    {
     "name": "stderr",
     "output_type": "stream",
     "text": [
      " 64%|██████▍   | 578/900 [01:28<00:44,  7.20it/s]"
     ]
    },
    {
     "name": "stdout",
     "output_type": "stream",
     "text": [
      "[animation.py:358]:DEBUG:MovieWriter.grab_frame: Grabbing frame.\n"
     ]
    },
    {
     "name": "stderr",
     "output_type": "stream",
     "text": [
      " 64%|██████▍   | 579/900 [01:29<01:11,  4.47it/s]"
     ]
    },
    {
     "name": "stdout",
     "output_type": "stream",
     "text": [
      "[animation.py:358]:DEBUG:MovieWriter.grab_frame: Grabbing frame.\n"
     ]
    },
    {
     "name": "stderr",
     "output_type": "stream",
     "text": [
      " 64%|██████▍   | 580/900 [01:29<01:02,  5.09it/s]"
     ]
    },
    {
     "name": "stdout",
     "output_type": "stream",
     "text": [
      "[animation.py:358]:DEBUG:MovieWriter.grab_frame: Grabbing frame.\n"
     ]
    },
    {
     "name": "stderr",
     "output_type": "stream",
     "text": [
      " 65%|██████▍   | 581/900 [01:29<00:56,  5.64it/s]"
     ]
    },
    {
     "name": "stdout",
     "output_type": "stream",
     "text": [
      "[animation.py:358]:DEBUG:MovieWriter.grab_frame: Grabbing frame.\n"
     ]
    },
    {
     "name": "stderr",
     "output_type": "stream",
     "text": [
      " 65%|██████▍   | 582/900 [01:29<00:52,  6.08it/s]"
     ]
    },
    {
     "name": "stdout",
     "output_type": "stream",
     "text": [
      "[animation.py:358]:DEBUG:MovieWriter.grab_frame: Grabbing frame.\n"
     ]
    },
    {
     "name": "stderr",
     "output_type": "stream",
     "text": [
      " 65%|██████▍   | 583/900 [01:29<00:49,  6.35it/s]"
     ]
    },
    {
     "name": "stdout",
     "output_type": "stream",
     "text": [
      "[animation.py:358]:DEBUG:MovieWriter.grab_frame: Grabbing frame.\n"
     ]
    },
    {
     "name": "stderr",
     "output_type": "stream",
     "text": [
      " 65%|██████▍   | 584/900 [01:29<00:47,  6.62it/s]"
     ]
    },
    {
     "name": "stdout",
     "output_type": "stream",
     "text": [
      "[animation.py:358]:DEBUG:MovieWriter.grab_frame: Grabbing frame.\n"
     ]
    },
    {
     "name": "stderr",
     "output_type": "stream",
     "text": [
      " 65%|██████▌   | 585/900 [01:29<00:46,  6.84it/s]"
     ]
    },
    {
     "name": "stdout",
     "output_type": "stream",
     "text": [
      "[animation.py:358]:DEBUG:MovieWriter.grab_frame: Grabbing frame.\n"
     ]
    },
    {
     "name": "stderr",
     "output_type": "stream",
     "text": [
      " 65%|██████▌   | 586/900 [01:30<00:45,  6.95it/s]"
     ]
    },
    {
     "name": "stdout",
     "output_type": "stream",
     "text": [
      "[animation.py:358]:DEBUG:MovieWriter.grab_frame: Grabbing frame.\n"
     ]
    },
    {
     "name": "stderr",
     "output_type": "stream",
     "text": [
      " 65%|██████▌   | 587/900 [01:30<00:44,  7.07it/s]"
     ]
    },
    {
     "name": "stdout",
     "output_type": "stream",
     "text": [
      "[animation.py:358]:DEBUG:MovieWriter.grab_frame: Grabbing frame.\n"
     ]
    },
    {
     "name": "stderr",
     "output_type": "stream",
     "text": [
      " 65%|██████▌   | 588/900 [01:30<00:43,  7.16it/s]"
     ]
    },
    {
     "name": "stdout",
     "output_type": "stream",
     "text": [
      "[animation.py:358]:DEBUG:MovieWriter.grab_frame: Grabbing frame.\n"
     ]
    },
    {
     "name": "stderr",
     "output_type": "stream",
     "text": [
      " 65%|██████▌   | 589/900 [01:30<00:42,  7.25it/s]"
     ]
    },
    {
     "name": "stdout",
     "output_type": "stream",
     "text": [
      "[animation.py:358]:DEBUG:MovieWriter.grab_frame: Grabbing frame.\n"
     ]
    },
    {
     "name": "stderr",
     "output_type": "stream",
     "text": [
      " 66%|██████▌   | 590/900 [01:30<00:42,  7.23it/s]"
     ]
    },
    {
     "name": "stdout",
     "output_type": "stream",
     "text": [
      "[animation.py:358]:DEBUG:MovieWriter.grab_frame: Grabbing frame.\n"
     ]
    },
    {
     "name": "stderr",
     "output_type": "stream",
     "text": [
      " 66%|██████▌   | 591/900 [01:30<00:42,  7.24it/s]"
     ]
    },
    {
     "name": "stdout",
     "output_type": "stream",
     "text": [
      "[animation.py:358]:DEBUG:MovieWriter.grab_frame: Grabbing frame.\n"
     ]
    },
    {
     "name": "stderr",
     "output_type": "stream",
     "text": [
      " 66%|██████▌   | 592/900 [01:30<00:42,  7.27it/s]"
     ]
    },
    {
     "name": "stdout",
     "output_type": "stream",
     "text": [
      "[animation.py:358]:DEBUG:MovieWriter.grab_frame: Grabbing frame.\n"
     ]
    },
    {
     "name": "stderr",
     "output_type": "stream",
     "text": [
      " 66%|██████▌   | 593/900 [01:31<01:09,  4.43it/s]"
     ]
    },
    {
     "name": "stdout",
     "output_type": "stream",
     "text": [
      "[animation.py:358]:DEBUG:MovieWriter.grab_frame: Grabbing frame.\n"
     ]
    },
    {
     "name": "stderr",
     "output_type": "stream",
     "text": [
      " 66%|██████▌   | 594/900 [01:31<01:00,  5.05it/s]"
     ]
    },
    {
     "name": "stdout",
     "output_type": "stream",
     "text": [
      "[animation.py:358]:DEBUG:MovieWriter.grab_frame: Grabbing frame.\n"
     ]
    },
    {
     "name": "stderr",
     "output_type": "stream",
     "text": [
      " 66%|██████▌   | 595/900 [01:31<00:54,  5.56it/s]"
     ]
    },
    {
     "name": "stdout",
     "output_type": "stream",
     "text": [
      "[animation.py:358]:DEBUG:MovieWriter.grab_frame: Grabbing frame.\n"
     ]
    },
    {
     "name": "stderr",
     "output_type": "stream",
     "text": [
      " 66%|██████▌   | 596/900 [01:31<00:50,  6.01it/s]"
     ]
    },
    {
     "name": "stdout",
     "output_type": "stream",
     "text": [
      "[animation.py:358]:DEBUG:MovieWriter.grab_frame: Grabbing frame.\n"
     ]
    },
    {
     "name": "stderr",
     "output_type": "stream",
     "text": [
      " 66%|██████▋   | 597/900 [01:31<00:48,  6.30it/s]"
     ]
    },
    {
     "name": "stdout",
     "output_type": "stream",
     "text": [
      "[animation.py:358]:DEBUG:MovieWriter.grab_frame: Grabbing frame.\n"
     ]
    },
    {
     "name": "stderr",
     "output_type": "stream",
     "text": [
      " 66%|██████▋   | 598/900 [01:32<00:45,  6.59it/s]"
     ]
    },
    {
     "name": "stdout",
     "output_type": "stream",
     "text": [
      "[animation.py:358]:DEBUG:MovieWriter.grab_frame: Grabbing frame.\n"
     ]
    },
    {
     "name": "stderr",
     "output_type": "stream",
     "text": [
      " 67%|██████▋   | 599/900 [01:32<00:44,  6.81it/s]"
     ]
    },
    {
     "name": "stdout",
     "output_type": "stream",
     "text": [
      "[animation.py:358]:DEBUG:MovieWriter.grab_frame: Grabbing frame.\n"
     ]
    },
    {
     "name": "stderr",
     "output_type": "stream",
     "text": [
      " 67%|██████▋   | 600/900 [01:32<00:43,  6.96it/s]"
     ]
    },
    {
     "name": "stdout",
     "output_type": "stream",
     "text": [
      "[animation.py:358]:DEBUG:MovieWriter.grab_frame: Grabbing frame.\n"
     ]
    },
    {
     "name": "stderr",
     "output_type": "stream",
     "text": [
      " 67%|██████▋   | 601/900 [01:32<00:42,  7.09it/s]"
     ]
    },
    {
     "name": "stdout",
     "output_type": "stream",
     "text": [
      "[animation.py:358]:DEBUG:MovieWriter.grab_frame: Grabbing frame.\n"
     ]
    },
    {
     "name": "stderr",
     "output_type": "stream",
     "text": [
      " 67%|██████▋   | 602/900 [01:32<00:41,  7.18it/s]"
     ]
    },
    {
     "name": "stdout",
     "output_type": "stream",
     "text": [
      "[animation.py:358]:DEBUG:MovieWriter.grab_frame: Grabbing frame.\n"
     ]
    },
    {
     "name": "stderr",
     "output_type": "stream",
     "text": [
      " 67%|██████▋   | 603/900 [01:32<00:41,  7.16it/s]"
     ]
    },
    {
     "name": "stdout",
     "output_type": "stream",
     "text": [
      "[animation.py:358]:DEBUG:MovieWriter.grab_frame: Grabbing frame.\n"
     ]
    },
    {
     "name": "stderr",
     "output_type": "stream",
     "text": [
      " 67%|██████▋   | 604/900 [01:32<00:41,  7.21it/s]"
     ]
    },
    {
     "name": "stdout",
     "output_type": "stream",
     "text": [
      "[animation.py:358]:DEBUG:MovieWriter.grab_frame: Grabbing frame.\n"
     ]
    },
    {
     "name": "stderr",
     "output_type": "stream",
     "text": [
      " 67%|██████▋   | 605/900 [01:32<00:40,  7.25it/s]"
     ]
    },
    {
     "name": "stdout",
     "output_type": "stream",
     "text": [
      "[animation.py:358]:DEBUG:MovieWriter.grab_frame: Grabbing frame.\n"
     ]
    },
    {
     "name": "stderr",
     "output_type": "stream",
     "text": [
      " 67%|██████▋   | 606/900 [01:33<00:40,  7.27it/s]"
     ]
    },
    {
     "name": "stdout",
     "output_type": "stream",
     "text": [
      "[animation.py:358]:DEBUG:MovieWriter.grab_frame: Grabbing frame.\n"
     ]
    },
    {
     "name": "stderr",
     "output_type": "stream",
     "text": [
      " 67%|██████▋   | 607/900 [01:33<01:05,  4.46it/s]"
     ]
    },
    {
     "name": "stdout",
     "output_type": "stream",
     "text": [
      "[animation.py:358]:DEBUG:MovieWriter.grab_frame: Grabbing frame.\n"
     ]
    },
    {
     "name": "stderr",
     "output_type": "stream",
     "text": [
      " 68%|██████▊   | 608/900 [01:33<00:57,  5.07it/s]"
     ]
    },
    {
     "name": "stdout",
     "output_type": "stream",
     "text": [
      "[animation.py:358]:DEBUG:MovieWriter.grab_frame: Grabbing frame.\n"
     ]
    },
    {
     "name": "stderr",
     "output_type": "stream",
     "text": [
      " 68%|██████▊   | 609/900 [01:33<00:52,  5.59it/s]"
     ]
    },
    {
     "name": "stdout",
     "output_type": "stream",
     "text": [
      "[animation.py:358]:DEBUG:MovieWriter.grab_frame: Grabbing frame.\n"
     ]
    },
    {
     "name": "stderr",
     "output_type": "stream",
     "text": [
      " 68%|██████▊   | 610/900 [01:33<00:48,  6.04it/s]"
     ]
    },
    {
     "name": "stdout",
     "output_type": "stream",
     "text": [
      "[animation.py:358]:DEBUG:MovieWriter.grab_frame: Grabbing frame.\n"
     ]
    },
    {
     "name": "stderr",
     "output_type": "stream",
     "text": [
      " 68%|██████▊   | 611/900 [01:34<00:45,  6.39it/s]"
     ]
    },
    {
     "name": "stdout",
     "output_type": "stream",
     "text": [
      "[animation.py:358]:DEBUG:MovieWriter.grab_frame: Grabbing frame.\n"
     ]
    },
    {
     "name": "stderr",
     "output_type": "stream",
     "text": [
      " 68%|██████▊   | 612/900 [01:34<00:43,  6.66it/s]"
     ]
    },
    {
     "name": "stdout",
     "output_type": "stream",
     "text": [
      "[animation.py:358]:DEBUG:MovieWriter.grab_frame: Grabbing frame.\n"
     ]
    },
    {
     "name": "stderr",
     "output_type": "stream",
     "text": [
      " 68%|██████▊   | 613/900 [01:34<00:42,  6.83it/s]"
     ]
    },
    {
     "name": "stdout",
     "output_type": "stream",
     "text": [
      "[animation.py:358]:DEBUG:MovieWriter.grab_frame: Grabbing frame.\n"
     ]
    },
    {
     "name": "stderr",
     "output_type": "stream",
     "text": [
      " 68%|██████▊   | 614/900 [01:34<00:40,  6.99it/s]"
     ]
    },
    {
     "name": "stdout",
     "output_type": "stream",
     "text": [
      "[animation.py:358]:DEBUG:MovieWriter.grab_frame: Grabbing frame.\n"
     ]
    },
    {
     "name": "stderr",
     "output_type": "stream",
     "text": [
      " 68%|██████▊   | 615/900 [01:34<00:40,  7.07it/s]"
     ]
    },
    {
     "name": "stdout",
     "output_type": "stream",
     "text": [
      "[animation.py:358]:DEBUG:MovieWriter.grab_frame: Grabbing frame.\n"
     ]
    },
    {
     "name": "stderr",
     "output_type": "stream",
     "text": [
      " 68%|██████▊   | 616/900 [01:34<00:39,  7.17it/s]"
     ]
    },
    {
     "name": "stdout",
     "output_type": "stream",
     "text": [
      "[animation.py:358]:DEBUG:MovieWriter.grab_frame: Grabbing frame.\n"
     ]
    },
    {
     "name": "stderr",
     "output_type": "stream",
     "text": [
      " 69%|██████▊   | 617/900 [01:34<00:39,  7.20it/s]"
     ]
    },
    {
     "name": "stdout",
     "output_type": "stream",
     "text": [
      "[animation.py:358]:DEBUG:MovieWriter.grab_frame: Grabbing frame.\n"
     ]
    },
    {
     "name": "stderr",
     "output_type": "stream",
     "text": [
      " 69%|██████▊   | 618/900 [01:35<00:38,  7.23it/s]"
     ]
    },
    {
     "name": "stdout",
     "output_type": "stream",
     "text": [
      "[animation.py:358]:DEBUG:MovieWriter.grab_frame: Grabbing frame.\n"
     ]
    },
    {
     "name": "stderr",
     "output_type": "stream",
     "text": [
      " 69%|██████▉   | 619/900 [01:35<00:38,  7.21it/s]"
     ]
    },
    {
     "name": "stdout",
     "output_type": "stream",
     "text": [
      "[animation.py:358]:DEBUG:MovieWriter.grab_frame: Grabbing frame.\n"
     ]
    },
    {
     "name": "stderr",
     "output_type": "stream",
     "text": [
      " 69%|██████▉   | 620/900 [01:35<00:38,  7.18it/s]"
     ]
    },
    {
     "name": "stdout",
     "output_type": "stream",
     "text": [
      "[animation.py:358]:DEBUG:MovieWriter.grab_frame: Grabbing frame.\n"
     ]
    },
    {
     "name": "stderr",
     "output_type": "stream",
     "text": [
      " 69%|██████▉   | 621/900 [01:35<01:02,  4.44it/s]"
     ]
    },
    {
     "name": "stdout",
     "output_type": "stream",
     "text": [
      "[animation.py:358]:DEBUG:MovieWriter.grab_frame: Grabbing frame.\n"
     ]
    },
    {
     "name": "stderr",
     "output_type": "stream",
     "text": [
      " 69%|██████▉   | 622/900 [01:35<00:55,  5.04it/s]"
     ]
    },
    {
     "name": "stdout",
     "output_type": "stream",
     "text": [
      "[animation.py:358]:DEBUG:MovieWriter.grab_frame: Grabbing frame.\n"
     ]
    },
    {
     "name": "stderr",
     "output_type": "stream",
     "text": [
      " 69%|██████▉   | 623/900 [01:35<00:49,  5.57it/s]"
     ]
    },
    {
     "name": "stdout",
     "output_type": "stream",
     "text": [
      "[animation.py:358]:DEBUG:MovieWriter.grab_frame: Grabbing frame.\n"
     ]
    },
    {
     "name": "stderr",
     "output_type": "stream",
     "text": [
      " 69%|██████▉   | 624/900 [01:36<00:46,  6.00it/s]"
     ]
    },
    {
     "name": "stdout",
     "output_type": "stream",
     "text": [
      "[animation.py:358]:DEBUG:MovieWriter.grab_frame: Grabbing frame.\n"
     ]
    },
    {
     "name": "stderr",
     "output_type": "stream",
     "text": [
      " 69%|██████▉   | 625/900 [01:36<00:42,  6.40it/s]"
     ]
    },
    {
     "name": "stdout",
     "output_type": "stream",
     "text": [
      "[animation.py:358]:DEBUG:MovieWriter.grab_frame: Grabbing frame.\n"
     ]
    },
    {
     "name": "stderr",
     "output_type": "stream",
     "text": [
      " 70%|██████▉   | 626/900 [01:36<00:40,  6.71it/s]"
     ]
    },
    {
     "name": "stdout",
     "output_type": "stream",
     "text": [
      "[animation.py:358]:DEBUG:MovieWriter.grab_frame: Grabbing frame.\n"
     ]
    },
    {
     "name": "stderr",
     "output_type": "stream",
     "text": [
      " 70%|██████▉   | 627/900 [01:36<00:39,  6.92it/s]"
     ]
    },
    {
     "name": "stdout",
     "output_type": "stream",
     "text": [
      "[animation.py:358]:DEBUG:MovieWriter.grab_frame: Grabbing frame.\n"
     ]
    },
    {
     "name": "stderr",
     "output_type": "stream",
     "text": [
      " 70%|██████▉   | 628/900 [01:36<00:38,  7.09it/s]"
     ]
    },
    {
     "name": "stdout",
     "output_type": "stream",
     "text": [
      "[animation.py:358]:DEBUG:MovieWriter.grab_frame: Grabbing frame.\n"
     ]
    },
    {
     "name": "stderr",
     "output_type": "stream",
     "text": [
      " 70%|██████▉   | 629/900 [01:36<00:37,  7.18it/s]"
     ]
    },
    {
     "name": "stdout",
     "output_type": "stream",
     "text": [
      "[animation.py:358]:DEBUG:MovieWriter.grab_frame: Grabbing frame.\n"
     ]
    },
    {
     "name": "stderr",
     "output_type": "stream",
     "text": [
      " 70%|███████   | 630/900 [01:36<00:37,  7.23it/s]"
     ]
    },
    {
     "name": "stdout",
     "output_type": "stream",
     "text": [
      "[animation.py:358]:DEBUG:MovieWriter.grab_frame: Grabbing frame.\n"
     ]
    },
    {
     "name": "stderr",
     "output_type": "stream",
     "text": [
      " 70%|███████   | 631/900 [01:37<00:37,  7.22it/s]"
     ]
    },
    {
     "name": "stdout",
     "output_type": "stream",
     "text": [
      "[animation.py:358]:DEBUG:MovieWriter.grab_frame: Grabbing frame.\n"
     ]
    },
    {
     "name": "stderr",
     "output_type": "stream",
     "text": [
      " 70%|███████   | 632/900 [01:37<00:36,  7.26it/s]"
     ]
    },
    {
     "name": "stdout",
     "output_type": "stream",
     "text": [
      "[animation.py:358]:DEBUG:MovieWriter.grab_frame: Grabbing frame.\n"
     ]
    },
    {
     "name": "stderr",
     "output_type": "stream",
     "text": [
      " 70%|███████   | 633/900 [01:37<00:36,  7.24it/s]"
     ]
    },
    {
     "name": "stdout",
     "output_type": "stream",
     "text": [
      "[animation.py:358]:DEBUG:MovieWriter.grab_frame: Grabbing frame.\n"
     ]
    },
    {
     "name": "stderr",
     "output_type": "stream",
     "text": [
      " 70%|███████   | 634/900 [01:37<00:36,  7.28it/s]"
     ]
    },
    {
     "name": "stdout",
     "output_type": "stream",
     "text": [
      "[animation.py:358]:DEBUG:MovieWriter.grab_frame: Grabbing frame.\n"
     ]
    },
    {
     "name": "stderr",
     "output_type": "stream",
     "text": [
      " 71%|███████   | 635/900 [01:37<00:59,  4.45it/s]"
     ]
    },
    {
     "name": "stdout",
     "output_type": "stream",
     "text": [
      "[animation.py:358]:DEBUG:MovieWriter.grab_frame: Grabbing frame.\n"
     ]
    },
    {
     "name": "stderr",
     "output_type": "stream",
     "text": [
      " 71%|███████   | 636/900 [01:38<00:51,  5.08it/s]"
     ]
    },
    {
     "name": "stdout",
     "output_type": "stream",
     "text": [
      "[animation.py:358]:DEBUG:MovieWriter.grab_frame: Grabbing frame.\n"
     ]
    },
    {
     "name": "stderr",
     "output_type": "stream",
     "text": [
      " 71%|███████   | 637/900 [01:38<00:46,  5.63it/s]"
     ]
    },
    {
     "name": "stdout",
     "output_type": "stream",
     "text": [
      "[animation.py:358]:DEBUG:MovieWriter.grab_frame: Grabbing frame.\n"
     ]
    },
    {
     "name": "stderr",
     "output_type": "stream",
     "text": [
      " 71%|███████   | 638/900 [01:38<00:43,  6.04it/s]"
     ]
    },
    {
     "name": "stdout",
     "output_type": "stream",
     "text": [
      "[animation.py:358]:DEBUG:MovieWriter.grab_frame: Grabbing frame.\n"
     ]
    },
    {
     "name": "stderr",
     "output_type": "stream",
     "text": [
      " 71%|███████   | 639/900 [01:38<00:40,  6.41it/s]"
     ]
    },
    {
     "name": "stdout",
     "output_type": "stream",
     "text": [
      "[animation.py:358]:DEBUG:MovieWriter.grab_frame: Grabbing frame.\n"
     ]
    },
    {
     "name": "stderr",
     "output_type": "stream",
     "text": [
      " 71%|███████   | 640/900 [01:38<00:38,  6.73it/s]"
     ]
    },
    {
     "name": "stdout",
     "output_type": "stream",
     "text": [
      "[animation.py:358]:DEBUG:MovieWriter.grab_frame: Grabbing frame.\n"
     ]
    },
    {
     "name": "stderr",
     "output_type": "stream",
     "text": [
      " 71%|███████   | 641/900 [01:38<00:37,  6.98it/s]"
     ]
    },
    {
     "name": "stdout",
     "output_type": "stream",
     "text": [
      "[animation.py:358]:DEBUG:MovieWriter.grab_frame: Grabbing frame.\n"
     ]
    },
    {
     "name": "stderr",
     "output_type": "stream",
     "text": [
      " 71%|███████▏  | 642/900 [01:38<00:35,  7.23it/s]"
     ]
    },
    {
     "name": "stdout",
     "output_type": "stream",
     "text": [
      "[animation.py:358]:DEBUG:MovieWriter.grab_frame: Grabbing frame.\n"
     ]
    },
    {
     "name": "stderr",
     "output_type": "stream",
     "text": [
      " 71%|███████▏  | 643/900 [01:38<00:34,  7.44it/s]"
     ]
    },
    {
     "name": "stdout",
     "output_type": "stream",
     "text": [
      "[animation.py:358]:DEBUG:MovieWriter.grab_frame: Grabbing frame.\n"
     ]
    },
    {
     "name": "stderr",
     "output_type": "stream",
     "text": [
      " 72%|███████▏  | 644/900 [01:39<00:34,  7.52it/s]"
     ]
    },
    {
     "name": "stdout",
     "output_type": "stream",
     "text": [
      "[animation.py:358]:DEBUG:MovieWriter.grab_frame: Grabbing frame.\n"
     ]
    },
    {
     "name": "stderr",
     "output_type": "stream",
     "text": [
      " 72%|███████▏  | 645/900 [01:39<00:33,  7.61it/s]"
     ]
    },
    {
     "name": "stdout",
     "output_type": "stream",
     "text": [
      "[animation.py:358]:DEBUG:MovieWriter.grab_frame: Grabbing frame.\n"
     ]
    },
    {
     "name": "stderr",
     "output_type": "stream",
     "text": [
      " 72%|███████▏  | 646/900 [01:39<00:33,  7.57it/s]"
     ]
    },
    {
     "name": "stdout",
     "output_type": "stream",
     "text": [
      "[animation.py:358]:DEBUG:MovieWriter.grab_frame: Grabbing frame.\n"
     ]
    },
    {
     "name": "stderr",
     "output_type": "stream",
     "text": [
      " 72%|███████▏  | 647/900 [01:39<00:33,  7.54it/s]"
     ]
    },
    {
     "name": "stdout",
     "output_type": "stream",
     "text": [
      "[animation.py:358]:DEBUG:MovieWriter.grab_frame: Grabbing frame.\n"
     ]
    },
    {
     "name": "stderr",
     "output_type": "stream",
     "text": [
      " 72%|███████▏  | 648/900 [01:39<00:33,  7.52it/s]"
     ]
    },
    {
     "name": "stdout",
     "output_type": "stream",
     "text": [
      "[animation.py:358]:DEBUG:MovieWriter.grab_frame: Grabbing frame.\n"
     ]
    },
    {
     "name": "stderr",
     "output_type": "stream",
     "text": [
      " 72%|███████▏  | 649/900 [01:40<00:55,  4.50it/s]"
     ]
    },
    {
     "name": "stdout",
     "output_type": "stream",
     "text": [
      "[animation.py:358]:DEBUG:MovieWriter.grab_frame: Grabbing frame.\n"
     ]
    },
    {
     "name": "stderr",
     "output_type": "stream",
     "text": [
      " 72%|███████▏  | 650/900 [01:40<00:48,  5.12it/s]"
     ]
    },
    {
     "name": "stdout",
     "output_type": "stream",
     "text": [
      "[animation.py:358]:DEBUG:MovieWriter.grab_frame: Grabbing frame.\n"
     ]
    },
    {
     "name": "stderr",
     "output_type": "stream",
     "text": [
      " 72%|███████▏  | 651/900 [01:40<00:44,  5.65it/s]"
     ]
    },
    {
     "name": "stdout",
     "output_type": "stream",
     "text": [
      "[animation.py:358]:DEBUG:MovieWriter.grab_frame: Grabbing frame.\n"
     ]
    },
    {
     "name": "stderr",
     "output_type": "stream",
     "text": [
      " 72%|███████▏  | 652/900 [01:40<00:40,  6.08it/s]"
     ]
    },
    {
     "name": "stdout",
     "output_type": "stream",
     "text": [
      "[animation.py:358]:DEBUG:MovieWriter.grab_frame: Grabbing frame.\n"
     ]
    },
    {
     "name": "stderr",
     "output_type": "stream",
     "text": [
      " 73%|███████▎  | 653/900 [01:40<00:38,  6.46it/s]"
     ]
    },
    {
     "name": "stdout",
     "output_type": "stream",
     "text": [
      "[animation.py:358]:DEBUG:MovieWriter.grab_frame: Grabbing frame.\n"
     ]
    },
    {
     "name": "stderr",
     "output_type": "stream",
     "text": [
      " 73%|███████▎  | 654/900 [01:40<00:36,  6.73it/s]"
     ]
    },
    {
     "name": "stdout",
     "output_type": "stream",
     "text": [
      "[animation.py:358]:DEBUG:MovieWriter.grab_frame: Grabbing frame.\n"
     ]
    },
    {
     "name": "stderr",
     "output_type": "stream",
     "text": [
      " 73%|███████▎  | 655/900 [01:40<00:34,  7.01it/s]"
     ]
    },
    {
     "name": "stdout",
     "output_type": "stream",
     "text": [
      "[animation.py:358]:DEBUG:MovieWriter.grab_frame: Grabbing frame.\n"
     ]
    },
    {
     "name": "stderr",
     "output_type": "stream",
     "text": [
      " 73%|███████▎  | 656/900 [01:40<00:34,  7.16it/s]"
     ]
    },
    {
     "name": "stdout",
     "output_type": "stream",
     "text": [
      "[animation.py:358]:DEBUG:MovieWriter.grab_frame: Grabbing frame.\n"
     ]
    },
    {
     "name": "stderr",
     "output_type": "stream",
     "text": [
      " 73%|███████▎  | 657/900 [01:41<00:33,  7.34it/s]"
     ]
    },
    {
     "name": "stdout",
     "output_type": "stream",
     "text": [
      "[animation.py:358]:DEBUG:MovieWriter.grab_frame: Grabbing frame.\n"
     ]
    },
    {
     "name": "stderr",
     "output_type": "stream",
     "text": [
      " 73%|███████▎  | 658/900 [01:41<00:32,  7.45it/s]"
     ]
    },
    {
     "name": "stdout",
     "output_type": "stream",
     "text": [
      "[animation.py:358]:DEBUG:MovieWriter.grab_frame: Grabbing frame.\n"
     ]
    },
    {
     "name": "stderr",
     "output_type": "stream",
     "text": [
      " 73%|███████▎  | 659/900 [01:41<00:32,  7.53it/s]"
     ]
    },
    {
     "name": "stdout",
     "output_type": "stream",
     "text": [
      "[animation.py:358]:DEBUG:MovieWriter.grab_frame: Grabbing frame.\n"
     ]
    },
    {
     "name": "stderr",
     "output_type": "stream",
     "text": [
      " 73%|███████▎  | 660/900 [01:41<00:31,  7.58it/s]"
     ]
    },
    {
     "name": "stdout",
     "output_type": "stream",
     "text": [
      "[animation.py:358]:DEBUG:MovieWriter.grab_frame: Grabbing frame.\n"
     ]
    },
    {
     "name": "stderr",
     "output_type": "stream",
     "text": [
      " 73%|███████▎  | 661/900 [01:41<00:31,  7.57it/s]"
     ]
    },
    {
     "name": "stdout",
     "output_type": "stream",
     "text": [
      "[animation.py:358]:DEBUG:MovieWriter.grab_frame: Grabbing frame.\n"
     ]
    },
    {
     "name": "stderr",
     "output_type": "stream",
     "text": [
      " 74%|███████▎  | 662/900 [01:41<00:31,  7.59it/s]"
     ]
    },
    {
     "name": "stdout",
     "output_type": "stream",
     "text": [
      "[animation.py:358]:DEBUG:MovieWriter.grab_frame: Grabbing frame.\n"
     ]
    },
    {
     "name": "stderr",
     "output_type": "stream",
     "text": [
      " 74%|███████▎  | 663/900 [01:42<00:51,  4.57it/s]"
     ]
    },
    {
     "name": "stdout",
     "output_type": "stream",
     "text": [
      "[animation.py:358]:DEBUG:MovieWriter.grab_frame: Grabbing frame.\n"
     ]
    },
    {
     "name": "stderr",
     "output_type": "stream",
     "text": [
      " 74%|███████▍  | 664/900 [01:42<00:45,  5.22it/s]"
     ]
    },
    {
     "name": "stdout",
     "output_type": "stream",
     "text": [
      "[animation.py:358]:DEBUG:MovieWriter.grab_frame: Grabbing frame.\n"
     ]
    },
    {
     "name": "stderr",
     "output_type": "stream",
     "text": [
      " 74%|███████▍  | 665/900 [01:42<00:40,  5.79it/s]"
     ]
    },
    {
     "name": "stdout",
     "output_type": "stream",
     "text": [
      "[animation.py:358]:DEBUG:MovieWriter.grab_frame: Grabbing frame.\n"
     ]
    },
    {
     "name": "stderr",
     "output_type": "stream",
     "text": [
      " 74%|███████▍  | 666/900 [01:42<00:37,  6.30it/s]"
     ]
    },
    {
     "name": "stdout",
     "output_type": "stream",
     "text": [
      "[animation.py:358]:DEBUG:MovieWriter.grab_frame: Grabbing frame.\n"
     ]
    },
    {
     "name": "stderr",
     "output_type": "stream",
     "text": [
      " 74%|███████▍  | 667/900 [01:42<00:34,  6.70it/s]"
     ]
    },
    {
     "name": "stdout",
     "output_type": "stream",
     "text": [
      "[animation.py:358]:DEBUG:MovieWriter.grab_frame: Grabbing frame.\n"
     ]
    },
    {
     "name": "stderr",
     "output_type": "stream",
     "text": [
      " 74%|███████▍  | 668/900 [01:42<00:33,  7.01it/s]"
     ]
    },
    {
     "name": "stdout",
     "output_type": "stream",
     "text": [
      "[animation.py:358]:DEBUG:MovieWriter.grab_frame: Grabbing frame.\n"
     ]
    },
    {
     "name": "stderr",
     "output_type": "stream",
     "text": [
      " 74%|███████▍  | 669/900 [01:42<00:32,  7.21it/s]"
     ]
    },
    {
     "name": "stdout",
     "output_type": "stream",
     "text": [
      "[animation.py:358]:DEBUG:MovieWriter.grab_frame: Grabbing frame.\n"
     ]
    },
    {
     "name": "stderr",
     "output_type": "stream",
     "text": [
      " 74%|███████▍  | 670/900 [01:43<00:32,  7.10it/s]"
     ]
    },
    {
     "name": "stdout",
     "output_type": "stream",
     "text": [
      "[animation.py:358]:DEBUG:MovieWriter.grab_frame: Grabbing frame.\n"
     ]
    },
    {
     "name": "stderr",
     "output_type": "stream",
     "text": [
      " 75%|███████▍  | 671/900 [01:43<00:31,  7.32it/s]"
     ]
    },
    {
     "name": "stdout",
     "output_type": "stream",
     "text": [
      "[animation.py:358]:DEBUG:MovieWriter.grab_frame: Grabbing frame.\n"
     ]
    },
    {
     "name": "stderr",
     "output_type": "stream",
     "text": [
      " 75%|███████▍  | 672/900 [01:43<00:30,  7.47it/s]"
     ]
    },
    {
     "name": "stdout",
     "output_type": "stream",
     "text": [
      "[animation.py:358]:DEBUG:MovieWriter.grab_frame: Grabbing frame.\n"
     ]
    },
    {
     "name": "stderr",
     "output_type": "stream",
     "text": [
      " 75%|███████▍  | 673/900 [01:43<00:30,  7.53it/s]"
     ]
    },
    {
     "name": "stdout",
     "output_type": "stream",
     "text": [
      "[animation.py:358]:DEBUG:MovieWriter.grab_frame: Grabbing frame.\n"
     ]
    },
    {
     "name": "stderr",
     "output_type": "stream",
     "text": [
      " 75%|███████▍  | 674/900 [01:43<00:29,  7.55it/s]"
     ]
    },
    {
     "name": "stdout",
     "output_type": "stream",
     "text": [
      "[animation.py:358]:DEBUG:MovieWriter.grab_frame: Grabbing frame.\n"
     ]
    },
    {
     "name": "stderr",
     "output_type": "stream",
     "text": [
      " 75%|███████▌  | 675/900 [01:43<00:29,  7.55it/s]"
     ]
    },
    {
     "name": "stdout",
     "output_type": "stream",
     "text": [
      "[animation.py:358]:DEBUG:MovieWriter.grab_frame: Grabbing frame.\n"
     ]
    },
    {
     "name": "stderr",
     "output_type": "stream",
     "text": [
      " 75%|███████▌  | 676/900 [01:43<00:29,  7.51it/s]"
     ]
    },
    {
     "name": "stdout",
     "output_type": "stream",
     "text": [
      "[animation.py:358]:DEBUG:MovieWriter.grab_frame: Grabbing frame.\n"
     ]
    },
    {
     "name": "stderr",
     "output_type": "stream",
     "text": [
      " 75%|███████▌  | 677/900 [01:44<00:29,  7.58it/s]"
     ]
    },
    {
     "name": "stdout",
     "output_type": "stream",
     "text": [
      "[animation.py:358]:DEBUG:MovieWriter.grab_frame: Grabbing frame.\n"
     ]
    },
    {
     "name": "stderr",
     "output_type": "stream",
     "text": [
      " 75%|███████▌  | 678/900 [01:44<00:49,  4.53it/s]"
     ]
    },
    {
     "name": "stdout",
     "output_type": "stream",
     "text": [
      "[animation.py:358]:DEBUG:MovieWriter.grab_frame: Grabbing frame.\n"
     ]
    },
    {
     "name": "stderr",
     "output_type": "stream",
     "text": [
      " 75%|███████▌  | 679/900 [01:44<00:42,  5.20it/s]"
     ]
    },
    {
     "name": "stdout",
     "output_type": "stream",
     "text": [
      "[animation.py:358]:DEBUG:MovieWriter.grab_frame: Grabbing frame.\n"
     ]
    },
    {
     "name": "stderr",
     "output_type": "stream",
     "text": [
      " 76%|███████▌  | 680/900 [01:44<00:37,  5.79it/s]"
     ]
    },
    {
     "name": "stdout",
     "output_type": "stream",
     "text": [
      "[animation.py:358]:DEBUG:MovieWriter.grab_frame: Grabbing frame.\n"
     ]
    },
    {
     "name": "stderr",
     "output_type": "stream",
     "text": [
      " 76%|███████▌  | 681/900 [01:44<00:35,  6.25it/s]"
     ]
    },
    {
     "name": "stdout",
     "output_type": "stream",
     "text": [
      "[animation.py:358]:DEBUG:MovieWriter.grab_frame: Grabbing frame.\n"
     ]
    },
    {
     "name": "stderr",
     "output_type": "stream",
     "text": [
      " 76%|███████▌  | 682/900 [01:44<00:32,  6.63it/s]"
     ]
    },
    {
     "name": "stdout",
     "output_type": "stream",
     "text": [
      "[animation.py:358]:DEBUG:MovieWriter.grab_frame: Grabbing frame.\n"
     ]
    },
    {
     "name": "stderr",
     "output_type": "stream",
     "text": [
      " 76%|███████▌  | 683/900 [01:45<00:31,  6.92it/s]"
     ]
    },
    {
     "name": "stdout",
     "output_type": "stream",
     "text": [
      "[animation.py:358]:DEBUG:MovieWriter.grab_frame: Grabbing frame.\n"
     ]
    },
    {
     "name": "stderr",
     "output_type": "stream",
     "text": [
      " 76%|███████▌  | 684/900 [01:45<00:30,  7.16it/s]"
     ]
    },
    {
     "name": "stdout",
     "output_type": "stream",
     "text": [
      "[animation.py:358]:DEBUG:MovieWriter.grab_frame: Grabbing frame.\n"
     ]
    },
    {
     "name": "stderr",
     "output_type": "stream",
     "text": [
      " 76%|███████▌  | 685/900 [01:45<00:29,  7.30it/s]"
     ]
    },
    {
     "name": "stdout",
     "output_type": "stream",
     "text": [
      "[animation.py:358]:DEBUG:MovieWriter.grab_frame: Grabbing frame.\n"
     ]
    },
    {
     "name": "stderr",
     "output_type": "stream",
     "text": [
      " 76%|███████▌  | 686/900 [01:45<00:28,  7.46it/s]"
     ]
    },
    {
     "name": "stdout",
     "output_type": "stream",
     "text": [
      "[animation.py:358]:DEBUG:MovieWriter.grab_frame: Grabbing frame.\n"
     ]
    },
    {
     "name": "stderr",
     "output_type": "stream",
     "text": [
      " 76%|███████▋  | 687/900 [01:45<00:28,  7.52it/s]"
     ]
    },
    {
     "name": "stdout",
     "output_type": "stream",
     "text": [
      "[animation.py:358]:DEBUG:MovieWriter.grab_frame: Grabbing frame.\n"
     ]
    },
    {
     "name": "stderr",
     "output_type": "stream",
     "text": [
      " 76%|███████▋  | 688/900 [01:45<00:28,  7.54it/s]"
     ]
    },
    {
     "name": "stdout",
     "output_type": "stream",
     "text": [
      "[animation.py:358]:DEBUG:MovieWriter.grab_frame: Grabbing frame.\n"
     ]
    },
    {
     "name": "stderr",
     "output_type": "stream",
     "text": [
      " 77%|███████▋  | 689/900 [01:45<00:28,  7.52it/s]"
     ]
    },
    {
     "name": "stdout",
     "output_type": "stream",
     "text": [
      "[animation.py:358]:DEBUG:MovieWriter.grab_frame: Grabbing frame.\n"
     ]
    },
    {
     "name": "stderr",
     "output_type": "stream",
     "text": [
      " 77%|███████▋  | 690/900 [01:45<00:27,  7.57it/s]"
     ]
    },
    {
     "name": "stdout",
     "output_type": "stream",
     "text": [
      "[animation.py:358]:DEBUG:MovieWriter.grab_frame: Grabbing frame.\n"
     ]
    },
    {
     "name": "stderr",
     "output_type": "stream",
     "text": [
      " 77%|███████▋  | 691/900 [01:46<00:27,  7.58it/s]"
     ]
    },
    {
     "name": "stdout",
     "output_type": "stream",
     "text": [
      "[animation.py:358]:DEBUG:MovieWriter.grab_frame: Grabbing frame.\n"
     ]
    },
    {
     "name": "stderr",
     "output_type": "stream",
     "text": [
      " 77%|███████▋  | 692/900 [01:46<00:46,  4.48it/s]"
     ]
    },
    {
     "name": "stdout",
     "output_type": "stream",
     "text": [
      "[animation.py:358]:DEBUG:MovieWriter.grab_frame: Grabbing frame.\n"
     ]
    },
    {
     "name": "stderr",
     "output_type": "stream",
     "text": [
      " 77%|███████▋  | 693/900 [01:46<00:40,  5.15it/s]"
     ]
    },
    {
     "name": "stdout",
     "output_type": "stream",
     "text": [
      "[animation.py:358]:DEBUG:MovieWriter.grab_frame: Grabbing frame.\n"
     ]
    },
    {
     "name": "stderr",
     "output_type": "stream",
     "text": [
      " 77%|███████▋  | 694/900 [01:46<00:35,  5.74it/s]"
     ]
    },
    {
     "name": "stdout",
     "output_type": "stream",
     "text": [
      "[animation.py:358]:DEBUG:MovieWriter.grab_frame: Grabbing frame.\n"
     ]
    },
    {
     "name": "stderr",
     "output_type": "stream",
     "text": [
      " 77%|███████▋  | 695/900 [01:46<00:32,  6.23it/s]"
     ]
    },
    {
     "name": "stdout",
     "output_type": "stream",
     "text": [
      "[animation.py:358]:DEBUG:MovieWriter.grab_frame: Grabbing frame.\n"
     ]
    },
    {
     "name": "stderr",
     "output_type": "stream",
     "text": [
      " 77%|███████▋  | 696/900 [01:47<00:30,  6.61it/s]"
     ]
    },
    {
     "name": "stdout",
     "output_type": "stream",
     "text": [
      "[animation.py:358]:DEBUG:MovieWriter.grab_frame: Grabbing frame.\n"
     ]
    },
    {
     "name": "stderr",
     "output_type": "stream",
     "text": [
      " 77%|███████▋  | 697/900 [01:47<00:29,  6.85it/s]"
     ]
    },
    {
     "name": "stdout",
     "output_type": "stream",
     "text": [
      "[animation.py:358]:DEBUG:MovieWriter.grab_frame: Grabbing frame.\n"
     ]
    },
    {
     "name": "stderr",
     "output_type": "stream",
     "text": [
      " 78%|███████▊  | 698/900 [01:47<00:28,  7.13it/s]"
     ]
    },
    {
     "name": "stdout",
     "output_type": "stream",
     "text": [
      "[animation.py:358]:DEBUG:MovieWriter.grab_frame: Grabbing frame.\n"
     ]
    },
    {
     "name": "stderr",
     "output_type": "stream",
     "text": [
      " 78%|███████▊  | 699/900 [01:47<00:27,  7.30it/s]"
     ]
    },
    {
     "name": "stdout",
     "output_type": "stream",
     "text": [
      "[animation.py:358]:DEBUG:MovieWriter.grab_frame: Grabbing frame.\n"
     ]
    },
    {
     "name": "stderr",
     "output_type": "stream",
     "text": [
      " 78%|███████▊  | 700/900 [01:47<00:27,  7.37it/s]"
     ]
    },
    {
     "name": "stdout",
     "output_type": "stream",
     "text": [
      "[animation.py:358]:DEBUG:MovieWriter.grab_frame: Grabbing frame.\n"
     ]
    },
    {
     "name": "stderr",
     "output_type": "stream",
     "text": [
      " 78%|███████▊  | 701/900 [01:47<00:26,  7.46it/s]"
     ]
    },
    {
     "name": "stdout",
     "output_type": "stream",
     "text": [
      "[animation.py:358]:DEBUG:MovieWriter.grab_frame: Grabbing frame.\n"
     ]
    },
    {
     "name": "stderr",
     "output_type": "stream",
     "text": [
      " 78%|███████▊  | 702/900 [01:47<00:26,  7.37it/s]"
     ]
    },
    {
     "name": "stdout",
     "output_type": "stream",
     "text": [
      "[animation.py:358]:DEBUG:MovieWriter.grab_frame: Grabbing frame.\n"
     ]
    },
    {
     "name": "stderr",
     "output_type": "stream",
     "text": [
      " 78%|███████▊  | 703/900 [01:47<00:26,  7.37it/s]"
     ]
    },
    {
     "name": "stdout",
     "output_type": "stream",
     "text": [
      "[animation.py:358]:DEBUG:MovieWriter.grab_frame: Grabbing frame.\n"
     ]
    },
    {
     "name": "stderr",
     "output_type": "stream",
     "text": [
      " 78%|███████▊  | 704/900 [01:48<00:26,  7.39it/s]"
     ]
    },
    {
     "name": "stdout",
     "output_type": "stream",
     "text": [
      "[animation.py:358]:DEBUG:MovieWriter.grab_frame: Grabbing frame.\n"
     ]
    },
    {
     "name": "stderr",
     "output_type": "stream",
     "text": [
      " 78%|███████▊  | 705/900 [01:48<00:26,  7.34it/s]"
     ]
    },
    {
     "name": "stdout",
     "output_type": "stream",
     "text": [
      "[animation.py:358]:DEBUG:MovieWriter.grab_frame: Grabbing frame.\n"
     ]
    },
    {
     "name": "stderr",
     "output_type": "stream",
     "text": [
      " 78%|███████▊  | 706/900 [01:48<00:26,  7.36it/s]"
     ]
    },
    {
     "name": "stdout",
     "output_type": "stream",
     "text": [
      "[animation.py:358]:DEBUG:MovieWriter.grab_frame: Grabbing frame.\n"
     ]
    },
    {
     "name": "stderr",
     "output_type": "stream",
     "text": [
      " 79%|███████▊  | 707/900 [01:48<00:43,  4.41it/s]"
     ]
    },
    {
     "name": "stdout",
     "output_type": "stream",
     "text": [
      "[animation.py:358]:DEBUG:MovieWriter.grab_frame: Grabbing frame.\n"
     ]
    },
    {
     "name": "stderr",
     "output_type": "stream",
     "text": [
      " 79%|███████▊  | 708/900 [01:48<00:37,  5.06it/s]"
     ]
    },
    {
     "name": "stdout",
     "output_type": "stream",
     "text": [
      "[animation.py:358]:DEBUG:MovieWriter.grab_frame: Grabbing frame.\n"
     ]
    },
    {
     "name": "stderr",
     "output_type": "stream",
     "text": [
      " 79%|███████▉  | 709/900 [01:49<00:33,  5.62it/s]"
     ]
    },
    {
     "name": "stdout",
     "output_type": "stream",
     "text": [
      "[animation.py:358]:DEBUG:MovieWriter.grab_frame: Grabbing frame.\n"
     ]
    },
    {
     "name": "stderr",
     "output_type": "stream",
     "text": [
      " 79%|███████▉  | 710/900 [01:49<00:31,  6.09it/s]"
     ]
    },
    {
     "name": "stdout",
     "output_type": "stream",
     "text": [
      "[animation.py:358]:DEBUG:MovieWriter.grab_frame: Grabbing frame.\n"
     ]
    },
    {
     "name": "stderr",
     "output_type": "stream",
     "text": [
      " 79%|███████▉  | 711/900 [01:49<00:28,  6.53it/s]"
     ]
    },
    {
     "name": "stdout",
     "output_type": "stream",
     "text": [
      "[animation.py:358]:DEBUG:MovieWriter.grab_frame: Grabbing frame.\n"
     ]
    },
    {
     "name": "stderr",
     "output_type": "stream",
     "text": [
      " 79%|███████▉  | 712/900 [01:49<00:27,  6.86it/s]"
     ]
    },
    {
     "name": "stdout",
     "output_type": "stream",
     "text": [
      "[animation.py:358]:DEBUG:MovieWriter.grab_frame: Grabbing frame.\n"
     ]
    },
    {
     "name": "stderr",
     "output_type": "stream",
     "text": [
      " 79%|███████▉  | 713/900 [01:49<00:26,  7.04it/s]"
     ]
    },
    {
     "name": "stdout",
     "output_type": "stream",
     "text": [
      "[animation.py:358]:DEBUG:MovieWriter.grab_frame: Grabbing frame.\n"
     ]
    },
    {
     "name": "stderr",
     "output_type": "stream",
     "text": [
      " 79%|███████▉  | 714/900 [01:49<00:25,  7.26it/s]"
     ]
    },
    {
     "name": "stdout",
     "output_type": "stream",
     "text": [
      "[animation.py:358]:DEBUG:MovieWriter.grab_frame: Grabbing frame.\n"
     ]
    },
    {
     "name": "stderr",
     "output_type": "stream",
     "text": [
      " 79%|███████▉  | 715/900 [01:49<00:25,  7.30it/s]"
     ]
    },
    {
     "name": "stdout",
     "output_type": "stream",
     "text": [
      "[animation.py:358]:DEBUG:MovieWriter.grab_frame: Grabbing frame.\n"
     ]
    },
    {
     "name": "stderr",
     "output_type": "stream",
     "text": [
      " 80%|███████▉  | 716/900 [01:50<00:25,  7.33it/s]"
     ]
    },
    {
     "name": "stdout",
     "output_type": "stream",
     "text": [
      "[animation.py:358]:DEBUG:MovieWriter.grab_frame: Grabbing frame.\n"
     ]
    },
    {
     "name": "stderr",
     "output_type": "stream",
     "text": [
      " 80%|███████▉  | 717/900 [01:50<00:24,  7.38it/s]"
     ]
    },
    {
     "name": "stdout",
     "output_type": "stream",
     "text": [
      "[animation.py:358]:DEBUG:MovieWriter.grab_frame: Grabbing frame.\n"
     ]
    },
    {
     "name": "stderr",
     "output_type": "stream",
     "text": [
      " 80%|███████▉  | 718/900 [01:50<00:24,  7.43it/s]"
     ]
    },
    {
     "name": "stdout",
     "output_type": "stream",
     "text": [
      "[animation.py:358]:DEBUG:MovieWriter.grab_frame: Grabbing frame.\n"
     ]
    },
    {
     "name": "stderr",
     "output_type": "stream",
     "text": [
      " 80%|███████▉  | 719/900 [01:50<00:24,  7.46it/s]"
     ]
    },
    {
     "name": "stdout",
     "output_type": "stream",
     "text": [
      "[animation.py:358]:DEBUG:MovieWriter.grab_frame: Grabbing frame.\n"
     ]
    },
    {
     "name": "stderr",
     "output_type": "stream",
     "text": [
      " 80%|████████  | 720/900 [01:50<00:24,  7.44it/s]"
     ]
    },
    {
     "name": "stdout",
     "output_type": "stream",
     "text": [
      "[animation.py:358]:DEBUG:MovieWriter.grab_frame: Grabbing frame.\n"
     ]
    },
    {
     "name": "stderr",
     "output_type": "stream",
     "text": [
      " 80%|████████  | 721/900 [01:50<00:40,  4.47it/s]"
     ]
    },
    {
     "name": "stdout",
     "output_type": "stream",
     "text": [
      "[animation.py:358]:DEBUG:MovieWriter.grab_frame: Grabbing frame.\n"
     ]
    },
    {
     "name": "stderr",
     "output_type": "stream",
     "text": [
      " 80%|████████  | 722/900 [01:51<00:34,  5.12it/s]"
     ]
    },
    {
     "name": "stdout",
     "output_type": "stream",
     "text": [
      "[animation.py:358]:DEBUG:MovieWriter.grab_frame: Grabbing frame.\n"
     ]
    },
    {
     "name": "stderr",
     "output_type": "stream",
     "text": [
      " 80%|████████  | 723/900 [01:51<00:31,  5.68it/s]"
     ]
    },
    {
     "name": "stdout",
     "output_type": "stream",
     "text": [
      "[animation.py:358]:DEBUG:MovieWriter.grab_frame: Grabbing frame.\n"
     ]
    },
    {
     "name": "stderr",
     "output_type": "stream",
     "text": [
      " 80%|████████  | 724/900 [01:51<00:28,  6.15it/s]"
     ]
    },
    {
     "name": "stdout",
     "output_type": "stream",
     "text": [
      "[animation.py:358]:DEBUG:MovieWriter.grab_frame: Grabbing frame.\n"
     ]
    },
    {
     "name": "stderr",
     "output_type": "stream",
     "text": [
      " 81%|████████  | 725/900 [01:51<00:26,  6.55it/s]"
     ]
    },
    {
     "name": "stdout",
     "output_type": "stream",
     "text": [
      "[animation.py:358]:DEBUG:MovieWriter.grab_frame: Grabbing frame.\n"
     ]
    },
    {
     "name": "stderr",
     "output_type": "stream",
     "text": [
      " 81%|████████  | 726/900 [01:51<00:25,  6.83it/s]"
     ]
    },
    {
     "name": "stdout",
     "output_type": "stream",
     "text": [
      "[animation.py:358]:DEBUG:MovieWriter.grab_frame: Grabbing frame.\n"
     ]
    },
    {
     "name": "stderr",
     "output_type": "stream",
     "text": [
      " 81%|████████  | 727/900 [01:51<00:24,  7.00it/s]"
     ]
    },
    {
     "name": "stdout",
     "output_type": "stream",
     "text": [
      "[animation.py:358]:DEBUG:MovieWriter.grab_frame: Grabbing frame.\n"
     ]
    },
    {
     "name": "stderr",
     "output_type": "stream",
     "text": [
      " 81%|████████  | 728/900 [01:51<00:23,  7.17it/s]"
     ]
    },
    {
     "name": "stdout",
     "output_type": "stream",
     "text": [
      "[animation.py:358]:DEBUG:MovieWriter.grab_frame: Grabbing frame.\n"
     ]
    },
    {
     "name": "stderr",
     "output_type": "stream",
     "text": [
      " 81%|████████  | 729/900 [01:52<00:23,  7.27it/s]"
     ]
    },
    {
     "name": "stdout",
     "output_type": "stream",
     "text": [
      "[animation.py:358]:DEBUG:MovieWriter.grab_frame: Grabbing frame.\n"
     ]
    },
    {
     "name": "stderr",
     "output_type": "stream",
     "text": [
      " 81%|████████  | 730/900 [01:52<00:23,  7.28it/s]"
     ]
    },
    {
     "name": "stdout",
     "output_type": "stream",
     "text": [
      "[animation.py:358]:DEBUG:MovieWriter.grab_frame: Grabbing frame.\n"
     ]
    },
    {
     "name": "stderr",
     "output_type": "stream",
     "text": [
      " 81%|████████  | 731/900 [01:52<00:22,  7.36it/s]"
     ]
    },
    {
     "name": "stdout",
     "output_type": "stream",
     "text": [
      "[animation.py:358]:DEBUG:MovieWriter.grab_frame: Grabbing frame.\n"
     ]
    },
    {
     "name": "stderr",
     "output_type": "stream",
     "text": [
      " 81%|████████▏ | 732/900 [01:52<00:22,  7.39it/s]"
     ]
    },
    {
     "name": "stdout",
     "output_type": "stream",
     "text": [
      "[animation.py:358]:DEBUG:MovieWriter.grab_frame: Grabbing frame.\n"
     ]
    },
    {
     "name": "stderr",
     "output_type": "stream",
     "text": [
      " 81%|████████▏ | 733/900 [01:52<00:22,  7.44it/s]"
     ]
    },
    {
     "name": "stdout",
     "output_type": "stream",
     "text": [
      "[animation.py:358]:DEBUG:MovieWriter.grab_frame: Grabbing frame.\n"
     ]
    },
    {
     "name": "stderr",
     "output_type": "stream",
     "text": [
      " 82%|████████▏ | 734/900 [01:52<00:22,  7.43it/s]"
     ]
    },
    {
     "name": "stdout",
     "output_type": "stream",
     "text": [
      "[animation.py:358]:DEBUG:MovieWriter.grab_frame: Grabbing frame.\n"
     ]
    },
    {
     "name": "stderr",
     "output_type": "stream",
     "text": [
      " 82%|████████▏ | 735/900 [01:52<00:22,  7.45it/s]"
     ]
    },
    {
     "name": "stdout",
     "output_type": "stream",
     "text": [
      "[animation.py:358]:DEBUG:MovieWriter.grab_frame: Grabbing frame.\n"
     ]
    },
    {
     "name": "stderr",
     "output_type": "stream",
     "text": [
      " 82%|████████▏ | 736/900 [01:53<00:36,  4.49it/s]"
     ]
    },
    {
     "name": "stdout",
     "output_type": "stream",
     "text": [
      "[animation.py:358]:DEBUG:MovieWriter.grab_frame: Grabbing frame.\n"
     ]
    },
    {
     "name": "stderr",
     "output_type": "stream",
     "text": [
      " 82%|████████▏ | 737/900 [01:53<00:31,  5.10it/s]"
     ]
    },
    {
     "name": "stdout",
     "output_type": "stream",
     "text": [
      "[animation.py:358]:DEBUG:MovieWriter.grab_frame: Grabbing frame.\n"
     ]
    },
    {
     "name": "stderr",
     "output_type": "stream",
     "text": [
      " 82%|████████▏ | 738/900 [01:53<00:28,  5.67it/s]"
     ]
    },
    {
     "name": "stdout",
     "output_type": "stream",
     "text": [
      "[animation.py:358]:DEBUG:MovieWriter.grab_frame: Grabbing frame.\n"
     ]
    },
    {
     "name": "stderr",
     "output_type": "stream",
     "text": [
      " 82%|████████▏ | 739/900 [01:53<00:26,  6.11it/s]"
     ]
    },
    {
     "name": "stdout",
     "output_type": "stream",
     "text": [
      "[animation.py:358]:DEBUG:MovieWriter.grab_frame: Grabbing frame.\n"
     ]
    },
    {
     "name": "stderr",
     "output_type": "stream",
     "text": [
      " 82%|████████▏ | 740/900 [01:53<00:24,  6.47it/s]"
     ]
    },
    {
     "name": "stdout",
     "output_type": "stream",
     "text": [
      "[animation.py:358]:DEBUG:MovieWriter.grab_frame: Grabbing frame.\n"
     ]
    },
    {
     "name": "stderr",
     "output_type": "stream",
     "text": [
      " 82%|████████▏ | 741/900 [01:53<00:23,  6.77it/s]"
     ]
    },
    {
     "name": "stdout",
     "output_type": "stream",
     "text": [
      "[animation.py:358]:DEBUG:MovieWriter.grab_frame: Grabbing frame.\n"
     ]
    },
    {
     "name": "stderr",
     "output_type": "stream",
     "text": [
      " 82%|████████▏ | 742/900 [01:54<00:22,  6.94it/s]"
     ]
    },
    {
     "name": "stdout",
     "output_type": "stream",
     "text": [
      "[animation.py:358]:DEBUG:MovieWriter.grab_frame: Grabbing frame.\n"
     ]
    },
    {
     "name": "stderr",
     "output_type": "stream",
     "text": [
      " 83%|████████▎ | 743/900 [01:54<00:22,  7.11it/s]"
     ]
    },
    {
     "name": "stdout",
     "output_type": "stream",
     "text": [
      "[animation.py:358]:DEBUG:MovieWriter.grab_frame: Grabbing frame.\n"
     ]
    },
    {
     "name": "stderr",
     "output_type": "stream",
     "text": [
      " 83%|████████▎ | 744/900 [01:54<00:21,  7.22it/s]"
     ]
    },
    {
     "name": "stdout",
     "output_type": "stream",
     "text": [
      "[animation.py:358]:DEBUG:MovieWriter.grab_frame: Grabbing frame.\n"
     ]
    },
    {
     "name": "stderr",
     "output_type": "stream",
     "text": [
      " 83%|████████▎ | 745/900 [01:54<00:21,  7.31it/s]"
     ]
    },
    {
     "name": "stdout",
     "output_type": "stream",
     "text": [
      "[animation.py:358]:DEBUG:MovieWriter.grab_frame: Grabbing frame.\n"
     ]
    },
    {
     "name": "stderr",
     "output_type": "stream",
     "text": [
      " 83%|████████▎ | 746/900 [01:54<00:20,  7.40it/s]"
     ]
    },
    {
     "name": "stdout",
     "output_type": "stream",
     "text": [
      "[animation.py:358]:DEBUG:MovieWriter.grab_frame: Grabbing frame.\n"
     ]
    },
    {
     "name": "stderr",
     "output_type": "stream",
     "text": [
      " 83%|████████▎ | 747/900 [01:54<00:20,  7.40it/s]"
     ]
    },
    {
     "name": "stdout",
     "output_type": "stream",
     "text": [
      "[animation.py:358]:DEBUG:MovieWriter.grab_frame: Grabbing frame.\n"
     ]
    },
    {
     "name": "stderr",
     "output_type": "stream",
     "text": [
      " 83%|████████▎ | 748/900 [01:54<00:20,  7.35it/s]"
     ]
    },
    {
     "name": "stdout",
     "output_type": "stream",
     "text": [
      "[animation.py:358]:DEBUG:MovieWriter.grab_frame: Grabbing frame.\n"
     ]
    },
    {
     "name": "stderr",
     "output_type": "stream",
     "text": [
      " 83%|████████▎ | 749/900 [01:55<00:20,  7.35it/s]"
     ]
    },
    {
     "name": "stdout",
     "output_type": "stream",
     "text": [
      "[animation.py:358]:DEBUG:MovieWriter.grab_frame: Grabbing frame.\n"
     ]
    },
    {
     "name": "stderr",
     "output_type": "stream",
     "text": [
      " 83%|████████▎ | 750/900 [01:55<00:33,  4.46it/s]"
     ]
    },
    {
     "name": "stdout",
     "output_type": "stream",
     "text": [
      "[animation.py:358]:DEBUG:MovieWriter.grab_frame: Grabbing frame.\n"
     ]
    },
    {
     "name": "stderr",
     "output_type": "stream",
     "text": [
      " 83%|████████▎ | 751/900 [01:55<00:29,  5.10it/s]"
     ]
    },
    {
     "name": "stdout",
     "output_type": "stream",
     "text": [
      "[animation.py:358]:DEBUG:MovieWriter.grab_frame: Grabbing frame.\n"
     ]
    },
    {
     "name": "stderr",
     "output_type": "stream",
     "text": [
      " 84%|████████▎ | 752/900 [01:55<00:26,  5.65it/s]"
     ]
    },
    {
     "name": "stdout",
     "output_type": "stream",
     "text": [
      "[animation.py:358]:DEBUG:MovieWriter.grab_frame: Grabbing frame.\n"
     ]
    },
    {
     "name": "stderr",
     "output_type": "stream",
     "text": [
      " 84%|████████▎ | 753/900 [01:55<00:24,  6.06it/s]"
     ]
    },
    {
     "name": "stdout",
     "output_type": "stream",
     "text": [
      "[animation.py:358]:DEBUG:MovieWriter.grab_frame: Grabbing frame.\n"
     ]
    },
    {
     "name": "stderr",
     "output_type": "stream",
     "text": [
      " 84%|████████▍ | 754/900 [01:55<00:22,  6.41it/s]"
     ]
    },
    {
     "name": "stdout",
     "output_type": "stream",
     "text": [
      "[animation.py:358]:DEBUG:MovieWriter.grab_frame: Grabbing frame.\n"
     ]
    },
    {
     "name": "stderr",
     "output_type": "stream",
     "text": [
      " 84%|████████▍ | 755/900 [01:56<00:21,  6.72it/s]"
     ]
    },
    {
     "name": "stdout",
     "output_type": "stream",
     "text": [
      "[animation.py:358]:DEBUG:MovieWriter.grab_frame: Grabbing frame.\n"
     ]
    },
    {
     "name": "stderr",
     "output_type": "stream",
     "text": [
      " 84%|████████▍ | 756/900 [01:56<00:20,  6.91it/s]"
     ]
    },
    {
     "name": "stdout",
     "output_type": "stream",
     "text": [
      "[animation.py:358]:DEBUG:MovieWriter.grab_frame: Grabbing frame.\n"
     ]
    },
    {
     "name": "stderr",
     "output_type": "stream",
     "text": [
      " 84%|████████▍ | 757/900 [01:56<00:20,  7.12it/s]"
     ]
    },
    {
     "name": "stdout",
     "output_type": "stream",
     "text": [
      "[animation.py:358]:DEBUG:MovieWriter.grab_frame: Grabbing frame.\n"
     ]
    },
    {
     "name": "stderr",
     "output_type": "stream",
     "text": [
      " 84%|████████▍ | 758/900 [01:56<00:19,  7.24it/s]"
     ]
    },
    {
     "name": "stdout",
     "output_type": "stream",
     "text": [
      "[animation.py:358]:DEBUG:MovieWriter.grab_frame: Grabbing frame.\n"
     ]
    },
    {
     "name": "stderr",
     "output_type": "stream",
     "text": [
      " 84%|████████▍ | 759/900 [01:56<00:19,  7.34it/s]"
     ]
    },
    {
     "name": "stdout",
     "output_type": "stream",
     "text": [
      "[animation.py:358]:DEBUG:MovieWriter.grab_frame: Grabbing frame.\n"
     ]
    },
    {
     "name": "stderr",
     "output_type": "stream",
     "text": [
      " 84%|████████▍ | 760/900 [01:56<00:19,  7.33it/s]"
     ]
    },
    {
     "name": "stdout",
     "output_type": "stream",
     "text": [
      "[animation.py:358]:DEBUG:MovieWriter.grab_frame: Grabbing frame.\n"
     ]
    },
    {
     "name": "stderr",
     "output_type": "stream",
     "text": [
      " 85%|████████▍ | 761/900 [01:56<00:18,  7.40it/s]"
     ]
    },
    {
     "name": "stdout",
     "output_type": "stream",
     "text": [
      "[animation.py:358]:DEBUG:MovieWriter.grab_frame: Grabbing frame.\n"
     ]
    },
    {
     "name": "stderr",
     "output_type": "stream",
     "text": [
      " 85%|████████▍ | 762/900 [01:57<00:18,  7.41it/s]"
     ]
    },
    {
     "name": "stdout",
     "output_type": "stream",
     "text": [
      "[animation.py:358]:DEBUG:MovieWriter.grab_frame: Grabbing frame.\n"
     ]
    },
    {
     "name": "stderr",
     "output_type": "stream",
     "text": [
      " 85%|████████▍ | 763/900 [01:57<00:18,  7.42it/s]"
     ]
    },
    {
     "name": "stdout",
     "output_type": "stream",
     "text": [
      "[animation.py:358]:DEBUG:MovieWriter.grab_frame: Grabbing frame.\n"
     ]
    },
    {
     "name": "stderr",
     "output_type": "stream",
     "text": [
      " 85%|████████▍ | 764/900 [01:57<00:30,  4.45it/s]"
     ]
    },
    {
     "name": "stdout",
     "output_type": "stream",
     "text": [
      "[animation.py:358]:DEBUG:MovieWriter.grab_frame: Grabbing frame.\n"
     ]
    },
    {
     "name": "stderr",
     "output_type": "stream",
     "text": [
      " 85%|████████▌ | 765/900 [01:57<00:26,  5.11it/s]"
     ]
    },
    {
     "name": "stdout",
     "output_type": "stream",
     "text": [
      "[animation.py:358]:DEBUG:MovieWriter.grab_frame: Grabbing frame.\n"
     ]
    },
    {
     "name": "stderr",
     "output_type": "stream",
     "text": [
      " 85%|████████▌ | 766/900 [01:57<00:23,  5.66it/s]"
     ]
    },
    {
     "name": "stdout",
     "output_type": "stream",
     "text": [
      "[animation.py:358]:DEBUG:MovieWriter.grab_frame: Grabbing frame.\n"
     ]
    },
    {
     "name": "stderr",
     "output_type": "stream",
     "text": [
      " 85%|████████▌ | 767/900 [01:58<00:21,  6.12it/s]"
     ]
    },
    {
     "name": "stdout",
     "output_type": "stream",
     "text": [
      "[animation.py:358]:DEBUG:MovieWriter.grab_frame: Grabbing frame.\n"
     ]
    },
    {
     "name": "stderr",
     "output_type": "stream",
     "text": [
      " 85%|████████▌ | 768/900 [01:58<00:20,  6.53it/s]"
     ]
    },
    {
     "name": "stdout",
     "output_type": "stream",
     "text": [
      "[animation.py:358]:DEBUG:MovieWriter.grab_frame: Grabbing frame.\n"
     ]
    },
    {
     "name": "stderr",
     "output_type": "stream",
     "text": [
      " 85%|████████▌ | 769/900 [01:58<00:19,  6.85it/s]"
     ]
    },
    {
     "name": "stdout",
     "output_type": "stream",
     "text": [
      "[animation.py:358]:DEBUG:MovieWriter.grab_frame: Grabbing frame.\n"
     ]
    },
    {
     "name": "stderr",
     "output_type": "stream",
     "text": [
      " 86%|████████▌ | 770/900 [01:58<00:18,  7.05it/s]"
     ]
    },
    {
     "name": "stdout",
     "output_type": "stream",
     "text": [
      "[animation.py:358]:DEBUG:MovieWriter.grab_frame: Grabbing frame.\n"
     ]
    },
    {
     "name": "stderr",
     "output_type": "stream",
     "text": [
      " 86%|████████▌ | 771/900 [01:58<00:17,  7.22it/s]"
     ]
    },
    {
     "name": "stdout",
     "output_type": "stream",
     "text": [
      "[animation.py:358]:DEBUG:MovieWriter.grab_frame: Grabbing frame.\n"
     ]
    },
    {
     "name": "stderr",
     "output_type": "stream",
     "text": [
      " 86%|████████▌ | 772/900 [01:58<00:17,  7.28it/s]"
     ]
    },
    {
     "name": "stdout",
     "output_type": "stream",
     "text": [
      "[animation.py:358]:DEBUG:MovieWriter.grab_frame: Grabbing frame.\n"
     ]
    },
    {
     "name": "stderr",
     "output_type": "stream",
     "text": [
      " 86%|████████▌ | 773/900 [01:58<00:17,  7.37it/s]"
     ]
    },
    {
     "name": "stdout",
     "output_type": "stream",
     "text": [
      "[animation.py:358]:DEBUG:MovieWriter.grab_frame: Grabbing frame.\n"
     ]
    },
    {
     "name": "stderr",
     "output_type": "stream",
     "text": [
      " 86%|████████▌ | 774/900 [01:58<00:17,  7.19it/s]"
     ]
    },
    {
     "name": "stdout",
     "output_type": "stream",
     "text": [
      "[animation.py:358]:DEBUG:MovieWriter.grab_frame: Grabbing frame.\n"
     ]
    },
    {
     "name": "stderr",
     "output_type": "stream",
     "text": [
      " 86%|████████▌ | 775/900 [01:59<00:17,  7.32it/s]"
     ]
    },
    {
     "name": "stdout",
     "output_type": "stream",
     "text": [
      "[animation.py:358]:DEBUG:MovieWriter.grab_frame: Grabbing frame.\n"
     ]
    },
    {
     "name": "stderr",
     "output_type": "stream",
     "text": [
      " 86%|████████▌ | 776/900 [01:59<00:16,  7.36it/s]"
     ]
    },
    {
     "name": "stdout",
     "output_type": "stream",
     "text": [
      "[animation.py:358]:DEBUG:MovieWriter.grab_frame: Grabbing frame.\n"
     ]
    },
    {
     "name": "stderr",
     "output_type": "stream",
     "text": [
      " 86%|████████▋ | 777/900 [01:59<00:16,  7.42it/s]"
     ]
    },
    {
     "name": "stdout",
     "output_type": "stream",
     "text": [
      "[animation.py:358]:DEBUG:MovieWriter.grab_frame: Grabbing frame.\n"
     ]
    },
    {
     "name": "stderr",
     "output_type": "stream",
     "text": [
      " 86%|████████▋ | 778/900 [01:59<00:27,  4.45it/s]"
     ]
    },
    {
     "name": "stdout",
     "output_type": "stream",
     "text": [
      "[animation.py:358]:DEBUG:MovieWriter.grab_frame: Grabbing frame.\n"
     ]
    },
    {
     "name": "stderr",
     "output_type": "stream",
     "text": [
      " 87%|████████▋ | 779/900 [01:59<00:23,  5.12it/s]"
     ]
    },
    {
     "name": "stdout",
     "output_type": "stream",
     "text": [
      "[animation.py:358]:DEBUG:MovieWriter.grab_frame: Grabbing frame.\n"
     ]
    },
    {
     "name": "stderr",
     "output_type": "stream",
     "text": [
      " 87%|████████▋ | 780/900 [02:00<00:21,  5.70it/s]"
     ]
    },
    {
     "name": "stdout",
     "output_type": "stream",
     "text": [
      "[animation.py:358]:DEBUG:MovieWriter.grab_frame: Grabbing frame.\n"
     ]
    },
    {
     "name": "stderr",
     "output_type": "stream",
     "text": [
      " 87%|████████▋ | 781/900 [02:00<00:19,  6.20it/s]"
     ]
    },
    {
     "name": "stdout",
     "output_type": "stream",
     "text": [
      "[animation.py:358]:DEBUG:MovieWriter.grab_frame: Grabbing frame.\n"
     ]
    },
    {
     "name": "stderr",
     "output_type": "stream",
     "text": [
      " 87%|████████▋ | 782/900 [02:00<00:18,  6.51it/s]"
     ]
    },
    {
     "name": "stdout",
     "output_type": "stream",
     "text": [
      "[animation.py:358]:DEBUG:MovieWriter.grab_frame: Grabbing frame.\n"
     ]
    },
    {
     "name": "stderr",
     "output_type": "stream",
     "text": [
      " 87%|████████▋ | 783/900 [02:00<00:17,  6.82it/s]"
     ]
    },
    {
     "name": "stdout",
     "output_type": "stream",
     "text": [
      "[animation.py:358]:DEBUG:MovieWriter.grab_frame: Grabbing frame.\n"
     ]
    },
    {
     "name": "stderr",
     "output_type": "stream",
     "text": [
      " 87%|████████▋ | 784/900 [02:00<00:16,  7.07it/s]"
     ]
    },
    {
     "name": "stdout",
     "output_type": "stream",
     "text": [
      "[animation.py:358]:DEBUG:MovieWriter.grab_frame: Grabbing frame.\n"
     ]
    },
    {
     "name": "stderr",
     "output_type": "stream",
     "text": [
      " 87%|████████▋ | 785/900 [02:00<00:15,  7.24it/s]"
     ]
    },
    {
     "name": "stdout",
     "output_type": "stream",
     "text": [
      "[animation.py:358]:DEBUG:MovieWriter.grab_frame: Grabbing frame.\n"
     ]
    },
    {
     "name": "stderr",
     "output_type": "stream",
     "text": [
      " 87%|████████▋ | 786/900 [02:00<00:15,  7.35it/s]"
     ]
    },
    {
     "name": "stdout",
     "output_type": "stream",
     "text": [
      "[animation.py:358]:DEBUG:MovieWriter.grab_frame: Grabbing frame.\n"
     ]
    },
    {
     "name": "stderr",
     "output_type": "stream",
     "text": [
      " 87%|████████▋ | 787/900 [02:00<00:15,  7.43it/s]"
     ]
    },
    {
     "name": "stdout",
     "output_type": "stream",
     "text": [
      "[animation.py:358]:DEBUG:MovieWriter.grab_frame: Grabbing frame.\n"
     ]
    },
    {
     "name": "stderr",
     "output_type": "stream",
     "text": [
      " 88%|████████▊ | 788/900 [02:01<00:14,  7.51it/s]"
     ]
    },
    {
     "name": "stdout",
     "output_type": "stream",
     "text": [
      "[animation.py:358]:DEBUG:MovieWriter.grab_frame: Grabbing frame.\n"
     ]
    },
    {
     "name": "stderr",
     "output_type": "stream",
     "text": [
      " 88%|████████▊ | 789/900 [02:01<00:14,  7.52it/s]"
     ]
    },
    {
     "name": "stdout",
     "output_type": "stream",
     "text": [
      "[animation.py:358]:DEBUG:MovieWriter.grab_frame: Grabbing frame.\n"
     ]
    },
    {
     "name": "stderr",
     "output_type": "stream",
     "text": [
      " 88%|████████▊ | 790/900 [02:01<00:14,  7.47it/s]"
     ]
    },
    {
     "name": "stdout",
     "output_type": "stream",
     "text": [
      "[animation.py:358]:DEBUG:MovieWriter.grab_frame: Grabbing frame.\n"
     ]
    },
    {
     "name": "stderr",
     "output_type": "stream",
     "text": [
      " 88%|████████▊ | 791/900 [02:01<00:14,  7.50it/s]"
     ]
    },
    {
     "name": "stdout",
     "output_type": "stream",
     "text": [
      "[animation.py:358]:DEBUG:MovieWriter.grab_frame: Grabbing frame.\n"
     ]
    },
    {
     "name": "stderr",
     "output_type": "stream",
     "text": [
      " 88%|████████▊ | 792/900 [02:01<00:14,  7.47it/s]"
     ]
    },
    {
     "name": "stdout",
     "output_type": "stream",
     "text": [
      "[animation.py:358]:DEBUG:MovieWriter.grab_frame: Grabbing frame.\n"
     ]
    },
    {
     "name": "stderr",
     "output_type": "stream",
     "text": [
      " 88%|████████▊ | 793/900 [02:02<00:23,  4.49it/s]"
     ]
    },
    {
     "name": "stdout",
     "output_type": "stream",
     "text": [
      "[animation.py:358]:DEBUG:MovieWriter.grab_frame: Grabbing frame.\n"
     ]
    },
    {
     "name": "stderr",
     "output_type": "stream",
     "text": [
      " 88%|████████▊ | 794/900 [02:02<00:20,  5.13it/s]"
     ]
    },
    {
     "name": "stdout",
     "output_type": "stream",
     "text": [
      "[animation.py:358]:DEBUG:MovieWriter.grab_frame: Grabbing frame.\n"
     ]
    },
    {
     "name": "stderr",
     "output_type": "stream",
     "text": [
      " 88%|████████▊ | 795/900 [02:02<00:18,  5.71it/s]"
     ]
    },
    {
     "name": "stdout",
     "output_type": "stream",
     "text": [
      "[animation.py:358]:DEBUG:MovieWriter.grab_frame: Grabbing frame.\n"
     ]
    },
    {
     "name": "stderr",
     "output_type": "stream",
     "text": [
      " 88%|████████▊ | 796/900 [02:02<00:16,  6.21it/s]"
     ]
    },
    {
     "name": "stdout",
     "output_type": "stream",
     "text": [
      "[animation.py:358]:DEBUG:MovieWriter.grab_frame: Grabbing frame.\n"
     ]
    },
    {
     "name": "stderr",
     "output_type": "stream",
     "text": [
      " 89%|████████▊ | 797/900 [02:02<00:15,  6.57it/s]"
     ]
    },
    {
     "name": "stdout",
     "output_type": "stream",
     "text": [
      "[animation.py:358]:DEBUG:MovieWriter.grab_frame: Grabbing frame.\n"
     ]
    },
    {
     "name": "stderr",
     "output_type": "stream",
     "text": [
      " 89%|████████▊ | 798/900 [02:02<00:14,  6.85it/s]"
     ]
    },
    {
     "name": "stdout",
     "output_type": "stream",
     "text": [
      "[animation.py:358]:DEBUG:MovieWriter.grab_frame: Grabbing frame.\n"
     ]
    },
    {
     "name": "stderr",
     "output_type": "stream",
     "text": [
      " 89%|████████▉ | 799/900 [02:02<00:14,  7.07it/s]"
     ]
    },
    {
     "name": "stdout",
     "output_type": "stream",
     "text": [
      "[animation.py:358]:DEBUG:MovieWriter.grab_frame: Grabbing frame.\n"
     ]
    },
    {
     "name": "stderr",
     "output_type": "stream",
     "text": [
      " 89%|████████▉ | 800/900 [02:02<00:13,  7.20it/s]"
     ]
    },
    {
     "name": "stdout",
     "output_type": "stream",
     "text": [
      "[animation.py:358]:DEBUG:MovieWriter.grab_frame: Grabbing frame.\n"
     ]
    },
    {
     "name": "stderr",
     "output_type": "stream",
     "text": [
      " 89%|████████▉ | 801/900 [02:03<00:13,  7.33it/s]"
     ]
    },
    {
     "name": "stdout",
     "output_type": "stream",
     "text": [
      "[animation.py:358]:DEBUG:MovieWriter.grab_frame: Grabbing frame.\n"
     ]
    },
    {
     "name": "stderr",
     "output_type": "stream",
     "text": [
      " 89%|████████▉ | 802/900 [02:03<00:13,  7.41it/s]"
     ]
    },
    {
     "name": "stdout",
     "output_type": "stream",
     "text": [
      "[animation.py:358]:DEBUG:MovieWriter.grab_frame: Grabbing frame.\n"
     ]
    },
    {
     "name": "stderr",
     "output_type": "stream",
     "text": [
      " 89%|████████▉ | 803/900 [02:03<00:13,  7.44it/s]"
     ]
    },
    {
     "name": "stdout",
     "output_type": "stream",
     "text": [
      "[animation.py:358]:DEBUG:MovieWriter.grab_frame: Grabbing frame.\n"
     ]
    },
    {
     "name": "stderr",
     "output_type": "stream",
     "text": [
      " 89%|████████▉ | 804/900 [02:03<00:12,  7.44it/s]"
     ]
    },
    {
     "name": "stdout",
     "output_type": "stream",
     "text": [
      "[animation.py:358]:DEBUG:MovieWriter.grab_frame: Grabbing frame.\n"
     ]
    },
    {
     "name": "stderr",
     "output_type": "stream",
     "text": [
      " 89%|████████▉ | 805/900 [02:03<00:12,  7.46it/s]"
     ]
    },
    {
     "name": "stdout",
     "output_type": "stream",
     "text": [
      "[animation.py:358]:DEBUG:MovieWriter.grab_frame: Grabbing frame.\n"
     ]
    },
    {
     "name": "stderr",
     "output_type": "stream",
     "text": [
      " 90%|████████▉ | 806/900 [02:03<00:12,  7.44it/s]"
     ]
    },
    {
     "name": "stdout",
     "output_type": "stream",
     "text": [
      "[animation.py:358]:DEBUG:MovieWriter.grab_frame: Grabbing frame.\n"
     ]
    },
    {
     "name": "stderr",
     "output_type": "stream",
     "text": [
      " 90%|████████▉ | 807/900 [02:04<00:20,  4.47it/s]"
     ]
    },
    {
     "name": "stdout",
     "output_type": "stream",
     "text": [
      "[animation.py:358]:DEBUG:MovieWriter.grab_frame: Grabbing frame.\n"
     ]
    },
    {
     "name": "stderr",
     "output_type": "stream",
     "text": [
      " 90%|████████▉ | 808/900 [02:04<00:17,  5.14it/s]"
     ]
    },
    {
     "name": "stdout",
     "output_type": "stream",
     "text": [
      "[animation.py:358]:DEBUG:MovieWriter.grab_frame: Grabbing frame.\n"
     ]
    },
    {
     "name": "stderr",
     "output_type": "stream",
     "text": [
      " 90%|████████▉ | 809/900 [02:04<00:15,  5.72it/s]"
     ]
    },
    {
     "name": "stdout",
     "output_type": "stream",
     "text": [
      "[animation.py:358]:DEBUG:MovieWriter.grab_frame: Grabbing frame.\n"
     ]
    },
    {
     "name": "stderr",
     "output_type": "stream",
     "text": [
      " 90%|█████████ | 810/900 [02:04<00:14,  6.18it/s]"
     ]
    },
    {
     "name": "stdout",
     "output_type": "stream",
     "text": [
      "[animation.py:358]:DEBUG:MovieWriter.grab_frame: Grabbing frame.\n"
     ]
    },
    {
     "name": "stderr",
     "output_type": "stream",
     "text": [
      " 90%|█████████ | 811/900 [02:04<00:13,  6.56it/s]"
     ]
    },
    {
     "name": "stdout",
     "output_type": "stream",
     "text": [
      "[animation.py:358]:DEBUG:MovieWriter.grab_frame: Grabbing frame.\n"
     ]
    },
    {
     "name": "stderr",
     "output_type": "stream",
     "text": [
      " 90%|█████████ | 812/900 [02:04<00:12,  6.85it/s]"
     ]
    },
    {
     "name": "stdout",
     "output_type": "stream",
     "text": [
      "[animation.py:358]:DEBUG:MovieWriter.grab_frame: Grabbing frame.\n"
     ]
    },
    {
     "name": "stderr",
     "output_type": "stream",
     "text": [
      " 90%|█████████ | 813/900 [02:04<00:12,  7.06it/s]"
     ]
    },
    {
     "name": "stdout",
     "output_type": "stream",
     "text": [
      "[animation.py:358]:DEBUG:MovieWriter.grab_frame: Grabbing frame.\n"
     ]
    },
    {
     "name": "stderr",
     "output_type": "stream",
     "text": [
      " 90%|█████████ | 814/900 [02:05<00:11,  7.18it/s]"
     ]
    },
    {
     "name": "stdout",
     "output_type": "stream",
     "text": [
      "[animation.py:358]:DEBUG:MovieWriter.grab_frame: Grabbing frame.\n"
     ]
    },
    {
     "name": "stderr",
     "output_type": "stream",
     "text": [
      " 91%|█████████ | 815/900 [02:05<00:11,  7.31it/s]"
     ]
    },
    {
     "name": "stdout",
     "output_type": "stream",
     "text": [
      "[animation.py:358]:DEBUG:MovieWriter.grab_frame: Grabbing frame.\n"
     ]
    },
    {
     "name": "stderr",
     "output_type": "stream",
     "text": [
      " 91%|█████████ | 816/900 [02:05<00:11,  7.41it/s]"
     ]
    },
    {
     "name": "stdout",
     "output_type": "stream",
     "text": [
      "[animation.py:358]:DEBUG:MovieWriter.grab_frame: Grabbing frame.\n"
     ]
    },
    {
     "name": "stderr",
     "output_type": "stream",
     "text": [
      " 91%|█████████ | 817/900 [02:05<00:11,  7.39it/s]"
     ]
    },
    {
     "name": "stdout",
     "output_type": "stream",
     "text": [
      "[animation.py:358]:DEBUG:MovieWriter.grab_frame: Grabbing frame.\n"
     ]
    },
    {
     "name": "stderr",
     "output_type": "stream",
     "text": [
      " 91%|█████████ | 818/900 [02:05<00:11,  7.42it/s]"
     ]
    },
    {
     "name": "stdout",
     "output_type": "stream",
     "text": [
      "[animation.py:358]:DEBUG:MovieWriter.grab_frame: Grabbing frame.\n"
     ]
    },
    {
     "name": "stderr",
     "output_type": "stream",
     "text": [
      " 91%|█████████ | 819/900 [02:05<00:10,  7.45it/s]"
     ]
    },
    {
     "name": "stdout",
     "output_type": "stream",
     "text": [
      "[animation.py:358]:DEBUG:MovieWriter.grab_frame: Grabbing frame.\n"
     ]
    },
    {
     "name": "stderr",
     "output_type": "stream",
     "text": [
      " 91%|█████████ | 820/900 [02:05<00:10,  7.46it/s]"
     ]
    },
    {
     "name": "stdout",
     "output_type": "stream",
     "text": [
      "[animation.py:358]:DEBUG:MovieWriter.grab_frame: Grabbing frame.\n"
     ]
    },
    {
     "name": "stderr",
     "output_type": "stream",
     "text": [
      " 91%|█████████ | 821/900 [02:06<00:10,  7.45it/s]"
     ]
    },
    {
     "name": "stdout",
     "output_type": "stream",
     "text": [
      "[animation.py:358]:DEBUG:MovieWriter.grab_frame: Grabbing frame.\n"
     ]
    },
    {
     "name": "stderr",
     "output_type": "stream",
     "text": [
      " 91%|█████████▏| 822/900 [02:06<00:17,  4.53it/s]"
     ]
    },
    {
     "name": "stdout",
     "output_type": "stream",
     "text": [
      "[animation.py:358]:DEBUG:MovieWriter.grab_frame: Grabbing frame.\n"
     ]
    },
    {
     "name": "stderr",
     "output_type": "stream",
     "text": [
      " 91%|█████████▏| 823/900 [02:06<00:14,  5.16it/s]"
     ]
    },
    {
     "name": "stdout",
     "output_type": "stream",
     "text": [
      "[animation.py:358]:DEBUG:MovieWriter.grab_frame: Grabbing frame.\n"
     ]
    },
    {
     "name": "stderr",
     "output_type": "stream",
     "text": [
      " 92%|█████████▏| 824/900 [02:06<00:13,  5.73it/s]"
     ]
    },
    {
     "name": "stdout",
     "output_type": "stream",
     "text": [
      "[animation.py:358]:DEBUG:MovieWriter.grab_frame: Grabbing frame.\n"
     ]
    },
    {
     "name": "stderr",
     "output_type": "stream",
     "text": [
      " 92%|█████████▏| 825/900 [02:06<00:12,  6.20it/s]"
     ]
    },
    {
     "name": "stdout",
     "output_type": "stream",
     "text": [
      "[animation.py:358]:DEBUG:MovieWriter.grab_frame: Grabbing frame.\n"
     ]
    },
    {
     "name": "stderr",
     "output_type": "stream",
     "text": [
      " 92%|█████████▏| 826/900 [02:06<00:11,  6.55it/s]"
     ]
    },
    {
     "name": "stdout",
     "output_type": "stream",
     "text": [
      "[animation.py:358]:DEBUG:MovieWriter.grab_frame: Grabbing frame.\n"
     ]
    },
    {
     "name": "stderr",
     "output_type": "stream",
     "text": [
      " 92%|█████████▏| 827/900 [02:07<00:10,  6.86it/s]"
     ]
    },
    {
     "name": "stdout",
     "output_type": "stream",
     "text": [
      "[animation.py:358]:DEBUG:MovieWriter.grab_frame: Grabbing frame.\n"
     ]
    },
    {
     "name": "stderr",
     "output_type": "stream",
     "text": [
      " 92%|█████████▏| 828/900 [02:07<00:10,  7.09it/s]"
     ]
    },
    {
     "name": "stdout",
     "output_type": "stream",
     "text": [
      "[animation.py:358]:DEBUG:MovieWriter.grab_frame: Grabbing frame.\n"
     ]
    },
    {
     "name": "stderr",
     "output_type": "stream",
     "text": [
      " 92%|█████████▏| 829/900 [02:07<00:09,  7.23it/s]"
     ]
    },
    {
     "name": "stdout",
     "output_type": "stream",
     "text": [
      "[animation.py:358]:DEBUG:MovieWriter.grab_frame: Grabbing frame.\n"
     ]
    },
    {
     "name": "stderr",
     "output_type": "stream",
     "text": [
      " 92%|█████████▏| 830/900 [02:07<00:09,  7.35it/s]"
     ]
    },
    {
     "name": "stdout",
     "output_type": "stream",
     "text": [
      "[animation.py:358]:DEBUG:MovieWriter.grab_frame: Grabbing frame.\n"
     ]
    },
    {
     "name": "stderr",
     "output_type": "stream",
     "text": [
      " 92%|█████████▏| 831/900 [02:07<00:09,  7.27it/s]"
     ]
    },
    {
     "name": "stdout",
     "output_type": "stream",
     "text": [
      "[animation.py:358]:DEBUG:MovieWriter.grab_frame: Grabbing frame.\n"
     ]
    },
    {
     "name": "stderr",
     "output_type": "stream",
     "text": [
      " 92%|█████████▏| 832/900 [02:07<00:09,  7.35it/s]"
     ]
    },
    {
     "name": "stdout",
     "output_type": "stream",
     "text": [
      "[animation.py:358]:DEBUG:MovieWriter.grab_frame: Grabbing frame.\n"
     ]
    },
    {
     "name": "stderr",
     "output_type": "stream",
     "text": [
      " 93%|█████████▎| 833/900 [02:07<00:09,  7.39it/s]"
     ]
    },
    {
     "name": "stdout",
     "output_type": "stream",
     "text": [
      "[animation.py:358]:DEBUG:MovieWriter.grab_frame: Grabbing frame.\n"
     ]
    },
    {
     "name": "stderr",
     "output_type": "stream",
     "text": [
      " 93%|█████████▎| 834/900 [02:08<00:08,  7.40it/s]"
     ]
    },
    {
     "name": "stdout",
     "output_type": "stream",
     "text": [
      "[animation.py:358]:DEBUG:MovieWriter.grab_frame: Grabbing frame.\n"
     ]
    },
    {
     "name": "stderr",
     "output_type": "stream",
     "text": [
      " 93%|█████████▎| 835/900 [02:08<00:08,  7.44it/s]"
     ]
    },
    {
     "name": "stdout",
     "output_type": "stream",
     "text": [
      "[animation.py:358]:DEBUG:MovieWriter.grab_frame: Grabbing frame.\n"
     ]
    },
    {
     "name": "stderr",
     "output_type": "stream",
     "text": [
      " 93%|█████████▎| 836/900 [02:08<00:14,  4.56it/s]"
     ]
    },
    {
     "name": "stdout",
     "output_type": "stream",
     "text": [
      "[animation.py:358]:DEBUG:MovieWriter.grab_frame: Grabbing frame.\n"
     ]
    },
    {
     "name": "stderr",
     "output_type": "stream",
     "text": [
      " 93%|█████████▎| 837/900 [02:08<00:12,  5.22it/s]"
     ]
    },
    {
     "name": "stdout",
     "output_type": "stream",
     "text": [
      "[animation.py:358]:DEBUG:MovieWriter.grab_frame: Grabbing frame.\n"
     ]
    },
    {
     "name": "stderr",
     "output_type": "stream",
     "text": [
      " 93%|█████████▎| 838/900 [02:08<00:10,  5.77it/s]"
     ]
    },
    {
     "name": "stdout",
     "output_type": "stream",
     "text": [
      "[animation.py:358]:DEBUG:MovieWriter.grab_frame: Grabbing frame.\n"
     ]
    },
    {
     "name": "stderr",
     "output_type": "stream",
     "text": [
      " 93%|█████████▎| 839/900 [02:08<00:09,  6.28it/s]"
     ]
    },
    {
     "name": "stdout",
     "output_type": "stream",
     "text": [
      "[animation.py:358]:DEBUG:MovieWriter.grab_frame: Grabbing frame.\n"
     ]
    },
    {
     "name": "stderr",
     "output_type": "stream",
     "text": [
      " 93%|█████████▎| 840/900 [02:09<00:09,  6.66it/s]"
     ]
    },
    {
     "name": "stdout",
     "output_type": "stream",
     "text": [
      "[animation.py:358]:DEBUG:MovieWriter.grab_frame: Grabbing frame.\n"
     ]
    },
    {
     "name": "stderr",
     "output_type": "stream",
     "text": [
      " 93%|█████████▎| 841/900 [02:09<00:08,  6.96it/s]"
     ]
    },
    {
     "name": "stdout",
     "output_type": "stream",
     "text": [
      "[animation.py:358]:DEBUG:MovieWriter.grab_frame: Grabbing frame.\n"
     ]
    },
    {
     "name": "stderr",
     "output_type": "stream",
     "text": [
      " 94%|█████████▎| 842/900 [02:09<00:08,  7.10it/s]"
     ]
    },
    {
     "name": "stdout",
     "output_type": "stream",
     "text": [
      "[animation.py:358]:DEBUG:MovieWriter.grab_frame: Grabbing frame.\n"
     ]
    },
    {
     "name": "stderr",
     "output_type": "stream",
     "text": [
      " 94%|█████████▎| 843/900 [02:09<00:07,  7.26it/s]"
     ]
    },
    {
     "name": "stdout",
     "output_type": "stream",
     "text": [
      "[animation.py:358]:DEBUG:MovieWriter.grab_frame: Grabbing frame.\n"
     ]
    },
    {
     "name": "stderr",
     "output_type": "stream",
     "text": [
      " 94%|█████████▍| 844/900 [02:09<00:07,  7.39it/s]"
     ]
    },
    {
     "name": "stdout",
     "output_type": "stream",
     "text": [
      "[animation.py:358]:DEBUG:MovieWriter.grab_frame: Grabbing frame.\n"
     ]
    },
    {
     "name": "stderr",
     "output_type": "stream",
     "text": [
      " 94%|█████████▍| 845/900 [02:09<00:07,  7.47it/s]"
     ]
    },
    {
     "name": "stdout",
     "output_type": "stream",
     "text": [
      "[animation.py:358]:DEBUG:MovieWriter.grab_frame: Grabbing frame.\n"
     ]
    },
    {
     "name": "stderr",
     "output_type": "stream",
     "text": [
      " 94%|█████████▍| 846/900 [02:09<00:07,  7.46it/s]"
     ]
    },
    {
     "name": "stdout",
     "output_type": "stream",
     "text": [
      "[animation.py:358]:DEBUG:MovieWriter.grab_frame: Grabbing frame.\n"
     ]
    },
    {
     "name": "stderr",
     "output_type": "stream",
     "text": [
      " 94%|█████████▍| 847/900 [02:10<00:07,  7.48it/s]"
     ]
    },
    {
     "name": "stdout",
     "output_type": "stream",
     "text": [
      "[animation.py:358]:DEBUG:MovieWriter.grab_frame: Grabbing frame.\n"
     ]
    },
    {
     "name": "stderr",
     "output_type": "stream",
     "text": [
      " 94%|█████████▍| 848/900 [02:10<00:06,  7.50it/s]"
     ]
    },
    {
     "name": "stdout",
     "output_type": "stream",
     "text": [
      "[animation.py:358]:DEBUG:MovieWriter.grab_frame: Grabbing frame.\n"
     ]
    },
    {
     "name": "stderr",
     "output_type": "stream",
     "text": [
      " 94%|█████████▍| 849/900 [02:10<00:06,  7.55it/s]"
     ]
    },
    {
     "name": "stdout",
     "output_type": "stream",
     "text": [
      "[animation.py:358]:DEBUG:MovieWriter.grab_frame: Grabbing frame.\n"
     ]
    },
    {
     "name": "stderr",
     "output_type": "stream",
     "text": [
      " 94%|█████████▍| 850/900 [02:10<00:10,  4.58it/s]"
     ]
    },
    {
     "name": "stdout",
     "output_type": "stream",
     "text": [
      "[animation.py:358]:DEBUG:MovieWriter.grab_frame: Grabbing frame.\n"
     ]
    },
    {
     "name": "stderr",
     "output_type": "stream",
     "text": [
      " 95%|█████████▍| 851/900 [02:10<00:09,  5.22it/s]"
     ]
    },
    {
     "name": "stdout",
     "output_type": "stream",
     "text": [
      "[animation.py:358]:DEBUG:MovieWriter.grab_frame: Grabbing frame.\n"
     ]
    },
    {
     "name": "stderr",
     "output_type": "stream",
     "text": [
      " 95%|█████████▍| 852/900 [02:10<00:08,  5.77it/s]"
     ]
    },
    {
     "name": "stdout",
     "output_type": "stream",
     "text": [
      "[animation.py:358]:DEBUG:MovieWriter.grab_frame: Grabbing frame.\n"
     ]
    },
    {
     "name": "stderr",
     "output_type": "stream",
     "text": [
      " 95%|█████████▍| 853/900 [02:11<00:07,  6.22it/s]"
     ]
    },
    {
     "name": "stdout",
     "output_type": "stream",
     "text": [
      "[animation.py:358]:DEBUG:MovieWriter.grab_frame: Grabbing frame.\n"
     ]
    },
    {
     "name": "stderr",
     "output_type": "stream",
     "text": [
      " 95%|█████████▍| 854/900 [02:11<00:06,  6.58it/s]"
     ]
    },
    {
     "name": "stdout",
     "output_type": "stream",
     "text": [
      "[animation.py:358]:DEBUG:MovieWriter.grab_frame: Grabbing frame.\n"
     ]
    },
    {
     "name": "stderr",
     "output_type": "stream",
     "text": [
      " 95%|█████████▌| 855/900 [02:11<00:06,  6.87it/s]"
     ]
    },
    {
     "name": "stdout",
     "output_type": "stream",
     "text": [
      "[animation.py:358]:DEBUG:MovieWriter.grab_frame: Grabbing frame.\n"
     ]
    },
    {
     "name": "stderr",
     "output_type": "stream",
     "text": [
      " 95%|█████████▌| 856/900 [02:11<00:06,  7.07it/s]"
     ]
    },
    {
     "name": "stdout",
     "output_type": "stream",
     "text": [
      "[animation.py:358]:DEBUG:MovieWriter.grab_frame: Grabbing frame.\n"
     ]
    },
    {
     "name": "stderr",
     "output_type": "stream",
     "text": [
      " 95%|█████████▌| 857/900 [02:11<00:05,  7.22it/s]"
     ]
    },
    {
     "name": "stdout",
     "output_type": "stream",
     "text": [
      "[animation.py:358]:DEBUG:MovieWriter.grab_frame: Grabbing frame.\n"
     ]
    },
    {
     "name": "stderr",
     "output_type": "stream",
     "text": [
      " 95%|█████████▌| 858/900 [02:11<00:05,  7.27it/s]"
     ]
    },
    {
     "name": "stdout",
     "output_type": "stream",
     "text": [
      "[animation.py:358]:DEBUG:MovieWriter.grab_frame: Grabbing frame.\n"
     ]
    },
    {
     "name": "stderr",
     "output_type": "stream",
     "text": [
      " 95%|█████████▌| 859/900 [02:11<00:05,  7.31it/s]"
     ]
    },
    {
     "name": "stdout",
     "output_type": "stream",
     "text": [
      "[animation.py:358]:DEBUG:MovieWriter.grab_frame: Grabbing frame.\n"
     ]
    },
    {
     "name": "stderr",
     "output_type": "stream",
     "text": [
      " 96%|█████████▌| 860/900 [02:12<00:05,  7.35it/s]"
     ]
    },
    {
     "name": "stdout",
     "output_type": "stream",
     "text": [
      "[animation.py:358]:DEBUG:MovieWriter.grab_frame: Grabbing frame.\n"
     ]
    },
    {
     "name": "stderr",
     "output_type": "stream",
     "text": [
      " 96%|█████████▌| 861/900 [02:12<00:05,  7.43it/s]"
     ]
    },
    {
     "name": "stdout",
     "output_type": "stream",
     "text": [
      "[animation.py:358]:DEBUG:MovieWriter.grab_frame: Grabbing frame.\n"
     ]
    },
    {
     "name": "stderr",
     "output_type": "stream",
     "text": [
      " 96%|█████████▌| 862/900 [02:12<00:05,  7.51it/s]"
     ]
    },
    {
     "name": "stdout",
     "output_type": "stream",
     "text": [
      "[animation.py:358]:DEBUG:MovieWriter.grab_frame: Grabbing frame.\n"
     ]
    },
    {
     "name": "stderr",
     "output_type": "stream",
     "text": [
      " 96%|█████████▌| 863/900 [02:12<00:04,  7.49it/s]"
     ]
    },
    {
     "name": "stdout",
     "output_type": "stream",
     "text": [
      "[animation.py:358]:DEBUG:MovieWriter.grab_frame: Grabbing frame.\n"
     ]
    },
    {
     "name": "stderr",
     "output_type": "stream",
     "text": [
      " 96%|█████████▌| 864/900 [02:12<00:07,  4.51it/s]"
     ]
    },
    {
     "name": "stdout",
     "output_type": "stream",
     "text": [
      "[animation.py:358]:DEBUG:MovieWriter.grab_frame: Grabbing frame.\n"
     ]
    },
    {
     "name": "stderr",
     "output_type": "stream",
     "text": [
      " 96%|█████████▌| 865/900 [02:12<00:06,  5.19it/s]"
     ]
    },
    {
     "name": "stdout",
     "output_type": "stream",
     "text": [
      "[animation.py:358]:DEBUG:MovieWriter.grab_frame: Grabbing frame.\n"
     ]
    },
    {
     "name": "stderr",
     "output_type": "stream",
     "text": [
      " 96%|█████████▌| 866/900 [02:13<00:05,  5.76it/s]"
     ]
    },
    {
     "name": "stdout",
     "output_type": "stream",
     "text": [
      "[animation.py:358]:DEBUG:MovieWriter.grab_frame: Grabbing frame.\n"
     ]
    },
    {
     "name": "stderr",
     "output_type": "stream",
     "text": [
      " 96%|█████████▋| 867/900 [02:13<00:05,  6.26it/s]"
     ]
    },
    {
     "name": "stdout",
     "output_type": "stream",
     "text": [
      "[animation.py:358]:DEBUG:MovieWriter.grab_frame: Grabbing frame.\n"
     ]
    },
    {
     "name": "stderr",
     "output_type": "stream",
     "text": [
      " 96%|█████████▋| 868/900 [02:13<00:04,  6.64it/s]"
     ]
    },
    {
     "name": "stdout",
     "output_type": "stream",
     "text": [
      "[animation.py:358]:DEBUG:MovieWriter.grab_frame: Grabbing frame.\n"
     ]
    },
    {
     "name": "stderr",
     "output_type": "stream",
     "text": [
      " 97%|█████████▋| 869/900 [02:13<00:04,  6.95it/s]"
     ]
    },
    {
     "name": "stdout",
     "output_type": "stream",
     "text": [
      "[animation.py:358]:DEBUG:MovieWriter.grab_frame: Grabbing frame.\n"
     ]
    },
    {
     "name": "stderr",
     "output_type": "stream",
     "text": [
      " 97%|█████████▋| 870/900 [02:13<00:04,  7.18it/s]"
     ]
    },
    {
     "name": "stdout",
     "output_type": "stream",
     "text": [
      "[animation.py:358]:DEBUG:MovieWriter.grab_frame: Grabbing frame.\n"
     ]
    },
    {
     "name": "stderr",
     "output_type": "stream",
     "text": [
      " 97%|█████████▋| 871/900 [02:13<00:03,  7.32it/s]"
     ]
    },
    {
     "name": "stdout",
     "output_type": "stream",
     "text": [
      "[animation.py:358]:DEBUG:MovieWriter.grab_frame: Grabbing frame.\n"
     ]
    },
    {
     "name": "stderr",
     "output_type": "stream",
     "text": [
      " 97%|█████████▋| 872/900 [02:13<00:03,  7.34it/s]"
     ]
    },
    {
     "name": "stdout",
     "output_type": "stream",
     "text": [
      "[animation.py:358]:DEBUG:MovieWriter.grab_frame: Grabbing frame.\n"
     ]
    },
    {
     "name": "stderr",
     "output_type": "stream",
     "text": [
      " 97%|█████████▋| 873/900 [02:14<00:03,  7.41it/s]"
     ]
    },
    {
     "name": "stdout",
     "output_type": "stream",
     "text": [
      "[animation.py:358]:DEBUG:MovieWriter.grab_frame: Grabbing frame.\n"
     ]
    },
    {
     "name": "stderr",
     "output_type": "stream",
     "text": [
      " 97%|█████████▋| 874/900 [02:14<00:03,  7.41it/s]"
     ]
    },
    {
     "name": "stdout",
     "output_type": "stream",
     "text": [
      "[animation.py:358]:DEBUG:MovieWriter.grab_frame: Grabbing frame.\n"
     ]
    },
    {
     "name": "stderr",
     "output_type": "stream",
     "text": [
      " 97%|█████████▋| 875/900 [02:14<00:03,  7.47it/s]"
     ]
    },
    {
     "name": "stdout",
     "output_type": "stream",
     "text": [
      "[animation.py:358]:DEBUG:MovieWriter.grab_frame: Grabbing frame.\n"
     ]
    },
    {
     "name": "stderr",
     "output_type": "stream",
     "text": [
      " 97%|█████████▋| 876/900 [02:14<00:03,  7.48it/s]"
     ]
    },
    {
     "name": "stdout",
     "output_type": "stream",
     "text": [
      "[animation.py:358]:DEBUG:MovieWriter.grab_frame: Grabbing frame.\n"
     ]
    },
    {
     "name": "stderr",
     "output_type": "stream",
     "text": [
      " 97%|█████████▋| 877/900 [02:14<00:03,  7.50it/s]"
     ]
    },
    {
     "name": "stdout",
     "output_type": "stream",
     "text": [
      "[animation.py:358]:DEBUG:MovieWriter.grab_frame: Grabbing frame.\n"
     ]
    },
    {
     "name": "stderr",
     "output_type": "stream",
     "text": [
      " 98%|█████████▊| 878/900 [02:14<00:02,  7.53it/s]"
     ]
    },
    {
     "name": "stdout",
     "output_type": "stream",
     "text": [
      "[animation.py:358]:DEBUG:MovieWriter.grab_frame: Grabbing frame.\n"
     ]
    },
    {
     "name": "stderr",
     "output_type": "stream",
     "text": [
      " 98%|█████████▊| 879/900 [02:15<00:04,  4.57it/s]"
     ]
    },
    {
     "name": "stdout",
     "output_type": "stream",
     "text": [
      "[animation.py:358]:DEBUG:MovieWriter.grab_frame: Grabbing frame.\n"
     ]
    },
    {
     "name": "stderr",
     "output_type": "stream",
     "text": [
      " 98%|█████████▊| 880/900 [02:15<00:03,  5.23it/s]"
     ]
    },
    {
     "name": "stdout",
     "output_type": "stream",
     "text": [
      "[animation.py:358]:DEBUG:MovieWriter.grab_frame: Grabbing frame.\n"
     ]
    },
    {
     "name": "stderr",
     "output_type": "stream",
     "text": [
      " 98%|█████████▊| 881/900 [02:15<00:03,  5.81it/s]"
     ]
    },
    {
     "name": "stdout",
     "output_type": "stream",
     "text": [
      "[animation.py:358]:DEBUG:MovieWriter.grab_frame: Grabbing frame.\n"
     ]
    },
    {
     "name": "stderr",
     "output_type": "stream",
     "text": [
      " 98%|█████████▊| 882/900 [02:15<00:02,  6.24it/s]"
     ]
    },
    {
     "name": "stdout",
     "output_type": "stream",
     "text": [
      "[animation.py:358]:DEBUG:MovieWriter.grab_frame: Grabbing frame.\n"
     ]
    },
    {
     "name": "stderr",
     "output_type": "stream",
     "text": [
      " 98%|█████████▊| 883/900 [02:15<00:02,  6.59it/s]"
     ]
    },
    {
     "name": "stdout",
     "output_type": "stream",
     "text": [
      "[animation.py:358]:DEBUG:MovieWriter.grab_frame: Grabbing frame.\n"
     ]
    },
    {
     "name": "stderr",
     "output_type": "stream",
     "text": [
      " 98%|█████████▊| 884/900 [02:15<00:02,  6.89it/s]"
     ]
    },
    {
     "name": "stdout",
     "output_type": "stream",
     "text": [
      "[animation.py:358]:DEBUG:MovieWriter.grab_frame: Grabbing frame.\n"
     ]
    },
    {
     "name": "stderr",
     "output_type": "stream",
     "text": [
      " 98%|█████████▊| 885/900 [02:15<00:02,  7.09it/s]"
     ]
    },
    {
     "name": "stdout",
     "output_type": "stream",
     "text": [
      "[animation.py:358]:DEBUG:MovieWriter.grab_frame: Grabbing frame.\n"
     ]
    },
    {
     "name": "stderr",
     "output_type": "stream",
     "text": [
      " 98%|█████████▊| 886/900 [02:16<00:01,  7.23it/s]"
     ]
    },
    {
     "name": "stdout",
     "output_type": "stream",
     "text": [
      "[animation.py:358]:DEBUG:MovieWriter.grab_frame: Grabbing frame.\n"
     ]
    },
    {
     "name": "stderr",
     "output_type": "stream",
     "text": [
      " 99%|█████████▊| 887/900 [02:16<00:01,  7.34it/s]"
     ]
    },
    {
     "name": "stdout",
     "output_type": "stream",
     "text": [
      "[animation.py:358]:DEBUG:MovieWriter.grab_frame: Grabbing frame.\n"
     ]
    },
    {
     "name": "stderr",
     "output_type": "stream",
     "text": [
      " 99%|█████████▊| 888/900 [02:16<00:01,  7.40it/s]"
     ]
    },
    {
     "name": "stdout",
     "output_type": "stream",
     "text": [
      "[animation.py:358]:DEBUG:MovieWriter.grab_frame: Grabbing frame.\n"
     ]
    },
    {
     "name": "stderr",
     "output_type": "stream",
     "text": [
      " 99%|█████████▉| 889/900 [02:16<00:01,  7.43it/s]"
     ]
    },
    {
     "name": "stdout",
     "output_type": "stream",
     "text": [
      "[animation.py:358]:DEBUG:MovieWriter.grab_frame: Grabbing frame.\n"
     ]
    },
    {
     "name": "stderr",
     "output_type": "stream",
     "text": [
      " 99%|█████████▉| 890/900 [02:16<00:01,  7.48it/s]"
     ]
    },
    {
     "name": "stdout",
     "output_type": "stream",
     "text": [
      "[animation.py:358]:DEBUG:MovieWriter.grab_frame: Grabbing frame.\n"
     ]
    },
    {
     "name": "stderr",
     "output_type": "stream",
     "text": [
      " 99%|█████████▉| 891/900 [02:16<00:01,  7.49it/s]"
     ]
    },
    {
     "name": "stdout",
     "output_type": "stream",
     "text": [
      "[animation.py:358]:DEBUG:MovieWriter.grab_frame: Grabbing frame.\n"
     ]
    },
    {
     "name": "stderr",
     "output_type": "stream",
     "text": [
      " 99%|█████████▉| 892/900 [02:16<00:01,  7.49it/s]"
     ]
    },
    {
     "name": "stdout",
     "output_type": "stream",
     "text": [
      "[animation.py:358]:DEBUG:MovieWriter.grab_frame: Grabbing frame.\n"
     ]
    },
    {
     "name": "stderr",
     "output_type": "stream",
     "text": [
      " 99%|█████████▉| 893/900 [02:17<00:01,  4.53it/s]"
     ]
    },
    {
     "name": "stdout",
     "output_type": "stream",
     "text": [
      "[animation.py:358]:DEBUG:MovieWriter.grab_frame: Grabbing frame.\n"
     ]
    },
    {
     "name": "stderr",
     "output_type": "stream",
     "text": [
      " 99%|█████████▉| 894/900 [02:17<00:01,  5.19it/s]"
     ]
    },
    {
     "name": "stdout",
     "output_type": "stream",
     "text": [
      "[animation.py:358]:DEBUG:MovieWriter.grab_frame: Grabbing frame.\n"
     ]
    },
    {
     "name": "stderr",
     "output_type": "stream",
     "text": [
      " 99%|█████████▉| 895/900 [02:17<00:00,  5.74it/s]"
     ]
    },
    {
     "name": "stdout",
     "output_type": "stream",
     "text": [
      "[animation.py:358]:DEBUG:MovieWriter.grab_frame: Grabbing frame.\n"
     ]
    },
    {
     "name": "stderr",
     "output_type": "stream",
     "text": [
      "100%|█████████▉| 896/900 [02:17<00:00,  6.20it/s]"
     ]
    },
    {
     "name": "stdout",
     "output_type": "stream",
     "text": [
      "[animation.py:358]:DEBUG:MovieWriter.grab_frame: Grabbing frame.\n"
     ]
    },
    {
     "name": "stderr",
     "output_type": "stream",
     "text": [
      "100%|█████████▉| 897/900 [02:17<00:00,  6.57it/s]"
     ]
    },
    {
     "name": "stdout",
     "output_type": "stream",
     "text": [
      "[animation.py:358]:DEBUG:MovieWriter.grab_frame: Grabbing frame.\n"
     ]
    },
    {
     "name": "stderr",
     "output_type": "stream",
     "text": [
      "100%|█████████▉| 898/900 [02:17<00:00,  6.53it/s]"
     ]
    },
    {
     "name": "stdout",
     "output_type": "stream",
     "text": [
      "[animation.py:358]:DEBUG:MovieWriter.grab_frame: Grabbing frame.\n"
     ]
    },
    {
     "name": "stderr",
     "output_type": "stream",
     "text": [
      "100%|█████████▉| 899/900 [02:18<00:00,  6.82it/s]"
     ]
    },
    {
     "name": "stdout",
     "output_type": "stream",
     "text": [
      "[animation.py:358]:DEBUG:MovieWriter.grab_frame: Grabbing frame.\n"
     ]
    },
    {
     "name": "stderr",
     "output_type": "stream",
     "text": [
      "100%|██████████| 900/900 [02:18<00:00,  6.51it/s]\n"
     ]
    },
    {
     "name": "stdout",
     "output_type": "stream",
     "text": [
      "[animation.py:388]:DEBUG:MovieWriter stderr:\n",
      "ffmpeg version 4.3.1 Copyright (c) 2000-2020 the FFmpeg developers\n",
      "  built with gcc 9.3.0 (crosstool-NG 1.24.0.133_b0863d8_dirty)\n",
      "  configuration: --prefix=/home/conda/feedstock_root/build_artifacts/ffmpeg_1609680890771/_h_env_placehold_placehold_placehold_placehold_placehold_placehold_placehold_placehold_placehold_placehold_placehold_placehold_placehold_placehold_placehold_placehold_placehold_placehold_plac --cc=/home/conda/feedstock_root/build_artifacts/ffmpeg_1609680890771/_build_env/bin/x86_64-conda-linux-gnu-cc --disable-doc --disable-openssl --enable-avresample --enable-gnutls --enable-gpl --enable-hardcoded-tables --enable-libfreetype --enable-libopenh264 --enable-libx264 --enable-pic --enable-pthreads --enable-shared --enable-static --enable-version3 --enable-zlib --enable-libmp3lame --pkg-config=/home/conda/feedstock_root/build_artifacts/ffmpeg_1609680890771/_build_env/bin/pkg-config\n",
      "  libavutil      56. 51.100 / 56. 51.100\n",
      "  libavcodec     58. 91.100 / 58. 91.100\n",
      "  libavformat    58. 45.100 / 58. 45.100\n",
      "  libavdevice    58. 10.100 / 58. 10.100\n",
      "  libavfilter     7. 85.100 /  7. 85.100\n",
      "  libavresample   4.  0.  0 /  4.  0.  0\n",
      "  libswscale      5.  7.100 /  5.  7.100\n",
      "  libswresample   3.  7.100 /  3.  7.100\n",
      "  libpostproc    55.  7.100 / 55.  7.100\n",
      "Input #0, rawvideo, from 'pipe:':\n",
      "  Duration: N/A, start: 0.000000, bitrate: 51200 kb/s\n",
      "    Stream #0:0: Video: rawvideo (RGBA / 0x41424752), rgba, 400x400, 51200 kb/s, 10 tbr, 10 tbn, 10 tbc\n",
      "Stream mapping:\n",
      "  Stream #0:0 -> #0:0 (rawvideo (native) -> h264 (libx264))\n",
      "[libx264 @ 0x55989bfe7740] using cpu capabilities: MMX2 SSE2Fast SSSE3 SSE4.2 AVX FMA3 BMI2 AVX2 AVX512\n",
      "[libx264 @ 0x55989bfe7740] profile High, level 2.1, 4:2:0, 8-bit\n",
      "[libx264 @ 0x55989bfe7740] 264 - core 161 r3030M 8bd6d28 - H.264/MPEG-4 AVC codec - Copyleft 2003-2020 - http://www.videolan.org/x264.html - options: cabac=1 ref=3 deblock=1:0:0 analyse=0x3:0x113 me=hex subme=7 psy=1 psy_rd=1.00:0.00 mixed_ref=1 me_range=16 chroma_me=1 trellis=1 8x8dct=1 cqm=0 deadzone=21,11 fast_pskip=1 chroma_qp_offset=-2 threads=12 lookahead_threads=2 sliced_threads=0 nr=0 decimate=1 interlaced=0 bluray_compat=0 constrained_intra=0 bframes=3 b_pyramid=2 b_adapt=1 b_bias=0 direct=1 weightb=1 open_gop=0 weightp=2 keyint=250 keyint_min=10 scenecut=40 intra_refresh=0 rc_lookahead=40 rc=crf mbtree=1 crf=23.0 qcomp=0.60 qpmin=0 qpmax=69 qpstep=4 ip_ratio=1.40 aq=1:1.00\n",
      "Output #0, mp4, to 'LiftPose3D_prediction_fly_tether_MDN.mp4':\n",
      "  Metadata:\n",
      "    encoder         : Lavf58.45.100\n",
      "    Stream #0:0: Video: h264 (libx264) (avc1 / 0x31637661), yuv420p, 400x400, q=-1--1, 10 fps, 10240 tbn, 10 tbc\n",
      "    Metadata:\n",
      "      encoder         : Lavc58.91.100 libx264\n",
      "    Side data:\n",
      "      cpb: bitrate max/min/avg: 0/0/0 buffer size: 0 vbv_delay: N/A\n",
      "frame=    6 fps=0.0 q=0.0 size=       0kB time=00:00:00.00 bitrate=N/A speed=   0x    \n",
      "frame=   10 fps=7.5 q=0.0 size=       0kB time=00:00:00.00 bitrate=N/A speed=   0x    \n",
      "frame=   14 fps=7.5 q=0.0 size=       0kB time=00:00:00.00 bitrate=N/A speed=   0x    \n",
      "frame=   18 fps=7.6 q=0.0 size=       0kB time=00:00:00.00 bitrate=N/A speed=   0x    \n",
      "frame=   22 fps=7.6 q=0.0 size=       0kB time=00:00:00.00 bitrate=N/A speed=   0x    \n",
      "frame=   24 fps=6.9 q=0.0 size=       0kB time=00:00:00.00 bitrate=N/A speed=   0x    \n",
      "frame=   28 fps=7.0 q=0.0 size=       0kB time=00:00:00.00 bitrate=N/A speed=   0x    \n",
      "frame=   32 fps=7.1 q=0.0 size=       0kB time=00:00:00.00 bitrate=N/A speed=   0x    \n",
      "frame=   36 fps=7.2 q=0.0 size=       0kB time=00:00:00.00 bitrate=N/A speed=   0x    \n",
      "frame=   39 fps=6.8 q=0.0 size=       0kB time=00:00:00.00 bitrate=N/A speed=   0x    \n",
      "frame=   43 fps=6.9 q=0.0 size=       0kB time=00:00:00.00 bitrate=N/A speed=   0x    \n",
      "frame=   47 fps=6.9 q=0.0 size=       0kB time=00:00:00.00 bitrate=N/A speed=   0x    \n",
      "frame=   51 fps=7.0 q=0.0 size=       0kB time=00:00:00.00 bitrate=N/A speed=   0x    \n",
      "frame=   53 fps=6.7 q=0.0 size=       0kB time=00:00:00.00 bitrate=N/A speed=   0x    \n",
      "frame=   57 fps=6.8 q=25.0 size=       0kB time=-00:00:00.19 bitrate=N/A speed=N/A    \n",
      "frame=   61 fps=6.8 q=25.0 size=       0kB time=00:00:00.20 bitrate=   1.9kbits/s speed=0.0225x    \n",
      "frame=   65 fps=6.9 q=25.0 size=       0kB time=00:00:00.60 bitrate=   0.6kbits/s speed=0.0636x    \n",
      "frame=   67 fps=6.7 q=25.0 size=       0kB time=00:00:00.80 bitrate=   0.5kbits/s speed=0.08x    \n",
      "frame=   71 fps=6.8 q=25.0 size=       0kB time=00:00:01.20 bitrate=   0.3kbits/s speed=0.114x    \n",
      "frame=   75 fps=6.8 q=25.0 size=       0kB time=00:00:01.60 bitrate=   0.2kbits/s speed=0.145x    \n",
      "frame=   79 fps=6.8 q=25.0 size=       0kB time=00:00:02.00 bitrate=   0.2kbits/s speed=0.173x    \n",
      "frame=   82 fps=6.7 q=25.0 size=       0kB time=00:00:02.30 bitrate=   0.2kbits/s speed=0.187x    \n",
      "frame=   86 fps=6.7 q=25.0 size=       0kB time=00:00:02.70 bitrate=   0.1kbits/s speed=0.211x    \n",
      "frame=   90 fps=6.8 q=25.0 size=       0kB time=00:00:03.10 bitrate=   0.1kbits/s speed=0.233x    \n",
      "frame=   94 fps=6.8 q=25.0 size=       0kB time=00:00:03.50 bitrate=   0.1kbits/s speed=0.253x    \n",
      "frame=   96 fps=6.7 q=25.0 size=       0kB time=00:00:03.70 bitrate=   0.1kbits/s speed=0.257x    \n",
      "frame=  100 fps=6.7 q=25.0 size=       0kB time=00:00:04.10 bitrate=   0.1kbits/s speed=0.275x    \n",
      "frame=  104 fps=6.7 q=25.0 size=       0kB time=00:00:04.50 bitrate=   0.1kbits/s speed=0.292x    \n",
      "frame=  108 fps=6.8 q=25.0 size=       0kB time=00:00:04.90 bitrate=   0.1kbits/s speed=0.307x    \n",
      "frame=  110 fps=6.7 q=25.0 size=       0kB time=00:00:05.10 bitrate=   0.1kbits/s speed=0.309x    \n",
      "frame=  114 fps=6.7 q=25.0 size=       0kB time=00:00:05.50 bitrate=   0.1kbits/s speed=0.323x    \n",
      "frame=  118 fps=6.7 q=25.0 size=       0kB time=00:00:05.90 bitrate=   0.1kbits/s speed=0.336x    \n",
      "frame=  122 fps=6.7 q=25.0 size=       0kB time=00:00:06.30 bitrate=   0.1kbits/s speed=0.348x    \n",
      "frame=  125 fps=6.7 q=25.0 size=       0kB time=00:00:06.60 bitrate=   0.1kbits/s speed=0.351x    \n",
      "frame=  129 fps=6.7 q=25.0 size=       0kB time=00:00:07.00 bitrate=   0.1kbits/s speed=0.363x    \n",
      "frame=  133 fps=6.7 q=25.0 size=       0kB time=00:00:07.40 bitrate=   0.1kbits/s speed=0.373x    \n",
      "frame=  137 fps=6.7 q=25.0 size=       0kB time=00:00:07.80 bitrate=   0.0kbits/s speed=0.383x    \n",
      "frame=  139 fps=6.6 q=25.0 size=       0kB time=00:00:08.00 bitrate=   0.0kbits/s speed=0.382x    \n",
      "frame=  143 fps=6.7 q=25.0 size=       0kB time=00:00:08.40 bitrate=   0.0kbits/s speed=0.392x    \n",
      "frame=  147 fps=6.7 q=25.0 size=       0kB time=00:00:08.80 bitrate=   0.0kbits/s speed= 0.4x    \n",
      "frame=  151 fps=6.7 q=25.0 size=       0kB time=00:00:09.20 bitrate=   0.0kbits/s speed=0.409x    \n",
      "frame=  153 fps=6.6 q=25.0 size=       0kB time=00:00:09.40 bitrate=   0.0kbits/s speed=0.408x    \n",
      "frame=  157 fps=6.7 q=25.0 size=       0kB time=00:00:09.80 bitrate=   0.0kbits/s speed=0.415x    \n",
      "frame=  161 fps=6.7 q=25.0 size=       0kB time=00:00:10.20 bitrate=   0.0kbits/s speed=0.423x    \n",
      "frame=  165 fps=6.7 q=25.0 size=     256kB time=00:00:10.60 bitrate= 197.9kbits/s speed=0.43x    \n",
      "frame=  168 fps=6.6 q=25.0 size=     256kB time=00:00:10.90 bitrate= 192.4kbits/s speed=0.43x    \n",
      "frame=  172 fps=6.6 q=25.0 size=     256kB time=00:00:11.30 bitrate= 185.6kbits/s speed=0.436x    \n",
      "frame=  176 fps=6.7 q=25.0 size=     256kB time=00:00:11.70 bitrate= 179.3kbits/s speed=0.443x    \n",
      "frame=  180 fps=6.7 q=25.0 size=     256kB time=00:00:12.10 bitrate= 173.3kbits/s speed=0.449x    \n",
      "frame=  182 fps=6.6 q=25.0 size=     256kB time=00:00:12.30 bitrate= 170.5kbits/s speed=0.447x    \n",
      "frame=  186 fps=6.6 q=25.0 size=     256kB time=00:00:12.70 bitrate= 165.2kbits/s speed=0.453x    \n",
      "frame=  190 fps=6.6 q=25.0 size=     256kB time=00:00:13.10 bitrate= 160.1kbits/s speed=0.458x    \n",
      "frame=  194 fps=6.7 q=25.0 size=     256kB time=00:00:13.50 bitrate= 155.4kbits/s speed=0.464x    \n",
      "frame=  196 fps=6.6 q=25.0 size=     256kB time=00:00:13.70 bitrate= 153.1kbits/s speed=0.461x    \n",
      "frame=  200 fps=6.6 q=25.0 size=     256kB time=00:00:14.10 bitrate= 148.8kbits/s speed=0.467x    \n",
      "frame=  204 fps=6.6 q=25.0 size=     256kB time=00:00:14.50 bitrate= 144.7kbits/s speed=0.472x    \n",
      "frame=  208 fps=6.7 q=25.0 size=     256kB time=00:00:14.90 bitrate= 140.8kbits/s speed=0.476x    \n",
      "frame=  211 fps=6.6 q=25.0 size=     256kB time=00:00:15.20 bitrate= 138.0kbits/s speed=0.475x    \n",
      "frame=  215 fps=6.6 q=25.0 size=     256kB time=00:00:15.60 bitrate= 134.5kbits/s speed=0.48x    \n",
      "frame=  219 fps=6.6 q=25.0 size=     256kB time=00:00:16.00 bitrate= 131.1kbits/s speed=0.484x    \n",
      "frame=  223 fps=6.6 q=25.0 size=     256kB time=00:00:16.40 bitrate= 127.9kbits/s speed=0.489x    \n",
      "frame=  225 fps=6.6 q=25.0 size=     256kB time=00:00:16.60 bitrate= 126.4kbits/s speed=0.486x    \n",
      "frame=  229 fps=6.6 q=25.0 size=     256kB time=00:00:17.00 bitrate= 123.4kbits/s speed=0.491x    \n",
      "frame=  233 fps=6.6 q=25.0 size=     256kB time=00:00:17.40 bitrate= 120.5kbits/s speed=0.495x    \n",
      "frame=  237 fps=6.6 q=25.0 size=     512kB time=00:00:17.80 bitrate= 235.7kbits/s speed=0.499x    \n",
      "frame=  239 fps=6.6 q=25.0 size=     512kB time=00:00:18.00 bitrate= 233.0kbits/s speed=0.496x    \n",
      "frame=  243 fps=6.6 q=25.0 size=     512kB time=00:00:18.40 bitrate= 228.0kbits/s speed= 0.5x    \n",
      "frame=  247 fps=6.6 q=25.0 size=     512kB time=00:00:18.80 bitrate= 223.1kbits/s speed=0.504x    \n",
      "frame=  251 fps=6.6 q=25.0 size=     512kB time=00:00:19.20 bitrate= 218.5kbits/s speed=0.507x    \n",
      "frame=  253 fps=6.6 q=25.0 size=     512kB time=00:00:19.40 bitrate= 216.2kbits/s speed=0.505x    \n",
      "frame=  257 fps=6.6 q=25.0 size=     512kB time=00:00:19.80 bitrate= 211.9kbits/s speed=0.509x    \n",
      "frame=  261 fps=6.6 q=25.0 size=     512kB time=00:00:20.20 bitrate= 207.7kbits/s speed=0.512x    \n",
      "frame=  265 fps=6.6 q=25.0 size=     512kB time=00:00:20.60 bitrate= 203.6kbits/s speed=0.515x    \n",
      "frame=  267 fps=6.6 q=25.0 size=     512kB time=00:00:20.80 bitrate= 201.7kbits/s speed=0.513x    \n",
      "frame=  271 fps=6.6 q=25.0 size=     512kB time=00:00:21.20 bitrate= 197.9kbits/s speed=0.516x    \n",
      "frame=  275 fps=6.6 q=25.0 size=     512kB time=00:00:21.60 bitrate= 194.2kbits/s speed=0.519x    \n",
      "frame=  279 fps=6.6 q=25.0 size=     512kB time=00:00:22.00 bitrate= 190.7kbits/s speed=0.522x    \n",
      "frame=  282 fps=6.6 q=25.0 size=     512kB time=00:00:22.30 bitrate= 188.1kbits/s speed=0.521x    \n",
      "frame=  286 fps=6.6 q=25.0 size=     512kB time=00:00:22.70 bitrate= 184.8kbits/s speed=0.524x    \n",
      "frame=  290 fps=6.6 q=25.0 size=     768kB time=00:00:23.10 bitrate= 272.4kbits/s speed=0.527x    \n",
      "frame=  294 fps=6.6 q=25.0 size=     768kB time=00:00:23.50 bitrate= 267.7kbits/s speed=0.529x    \n",
      "frame=  296 fps=6.6 q=22.0 size=     768kB time=00:00:23.70 bitrate= 265.5kbits/s speed=0.527x    \n",
      "frame=  300 fps=6.6 q=25.0 size=     768kB time=00:00:24.10 bitrate= 261.1kbits/s speed=0.53x    \n",
      "frame=  304 fps=6.6 q=25.0 size=     768kB time=00:00:24.50 bitrate= 256.8kbits/s speed=0.533x    \n",
      "frame=  308 fps=6.6 q=25.0 size=     768kB time=00:00:24.90 bitrate= 252.7kbits/s speed=0.535x    \n",
      "frame=  311 fps=6.6 q=25.0 size=     768kB time=00:00:25.20 bitrate= 249.7kbits/s speed=0.534x    \n",
      "frame=  315 fps=6.6 q=25.0 size=     768kB time=00:00:25.60 bitrate= 245.8kbits/s speed=0.536x    \n",
      "frame=  319 fps=6.6 q=25.0 size=     768kB time=00:00:26.00 bitrate= 242.0kbits/s speed=0.539x    \n",
      "frame=  323 fps=6.6 q=25.0 size=     768kB time=00:00:26.40 bitrate= 238.3kbits/s speed=0.541x    \n",
      "frame=  325 fps=6.6 q=25.0 size=     768kB time=00:00:26.60 bitrate= 236.5kbits/s speed=0.539x    \n",
      "frame=  329 fps=6.6 q=25.0 size=     768kB time=00:00:27.00 bitrate= 233.0kbits/s speed=0.541x    \n",
      "frame=  333 fps=6.6 q=25.0 size=     768kB time=00:00:27.40 bitrate= 229.6kbits/s speed=0.543x    \n",
      "frame=  337 fps=6.6 q=25.0 size=     768kB time=00:00:27.80 bitrate= 226.3kbits/s speed=0.545x    \n",
      "frame=  339 fps=6.6 q=25.0 size=     768kB time=00:00:28.00 bitrate= 224.7kbits/s speed=0.543x    \n",
      "frame=  343 fps=6.6 q=25.0 size=    1024kB time=00:00:28.40 bitrate= 295.4kbits/s speed=0.545x    \n",
      "frame=  347 fps=6.6 q=25.0 size=    1024kB time=00:00:28.80 bitrate= 291.3kbits/s speed=0.547x    \n",
      "frame=  351 fps=6.6 q=25.0 size=    1024kB time=00:00:29.20 bitrate= 287.3kbits/s speed=0.549x    \n",
      "frame=  353 fps=6.6 q=25.0 size=    1024kB time=00:00:29.40 bitrate= 285.3kbits/s speed=0.547x    \n",
      "frame=  357 fps=6.6 q=25.0 size=    1024kB time=00:00:29.80 bitrate= 281.5kbits/s speed=0.548x    \n",
      "frame=  361 fps=6.6 q=25.0 size=    1024kB time=00:00:30.20 bitrate= 277.8kbits/s speed=0.55x    \n",
      "frame=  365 fps=6.6 q=25.0 size=    1024kB time=00:00:30.60 bitrate= 274.1kbits/s speed=0.552x    \n",
      "frame=  367 fps=6.6 q=25.0 size=    1024kB time=00:00:30.80 bitrate= 272.4kbits/s speed=0.55x    \n",
      "frame=  371 fps=6.6 q=25.0 size=    1024kB time=00:00:31.20 bitrate= 268.9kbits/s speed=0.552x    \n",
      "frame=  375 fps=6.6 q=25.0 size=    1024kB time=00:00:31.60 bitrate= 265.5kbits/s speed=0.554x    \n",
      "frame=  379 fps=6.6 q=25.0 size=    1024kB time=00:00:32.00 bitrate= 262.2kbits/s speed=0.556x    \n",
      "frame=  382 fps=6.6 q=25.0 size=    1024kB time=00:00:32.30 bitrate= 259.7kbits/s speed=0.554x    \n",
      "frame=  386 fps=6.6 q=25.0 size=    1024kB time=00:00:32.70 bitrate= 256.5kbits/s speed=0.556x    \n",
      "frame=  390 fps=6.6 q=25.0 size=    1024kB time=00:00:33.10 bitrate= 253.4kbits/s speed=0.558x    \n",
      "frame=  394 fps=6.6 q=25.0 size=    1024kB time=00:00:33.50 bitrate= 250.4kbits/s speed=0.56x    \n",
      "frame=  396 fps=6.6 q=25.0 size=    1024kB time=00:00:33.70 bitrate= 248.9kbits/s speed=0.558x    \n",
      "frame=  400 fps=6.6 q=25.0 size=    1280kB time=00:00:34.10 bitrate= 307.5kbits/s speed=0.56x    \n",
      "frame=  404 fps=6.6 q=25.0 size=    1280kB time=00:00:34.50 bitrate= 303.9kbits/s speed=0.561x    \n",
      "frame=  408 fps=6.6 q=25.0 size=    1280kB time=00:00:34.90 bitrate= 300.5kbits/s speed=0.563x    \n",
      "frame=  410 fps=6.6 q=25.0 size=    1280kB time=00:00:35.10 bitrate= 298.7kbits/s speed=0.561x    \n",
      "frame=  414 fps=6.6 q=25.0 size=    1280kB time=00:00:35.50 bitrate= 295.4kbits/s speed=0.563x    \n",
      "frame=  418 fps=6.6 q=25.0 size=    1280kB time=00:00:35.90 bitrate= 292.1kbits/s speed=0.565x    \n",
      "frame=  422 fps=6.6 q=25.0 size=    1280kB time=00:00:36.30 bitrate= 288.9kbits/s speed=0.566x    \n",
      "frame=  425 fps=6.6 q=25.0 size=    1280kB time=00:00:36.60 bitrate= 286.5kbits/s speed=0.565x    \n",
      "frame=  429 fps=6.6 q=25.0 size=    1280kB time=00:00:37.00 bitrate= 283.4kbits/s speed=0.566x    \n",
      "frame=  433 fps=6.6 q=25.0 size=    1280kB time=00:00:37.40 bitrate= 280.4kbits/s speed=0.568x    \n",
      "frame=  437 fps=6.6 q=25.0 size=    1280kB time=00:00:37.80 bitrate= 277.4kbits/s speed=0.57x    \n",
      "frame=  439 fps=6.6 q=25.0 size=    1280kB time=00:00:38.00 bitrate= 276.0kbits/s speed=0.568x    \n",
      "frame=  443 fps=6.6 q=25.0 size=    1280kB time=00:00:38.40 bitrate= 273.1kbits/s speed=0.569x    \n",
      "frame=  447 fps=6.6 q=25.0 size=    1280kB time=00:00:38.80 bitrate= 270.3kbits/s speed=0.571x    \n",
      "frame=  451 fps=6.6 q=25.0 size=    1280kB time=00:00:39.20 bitrate= 267.5kbits/s speed=0.572x    \n",
      "frame=  453 fps=6.6 q=25.0 size=    1280kB time=00:00:39.40 bitrate= 266.1kbits/s speed=0.57x    \n",
      "frame=  457 fps=6.6 q=25.0 size=    1280kB time=00:00:39.80 bitrate= 263.5kbits/s speed=0.572x    \n",
      "frame=  461 fps=6.6 q=25.0 size=    1536kB time=00:00:40.20 bitrate= 313.0kbits/s speed=0.573x    \n",
      "frame=  465 fps=6.6 q=25.0 size=    1536kB time=00:00:40.60 bitrate= 309.9kbits/s speed=0.575x    \n",
      "frame=  468 fps=6.6 q=25.0 size=    1536kB time=00:00:40.90 bitrate= 307.7kbits/s speed=0.573x    \n",
      "frame=  472 fps=6.6 q=25.0 size=    1536kB time=00:00:41.30 bitrate= 304.7kbits/s speed=0.575x    \n",
      "frame=  476 fps=6.6 q=25.0 size=    1536kB time=00:00:41.70 bitrate= 301.8kbits/s speed=0.576x    \n",
      "frame=  480 fps=6.6 q=25.0 size=    1536kB time=00:00:42.10 bitrate= 298.9kbits/s speed=0.577x    \n",
      "frame=  482 fps=6.6 q=25.0 size=    1536kB time=00:00:42.30 bitrate= 297.5kbits/s speed=0.576x    \n",
      "frame=  486 fps=6.6 q=25.0 size=    1536kB time=00:00:42.70 bitrate= 294.7kbits/s speed=0.577x    \n",
      "frame=  490 fps=6.6 q=25.0 size=    1536kB time=00:00:43.10 bitrate= 292.0kbits/s speed=0.578x    \n",
      "frame=  494 fps=6.6 q=25.0 size=    1536kB time=00:00:43.50 bitrate= 289.3kbits/s speed=0.579x    \n",
      "frame=  497 fps=6.6 q=25.0 size=    1536kB time=00:00:43.80 bitrate= 287.3kbits/s speed=0.577x    \n",
      "frame=  501 fps=6.6 q=25.0 size=    1536kB time=00:00:44.20 bitrate= 284.7kbits/s speed=0.578x    \n",
      "frame=  505 fps=6.6 q=25.0 size=    1536kB time=00:00:44.60 bitrate= 282.1kbits/s speed=0.58x    \n",
      "frame=  509 fps=6.6 q=25.0 size=    1536kB time=00:00:45.00 bitrate= 279.6kbits/s speed=0.581x    \n",
      "frame=  511 fps=6.5 q=25.0 size=    1536kB time=00:00:45.20 bitrate= 278.4kbits/s speed=0.579x    \n",
      "frame=  515 fps=6.6 q=25.0 size=    1792kB time=00:00:45.60 bitrate= 321.9kbits/s speed=0.58x    \n",
      "frame=  519 fps=6.6 q=25.0 size=    1792kB time=00:00:46.00 bitrate= 319.1kbits/s speed=0.581x    \n",
      "frame=  523 fps=6.6 q=25.0 size=    1792kB time=00:00:46.40 bitrate= 316.4kbits/s speed=0.582x    \n",
      "frame=  525 fps=6.5 q=25.0 size=    1792kB time=00:00:46.60 bitrate= 315.0kbits/s speed=0.58x    \n",
      "frame=  529 fps=6.5 q=25.0 size=    1792kB time=00:00:47.00 bitrate= 312.3kbits/s speed=0.581x    \n",
      "frame=  533 fps=6.6 q=25.0 size=    1792kB time=00:00:47.40 bitrate= 309.7kbits/s speed=0.583x    \n",
      "frame=  537 fps=6.6 q=25.0 size=    1792kB time=00:00:47.80 bitrate= 307.1kbits/s speed=0.583x    \n",
      "frame=  539 fps=6.5 q=25.0 size=    1792kB time=00:00:48.00 bitrate= 305.8kbits/s speed=0.582x    \n",
      "frame=  543 fps=6.5 q=25.0 size=    1792kB time=00:00:48.40 bitrate= 303.3kbits/s speed=0.583x    \n",
      "frame=  547 fps=6.5 q=25.0 size=    1792kB time=00:00:48.80 bitrate= 300.8kbits/s speed=0.584x    \n",
      "frame=  551 fps=6.5 q=25.0 size=    1792kB time=00:00:49.20 bitrate= 298.4kbits/s speed=0.585x    \n",
      "frame=  553 fps=6.5 q=25.0 size=    1792kB time=00:00:49.40 bitrate= 297.2kbits/s speed=0.583x    \n",
      "frame=  557 fps=6.5 q=25.0 size=    1792kB time=00:00:49.80 bitrate= 294.8kbits/s speed=0.584x    \n",
      "frame=  561 fps=6.5 q=25.0 size=    1792kB time=00:00:50.20 bitrate= 292.4kbits/s speed=0.585x    \n",
      "frame=  565 fps=6.5 q=25.0 size=    1792kB time=00:00:50.60 bitrate= 290.1kbits/s speed=0.586x    \n",
      "frame=  567 fps=6.5 q=25.0 size=    1792kB time=00:00:50.80 bitrate= 289.0kbits/s speed=0.585x    \n",
      "frame=  571 fps=6.5 q=25.0 size=    1792kB time=00:00:51.20 bitrate= 286.7kbits/s speed=0.585x    \n",
      "frame=  575 fps=6.5 q=25.0 size=    2048kB time=00:00:51.60 bitrate= 325.1kbits/s speed=0.586x    \n",
      "frame=  579 fps=6.5 q=25.0 size=    2048kB time=00:00:52.00 bitrate= 322.6kbits/s speed=0.587x    \n",
      "frame=  581 fps=6.5 q=25.0 size=    2048kB time=00:00:52.20 bitrate= 321.4kbits/s speed=0.586x    \n",
      "frame=  585 fps=6.5 q=25.0 size=    2048kB time=00:00:52.60 bitrate= 319.0kbits/s speed=0.587x    \n",
      "frame=  589 fps=6.5 q=25.0 size=    2048kB time=00:00:53.00 bitrate= 316.6kbits/s speed=0.588x    \n",
      "frame=  593 fps=6.5 q=25.0 size=    2048kB time=00:00:53.40 bitrate= 314.2kbits/s speed=0.588x    \n",
      "frame=  595 fps=6.5 q=25.0 size=    2048kB time=00:00:53.60 bitrate= 313.0kbits/s speed=0.587x    \n",
      "frame=  599 fps=6.5 q=25.0 size=    2048kB time=00:00:54.00 bitrate= 310.7kbits/s speed=0.588x    \n",
      "frame=  603 fps=6.5 q=25.0 size=    2048kB time=00:00:54.40 bitrate= 308.4kbits/s speed=0.589x    \n",
      "frame=  607 fps=6.5 q=25.0 size=    2048kB time=00:00:54.80 bitrate= 306.2kbits/s speed=0.59x    \n",
      "frame=  609 fps=6.5 q=25.0 size=    2048kB time=00:00:55.00 bitrate= 305.0kbits/s speed=0.588x    \n",
      "frame=  613 fps=6.5 q=25.0 size=    2048kB time=00:00:55.40 bitrate= 302.8kbits/s speed=0.589x    \n",
      "frame=  617 fps=6.5 q=25.0 size=    2048kB time=00:00:55.80 bitrate= 300.7kbits/s speed=0.59x    \n",
      "frame=  621 fps=6.5 q=25.0 size=    2048kB time=00:00:56.20 bitrate= 298.5kbits/s speed=0.591x    \n",
      "frame=  623 fps=6.5 q=25.0 size=    2048kB time=00:00:56.40 bitrate= 297.5kbits/s speed=0.589x    \n",
      "frame=  627 fps=6.5 q=25.0 size=    2048kB time=00:00:56.80 bitrate= 295.4kbits/s speed=0.59x    \n",
      "frame=  631 fps=6.5 q=25.0 size=    2048kB time=00:00:57.20 bitrate= 293.3kbits/s speed=0.591x    \n",
      "frame=  635 fps=6.5 q=25.0 size=    2048kB time=00:00:57.60 bitrate= 291.3kbits/s speed=0.592x    \n",
      "frame=  637 fps=6.5 q=25.0 size=    2048kB time=00:00:57.80 bitrate= 290.3kbits/s speed=0.59x    \n",
      "frame=  641 fps=6.5 q=25.0 size=    2048kB time=00:00:58.20 bitrate= 288.3kbits/s speed=0.591x    \n",
      "frame=  645 fps=6.5 q=25.0 size=    2048kB time=00:00:58.60 bitrate= 286.3kbits/s speed=0.592x    \n",
      "frame=  649 fps=6.5 q=25.0 size=    2048kB time=00:00:59.00 bitrate= 284.4kbits/s speed=0.593x    \n",
      "frame=  651 fps=6.5 q=25.0 size=    2048kB time=00:00:59.20 bitrate= 283.4kbits/s speed=0.592x    \n",
      "frame=  655 fps=6.5 q=25.0 size=    2048kB time=00:00:59.60 bitrate= 281.5kbits/s speed=0.593x    \n",
      "frame=  659 fps=6.5 q=25.0 size=    2048kB time=00:01:00.00 bitrate= 279.6kbits/s speed=0.593x    \n",
      "frame=  663 fps=6.5 q=25.0 size=    2048kB time=00:01:00.40 bitrate= 277.8kbits/s speed=0.594x    \n",
      "frame=  665 fps=6.5 q=25.0 size=    2304kB time=00:01:00.60 bitrate= 311.5kbits/s speed=0.593x    \n",
      "frame=  669 fps=6.5 q=25.0 size=    2304kB time=00:01:01.00 bitrate= 309.4kbits/s speed=0.594x    \n",
      "frame=  673 fps=6.5 q=25.0 size=    2304kB time=00:01:01.40 bitrate= 307.4kbits/s speed=0.595x    \n",
      "frame=  677 fps=6.5 q=25.0 size=    2304kB time=00:01:01.80 bitrate= 305.4kbits/s speed=0.596x    \n",
      "frame=  679 fps=6.5 q=25.0 size=    2304kB time=00:01:02.00 bitrate= 304.4kbits/s speed=0.594x    \n",
      "frame=  683 fps=6.5 q=25.0 size=    2304kB time=00:01:02.40 bitrate= 302.5kbits/s speed=0.595x    \n",
      "frame=  687 fps=6.5 q=25.0 size=    2304kB time=00:01:02.80 bitrate= 300.6kbits/s speed=0.596x    \n",
      "frame=  691 fps=6.5 q=25.0 size=    2304kB time=00:01:03.20 bitrate= 298.7kbits/s speed=0.597x    \n",
      "frame=  693 fps=6.5 q=25.0 size=    2304kB time=00:01:03.40 bitrate= 297.7kbits/s speed=0.596x    \n",
      "frame=  697 fps=6.5 q=25.0 size=    2304kB time=00:01:03.80 bitrate= 295.8kbits/s speed=0.597x    \n",
      "frame=  701 fps=6.5 q=25.0 size=    2304kB time=00:01:04.20 bitrate= 294.0kbits/s speed=0.597x    \n",
      "frame=  705 fps=6.5 q=25.0 size=    2304kB time=00:01:04.60 bitrate= 292.2kbits/s speed=0.598x    \n",
      "frame=  708 fps=6.5 q=25.0 size=    2304kB time=00:01:04.90 bitrate= 290.8kbits/s speed=0.597x    \n",
      "frame=  712 fps=6.5 q=25.0 size=    2304kB time=00:01:05.30 bitrate= 289.0kbits/s speed=0.598x    \n",
      "frame=  716 fps=6.5 q=25.0 size=    2304kB time=00:01:05.70 bitrate= 287.3kbits/s speed=0.599x    \n",
      "frame=  720 fps=6.5 q=25.0 size=    2304kB time=00:01:06.10 bitrate= 285.5kbits/s speed=0.599x    \n",
      "frame=  722 fps=6.5 q=25.0 size=    2304kB time=00:01:06.30 bitrate= 284.7kbits/s speed=0.598x    \n",
      "frame=  726 fps=6.5 q=25.0 size=    2304kB time=00:01:06.70 bitrate= 283.0kbits/s speed=0.599x    \n",
      "frame=  730 fps=6.5 q=25.0 size=    2560kB time=00:01:07.10 bitrate= 312.5kbits/s speed= 0.6x    \n",
      "frame=  734 fps=6.5 q=25.0 size=    2560kB time=00:01:07.50 bitrate= 310.7kbits/s speed= 0.6x    \n",
      "frame=  737 fps=6.5 q=25.0 size=    2560kB time=00:01:07.80 bitrate= 309.3kbits/s speed=0.599x    \n",
      "frame=  741 fps=6.5 q=25.0 size=    2560kB time=00:01:08.20 bitrate= 307.5kbits/s speed= 0.6x    \n",
      "frame=  745 fps=6.5 q=25.0 size=    2560kB time=00:01:08.60 bitrate= 305.7kbits/s speed=0.601x    \n",
      "frame=  749 fps=6.5 q=25.0 size=    2560kB time=00:01:09.00 bitrate= 303.9kbits/s speed=0.601x    \n",
      "frame=  751 fps=6.5 q=25.0 size=    2560kB time=00:01:09.20 bitrate= 303.1kbits/s speed= 0.6x    \n",
      "frame=  755 fps=6.5 q=25.0 size=    2560kB time=00:01:09.60 bitrate= 301.3kbits/s speed=0.601x    \n",
      "frame=  759 fps=6.5 q=25.0 size=    2560kB time=00:01:10.00 bitrate= 299.6kbits/s speed=0.602x    \n",
      "frame=  763 fps=6.5 q=25.0 size=    2560kB time=00:01:10.40 bitrate= 297.9kbits/s speed=0.602x    \n",
      "frame=  765 fps=6.5 q=25.0 size=    2560kB time=00:01:10.60 bitrate= 297.1kbits/s speed=0.601x    \n",
      "frame=  769 fps=6.5 q=25.0 size=    2560kB time=00:01:11.00 bitrate= 295.4kbits/s speed=0.602x    \n",
      "frame=  773 fps=6.5 q=25.0 size=    2560kB time=00:01:11.40 bitrate= 293.7kbits/s speed=0.602x    \n",
      "frame=  777 fps=6.5 q=25.0 size=    2560kB time=00:01:11.80 bitrate= 292.1kbits/s speed=0.603x    \n",
      "frame=  779 fps=6.5 q=25.0 size=    2560kB time=00:01:12.00 bitrate= 291.3kbits/s speed=0.602x    \n",
      "frame=  783 fps=6.5 q=25.0 size=    2560kB time=00:01:12.40 bitrate= 289.7kbits/s speed=0.603x    \n",
      "frame=  787 fps=6.5 q=25.0 size=    2560kB time=00:01:12.80 bitrate= 288.1kbits/s speed=0.603x    \n",
      "frame=  791 fps=6.5 q=25.0 size=    2560kB time=00:01:13.20 bitrate= 286.5kbits/s speed=0.604x    \n",
      "frame=  794 fps=6.5 q=25.0 size=    2560kB time=00:01:13.50 bitrate= 285.3kbits/s speed=0.603x    \n",
      "frame=  798 fps=6.5 q=25.0 size=    2560kB time=00:01:13.90 bitrate= 283.8kbits/s speed=0.604x    \n",
      "frame=  802 fps=6.5 q=25.0 size=    2560kB time=00:01:14.30 bitrate= 282.3kbits/s speed=0.604x    \n",
      "frame=  806 fps=6.5 q=25.0 size=    2816kB time=00:01:14.70 bitrate= 308.8kbits/s speed=0.605x    \n",
      "frame=  808 fps=6.5 q=25.0 size=    2816kB time=00:01:14.90 bitrate= 308.0kbits/s speed=0.604x    \n",
      "frame=  812 fps=6.5 q=25.0 size=    2816kB time=00:01:15.30 bitrate= 306.4kbits/s speed=0.604x    \n",
      "frame=  816 fps=6.5 q=25.0 size=    2816kB time=00:01:15.70 bitrate= 304.7kbits/s speed=0.605x    \n",
      "frame=  820 fps=6.5 q=25.0 size=    2816kB time=00:01:16.10 bitrate= 303.1kbits/s speed=0.606x    \n",
      "frame=  823 fps=6.5 q=25.0 size=    2816kB time=00:01:16.40 bitrate= 302.0kbits/s speed=0.605x    \n",
      "frame=  827 fps=6.5 q=25.0 size=    2816kB time=00:01:16.80 bitrate= 300.4kbits/s speed=0.605x    \n",
      "frame=  831 fps=6.5 q=25.0 size=    2816kB time=00:01:17.20 bitrate= 298.8kbits/s speed=0.606x    \n",
      "frame=  835 fps=6.5 q=25.0 size=    2816kB time=00:01:17.60 bitrate= 297.3kbits/s speed=0.607x    \n",
      "frame=  837 fps=6.5 q=25.0 size=    2816kB time=00:01:17.80 bitrate= 296.5kbits/s speed=0.606x    \n",
      "frame=  841 fps=6.5 q=25.0 size=    2816kB time=00:01:18.20 bitrate= 295.0kbits/s speed=0.606x    \n",
      "frame=  845 fps=6.5 q=25.0 size=    2816kB time=00:01:18.60 bitrate= 293.5kbits/s speed=0.607x    \n",
      "frame=  849 fps=6.5 q=25.0 size=    2816kB time=00:01:19.00 bitrate= 292.0kbits/s speed=0.608x    \n",
      "frame=  851 fps=6.5 q=25.0 size=    2816kB time=00:01:19.20 bitrate= 291.3kbits/s speed=0.607x    \n",
      "frame=  855 fps=6.5 q=25.0 size=    2816kB time=00:01:19.60 bitrate= 289.8kbits/s speed=0.607x    \n",
      "frame=  859 fps=6.5 q=25.0 size=    2816kB time=00:01:20.00 bitrate= 288.4kbits/s speed=0.608x    \n",
      "frame=  863 fps=6.5 q=25.0 size=    2816kB time=00:01:20.40 bitrate= 286.9kbits/s speed=0.608x    \n",
      "frame=  865 fps=6.5 q=25.0 size=    2816kB time=00:01:20.60 bitrate= 286.2kbits/s speed=0.607x    \n",
      "frame=  869 fps=6.5 q=25.0 size=    2816kB time=00:01:21.00 bitrate= 284.8kbits/s speed=0.608x    \n",
      "frame=  873 fps=6.5 q=25.0 size=    2816kB time=00:01:21.40 bitrate= 283.4kbits/s speed=0.609x    \n",
      "frame=  877 fps=6.5 q=25.0 size=    2816kB time=00:01:21.80 bitrate= 282.0kbits/s speed=0.609x    \n",
      "frame=  880 fps=6.5 q=25.0 size=    2816kB time=00:01:22.10 bitrate= 281.0kbits/s speed=0.608x    \n",
      "frame=  884 fps=6.5 q=25.0 size=    2816kB time=00:01:22.50 bitrate= 279.6kbits/s speed=0.609x    \n",
      "frame=  888 fps=6.5 q=25.0 size=    2816kB time=00:01:22.90 bitrate= 278.3kbits/s speed=0.61x    \n",
      "frame=  892 fps=6.5 q=25.0 size=    2816kB time=00:01:23.30 bitrate= 276.9kbits/s speed=0.61x    \n",
      "frame=  894 fps=6.5 q=25.0 size=    2816kB time=00:01:23.50 bitrate= 276.3kbits/s speed=0.609x    \n",
      "frame=  898 fps=6.5 q=25.0 size=    2816kB time=00:01:23.90 bitrate= 275.0kbits/s speed=0.61x    \n",
      "frame=  900 fps=6.5 q=-1.0 Lsize=    3204kB time=00:01:29.70 bitrate= 292.6kbits/s speed=0.649x    \n",
      "video:3192kB audio:0kB subtitle:0kB other streams:0kB global headers:0kB muxing overhead: 0.353724%\n",
      "[libx264 @ 0x55989bfe7740] frame I:4     Avg QP:16.76  size: 31025\n",
      "[libx264 @ 0x55989bfe7740] frame P:243   Avg QP:20.11  size:  6836\n",
      "[libx264 @ 0x55989bfe7740] frame B:653   Avg QP:25.47  size:  2271\n",
      "[libx264 @ 0x55989bfe7740] consecutive B-frames:  1.6%  3.3%  5.3% 89.8%\n",
      "[libx264 @ 0x55989bfe7740] mb I  I16..4:  9.4% 19.9% 70.6%\n",
      "[libx264 @ 0x55989bfe7740] mb P  I16..4:  0.5%  0.6%  2.5%  P16..4: 13.6% 18.1% 18.8%  0.0%  0.0%    skip:45.9%\n",
      "[libx264 @ 0x55989bfe7740] mb B  I16..4:  0.3%  0.4%  0.3%  B16..8: 19.7% 14.2%  7.8%  direct: 3.0%  skip:54.3%  L0:45.9% L1:43.8% BI:10.3%\n",
      "[libx264 @ 0x55989bfe7740] 8x8 transform intra:25.1% inter:19.7%\n",
      "[libx264 @ 0x55989bfe7740] coded y,uvDC,uvAC intra: 46.2% 23.7% 21.6% inter: 12.1% 5.3% 4.7%\n",
      "[libx264 @ 0x55989bfe7740] i16 v,h,dc,p: 51% 21% 27%  0%\n",
      "[libx264 @ 0x55989bfe7740] i8 v,h,dc,ddl,ddr,vr,hd,vl,hu: 13% 12% 73%  1%  0%  0%  0%  0%  1%\n",
      "[libx264 @ 0x55989bfe7740] i4 v,h,dc,ddl,ddr,vr,hd,vl,hu: 34% 16% 22%  8%  4%  2%  9%  2%  3%\n",
      "[libx264 @ 0x55989bfe7740] i8c dc,h,v,p: 86%  8%  6%  1%\n",
      "[libx264 @ 0x55989bfe7740] Weighted P-Frames: Y:0.0% UV:0.0%\n",
      "[libx264 @ 0x55989bfe7740] ref P L0: 56.7%  4.9% 21.5% 16.8%\n",
      "[libx264 @ 0x55989bfe7740] ref B L0: 75.9% 17.8%  6.3%\n",
      "[libx264 @ 0x55989bfe7740] ref B L1: 90.6%  9.4%\n",
      "[libx264 @ 0x55989bfe7740] kb/s:290.51\n",
      "\n"
     ]
    }
   ],
   "source": [
    "import torch\n",
    "import pylab as plt\n",
    "from mpl_toolkits.mplot3d import Axes3D\n",
    "import numpy as np\n",
    "import matplotlib\n",
    "from matplotlib.animation import FFMpegWriter\n",
    "from matplotlib.legend_handler import HandlerTuple\n",
    "matplotlib.use('Agg')\n",
    "import utils as utils\n",
    "import transform as transform\n",
    "import stats as stat\n",
    "import plotting as plotting\n",
    "from skeleton import skeleton\n",
    "from tqdm import tqdm\n",
    "import yaml\n",
    "import sys\n",
    "from load_tether import load_3D\n",
    "'''\n",
    "def average_cameras(tar):\n",
    "    #average over cameras\n",
    "    \n",
    "    tar = np.stack( tar, axis=2 )\n",
    "    tar[tar == 0] = np.nan\n",
    "    tar_avg = np.nanmean(tar, axis=2)  \n",
    "    tar_avg[np.isnan(tar_avg)] = 0\n",
    "    \n",
    "    return tar_avg\n",
    "'''\n",
    "\n",
    "\n",
    "cameras = [1,5]\n",
    "#cameras = par['cam_id']\n",
    "\n",
    "#root_dir = '/data/LiftPose3D/fly_tether/cam_angles/cam'\n",
    "\n",
    "#import\n",
    "G, color_edge = skeleton() #skeleton\n",
    "legtips = [4, 9, 14, 19, 24, 29]\n",
    "\n",
    "\n",
    "from liftpose.main import test\n",
    "#load data / statistics for cameras\n",
    "out, tar = [], []\n",
    "for cam in cameras:\n",
    "    data_dir = f'./out_drop_cam[{cam}]/'\n",
    "    \n",
    "    test_3d, _, rcams_test = load_3D(\n",
    "        par[\"data_dir\"],\n",
    "        par,\n",
    "        cam_id=[cam],\n",
    "        subjects=par[\"test_subjects\"],\n",
    "        actions=par[\"actions\"],\n",
    "    )\n",
    "    tar_mean = torch.load(data_dir + '/stat_3d.pth.tar')['mean']\n",
    "    tar_std = torch.load(data_dir + '/stat_3d.pth.tar')['std']\n",
    "    targets_3d = torch.load(data_dir + '/stat_3d.pth.tar')['targets_3d']\n",
    "    offset = torch.load(data_dir + '/stat_3d.pth.tar')['offset']\n",
    "    offset = np.concatenate([v for k,v in offset.items()], 0)\n",
    "    \n",
    "    #load predictions\n",
    "    data = torch.load(data_dir + '/test_results.pth.tar')\n",
    "    tar_ = data['target']\n",
    "    out_ = data['output']\n",
    "    \n",
    "    #expand\n",
    "    tar_ = utils.add_roots(tar_, targets_3d, len(tar_mean))\n",
    "    out_ = utils.add_roots(out_, targets_3d, len(tar_mean))\n",
    "    \n",
    "    #unnormalise\n",
    "    tar_ = stat.unNormalize(tar_, tar_mean, tar_std) \n",
    "    out_ = stat.unNormalize(out_, tar_mean, tar_std)\n",
    "    \n",
    "    #translate legs back to their original places\n",
    "    tar_ += offset[0,:]\n",
    "    out_ += offset[0,:]\n",
    "    \n",
    "    #transform back to worldcamera_to_world( poses_cam, cam_par, cam )\n",
    "    tar_ = transform.camera_to_world(tar_, list(rcams_test.values())[11])\n",
    "    out_ = transform.camera_to_world(out_, list(rcams_test.values())[11])\n",
    "    \n",
    "    #tar_ = utils.filter_data(tar_, window=5, order=2)\n",
    "    #out_ = utils.filter_data(out_, window=5, order=2)\n",
    "    \n",
    "    tar.append(tar_)\n",
    "    out.append(out_)\n",
    "\n",
    "#combine cameras\n",
    "#tar = average_cameras(tar)\n",
    "#out = average_cameras(out)\n",
    "tar = np.concatenate(tar, axis=1)\n",
    "out = np.concatenate(out, axis=1)\n",
    "\n",
    "# Set up a figure\n",
    "fig = plt.figure(figsize=plt.figaspect(1))\n",
    "fig.subplots_adjust(left=0, right=1, bottom=0, top=1)\n",
    "ax = fig.add_subplot(111, projection='3d')\n",
    "ax.view_init(elev=30, azim=25)\n",
    "\n",
    "writer = FFMpegWriter(fps=10)\n",
    "with writer.saving(fig, \"LiftPose3D_prediction_fly_tether_MDN.mp4\", 100):\n",
    "    for t in tqdm(range(11*900, 11*900+ 900)):\n",
    "        pos_pred, pos_tar = [], []\n",
    "        \n",
    "        ax.cla()\n",
    "        \n",
    "        thist = 7\n",
    "        pos_pred, pos_tar = [], []\n",
    "        for j in range(out.shape[1]//3):\n",
    "            tmin = max(0,t-thist+1)\n",
    "            pos_pred.append((out[tmin:(t+1), 3*j], out[tmin:(t+1), 3*j+1], out[tmin:(t+1), 3*j+2]))\n",
    "            pos_tar.append((tar[tmin:(t+1), 3*j], tar[tmin:(t+1), 3*j+1], tar[tmin:(t+1), 3*j+2]))\n",
    "                \n",
    "        pos_pred, pos_tar = np.array(pos_pred), np.array(pos_tar)\n",
    "        \n",
    "        plotting.plot_trailing_points(pos_pred[legtips,:,:],min(thist,t+1),ax)\n",
    "        \n",
    "        #plot skeleton\n",
    "        plotting.plot_3d_graph(G, pos_tar[:,:,-1], ax, color_edge=color_edge)    \n",
    "        plotting.plot_3d_graph(G, pos_pred[:,:,-1], ax, color_edge=color_edge, style='--')\n",
    "            \n",
    "        #### this bit is just to make special legend \n",
    "        pts = np.array([1,1])\n",
    "        p1, = ax.plot(pts, pts, pts, 'r-')\n",
    "        p2, = ax.plot(pts, pts, pts, 'b-')\n",
    "        p3, = ax.plot(pts, pts, pts, 'r--', dashes=(2, 2))\n",
    "        p4, = ax.plot(pts, pts, pts, 'b--', dashes=(2, 2))\n",
    "        ax.legend([(p1, p2), (p3, p4)], \n",
    "            ['Triangulated 3D pose using 3 cameras per keypoint', \\\n",
    "             'LiftPose3D prediction using 1 camera per keypoint'], \n",
    "            numpoints=1, handler_map={tuple: HandlerTuple(ndivide=None)},\n",
    "            loc=(0.1,0.9),\n",
    "            frameon=False)    \n",
    "        p1.remove()\n",
    "        p2.remove()\n",
    "        p3.remove()\n",
    "        p4.remove()\n",
    "        ####    \n",
    "           \n",
    "        #ax.set_xlim([-2,5])\n",
    "        #ax.set_ylim([-1,4])\n",
    "        #ax.set_zlim([1,2.75])\n",
    "        \n",
    "        ax.set_xticklabels([])\n",
    "        ax.set_yticklabels([])\n",
    "        ax.set_zticklabels([])\n",
    "        ax.grid(True)\n",
    "        \n",
    "        writer.grab_frame()"
   ]
  },
  {
   "cell_type": "code",
   "execution_count": null,
   "id": "boring-congress",
   "metadata": {},
   "outputs": [],
   "source": [
    "!ffmpeg -i DeepFly3D_prediction_fly_tether_MDN.mp4 -i LiftPose3D_prediction_fly_tether_MDN.mp4 -filter_complex \"[0:v]scale=-1:480[v0];[v0][1:v]hstack=inputs=2\" Video_1.mp4"
   ]
  }
 ],
 "metadata": {
  "kernelspec": {
   "display_name": "Python 3",
   "language": "python",
   "name": "python3"
  },
  "language_info": {
   "codemirror_mode": {
    "name": "ipython",
    "version": 3
   },
   "file_extension": ".py",
   "mimetype": "text/x-python",
   "name": "python",
   "nbconvert_exporter": "python",
   "pygments_lexer": "ipython3",
   "version": "3.7.10"
  }
 },
 "nbformat": 4,
 "nbformat_minor": 5
}
