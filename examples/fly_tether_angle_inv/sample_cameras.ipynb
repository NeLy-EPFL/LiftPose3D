{
 "cells": [
  {
   "cell_type": "code",
   "execution_count": 4,
   "metadata": {},
   "outputs": [
    {
     "name": "stdout",
     "output_type": "stream",
     "text": [
      "The autoreload extension is already loaded. To reload it, use:\n",
      "  %reload_ext autoreload\n"
     ]
    }
   ],
   "source": [
    "%load_ext autoreload\n",
    "%autoreload 2\n",
    "import numpy as np\n",
    "from scipy.spatial.transform import Rotation as Rot\n",
    "from mpl_toolkits.mplot3d import Axes3D\n",
    "from liftpose.plot import plot_pose_3d, plot_pose_2d\n",
    "import pickle\n",
    "import matplotlib.pyplot as plt\n",
    "import math\n",
    "import matplotlib.animation as manimation\n",
    "import yaml"
   ]
  },
  {
   "cell_type": "markdown",
   "metadata": {},
   "source": [
    "# Load sample data"
   ]
  },
  {
   "cell_type": "code",
   "execution_count": 2,
   "metadata": {},
   "outputs": [],
   "source": [
    "#load 3D poses\n",
    "par_data = yaml.full_load(open('param.yaml', \"rb\"))\n",
    "d = pickle.load(open('pose.pkl', 'rb'))\n",
    "dimensions = [i for i in range(38) if i not in [15,16,17,18,34,35,36,37]]\n",
    "pts3d = d[\"points3d\"][171][dimensions,:]\n",
    "ptssh = d[\"points2d\"][0,171,dimensions,:]\n",
    "\n",
    "pts3d = pts3d - np.mean(pts3d, axis=0, keepdims=True)"
   ]
  },
  {
   "cell_type": "code",
   "execution_count": 3,
   "metadata": {},
   "outputs": [
    {
     "data": {
      "application/vnd.jupyter.widget-view+json": {
       "model_id": "cfc3761885e24697bdae163c8aabfd98",
       "version_major": 2,
       "version_minor": 0
      },
      "text/plain": [
       "interactive(children=(FloatSlider(value=45.0, description='Long. axis (align with +x):', max=180.0, min=-180.0…"
      ]
     },
     "metadata": {},
     "output_type": "display_data"
    },
    {
     "data": {
      "text/plain": [
       "<function __main__.three_d_plotter(offset, alphaL1, alphaL2, alphaR1, alphaR2, beta)>"
      ]
     },
     "execution_count": 3,
     "metadata": {},
     "output_type": "execute_result"
    }
   ],
   "source": [
    "%matplotlib notebook\n",
    "from ipywidgets import interact\n",
    "import ipywidgets as widgets\n",
    "\n",
    "def cone(alpha1, alpha2, beta):\n",
    "    \n",
    "    radius = 2\n",
    "    theta = np.linspace(alpha1,alpha2,50)\n",
    "    r = np.linspace(-radius,radius,50)\n",
    "    T, R = np.meshgrid(theta, r)\n",
    "    \n",
    "    X = np.sign(R)* R * np.cos(T)\n",
    "    Y = np.sign(R)* R * np.sin(T)\n",
    "    \n",
    "    Xplus = X.copy()\n",
    "    Xminus = X.copy()\n",
    "    Yplus = Y.copy()\n",
    "    Yminus = Y.copy() \n",
    "    Xplus[R<=0] = 0\n",
    "    Xminus[R>=0] = 0\n",
    "    Yplus[R<=0] = 0\n",
    "    Yminus[R>=0] = 0\n",
    "    \n",
    "    Z = np.tan(beta)*np.sqrt(Xplus**2 + Yplus**2)- np.tan(beta)*np.sqrt(Xminus**2 + Yminus**2)\n",
    "    \n",
    "    z = np.linspace(-radius*np.tan(beta), radius*np.tan(beta), 50)\n",
    "    U, V = np.meshgrid(z, theta)\n",
    "\n",
    "    Zc = U\n",
    "    Xc = radius*np.cos(V)\n",
    "    Yc = radius*np.sin(V)\n",
    "    \n",
    "    return X,Y,Z, Xc,Yc,Zc\n",
    "\n",
    "def three_d_plotter(offset, alphaL1, alphaL2, alphaR1, alphaR2, beta):\n",
    "    fig = plt.figure(figsize=(10,5))\n",
    "    ax1 = fig.add_subplot(131, projection=\"3d\")\n",
    "    ax1.view_init(elev=50, azim=-30)\n",
    "    ax2 = fig.add_subplot(132, projection=\"3d\")\n",
    "    ax2.view_init(elev=0, azim=0)\n",
    "    ax3 = fig.add_subplot(133, projection=\"3d\")\n",
    "    ax3.view_init(elev=90, azim=90)\n",
    "    \n",
    "    #left cone\n",
    "    X,Y,Z, Xc,Yc,Zc = cone(np.radians(alphaL1), np.radians(alphaL2), np.radians(beta))\n",
    "    ax1.plot_surface(X,Y,Z, alpha=0.3, color='blue', rstride=6, cstride=12)\n",
    "    ax2.plot_surface(X,Y,Z, alpha=0.3, color='blue', rstride=6, cstride=12)\n",
    "    ax3.plot_surface(X,Y,Z, alpha=0.3, color='blue', rstride=6, cstride=12)\n",
    "    ax1.plot_surface(Xc, Yc, Zc, alpha=0.3, color='blue', rstride=6, cstride=12)\n",
    "    ax2.plot_surface(Xc, Yc, Zc, alpha=0.3, color='blue', rstride=6, cstride=12)\n",
    "    ax3.plot_surface(Xc, Yc, Zc, alpha=0.3, color='blue', rstride=6, cstride=12)\n",
    "    \n",
    "    #right cone\n",
    "    X,Y,Z, Xc,Yc,Zc = cone(np.radians(alphaR1), np.radians(alphaR2), np.radians(beta))\n",
    "    ax1.plot_surface(X,Y,Z, alpha=0.3, color='red', rstride=6, cstride=12)\n",
    "    ax2.plot_surface(X,Y,Z, alpha=0.3, color='red', rstride=6, cstride=12)\n",
    "    ax3.plot_surface(X,Y,Z, alpha=0.3, color='red', rstride=6, cstride=12)\n",
    "    ax1.plot_surface(Xc, Yc, Zc, alpha=0.3, color='red', rstride=6, cstride=12)\n",
    "    ax2.plot_surface(Xc, Yc, Zc, alpha=0.3, color='red', rstride=6, cstride=12)\n",
    "    ax3.plot_surface(Xc, Yc, Zc, alpha=0.3, color='red', rstride=6, cstride=12)\n",
    "\n",
    "    R = Rot.from_euler('xyz', [-np.pi/2, 0, np.radians(offset)], degrees=False).as_matrix()\n",
    "    pts3d_display = np.matmul(R,pts3d.T).T\n",
    "\n",
    "    plot_pose_3d(ax1, tar=pts3d_display, bones=par_data[\"vis\"][\"bones\"], limb_id=par_data[\"vis\"][\"limb_id\"], colors=par_data[\"vis\"][\"colors\"])\n",
    "    plot_pose_3d(ax2, tar=pts3d_display, bones=par_data[\"vis\"][\"bones\"], limb_id=par_data[\"vis\"][\"limb_id\"], colors=par_data[\"vis\"][\"colors\"])\n",
    "    plot_pose_3d(ax3, tar=pts3d_display, bones=par_data[\"vis\"][\"bones\"], limb_id=par_data[\"vis\"][\"limb_id\"], colors=par_data[\"vis\"][\"colors\"])\n",
    "    \n",
    "    ax1.set_xlim(-3, 3)\n",
    "    ax1.set_ylim(-3, 3)\n",
    "    ax1.set_zlim(-1.5, 1.5)\n",
    "    ax2.set_xlim(-3, 3)\n",
    "    ax2.set_ylim(-3, 3)\n",
    "    ax2.set_zlim(-1.5, 1.5)\n",
    "    ax3.set_xlim(-2.5, 2.5)\n",
    "    ax3.set_ylim(-2.5, 2.5)\n",
    "    ax3.set_zlim(-2, 2)\n",
    "    #ax1.set_xlabel(\"X\")\n",
    "    #ax1.set_ylabel(\"Y\")\n",
    "    #ax1.set_zlabel(\"Z\")\n",
    "    #ax2.set_xlabel(\"X\")\n",
    "    #ax2.set_ylabel(\"Y\")\n",
    "    #ax2.set_zlabel(\"Z\")\n",
    "    #ax3.set_xlabel(\"X\")\n",
    "    #ax3.set_ylabel(\"Y\")\n",
    "    #ax3.set_zlabel(\"Z\")\n",
    "    ax1.set_xticklabels([])\n",
    "    ax1.set_yticklabels([])\n",
    "    ax1.set_zticklabels([])\n",
    "    ax2.set_xticklabels([])\n",
    "    ax2.set_yticklabels([])\n",
    "    ax2.set_zticklabels([])\n",
    "    ax3.set_xticklabels([])\n",
    "    ax3.set_yticklabels([])\n",
    "    ax3.set_zticklabels([])\n",
    "    \n",
    "    plt.savefig('angle_invariant.svg')\n",
    "\n",
    "    plt.show()\n",
    "\n",
    "interact(three_d_plotter, \n",
    "         offset = widgets.FloatSlider(\n",
    "    min=-180,\n",
    "    max=180,\n",
    "    step=1,\n",
    "    description='Long. axis (align with +x):',\n",
    "    value=45\n",
    "),\n",
    "         alphaL1 = widgets.FloatSlider(\n",
    "    min=-180,\n",
    "    max=0,\n",
    "    step=10,\n",
    "    description='Left yaw min:',\n",
    "    value=-150\n",
    "),\n",
    "         alphaL2 = widgets.FloatSlider(\n",
    "    min=-180,\n",
    "    max=0,\n",
    "    step=10,\n",
    "    description='Left yaw max:',\n",
    "    value=-60\n",
    "),\n",
    "        alphaR1 = widgets.FloatSlider(\n",
    "    min=0,\n",
    "    max=180,\n",
    "    step=10,\n",
    "    description='Right yaw min:',\n",
    "    value=60\n",
    "),\n",
    "         alphaR2 = widgets.FloatSlider(\n",
    "    min=0,\n",
    "    max=180,\n",
    "    step=10,\n",
    "    description='Right yaw max:',\n",
    "    value=150\n",
    "),\n",
    "         beta = widgets.FloatSlider(\n",
    "    min=0,\n",
    "    max=90,\n",
    "    step=1,\n",
    "    description='Roll:',\n",
    "    value=20\n",
    "))"
   ]
  },
  {
   "cell_type": "code",
   "execution_count": null,
   "metadata": {},
   "outputs": [],
   "source": []
  }
 ],
 "metadata": {
  "kernelspec": {
   "display_name": "Python 3",
   "language": "python",
   "name": "python3"
  },
  "language_info": {
   "codemirror_mode": {
    "name": "ipython",
    "version": 3
   },
   "file_extension": ".py",
   "mimetype": "text/x-python",
   "name": "python",
   "nbconvert_exporter": "python",
   "pygments_lexer": "ipython3",
   "version": "3.8.6"
  }
 },
 "nbformat": 4,
 "nbformat_minor": 4
}
