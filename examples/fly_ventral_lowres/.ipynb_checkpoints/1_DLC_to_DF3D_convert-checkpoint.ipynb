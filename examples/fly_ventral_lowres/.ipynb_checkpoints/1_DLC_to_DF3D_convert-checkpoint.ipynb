{
 "cells": [
  {
   "cell_type": "code",
   "execution_count": 1,
   "metadata": {},
   "outputs": [],
   "source": [
    "import numpy as np\n",
    "import pandas as pd\n",
    "import matplotlib.pyplot as plt\n",
    "from scipy import ndimage\n",
    "import glob\n",
    "from tqdm import tqdm\n",
    "import pickle\n",
    "import torch\n",
    "import cv2\n",
    "from skeleton import skeleton\n",
    "from matplotlib.animation import FFMpegWriter\n",
    "G, color_edge = skeleton()\n",
    "import src.procrustes as procrustes\n",
    "import src.utils as utils"
   ]
  },
  {
   "cell_type": "code",
   "execution_count": 2,
   "metadata": {},
   "outputs": [],
   "source": [
    "home_dir = '/data/LiftFly3D/fly_ventral_lowres/102906_s1a5_p6-0/'\n",
    "\n",
    "experiments = ['vid_p6-0_off0_fly0_DLC_resnet50_dlcTrackingAug6shuffle1_1030000.h5',\n",
    "               'vid_p6-0_on0_fly0_DLC_resnet50_dlcTrackingAug6shuffle1_1030000.h5',\n",
    "               'vid_p6-0_off1_fly0_DLC_resnet50_dlcTrackingAug6shuffle1_1030000.h5',\n",
    "               'vid_p6-0_on1_fly0_DLC_resnet50_dlcTrackingAug6shuffle1_1030000.h5',\n",
    "               'vid_p6-0_off2_fly0_DLC_resnet50_dlcTrackingAug6shuffle1_1030000.h5',\n",
    "               'vid_p6-0_on2_fly0_DLC_resnet50_dlcTrackingAug6shuffle1_1030000.h5',\n",
    "               'vid_p6-0_off3_fly0_DLC_resnet50_dlcTrackingAug6shuffle1_1030000.h5']\n",
    "\n",
    "leg_joints = ['RFbodyCoxa', 'RFfemurTibia', 'RFtibiaTarsus', 'RFclaw',\n",
    "          'RMbodyCoxa', 'RMfemurTibia', 'RMtibiaTarsus', 'RMclaw',\n",
    "          'RHbodyCoxa', 'RHfemurTibia', 'RHtibiaTarsus', 'RHclaw',\n",
    "          'LFbodyCoxa', 'LFfemurTibia', 'LFtibiaTarsus', 'LFclaw', \n",
    "          'LMbodyCoxa', 'LMfemurTibia', 'LMtibiaTarsus', 'LMclaw',\n",
    "          'LHbodyCoxa', 'LHfemurTibia', 'LHtibiaTarsus', 'LHclaw']\n",
    "\n",
    "leg_tips = ['RFclaw', 'RMclaw', 'RHclaw', 'LFclaw', 'LMclaw', 'LHclaw']\n",
    "\n",
    "ids = [1, 2, 3, 4,  6, 7, 8, 9,  11, 12, 13, 14,  16, 17, 18, 19,  21, 22, 23, 24,  26, 27, 28, 29]\n",
    "\n",
    "prism_data = '/data/LiftFly3D/prism/data_oriented/training_data/191125_PR_Fly1_001_prism.pkl'"
   ]
  },
  {
   "cell_type": "markdown",
   "metadata": {},
   "source": [
    "Preprocess data"
   ]
  },
  {
   "cell_type": "code",
   "execution_count": 14,
   "metadata": {},
   "outputs": [
    {
     "name": "stderr",
     "output_type": "stream",
     "text": [
      "100%|██████████| 7/7 [00:00<00:00, 42.33it/s]\n"
     ]
    }
   ],
   "source": [
    "poses = []\n",
    "X=None\n",
    "for i in tqdm(range(len(experiments))):\n",
    "    data = pd.read_hdf(home_dir + experiments[i]) #load data\n",
    "    data = data.droplevel('scorer',axis=1) #drop scorer column label\n",
    "\n",
    "    #rotate flies pointing left\n",
    "    theta = np.radians(90)\n",
    "    cos, sin = np.cos(theta), np.sin(theta)\n",
    "    R = np.array(((cos, -sin), (sin, cos)))\n",
    "    \n",
    "    xy = data.loc[:,(slice(None),['x','y'])].to_numpy().copy() \n",
    "    n = xy.shape[1]\n",
    "    xy = xy.reshape(-1,2)\n",
    "    xy = np.matmul(xy - 68,R) + 68\n",
    "    xy = xy.reshape(-1,n)\n",
    "    \n",
    "    data.loc[:,(slice(None),['x','y'])] = xy\n",
    "    \n",
    "    #select only leg joints\n",
    "    data_np = data.loc[:,(leg_joints,['x','y'])].to_numpy()\n",
    "    \n",
    "    #save in DF3D format\n",
    "    xy = np.stack((data_np[:,::2], data_np[:,1::2]), axis=2)\n",
    "    poses.append(xy)\n",
    "    \n",
    "    pickle.dump(xy,open(home_dir + experiments[i][:-3] + '.pkl', 'wb'))\n",
    " \n",
    "poses = {'points2d': np.vstack(poses) }"
   ]
  },
  {
   "cell_type": "code",
   "execution_count": 5,
   "metadata": {},
   "outputs": [],
   "source": [
    "template_dir = '/data/LiftFly3D/fly_ventral_lowres/network/'\n",
    "body_coxas = [0,4,8,12,16,20]\n",
    "prism_template = pickle.load(open(template_dir + '191125_PR_Fly1_001_prism.pkl','rb'))\n",
    "prism_template = prism_template['points2d'][:,:,ids,:]\n",
    "points2d = poses['points2d']\n",
    "\n",
    "_, _, R,scale,t = procrustes.compute_similarity_transform(prism_template[0,:,:,:].mean(axis=0)[:,:], \\\n",
    "                                                          points2d[:, :,:].mean(axis=0),\\\n",
    "                                                          compute_optimal_scale=True)\n",
    "\n",
    "points2d_rescale = np.zeros_like(points2d)\n",
    "for frame_idx in range(points2d.shape[1]):\n",
    "    points2d_rescale[frame_idx,:,:] = 1.1*scale*np.dot(points2d[frame_idx,:,:], R) + t\n",
    "    \n",
    "pickle.dump({\"points2d\": points2d_rescale}, open(home_dir + '2d_pose_Fly0.pkl', 'wb'))"
   ]
  },
  {
   "cell_type": "code",
   "execution_count": 6,
   "metadata": {},
   "outputs": [
    {
     "data": {
      "text/plain": [
       "3.465371784259493"
      ]
     },
     "execution_count": 6,
     "metadata": {},
     "output_type": "execute_result"
    }
   ],
   "source": [
    "scale"
   ]
  },
  {
   "cell_type": "code",
   "execution_count": 7,
   "metadata": {},
   "outputs": [
    {
     "data": {
      "image/png": "[encoded data removed]",
      "text/plain": [
       "<Figure size 432x288 with 1 Axes>"
      ]
     },
     "metadata": {
      "needs_background": "light"
     },
     "output_type": "display_data"
    }
   ],
   "source": [
    "t = 5\n",
    "utils.plot_skeleton(G, prism_template[0,t,:,0], prism_template[0,t,:,1], color_edge)\n",
    "utils.plot_skeleton(G, points2d_rescale[t,:,0], points2d_rescale[t,:,1], color_edge)"
   ]
  },
  {
   "cell_type": "markdown",
   "metadata": {},
   "source": [
    "Overlay DLC predictions with video"
   ]
  },
  {
   "cell_type": "code",
   "execution_count": 15,
   "metadata": {},
   "outputs": [
    {
     "data": {
      "text/plain": [
       "(-0.5, 137.5, 137.5, -0.5)"
      ]
     },
     "execution_count": 15,
     "metadata": {},
     "output_type": "execute_result"
    },
    {
     "data": {
      "image/png": "[encoded data removed]",
      "text/plain": [
       "<Figure size 720x720 with 1 Axes>"
      ]
     },
     "metadata": {
      "needs_background": "light"
     },
     "output_type": "display_data"
    }
   ],
   "source": [
    "imgs = utils.video_to_imgs(home_dir + '_'.join(experiments[1].split('_')[:4] + ['.mp4']))\n",
    "data = pickle.load(open(home_dir + experiments[1][:-3] + '.pkl','rb'))\n",
    "\n",
    "i = 40\n",
    "\n",
    "plt.figure(figsize=(10,10))\n",
    "im_rot = ndimage.rotate(imgs[i],90)\n",
    "plt.imshow(im_rot,cmap='gray', vmin=0, vmax=255)\n",
    "utils.plot_skeleton(G,data[i,:,0], data[i,:,1], color_edge)\n",
    "plt.axis('off')"
   ]
  },
  {
   "cell_type": "markdown",
   "metadata": {},
   "source": [
    "DLC video"
   ]
  },
  {
   "cell_type": "code",
   "execution_count": null,
   "metadata": {},
   "outputs": [
    {
     "name": "stderr",
     "output_type": "stream",
     "text": [
      "100%|██████████| 41/41 [00:01<00:00, 25.51it/s]\n",
      " 12%|█▎        | 30/240 [00:01<00:08, 24.89it/s]"
     ]
    }
   ],
   "source": [
    "#full image\n",
    "fig = plt.figure(figsize=(6,6))\n",
    "plt.subplots_adjust(top = 1, bottom = 0, right = 1, left = 0, \n",
    "            hspace = 0, wspace = 0)\n",
    "            \n",
    "writer = FFMpegWriter(fps=10)\n",
    "with writer.saving(fig, \"DLC_prediction.mp4\", 100):\n",
    "    for exp in range(len(experiments)):\n",
    "        imgs = utils.video_to_imgs(home_dir + '_'.join(experiments[exp].split('_')[:4] + ['.mp4']))\n",
    "        data = pickle.load(open(home_dir + experiments[exp][:-3] + '.pkl','rb'))\n",
    "        \n",
    "        for i in tqdm(range(data.shape[0])):\n",
    "            pos_pred, pos_tar = [], []   \n",
    "            plt.cla()\n",
    "        \n",
    "            im_rot = ndimage.rotate(imgs[i],90)\n",
    "            plt.imshow(im_rot,cmap='gray', vmin=0, vmax=255)\n",
    "                 \n",
    "            utils.plot_skeleton(G,data[i,:,0],data[i,:,1], color_edge)\n",
    "        \n",
    "            plt.axis('off')\n",
    "            writer.grab_frame() "
   ]
  },
  {
   "cell_type": "markdown",
   "metadata": {},
   "source": [
    "Arena video"
   ]
  },
  {
   "cell_type": "code",
   "execution_count": null,
   "metadata": {},
   "outputs": [],
   "source": [
    "imgs = utils.video_to_imgs('arena.mp4')"
   ]
  },
  {
   "cell_type": "markdown",
   "metadata": {},
   "source": [
    "Add circle around fly 0"
   ]
  },
  {
   "cell_type": "code",
   "execution_count": null,
   "metadata": {},
   "outputs": [],
   "source": [
    "import cv2\n",
    "\n",
    "count = 0\n",
    "r = 70\n",
    "thickness = 5\n",
    "for i in range(len(experiments)):\n",
    "    pos = np.load(home_dir + '_'.join(experiments[i].split('_')[:4] + ['.npy']))\n",
    "    for j in range(pos.shape[0]):\n",
    "\n",
    "        imgs[count] = cv2.circle(imgs[count], (int(pos[j,0]), int(pos[j,1])), r, (255, 255, 255), thickness) \n",
    "        count += 1\n",
    "        \n",
    "out = cv2.VideoWriter('arena_marked.mp4',cv2.VideoWriter_fourcc(*'DIVX'), 10, (imgs[0].shape[0], imgs[0].shape[1]))\n",
    " \n",
    "for i in range(len(imgs)):\n",
    "    out.write(imgs[i])\n",
    "out.release()"
   ]
  },
  {
   "cell_type": "markdown",
   "metadata": {},
   "source": [
    "Check data after preprocessing"
   ]
  },
  {
   "cell_type": "code",
   "execution_count": null,
   "metadata": {},
   "outputs": [],
   "source": [
    "tint = [0,400]\n",
    "times = np.arange(tint[0],tint[1])\n",
    "\n",
    "prism_dir = '/data/LiftFly3D/optobot/network/'\n",
    "optobot_dir = '/data/LiftFly3D/optobot/102906_s1a5_p6-0/'\n",
    "\n",
    "poses_optobot = torch.load(optobot_dir + 'test_2d.pth.tar')\n",
    "poses_prism = torch.load(prism_dir + 'train_2d.pth.tar')\n",
    "\n",
    "poses_optobot = np.concatenate([v for k,v in poses_optobot.items()], 0)\n",
    "poses_prism = np.concatenate([v for k,v in poses_prism.items()], 0)\n",
    "\n",
    "poses_optobot = np.stack((poses_optobot[:,::2], poses_optobot[:,1::2]), axis=2)\n",
    "poses_prism = np.stack((poses_prism[:,::2], poses_prism[:,1::2]), axis=2)\n",
    "\n",
    "fig = plt.figure(figsize=([8,8])) \n",
    "\n",
    "joint_id = [2, 5, 8, 11, 14, 17] #legtips\n",
    "for i, k in enumerate(joint_id):\n",
    "    fig.add_subplot(4,3,i+1)\n",
    "    plt.title(leg_tips[i])\n",
    "    \n",
    "    plt.plot(poses_prism[times,k,0], poses_prism[times,k,1],'o',alpha=0.1)  \n",
    "    plt.plot(poses_optobot[times,k,0], poses_optobot[times,k,1],'s',alpha=0.1)\n",
    "    plt.axis('square')\n",
    "    \n",
    "plt.tight_layout()\n",
    "plt.savefig('pose_distributions.svg')"
   ]
  },
  {
   "cell_type": "code",
   "execution_count": null,
   "metadata": {},
   "outputs": [],
   "source": []
  }
 ],
 "metadata": {
  "kernelspec": {
   "display_name": "Python 3",
   "language": "python",
   "name": "python3"
  },
  "language_info": {
   "codemirror_mode": {
    "name": "ipython",
    "version": 3
   },
   "file_extension": ".py",
   "mimetype": "text/x-python",
   "name": "python",
   "nbconvert_exporter": "python",
   "pygments_lexer": "ipython3",
   "version": "3.7.6"
  }
 },
 "nbformat": 4,
 "nbformat_minor": 4
}
