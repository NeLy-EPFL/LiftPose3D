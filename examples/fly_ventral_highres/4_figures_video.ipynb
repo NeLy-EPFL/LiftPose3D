{
 "cells": [
  {
   "cell_type": "markdown",
   "metadata": {},
   "source": [
    "# Joint angles"
   ]
  },
  {
   "cell_type": "code",
   "execution_count": 1,
   "metadata": {},
   "outputs": [],
   "source": [
    "import torch\n",
    "import numpy as np\n",
    "from numpy import matlib\n",
    "import matplotlib.pyplot as plt\n",
    "from skeleton import skeleton\n",
    "import src.utils as utils\n",
    "G, color_edge = skeleton()"
   ]
  },
  {
   "cell_type": "code",
   "execution_count": 34,
   "metadata": {},
   "outputs": [],
   "source": [
    "def pts3d_to_angle(pts3d,G):\n",
    "    '''compute joint angles from DeepFly3D'''\n",
    "    \n",
    "    n = int(len(G.nodes))\n",
    "    j_angles = np.zeros((pts3d.shape[0], n), dtype=np.float32)\n",
    "    err_j_angles = np.zeros((pts3d.shape[0], n), dtype=np.float32)\n",
    "    \n",
    "    for j in range(0, n): #joint\n",
    "        if G.degree(j) == 1:\n",
    "            nb = [n for n in G.neighbors(j)]\n",
    "            if nb[0]>j:\n",
    "                x0 = pts3d[:, j, :] + matlib.repmat(np.array([1,0,0]), pts3d.shape[0], 1)\n",
    "                j_angles[:, j], err_j_angles[:, j] = cos_rule(pts3d[:, nb[0], :], pts3d[:, j, :], x0)\n",
    "        \n",
    "        if G.degree(j) == 2:    \n",
    "            nb = [n for n in G.neighbors(j)]\n",
    "            if (nb[0]<j) and (nb[1]>j):\n",
    "                j_angles[:, j], err_j_angles[:, j] = cos_rule(pts3d[:, nb[0], :], pts3d[:, j, :], pts3d[:, nb[1], :])\n",
    "            \n",
    "    j_angles[np.logical_or(np.isnan(j_angles), np.isinf(j_angles))] = 0\n",
    "\n",
    "    return j_angles, err_j_angles\n",
    "\n",
    "\n",
    "def cos_rule(a, b, c):\n",
    "    '''cos-rule between angle spanned by 3 points'''\n",
    "    \n",
    "    ba = a - b\n",
    "    bc = c - b\n",
    "    \n",
    "    normba = np.linalg.norm(ba, axis=1)\n",
    "    normbc = np.linalg.norm(bc, axis=1)\n",
    "    \n",
    "    stdba = np.std(normba)\n",
    "    stdbc = np.std(normbc)\n",
    "    \n",
    "    cos_angle = []\n",
    "    for i in range(5000):\n",
    "        randa = np.random.normal(loc=0.0, scale=stdba)\n",
    "        randb = np.random.normal(loc=0.0, scale=stdbc)\n",
    "        \n",
    "        if len(np.where(ba==0)[0])>0:\n",
    "            xa = np.sqrt(stdba**2/2)\n",
    "            xc = np.sqrt(stdbc**2/2)\n",
    "            randba = np.random.multivariate_normal([0,0,0], [[xa,0,0],[0,xa,0],[0,0,0]])\n",
    "            randbc = np.random.multivariate_normal([0,0,0], [[xc,0,0],[0,xc,0],[0,0,0]])\n",
    "        else:\n",
    "            xa = np.sqrt(stdba**2/3)\n",
    "            xc = np.sqrt(stdbc**2/3)\n",
    "            randba = np.random.multivariate_normal([0,0,0], [[xa,0,0],[0,xa,0],[0,0,xa]])\n",
    "            randbc = np.random.multivariate_normal([0,0,0], [[xc,0,0],[0,xc,0],[0,0,xc]])\n",
    "\n",
    "        dotbabc = np.einsum(\"ij,ij->i\", ba+randba, bc+randbc)\n",
    "        \n",
    "        cos_angle.append(dotbabc / ((normba+randa) * (normbc+randb)))\n",
    "        \n",
    "    cos_angle = np.vstack(cos_angle)\n",
    "    \n",
    "    if (np.abs(cos_angle)>1).any():\n",
    "        cos_angle[np.abs(cos_angle)>1] = 0\n",
    "        print('some values outside [-1, 1] are detected')\n",
    "        \n",
    "    angle = np.arccos(cos_angle)\n",
    "        \n",
    "    angle_mean = np.mean(angle,axis=0)\n",
    "    angle_err = np.std(angle,axis=0)/2\n",
    "    \n",
    "    return angle_mean, angle_err\n",
    "\n",
    "\n",
    "def plot_epoch(tint, time, j_angles, err_j_angles, joints, title, ylim, ax, ylabel=None, label=None,col='r'):\n",
    "    ax.set_title(title, fontsize=15)\n",
    "    \n",
    "    for j in joints:\n",
    "        if label is not None:\n",
    "            ax.plot(time, j_angles[:,j], col, label=label)\n",
    "        else:\n",
    "            ax.plot(time, j_angles[:,j], col)\n",
    "        ax.fill_between(time, j_angles[:,j] - err_j_angles[:,j] , j_angles[:,j] + err_j_angles[:,j], alpha=0.3, color=col)\n",
    "        \n",
    "    ax.set_xlim(tint) \n",
    "    ax.set_ylim(ylim)\n",
    "    ax.set_ylabel(ylabel, fontsize=15)\n",
    "    \n",
    "    return ax"
   ]
  },
  {
   "cell_type": "markdown",
   "metadata": {},
   "source": [
    "Load data and rescale"
   ]
  },
  {
   "cell_type": "code",
   "execution_count": 58,
   "metadata": {},
   "outputs": [],
   "source": [
    "data_dir = '/data/LiftFly3D/flylimbtracker/data'\n",
    "template_dir = '/data/LiftFly3D/flylimbtracker/network/'\n",
    "        \n",
    "#load predictions\n",
    "data = torch.load(data_dir + '/test_results.pth.tar')\n",
    "out = data['output']\n",
    "inp = data['input']\n",
    "\n",
    "#output\n",
    "targets_1d = torch.load(data_dir + '/stat_3d.pth.tar')['targets_1d']\n",
    "test_keypts = torch.load(data_dir + '/stat_3d.pth.tar')['LR_test']\n",
    "test_keypts = np.concatenate([v for k,v in test_keypts.items()], 0)\n",
    "out_mean = torch.load(data_dir + '/stat_3d.pth.tar')['mean']\n",
    "out_std = torch.load(data_dir + '/stat_3d.pth.tar')['std']\n",
    "offset = torch.load(data_dir + '/stat_3d.pth.tar')['offset']\n",
    "offset = np.concatenate([v for k,v in offset.items()], 0)\n",
    "targets_1d = torch.load(data_dir + '/stat_3d.pth.tar')['targets_1d'] \n",
    "out = utils.expand(out,targets_1d,len(out_mean))\n",
    "out = utils.unNormalizeData(out, out_mean, out_std)\n",
    "#out += np.hstack((offset[0,15:],offset[0,15:]))/4\n",
    "\n",
    "#out = utils.filter_data(out, window=9, order=2)\n",
    "\n",
    "#inputs\n",
    "targets_2d = torch.load(template_dir + '/stat_2d.pth.tar')['targets_2d']    \n",
    "inp_mean = torch.load(template_dir + 'stat_2d.pth.tar')['mean']\n",
    "inp_std = torch.load(template_dir + 'stat_2d.pth.tar')['std']\n",
    "targets_2d = torch.load(template_dir + '/stat_2d.pth.tar')['targets_2d'] \n",
    "inp = utils.expand(inp,targets_2d,len(inp_mean))\n",
    "inp = utils.unNormalizeData(inp, inp_mean, inp_std)\n",
    "\n",
    "inp /= 112\n",
    "out /= 112\n",
    "poses = np.stack((inp[:,::2],inp[:,1::2],out), axis=2)"
   ]
  },
  {
   "cell_type": "markdown",
   "metadata": {},
   "source": [
    "Projected traces"
   ]
  },
  {
   "cell_type": "code",
   "execution_count": 59,
   "metadata": {},
   "outputs": [
    {
     "data": {
      "image/png": "[encoded data removed]",
      "text/plain": [
       "<Figure size 360x576 with 2 Axes>"
      ]
     },
     "metadata": {
      "needs_background": "light"
     },
     "output_type": "display_data"
    }
   ],
   "source": [
    "tint = [0,100]\n",
    "\n",
    "fig = plt.figure(figsize=([5,8])) \n",
    "ax1 = fig.add_subplot(2, 1, 1)\n",
    "ax2 = fig.add_subplot(2, 1, 2)\n",
    "\n",
    "times = np.arange(tint[0],tint[1])\n",
    "\n",
    "for i in [4,9,14,19,24,29]:\n",
    "    ax1.plot(poses[times,i,0],poses[times,i,1],'-o', c=color_edge[i]) \n",
    "       \n",
    "for j, i in enumerate([4,9,14]): #plot projected tarsus coordinates\n",
    "    ax2.plot(poses[times,i,0],poses[times,i,2]+[0.5,0.5,0.4][j],'-o', c=color_edge[i])\n",
    "        \n",
    "ax1.set_xlabel('X', fontsize=25)\n",
    "ax1.set_ylabel('Y', fontsize=25)\n",
    "ax2.set_xlabel('X', fontsize=25)\n",
    "ax2.set_ylabel('Z', fontsize=25)\n",
    "#ax1.axis('square')\n",
    "#ax1.set_xlim([-2, 2])\n",
    "#ax1.set_ylim([-2, 2])\n",
    "#ax2.set_ylim([-0.4, 0])\n",
    "#ax2.set_xlim([-2, 2])\n",
    "plt.tight_layout()\n",
    "plt.rc('xtick',labelsize=20)\n",
    "plt.rc('ytick',labelsize=20)\n",
    "plt.savefig('projections.svg')"
   ]
  },
  {
   "cell_type": "markdown",
   "metadata": {},
   "source": [
    "Physical angles"
   ]
  },
  {
   "cell_type": "code",
   "execution_count": null,
   "metadata": {
    "scrolled": false
   },
   "outputs": [],
   "source": [
    "f, axs = plt.subplots(3, 3, figsize=(10,5))\n",
    "\n",
    "tint = [0,135]\n",
    "def plot_angles(time, poses, tint, proj=False, LR=False, col=None):\n",
    "    \n",
    "    poses_copy = poses.copy()\n",
    "    \n",
    "    if proj:\n",
    "        poses_copy[:,:,2::3] = 0\n",
    "        \n",
    "    if col is None:\n",
    "        col = 'b'\n",
    "    \n",
    "    j_angles, err_j_angles = pts3d_to_angle(poses_copy,G)\n",
    "    j_angles = np.degrees(j_angles)\n",
    "    err_j_angles = np.degrees(err_j_angles)\n",
    "           \n",
    "    #front legs\n",
    "    axs[0,0] = plot_epoch(tint, time, j_angles, err_j_angles, [1], r'$\\alpha,\\,\\alpha^\\prime$', [50,150], axs[0,0], ylabel='Front leg', label=\"Left\",col=col)\n",
    "    axs[0,1] = plot_epoch(tint, time, j_angles, err_j_angles, [2], r'$\\beta,\\,\\beta^\\prime$', [50,150], axs[0,1],col=col)\n",
    "    axs[0,2] = plot_epoch(tint, time, j_angles, err_j_angles, [3], r'$\\gamma,\\,\\gamma^\\prime$', [50, 150], axs[0,2],col=col)\n",
    "\n",
    "    #midlegs\n",
    "    axs[1,0] = plot_epoch(tint, time, j_angles, err_j_angles, [6], '', [50, 100], axs[1,0], ylabel='Mid leg',col=col)\n",
    "    axs[1,1] = plot_epoch(tint, time, j_angles, err_j_angles, [7], '', [0, 150], axs[1,1],col=col)\n",
    "    axs[1,2] = plot_epoch(tint, time, j_angles, err_j_angles, [8], '', [50, 150], axs[1,2],col=col)\n",
    "    \n",
    "    #hindlegs\n",
    "    axs[2,0] = plot_epoch(tint, time, j_angles, err_j_angles, [11], '', [25, 100], axs[2,0], ylabel='Hind leg',col=col)\n",
    "    axs[2,1] = plot_epoch(tint, time, j_angles, err_j_angles, [12], '', [50, 150], axs[2,1],col=col)\n",
    "    axs[2,2] = plot_epoch(tint, time, j_angles, err_j_angles, [13], '', [50, 150], axs[2,2],col=col)\n",
    "    \n",
    "    if LR:\n",
    "        axs[0,0] = plot_epoch(tint, time, j_angles, err_j_angles, [16], r'$\\alpha,\\,\\alpha^\\prime$', [50,150], axs[0,0],  ylabel='Front leg', label=\"Right\",col='r')\n",
    "        axs[0,1] = plot_epoch(tint, time, j_angles, err_j_angles, [17], r'$\\beta,\\,\\beta^\\prime$', [50,150], axs[0,1],col='r')\n",
    "        axs[0,2] = plot_epoch(tint, time, j_angles, err_j_angles, [18], r'$\\gamma,\\,\\gamma^\\prime$', [50, 150], axs[0,2],col='r')\n",
    "        \n",
    "        axs[1,0] = plot_epoch(tint, time, j_angles, err_j_angles, [21], '', [50, 100], axs[1,0], ylabel='Mid leg',col='r')\n",
    "        axs[1,1] = plot_epoch(tint, time, j_angles, err_j_angles, [22], '', [0, 150], axs[1,1],col='r')\n",
    "        axs[1,2] = plot_epoch(tint, time, j_angles, err_j_angles, [23], '', [50, 150], axs[1,2],col='r')\n",
    "        \n",
    "        axs[2,0] = plot_epoch(tint, time, j_angles, err_j_angles, [26], '', [25, 100], axs[2,0], ylabel='Hind leg',col='r')\n",
    "        axs[2,1] = plot_epoch(tint, time, j_angles, err_j_angles, [27], '', [50, 150], axs[2,1],col='r')\n",
    "        axs[2,2] = plot_epoch(tint, time, j_angles, err_j_angles, [28], '', [50, 150], axs[2,2],col='r')\n",
    "        \n",
    "    return axs\n",
    "    \n",
    "#freq = 1/80\n",
    "time = np.arange(poses.shape[0])#*freq\n",
    "    \n",
    "plot_angles(time, poses, tint)\n",
    "plot_angles(time, poses, tint, LR=True, col='g')\n",
    "plt.tight_layout()\n",
    "#plt.savefig('joint_angles.svg')"
   ]
  },
  {
   "cell_type": "markdown",
   "metadata": {},
   "source": [
    "# Video"
   ]
  },
  {
   "cell_type": "markdown",
   "metadata": {},
   "source": [
    "Joint angles"
   ]
  },
  {
   "cell_type": "code",
   "execution_count": null,
   "metadata": {},
   "outputs": [],
   "source": [
    "from matplotlib.animation import FFMpegWriter\n",
    "from tqdm import tqdm\n",
    "f, axs = plt.subplots(3, 3, figsize=(10,5))\n",
    "f.subplots_adjust(left=0.14, bottom=0.13, right=0.98, top=0.90, wspace=0.4, hspace=0.4)\n",
    "nframes = 135\n",
    "freq = 1/80\n",
    "w = 40\n",
    "time = np.arange(poses.shape[0])*freq \n",
    "axs = plot_angles(time, poses, [time[0], time[w]])\n",
    "axs = plot_angles(time, poses, [time[0], time[w]], proj=True, col='g')\n",
    "\n",
    "f.text(0.55, 0.01, 'Time [sec]', ha='center', fontsize=20)\n",
    "f.text(0.01, 0.45, 'Joint angles [deg]', va='center', rotation='vertical', fontsize=20)\n",
    "#handles, labels = axs[0,0].get_legend_handles_labels()\n",
    "#f.legend(handles, loc='upper center')\n",
    "#axs[0,0].legend(loc=(0.1,1.5), frameon=True, ncol=2, fontsize=15)\n",
    "\n",
    "writer = FFMpegWriter(fps=10)\n",
    "l={}\n",
    "with writer.saving(f, \"joint_angles.mp4\", 100):\n",
    "    for t in tqdm(range(nframes)):\n",
    "        \n",
    "        if t-w//2<0:\n",
    "            tint = [time[0], time[w]]\n",
    "        elif t+w//2>=nframes:\n",
    "            tint = [time[t-w//2], time[t]]\n",
    "        else:\n",
    "            tint = [time[t-w//2], time[t+w//2]]\n",
    "                 \n",
    "        axs[0,0].set_xlim(tint)\n",
    "        axs[0,1].set_xlim(tint)\n",
    "        axs[0,2].set_xlim(tint)\n",
    "        axs[1,0].set_xlim(tint)\n",
    "        axs[1,1].set_xlim(tint)\n",
    "        axs[1,2].set_xlim(tint)\n",
    "        axs[2,0].set_xlim(tint)\n",
    "        axs[2,1].set_xlim(tint)\n",
    "        axs[2,2].set_xlim(tint)\n",
    "          \n",
    "        l[0] = axs[0,0].axvline(x=time[t], ymin=0, ymax=1, color='r')\n",
    "        l[1] = axs[0,1].axvline(x=time[t], ymin=0, ymax=1, color='r')\n",
    "        l[2] = axs[0,2].axvline(x=time[t], ymin=0, ymax=1, color='r')\n",
    "        l[3] = axs[2,2].axvline(x=time[t], ymin=0, ymax=1, color='r')\n",
    "        l[4] = axs[1,0].axvline(x=time[t], ymin=0, ymax=1, color='r')\n",
    "        l[5] = axs[2,0].axvline(x=time[t], ymin=0, ymax=1, color='r')\n",
    "        l[6] = axs[1,1].axvline(x=time[t], ymin=0, ymax=1, color='r')\n",
    "        l[7] = axs[1,2].axvline(x=time[t], ymin=0, ymax=1, color='r')\n",
    "        l[8] = axs[2,1].axvline(x=time[t], ymin=0, ymax=1, color='r')\n",
    "        \n",
    "        #plt.text(120, 80, str(i), fontsize=50, color='white')\n",
    "\n",
    "        writer.grab_frame()\n",
    "        l[0].remove()\n",
    "        l[1].remove()\n",
    "        l[2].remove()\n",
    "        l[3].remove()\n",
    "        l[4].remove()\n",
    "        l[5].remove()\n",
    "        l[6].remove()\n",
    "        l[7].remove()\n",
    "        l[8].remove()\n"
   ]
  },
  {
   "cell_type": "markdown",
   "metadata": {},
   "source": [
    "Projected traces"
   ]
  },
  {
   "cell_type": "code",
   "execution_count": 41,
   "metadata": {},
   "outputs": [
    {
     "name": "stderr",
     "output_type": "stream",
     "text": [
      "100%|██████████| 100/100 [00:01<00:00, 52.82it/s]\n"
     ]
    },
    {
     "data": {
      "image/png": "[encoded data removed]",
      "text/plain": [
       "<Figure size 360x576 with 2 Axes>"
      ]
     },
     "metadata": {
      "needs_background": "light"
     },
     "output_type": "display_data"
    }
   ],
   "source": [
    "from matplotlib.animation import FFMpegWriter\n",
    "from tqdm import tqdm\n",
    "\n",
    "nframes = 100\n",
    "w = 40\n",
    "\n",
    "fig = plt.figure(figsize=([5,8])) \n",
    "ax1 = fig.add_subplot(2, 1, 1)\n",
    "ax2 = fig.add_subplot(2, 1, 2)\n",
    "\n",
    "times = np.arange(0,w)\n",
    "\n",
    "l = {}\n",
    "count = 0\n",
    "for i in [4,9,14,19,24,29]:\n",
    "    l[count], = ax1.plot(poses[times,i,0], poses[times,i,1],'-o', color=color_edge[i]) \n",
    "    count+=1\n",
    "       \n",
    "for i in [4,9,14]: #plot projected tarsus coordinates\n",
    "    l[count], = ax2.plot(poses[times,i,0], poses[times,i,2],'-o', color=color_edge[i])\n",
    "    count+=1\n",
    "\n",
    "ax1.set_xlabel('X', fontsize=25)\n",
    "ax1.set_ylabel('Y', fontsize=25)\n",
    "ax2.set_xlabel('X', fontsize=25)\n",
    "ax2.set_ylabel('Z', fontsize=25)\n",
    "#ax1.axis('square')\n",
    "ax1.set_xlim([-2, 2])\n",
    "ax1.set_ylim([-2, 2])\n",
    "#ax2.set_ylim([-0.1, 0.4])\n",
    "ax2.set_xlim([-2, 2])\n",
    "plt.tight_layout()\n",
    "plt.rc('xtick',labelsize=20)\n",
    "plt.rc('ytick',labelsize=20)\n",
    "\n",
    "writer = FFMpegWriter(fps=10)\n",
    "with writer.saving(fig, \"projected_traces.mp4\", 50):\n",
    "    for t in tqdm(range(nframes)):\n",
    "        \n",
    "        if t-w<0:\n",
    "            tint = [0, t]\n",
    "        else:\n",
    "            tint = [t-w, t]\n",
    "            \n",
    "        times = np.arange(tint[0], tint[1])\n",
    "            \n",
    "        count = 0\n",
    "        for i in [4,9,14,19,24,29]:\n",
    "            l[count].set_xdata(poses[times,i,0])\n",
    "            l[count].set_ydata(poses[times,i,1])\n",
    "            count+=1\n",
    "            \n",
    "        for j,i in enumerate([4,9,14]):\n",
    "            l[count].set_xdata(poses[times,i,0])\n",
    "            l[count].set_ydata(poses[times,i,2])\n",
    "            count+=1\n",
    "              \n",
    "        writer.grab_frame()"
   ]
  },
  {
   "cell_type": "markdown",
   "metadata": {},
   "source": [
    "# Merge videos"
   ]
  },
  {
   "cell_type": "code",
   "execution_count": null,
   "metadata": {},
   "outputs": [],
   "source": [
    "#stack videos horizontally (call this in the folder where the images are)\n",
    "\n",
    "#ffmpeg -i arena.mp4 -i cropped.mp4 -filter_complex \"[0:v]scale=-1:1000[v0];[v0][1:v]hstack=inputs=2\" output.mp4\n",
    "#ffmpeg -i output.mp4 -i prediction_cams.mp4 -filter_complex \"[0:v]scale=-1:480[v0];[v0][1:v]hstack=inputs=2\" output_2.mp4\n",
    "#ffmpeg -i output_2.mp4 -i projected_traces.mp4 -filter_complex \"[0:v]scale=-1:400[v0];[v0][1:v]hstack=inputs=2\" output_3.mp4\n",
    "\n",
    "#ffmpeg -i legend.mp4 -i joint_angles.mp4 -filter_complex \"[0:v]scale=-1:500,pad='iw+mod(iw\\,2)':'ih+mod(ih\\,2)'[v0];[v0][1:v]hstack=inputs=2\" output_4.mp4\n",
    "#ffmpeg -i output_3.mp4 -i output_4.mp4 -filter_complex \"[0:v]scale=1328:-1,pad='iw+mod(iw\\,2)':'ih+mod(ih\\,2)'[v0];[v0][1:v]vstack=inputs=2\" video_4.mp4\n"
   ]
  }
 ],
 "metadata": {
  "kernelspec": {
   "display_name": "Python 3",
   "language": "python",
   "name": "python3"
  },
  "language_info": {
   "codemirror_mode": {
    "name": "ipython",
    "version": 3
   },
   "file_extension": ".py",
   "mimetype": "text/x-python",
   "name": "python",
   "nbconvert_exporter": "python",
   "pygments_lexer": "ipython3",
   "version": "3.7.6"
  }
 },
 "nbformat": 4,
 "nbformat_minor": 4
}
