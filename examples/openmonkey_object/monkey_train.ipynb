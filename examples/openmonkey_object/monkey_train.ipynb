{
 "cells": [
  {
   "cell_type": "code",
   "execution_count": 1,
   "metadata": {},
   "outputs": [],
   "source": [
    "%load_ext autoreload\n",
    "%autoreload 2\n",
    "from load import *\n",
    "import torch\n",
    "import yaml\n",
    "import logging\n",
    "from imp import reload\n",
    "import matplotlib.pyplot as plt\n",
    "from liftpose.vision_3d import world_to_camera\n",
    "from tqdm import tqdm\n",
    "from load import get_btch\n",
    "reload(logging)\n",
    "logger = logging.getLogger(__name__).setLevel(logging.INFO)\n",
    "tqdm.get_lock().locks = []\n",
    "\n",
    "# decleare data parameters\n",
    "par_train = {'data_dir'       : '/data/LiftFly3D/openmonkey/OMS_Dataset', #mac/ubuntu path\n",
    "             #'data_dir'       : r'\\Users\\NeLy\\Desktop\\OMS_Dataset\\OMS_Dataset', #windows path\n",
    "             'out_dir'        : 'out', \n",
    "             'train_subjects' : [\"7\"],\n",
    "             'test_subjects'  : [\"9\"]}\n",
    "\n",
    "# merge with training parameters\n",
    "par_data = yaml.full_load(open('param.yaml', \"rb\"))\n",
    "par = {**par_data[\"data\"], **par_train}"
   ]
  },
  {
   "cell_type": "code",
   "execution_count": 2,
   "metadata": {},
   "outputs": [
    {
     "name": "stderr",
     "output_type": "stream",
     "text": [
      "/home/user/Desktop/lp3d_final/LiftPose3D/examples/openmonkey_object/load.py:110: RuntimeWarning: invalid value encountered in true_divide\n",
      "  offset = (vec / curr_length) * (bone_length[idx] - curr_length)\n"
     ]
    }
   ],
   "source": [
    "# takes around a minute\n",
    "train_2d, train_3d, train_keys = list(), list(), list()\n",
    "for btch in par_train[\"train_subjects\"]:\n",
    "    Data, _ = get_btch(btch, par_train[\"data_dir\"])\n",
    "    for idx, (k,v) in enumerate(Data.items()):\n",
    "        train_2d.append(Data[k][\"points2d\"])\n",
    "        train_3d.append(Data[k][\"points3d\"])\n",
    "        train_keys.append(k)\n",
    "\n",
    "test_2d, test_3d, test_keys = list(), list(), list()\n",
    "for btch in par_train[\"test_subjects\"]:\n",
    "    Data, _ = get_btch(btch, par_train[\"data_dir\"])\n",
    "    for idx, (k,v) in enumerate(Data.items()):\n",
    "        test_2d.append(Data[k][\"points2d\"])\n",
    "        test_3d.append(Data[k][\"points3d\"])\n",
    "        test_keys.append(k)\n",
    "\n",
    "train_2d, train_3d = np.stack(train_2d), np.stack(train_3d)\n",
    "test_2d, test_3d = np.stack(test_2d), np.stack(test_3d)\n",
    "\n",
    "#remove points with with large variance for easier training\n",
    "good_ind = np.where((train_2d.reshape(train_2d.shape[0], -1)).std(axis=1) < 1000)[0]\n",
    "train_2d = train_2d[good_ind]\n",
    "train_3d = train_3d[good_ind]\n",
    "\n",
    "# l2 normalization\n",
    "train_2d /= np.linalg.norm(train_2d, axis=(-1,-2), keepdims=True)\n",
    "test_2d /= np.linalg.norm(test_2d, axis=(-1,-2), keepdims=True)"
   ]
  },
  {
   "cell_type": "code",
   "execution_count": 5,
   "metadata": {},
   "outputs": [],
   "source": [
    "import matplotlib.pyplot as plt\n",
    "from mpl_toolkits.mplot3d import Axes3D"
   ]
  },
  {
   "cell_type": "code",
   "execution_count": 32,
   "metadata": {
    "tags": []
   },
   "outputs": [
    {
     "name": "stdout",
     "output_type": "stream",
     "text": [
      "[main.py:233]:INFO:Saving pre-processed 2D data at /home/user/Desktop/lp3d_final/LiftPose3D/examples/openmonkey_object/out/stat_2d.pth.tar.\n",
      "[main.py:252]:INFO:Saving pre-processed 3D data at /home/user/Desktop/lp3d_final/LiftPose3D/examples/openmonkey_object/out/stat_3d.pth.tar.\n",
      "[main.py:279]:INFO:Starting training model.\n",
      "[main.py:290]:DEBUG:\n",
      "==================Options=================\n",
      "[main.py:291]:DEBUG:{   'batch_size': 64,\n",
      "    'data_dir': '/home/user/Desktop/lp3d_final/LiftPose3D/examples/openmonkey_object/out',\n",
      "    'drop_input': 0.0,\n",
      "    'dropout': 0.5,\n",
      "    'epochs': 2,\n",
      "    'exp': '',\n",
      "    'is_train': True,\n",
      "    'job': 8,\n",
      "    'linear_size': 1024,\n",
      "    'load': None,\n",
      "    'lr': 0.001,\n",
      "    'lr_decay': 5000,\n",
      "    'lr_gamma': 0.9,\n",
      "    'max_norm': True,\n",
      "    'noise': None,\n",
      "    'num_stage': 2,\n",
      "    'out': '/home/user/Desktop/lp3d_final/LiftPose3D/examples/openmonkey_object/out',\n",
      "    'out_dir': '/home/user/Desktop/lp3d_final/LiftPose3D/examples/openmonkey_object/out',\n",
      "    'predict': False,\n",
      "    'procrustes': False,\n",
      "    'resume': False,\n",
      "    'test': False}\n",
      "[main.py:292]:DEBUG:==========================================\n",
      "\n",
      "[lift.py:44]:INFO:Training on the device: cuda:0\n",
      "[lift.py:73]:INFO:total params: 4.27M\n"
     ]
    },
    {
     "name": "stderr",
     "output_type": "stream",
     "text": [
      "Epoch 000 | LR  0.00100 | Loss Test  0.00000 | Loss Train  0.87709|: 100%|██████████| 490/490 [00:06<00:00, 73.27it/s]\n",
      "Epoch 001 | LR  0.00100 | Loss Test  0.40244 | Loss Train  0.52619|: 100%|██████████| 490/490 [00:06<00:00, 70.93it/s]\n"
     ]
    },
    {
     "name": "stdout",
     "output_type": "stream",
     "text": [
      "[main.py:376]:INFO:starting testing in path: out\n",
      "[lift.py:44]:INFO:Training on the device: cuda:0\n",
      "[lift.py:73]:INFO:total params: 4.27M\n",
      "[lift.py:79]:INFO:loading ckpt from 'out/ckpt_best.pth.tar'\n",
      "[lift.py:87]:INFO:ckpt loaded (epoch: 2 | err: 0.3820822812872141)\n",
      "[lift.py:120]:INFO:Saving results: /home/user/Desktop/lp3d_final/LiftPose3D/examples/openmonkey_object/out/test_results.pth.tar\n"
     ]
    },
    {
     "data": {
      "image/png": "[encoded data removed]",
      "text/plain": [
       "<Figure size 432x288 with 1 Axes>"
      ]
     },
     "metadata": {
      "needs_background": "light"
     },
     "output_type": "display_data"
    }
   ],
   "source": [
    "from liftpose.main import LiftPose3D\n",
    "lp3d = LiftPose3D('param.yaml', **par_train)\n",
    "lp3d.train(train_2d={'train': train_2d}, test_2d={'test': test_2d}, \n",
    "           train_3d={'train': train_3d}, test_3d={'test': test_3d},\n",
    "           training_kwargs={\"epochs\":2})\n",
    "lp3d.plot_pose_3d(plt.figure().add_subplot(111, projection='3d'), 0)"
   ]
  }
 ],
 "metadata": {
  "kernelspec": {
   "display_name": "Python 3",
   "language": "python",
   "name": "python3"
  },
  "language_info": {
   "codemirror_mode": {
    "name": "ipython",
    "version": 3
   },
   "file_extension": ".py",
   "mimetype": "text/x-python",
   "name": "python",
   "nbconvert_exporter": "python",
   "pygments_lexer": "ipython3",
   "version": "3.7.10"
  }
 },
 "nbformat": 4,
 "nbformat_minor": 4
}
