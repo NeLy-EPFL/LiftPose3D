{
 "cells": [
  {
   "cell_type": "markdown",
   "metadata": {},
   "source": [
    "# Load OpenMonkeyStudio Data"
   ]
  },
  {
   "cell_type": "code",
   "execution_count": 22,
   "metadata": {},
   "outputs": [
    {
     "name": "stdout",
     "output_type": "stream",
     "text": [
      "The autoreload extension is already loaded. To reload it, use:\n",
      "  %reload_ext autoreload\n",
      "processing batch 7\n",
      "processing batch 9\n",
      "processing batch 9a\n",
      "processing batch 9b\n",
      "processing batch 10\n",
      "processing batch 11\n"
     ]
    }
   ],
   "source": [
    "%load_ext autoreload\n",
    "%autoreload 2\n",
    "from load import *\n",
    "import torch\n",
    "import yaml\n",
    "import logging\n",
    "from imp import reload\n",
    "import matplotlib.pyplot as plt\n",
    "from liftpose.vision_3d import transform_frame\n",
    "reload(logging)\n",
    "logger = logging.getLogger(__name__).setLevel(logging.INFO)\n",
    "\n",
    "# decleare data parameters\n",
    "par_train = {'data_dir' : '/data/LiftFly3D/openmonkey/OMS_Dataset/', # change the path \n",
    "       'out_dir'        : './out',\n",
    "       'subjects'       : [\"7\", \"9\", \"9a\", \"9b\", \"10\", \"11\"],\n",
    "        'train_subjects': [\"7\", \"9a\", \"9b\", \"10\", \"11\"],\n",
    "        'test_subjects' : [\"9\"]}\n",
    "\n",
    "# merge with training parameters\n",
    "par_data = yaml.full_load(open('param.yaml', \"rb\"))\n",
    "par = {**par_data[\"data\"], **par_train}\n",
    "\n",
    "# load data\n",
    "cameras, pose_result = load_data(par['data_dir'], par[\"subjects\"])\n",
    "\n",
    "# split data into training and test\n",
    "train_2d = {k:np.array(v[\"points2d\"]) for (k,v) in pose_result.items() if k in par[\"train_subjects\"]}\n",
    "test_2d = {k:np.array(v[\"points2d\"]) for (k,v) in pose_result.items() if k in par[\"test_subjects\"]}\n",
    "train_3d = {k:np.array(v[\"points3d\"]) for (k,v) in pose_result.items() if k in par[\"train_subjects\"]}\n",
    "test_3d = {k:np.array(v[\"points3d\"]) for (k,v) in pose_result.items() if k in par[\"test_subjects\"]}\n",
    "\n",
    "\n",
    "# convert 3d points into camera frame\n",
    "for btch in train_3d.keys():\n",
    "    for idx in range(train_3d[btch].shape[0]):\n",
    "        cam_id = pose_result[btch]['cam_id'][idx]\n",
    "        R, T, intr, distort, vis_pts = cameras[btch][cam_id]\n",
    "        train_3d[btch][idx] = world_to_camera2(train_3d[btch][idx].copy(), R, T)\n",
    "        \n",
    "for btch in test_3d.keys():\n",
    "    for idx in range(test_3d[btch].shape[0]):\n",
    "        cam_id = pose_result[btch]['cam_id'][idx]\n",
    "        R, T, intr, distort, vis_pts = cameras[btch][cam_id]\n",
    "        test_3d[btch][idx] = world_to_camera2(test_3d[btch][idx].copy(), R, T)\n",
    "\n",
    "\n",
    "# 3d points bone-length normalize\n",
    "for btch in train_3d.keys():\n",
    "    train_3d[btch] = bone_length_normalize(template=train_3d['7'], d=train_3d[btch])\n",
    "    \n",
    "for btch in test_3d.keys():\n",
    "    test_3d[btch] = bone_length_normalize(template=train_3d['7'], d=test_3d[btch])\n",
    "        \n",
    "# unit norm of 2d points\n",
    "train_2d = {k: v / np.linalg.norm(v.reshape(v.shape[0],-1), axis=1)[:,np.newaxis,np.newaxis] for (k,v) in train_2d.items()}\n",
    "test_2d = {k: v / np.linalg.norm(v.reshape(v.shape[0],-1), axis=1)[:,np.newaxis,np.newaxis] for (k,v) in test_2d.items()}"
   ]
  },
  {
   "cell_type": "code",
   "execution_count": 3,
   "metadata": {},
   "outputs": [],
   "source": [
    "def world_to_camera2(P, R, T):\n",
    "    \"\"\"\n",
    "  Rotate/translate 3d poses to camera viewpoint\n",
    "  Args\n",
    "    P: Nx3 points in world coordinates\n",
    "    R: 3x3 Camera rotation matrix\n",
    "    T: 3x1 Camera translation parameters\n",
    "  Returns\n",
    "    transf: Nx2 points on camera\n",
    "  \"\"\"\n",
    "\n",
    "    ndim = P.shape[1]\n",
    "    P = np.reshape(P, [-1, 3])\n",
    "\n",
    "    assert len(P.shape) == 2\n",
    "    assert P.shape[1] == 3\n",
    "\n",
    "    P_rot = np.matmul(R, P.T).T + T\n",
    "\n",
    "    return np.reshape(P_rot, [-1, ndim])"
   ]
  },
  {
   "cell_type": "markdown",
   "metadata": {},
   "source": [
    "# Train LiftPose3D Network on DeepFly3D Data"
   ]
  },
  {
   "cell_type": "code",
   "execution_count": null,
   "metadata": {},
   "outputs": [
    {
     "name": "stdout",
     "output_type": "stream",
     "text": [
      "[main.py:163]:INFO:Saving pre-processed 2D data at /home/user/Desktop/LiftPose3D/examples/openmonkey/out/stat_2d.pth.tar.\n",
      "[main.py:185]:INFO:Saving pre-processed 3D data at /home/user/Desktop/LiftPose3D/examples/openmonkey/outstat_3d.pth.tar.\n",
      "[main.py:212]:INFO:Starting training model.\n",
      "[main.py:221]:DEBUG:\n",
      "==================Options=================\n",
      "[main.py:222]:DEBUG:{   'batch_size': 64,\n",
      "    'data_dir': '/home/user/Desktop/LiftPose3D/examples/openmonkey/out',\n",
      "    'dropout': 0.5,\n",
      "    'epochs': 10,\n",
      "    'exp': '',\n",
      "    'is_train': True,\n",
      "    'job': 8,\n",
      "    'linear_size': 1024,\n",
      "    'load': None,\n",
      "    'lr': 0.001,\n",
      "    'lr_decay': 100000,\n",
      "    'lr_gamma': 0.96,\n",
      "    'max_norm': True,\n",
      "    'noise': None,\n",
      "    'num_stage': 2,\n",
      "    'out': '/home/user/Desktop/LiftPose3D/examples/openmonkey/out',\n",
      "    'out_dir': '/home/user/Desktop/LiftPose3D/examples/openmonkey/out',\n",
      "    'predict': False,\n",
      "    'procrustes': False,\n",
      "    'resume': False,\n",
      "    'test': False}\n",
      "[main.py:223]:DEBUG:==========================================\n",
      "\n",
      "[lift.py:30]:INFO:Training on the device: cuda:0\n",
      "[lift.py:58]:INFO:total params: 4.27M\n"
     ]
    },
    {
     "name": "stderr",
     "output_type": "stream",
     "text": [
      "Epoch 0 | Loss Test 0 | Loss Train 0.77486|: 100%|██████████| 6366/6366 [01:16<00:00, 83.16it/s] \n",
      "/home/user/Desktop/LiftPose3D/liftpose/lifter/test.py:101: RuntimeWarning: Mean of empty slice\n",
      "  joint_err = np.nanmean(all_dist, axis=0)\n",
      "Epoch 1 | Loss Test 0.25334 | Loss Train 0.67435|:   9%|▉         | 598/6366 [00:08<01:12, 79.53it/s]"
     ]
    }
   ],
   "source": [
    "from liftpose.main import train as lp3d_train\n",
    "\n",
    "lp3d_train(train_2d=train_2d, test_2d=test_2d, train_3d=train_3d, test_3d=test_3d, \n",
    "           **{k:par[k] for k in ['roots', 'target_sets', 'out_dir']})"
   ]
  },
  {
   "cell_type": "code",
   "execution_count": 15,
   "metadata": {},
   "outputs": [
    {
     "data": {
      "image/png": "[encoded data removed]",
      "text/plain": [
       "<Figure size 432x288 with 1 Axes>"
      ]
     },
     "metadata": {
      "needs_background": "light"
     },
     "output_type": "display_data"
    }
   ],
   "source": [
    "%matplotlib inline\n",
    "from liftpose.plot import read_log_train, plot_log_train\n",
    "epoch, lr, loss_train, loss_test, err_test = read_log_train(par['out_dir'])\n",
    "plot_log_train(plt.gca(), loss_train, loss_test, epoch)"
   ]
  },
  {
   "cell_type": "markdown",
   "metadata": {},
   "source": [
    "# Run Trained LiftPose3D Network on the Test Data"
   ]
  },
  {
   "cell_type": "code",
   "execution_count": 16,
   "metadata": {},
   "outputs": [
    {
     "name": "stdout",
     "output_type": "stream",
     "text": [
      "[main.py:245]:INFO:starting testing in path: ./out\n",
      "[lift.py:30]:INFO:Training on the device: cuda:0\n",
      "[lift.py:58]:INFO:total params: 4.27M\n",
      "[lift.py:64]:INFO:loading ckpt from './out/ckpt_best.pth.tar'\n",
      "[lift.py:72]:INFO:ckpt loaded (epoch: 10 | err: 0.5866420785530043)\n",
      "[lift.py:110]:INFO:Saving results: /home/user/Desktop/LiftPose3D/examples/openmonkey/out/test_results.pth.tar\n"
     ]
    }
   ],
   "source": [
    "from liftpose.main import test as lp3d_test\n",
    "lp3d_test(par['out_dir'])"
   ]
  },
  {
   "cell_type": "markdown",
   "metadata": {},
   "source": [
    "# Run Trained LiftPose3D Network on the Test Data"
   ]
  },
  {
   "cell_type": "code",
   "execution_count": 17,
   "metadata": {},
   "outputs": [],
   "source": [
    "from liftpose.postprocess import load_test_results\n",
    "data = torch.load(os.path.join(par['out_dir'], \"test_results.pth.tar\"))\n",
    "stat_2d, stat_3d = (\n",
    "    torch.load(os.path.join(par['out_dir'], \"stat_2d.pth.tar\")),\n",
    "    torch.load(os.path.join(par['out_dir'], \"stat_3d.pth.tar\")),\n",
    ")\n",
    "test_3d_gt, test_3d_pred = load_test_results(data, stat_2d, stat_3d)"
   ]
  },
  {
   "cell_type": "code",
   "execution_count": 21,
   "metadata": {},
   "outputs": [
    {
     "data": {
      "application/vnd.jupyter.widget-view+json": {
       "model_id": "ba3ea4e06d0f4d30945843777ee42505",
       "version_major": 2,
       "version_minor": 0
      },
      "text/plain": [
       "Canvas(toolbar=Toolbar(toolitems=[('Home', 'Reset original view', 'home', 'home'), ('Back', 'Back to previous …"
      ]
     },
     "metadata": {},
     "output_type": "display_data"
    }
   ],
   "source": [
    "# https://stackoverflow.com/a/38865534/7554774\n",
    "# conda install ipympl\n",
    "%matplotlib widget\n",
    "#%matplotlib inline\n",
    "from liftpose.plot import plot_pose_3d\n",
    "\n",
    "fig = plt.figure(figsize=plt.figaspect(1), dpi=100)\n",
    "ax = fig.add_subplot(111, projection='3d')\n",
    "ax.view_init(elev=200, azim=60)\n",
    "\n",
    "t = 50\n",
    "plot_pose_3d(ax=ax, tar=test_3d_gt[t], \n",
    "            pred=test_3d_pred[t], \n",
    "            bones=par_data[\"vis\"][\"bones\"], \n",
    "            limb_id=par_data[\"vis\"][\"limb_id\"], \n",
    "            colors=par_data[\"vis\"][\"colors\"]) "
   ]
  },
  {
   "cell_type": "code",
   "execution_count": null,
   "metadata": {},
   "outputs": [],
   "source": []
  }
 ],
 "metadata": {
  "kernelspec": {
   "display_name": "Python 3.7.7 64-bit",
   "language": "python",
   "name": "python37764bit67c49755760a41fd8ae638ded7068a5f"
  },
  "language_info": {
   "codemirror_mode": {
    "name": "ipython",
    "version": 3
   },
   "file_extension": ".py",
   "mimetype": "text/x-python",
   "name": "python",
   "nbconvert_exporter": "python",
   "pygments_lexer": "ipython3",
   "version": "3.7.7"
  }
 },
 "nbformat": 4,
 "nbformat_minor": 4
}
