{
 "cells": [
  {
   "cell_type": "markdown",
   "metadata": {
    "colab_type": "text",
    "id": "9Uoz9mdPoEIy"
   },
   "source": [
    "## Create a new project\n",
    "\n",
    "It is always good idea to keep the projects seperate. This function creates a new project with subdirectories and a basic configuration file in the user defined directory otherwise the project is created in the current working directory.\n",
    "\n",
    "You can always add new videos to the project at any stage of the project. "
   ]
  },
  {
   "cell_type": "code",
   "execution_count": 2,
   "metadata": {},
   "outputs": [],
   "source": [
    "import warnings\n",
    "warnings.filterwarnings('ignore')"
   ]
  },
  {
   "cell_type": "code",
   "execution_count": 3,
   "metadata": {
    "colab": {},
    "colab_type": "code",
    "id": "jqLZhp7EoEI0"
   },
   "outputs": [],
   "source": [
    "import deeplabcut"
   ]
  },
  {
   "cell_type": "code",
   "execution_count": 4,
   "metadata": {},
   "outputs": [
    {
     "name": "stdout",
     "output_type": "stream",
     "text": [
      "/data/LiftFly3D/prism/bottom_view\n"
     ]
    }
   ],
   "source": [
    "import os\n",
    "print(os.getcwd())\n",
    "import matplotlib\n",
    "%matplotlib inline"
   ]
  },
  {
   "cell_type": "code",
   "execution_count": 5,
   "metadata": {},
   "outputs": [],
   "source": [
    "task='jointTracking' # Enter the name of your experiment Task\n",
    "experimenter='PrismData' # Enter the name of the experimenter\n",
    "\n",
    "videofile_path = [\n",
    "    \"/data/LiftFly3D/prism/bottom_view/videos/video_191125_PR_Fly1_001_prism.mp4\",\n",
    "    \"/data/LiftFly3D/prism/bottom_view/videos/video_191125_PR_Fly1_002_prism.mp4\",\n",
    "    \"/data/LiftFly3D/prism/bottom_view/videos/video_191125_PR_Fly1_003_prism.mp4\",\n",
    "    \"/data/LiftFly3D/prism/bottom_view/videos/video_191125_PR_Fly1_004_prism.mp4\",\n",
    "    \"/data/LiftFly3D/prism/bottom_view/videos/video_191125_PR_Fly2_001_prism.mp4\",\n",
    "    \"/data/LiftFly3D/prism/bottom_view/videos/video_191125_PR_Fly2_002_prism.mp4\",\n",
    "    \"/data/LiftFly3D/prism/bottom_view/videos/video_191125_PR_Fly2_003_prism.mp4\",\n",
    "    \"/data/LiftFly3D/prism/bottom_view/videos/video_191125_PR_Fly2_004_prism.mp4\",\n",
    "]\n",
    "\n",
    "deeplabcut_dir = \"/data/LiftFly3D/prism/bottom_view/\"\n",
    "config_path = deeplabcut_dir + \"config.yaml\""
   ]
  },
  {
   "cell_type": "code",
   "execution_count": null,
   "metadata": {},
   "outputs": [],
   "source": [
    "deeplabcut.create_new_project(task, experimenter, videofile_path)"
   ]
  },
  {
   "cell_type": "markdown",
   "metadata": {
    "colab_type": "text",
    "id": "0yXW0bx1oEJA"
   },
   "source": [
    "## Extract frames from videos \n",
    "A key point for a successful feature detector is to select diverse frames, which are typical for the behavior you study that should be labeled.\n",
    "\n",
    "This function selects N frames either uniformly sampled from a particular video (or folder) (algo=='uniform'). Note: this might not yield diverse frames, if the behavior is sparsely distributed (consider using kmeans), and/or select frames manually etc.\n",
    "\n",
    "Also make sure to get select data from different (behavioral) sessions and different animals if those vary substantially (to train an invariant feature detector).\n",
    "\n",
    "Individual images should not be too big (i.e. < 850 x 850 pixel). Although this can be taken care of later as well, it is advisable to crop the frames, to remove unnecessary parts of the frame as much as possible.\n",
    "\n",
    "Always check the output of cropping. If you are happy with the results proceed to labeling."
   ]
  },
  {
   "cell_type": "code",
   "execution_count": 8,
   "metadata": {
    "colab": {},
    "colab_type": "code",
    "id": "t1ulumCuoEJC"
   },
   "outputs": [
    {
     "name": "stdout",
     "output_type": "stream",
     "text": [
      "Config file read successfully.\n",
      "Do you want to extract (perhaps additional) frames for video: /ramdya-nas/SG/prism_data/191125_PR/Fly1/001_prism/behData/images/top_view_191125_PR_Fly1_001_prism/top_video_191125_PR_Fly1_001_prism.mp4 ?\n",
      "yes/nono\n",
      "Do you want to extract (perhaps additional) frames for video: /ramdya-nas/SG/prism_data/191125_PR/Fly1/002_prism/behData/images/top_view_191125_PR_Fly1_002_prism/top_video_191125_PR_Fly1_002_prism.mp4 ?\n",
      "yes/nono\n",
      "Do you want to extract (perhaps additional) frames for video: /ramdya-nas/SG/prism_data/191125_PR/Fly1/003_prism/behData/images/top_view_191125_PR_Fly1_003_prism/top_video_191125_PR_Fly1_003_prism.mp4 ?\n",
      "yes/nono\n",
      "Do you want to extract (perhaps additional) frames for video: /ramdya-nas/SG/prism_data/191125_PR/Fly1/004_prism/behData/images/top_view_191125_PR_Fly1_004_prism/top_video_191125_PR_Fly1_004_prism.mp4 ?\n",
      "yes/nono\n",
      "Do you want to extract (perhaps additional) frames for video: /ramdya-nas/SG/prism_data/191125_PR/Fly2/001_prism/behData/images/top_view_191125_PR_Fly2_001_prism/top_video_191125_PR_Fly2_001_prism.mp4 ?\n",
      "yes/nono\n",
      "Do you want to extract (perhaps additional) frames for video: /ramdya-nas/SG/prism_data/191125_PR/Fly2/002_prism/behData/images/top_view_191125_PR_Fly2_002_prism/top_video_191125_PR_Fly2_002_prism.mp4 ?\n",
      "yes/nono\n",
      "Do you want to extract (perhaps additional) frames for video: /ramdya-nas/SG/prism_data/191125_PR/Fly2/003_prism/behData/images/top_view_191125_PR_Fly2_003_prism/top_video_191125_PR_Fly2_003_prism.mp4 ?\n",
      "yes/nono\n",
      "Do you want to extract (perhaps additional) frames for video: /ramdya-nas/SG/prism_data/191125_PR/Fly2/004_prism/behData/images/top_view_191125_PR_Fly2_004_prism/top_video_191125_PR_Fly2_004_prism.mp4 ?\n",
      "yes/noyes\n"
     ]
    },
    {
     "name": "stderr",
     "output_type": "stream",
     "text": [
      "31it [00:00, 308.15it/s]"
     ]
    },
    {
     "name": "stdout",
     "output_type": "stream",
     "text": [
      "Extracting frames based on kmeans ...\n",
      "Kmeans-quantization based extracting of frames from 0.0  seconds to 416.23  seconds.\n",
      "Extracting and downsampling... 24974  frames from the video.\n"
     ]
    },
    {
     "name": "stderr",
     "output_type": "stream",
     "text": [
      "24974it [00:36, 686.34it/s]\n"
     ]
    },
    {
     "name": "stdout",
     "output_type": "stream",
     "text": [
      "Kmeans clustering ... (this might take a while)\n",
      "\n",
      "Frames were selected.\n",
      "You can now label the frames using the function 'label_frames' (if you extracted enough frames for all videos).\n"
     ]
    }
   ],
   "source": [
    "deeplabcut.extract_frames(config_path, 'automatic', 'kmeans', crop=False, userfeedback=True)\n",
    "# there are other ways to grab frames, such as by clustering 'kmeans'; please see the paper."
   ]
  },
  {
   "cell_type": "markdown",
   "metadata": {
    "colab_type": "text",
    "id": "Gjn6ZDonoEJH"
   },
   "source": [
    "## Label the extracted frames\n",
    "Only videos in the config file can be used to extract the frames. Extracted labels for each video are stored in the project directory under the subdirectory **'labeled-data'**. Each subdirectory is named after the name of the video. The toolbox has a labeling toolbox which could be used for labeling. "
   ]
  },
  {
   "cell_type": "code",
   "execution_count": 5,
   "metadata": {
    "colab": {},
    "colab_type": "code",
    "id": "iyROSOiEoEJI",
    "scrolled": false
   },
   "outputs": [
    {
     "name": "stdout",
     "output_type": "stream",
     "text": [
      "Working on folder: top_video_191125_PR_Fly2_004_prism\n"
     ]
    }
   ],
   "source": [
    "%gui wx\n",
    "deeplabcut.label_frames(config_path)"
   ]
  },
  {
   "cell_type": "markdown",
   "metadata": {
    "colab_type": "text",
    "id": "xNi9s1dboEJN"
   },
   "source": [
    "## Create a training dataset\n",
    "This function generates the training data information for DeepCut (which requires a mat file) based on the pandas dataframes that hold label information. The user can set the fraction of the training set size (from all labeled image in the hd5 file) in the config.yaml file. While creating the dataset, the user can create multiple shuffles. \n",
    "\n",
    "After running this script the training dataset is created and saved in the project directory under the subdirectory **'training-datasets'**\n",
    "\n",
    "This function also creates new subdirectories under **dlc-models** and appends the project config.yaml file with the correct path to the training and testing pose configuration file. These files hold the parameters for training the network. Such an example file is provided with the toolbox and named as **pose_cfg.yaml**.\n",
    "\n",
    "Now it is the time to start training the network!"
   ]
  },
  {
   "cell_type": "code",
   "execution_count": null,
   "metadata": {
    "colab": {},
    "colab_type": "code",
    "id": "eMeUwgxPoEJP",
    "scrolled": true
   },
   "outputs": [],
   "source": [
    "'''\n",
    "deeplabcut.create_training_dataset(config_path)\n",
    "'''"
   ]
  },
  {
   "cell_type": "markdown",
   "metadata": {
    "colab_type": "text",
    "id": "c4FczXGDoEJU"
   },
   "source": [
    "## Start training\n",
    "\n",
    "This function trains the network for a specific shuffle of the training dataset. "
   ]
  },
  {
   "cell_type": "code",
   "execution_count": null,
   "metadata": {
    "colab": {},
    "colab_type": "code",
    "id": "_pOvDq_2oEJW",
    "scrolled": false
   },
   "outputs": [],
   "source": [
    "'''\n",
    "deeplabcut.train_network(config_path,\n",
    "                         displayiters=2000,\n",
    "                         saveiters=20000,\n",
    "                         maxiters=200000)\n",
    "'''"
   ]
  },
  {
   "cell_type": "markdown",
   "metadata": {
    "colab_type": "text",
    "id": "xZygsb2DoEJc"
   },
   "source": [
    "## Start evaluating\n",
    "This funtion evaluates a trained model for a specific shuffle/shuffles at a particular state or all the states on the data set (images)\n",
    "and stores the results as .csv file in a subdirectory under **evaluation-results**"
   ]
  },
  {
   "cell_type": "code",
   "execution_count": 6,
   "metadata": {
    "colab": {},
    "colab_type": "code",
    "id": "nv4zlbrnoEJg",
    "scrolled": false
   },
   "outputs": [
    {
     "name": "stdout",
     "output_type": "stream",
     "text": [
      "/data/LiftFly3D/prism/bottom_view/evaluation-results/  already exists!\n",
      "/data/LiftFly3D/prism/bottom_view/evaluation-results/iteration-0/jointTrackingDec13-trainset95shuffle1  already exists!\n",
      "Running  DLC_resnet50_jointTrackingDec13shuffle1_200000  with # of trainingiterations: 200000\n",
      "Initializing ResNet\n"
     ]
    },
    {
     "ename": "InternalError",
     "evalue": "Failed to create session.",
     "output_type": "error",
     "traceback": [
      "\u001b[0;31m---------------------------------------------------------------------------\u001b[0m",
      "\u001b[0;31mInternalError\u001b[0m                             Traceback (most recent call last)",
      "\u001b[0;32m<ipython-input-6-5a966cc5e36f>\u001b[0m in \u001b[0;36m<module>\u001b[0;34m\u001b[0m\n\u001b[0;32m----> 1\u001b[0;31m \u001b[0mdeeplabcut\u001b[0m\u001b[0;34m.\u001b[0m\u001b[0mevaluate_network\u001b[0m\u001b[0;34m(\u001b[0m\u001b[0mconfig_path\u001b[0m\u001b[0;34m,\u001b[0m \u001b[0mplotting\u001b[0m\u001b[0;34m=\u001b[0m\u001b[0;32mTrue\u001b[0m\u001b[0;34m)\u001b[0m\u001b[0;34m\u001b[0m\u001b[0;34m\u001b[0m\u001b[0m\n\u001b[0m",
      "\u001b[0;32m~/anaconda3/envs/DLC_env/lib/python3.6/site-packages/deeplabcut/pose_estimation_tensorflow/evaluate.py\u001b[0m in \u001b[0;36mevaluate_network\u001b[0;34m(config, Shuffles, trainingsetindex, plotting, show_errors, comparisonbodyparts, gputouse, rescale)\u001b[0m\n\u001b[1;32m    332\u001b[0m                 \u001b[0;32mif\u001b[0m \u001b[0mnotanalyzed\u001b[0m\u001b[0;34m:\u001b[0m\u001b[0;34m\u001b[0m\u001b[0;34m\u001b[0m\u001b[0m\n\u001b[1;32m    333\u001b[0m                     \u001b[0;31m# Specifying state of model (snapshot / training state)\u001b[0m\u001b[0;34m\u001b[0m\u001b[0;34m\u001b[0m\u001b[0;34m\u001b[0m\u001b[0m\n\u001b[0;32m--> 334\u001b[0;31m                     \u001b[0msess\u001b[0m\u001b[0;34m,\u001b[0m \u001b[0minputs\u001b[0m\u001b[0;34m,\u001b[0m \u001b[0moutputs\u001b[0m \u001b[0;34m=\u001b[0m \u001b[0mpredict\u001b[0m\u001b[0;34m.\u001b[0m\u001b[0msetup_pose_prediction\u001b[0m\u001b[0;34m(\u001b[0m\u001b[0mdlc_cfg\u001b[0m\u001b[0;34m)\u001b[0m\u001b[0;34m\u001b[0m\u001b[0;34m\u001b[0m\u001b[0m\n\u001b[0m\u001b[1;32m    335\u001b[0m                     \u001b[0mNumimages\u001b[0m \u001b[0;34m=\u001b[0m \u001b[0mlen\u001b[0m\u001b[0;34m(\u001b[0m\u001b[0mData\u001b[0m\u001b[0;34m.\u001b[0m\u001b[0mindex\u001b[0m\u001b[0;34m)\u001b[0m\u001b[0;34m\u001b[0m\u001b[0;34m\u001b[0m\u001b[0m\n\u001b[1;32m    336\u001b[0m                     \u001b[0mPredicteData\u001b[0m \u001b[0;34m=\u001b[0m \u001b[0mnp\u001b[0m\u001b[0;34m.\u001b[0m\u001b[0mzeros\u001b[0m\u001b[0;34m(\u001b[0m\u001b[0;34m(\u001b[0m\u001b[0mNumimages\u001b[0m\u001b[0;34m,\u001b[0m\u001b[0;36m3\u001b[0m \u001b[0;34m*\u001b[0m \u001b[0mlen\u001b[0m\u001b[0;34m(\u001b[0m\u001b[0mdlc_cfg\u001b[0m\u001b[0;34m[\u001b[0m\u001b[0;34m'all_joints_names'\u001b[0m\u001b[0;34m]\u001b[0m\u001b[0;34m)\u001b[0m\u001b[0;34m)\u001b[0m\u001b[0;34m)\u001b[0m\u001b[0;34m\u001b[0m\u001b[0;34m\u001b[0m\u001b[0m\n",
      "\u001b[0;32m~/anaconda3/envs/DLC_env/lib/python3.6/site-packages/deeplabcut/pose_estimation_tensorflow/nnet/predict.py\u001b[0m in \u001b[0;36msetup_pose_prediction\u001b[0;34m(cfg)\u001b[0m\n\u001b[1;32m     35\u001b[0m \u001b[0;34m\u001b[0m\u001b[0m\n\u001b[1;32m     36\u001b[0m     \u001b[0mrestorer\u001b[0m \u001b[0;34m=\u001b[0m \u001b[0mTF\u001b[0m\u001b[0;34m.\u001b[0m\u001b[0mtrain\u001b[0m\u001b[0;34m.\u001b[0m\u001b[0mSaver\u001b[0m\u001b[0;34m(\u001b[0m\u001b[0;34m)\u001b[0m\u001b[0;34m\u001b[0m\u001b[0;34m\u001b[0m\u001b[0m\n\u001b[0;32m---> 37\u001b[0;31m     \u001b[0msess\u001b[0m \u001b[0;34m=\u001b[0m \u001b[0mTF\u001b[0m\u001b[0;34m.\u001b[0m\u001b[0mSession\u001b[0m\u001b[0;34m(\u001b[0m\u001b[0;34m)\u001b[0m\u001b[0;34m\u001b[0m\u001b[0;34m\u001b[0m\u001b[0m\n\u001b[0m\u001b[1;32m     38\u001b[0m     \u001b[0msess\u001b[0m\u001b[0;34m.\u001b[0m\u001b[0mrun\u001b[0m\u001b[0;34m(\u001b[0m\u001b[0mTF\u001b[0m\u001b[0;34m.\u001b[0m\u001b[0mglobal_variables_initializer\u001b[0m\u001b[0;34m(\u001b[0m\u001b[0;34m)\u001b[0m\u001b[0;34m)\u001b[0m\u001b[0;34m\u001b[0m\u001b[0;34m\u001b[0m\u001b[0m\n\u001b[1;32m     39\u001b[0m     \u001b[0msess\u001b[0m\u001b[0;34m.\u001b[0m\u001b[0mrun\u001b[0m\u001b[0;34m(\u001b[0m\u001b[0mTF\u001b[0m\u001b[0;34m.\u001b[0m\u001b[0mlocal_variables_initializer\u001b[0m\u001b[0;34m(\u001b[0m\u001b[0;34m)\u001b[0m\u001b[0;34m)\u001b[0m\u001b[0;34m\u001b[0m\u001b[0;34m\u001b[0m\u001b[0m\n",
      "\u001b[0;32m~/anaconda3/envs/DLC_env/lib/python3.6/site-packages/tensorflow/python/client/session.py\u001b[0m in \u001b[0;36m__init__\u001b[0;34m(self, target, graph, config)\u001b[0m\n\u001b[1;32m   1492\u001b[0m \u001b[0;34m\u001b[0m\u001b[0m\n\u001b[1;32m   1493\u001b[0m     \"\"\"\n\u001b[0;32m-> 1494\u001b[0;31m     \u001b[0msuper\u001b[0m\u001b[0;34m(\u001b[0m\u001b[0mSession\u001b[0m\u001b[0;34m,\u001b[0m \u001b[0mself\u001b[0m\u001b[0;34m)\u001b[0m\u001b[0;34m.\u001b[0m\u001b[0m__init__\u001b[0m\u001b[0;34m(\u001b[0m\u001b[0mtarget\u001b[0m\u001b[0;34m,\u001b[0m \u001b[0mgraph\u001b[0m\u001b[0;34m,\u001b[0m \u001b[0mconfig\u001b[0m\u001b[0;34m=\u001b[0m\u001b[0mconfig\u001b[0m\u001b[0;34m)\u001b[0m\u001b[0;34m\u001b[0m\u001b[0;34m\u001b[0m\u001b[0m\n\u001b[0m\u001b[1;32m   1495\u001b[0m     \u001b[0;31m# NOTE(mrry): Create these on first `__enter__` to avoid a reference cycle.\u001b[0m\u001b[0;34m\u001b[0m\u001b[0;34m\u001b[0m\u001b[0;34m\u001b[0m\u001b[0m\n\u001b[1;32m   1496\u001b[0m     \u001b[0mself\u001b[0m\u001b[0;34m.\u001b[0m\u001b[0m_default_graph_context_manager\u001b[0m \u001b[0;34m=\u001b[0m \u001b[0;32mNone\u001b[0m\u001b[0;34m\u001b[0m\u001b[0;34m\u001b[0m\u001b[0m\n",
      "\u001b[0;32m~/anaconda3/envs/DLC_env/lib/python3.6/site-packages/tensorflow/python/client/session.py\u001b[0m in \u001b[0;36m__init__\u001b[0;34m(self, target, graph, config)\u001b[0m\n\u001b[1;32m    624\u001b[0m     \u001b[0;32mtry\u001b[0m\u001b[0;34m:\u001b[0m\u001b[0;34m\u001b[0m\u001b[0;34m\u001b[0m\u001b[0m\n\u001b[1;32m    625\u001b[0m       \u001b[0;31m# pylint: disable=protected-access\u001b[0m\u001b[0;34m\u001b[0m\u001b[0;34m\u001b[0m\u001b[0;34m\u001b[0m\u001b[0m\n\u001b[0;32m--> 626\u001b[0;31m       \u001b[0mself\u001b[0m\u001b[0;34m.\u001b[0m\u001b[0m_session\u001b[0m \u001b[0;34m=\u001b[0m \u001b[0mtf_session\u001b[0m\u001b[0;34m.\u001b[0m\u001b[0mTF_NewSession\u001b[0m\u001b[0;34m(\u001b[0m\u001b[0mself\u001b[0m\u001b[0;34m.\u001b[0m\u001b[0m_graph\u001b[0m\u001b[0;34m.\u001b[0m\u001b[0m_c_graph\u001b[0m\u001b[0;34m,\u001b[0m \u001b[0mopts\u001b[0m\u001b[0;34m)\u001b[0m\u001b[0;34m\u001b[0m\u001b[0;34m\u001b[0m\u001b[0m\n\u001b[0m\u001b[1;32m    627\u001b[0m       \u001b[0;31m# pylint: enable=protected-access\u001b[0m\u001b[0;34m\u001b[0m\u001b[0;34m\u001b[0m\u001b[0;34m\u001b[0m\u001b[0m\n\u001b[1;32m    628\u001b[0m     \u001b[0;32mfinally\u001b[0m\u001b[0;34m:\u001b[0m\u001b[0;34m\u001b[0m\u001b[0;34m\u001b[0m\u001b[0m\n",
      "\u001b[0;31mInternalError\u001b[0m: Failed to create session."
     ]
    }
   ],
   "source": [
    "deeplabcut.evaluate_network(config_path, plotting=True)"
   ]
  },
  {
   "cell_type": "markdown",
   "metadata": {
    "colab_type": "text",
    "id": "OVFLSKKfoEJk"
   },
   "source": [
    "## Start Analyzing videos\n",
    "This function analyzes the new video. The user can choose the best model from the evaluation results and specify the correct snapshot index for the variable **snapshotindex** in the **config.yaml** file. Otherwise, by default the most recent snapshot is used to analyse the video.\n",
    "\n",
    "The results are stored in hd5 file in the same directory where the video resides. "
   ]
  },
  {
   "cell_type": "code",
   "execution_count": 11,
   "metadata": {},
   "outputs": [
    {
     "name": "stdout",
     "output_type": "stream",
     "text": [
      "Using snapshot-200000 for model /data/LiftFly3D/prism/bottom_view/dlc-models/iteration-0/jointTrackingDec13-trainset95shuffle1\n",
      "Initializing ResNet\n",
      "INFO:tensorflow:Restoring parameters from /data/LiftFly3D/prism/bottom_view/dlc-models/iteration-0/jointTrackingDec13-trainset95shuffle1/train/snapshot-200000\n"
     ]
    },
    {
     "name": "stderr",
     "output_type": "stream",
     "text": [
      "INFO:tensorflow:Restoring parameters from /data/LiftFly3D/prism/bottom_view/dlc-models/iteration-0/jointTrackingDec13-trainset95shuffle1/train/snapshot-200000\n",
      "  0%|          | 0/6022 [00:00<?, ?it/s]"
     ]
    },
    {
     "name": "stdout",
     "output_type": "stream",
     "text": [
      "Starting to analyze %  /data/LiftFly3D/prism/bottom_view/videos/video_191125_PR_Fly1_001_prism.mp4\n",
      "Loading  /data/LiftFly3D/prism/bottom_view/videos/video_191125_PR_Fly1_001_prism.mp4\n",
      "Duration of video [s]:  240.88 , recorded with  25.0 fps!\n",
      "Overall # of frames:  6022  found with (before cropping) frame dimensions:  550 440\n",
      "Starting to extract posture\n"
     ]
    },
    {
     "name": "stderr",
     "output_type": "stream",
     "text": [
      "6060it [01:13, 82.56it/s]                          \n",
      "  0%|          | 0/12320 [00:00<?, ?it/s]"
     ]
    },
    {
     "name": "stdout",
     "output_type": "stream",
     "text": [
      "Detected frames:  6022\n",
      "Saving results in /data/LiftFly3D/prism/bottom_view/videos...\n",
      "Starting to analyze %  /data/LiftFly3D/prism/bottom_view/videos/video_191125_PR_Fly1_002_prism.mp4\n",
      "Loading  /data/LiftFly3D/prism/bottom_view/videos/video_191125_PR_Fly1_002_prism.mp4\n",
      "Duration of video [s]:  492.8 , recorded with  25.0 fps!\n",
      "Overall # of frames:  12320  found with (before cropping) frame dimensions:  550 440\n",
      "Starting to extract posture\n"
     ]
    },
    {
     "name": "stderr",
     "output_type": "stream",
     "text": [
      "12423it [02:19, 89.14it/s]                            \n",
      "  0%|          | 0/7110 [00:00<?, ?it/s]"
     ]
    },
    {
     "name": "stdout",
     "output_type": "stream",
     "text": [
      "Detected frames:  12320\n",
      "Saving results in /data/LiftFly3D/prism/bottom_view/videos...\n",
      "Starting to analyze %  /data/LiftFly3D/prism/bottom_view/videos/video_191125_PR_Fly1_003_prism.mp4\n",
      "Loading  /data/LiftFly3D/prism/bottom_view/videos/video_191125_PR_Fly1_003_prism.mp4\n",
      "Duration of video [s]:  284.4 , recorded with  25.0 fps!\n",
      "Overall # of frames:  7110  found with (before cropping) frame dimensions:  550 440\n",
      "Starting to extract posture\n"
     ]
    },
    {
     "name": "stderr",
     "output_type": "stream",
     "text": [
      "7171it [01:25, 83.63it/s]                          \n",
      "  0%|          | 0/5775 [00:00<?, ?it/s]"
     ]
    },
    {
     "name": "stdout",
     "output_type": "stream",
     "text": [
      "Detected frames:  7110\n",
      "Saving results in /data/LiftFly3D/prism/bottom_view/videos...\n",
      "Starting to analyze %  /data/LiftFly3D/prism/bottom_view/videos/video_191125_PR_Fly1_004_prism.mp4\n",
      "Loading  /data/LiftFly3D/prism/bottom_view/videos/video_191125_PR_Fly1_004_prism.mp4\n",
      "Duration of video [s]:  231.0 , recorded with  25.0 fps!\n",
      "Overall # of frames:  5775  found with (before cropping) frame dimensions:  550 440\n",
      "Starting to extract posture\n"
     ]
    },
    {
     "name": "stderr",
     "output_type": "stream",
     "text": [
      "5814it [01:10, 82.96it/s]                          \n",
      "  0%|          | 0/4610 [00:00<?, ?it/s]"
     ]
    },
    {
     "name": "stdout",
     "output_type": "stream",
     "text": [
      "Detected frames:  5775\n",
      "Saving results in /data/LiftFly3D/prism/bottom_view/videos...\n",
      "Starting to analyze %  /data/LiftFly3D/prism/bottom_view/videos/video_191125_PR_Fly2_001_prism.mp4\n",
      "Loading  /data/LiftFly3D/prism/bottom_view/videos/video_191125_PR_Fly2_001_prism.mp4\n",
      "Duration of video [s]:  184.4 , recorded with  25.0 fps!\n",
      "Overall # of frames:  4610  found with (before cropping) frame dimensions:  550 440\n",
      "Starting to extract posture\n"
     ]
    },
    {
     "name": "stderr",
     "output_type": "stream",
     "text": [
      "4646it [00:55, 83.51it/s]                          \n",
      "  0%|          | 0/1829 [00:00<?, ?it/s]"
     ]
    },
    {
     "name": "stdout",
     "output_type": "stream",
     "text": [
      "Detected frames:  4610\n",
      "Saving results in /data/LiftFly3D/prism/bottom_view/videos...\n",
      "Starting to analyze %  /data/LiftFly3D/prism/bottom_view/videos/video_191125_PR_Fly2_002_prism.mp4\n",
      "Loading  /data/LiftFly3D/prism/bottom_view/videos/video_191125_PR_Fly2_002_prism.mp4\n",
      "Duration of video [s]:  73.16 , recorded with  25.0 fps!\n",
      "Overall # of frames:  1829  found with (before cropping) frame dimensions:  550 440\n",
      "Starting to extract posture\n"
     ]
    },
    {
     "name": "stderr",
     "output_type": "stream",
     "text": [
      "1836it [00:22, 82.21it/s]                          \n",
      "  0%|          | 0/3418 [00:00<?, ?it/s]"
     ]
    },
    {
     "name": "stdout",
     "output_type": "stream",
     "text": [
      "Detected frames:  1829\n",
      "Saving results in /data/LiftFly3D/prism/bottom_view/videos...\n",
      "Starting to analyze %  /data/LiftFly3D/prism/bottom_view/videos/video_191125_PR_Fly2_003_prism.mp4\n",
      "Loading  /data/LiftFly3D/prism/bottom_view/videos/video_191125_PR_Fly2_003_prism.mp4\n",
      "Duration of video [s]:  136.72 , recorded with  25.0 fps!\n",
      "Overall # of frames:  3418  found with (before cropping) frame dimensions:  550 440\n",
      "Starting to extract posture\n"
     ]
    },
    {
     "name": "stderr",
     "output_type": "stream",
     "text": [
      "3434it [00:41, 82.43it/s]                          \n",
      "  0%|          | 0/2616 [00:00<?, ?it/s]"
     ]
    },
    {
     "name": "stdout",
     "output_type": "stream",
     "text": [
      "Detected frames:  3418\n",
      "Saving results in /data/LiftFly3D/prism/bottom_view/videos...\n",
      "Starting to analyze %  /data/LiftFly3D/prism/bottom_view/videos/video_191125_PR_Fly2_004_prism.mp4\n",
      "Loading  /data/LiftFly3D/prism/bottom_view/videos/video_191125_PR_Fly2_004_prism.mp4\n",
      "Duration of video [s]:  104.64 , recorded with  25.0 fps!\n",
      "Overall # of frames:  2616  found with (before cropping) frame dimensions:  550 440\n",
      "Starting to extract posture\n"
     ]
    },
    {
     "name": "stderr",
     "output_type": "stream",
     "text": [
      "2626it [00:31, 82.47it/s]                          "
     ]
    },
    {
     "name": "stdout",
     "output_type": "stream",
     "text": [
      "Detected frames:  2616\n",
      "Saving results in /data/LiftFly3D/prism/bottom_view/videos...\n",
      "The videos are analyzed. Now your research can truly start! \n",
      " You can create labeled videos with 'create_labeled_video'.\n",
      "If the tracking is not satisfactory for some videos, consider expanding the training set. You can use the function 'extract_outlier_frames' to extract any outlier frames!\n"
     ]
    },
    {
     "name": "stderr",
     "output_type": "stream",
     "text": [
      "\n"
     ]
    },
    {
     "data": {
      "text/plain": [
       "'DLC_resnet50_jointTrackingDec13shuffle1_200000'"
      ]
     },
     "execution_count": 11,
     "metadata": {},
     "output_type": "execute_result"
    }
   ],
   "source": [
    "deeplabcut.analyze_videos(config_path,videofile_path, videotype='.mp4', save_frames =True)"
   ]
  },
  {
   "cell_type": "markdown",
   "metadata": {
    "colab_type": "text",
    "id": "iGu_PdTWoEJr"
   },
   "source": [
    "## Extract outlier frames [optional step]\n",
    "This is an optional step and is used only when the evaluation results are poor i.e. the labels are incorrectly predicted. In such a case, the user can use the following function to extract frames where the labels are incorrectly predicted. Make sure to provide the correct value of the \"iterations\" as it will be used to create the unique directory where the extracted frames will be saved."
   ]
  },
  {
   "cell_type": "code",
   "execution_count": null,
   "metadata": {},
   "outputs": [],
   "source": [
    "path_config_file = '/home/morales/Documents/Morales/fly_lane-DM-2019-02-19/config.yaml'\n",
    "crop_video = '/home/morales/Documents/Morales/MDN3_Screen/GFP/190315/161441_s0a0_p75/output_40fps_5.avi'"
   ]
  },
  {
   "cell_type": "code",
   "execution_count": null,
   "metadata": {
    "colab": {},
    "colab_type": "code",
    "id": "gkbaBOJVoEJs"
   },
   "outputs": [],
   "source": [
    "path_config_file = '/home/morales/Documents/Morales/fly_lane-DM-2019-02-19/config.yaml'\n",
    "crop_video = '/home/morales/Documents/Morales/MDN3_Screen/GFP/190315/161441_s0a0_p75/output_40fps_5.avi'\n",
    "\n",
    "deeplabcut.extract_outlier_frames(path_config_file,[crop_video])"
   ]
  },
  {
   "cell_type": "markdown",
   "metadata": {
    "colab_type": "text",
    "id": "8ib0uvhaoEJx"
   },
   "source": [
    "## Refine Labels [optional step]\n",
    "Following the extraction of outlier frames, the user can use the following function to move the predicted labels to the correct location. Thus augmenting the training dataset."
   ]
  },
  {
   "cell_type": "code",
   "execution_count": null,
   "metadata": {
    "colab": {},
    "colab_type": "code",
    "id": "n_FpEXtyoEJy"
   },
   "outputs": [],
   "source": [
    "%gui wx\n",
    "deeplabcut.refine_labels(path_config_file)"
   ]
  },
  {
   "cell_type": "code",
   "execution_count": null,
   "metadata": {
    "colab": {},
    "colab_type": "code",
    "id": "CHzstWr8oEJ2"
   },
   "outputs": [],
   "source": [
    "#Once all folders are relabeled, check them and advance. See how to check labels, above!\n",
    "deeplabcut.merge_datasets(path_config_file)"
   ]
  },
  {
   "cell_type": "markdown",
   "metadata": {
    "colab_type": "text",
    "id": "QCHj7qyboEJ6"
   },
   "source": [
    "## Create a new iteration of training dataset [optional step]\n",
    "Following the refine labels, append these frames to the original dataset to create a new iteration of training dataset."
   ]
  },
  {
   "cell_type": "code",
   "execution_count": 16,
   "metadata": {
    "colab": {},
    "colab_type": "code",
    "id": "ytQoxIldoEJ7"
   },
   "outputs": [
    {
     "name": "stderr",
     "output_type": "stream",
     "text": [
      "  1%|▏         | 24/1905 [00:00<00:07, 238.79it/s]"
     ]
    },
    {
     "name": "stdout",
     "output_type": "stream",
     "text": [
      "Starting %  /data/LiftFly3D/prism/bottom_view/videos ['/data/LiftFly3D/prism/bottom_view/videos/top_video_191125_PR_Fly1_001_prism.mp4', '/data/LiftFly3D/prism/bottom_view/videos/top_video_191125_PR_Fly1_002_prism.mp4', '/data/LiftFly3D/prism/bottom_view/videos/top_video_191125_PR_Fly1_003_prism.mp4', '/data/LiftFly3D/prism/bottom_view/videos/top_video_191125_PR_Fly1_004_prism.mp4', '/data/LiftFly3D/prism/bottom_view/videos/top_video_191125_PR_Fly2_001_prism.mp4', '/data/LiftFly3D/prism/bottom_view/videos/top_video_191125_PR_Fly2_002_prism.mp4', '/data/LiftFly3D/prism/bottom_view/videos/top_video_191125_PR_Fly2_003_prism.mp4', '/data/LiftFly3D/prism/bottom_view/videos/top_video_191125_PR_Fly2_004_prism.mp4']\n",
      "Loading  /data/LiftFly3D/prism/bottom_view/videos/top_video_191125_PR_Fly1_001_prism.mp4 and data.\n",
      "1905\n",
      "Duration of video [s]:  31.75 , recorded with  60.0 fps!\n",
      "Overall # of frames:  1905 with cropped frame dimensions:  550 440\n",
      "Generating frames and creating video.\n"
     ]
    },
    {
     "name": "stderr",
     "output_type": "stream",
     "text": [
      "100%|██████████| 1905/1905 [00:07<00:00, 250.82it/s]\n",
      "  0%|          | 27/9760 [00:00<00:37, 262.48it/s]"
     ]
    },
    {
     "name": "stdout",
     "output_type": "stream",
     "text": [
      "Starting %  /data/LiftFly3D/prism/bottom_view/videos ['/data/LiftFly3D/prism/bottom_view/videos/top_video_191125_PR_Fly1_001_prism.mp4', '/data/LiftFly3D/prism/bottom_view/videos/top_video_191125_PR_Fly1_002_prism.mp4', '/data/LiftFly3D/prism/bottom_view/videos/top_video_191125_PR_Fly1_003_prism.mp4', '/data/LiftFly3D/prism/bottom_view/videos/top_video_191125_PR_Fly1_004_prism.mp4', '/data/LiftFly3D/prism/bottom_view/videos/top_video_191125_PR_Fly2_001_prism.mp4', '/data/LiftFly3D/prism/bottom_view/videos/top_video_191125_PR_Fly2_002_prism.mp4', '/data/LiftFly3D/prism/bottom_view/videos/top_video_191125_PR_Fly2_003_prism.mp4', '/data/LiftFly3D/prism/bottom_view/videos/top_video_191125_PR_Fly2_004_prism.mp4']\n",
      "Loading  /data/LiftFly3D/prism/bottom_view/videos/top_video_191125_PR_Fly1_002_prism.mp4 and data.\n",
      "9760\n",
      "Duration of video [s]:  162.67 , recorded with  60.0 fps!\n",
      "Overall # of frames:  9760 with cropped frame dimensions:  550 440\n",
      "Generating frames and creating video.\n"
     ]
    },
    {
     "name": "stderr",
     "output_type": "stream",
     "text": [
      "100%|██████████| 9760/9760 [00:40<00:00, 243.28it/s]\n",
      "  0%|          | 22/22723 [00:00<01:44, 217.70it/s]"
     ]
    },
    {
     "name": "stdout",
     "output_type": "stream",
     "text": [
      "Starting %  /data/LiftFly3D/prism/bottom_view/videos ['/data/LiftFly3D/prism/bottom_view/videos/top_video_191125_PR_Fly1_001_prism.mp4', '/data/LiftFly3D/prism/bottom_view/videos/top_video_191125_PR_Fly1_002_prism.mp4', '/data/LiftFly3D/prism/bottom_view/videos/top_video_191125_PR_Fly1_003_prism.mp4', '/data/LiftFly3D/prism/bottom_view/videos/top_video_191125_PR_Fly1_004_prism.mp4', '/data/LiftFly3D/prism/bottom_view/videos/top_video_191125_PR_Fly2_001_prism.mp4', '/data/LiftFly3D/prism/bottom_view/videos/top_video_191125_PR_Fly2_002_prism.mp4', '/data/LiftFly3D/prism/bottom_view/videos/top_video_191125_PR_Fly2_003_prism.mp4', '/data/LiftFly3D/prism/bottom_view/videos/top_video_191125_PR_Fly2_004_prism.mp4']\n",
      "Loading  /data/LiftFly3D/prism/bottom_view/videos/top_video_191125_PR_Fly1_003_prism.mp4 and data.\n",
      "22723\n",
      "Duration of video [s]:  378.72 , recorded with  60.0 fps!\n",
      "Overall # of frames:  22723 with cropped frame dimensions:  550 440\n",
      "Generating frames and creating video.\n"
     ]
    },
    {
     "name": "stderr",
     "output_type": "stream",
     "text": [
      "100%|██████████| 22723/22723 [01:36<00:00, 236.33it/s]\n",
      "  0%|          | 23/18679 [00:00<01:24, 221.35it/s]"
     ]
    },
    {
     "name": "stdout",
     "output_type": "stream",
     "text": [
      "Starting %  /data/LiftFly3D/prism/bottom_view/videos ['/data/LiftFly3D/prism/bottom_view/videos/top_video_191125_PR_Fly1_001_prism.mp4', '/data/LiftFly3D/prism/bottom_view/videos/top_video_191125_PR_Fly1_002_prism.mp4', '/data/LiftFly3D/prism/bottom_view/videos/top_video_191125_PR_Fly1_003_prism.mp4', '/data/LiftFly3D/prism/bottom_view/videos/top_video_191125_PR_Fly1_004_prism.mp4', '/data/LiftFly3D/prism/bottom_view/videos/top_video_191125_PR_Fly2_001_prism.mp4', '/data/LiftFly3D/prism/bottom_view/videos/top_video_191125_PR_Fly2_002_prism.mp4', '/data/LiftFly3D/prism/bottom_view/videos/top_video_191125_PR_Fly2_003_prism.mp4', '/data/LiftFly3D/prism/bottom_view/videos/top_video_191125_PR_Fly2_004_prism.mp4']\n",
      "Loading  /data/LiftFly3D/prism/bottom_view/videos/top_video_191125_PR_Fly1_004_prism.mp4 and data.\n",
      "18679\n",
      "Duration of video [s]:  311.32 , recorded with  60.0 fps!\n",
      "Overall # of frames:  18679 with cropped frame dimensions:  550 440\n",
      "Generating frames and creating video.\n"
     ]
    },
    {
     "name": "stderr",
     "output_type": "stream",
     "text": [
      "100%|██████████| 18679/18679 [01:18<00:00, 238.83it/s]\n",
      "  0%|          | 22/41656 [00:00<03:14, 213.84it/s]"
     ]
    },
    {
     "name": "stdout",
     "output_type": "stream",
     "text": [
      "Starting %  /data/LiftFly3D/prism/bottom_view/videos ['/data/LiftFly3D/prism/bottom_view/videos/top_video_191125_PR_Fly1_001_prism.mp4', '/data/LiftFly3D/prism/bottom_view/videos/top_video_191125_PR_Fly1_002_prism.mp4', '/data/LiftFly3D/prism/bottom_view/videos/top_video_191125_PR_Fly1_003_prism.mp4', '/data/LiftFly3D/prism/bottom_view/videos/top_video_191125_PR_Fly1_004_prism.mp4', '/data/LiftFly3D/prism/bottom_view/videos/top_video_191125_PR_Fly2_001_prism.mp4', '/data/LiftFly3D/prism/bottom_view/videos/top_video_191125_PR_Fly2_002_prism.mp4', '/data/LiftFly3D/prism/bottom_view/videos/top_video_191125_PR_Fly2_003_prism.mp4', '/data/LiftFly3D/prism/bottom_view/videos/top_video_191125_PR_Fly2_004_prism.mp4']\n",
      "Loading  /data/LiftFly3D/prism/bottom_view/videos/top_video_191125_PR_Fly2_001_prism.mp4 and data.\n",
      "41656\n",
      "Duration of video [s]:  694.27 , recorded with  60.0 fps!\n",
      "Overall # of frames:  41656 with cropped frame dimensions:  550 440\n",
      "Generating frames and creating video.\n"
     ]
    },
    {
     "name": "stderr",
     "output_type": "stream",
     "text": [
      "100%|██████████| 41656/41656 [02:57<00:00, 234.09it/s]\n",
      "  0%|          | 22/18542 [00:00<01:26, 212.88it/s]"
     ]
    },
    {
     "name": "stdout",
     "output_type": "stream",
     "text": [
      "Starting %  /data/LiftFly3D/prism/bottom_view/videos ['/data/LiftFly3D/prism/bottom_view/videos/top_video_191125_PR_Fly1_001_prism.mp4', '/data/LiftFly3D/prism/bottom_view/videos/top_video_191125_PR_Fly1_002_prism.mp4', '/data/LiftFly3D/prism/bottom_view/videos/top_video_191125_PR_Fly1_003_prism.mp4', '/data/LiftFly3D/prism/bottom_view/videos/top_video_191125_PR_Fly1_004_prism.mp4', '/data/LiftFly3D/prism/bottom_view/videos/top_video_191125_PR_Fly2_001_prism.mp4', '/data/LiftFly3D/prism/bottom_view/videos/top_video_191125_PR_Fly2_002_prism.mp4', '/data/LiftFly3D/prism/bottom_view/videos/top_video_191125_PR_Fly2_003_prism.mp4', '/data/LiftFly3D/prism/bottom_view/videos/top_video_191125_PR_Fly2_004_prism.mp4']\n",
      "Loading  /data/LiftFly3D/prism/bottom_view/videos/top_video_191125_PR_Fly2_002_prism.mp4 and data.\n",
      "18542\n",
      "Duration of video [s]:  309.03 , recorded with  60.0 fps!\n",
      "Overall # of frames:  18542 with cropped frame dimensions:  550 440\n",
      "Generating frames and creating video.\n"
     ]
    },
    {
     "name": "stderr",
     "output_type": "stream",
     "text": [
      "100%|██████████| 18542/18542 [01:18<00:00, 236.64it/s]\n",
      "  0%|          | 22/29587 [00:00<02:18, 214.06it/s]"
     ]
    },
    {
     "name": "stdout",
     "output_type": "stream",
     "text": [
      "Starting %  /data/LiftFly3D/prism/bottom_view/videos ['/data/LiftFly3D/prism/bottom_view/videos/top_video_191125_PR_Fly1_001_prism.mp4', '/data/LiftFly3D/prism/bottom_view/videos/top_video_191125_PR_Fly1_002_prism.mp4', '/data/LiftFly3D/prism/bottom_view/videos/top_video_191125_PR_Fly1_003_prism.mp4', '/data/LiftFly3D/prism/bottom_view/videos/top_video_191125_PR_Fly1_004_prism.mp4', '/data/LiftFly3D/prism/bottom_view/videos/top_video_191125_PR_Fly2_001_prism.mp4', '/data/LiftFly3D/prism/bottom_view/videos/top_video_191125_PR_Fly2_002_prism.mp4', '/data/LiftFly3D/prism/bottom_view/videos/top_video_191125_PR_Fly2_003_prism.mp4', '/data/LiftFly3D/prism/bottom_view/videos/top_video_191125_PR_Fly2_004_prism.mp4']\n",
      "Loading  /data/LiftFly3D/prism/bottom_view/videos/top_video_191125_PR_Fly2_003_prism.mp4 and data.\n",
      "29587\n",
      "Duration of video [s]:  493.12 , recorded with  60.0 fps!\n",
      "Overall # of frames:  29587 with cropped frame dimensions:  550 440\n",
      "Generating frames and creating video.\n"
     ]
    },
    {
     "name": "stderr",
     "output_type": "stream",
     "text": [
      "100%|██████████| 29587/29587 [02:06<00:00, 234.61it/s]\n",
      "  0%|          | 22/24974 [00:00<01:57, 212.88it/s]"
     ]
    },
    {
     "name": "stdout",
     "output_type": "stream",
     "text": [
      "Starting %  /data/LiftFly3D/prism/bottom_view/videos ['/data/LiftFly3D/prism/bottom_view/videos/top_video_191125_PR_Fly1_001_prism.mp4', '/data/LiftFly3D/prism/bottom_view/videos/top_video_191125_PR_Fly1_002_prism.mp4', '/data/LiftFly3D/prism/bottom_view/videos/top_video_191125_PR_Fly1_003_prism.mp4', '/data/LiftFly3D/prism/bottom_view/videos/top_video_191125_PR_Fly1_004_prism.mp4', '/data/LiftFly3D/prism/bottom_view/videos/top_video_191125_PR_Fly2_001_prism.mp4', '/data/LiftFly3D/prism/bottom_view/videos/top_video_191125_PR_Fly2_002_prism.mp4', '/data/LiftFly3D/prism/bottom_view/videos/top_video_191125_PR_Fly2_003_prism.mp4', '/data/LiftFly3D/prism/bottom_view/videos/top_video_191125_PR_Fly2_004_prism.mp4']\n",
      "Loading  /data/LiftFly3D/prism/bottom_view/videos/top_video_191125_PR_Fly2_004_prism.mp4 and data.\n",
      "24974\n",
      "Duration of video [s]:  416.23 , recorded with  60.0 fps!\n",
      "Overall # of frames:  24974 with cropped frame dimensions:  550 440\n",
      "Generating frames and creating video.\n"
     ]
    },
    {
     "name": "stderr",
     "output_type": "stream",
     "text": [
      "100%|██████████| 24974/24974 [01:41<00:00, 244.94it/s]\n"
     ]
    }
   ],
   "source": [
    "deeplabcut.create_labeled_video(config_path,videofile_path)"
   ]
  },
  {
   "cell_type": "markdown",
   "metadata": {
    "colab_type": "text",
    "id": "pCrUvQIvoEKD"
   },
   "source": [
    "## Create labeled video\n",
    "This funtion is for visualiztion purpose and can be used to create a video in .mp4 format with labels predicted by the network. This video is saved in the same directory where the original video resides. "
   ]
  },
  {
   "cell_type": "code",
   "execution_count": 6,
   "metadata": {
    "colab": {},
    "colab_type": "code",
    "id": "6aDF7Q7KoEKE"
   },
   "outputs": [
    {
     "name": "stderr",
     "output_type": "stream",
     "text": [
      "  0%|          | 25/6022 [00:00<00:24, 249.12it/s]"
     ]
    },
    {
     "name": "stdout",
     "output_type": "stream",
     "text": [
      "Starting %  /data/LiftFly3D/prism/bottom_view/videos ['/data/LiftFly3D/prism/bottom_view/videos/video_191125_PR_Fly1_001_prism.mp4', '/data/LiftFly3D/prism/bottom_view/videos/video_191125_PR_Fly1_002_prism.mp4', '/data/LiftFly3D/prism/bottom_view/videos/video_191125_PR_Fly1_003_prism.mp4', '/data/LiftFly3D/prism/bottom_view/videos/video_191125_PR_Fly1_004_prism.mp4', '/data/LiftFly3D/prism/bottom_view/videos/video_191125_PR_Fly2_001_prism.mp4', '/data/LiftFly3D/prism/bottom_view/videos/video_191125_PR_Fly2_002_prism.mp4', '/data/LiftFly3D/prism/bottom_view/videos/video_191125_PR_Fly2_003_prism.mp4', '/data/LiftFly3D/prism/bottom_view/videos/video_191125_PR_Fly2_004_prism.mp4']\n",
      "Loading  /data/LiftFly3D/prism/bottom_view/videos/video_191125_PR_Fly1_001_prism.mp4 and data.\n",
      "6022\n",
      "Duration of video [s]:  240.88 , recorded with  25.0 fps!\n",
      "Overall # of frames:  6022 with cropped frame dimensions:  550 440\n",
      "Generating frames and creating video.\n"
     ]
    },
    {
     "name": "stderr",
     "output_type": "stream",
     "text": [
      "100%|██████████| 6022/6022 [00:23<00:00, 253.40it/s]\n",
      "  0%|          | 25/12320 [00:00<00:50, 242.30it/s]"
     ]
    },
    {
     "name": "stdout",
     "output_type": "stream",
     "text": [
      "Starting %  /data/LiftFly3D/prism/bottom_view/videos ['/data/LiftFly3D/prism/bottom_view/videos/video_191125_PR_Fly1_001_prism.mp4', '/data/LiftFly3D/prism/bottom_view/videos/video_191125_PR_Fly1_002_prism.mp4', '/data/LiftFly3D/prism/bottom_view/videos/video_191125_PR_Fly1_003_prism.mp4', '/data/LiftFly3D/prism/bottom_view/videos/video_191125_PR_Fly1_004_prism.mp4', '/data/LiftFly3D/prism/bottom_view/videos/video_191125_PR_Fly2_001_prism.mp4', '/data/LiftFly3D/prism/bottom_view/videos/video_191125_PR_Fly2_002_prism.mp4', '/data/LiftFly3D/prism/bottom_view/videos/video_191125_PR_Fly2_003_prism.mp4', '/data/LiftFly3D/prism/bottom_view/videos/video_191125_PR_Fly2_004_prism.mp4']\n",
      "Loading  /data/LiftFly3D/prism/bottom_view/videos/video_191125_PR_Fly1_002_prism.mp4 and data.\n",
      "12320\n",
      "Duration of video [s]:  492.8 , recorded with  25.0 fps!\n",
      "Overall # of frames:  12320 with cropped frame dimensions:  550 440\n",
      "Generating frames and creating video.\n"
     ]
    },
    {
     "name": "stderr",
     "output_type": "stream",
     "text": [
      "100%|██████████| 12320/12320 [00:47<00:00, 258.47it/s]\n",
      "  0%|          | 25/7110 [00:00<00:28, 244.64it/s]"
     ]
    },
    {
     "name": "stdout",
     "output_type": "stream",
     "text": [
      "Starting %  /data/LiftFly3D/prism/bottom_view/videos ['/data/LiftFly3D/prism/bottom_view/videos/video_191125_PR_Fly1_001_prism.mp4', '/data/LiftFly3D/prism/bottom_view/videos/video_191125_PR_Fly1_002_prism.mp4', '/data/LiftFly3D/prism/bottom_view/videos/video_191125_PR_Fly1_003_prism.mp4', '/data/LiftFly3D/prism/bottom_view/videos/video_191125_PR_Fly1_004_prism.mp4', '/data/LiftFly3D/prism/bottom_view/videos/video_191125_PR_Fly2_001_prism.mp4', '/data/LiftFly3D/prism/bottom_view/videos/video_191125_PR_Fly2_002_prism.mp4', '/data/LiftFly3D/prism/bottom_view/videos/video_191125_PR_Fly2_003_prism.mp4', '/data/LiftFly3D/prism/bottom_view/videos/video_191125_PR_Fly2_004_prism.mp4']\n",
      "Loading  /data/LiftFly3D/prism/bottom_view/videos/video_191125_PR_Fly1_003_prism.mp4 and data.\n",
      "7110\n",
      "Duration of video [s]:  284.4 , recorded with  25.0 fps!\n",
      "Overall # of frames:  7110 with cropped frame dimensions:  550 440\n",
      "Generating frames and creating video.\n"
     ]
    },
    {
     "name": "stderr",
     "output_type": "stream",
     "text": [
      "100%|██████████| 7110/7110 [00:26<00:00, 264.75it/s]\n",
      "  0%|          | 25/5775 [00:00<00:23, 248.66it/s]"
     ]
    },
    {
     "name": "stdout",
     "output_type": "stream",
     "text": [
      "Starting %  /data/LiftFly3D/prism/bottom_view/videos ['/data/LiftFly3D/prism/bottom_view/videos/video_191125_PR_Fly1_001_prism.mp4', '/data/LiftFly3D/prism/bottom_view/videos/video_191125_PR_Fly1_002_prism.mp4', '/data/LiftFly3D/prism/bottom_view/videos/video_191125_PR_Fly1_003_prism.mp4', '/data/LiftFly3D/prism/bottom_view/videos/video_191125_PR_Fly1_004_prism.mp4', '/data/LiftFly3D/prism/bottom_view/videos/video_191125_PR_Fly2_001_prism.mp4', '/data/LiftFly3D/prism/bottom_view/videos/video_191125_PR_Fly2_002_prism.mp4', '/data/LiftFly3D/prism/bottom_view/videos/video_191125_PR_Fly2_003_prism.mp4', '/data/LiftFly3D/prism/bottom_view/videos/video_191125_PR_Fly2_004_prism.mp4']\n",
      "Loading  /data/LiftFly3D/prism/bottom_view/videos/video_191125_PR_Fly1_004_prism.mp4 and data.\n",
      "5775\n",
      "Duration of video [s]:  231.0 , recorded with  25.0 fps!\n",
      "Overall # of frames:  5775 with cropped frame dimensions:  550 440\n",
      "Generating frames and creating video.\n"
     ]
    },
    {
     "name": "stderr",
     "output_type": "stream",
     "text": [
      "100%|██████████| 5775/5775 [00:21<00:00, 269.92it/s]\n",
      "  1%|          | 24/4610 [00:00<00:19, 237.53it/s]"
     ]
    },
    {
     "name": "stdout",
     "output_type": "stream",
     "text": [
      "Starting %  /data/LiftFly3D/prism/bottom_view/videos ['/data/LiftFly3D/prism/bottom_view/videos/video_191125_PR_Fly1_001_prism.mp4', '/data/LiftFly3D/prism/bottom_view/videos/video_191125_PR_Fly1_002_prism.mp4', '/data/LiftFly3D/prism/bottom_view/videos/video_191125_PR_Fly1_003_prism.mp4', '/data/LiftFly3D/prism/bottom_view/videos/video_191125_PR_Fly1_004_prism.mp4', '/data/LiftFly3D/prism/bottom_view/videos/video_191125_PR_Fly2_001_prism.mp4', '/data/LiftFly3D/prism/bottom_view/videos/video_191125_PR_Fly2_002_prism.mp4', '/data/LiftFly3D/prism/bottom_view/videos/video_191125_PR_Fly2_003_prism.mp4', '/data/LiftFly3D/prism/bottom_view/videos/video_191125_PR_Fly2_004_prism.mp4']\n",
      "Loading  /data/LiftFly3D/prism/bottom_view/videos/video_191125_PR_Fly2_001_prism.mp4 and data.\n",
      "4610\n",
      "Duration of video [s]:  184.4 , recorded with  25.0 fps!\n",
      "Overall # of frames:  4610 with cropped frame dimensions:  550 440\n",
      "Generating frames and creating video.\n"
     ]
    },
    {
     "name": "stderr",
     "output_type": "stream",
     "text": [
      "100%|██████████| 4610/4610 [00:17<00:00, 257.77it/s]\n",
      "  1%|▏         | 24/1829 [00:00<00:07, 235.77it/s]"
     ]
    },
    {
     "name": "stdout",
     "output_type": "stream",
     "text": [
      "Starting %  /data/LiftFly3D/prism/bottom_view/videos ['/data/LiftFly3D/prism/bottom_view/videos/video_191125_PR_Fly1_001_prism.mp4', '/data/LiftFly3D/prism/bottom_view/videos/video_191125_PR_Fly1_002_prism.mp4', '/data/LiftFly3D/prism/bottom_view/videos/video_191125_PR_Fly1_003_prism.mp4', '/data/LiftFly3D/prism/bottom_view/videos/video_191125_PR_Fly1_004_prism.mp4', '/data/LiftFly3D/prism/bottom_view/videos/video_191125_PR_Fly2_001_prism.mp4', '/data/LiftFly3D/prism/bottom_view/videos/video_191125_PR_Fly2_002_prism.mp4', '/data/LiftFly3D/prism/bottom_view/videos/video_191125_PR_Fly2_003_prism.mp4', '/data/LiftFly3D/prism/bottom_view/videos/video_191125_PR_Fly2_004_prism.mp4']\n",
      "Loading  /data/LiftFly3D/prism/bottom_view/videos/video_191125_PR_Fly2_002_prism.mp4 and data.\n",
      "1829\n",
      "Duration of video [s]:  73.16 , recorded with  25.0 fps!\n",
      "Overall # of frames:  1829 with cropped frame dimensions:  550 440\n",
      "Generating frames and creating video.\n"
     ]
    },
    {
     "name": "stderr",
     "output_type": "stream",
     "text": [
      "100%|██████████| 1829/1829 [00:07<00:00, 254.64it/s]\n",
      "  1%|          | 25/3418 [00:00<00:13, 244.01it/s]"
     ]
    },
    {
     "name": "stdout",
     "output_type": "stream",
     "text": [
      "Starting %  /data/LiftFly3D/prism/bottom_view/videos ['/data/LiftFly3D/prism/bottom_view/videos/video_191125_PR_Fly1_001_prism.mp4', '/data/LiftFly3D/prism/bottom_view/videos/video_191125_PR_Fly1_002_prism.mp4', '/data/LiftFly3D/prism/bottom_view/videos/video_191125_PR_Fly1_003_prism.mp4', '/data/LiftFly3D/prism/bottom_view/videos/video_191125_PR_Fly1_004_prism.mp4', '/data/LiftFly3D/prism/bottom_view/videos/video_191125_PR_Fly2_001_prism.mp4', '/data/LiftFly3D/prism/bottom_view/videos/video_191125_PR_Fly2_002_prism.mp4', '/data/LiftFly3D/prism/bottom_view/videos/video_191125_PR_Fly2_003_prism.mp4', '/data/LiftFly3D/prism/bottom_view/videos/video_191125_PR_Fly2_004_prism.mp4']\n",
      "Loading  /data/LiftFly3D/prism/bottom_view/videos/video_191125_PR_Fly2_003_prism.mp4 and data.\n",
      "3418\n",
      "Duration of video [s]:  136.72 , recorded with  25.0 fps!\n",
      "Overall # of frames:  3418 with cropped frame dimensions:  550 440\n",
      "Generating frames and creating video.\n"
     ]
    },
    {
     "name": "stderr",
     "output_type": "stream",
     "text": [
      "100%|██████████| 3418/3418 [00:13<00:00, 259.57it/s]\n",
      "  1%|          | 25/2616 [00:00<00:10, 241.25it/s]"
     ]
    },
    {
     "name": "stdout",
     "output_type": "stream",
     "text": [
      "Starting %  /data/LiftFly3D/prism/bottom_view/videos ['/data/LiftFly3D/prism/bottom_view/videos/video_191125_PR_Fly1_001_prism.mp4', '/data/LiftFly3D/prism/bottom_view/videos/video_191125_PR_Fly1_002_prism.mp4', '/data/LiftFly3D/prism/bottom_view/videos/video_191125_PR_Fly1_003_prism.mp4', '/data/LiftFly3D/prism/bottom_view/videos/video_191125_PR_Fly1_004_prism.mp4', '/data/LiftFly3D/prism/bottom_view/videos/video_191125_PR_Fly2_001_prism.mp4', '/data/LiftFly3D/prism/bottom_view/videos/video_191125_PR_Fly2_002_prism.mp4', '/data/LiftFly3D/prism/bottom_view/videos/video_191125_PR_Fly2_003_prism.mp4', '/data/LiftFly3D/prism/bottom_view/videos/video_191125_PR_Fly2_004_prism.mp4']\n",
      "Loading  /data/LiftFly3D/prism/bottom_view/videos/video_191125_PR_Fly2_004_prism.mp4 and data.\n",
      "2616\n",
      "Duration of video [s]:  104.64 , recorded with  25.0 fps!\n",
      "Overall # of frames:  2616 with cropped frame dimensions:  550 440\n",
      "Generating frames and creating video.\n"
     ]
    },
    {
     "name": "stderr",
     "output_type": "stream",
     "text": [
      "100%|██████████| 2616/2616 [00:09<00:00, 274.98it/s]\n"
     ]
    }
   ],
   "source": [
    "deeplabcut.create_labeled_video(config_path,videofile_path)"
   ]
  },
  {
   "cell_type": "markdown",
   "metadata": {
    "colab_type": "text",
    "id": "8GTiuJESoEKH"
   },
   "source": [
    "## Plot the trajectories of the analyzed videos\n",
    "This function plots the trajectories of all the body parts across the entire video. Each body part is identified by a unique color."
   ]
  },
  {
   "cell_type": "code",
   "execution_count": null,
   "metadata": {
    "colab": {},
    "colab_type": "code",
    "id": "gX21zZbXoEKJ"
   },
   "outputs": [],
   "source": [
    "%matplotlib notebook \n",
    "deeplabcut.plot_trajectories(path_config_file,videofile_path)"
   ]
  },
  {
   "cell_type": "code",
   "execution_count": null,
   "metadata": {},
   "outputs": [],
   "source": [
    "sess.close()"
   ]
  }
 ],
 "metadata": {
  "accelerator": "GPU",
  "colab": {
   "name": "Demo-yourowndata.ipynb",
   "provenance": [],
   "version": "0.3.2"
  },
  "kernelspec": {
   "display_name": "Python 3",
   "language": "python",
   "name": "python3"
  },
  "language_info": {
   "codemirror_mode": {
    "name": "ipython",
    "version": 3
   },
   "file_extension": ".py",
   "mimetype": "text/x-python",
   "name": "python",
   "nbconvert_exporter": "python",
   "pygments_lexer": "ipython3",
   "version": "3.6.10"
  },
  "varInspector": {
   "cols": {
    "lenName": 16,
    "lenType": 16,
    "lenVar": 40
   },
   "kernels_config": {
    "python": {
     "delete_cmd_postfix": "",
     "delete_cmd_prefix": "del ",
     "library": "var_list.py",
     "varRefreshCmd": "print(var_dic_list())"
    },
    "r": {
     "delete_cmd_postfix": ") ",
     "delete_cmd_prefix": "rm(",
     "library": "var_list.r",
     "varRefreshCmd": "cat(var_dic_list()) "
    }
   },
   "types_to_exclude": [
    "module",
    "function",
    "builtin_function_or_method",
    "instance",
    "_Feature"
   ],
   "window_display": false
  }
 },
 "nbformat": 4,
 "nbformat_minor": 4
}
