{
 "cells": [
  {
   "cell_type": "code",
   "execution_count": 25,
   "metadata": {
    "pycharm": {
     "is_executing": false
    }
   },
   "outputs": [],
   "source": [
    "import os\n",
    "import sys\n",
    "module_path = os.path.abspath(os.path.join('/home/mahdi/RamdyaLab/LiftPose3D/examples/fly_prism/src'))\n",
    "if module_path not in sys.path:\n",
    "    sys.path.append(module_path)"
   ]
  },
  {
   "cell_type": "code",
   "execution_count": 26,
   "outputs": [],
   "source": [
    "import numpy as np\n",
    "import pandas as pd\n",
    "import glob\n",
    "from tqdm import tqdm\n",
    "import pickle\n",
    "\n",
    "import src.procrustes as procrustes\n",
    "import src.utils as utils"
   ],
   "metadata": {
    "collapsed": false,
    "pycharm": {
     "name": "#%%\n",
     "is_executing": false
    }
   }
  },
  {
   "cell_type": "code",
   "execution_count": 27,
   "metadata": {
    "pycharm": {
     "is_executing": false
    }
   },
   "outputs": [],
   "source": [
    "home_dir = '/data/LiftPose3D/fly_prism/'\n",
    "data_dir = '/mnt/NAS/SG/prism_data/'\n",
    "scorer_bottom = 'DLC_resnet50_jointTrackingDec13shuffle1_200000'\n",
    "scorer_side = 'DLC_resnet50_sideJointTrackingDec17shuffle1_200000'\n",
    "\n",
    "#joints \n",
    "leg_tips = ['tarsus tip front L', 'tarsus tip mid L', 'tarsus tip back L',\n",
    "          'tarsus tip front R', 'tarsus tip mid R', 'tarsus tip back R']\n",
    "\n",
    "coxa_femurs = ['coxa-femur front L', 'coxa-femur mid L', 'coxa-femur back L',\n",
    "          'coxa-femur front R', 'coxa-femur mid R', 'coxa-femur back R']\n",
    "\n",
    "legs = [['body-coxa front L', 'coxa-femur front L', 'femur-tibia front L', 'tibia-tarsus front L', 'tarsus tip front L'],\n",
    "       ['body-coxa mid L', 'coxa-femur mid L', 'femur-tibia mid L', 'tibia-tarsus mid L', 'tarsus tip mid L'],\n",
    "       ['body-coxa back L', 'coxa-femur back L', 'femur-tibia back L', 'tibia-tarsus back L', 'tarsus tip back L'],\n",
    "       ['body-coxa front R', 'coxa-femur front R', 'femur-tibia front R', 'tibia-tarsus front R', 'tarsus tip front R'],\n",
    "       ['body-coxa mid R', 'coxa-femur mid R', 'femur-tibia mid R', 'tibia-tarsus mid R', 'tarsus tip mid R'],\n",
    "       ['body-coxa back R', 'coxa-femur back R', 'femur-tibia back R', 'tibia-tarsus back R', 'tarsus tip back R']]\n",
    "\n",
    "#lateral images of enclosure\n",
    "images_side = ['191125_PR/Fly1/001_prism/behData/images/side_view_prism_data_191125_PR_Fly1/',\n",
    "               '191125_PR/Fly1/002_prism/behData/images/side_view_prism_data_191125_PR_Fly1/',\n",
    "               '191125_PR/Fly1/003_prism/behData/images/side_view_prism_data_191125_PR_Fly1/',\n",
    "               '191125_PR/Fly1/004_prism/behData/images/side_view_prism_data_191125_PR_Fly1/',\n",
    "               '191125_PR/Fly2/001_prism/behData/images/side_view_prism_data_191125_PR_Fly2/',\n",
    "               '191125_PR/Fly2/002_prism/behData/images/side_view_prism_data_191125_PR_Fly2/',\n",
    "               '191125_PR/Fly2/003_prism/behData/images/side_view_prism_data_191125_PR_Fly2/',\n",
    "               '191125_PR/Fly2/004_prism/behData/images/side_view_prism_data_191125_PR_Fly2/']\n",
    "\n",
    "#ventral images of enclosure\n",
    "images_bottom =  ['191125_PR/Fly1/001_prism/behData/images/bottom_view_prism_data_191125_PR_Fly1/',\n",
    "                  '191125_PR/Fly1/002_prism/behData/images/bottom_view_prism_data_191125_PR_Fly1/',\n",
    "                  '191125_PR/Fly1/003_prism/behData/images/bottom_view_prism_data_191125_PR_Fly1/',\n",
    "                  '191125_PR/Fly1/004_prism/behData/images/bottom_view_prism_data_191125_PR_Fly1/',\n",
    "                  '191125_PR/Fly2/001_prism/behData/images/bottom_view_prism_data_191125_PR_Fly2/',\n",
    "                  '191125_PR/Fly2/002_prism/behData/images/bottom_view_prism_data_191125_PR_Fly2/',\n",
    "                  '191125_PR/Fly2/003_prism/behData/images/bottom_view_prism_data_191125_PR_Fly2/',\n",
    "                  '191125_PR/Fly2/004_prism/behData/images/bottom_view_prism_data_191125_PR_Fly2/']\n",
    "\n",
    "#position of crop around moving fly\n",
    "crop_positions = ['/bottom_view/videos/crop_loc_191125_PR_Fly1_001_prism.txt',\n",
    "                  '/bottom_view/videos/crop_loc_191125_PR_Fly1_002_prism.txt',\n",
    "                  '/bottom_view/videos/crop_loc_191125_PR_Fly1_003_prism.txt',\n",
    "                  '/bottom_view/videos/crop_loc_191125_PR_Fly1_004_prism.txt',\n",
    "                  '/bottom_view/videos/crop_loc_191125_PR_Fly2_001_prism.txt',\n",
    "                  '/bottom_view/videos/crop_loc_191125_PR_Fly2_002_prism.txt',\n",
    "                  '/bottom_view/videos/crop_loc_191125_PR_Fly2_003_prism.txt',\n",
    "                  '/bottom_view/videos/crop_loc_191125_PR_Fly2_004_prism.txt']\n",
    "\n",
    "#lateral cropped video of moving fly\n",
    "videos_side = ['side_view/videos/video_191125_PR_Fly1_001_prism',\n",
    "               'side_view/videos/video_191125_PR_Fly1_002_prism',\n",
    "               'side_view/videos/video_191125_PR_Fly1_003_prism',\n",
    "               'side_view/videos/video_191125_PR_Fly1_004_prism',\n",
    "               'side_view/videos/video_191125_PR_Fly2_001_prism',\n",
    "               'side_view/videos/video_191125_PR_Fly2_002_prism',\n",
    "               'side_view/videos/video_191125_PR_Fly2_003_prism',\n",
    "               'side_view/videos/video_191125_PR_Fly2_004_prism']\n",
    "\n",
    "#ventral cropped video of moving fly\n",
    "videos_bottom =  ['bottom_view/videos/video_191125_PR_Fly1_001_prism',\n",
    "                  'bottom_view/videos/video_191125_PR_Fly1_002_prism',\n",
    "                  'bottom_view/videos/video_191125_PR_Fly1_003_prism',\n",
    "                  'bottom_view/videos/video_191125_PR_Fly1_004_prism',\n",
    "                  'bottom_view/videos/video_191125_PR_Fly2_001_prism',\n",
    "                  'bottom_view/videos/video_191125_PR_Fly2_002_prism',\n",
    "                  'bottom_view/videos/video_191125_PR_Fly2_003_prism',\n",
    "                  'bottom_view/videos/video_191125_PR_Fly2_004_prism']\n",
    "\n",
    "assert len(videos_side)==len(videos_bottom), 'Number of video files must be the same from side and bottom!'"
   ]
  },
  {
   "cell_type": "markdown",
   "metadata": {},
   "source": [
    "# Select mode"
   ]
  },
  {
   "cell_type": "code",
   "execution_count": 28,
   "metadata": {
    "pycharm": {
     "is_executing": false
    }
   },
   "outputs": [],
   "source": [
    "mode='train' #0: train, 1: prediction, 2: DLC_video, 3: train_low_res\n",
    "\n",
    "if mode=='train':\n",
    "    th1 = 0.99 #confidence threshold\n",
    "    th2 = 10 #max L-R discrepancy in x coordinate\n",
    "    align=1\n",
    "    nice_frames=1\n",
    "    register_floor=1\n",
    "if mode=='prediction':\n",
    "    th1 = 0.99 #confidence threshold\n",
    "    th2 = 10 #max L-R discrepancy in x coordinate\n",
    "    align=1\n",
    "    nice_frames=0\n",
    "    register_floor=1\n",
    "if mode=='DLC_video':\n",
    "    th1 = 0.99 #confidence threshold\n",
    "    th2 = 10 #max L-R discrepancy in x coordinate\n",
    "    align=0\n",
    "    nice_frames=0\n",
    "    register_floor=0"
   ]
  },
  {
   "cell_type": "markdown",
   "metadata": {},
   "source": [
    "Process data"
   ]
  },
  {
   "cell_type": "code",
   "execution_count": 29,
   "metadata": {
    "pycharm": {
     "is_executing": false
    }
   },
   "outputs": [],
   "source": [
    "#frames mislabelled by DLC\n",
    "bad_frames = [[],\n",
    "              [663, 668, 676, 1012, 1013, 1014, 1015, 1016, 1017, 1019, 1024, 1294, 2099, 2114, 2149, 2152, 2860, 3506],\n",
    "              [],\n",
    "              [5, 306, 871, 945],\n",
    "              [595],\n",
    "              [],\n",
    "              [],\n",
    "              []]"
   ]
  },
  {
   "cell_type": "code",
   "execution_count": 34,
   "metadata": {
    "pycharm": {
     "is_executing": false
    }
   },
   "outputs": [
    {
     "name": "stdout",
     "text": [
      "/data/LiftPose3D/fly_prism/side_view/videos/video_191125_PR_Fly1_001_prism\n"
     ],
     "output_type": "stream"
    },
    {
     "traceback": [
      "\u001b[0;31m---------------------------------------------------------------------------\u001b[0m",
      "\u001b[0;31mFileNotFoundError\u001b[0m                         Traceback (most recent call last)",
      "\u001b[0;32m<ipython-input-34-4abccd42f734>\u001b[0m in \u001b[0;36m<module>\u001b[0;34m()\u001b[0m\n\u001b[1;32m     33\u001b[0m \u001b[0;34m\u001b[0m\u001b[0m\n\u001b[1;32m     34\u001b[0m     \u001b[0;31m#load data of side and bottom view\u001b[0m\u001b[0;34m\u001b[0m\u001b[0;34m\u001b[0m\u001b[0;34m\u001b[0m\u001b[0m\n\u001b[0;32m---> 35\u001b[0;31m     \u001b[0m_side\u001b[0m \u001b[0;34m=\u001b[0m \u001b[0mpd\u001b[0m\u001b[0;34m.\u001b[0m\u001b[0mread_hdf\u001b[0m\u001b[0;34m(\u001b[0m\u001b[0mhome_dir\u001b[0m \u001b[0;34m+\u001b[0m \u001b[0mvideos_side\u001b[0m\u001b[0;34m[\u001b[0m\u001b[0mi\u001b[0m\u001b[0;34m]\u001b[0m \u001b[0;34m+\u001b[0m \u001b[0mscorer_side\u001b[0m \u001b[0;34m+\u001b[0m \u001b[0;34m'.h5'\u001b[0m\u001b[0;34m)\u001b[0m\u001b[0;34m\u001b[0m\u001b[0;34m\u001b[0m\u001b[0m\n\u001b[0m\u001b[1;32m     36\u001b[0m     \u001b[0m_bottom\u001b[0m \u001b[0;34m=\u001b[0m \u001b[0mpd\u001b[0m\u001b[0;34m.\u001b[0m\u001b[0mread_hdf\u001b[0m\u001b[0;34m(\u001b[0m\u001b[0mhome_dir\u001b[0m \u001b[0;34m+\u001b[0m \u001b[0mvideos_bottom\u001b[0m\u001b[0;34m[\u001b[0m\u001b[0mi\u001b[0m\u001b[0;34m]\u001b[0m \u001b[0;34m+\u001b[0m \u001b[0mscorer_bottom\u001b[0m \u001b[0;34m+\u001b[0m \u001b[0;34m'.h5'\u001b[0m\u001b[0;34m)\u001b[0m\u001b[0;34m\u001b[0m\u001b[0;34m\u001b[0m\u001b[0m\n\u001b[1;32m     37\u001b[0m     \u001b[0m_side\u001b[0m \u001b[0;34m=\u001b[0m \u001b[0m_side\u001b[0m\u001b[0;34m.\u001b[0m\u001b[0mdroplevel\u001b[0m\u001b[0;34m(\u001b[0m\u001b[0;34m'scorer'\u001b[0m\u001b[0;34m,\u001b[0m\u001b[0maxis\u001b[0m\u001b[0;34m=\u001b[0m\u001b[0;36m1\u001b[0m\u001b[0;34m)\u001b[0m\u001b[0;34m\u001b[0m\u001b[0;34m\u001b[0m\u001b[0m\n",
      "\u001b[0;32m/home/mahdi/miniconda3/envs/liftpose3d/lib/python3.7/site-packages/pandas/io/pytables.py\u001b[0m in \u001b[0;36mread_hdf\u001b[0;34m(path_or_buf, key, mode, errors, where, start, stop, columns, iterator, chunksize, **kwargs)\u001b[0m\n\u001b[1;32m    385\u001b[0m \u001b[0;34m\u001b[0m\u001b[0m\n\u001b[1;32m    386\u001b[0m         \u001b[0;32mif\u001b[0m \u001b[0;32mnot\u001b[0m \u001b[0mexists\u001b[0m\u001b[0;34m:\u001b[0m\u001b[0;34m\u001b[0m\u001b[0;34m\u001b[0m\u001b[0m\n\u001b[0;32m--> 387\u001b[0;31m             \u001b[0;32mraise\u001b[0m \u001b[0mFileNotFoundError\u001b[0m\u001b[0;34m(\u001b[0m\u001b[0;34mf\"File {path_or_buf} does not exist\"\u001b[0m\u001b[0;34m)\u001b[0m\u001b[0;34m\u001b[0m\u001b[0;34m\u001b[0m\u001b[0m\n\u001b[0m\u001b[1;32m    388\u001b[0m \u001b[0;34m\u001b[0m\u001b[0m\n\u001b[1;32m    389\u001b[0m         \u001b[0mstore\u001b[0m \u001b[0;34m=\u001b[0m \u001b[0mHDFStore\u001b[0m\u001b[0;34m(\u001b[0m\u001b[0mpath_or_buf\u001b[0m\u001b[0;34m,\u001b[0m \u001b[0mmode\u001b[0m\u001b[0;34m=\u001b[0m\u001b[0mmode\u001b[0m\u001b[0;34m,\u001b[0m \u001b[0merrors\u001b[0m\u001b[0;34m=\u001b[0m\u001b[0merrors\u001b[0m\u001b[0;34m,\u001b[0m \u001b[0;34m**\u001b[0m\u001b[0mkwargs\u001b[0m\u001b[0;34m)\u001b[0m\u001b[0;34m\u001b[0m\u001b[0;34m\u001b[0m\u001b[0m\n",
      "\u001b[0;31mFileNotFoundError\u001b[0m: File /data/LiftPose3D/fly_prism/side_view/videos/video_191125_PR_Fly1_001_prismDLC_resnet50_sideJointTrackingDec17shuffle1_200000.h5 does not exist"
     ],
     "ename": "FileNotFoundError",
     "evalue": "File /data/LiftPose3D/fly_prism/side_view/videos/video_191125_PR_Fly1_001_prismDLC_resnet50_sideJointTrackingDec17shuffle1_200000.h5 does not exist",
     "output_type": "error"
    }
   ],
   "source": [
    "def select_best_data(bottom, side, th1, th2, leg_tips):\n",
    "    \n",
    "    #select those frames with high confidence ventral view (for lifting)\n",
    "    bottom_lk = bottom.loc[:,(leg_tips,'likelihood')]\n",
    "    mask = (bottom_lk>th1).sum(1)==6\n",
    "    bottom = bottom[mask].dropna()\n",
    "    side = side[mask].dropna()\n",
    "        \n",
    "    #find high confidence and low discrepancy keypoints in each frame\n",
    "    likelihood = side.loc[:,(slice(None),'likelihood')]\n",
    "    discrepancy = np.abs(bottom.loc[:,(slice(None),'x')].values - side.loc[:,(slice(None),'x')].values)\n",
    "    good_keypts = (likelihood>th1) & (discrepancy<th2)\n",
    "    good_keypts = good_keypts.droplevel(1,axis=1) \n",
    "    \n",
    "    assert side.shape[0]==bottom.shape[0], 'Number of rows must match in filtered data!'\n",
    "    \n",
    "    return bottom, side, good_keypts\n",
    "\n",
    "\n",
    "def flip_LR(data):\n",
    "    cols = list(data.columns)\n",
    "    half = int(len(cols)/2)\n",
    "    tmp = data.loc[:,cols[:half]].values\n",
    "    data.loc[:,cols[:half]] = data.loc[:,cols[half:]].values\n",
    "    data.loc[:,cols[half:]] = tmp\n",
    "    \n",
    "    return data\n",
    "\n",
    "\n",
    "for i in range(len(videos_side)):\n",
    "    print(home_dir + videos_side[i])\n",
    "    \n",
    "    #load data of side and bottom view\n",
    "    _side = pd.read_hdf(home_dir + videos_side[i] + scorer_side + '.h5')\n",
    "    _bottom = pd.read_hdf(home_dir + videos_bottom[i] + scorer_bottom + '.h5')\n",
    "    _side = _side.droplevel('scorer',axis=1) \n",
    "    _bottom = _bottom.droplevel('scorer',axis=1) \n",
    "    \n",
    "    #flip left and right side due to prism reflection\n",
    "    _side = flip_LR(_side)\n",
    "    \n",
    "    #select for high confidence datapoints\n",
    "    _bottom, _side, good_keypts = select_best_data(_bottom, _side, th1, th2, leg_tips)\n",
    "    \n",
    "    #take only those frames where all keypoints on at least one side are correct\n",
    "    if nice_frames: #1 for training, 0 for prediction\n",
    "        print('nice frames')\n",
    "        \n",
    "        mask = (good_keypts.loc[:,leg_tips[:3]].sum(1)==3) |\\\n",
    "               (good_keypts.loc[:,leg_tips[3:]].sum(1)==3)\n",
    "        _side = _side[mask].dropna()\n",
    "        _bottom = _bottom[mask].dropna()\n",
    "        good_keypts = good_keypts.loc[mask,:]\n",
    "        \n",
    "    #frame indices\n",
    "    index = _bottom.index.values\n",
    "    _bottom = _bottom.reset_index()\n",
    "    _side = _side.reset_index()\n",
    "        \n",
    "    #align horizontally\n",
    "    if align: #1 for training and prediction, 0 for making of DLC video\n",
    "        print('align')\n",
    "        path_crop_pos = home_dir + crop_positions[i]\n",
    "        path_img = data_dir + images_bottom[i]\n",
    "        angle, c, img_rot, shape = procrustes.get_orientation(path_crop_pos, path_img, index)\n",
    "        _bottom.loc[:,(slice(None),['x','y'])] = \\\n",
    "        _bottom.loc[:,(slice(None),['x','y'])].apply(lambda x: procrustes.center_and_align(x, np.radians(angle), np.array(shape), np.array(c)), axis=1)\n",
    "        \n",
    "    if register_floor:\n",
    "        print('align with x-y plane')\n",
    "        floor = 0\n",
    "        for ind in _side.index:\n",
    "            try:                    \n",
    "                good_tips = _side.loc[:,(slice(None),'y')].iloc[:,good_keypts.iloc[ind,:].to_numpy()].loc[ind,(leg_tips,'y')]\n",
    "                floor_new = np.max(good_tips.to_numpy())\n",
    "                if ~np.isnan(floor_new):\n",
    "                    floor = floor_new\n",
    "                _side.loc[ind,(slice(None),'y')] = _side.loc[ind,(slice(None),'y')] - floor\n",
    "            except: continue\n",
    "    \n",
    "    #convert & save to DF3D format\n",
    "    side_np = _side.loc[:,(slice(None),['x','y'])].to_numpy()\n",
    "    z = _side.loc[:,(slice(None),'y')].to_numpy()\n",
    "    side_np = np.stack((side_np[:,::2], side_np[:,1::2]), axis=2)\n",
    "\n",
    "    bottom_np = _bottom.loc[:,(slice(None),['x','y'])].to_numpy()\n",
    "    bottom_np = np.stack((bottom_np[:,::2], bottom_np[:,1::2]), axis=2)\n",
    "    points2d = np.stack((bottom_np, side_np), axis=0)\n",
    "    points3d = np.concatenate((bottom_np, -z[:,:,None]), axis=2)\n",
    "    good_keypts = np.array(good_keypts)\n",
    "    \n",
    "    #remove some bad frames manually\n",
    "    for b_frame in bad_frames[i]:\n",
    "        points2d = np.delete(points2d, b_frame, 1)\n",
    "        points3d = np.delete(points3d, b_frame, 0)\n",
    "        index = np.delete(index, b_frame, 0)\n",
    "        good_keypts = np.delete(good_keypts, b_frame, 0)\n",
    "        \n",
    "    if np.isnan(z).any():\n",
    "        print('NaNs found, something went wrong...')\n",
    "    \n",
    "    poses = {'points2d': points2d,\n",
    "             'points3d': points3d,\n",
    "             'index': index,\n",
    "             'good_keypts': good_keypts\n",
    "            }\n",
    "\n",
    "    pickle.dump(poses,open(home_dir + videos_side[i].split('/')[-1][6:] + '.pkl', 'wb'))"
   ]
  },
  {
   "cell_type": "code",
   "execution_count": 32,
   "metadata": {
    "pycharm": {
     "is_executing": false
    }
   },
   "outputs": [
    {
     "name": "stderr",
     "text": [
      "  0%|          | 0/1500 [00:00<?, ?it/s]\n"
     ],
     "output_type": "stream"
    },
    {
     "traceback": [
      "\u001b[0;31m---------------------------------------------------------------------------\u001b[0m",
      "\u001b[0;31mAttributeError\u001b[0m                            Traceback (most recent call last)",
      "\u001b[0;32m<ipython-input-32-8ccb2b823968>\u001b[0m in \u001b[0;36m<module>\u001b[0;34m()\u001b[0m\n\u001b[1;32m     22\u001b[0m         \u001b[0;31m#plt.imshow(imgs[frame_idx], cmap='gray')\u001b[0m\u001b[0;34m\u001b[0m\u001b[0;34m\u001b[0m\u001b[0;34m\u001b[0m\u001b[0m\n\u001b[1;32m     23\u001b[0m \u001b[0;34m\u001b[0m\u001b[0m\n\u001b[0;32m---> 24\u001b[0;31m         \u001b[0mutils\u001b[0m\u001b[0;34m.\u001b[0m\u001b[0mplot_skeleton\u001b[0m\u001b[0;34m(\u001b[0m\u001b[0mG\u001b[0m\u001b[0;34m,\u001b[0m \u001b[0mbottom_np\u001b[0m\u001b[0;34m[\u001b[0m\u001b[0mframe_idx\u001b[0m\u001b[0;34m,\u001b[0m\u001b[0;34m:\u001b[0m\u001b[0;34m,\u001b[0m\u001b[0;36m0\u001b[0m\u001b[0;34m]\u001b[0m\u001b[0;34m,\u001b[0m \u001b[0mbottom_np\u001b[0m\u001b[0;34m[\u001b[0m\u001b[0mframe_idx\u001b[0m\u001b[0;34m,\u001b[0m\u001b[0;34m:\u001b[0m\u001b[0;34m,\u001b[0m\u001b[0;36m1\u001b[0m\u001b[0;34m]\u001b[0m\u001b[0;34m,\u001b[0m \u001b[0mcolor_edge\u001b[0m\u001b[0;34m)\u001b[0m\u001b[0;34m\u001b[0m\u001b[0;34m\u001b[0m\u001b[0m\n\u001b[0m\u001b[1;32m     25\u001b[0m         \u001b[0mplt\u001b[0m\u001b[0;34m.\u001b[0m\u001b[0mxlim\u001b[0m\u001b[0;34m(\u001b[0m\u001b[0;34m[\u001b[0m\u001b[0;36m0\u001b[0m\u001b[0;34m,\u001b[0m\u001b[0;36m400\u001b[0m\u001b[0;34m]\u001b[0m\u001b[0;34m)\u001b[0m\u001b[0;34m\u001b[0m\u001b[0;34m\u001b[0m\u001b[0m\n\u001b[1;32m     26\u001b[0m         \u001b[0mplt\u001b[0m\u001b[0;34m.\u001b[0m\u001b[0mylim\u001b[0m\u001b[0;34m(\u001b[0m\u001b[0;34m[\u001b[0m\u001b[0;36m100\u001b[0m\u001b[0;34m,\u001b[0m\u001b[0;36m400\u001b[0m\u001b[0;34m]\u001b[0m\u001b[0;34m)\u001b[0m\u001b[0;34m\u001b[0m\u001b[0;34m\u001b[0m\u001b[0m\n",
      "\u001b[0;31mAttributeError\u001b[0m: module 'src.utils' has no attribute 'plot_skeleton'"
     ],
     "ename": "AttributeError",
     "evalue": "module 'src.utils' has no attribute 'plot_skeleton'",
     "output_type": "error"
    },
    {
     "data": {
      "text/plain": "<Figure size 720x720 with 1 Axes>",
      "image/png": "[encoded data removed]"
     },
     "metadata": {
      "needs_background": "light"
     },
     "output_type": "display_data"
    }
   ],
   "source": [
    "import matplotlib.pyplot as plt\n",
    "from matplotlib.animation import FFMpegWriter\n",
    "fig = plt.figure(figsize=(10,10))\n",
    "plt.subplots_adjust(top = 1, bottom = 0, right = 1, left = 0, hspace = 0, wspace = 0)\n",
    "#plt.xlim([100,800])\n",
    "#plt.ylim([100,800])\n",
    "\n",
    "#bottom = _bottom.loc[0,(slice(None),['x','y'])]#\n",
    "#bottom_np = pts2d.to_numpy()[None,:]\n",
    "#bottom_np = _bottom.loc[:,(slice(None),['x','y'])].to_numpy()\n",
    "#bottom_np = np.stack((bottom_np[:,::2], bottom_np[:,1::2]), axis=2)\n",
    "\n",
    "from skeleton import skeleton\n",
    "G, color_edge = skeleton()\n",
    "writer = FFMpegWriter(fps=10)\n",
    "with writer.saving(fig, \"cropped.mp4\", 100):\n",
    "    for frame_idx in tqdm(range(1500)):\n",
    "        plt.cla()\n",
    "\n",
    "        #plt.imshow(img_rot[frame_idx], cmap='gray')\n",
    "        #plt.imshow(imgs[frame_idx], cmap='gray')\n",
    "\n",
    "        utils.plot_skeleton(G, bottom_np[frame_idx,:,0], bottom_np[frame_idx,:,1], color_edge)\n",
    "        plt.xlim([0,400])\n",
    "        plt.ylim([100,400])\n",
    "                \n",
    "        #plt.text(120, 80, str(frame_idx), fontsize=20, color='white')\n",
    "\n",
    "        #plt.axis('off')\n",
    "        writer.grab_frame() "
   ]
  },
  {
   "cell_type": "code",
   "execution_count": null,
   "metadata": {},
   "outputs": [],
   "source": [
    "shape"
   ]
  },
  {
   "cell_type": "code",
   "execution_count": null,
   "metadata": {},
   "outputs": [],
   "source": [
    "import matplotlib.pyplot as plt\n",
    "def plot_skeleton(x, y, color_edge,  ax=None, good_keypts=None):\n",
    "           \n",
    "    for i, j in enumerate(G.edges()): \n",
    "        if good_keypts is not None:\n",
    "            if (good_keypts[j[0]]==0) | (good_keypts[j[1]]==0):\n",
    "                continue   \n",
    "       \n",
    "        u = np.array((x[j[0]], x[j[1]]))\n",
    "        v = np.array((y[j[0]], y[j[1]]))\n",
    "        if ax is not None:\n",
    "            ax.plot(u, v, c=color_edge[j[0]], alpha=1.0, linewidth = 2)\n",
    "        else:\n",
    "            plt.plot(u, v, c=color_edge[j[0]], alpha=1.0, linewidth = 2) \n",
    "            \n",
    "from skeleton import skeleton\n",
    "G, color_edge = skeleton()\n",
    "#cropped image\n",
    "i = 0\n",
    "\n",
    "fig = plt.figure(figsize=(6,6))\n",
    "\n",
    "bottom = _bottom.loc[:,(slice(None),['x','y'])]\n",
    "\n",
    "tmp = procrustes.center_and_align(x, angle[0], np.array(shape), np.array(c[0]), img_rot[0])\n",
    "\n",
    "\n",
    "bottom_x = bottom[:,0]\n",
    "bottom_y = bottom[:,1]\n",
    "\n",
    "plt.imshow(img_rot[0])\n",
    "plot_skeleton(bottom_x, bottom_y, color_edge)\n",
    "\n",
    "\n",
    "#i = 50\n",
    "\n",
    "#bottom_2 = poses['points2d'][0,i,:,:].copy()\n",
    "\n",
    "#bottom_x = bottom_2[:,0]\n",
    "#bottom_y = bottom_2[:,1]\n",
    "\n",
    "#plot_skeleton(bottom_x, bottom_y, color_edge)\n"
   ]
  },
  {
   "cell_type": "code",
   "execution_count": null,
   "metadata": {},
   "outputs": [],
   "source": []
  }
 ],
 "metadata": {
  "kernelspec": {
   "display_name": "Python 3",
   "language": "python",
   "name": "python3"
  },
  "language_info": {
   "codemirror_mode": {
    "name": "ipython",
    "version": 3
   },
   "file_extension": ".py",
   "mimetype": "text/x-python",
   "name": "python",
   "nbconvert_exporter": "python",
   "pygments_lexer": "ipython3",
   "version": "3.7.6"
  },
  "pycharm": {
   "stem_cell": {
    "cell_type": "raw",
    "source": [],
    "metadata": {
     "collapsed": false
    }
   }
  }
 },
 "nbformat": 4,
 "nbformat_minor": 4
}