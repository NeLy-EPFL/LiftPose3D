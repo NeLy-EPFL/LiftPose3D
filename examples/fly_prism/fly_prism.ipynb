{
 "cells": [
  {
   "cell_type": "markdown",
   "metadata": {},
   "source": [
    "# Load Data"
   ]
  },
  {
   "cell_type": "code",
   "execution_count": 1,
   "metadata": {},
   "outputs": [],
   "source": [
    "%load_ext autoreload\n",
    "%autoreload 2\n",
    "from load import load_3D\n",
    "from liftpose.vision_3d import XY_coord_dict, Z_coord_dict\n",
    "import yaml\n",
    "import logging\n",
    "from imp import reload\n",
    "import torch\n",
    "import numpy as np\n",
    "import matplotlib.pyplot as plt\n",
    "import os \n",
    "import glob\n",
    "\n",
    "reload(logging)\n",
    "logger = logging.getLogger(__name__).setLevel(logging.INFO)\n",
    "\n",
    "# decleare data parameters\n",
    "par_train = {'data_dir'       : \"/data/LiftPose3D/fly_prism/data_oriented/training_data\", # change the path \n",
    "             'out_dir'        : './out',\n",
    "             \"train_subjects\" : [\"001\", \"002\", \"003\"],\n",
    "             'test_subjects'  : [\"004\"],\n",
    "             'actions'        : ['PR']}\n",
    "\n",
    "# merge with training parameters\n",
    "par_data = yaml.full_load(open('param.yaml', \"rb\"))\n",
    "par = {**par_data[\"data\"], **par_train}\n",
    "\n",
    "# load data\n",
    "train, train_keypts, _ = load_3D(par[\"data_dir\"], subjects=par['train_subjects'], actions=par['actions'])\n",
    "test,  test_keypts, _ = load_3D( par[\"data_dir\"], subjects=par['test_subjects'],  actions=par['actions'])\n",
    "\n",
    "#project data to ventral view\n",
    "train_2d, train_3d = XY_coord_dict(train), Z_coord_dict(train)\n",
    "test_2d, test_3d  = XY_coord_dict(test), Z_coord_dict(test)\n",
    "train_keypts = Z_coord_dict(train_keypts)\n",
    "test_keypts = Z_coord_dict(test_keypts)"
   ]
  },
  {
   "cell_type": "markdown",
   "metadata": {},
   "source": [
    "# Train LiftPose3D Network on DeepFly3D Data"
   ]
  },
  {
   "cell_type": "code",
   "execution_count": 2,
<<<<<<< Updated upstream
   "metadata": {
    "jupyter": {
     "outputs_hidden": true
    }
   },
=======
   "metadata": {},
>>>>>>> Stashed changes
   "outputs": [
    {
     "name": "stdout",
     "output_type": "stream",
     "text": [
<<<<<<< Updated upstream
      "[main.py:197]:INFO:Creating directory /home/gosztolai/Dropbox/github/fly_data_analysis/LiftPose3D/examples/fly_prism/out\n",
      "[main.py:244]:INFO:Saving pre-processed 2D data at /home/gosztolai/Dropbox/github/fly_data_analysis/LiftPose3D/examples/fly_prism/out/stat_2d.pth.tar.\n",
      "[main.py:263]:INFO:Saving pre-processed 3D data at /home/gosztolai/Dropbox/github/fly_data_analysis/LiftPose3D/examples/fly_prism/out/stat_3d.pth.tar.\n",
      "[main.py:291]:INFO:Starting training model.\n",
      "[main.py:301]:DEBUG:\n",
      "==================Options=================\n",
      "[main.py:302]:DEBUG:{   'batch_size': 64,\n",
      "    'data_dir': '/home/gosztolai/Dropbox/github/fly_data_analysis/LiftPose3D/examples/fly_prism/out',\n",
=======
      "[main.py:243]:INFO:Saving pre-processed 2D data at /home/user/Desktop/LiftPose3D/examples/fly_prism/out/stat_2d.pth.tar.\n",
      "[main.py:262]:INFO:Saving pre-processed 3D data at /home/user/Desktop/LiftPose3D/examples/fly_prism/out/stat_3d.pth.tar.\n",
      "[main.py:289]:INFO:Starting training model.\n",
      "[main.py:299]:DEBUG:\n",
      "==================Options=================\n",
      "[main.py:300]:DEBUG:{   'batch_size': 64,\n",
      "    'data_dir': '/home/user/Desktop/LiftPose3D/examples/fly_prism/out',\n",
>>>>>>> Stashed changes
      "    'dropout': 0.5,\n",
      "    'epochs': 30,\n",
      "    'exp': '',\n",
      "    'is_train': True,\n",
      "    'job': 8,\n",
      "    'linear_size': 1024,\n",
      "    'load': None,\n",
      "    'lr': 0.001,\n",
      "    'lr_decay': 5000,\n",
      "    'lr_gamma': 0.9,\n",
      "    'max_norm': True,\n",
      "    'noise': None,\n",
      "    'num_stage': 2,\n",
<<<<<<< Updated upstream
      "    'out': '/home/gosztolai/Dropbox/github/fly_data_analysis/LiftPose3D/examples/fly_prism/out',\n",
      "    'out_dir': '/home/gosztolai/Dropbox/github/fly_data_analysis/LiftPose3D/examples/fly_prism/out',\n",
=======
      "    'out': '/home/user/Desktop/LiftPose3D/examples/fly_prism/out',\n",
      "    'out_dir': '/home/user/Desktop/LiftPose3D/examples/fly_prism/out',\n",
>>>>>>> Stashed changes
      "    'predict': False,\n",
      "    'procrustes': False,\n",
      "    'resume': False,\n",
      "    'test': False}\n",
<<<<<<< Updated upstream
      "[main.py:303]:DEBUG:==========================================\n",
=======
      "[main.py:301]:DEBUG:==========================================\n",
>>>>>>> Stashed changes
      "\n",
      "[lift.py:31]:INFO:Training on the device: cuda:0\n"
     ]
    },
    {
     "name": "stderr",
     "output_type": "stream",
     "text": [
<<<<<<< Updated upstream
      "/home/gosztolai/Dropbox/github/fly_data_analysis/LiftPose3D/liftpose/preprocess.py:141: RuntimeWarning: Mean of empty slice\n",
      "  mean = np.nanmean(d, axis=0)\n",
      "/home/gosztolai/anaconda3/envs/LiftPose3D/lib/python3.8/site-packages/numpy/lib/nanfunctions.py:1664: RuntimeWarning: Degrees of freedom <= 0 for slice.\n",
      "  var = nanvar(a, axis=axis, dtype=dtype, out=out, ddof=ddof,\n"
=======
      "/home/user/Desktop/LiftPose3D/liftpose/preprocess.py:144: RuntimeWarning: Mean of empty slice\n",
      "  mean = np.nanmean(d, axis=0)\n",
      "/home/user/anaconda3/envs/lf3d/lib/python3.7/site-packages/numpy/lib/nanfunctions.py:1667: RuntimeWarning: Degrees of freedom <= 0 for slice.\n",
      "  keepdims=keepdims)\n"
>>>>>>> Stashed changes
     ]
    },
    {
     "name": "stdout",
     "output_type": "stream",
     "text": [
<<<<<<< Updated upstream
      "[lift.py:53]:INFO:total params: 4.28M\n"
=======
      "[lift.py:55]:INFO:total params: 4.28M\n"
>>>>>>> Stashed changes
     ]
    },
    {
     "name": "stderr",
     "output_type": "stream",
     "text": [
<<<<<<< Updated upstream
      "Epoch 000 | LR  0.00100 | Loss Test  0.00000 | Loss Train  1.34128|: 100%|██████████| 161/161 [00:01<00:00, 134.67it/s]\n",
      "Epoch 001 | LR  0.00100 | Loss Test  0.16520 | Loss Train  0.41652|: 100%|██████████| 161/161 [00:01<00:00, 157.82it/s]\n",
      "Epoch 002 | LR  0.00100 | Loss Test  0.08896 | Loss Train  0.15128|: 100%|██████████| 161/161 [00:01<00:00, 151.56it/s]\n",
      "Epoch 003 | LR  0.00100 | Loss Test  0.04724 | Loss Train  0.06828|: 100%|██████████| 161/161 [00:01<00:00, 157.54it/s]\n",
      "Epoch 004 | LR  0.00100 | Loss Test  0.04759 | Loss Train  0.04124|: 100%|██████████| 161/161 [00:00<00:00, 163.31it/s]\n",
      "Epoch 005 | LR  0.00100 | Loss Test  0.03868 | Loss Train  0.03071|: 100%|██████████| 161/161 [00:01<00:00, 159.79it/s]\n",
      "Epoch 006 | LR  0.00100 | Loss Test  0.02724 | Loss Train  0.02770|: 100%|██████████| 161/161 [00:00<00:00, 165.12it/s]\n",
      "Epoch 007 | LR  0.00100 | Loss Test  0.03260 | Loss Train  0.02503|: 100%|██████████| 161/161 [00:00<00:00, 161.85it/s]\n",
      "Epoch 008 | LR  0.00100 | Loss Test  0.03781 | Loss Train  0.02380|: 100%|██████████| 161/161 [00:01<00:00, 155.98it/s]\n",
      "Epoch 009 | LR  0.00100 | Loss Test  0.02932 | Loss Train  0.02340|: 100%|██████████| 161/161 [00:00<00:00, 164.96it/s]\n",
      "Epoch 010 | LR  0.00100 | Loss Test  0.02741 | Loss Train  0.02186|: 100%|██████████| 161/161 [00:00<00:00, 164.33it/s]\n",
      "Epoch 011 | LR  0.00100 | Loss Test  0.02175 | Loss Train  0.02143|: 100%|██████████| 161/161 [00:00<00:00, 163.91it/s]\n",
      "Epoch 012 | LR  0.00100 | Loss Test  0.02801 | Loss Train  0.02108|: 100%|██████████| 161/161 [00:01<00:00, 159.72it/s]\n",
      "Epoch 013 | LR  0.00100 | Loss Test  0.02612 | Loss Train  0.02155|: 100%|██████████| 161/161 [00:00<00:00, 161.53it/s]\n",
      "Epoch 014 | LR  0.00100 | Loss Test  0.02803 | Loss Train  0.02048|: 100%|██████████| 161/161 [00:00<00:00, 164.54it/s]\n",
      "Epoch 015 | LR  0.00100 | Loss Test  0.02345 | Loss Train  0.01911|: 100%|██████████| 161/161 [00:00<00:00, 164.36it/s]\n",
      "Epoch 016 | LR  0.00100 | Loss Test  0.02851 | Loss Train  0.01864|: 100%|██████████| 161/161 [00:00<00:00, 162.61it/s]\n",
      "Epoch 017 | LR  0.00100 | Loss Test  0.02638 | Loss Train  0.01815|: 100%|██████████| 161/161 [00:00<00:00, 161.23it/s]\n",
      "Epoch 018 | LR  0.00100 | Loss Test  0.02586 | Loss Train  0.01699|: 100%|██████████| 161/161 [00:01<00:00, 159.62it/s]\n",
      "Epoch 019 | LR  0.00100 | Loss Test  0.02374 | Loss Train  0.01697|: 100%|██████████| 161/161 [00:00<00:00, 165.37it/s]\n",
      "Epoch 020 | LR  0.00100 | Loss Test  0.02508 | Loss Train  0.01641|: 100%|██████████| 161/161 [00:00<00:00, 163.01it/s]\n",
      "Epoch 021 | LR  0.00100 | Loss Test  0.02653 | Loss Train  0.01629|: 100%|██████████| 161/161 [00:00<00:00, 162.87it/s]\n",
      "Epoch 022 | LR  0.00100 | Loss Test  0.02483 | Loss Train  0.01584|: 100%|██████████| 161/161 [00:00<00:00, 163.68it/s]\n",
      "Epoch 023 | LR  0.00100 | Loss Test  0.02686 | Loss Train  0.01514|: 100%|██████████| 161/161 [00:00<00:00, 163.72it/s]\n",
      "Epoch 024 | LR  0.00100 | Loss Test  0.02334 | Loss Train  0.01516|: 100%|██████████| 161/161 [00:00<00:00, 162.35it/s]\n",
      "Epoch 025 | LR  0.00100 | Loss Test  0.02469 | Loss Train  0.01466|: 100%|██████████| 161/161 [00:00<00:00, 162.68it/s]\n",
      "Epoch 026 | LR  0.00100 | Loss Test  0.02402 | Loss Train  0.01397|: 100%|██████████| 161/161 [00:00<00:00, 164.23it/s]\n",
      "Epoch 027 | LR  0.00100 | Loss Test  0.02215 | Loss Train  0.01394|: 100%|██████████| 161/161 [00:01<00:00, 160.44it/s]\n",
      "Epoch 028 | LR  0.00100 | Loss Test  0.02449 | Loss Train  0.01367|: 100%|██████████| 161/161 [00:00<00:00, 165.79it/s]\n",
      "Epoch 029 | LR  0.00100 | Loss Test  0.02291 | Loss Train  0.01355|: 100%|██████████| 161/161 [00:00<00:00, 163.46it/s]\n"
=======
      "Epoch 000 | LR  0.00100 | Loss Test  0.00000 | Loss Train  1.37800|: 100%|██████████| 161/161 [00:02<00:00, 64.70it/s]\n",
      "Epoch 001 | LR  0.00100 | Loss Test  0.17823 | Loss Train  0.43822|: 100%|██████████| 161/161 [00:02<00:00, 60.08it/s]\n",
      "Epoch 002 | LR  0.00100 | Loss Test  0.07058 | Loss Train  0.15849|: 100%|██████████| 161/161 [00:02<00:00, 60.09it/s]\n",
      "Epoch 003 | LR  0.00100 | Loss Test  0.05524 | Loss Train  0.07523|:  83%|████████▎ | 134/161 [00:02<00:00, 59.67it/s]\n"
     ]
    },
    {
     "ename": "KeyboardInterrupt",
     "evalue": "",
     "output_type": "error",
     "traceback": [
      "\u001b[0;31m---------------------------------------------------------------------------\u001b[0m",
      "\u001b[0;31mKeyboardInterrupt\u001b[0m                         Traceback (most recent call last)",
      "\u001b[0;32m<ipython-input-2-50567ba8ce02>\u001b[0m in \u001b[0;36m<module>\u001b[0;34m\u001b[0m\n\u001b[1;32m      5\u001b[0m            \u001b[0mroots\u001b[0m\u001b[0;34m=\u001b[0m\u001b[0mpar\u001b[0m\u001b[0;34m[\u001b[0m\u001b[0;34m'roots'\u001b[0m\u001b[0;34m]\u001b[0m\u001b[0;34m,\u001b[0m\u001b[0;34m\u001b[0m\u001b[0;34m\u001b[0m\u001b[0m\n\u001b[1;32m      6\u001b[0m            \u001b[0mtarget_sets\u001b[0m\u001b[0;34m=\u001b[0m\u001b[0mpar\u001b[0m\u001b[0;34m[\u001b[0m\u001b[0;34m'target_sets'\u001b[0m\u001b[0;34m]\u001b[0m\u001b[0;34m,\u001b[0m\u001b[0;34m\u001b[0m\u001b[0;34m\u001b[0m\u001b[0m\n\u001b[0;32m----> 7\u001b[0;31m            out_dir=par['out_dir'])\n\u001b[0m",
      "\u001b[0;32m~/Desktop/LiftPose3D/liftpose/main.py\u001b[0m in \u001b[0;36mtrain\u001b[0;34m(train_2d, test_2d, train_3d, test_3d, roots, target_sets, out_dir, train_keypts, test_keypts, training_kwargs, augmentation, mean)\u001b[0m\n\u001b[1;32m    300\u001b[0m     \u001b[0mlogger\u001b[0m\u001b[0;34m.\u001b[0m\u001b[0mdebug\u001b[0m\u001b[0;34m(\u001b[0m\u001b[0mpformat\u001b[0m\u001b[0;34m(\u001b[0m\u001b[0mvars\u001b[0m\u001b[0;34m(\u001b[0m\u001b[0moption\u001b[0m\u001b[0;34m)\u001b[0m\u001b[0;34m,\u001b[0m \u001b[0mindent\u001b[0m\u001b[0;34m=\u001b[0m\u001b[0;36m4\u001b[0m\u001b[0;34m)\u001b[0m\u001b[0;34m)\u001b[0m\u001b[0;34m\u001b[0m\u001b[0;34m\u001b[0m\u001b[0m\n\u001b[1;32m    301\u001b[0m     \u001b[0mlogger\u001b[0m\u001b[0;34m.\u001b[0m\u001b[0mdebug\u001b[0m\u001b[0;34m(\u001b[0m\u001b[0;34m\"==========================================\\n\"\u001b[0m\u001b[0;34m)\u001b[0m\u001b[0;34m\u001b[0m\u001b[0;34m\u001b[0m\u001b[0m\n\u001b[0;32m--> 302\u001b[0;31m     \u001b[0mnetwork_main\u001b[0m\u001b[0;34m(\u001b[0m\u001b[0moption\u001b[0m\u001b[0;34m,\u001b[0m \u001b[0maugmentation\u001b[0m\u001b[0;34m)\u001b[0m\u001b[0;34m\u001b[0m\u001b[0;34m\u001b[0m\u001b[0m\n\u001b[0m\u001b[1;32m    303\u001b[0m \u001b[0;34m\u001b[0m\u001b[0m\n\u001b[1;32m    304\u001b[0m \u001b[0;34m\u001b[0m\u001b[0m\n",
      "\u001b[0;32m~/Desktop/LiftPose3D/liftpose/lifter/lift.py\u001b[0m in \u001b[0;36mnetwork_main\u001b[0;34m(opt, augmentation)\u001b[0m\n\u001b[1;32m    153\u001b[0m                 \u001b[0mlr_decay\u001b[0m\u001b[0;34m=\u001b[0m\u001b[0mopt\u001b[0m\u001b[0;34m.\u001b[0m\u001b[0mlr_decay\u001b[0m\u001b[0;34m,\u001b[0m\u001b[0;34m\u001b[0m\u001b[0;34m\u001b[0m\u001b[0m\n\u001b[1;32m    154\u001b[0m                 \u001b[0mgamma\u001b[0m\u001b[0;34m=\u001b[0m\u001b[0mopt\u001b[0m\u001b[0;34m.\u001b[0m\u001b[0mlr_gamma\u001b[0m\u001b[0;34m,\u001b[0m\u001b[0;34m\u001b[0m\u001b[0;34m\u001b[0m\u001b[0m\n\u001b[0;32m--> 155\u001b[0;31m                 \u001b[0mmax_norm\u001b[0m\u001b[0;34m=\u001b[0m\u001b[0mopt\u001b[0m\u001b[0;34m.\u001b[0m\u001b[0mmax_norm\u001b[0m\u001b[0;34m,\u001b[0m\u001b[0;34m\u001b[0m\u001b[0;34m\u001b[0m\u001b[0m\n\u001b[0m\u001b[1;32m    156\u001b[0m             )\n\u001b[1;32m    157\u001b[0m \u001b[0;34m\u001b[0m\u001b[0m\n",
      "\u001b[0;32m~/Desktop/LiftPose3D/liftpose/lifter/train.py\u001b[0m in \u001b[0;36mtrain\u001b[0;34m(train_loader, model, criterion, optimizer, epoch, loss_test, lr_init, lr_now, glob_step, lr_decay, gamma, max_norm)\u001b[0m\n\u001b[1;32m     60\u001b[0m         \u001b[0mloss\u001b[0m \u001b[0;34m=\u001b[0m \u001b[0mcriterion\u001b[0m\u001b[0;34m(\u001b[0m\u001b[0moutputs\u001b[0m\u001b[0;34m,\u001b[0m \u001b[0mtargets\u001b[0m\u001b[0;34m)\u001b[0m\u001b[0;34m\u001b[0m\u001b[0;34m\u001b[0m\u001b[0m\n\u001b[1;32m     61\u001b[0m         \u001b[0mlosses\u001b[0m\u001b[0;34m.\u001b[0m\u001b[0mupdate\u001b[0m\u001b[0;34m(\u001b[0m\u001b[0mloss\u001b[0m\u001b[0;34m.\u001b[0m\u001b[0mitem\u001b[0m\u001b[0;34m(\u001b[0m\u001b[0;34m)\u001b[0m\u001b[0;34m,\u001b[0m \u001b[0minputs\u001b[0m\u001b[0;34m.\u001b[0m\u001b[0msize\u001b[0m\u001b[0;34m(\u001b[0m\u001b[0;36m0\u001b[0m\u001b[0;34m)\u001b[0m\u001b[0;34m)\u001b[0m\u001b[0;34m\u001b[0m\u001b[0;34m\u001b[0m\u001b[0m\n\u001b[0;32m---> 62\u001b[0;31m         \u001b[0mloss\u001b[0m\u001b[0;34m.\u001b[0m\u001b[0mbackward\u001b[0m\u001b[0;34m(\u001b[0m\u001b[0;34m)\u001b[0m\u001b[0;34m\u001b[0m\u001b[0;34m\u001b[0m\u001b[0m\n\u001b[0m\u001b[1;32m     63\u001b[0m         \u001b[0;32mif\u001b[0m \u001b[0mmax_norm\u001b[0m\u001b[0;34m:\u001b[0m\u001b[0;34m\u001b[0m\u001b[0;34m\u001b[0m\u001b[0m\n\u001b[1;32m     64\u001b[0m             \u001b[0mnn\u001b[0m\u001b[0;34m.\u001b[0m\u001b[0mutils\u001b[0m\u001b[0;34m.\u001b[0m\u001b[0mclip_grad_norm_\u001b[0m\u001b[0;34m(\u001b[0m\u001b[0mmodel\u001b[0m\u001b[0;34m.\u001b[0m\u001b[0mparameters\u001b[0m\u001b[0;34m(\u001b[0m\u001b[0;34m)\u001b[0m\u001b[0;34m,\u001b[0m \u001b[0mmax_norm\u001b[0m\u001b[0;34m=\u001b[0m\u001b[0;36m1\u001b[0m\u001b[0;34m)\u001b[0m\u001b[0;34m\u001b[0m\u001b[0;34m\u001b[0m\u001b[0m\n",
      "\u001b[0;32m~/anaconda3/envs/lf3d/lib/python3.7/site-packages/torch/tensor.py\u001b[0m in \u001b[0;36mbackward\u001b[0;34m(self, gradient, retain_graph, create_graph)\u001b[0m\n\u001b[1;32m    196\u001b[0m                 \u001b[0mproducts\u001b[0m\u001b[0;34m.\u001b[0m \u001b[0mDefaults\u001b[0m \u001b[0mto\u001b[0m\u001b[0;31m \u001b[0m\u001b[0;31m`\u001b[0m\u001b[0;31m`\u001b[0m\u001b[0;32mFalse\u001b[0m\u001b[0;31m`\u001b[0m\u001b[0;31m`\u001b[0m\u001b[0;34m.\u001b[0m\u001b[0;34m\u001b[0m\u001b[0;34m\u001b[0m\u001b[0m\n\u001b[1;32m    197\u001b[0m         \"\"\"\n\u001b[0;32m--> 198\u001b[0;31m         \u001b[0mtorch\u001b[0m\u001b[0;34m.\u001b[0m\u001b[0mautograd\u001b[0m\u001b[0;34m.\u001b[0m\u001b[0mbackward\u001b[0m\u001b[0;34m(\u001b[0m\u001b[0mself\u001b[0m\u001b[0;34m,\u001b[0m \u001b[0mgradient\u001b[0m\u001b[0;34m,\u001b[0m \u001b[0mretain_graph\u001b[0m\u001b[0;34m,\u001b[0m \u001b[0mcreate_graph\u001b[0m\u001b[0;34m)\u001b[0m\u001b[0;34m\u001b[0m\u001b[0;34m\u001b[0m\u001b[0m\n\u001b[0m\u001b[1;32m    199\u001b[0m \u001b[0;34m\u001b[0m\u001b[0m\n\u001b[1;32m    200\u001b[0m     \u001b[0;32mdef\u001b[0m \u001b[0mregister_hook\u001b[0m\u001b[0;34m(\u001b[0m\u001b[0mself\u001b[0m\u001b[0;34m,\u001b[0m \u001b[0mhook\u001b[0m\u001b[0;34m)\u001b[0m\u001b[0;34m:\u001b[0m\u001b[0;34m\u001b[0m\u001b[0;34m\u001b[0m\u001b[0m\n",
      "\u001b[0;32m~/anaconda3/envs/lf3d/lib/python3.7/site-packages/torch/autograd/__init__.py\u001b[0m in \u001b[0;36mbackward\u001b[0;34m(tensors, grad_tensors, retain_graph, create_graph, grad_variables)\u001b[0m\n\u001b[1;32m     98\u001b[0m     Variable._execution_engine.run_backward(\n\u001b[1;32m     99\u001b[0m         \u001b[0mtensors\u001b[0m\u001b[0;34m,\u001b[0m \u001b[0mgrad_tensors\u001b[0m\u001b[0;34m,\u001b[0m \u001b[0mretain_graph\u001b[0m\u001b[0;34m,\u001b[0m \u001b[0mcreate_graph\u001b[0m\u001b[0;34m,\u001b[0m\u001b[0;34m\u001b[0m\u001b[0;34m\u001b[0m\u001b[0m\n\u001b[0;32m--> 100\u001b[0;31m         allow_unreachable=True)  # allow_unreachable flag\n\u001b[0m\u001b[1;32m    101\u001b[0m \u001b[0;34m\u001b[0m\u001b[0m\n\u001b[1;32m    102\u001b[0m \u001b[0;34m\u001b[0m\u001b[0m\n",
      "\u001b[0;31mKeyboardInterrupt\u001b[0m: "
>>>>>>> Stashed changes
     ]
    }
   ],
   "source": [
    "from liftpose.main import train as lp3d_train\n",
    "lp3d_train(train_2d=train_2d, test_2d=test_2d,\n",
    "           train_3d=train_3d, test_3d=test_3d, \n",
    "           train_keypts=train_keypts, test_keypts=test_keypts,\n",
    "           roots=par['roots'],\n",
    "           target_sets=par['target_sets'],\n",
    "           out_dir=par['out_dir'])"
   ]
  },
  {
   "cell_type": "code",
   "execution_count": 3,
   "metadata": {},
   "outputs": [
    {
     "name": "stderr",
     "output_type": "stream",
     "text": [
      "/home/user/anaconda3/envs/lf3d/lib/python3.7/importlib/_bootstrap.py:219: RuntimeWarning: numpy.ufunc size changed, may indicate binary incompatibility. Expected 192 from C header, got 216 from PyObject\n",
      "  return f(*args, **kwds)\n",
      "/home/user/anaconda3/envs/lf3d/lib/python3.7/importlib/_bootstrap.py:219: RuntimeWarning: numpy.ufunc size changed, may indicate binary incompatibility. Expected 192 from C header, got 216 from PyObject\n",
      "  return f(*args, **kwds)\n"
     ]
    },
    {
     "data": {
      "image/png": "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\n",
      "text/plain": [
       "<Figure size 432x288 with 1 Axes>"
      ]
     },
     "metadata": {
      "needs_background": "light"
     },
     "output_type": "display_data"
    }
   ],
   "source": [
    "%matplotlib inline\n",
    "from liftpose.plot import read_log_train, plot_log_train\n",
    "epoch, lr, loss_train, loss_test, err_test = read_log_train(par['out_dir'])\n",
    "plot_log_train(plt.gca(), loss_train, loss_test, epoch)"
   ]
  },
  {
   "cell_type": "markdown",
   "metadata": {},
   "source": [
    "# Run Trained LiftPose3D Network on the Test Data"
   ]
  },
  {
   "cell_type": "code",
   "execution_count": 4,
   "metadata": {},
   "outputs": [
    {
     "name": "stdout",
     "output_type": "stream",
     "text": [
      "[main.py:389]:INFO:starting testing in path: ./out\n",
      "[lift.py:31]:INFO:Training on the device: cuda:0\n",
      "[lift.py:55]:INFO:total params: 4.28M\n",
      "[lift.py:61]:INFO:loading ckpt from './out/ckpt_best.pth.tar'\n",
      "[lift.py:69]:INFO:ckpt loaded (epoch: 3 | err: 1.2146986291022828)\n",
      "[lift.py:105]:INFO:Saving results: /home/user/Desktop/LiftPose3D/examples/fly_prism/out/test_results.pth.tar\n"
     ]
    }
   ],
   "source": [
    "from liftpose.main import test as lp3d_test\n",
    "lp3d_test(par['out_dir'])"
   ]
  },
  {
   "cell_type": "markdown",
   "metadata": {},
   "source": [
    "# Visualize Predictions"
   ]
  },
  {
   "cell_type": "code",
   "execution_count": 5,
   "metadata": {},
   "outputs": [],
   "source": [
    "from liftpose.postprocess import load_test_results\n",
    "data = torch.load(par['out_dir'] + \"/test_results.pth.tar\")\n",
    "stat_2d, stat_3d = (\n",
    "    torch.load(par['out_dir'] + \"/stat_2d.pth.tar\"),\n",
    "    torch.load(par['out_dir'] + \"/stat_3d.pth.tar\"),\n",
    ")\n",
    "test_3d_gt, test_3d_pred, good_keypts = load_test_results(data, stat_2d, stat_3d, prism=True)"
   ]
  },
  {
   "cell_type": "code",
   "execution_count": 8,
   "metadata": {},
   "outputs": [
    {
     "data": {
      "application/vnd.jupyter.widget-view+json": {
       "model_id": "19b4d8451111401d803c739cf9bc863d",
       "version_major": 2,
       "version_minor": 0
      },
      "text/plain": [
       "Canvas(toolbar=Toolbar(toolitems=[('Home', 'Reset original view', 'home', 'home'), ('Back', 'Back to previous …"
      ]
     },
     "metadata": {},
     "output_type": "display_data"
    }
   ],
   "source": [
    "# https://stackoverflow.com/a/38865534/7554774\n",
    "# conda install ipympl\n",
    "%matplotlib widget\n",
    "from liftpose.preprocess import add_roots\n",
    "#%matplotlib inline\n",
    "from liftpose.plot import plot_pose_3d\n",
    "\n",
    "fig = plt.figure(figsize=plt.figaspect(1), dpi=100)\n",
    "ax = fig.add_subplot(111, projection='3d')\n",
    "ax.view_init(elev=45, azim=0)\n",
    "\n",
    "t = 12\n",
    "plot_pose_3d(ax, tar=test_3d_gt[t],\n",
    "            pred=test_3d_pred[t],\n",
    "            bones=par_data[\"vis\"][\"bones\"], \n",
    "            limb_id=par_data[\"vis\"][\"limb_id\"], \n",
    "            colors=par_data[\"vis\"][\"colors\"],\n",
    "            good_keypts=good_keypts[t],\n",
    "            show_gt_always=True)"
   ]
  },
  {
   "cell_type": "code",
   "execution_count": null,
   "metadata": {},
   "outputs": [],
   "source": []
  }
 ],
 "metadata": {
  "kernelspec": {
   "display_name": "Python 3",
   "language": "python",
   "name": "python3"
  },
  "language_info": {
   "codemirror_mode": {
    "name": "ipython",
    "version": 3
   },
   "file_extension": ".py",
   "mimetype": "text/x-python",
   "name": "python",
   "nbconvert_exporter": "python",
   "pygments_lexer": "ipython3",
   "version": "3.7.7"
  }
 },
 "nbformat": 4,
 "nbformat_minor": 4
}
