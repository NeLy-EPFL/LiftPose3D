{
 "cells": [
  {
   "cell_type": "markdown",
   "metadata": {},
   "source": [
    "# Load Data"
   ]
  },
  {
   "cell_type": "code",
   "execution_count": 46,
   "metadata": {},
   "outputs": [
    {
     "name": "stdout",
     "output_type": "stream",
     "text": [
      "The autoreload extension is already loaded. To reload it, use:\n",
      "  %reload_ext autoreload\n"
     ]
    }
   ],
   "source": [
    "%load_ext autoreload\n",
    "%autoreload 2\n",
    "from load import load_3D\n",
    "from liftpose.vision_3d import XY_coord, Z_coord\n",
    "import yaml\n",
    "import logging\n",
    "from imp import reload\n",
    "import torch\n",
    "import numpy as np\n",
    "import matplotlib.pyplot as plt\n",
    "reload(logging)\n",
    "logger = logging.getLogger(__name__).setLevel(logging.INFO)\n",
    "\n",
    "par = yaml.full_load(open('param.yaml', \"rb\"))\n",
    "\n",
    "train, train_keypts, _ = load_3D(par[\"data_dir\"], subjects=par['train_subjects'], actions=par['actions'] )\n",
    "test,  test_keypts, _ = load_3D( par[\"data_dir\"], subjects=par['test_subjects'],  actions=par['actions'] )\n",
    "#project data to ventral view\n",
    "train_2d, train_3d = XY_coord(train), Z_coord(train)\n",
    "test_2d, test_3d  = XY_coord(test), Z_coord(test)"
   ]
  },
  {
   "cell_type": "markdown",
   "metadata": {},
   "source": [
    "# Train LiftPose3D Network on DeepFly3D Data"
   ]
  },
  {
   "cell_type": "code",
   "execution_count": 47,
   "metadata": {},
   "outputs": [
    {
     "name": "stdout",
     "output_type": "stream",
     "text": [
      "[main.py:84]:INFO:Saving pre-processed 2D data at /home/user/Desktop/LiftPose3D/examples/fly_prism_package/out/stat_2d.pth.tar.\n",
      "[main.py:108]:INFO:Saving pre-processed 3D data at /home/user/Desktop/LiftPose3D/examples/fly_prism_package/out/stat_3d.pth.tar.\n",
      "[main.py:153]:INFO:Starting training model\n",
      "[main.py:162]:DEBUG:\n",
      "==================Options=================\n",
      "[main.py:163]:DEBUG:{   'batch_size': 64,\n",
      "    'data_dir': '/home/user/Desktop/LiftPose3D/examples/fly_prism_package/out',\n",
      "    'dropout': 0.5,\n",
      "    'epochs': 10,\n",
      "    'exp': '',\n",
      "    'is_train': True,\n",
      "    'job': 8,\n",
      "    'linear_size': 1024,\n",
      "    'load': None,\n",
      "    'lr': 0.001,\n",
      "    'lr_decay': 100000,\n",
      "    'lr_gamma': 0.96,\n",
      "    'max_norm': True,\n",
      "    'noise': None,\n",
      "    'num_stage': 2,\n",
      "    'out': '/home/user/Desktop/LiftPose3D/examples/fly_prism_package/out',\n",
      "    'out_dir': '/home/user/Desktop/LiftPose3D/examples/fly_prism_package/out',\n",
      "    'predict': False,\n",
      "    'procrustes': False,\n",
      "    'resume': False,\n",
      "    'test': False}\n",
      "[main.py:164]:DEBUG:==========================================\n",
      "\n",
      "[lift.py:54]:INFO:total params: 4.28M\n"
     ]
    },
    {
     "name": "stderr",
     "output_type": "stream",
     "text": [
      "Epoch 0 | Loss Test 0 | Loss Train 1.3742|: 100%|██████████| 161/161 [00:02<00:00, 65.90it/s]\n",
      "Epoch 1 | Loss Test 1.0048 | Loss Train 0.43296|: 100%|██████████| 161/161 [00:02<00:00, 69.39it/s]\n",
      "Epoch 2 | Loss Test 0.86666 | Loss Train 0.16147|: 100%|██████████| 161/161 [00:02<00:00, 67.28it/s]\n",
      "Epoch 3 | Loss Test 0.84782 | Loss Train 0.073561|: 100%|██████████| 161/161 [00:01<00:00, 83.99it/s] \n",
      "Epoch 4 | Loss Test 0.7107 | Loss Train 0.042193|: 100%|██████████| 161/161 [00:02<00:00, 70.03it/s]\n",
      "Epoch 5 | Loss Test 0.69891 | Loss Train 0.031459|: 100%|██████████| 161/161 [00:02<00:00, 70.75it/s]\n",
      "Epoch 6 | Loss Test 0.68493 | Loss Train 0.026583|: 100%|██████████| 161/161 [00:02<00:00, 69.36it/s]\n",
      "Epoch 7 | Loss Test 0.65824 | Loss Train 0.024627|: 100%|██████████| 161/161 [00:02<00:00, 65.88it/s]\n",
      "Epoch 8 | Loss Test 0.69231 | Loss Train 0.023674|: 100%|██████████| 161/161 [00:02<00:00, 63.15it/s]\n",
      "Epoch 9 | Loss Test 0.67967 | Loss Train 0.023089|: 100%|██████████| 161/161 [00:02<00:00, 77.04it/s]\n"
     ]
    }
   ],
   "source": [
    "from liftpose.main import train as lp3d_train\n",
    "lp3d_train(train_2d=train_2d, test_2d=test_2d, train_3d=train_3d, test_3d=test_3d, \n",
    "           train_keypts=train_keypts, test_keypts=test_keypts, \n",
    "           roots=par['roots'], target_sets=par['targets'], in_dim=2, \n",
    "           out_dim=par[\"out_dim\"], out_dir=par['out_dir'])"
   ]
  },
  {
   "cell_type": "code",
   "execution_count": 60,
   "metadata": {},
   "outputs": [
    {
     "name": "stdout",
     "output_type": "stream",
     "text": [
      "[pyplot.py:225]:DEBUG:Loaded backend module://ipykernel.pylab.backend_inline version unknown.\n"
     ]
    },
    {
     "data": {
      "image/png": "[encoded data removed]",
      "text/plain": [
       "<Figure size 432x288 with 1 Axes>"
      ]
     },
     "metadata": {
      "needs_background": "light"
     },
     "output_type": "display_data"
    }
   ],
   "source": [
    "%matplotlib inline\n",
    "from liftpose.plot import read_log_train, plot_log_train\n",
    "epoch, lr, loss_train, loss_test, err_test = read_log_train(par['out_dir'])\n",
    "plot_log_train(plt.gca(), loss_train, loss_test, epoch)"
   ]
  },
  {
   "cell_type": "markdown",
   "metadata": {},
   "source": [
    "# Run Trained LiftPose3D Network on the Test Data"
   ]
  },
  {
   "cell_type": "code",
   "execution_count": 49,
   "metadata": {},
   "outputs": [
    {
     "name": "stdout",
     "output_type": "stream",
     "text": [
      "[main.py:169]:INFO:starting testing in path: ./out/\n",
      "[lift.py:54]:INFO:total params: 4.28M\n",
      "[lift.py:60]:INFO:loading ckpt from './out//ckpt_best.pth.tar'\n",
      "[lift.py:68]:INFO:ckpt loaded (epoch: 7 | err: 2.0584967136383057)\n",
      "[lift.py:106]:INFO:Saving results: /home/user/Desktop/LiftPose3D/examples/fly_prism_package/out/test_results.pth.tar\n"
     ]
    }
   ],
   "source": [
    "from liftpose.main import test as lp3d_test\n",
    "lp3d_test(par['out_dir'])"
   ]
  },
  {
   "cell_type": "markdown",
   "metadata": {},
   "source": [
    "# Visualize Predictions"
   ]
  },
  {
   "cell_type": "code",
   "execution_count": 50,
   "metadata": {},
   "outputs": [],
   "source": [
    "from liftpose.postprocess import load_test_results\n",
    "test_3d, test_3d_pred = load_test_results(par['out_dir'])"
   ]
  },
  {
   "cell_type": "code",
   "execution_count": 55,
   "metadata": {},
   "outputs": [
    {
     "name": "stderr",
     "output_type": "stream",
     "text": [
      "/home/user/.local/lib/python3.7/site-packages/ipykernel_launcher.py:10: FutureWarning: arrays to stack must be passed as a \"sequence\" type such as list or tuple. Support for non-sequence iterables such as generators is deprecated as of NumPy 1.16 and will raise an error in the future.\n",
      "  # Remove the CWD from sys.path while we load stuff.\n",
      "/home/user/.local/lib/python3.7/site-packages/ipykernel_launcher.py:15: FutureWarning: arrays to stack must be passed as a \"sequence\" type such as list or tuple. Support for non-sequence iterables such as generators is deprecated as of NumPy 1.16 and will raise an error in the future.\n",
      "  from ipykernel import kernelapp as app\n"
     ]
    }
   ],
   "source": [
    "import numpy as np\n",
    "#from liftpose.utils import *\n",
    "from liftpose.preprocess import *\n",
    "legtips = [4, 9, 14, 19, 24, 29]\n",
    "data = torch.load(par[\"out_dir\"] + '/test_results.pth.tar')\n",
    "\n",
    "tar_mean = torch.load(par[\"out_dir\"] + '/stat_3d.pth.tar')['mean']\n",
    "tar_std = torch.load(par[\"out_dir\"] + '/stat_3d.pth.tar')['std']\n",
    "targets_1d = torch.load(par[\"out_dir\"] + '/stat_3d.pth.tar')['targets_3d']\n",
    "tar_offset = np.vstack(torch.load(par[\"out_dir\"] + '/stat_3d.pth.tar')['offset'].values())\n",
    "\n",
    "inp_mean = torch.load(par[\"out_dir\"] + '/stat_2d.pth.tar')['mean']\n",
    "inp_std = torch.load(par[\"out_dir\"] + '/stat_2d.pth.tar')['std']\n",
    "targets_2d = torch.load(par[\"out_dir\"] + '/stat_2d.pth.tar')['targets_2d']\n",
    "inp_offset = np.vstack(torch.load(par[\"out_dir\"] + '/stat_2d.pth.tar')['offset'].values())[0,:]\n",
    "\n",
    "\n",
    "# TODO can adam explain this?\n",
    "good_keypts = add_roots(data['good_keypts'],targets_1d,len(tar_mean))\n",
    "if np.sum(good_keypts[0,:15])>10:\n",
    "    tar_offset = np.hstack((tar_offset[0,:15],tar_offset[0,:15]))\n",
    "else:\n",
    "    tar_offset = np.hstack((tar_offset[0,15:],tar_offset[0,15:]))\n",
    "\n",
    "#unnormalize\n",
    "tar = unNormalize(data['target'], tar_mean[targets_1d], tar_std[targets_1d])\n",
    "tar = add_roots(tar,targets_1d,len(tar_mean))\n",
    "tar += tar_offset\n",
    "out = unNormalize(data['output'], tar_mean[targets_1d], tar_std[targets_1d])\n",
    "out = add_roots(out,targets_1d,len(tar_mean))\n",
    "out += tar_offset\n",
    "inp = unNormalize(data['input'], inp_mean[targets_2d], inp_std[targets_2d])\n",
    "inp = add_roots(inp,targets_2d,len(inp_mean))\n",
    "inp += inp_offset"
   ]
  },
  {
   "cell_type": "code",
   "execution_count": 87,
   "metadata": {},
   "outputs": [
    {
     "name": "stdout",
     "output_type": "stream",
     "text": [
      "[pyplot.py:225]:DEBUG:Loaded backend module://ipympl.backend_nbagg version unknown.\n"
     ]
    },
    {
     "data": {
      "application/vnd.jupyter.widget-view+json": {
       "model_id": "17b844ee406846ee8e41d5ae0aca848b",
       "version_major": 2,
       "version_minor": 0
      },
      "text/plain": [
       "Canvas(toolbar=Toolbar(toolitems=[('Home', 'Reset original view', 'home', 'home'), ('Back', 'Back to previous …"
      ]
     },
     "metadata": {},
     "output_type": "display_data"
    }
   ],
   "source": [
    "%matplotlib widget\n",
    "import matplotlib.pyplot as plt\n",
    "import numpy as np\n",
    "import networkx as nx\n",
    "from liftpose.plot import plot_pose_3d, plot_3d_graph\n",
    "\n",
    "fig = plt.figure(figsize=plt.figaspect(1), dpi=100)\n",
    "ax = fig.add_subplot(111, projection='3d')\n",
    "ax.view_init(elev=200, azim=60)\n",
    "\n",
    "t = 1000\n",
    "plt.cla()\n",
    "        \n",
    "thist = 5\n",
    "pos_pred, pos_tar = [], []\n",
    "for j in range(out.shape[1]):\n",
    "    tmin = max(0,t-thist+1)\n",
    "    pos_pred.append((inp[tmin:(t+1), 2*j], inp[tmin:(t+1), 2*j+1], -out[tmin:(t+1), j]))\n",
    "    pos_tar.append((inp[tmin:(t+1), 2*j], inp[tmin:(t+1), 2*j+1], -tar[tmin:(t+1), j]))\n",
    "\n",
    "pos_pred, pos_tar = np.array(pos_pred), np.array(pos_tar)\n",
    "\n",
    "import networkx\n",
    "G = nx.Graph()\n",
    "G.add_edges_from(par[\"vis\"][\"bones\"])\n",
    "G.add_nodes_from(np.arange(par[\"ndims\"]))\n",
    "\n",
    "limb_id = [i for i in range(6) for j in range(5)]\n",
    "edge_colors = [[x / 255.0 for x in par[\"vis\"][\"colors\"][i]] for i in limb_id]\n",
    "\n",
    "plot_3d_graph(G, pos_tar[:,:,-1], ax, color_edge=edge_colors, good_keypts=good_keypts[t,:])    \n",
    "plot_3d_graph(G, pos_pred[:,:,-1], ax, color_edge=edge_colors, style='--') "
   ]
  }
 ],
 "metadata": {
  "kernelspec": {
   "display_name": "Python 3",
   "language": "python",
   "name": "python3"
  },
  "language_info": {
   "codemirror_mode": {
    "name": "ipython",
    "version": 3
   },
   "file_extension": ".py",
   "mimetype": "text/x-python",
   "name": "python",
   "nbconvert_exporter": "python",
   "pygments_lexer": "ipython3",
   "version": "3.7.7"
  }
 },
 "nbformat": 4,
 "nbformat_minor": 4
}
