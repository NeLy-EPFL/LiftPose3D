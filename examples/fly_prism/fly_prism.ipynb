{
 "cells": [
  {
   "cell_type": "markdown",
   "metadata": {},
   "source": [
    "# Load Data"
   ]
  },
  {
   "cell_type": "code",
   "execution_count": 1,
   "metadata": {},
   "outputs": [],
   "source": [
    "%load_ext autoreload\n",
    "%autoreload 2\n",
    "from load import load_3D\n",
    "from liftpose.vision_3d import XY_coord, Z_coord\n",
    "import yaml\n",
    "import logging\n",
    "from imp import reload\n",
    "import torch\n",
    "import numpy as np\n",
    "import matplotlib.pyplot as plt\n",
    "reload(logging)\n",
    "logger = logging.getLogger(__name__).setLevel(logging.INFO)\n",
    "\n",
    "# decleare data parameters\n",
    "par_train = {'data_dir' : \"/data/LiftPose3D/fly_prism/data_oriented/training_data\", # change the path \n",
    "       'out_dir'        : './out',\n",
    "       \"train_subjects\": [\"001\", \"002\", \"003\"],\n",
    "       'test_subjects'  : [\"004\"],\n",
    "       'actions'        : ['PR']}\n",
    "\n",
    "# merge with training parameters\n",
    "par_data = yaml.full_load(open('param.yaml', \"rb\"))\n",
    "par = {**par_data[\"data\"], **par_train}\n",
    "\n",
    "# load data\n",
    "train, train_keypts, _ = load_3D(par[\"data_dir\"], subjects=par['train_subjects'], actions=par['actions'])\n",
    "test,  test_keypts, _ = load_3D( par[\"data_dir\"], subjects=par['test_subjects'],  actions=par['actions'])\n",
    "#project data to ventral view\n",
    "train_2d, train_3d = XY_coord(train), Z_coord(train)\n",
    "test_2d, test_3d  = XY_coord(test), Z_coord(test)"
   ]
  },
  {
   "cell_type": "markdown",
   "metadata": {},
   "source": [
    "# Train LiftPose3D Network on DeepFly3D Data"
   ]
  },
  {
   "cell_type": "code",
   "execution_count": 2,
   "metadata": {},
   "outputs": [
    {
     "name": "stdout",
     "output_type": "stream",
     "text": [
      "[main.py:163]:INFO:Saving pre-processed 2D data at /home/user/Desktop/LiftPose3D/examples/fly_prism/out/stat_2d.pth.tar.\n",
      "[main.py:185]:INFO:Saving pre-processed 3D data at /home/user/Desktop/LiftPose3D/examples/fly_prism/outstat_3d.pth.tar.\n",
      "[main.py:212]:INFO:Starting training model\n",
      "[main.py:221]:DEBUG:\n",
      "==================Options=================\n",
      "[main.py:222]:DEBUG:{   'batch_size': 64,\n",
      "    'data_dir': '/home/user/Desktop/LiftPose3D/examples/fly_prism/out',\n",
      "    'dropout': 0.5,\n",
      "    'epochs': 10,\n",
      "    'exp': '',\n",
      "    'is_train': True,\n",
      "    'job': 8,\n",
      "    'linear_size': 1024,\n",
      "    'load': None,\n",
      "    'lr': 0.001,\n",
      "    'lr_decay': 100000,\n",
      "    'lr_gamma': 0.96,\n",
      "    'max_norm': True,\n",
      "    'noise': None,\n",
      "    'num_stage': 2,\n",
      "    'out': '/home/user/Desktop/LiftPose3D/examples/fly_prism/out',\n",
      "    'out_dir': '/home/user/Desktop/LiftPose3D/examples/fly_prism/out',\n",
      "    'predict': False,\n",
      "    'procrustes': False,\n",
      "    'resume': False,\n",
      "    'test': False}\n",
      "[main.py:223]:DEBUG:==========================================\n",
      "\n",
      "[lift.py:30]:INFO:Training on the device: cuda:0\n",
      "[lift.py:58]:INFO:total params: 4.28M\n"
     ]
    },
    {
     "name": "stderr",
     "output_type": "stream",
     "text": [
      "Epoch 0 | Loss Test 0 | Loss Train 1.3791|: 100%|██████████| 161/161 [00:02<00:00, 58.59it/s]\n",
      "Epoch 1 | Loss Test 1.0879 | Loss Train 0.43789|: 100%|██████████| 161/161 [00:02<00:00, 63.52it/s]\n",
      "Epoch 2 | Loss Test 0.75701 | Loss Train 0.16229|: 100%|██████████| 161/161 [00:02<00:00, 64.13it/s]\n",
      "Epoch 3 | Loss Test 0.74522 | Loss Train 0.077791|: 100%|██████████| 161/161 [00:02<00:00, 66.80it/s]\n",
      "Epoch 4 | Loss Test 0.73605 | Loss Train 0.045153|: 100%|██████████| 161/161 [00:02<00:00, 69.45it/s]\n",
      "Epoch 5 | Loss Test 0.71769 | Loss Train 0.031744|: 100%|██████████| 161/161 [00:02<00:00, 63.16it/s]\n",
      "Epoch 6 | Loss Test 0.67232 | Loss Train 0.027515|: 100%|██████████| 161/161 [00:02<00:00, 63.33it/s]\n",
      "Epoch 7 | Loss Test 0.65041 | Loss Train 0.025666|: 100%|██████████| 161/161 [00:02<00:00, 69.62it/s]\n",
      "Epoch 8 | Loss Test 0.65593 | Loss Train 0.024883|: 100%|██████████| 161/161 [00:02<00:00, 60.19it/s]\n",
      "Epoch 9 | Loss Test 0.69085 | Loss Train 0.023106|: 100%|██████████| 161/161 [00:02<00:00, 71.18it/s]\n"
     ]
    }
   ],
   "source": [
    "from liftpose.main import train as lp3d_train\n",
    "lp3d_train(train_2d=train_2d, test_2d=test_2d, train_3d=train_3d, test_3d=test_3d, \n",
    "           train_keypts=train_keypts, test_keypts=test_keypts, \n",
    "           **{k:par[k] for k in ['roots', 'target_sets', 'out_dir']})"
   ]
  },
  {
   "cell_type": "code",
   "execution_count": 3,
   "metadata": {},
   "outputs": [
    {
     "data": {
      "image/png": "[encoded data removed]",
      "text/plain": [
       "<Figure size 432x288 with 1 Axes>"
      ]
     },
     "metadata": {
      "needs_background": "light"
     },
     "output_type": "display_data"
    }
   ],
   "source": [
    "%matplotlib inline\n",
    "from liftpose.plot import read_log_train, plot_log_train\n",
    "epoch, lr, loss_train, loss_test, err_test = read_log_train(par['out_dir'])\n",
    "plot_log_train(plt.gca(), loss_train, loss_test, epoch)"
   ]
  },
  {
   "cell_type": "markdown",
   "metadata": {},
   "source": [
    "# Run Trained LiftPose3D Network on the Test Data"
   ]
  },
  {
   "cell_type": "code",
   "execution_count": 4,
   "metadata": {},
   "outputs": [
    {
     "name": "stdout",
     "output_type": "stream",
     "text": [
      "[main.py:245]:INFO:starting testing in path: ./out\n",
      "[lift.py:30]:INFO:Training on the device: cuda:0\n",
      "[lift.py:58]:INFO:total params: 4.28M\n",
      "[lift.py:64]:INFO:loading ckpt from './out/ckpt_best.pth.tar'\n",
      "[lift.py:72]:INFO:ckpt loaded (epoch: 7 | err: 0.9671621892648012)\n",
      "[lift.py:110]:INFO:Saving results: /home/user/Desktop/LiftPose3D/examples/fly_prism/out/test_results.pth.tar\n"
     ]
    }
   ],
   "source": [
    "from liftpose.main import test as lp3d_test\n",
    "lp3d_test(par['out_dir'])"
   ]
  },
  {
   "cell_type": "markdown",
   "metadata": {},
   "source": [
    "# Visualize Predictions"
   ]
  },
  {
   "cell_type": "code",
   "execution_count": 6,
   "metadata": {},
   "outputs": [],
   "source": [
    "from liftpose.postprocess import load_test_results\n",
    "data = torch.load(par['out_dir'] + \"/test_results.pth.tar\")\n",
    "stat_2d, stat_3d = (\n",
    "    torch.load(par['out_dir'] + \"/stat_2d.pth.tar\"),\n",
    "    torch.load(par['out_dir'] + \"/stat_3d.pth.tar\"),\n",
    ")\n",
    "test_3d_gt, test_3d_pred = load_test_results(data, stat_2d, stat_3d)"
   ]
  },
  {
   "cell_type": "code",
   "execution_count": 20,
   "metadata": {},
   "outputs": [
    {
     "data": {
      "application/vnd.jupyter.widget-view+json": {
       "model_id": "1842aa140644493d9df47d0057ef1c8f",
       "version_major": 2,
       "version_minor": 0
      },
      "text/plain": [
       "Canvas(toolbar=Toolbar(toolitems=[('Home', 'Reset original view', 'home', 'home'), ('Back', 'Back to previous …"
      ]
     },
     "metadata": {},
     "output_type": "display_data"
    }
   ],
   "source": [
    "# https://stackoverflow.com/a/38865534/7554774\n",
    "# conda install ipympl\n",
    "%matplotlib widget\n",
    "from liftpose.preprocess import add_roots\n",
    "#%matplotlib inline\n",
    "from liftpose.plot import plot_pose_3d\n",
    "\n",
    "fig = plt.figure(figsize=plt.figaspect(1), dpi=100)\n",
    "ax = fig.add_subplot(111, projection='3d')\n",
    "#ax.view_init(elev=200, azim=60)\n",
    "\n",
    "t = 1000\n",
    "plot_pose_3d(ax, test_3d_gt[t],\n",
    "            test_3d_pred[t], \n",
    "            par_data[\"vis\"][\"bones\"], \n",
    "            par_data[\"vis\"][\"limb_id\"], \n",
    "            par_data[\"vis\"][\"colors\"],\n",
    "            good_keypts=add_roots(data['good_keypts'], stat_3d[\"targets_3d\"], len(stat_3d[\"mean\"]))[t])"
   ]
  },
  {
   "cell_type": "code",
   "execution_count": null,
   "metadata": {},
   "outputs": [],
   "source": []
  }
 ],
 "metadata": {
  "kernelspec": {
   "display_name": "Python 3",
   "language": "python",
   "name": "python3"
  },
  "language_info": {
   "codemirror_mode": {
    "name": "ipython",
    "version": 3
   },
   "file_extension": ".py",
   "mimetype": "text/x-python",
   "name": "python",
   "nbconvert_exporter": "python",
   "pygments_lexer": "ipython3",
   "version": "3.7.7"
  }
 },
 "nbformat": 4,
 "nbformat_minor": 4
}
