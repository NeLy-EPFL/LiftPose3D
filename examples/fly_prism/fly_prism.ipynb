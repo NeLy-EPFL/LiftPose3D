{
 "cells": [
  {
   "cell_type": "code",
   "execution_count": 15,
   "metadata": {},
   "outputs": [
    {
     "name": "stdout",
     "output_type": "stream",
     "text": [
      "The autoreload extension is already loaded. To reload it, use:\n",
      "  %reload_ext autoreload\n"
     ]
    }
   ],
   "source": [
    "%load_ext autoreload\n",
    "%autoreload 2\n",
    "from load import load_3D\n",
    "from liftpose.vision_3d import XY_coord_dict, Z_coord_dict\n",
    "import yaml\n",
    "import logging\n",
    "from imp import reload\n",
    "import torch\n",
    "import numpy as np\n",
    "import matplotlib.pyplot as plt\n",
    "import os \n",
    "import glob\n",
    "reload(logging)\n",
    "logger = logging.getLogger(__name__).setLevel(logging.INFO)"
   ]
  },
  {
   "cell_type": "markdown",
   "metadata": {},
   "source": [
    "# Load Data"
   ]
  },
  {
   "cell_type": "code",
   "execution_count": 16,
   "metadata": {},
   "outputs": [],
   "source": [
    "# declare data parameters\n",
    "par_train = {'data_dir'       : \"/data/LiftPose3D/fly_prism/data_oriented/training_data\", # change the path \n",
    "             'out_dir'        : '/data/LiftPose3D/fly_prism/data_oriented/training_data',\n",
    "             \"train_subjects\" : [\"001\", \"002\", \"004\"],\n",
    "             'test_subjects'  : [\"003\"],\n",
    "             'actions'        : ['PR']}\n",
    "\n",
    "# merge with training parameters\n",
    "par_data = yaml.full_load(open('param.yaml', \"rb\"))\n",
    "par = {**par_data[\"data\"], **par_train}\n",
    "\n",
    "# load data\n",
    "train, train_keypts, _ = load_3D(par[\"data_dir\"], subjects=par['train_subjects'], actions=par['actions'])\n",
    "test,  test_keypts, _ = load_3D( par[\"data_dir\"], subjects=par['test_subjects'],  actions=par['actions'])\n",
    "\n",
    "#project data to ventral view\n",
    "train_2d, train_3d = XY_coord_dict(train), Z_coord_dict(train)\n",
    "test_2d, test_3d  = XY_coord_dict(test), Z_coord_dict(test)\n",
    "train_keypts = Z_coord_dict(train_keypts)\n",
    "test_keypts = Z_coord_dict(test_keypts)"
   ]
  },
  {
   "cell_type": "code",
   "execution_count": 22,
   "metadata": {},
   "outputs": [
    {
     "data": {
      "text/plain": [
       "3416"
      ]
     },
     "execution_count": 22,
     "metadata": {},
     "output_type": "execute_result"
    }
   ],
   "source": [
    "count = 0\n",
    "for i in range(2):\n",
    "    count +=list(test_3d.values())[i].shape[0]\n",
    "    \n",
    "count"
   ]
  },
  {
   "cell_type": "markdown",
   "metadata": {},
   "source": [
    "# Train"
   ]
  },
  {
   "cell_type": "code",
   "execution_count": null,
   "metadata": {
    "jupyter": {
     "outputs_hidden": true
    }
   },
   "outputs": [],
   "source": [
    "from liftpose.main import train as lp3d_train\n",
    "lp3d_train(train_2d=train_2d, test_2d=test_2d,\n",
    "           train_3d=train_3d, test_3d=test_3d, \n",
    "           train_keypts=train_keypts, test_keypts=test_keypts,\n",
    "           roots=par['roots'],\n",
    "           target_sets=par['target_sets'],\n",
    "           out_dir=par['out_dir'],\n",
    "           training_kwargs={\"epochs\":20,\n",
    "                            \"dropout\":0.0})"
   ]
  },
  {
   "cell_type": "code",
   "execution_count": null,
   "metadata": {},
   "outputs": [],
   "source": [
    "%matplotlib inline\n",
    "from liftpose.plot import read_log_train, plot_log_train\n",
    "epoch, lr, loss_train, loss_test, err_test = read_log_train(par['out_dir'])\n",
    "plot_log_train(plt.gca(), loss_train, loss_test, epoch)"
   ]
  },
  {
   "cell_type": "markdown",
   "metadata": {},
   "source": [
    "# Run Trained LiftPose3D Network on the Test Data"
   ]
  },
  {
   "cell_type": "code",
   "execution_count": null,
   "metadata": {},
   "outputs": [],
   "source": [
    "from liftpose.main import test as lp3d_test\n",
    "lp3d_test(par['out_dir'])"
   ]
  },
  {
   "cell_type": "markdown",
   "metadata": {},
   "source": [
    "# Visualize Predictions"
   ]
  },
  {
   "cell_type": "code",
   "execution_count": null,
   "metadata": {},
   "outputs": [],
   "source": [
    "from liftpose.postprocess import load_test_results\n",
    "data = torch.load(par['out_dir'] + \"/test_results.pth.tar\")\n",
    "stat_2d, stat_3d = (\n",
    "    torch.load(par['out_dir'] + \"/stat_2d.pth.tar\"),\n",
    "    torch.load(par['out_dir'] + \"/stat_3d.pth.tar\"),\n",
    ")\n",
    "test_3d_gt, test_3d_pred, good_keypts = load_test_results(data, stat_2d, stat_3d, prism=True)\n",
    "test_3d_gt *= 2.5/400\n",
    "test_3d_pred *= 2.5/400"
   ]
  },
  {
   "cell_type": "code",
   "execution_count": null,
   "metadata": {},
   "outputs": [],
   "source": [
    "# https://stackoverflow.com/a/38865534/7554774\n",
    "# conda install ipympl\n",
    "#%matplotlib widget\n",
    "%matplotlib inline\n",
    "from liftpose.preprocess import add_roots\n",
    "from liftpose.plot import plot_pose_3d\n",
    "\n",
    "fig = plt.figure(figsize=plt.figaspect(1), dpi=100)\n",
    "ax = fig.add_subplot(111, projection='3d')\n",
    "ax.view_init(elev=-30, azim=0)\n",
    "ax.set_xticklabels([])\n",
    "ax.set_yticklabels([])\n",
    "ax.set_zticklabels([])\n",
    "\n",
    "t = 100\n",
    "plot_pose_3d(ax, tar=test_3d_gt[t],\n",
    "            pred=test_3d_pred[t],\n",
    "            bones=par_data[\"vis\"][\"bones\"], \n",
    "            limb_id=par_data[\"vis\"][\"limb_id\"], \n",
    "            colors=par_data[\"vis\"][\"colors\"],\n",
    "            good_keypts=good_keypts[t],\n",
    "            show_gt_always=True,\n",
    "            legend=True)"
   ]
  },
  {
   "cell_type": "code",
   "execution_count": null,
   "metadata": {},
   "outputs": [],
   "source": [
    "%matplotlib inline\n",
    "import random, string\n",
    "from liftpose.plot import violin_plot\n",
    "# check violin plot \n",
    "# does it coincide with the mean values?\n",
    "\n",
    "plt.figure(figsize=(10,5), dpi=100)\n",
    "names = [str(i) for i in range(30)]\n",
    "ax = plt.gca()\n",
    "violin_plot(ax, test_3d_gt=test_3d_gt, test_3d_pred=test_3d_pred, test_keypoints=good_keypts,\n",
    "                joints_name=names, order=names)"
   ]
  },
  {
   "cell_type": "code",
   "execution_count": null,
   "metadata": {},
   "outputs": [],
   "source": [
    "import seaborn as sns\n",
    "import pandas as pd\n",
    "import os\n",
    "import torch\n",
    "import numpy as np\n",
    "import matplotlib.pyplot as plt\n",
    "\n",
    "#root_dir = '/data/fly_prism'\n",
    "scale = 2.5/400\n",
    "all_err = torch.load('./test_results.pth.tar')['all_err']\n",
    "all_err*=scale\n",
    "ttl_err = pd.DataFrame(all_err.reshape(-1,4)).dropna()\n",
    "ttl_err.columns.names = ['frame']\n",
    "ttl_err = ttl_err.rename(columns={0:'coxa-femur',1:'femur-tibia',2:'tibia-tarsus',3:'tarsus-tip'})\n",
    "ttl_err['total'] = ttl_err.mean(1)"
   ]
  },
  {
   "cell_type": "code",
   "execution_count": null,
   "metadata": {},
   "outputs": [],
   "source": [
    "all_err.shape"
   ]
  },
  {
   "cell_type": "code",
   "execution_count": null,
   "metadata": {},
   "outputs": [],
   "source": [
    "ttl_err1 = ttl_err.unstack().reset_index()\n",
    "ttl_err1 = ttl_err1.rename(columns={0:'Absolute error'})\n",
    "q = ttl_err1.quantile(q=0.99)\n",
    "ttl_err1 = ttl_err1.loc[ttl_err1['Absolute error'] < q['Absolute error']]\n",
    "sns.violinplot(x=\"frame\", y='Absolute error', data=ttl_err1,bw=0.4, width=0.4)\n",
    "plt.ylim([0,0.04])\n",
    "#plt.savefig('/results/Figure_2E.png')"
   ]
  },
  {
   "cell_type": "code",
   "execution_count": null,
   "metadata": {},
   "outputs": [],
   "source": [
    "import seaborn as sns\n",
    "import pandas as pd\n",
    "import os\n",
    "import torch\n",
    "import numpy as np\n",
    "import matplotlib.pyplot as plt\n",
    "\n",
    "#root_dir = '/data/fly_prism'\n",
    "scale = 2.5/400\n",
    "all_err = torch.load('./out/test_results.pth.tar')['all_err']\n",
    "all_err*=scale\n",
    "ttl_err = pd.DataFrame(all_err.reshape(-1,4)).dropna()\n",
    "ttl_err.columns.names = ['frame']\n",
    "ttl_err = ttl_err.rename(columns={0:'coxa-femur',1:'femur-tibia',2:'tibia-tarsus',3:'tarsus-tip'})\n",
    "ttl_err['total'] = ttl_err.mean(1)\n",
    "\n",
    "plt.style.use('dark_background')\n",
    "ttl_err1 = ttl_err.unstack().reset_index()\n",
    "ttl_err1 = ttl_err1.rename(columns={0:'Absolute error'})\n",
    "q = ttl_err1.quantile(q=0.99)\n",
    "ttl_err1 = ttl_err1.loc[ttl_err1['Absolute error'] < q['Absolute error']]\n",
    "sns.violinplot(x=\"frame\", y='Absolute error', data=ttl_err1,bw=0.4, width=0.4)\n",
    "plt.ylim([0,0.04])\n",
    "#plt.savefig('/results/Figure_2E.png')\n",
    "print(all_err.shape)"
   ]
  },
  {
   "cell_type": "code",
   "execution_count": null,
   "metadata": {},
   "outputs": [],
   "source": [
    "# reproduce from code-ocean\n",
    "import stats\n",
    "def abs_error(abs_error,n_pts):\n",
    "    error = np.zeros((abs_error.shape[0], n_pts))\n",
    "    for k in range(n_pts):\n",
    "        error[:, k] = np.mean(abs_error[:, 3*k:3*(k + 1)], axis=1)\n",
    "        \n",
    "    return error\n",
    "\n",
    "import stats\n",
    "lift = torch.load('test_results.pth.tar')\n",
    "stat = torch.load('stat_3d.pth.tar')\n",
    "\n",
    "#lifting error\n",
    "dimensions = stat['targets_1d']\n",
    "lift_tar = stats.unNormalize(lift['target'], stat['mean'][dimensions], stat['std'][dimensions])\n",
    "lift_out = stats.unNormalize(lift['output'], stat['mean'][dimensions], stat['std'][dimensions])\n",
    "\n",
    "#absdiff = np.abs(lift_tar - lift_out)\n",
    "#n_pts = len(dimensions)//3\n",
    "#lift_error = abs_error(absdiff,n_pts)\n",
    "\n",
    "#lift_tar = lift_tar.reshape(lift_tar.shape[0], -1, 3)\n",
    "#lift_out = lift_out.reshape(lift_out.shape[0], -1, 3)\n",
    "\n",
    "lift_tar = repeat(lift_tar, 'b j -> b j c', c=3) *2.5/400\n",
    "lift_out = repeat(lift_out, 'b j -> b j c', c=3) *2.5/400\n",
    "lift_tar[:, :, [0,1]] = 0\n",
    "lift_out[:, :, [0,1]] = 0"
   ]
  },
  {
   "cell_type": "code",
   "execution_count": null,
   "metadata": {},
   "outputs": [],
   "source": [
    "lift['target'].shape"
   ]
  },
  {
   "cell_type": "code",
   "execution_count": null,
   "metadata": {},
   "outputs": [],
   "source": [
    "from einops import rearrange, reduce, repeat\n",
    "from liftpose.plot import violin_plot\n",
    "plt.figure(figsize=(20,5), dpi=100)\n",
    "names = [str(i) for i in range(24)]\n",
    "ax = plt.gca()\n",
    "violin_plot(ax, test_3d_gt=lift_tar, test_3d_pred=lift_out,\n",
    "                test_keypoints=np.ones_like(lift_tar),\n",
    "                joints_name=names, order=names)\n",
    "plt.ylim([0, 0.04])"
   ]
  },
  {
   "cell_type": "code",
   "execution_count": null,
   "metadata": {},
   "outputs": [],
   "source": []
  }
 ],
 "metadata": {
  "kernelspec": {
   "display_name": "Python 3",
   "language": "python",
   "name": "python3"
  },
  "language_info": {
   "codemirror_mode": {
    "name": "ipython",
    "version": 3
   },
   "file_extension": ".py",
   "mimetype": "text/x-python",
   "name": "python",
   "nbconvert_exporter": "python",
   "pygments_lexer": "ipython3",
   "version": "3.8.6"
  }
 },
 "nbformat": 4,
 "nbformat_minor": 4
}
