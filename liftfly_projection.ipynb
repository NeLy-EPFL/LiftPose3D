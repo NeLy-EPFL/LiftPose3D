{
 "cells": [
  {
   "cell_type": "code",
   "execution_count": 13,
   "metadata": {},
   "outputs": [
    {
     "data": {
      "text/plain": [
       "dict_keys([0, 1, 2, 3, 4, 5, 6, 'meta', 'points2d', 'points3d'])"
      ]
     },
     "execution_count": 13,
     "metadata": {},
     "output_type": "execute_result"
    }
   ],
   "source": [
    "import pickle\n",
    "import numpy as np\n",
    "d = pickle.load(open('/data/DF3D/pose_result__data_paper_180918_MDN_CsCh_Fly1_001_SG1_behData_images.pkl', 'rb'), encoding='latin')\n",
    "d.keys()"
   ]
  },
  {
   "cell_type": "code",
   "execution_count": 14,
   "metadata": {},
   "outputs": [],
   "source": [
    "cam_id = 2\n",
    "R =  d[cam_id]['R']\n",
    "tvec = d[cam_id]['tvec']\n",
    "intr = d[cam_id]['intr']\n",
    "points3d = d['points3d']\n",
    "points2d = d['points2d'][cam_id]"
   ]
  },
  {
   "cell_type": "code",
   "execution_count": 15,
   "metadata": {},
   "outputs": [
    {
     "data": {
      "text/plain": [
       "((899, 38, 3), (899, 38, 2), array([[1.60410e+04, 0.00000e+00, 2.40000e+02],\n",
       "        [0.00000e+00, 1.59717e+04, 4.80000e+02],\n",
       "        [0.00000e+00, 0.00000e+00, 1.00000e+00]]))"
      ]
     },
     "execution_count": 15,
     "metadata": {},
     "output_type": "execute_result"
    }
   ],
   "source": [
    "points3d.shape, points2d.shape, intr"
   ]
  },
  {
   "cell_type": "code",
   "execution_count": 8,
   "metadata": {},
   "outputs": [
    {
     "data": {
      "text/plain": [
       "(array([[ 2.95891326e-01, -1.69940554e-02, -9.55070430e-01],\n",
       "        [ 4.61626700e-03,  9.99855497e-01, -1.63607686e-02],\n",
       "        [ 9.55210455e-01,  4.32149419e-04,  2.95927018e-01]]),\n",
       " array([1.89636405e-01, 4.06063127e-04, 9.25055730e+01]))"
      ]
     },
     "execution_count": 8,
     "metadata": {},
     "output_type": "execute_result"
    }
   ],
   "source": [
    "R, tvec"
   ]
  },
  {
   "cell_type": "markdown",
   "metadata": {},
   "source": [
    "# take single 3d point *p3* and calculaete 2d projection p2 = M*(R*p3+t)"
   ]
  },
  {
   "cell_type": "code",
   "execution_count": 16,
   "metadata": {},
   "outputs": [],
   "source": [
    "p = points3d[0,0] # take a single x,y,z example \n",
    "p_r = np.dot(R,p) + tvec\n",
    "proj = np.dot(intr, p_r)\n",
    "proj = proj / proj[-1]\n",
    "proj = proj[:2]"
   ]
  },
  {
   "cell_type": "code",
   "execution_count": 10,
   "metadata": {},
   "outputs": [
    {
     "name": "stdout",
     "output_type": "stream",
     "text": [
      "proj [520.41789972 165.46772543]\n",
      "points2d [517.5 172.5]\n"
     ]
    }
   ],
   "source": [
    "print('proj', proj)\n",
    "print('points2d', points2d[0,0])"
   ]
  },
  {
   "cell_type": "markdown",
   "metadata": {},
   "source": [
    "# do projection in batch, much faster"
   ]
  },
  {
   "cell_type": "code",
   "execution_count": 11,
   "metadata": {},
   "outputs": [
    {
     "name": "stdout",
     "output_type": "stream",
     "text": [
      "(899, 38, 3)\n"
     ]
    }
   ],
   "source": [
    "points3d_new_cs =  np.squeeze(np.matmul(R, points3d[:,:,:,np.newaxis])) + tvec[np.newaxis, np.newaxis]\n",
    "proj = np.squeeze(np.matmul(intr, points3d_new_cs[:,:,:,np.newaxis]))\n",
    "\n",
    "print(proj.shape)\n",
    "proj = proj / proj[:, :, [2]]\n",
    "proj = proj[:,:, :2]"
   ]
  },
  {
   "cell_type": "code",
   "execution_count": 12,
   "metadata": {},
   "outputs": [
    {
     "data": {
      "text/plain": [
       "2.8294925350443108"
      ]
     },
     "execution_count": 12,
     "metadata": {},
     "output_type": "execute_result"
    }
   ],
   "source": [
    "np.mean(np.abs(points2d[:,:19] - proj[:,:19]))"
   ]
  },
  {
   "cell_type": "code",
   "execution_count": null,
   "metadata": {},
   "outputs": [],
   "source": []
  }
 ],
 "metadata": {
  "kernelspec": {
   "display_name": "Python 3",
   "language": "python",
   "name": "python3"
  },
  "language_info": {
   "codemirror_mode": {
    "name": "ipython",
    "version": 3
   },
   "file_extension": ".py",
   "mimetype": "text/x-python",
   "name": "python",
   "nbconvert_exporter": "python",
   "pygments_lexer": "ipython3",
   "version": "3.7.6"
  }
 },
 "nbformat": 4,
 "nbformat_minor": 4
}
