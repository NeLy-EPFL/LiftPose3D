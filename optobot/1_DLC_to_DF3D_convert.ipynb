{
 "cells": [
  {
   "cell_type": "code",
   "execution_count": 1,
   "metadata": {},
   "outputs": [],
   "source": [
    "import numpy as np\n",
    "import pandas as pd\n",
    "import matplotlib.pyplot as plt\n",
    "from scipy import ndimage\n",
    "import glob\n",
    "from tqdm import tqdm\n",
    "import pickle\n",
    "import cv2\n",
    "from skeleton import skeleton\n",
    "G, color_edge = skeleton()"
   ]
  },
  {
   "cell_type": "code",
   "execution_count": 2,
   "metadata": {},
   "outputs": [],
   "source": [
    "home_dir = '/data/LiftFly3D/optobot/'\n",
    "\n",
    "experiments = ['fly1_pre_stimulationDeepCut_resnet50_dlcTrackingAug6shuffle1_1030000.h5']\n",
    "joints = ['RFbodyCoxa', 'RFfemurTibia', 'RFtibiaTarsus', 'RFclaw',\n",
    "          'RMbodyCoxa', 'RMfemurTibia', 'RMtibiaTarsus', 'RMclaw',\n",
    "          'RHbodyCoxa', 'RHfemurTibia', 'RHtibiaTarsus', 'RHclaw',\n",
    "          'LFbodyCoxa', 'LFfemurTibia', 'LFtibiaTarsus', 'LFclaw', \n",
    "          'LMbodyCoxa', 'LMfemurTibia', 'LMtibiaTarsus', 'LMclaw',\n",
    "          'LHbodyCoxa', 'LHfemurTibia', 'LHtibiaTarsus', 'LHclaw']\n",
    "ids = [0, 2, 3, 4, 5, 7, 8, 9, 10, 12, 13, 14, 15, 17, 18, 19, 20, 22, 23, 24, 25, 27, 28, 29]"
   ]
  },
  {
   "cell_type": "markdown",
   "metadata": {},
   "source": [
    "Filter for high quality frames"
   ]
  },
  {
   "cell_type": "code",
   "execution_count": 9,
   "metadata": {},
   "outputs": [
    {
     "name": "stderr",
     "output_type": "stream",
     "text": [
      "100%|██████████| 1/1 [00:00<00:00, 117.82it/s]\n"
     ]
    }
   ],
   "source": [
    "for i in tqdm(range(len(experiments))):\n",
    "    data = pd.read_hdf(home_dir + experiments[i]) #load data\n",
    "    data = data.droplevel('scorer',axis=1) #drop scorer column label\n",
    "\n",
    "    #convert & save to DF3D format\n",
    "    data_np = data.loc[:,(joints,['x','y'])].to_numpy()\n",
    "    \n",
    "    #rotate flies pointing right\n",
    "    theta = np.radians(90)\n",
    "    cos, sin = np.cos(theta), np.sin(theta)\n",
    "    R = np.array(((cos, -sin), (sin, cos)))\n",
    "    \n",
    "    data_np = data_np.reshape(-1,2)\n",
    "    data_np = np.matmul(data_np - 80,R) + 80\n",
    "    data_np = data_np.reshape(-1,2*len(joints))\n",
    "    data_np = np.stack((data_np[:,::2], data_np[:,1::2]), axis=2)\n",
    "    \n",
    "    poses = {'points2d': data_np}\n",
    "    \n",
    "    #import sys\n",
    "    #sys.exit()\n",
    "    \n",
    "    #save\n",
    "    pickle.dump(poses,open(home_dir + experiments[i][:-3] + '.pkl', 'wb'))"
   ]
  },
  {
   "cell_type": "code",
   "execution_count": 4,
   "metadata": {},
   "outputs": [
    {
     "data": {
      "text/plain": [
       "(80, 24, 2)"
      ]
     },
     "execution_count": 4,
     "metadata": {},
     "output_type": "execute_result"
    }
   ],
   "source": [
    "data_np.shape"
   ]
  },
  {
   "cell_type": "code",
   "execution_count": 5,
   "metadata": {},
   "outputs": [],
   "source": [
    "def video_to_imgs(vid_path):\n",
    "    '''Convert video to a list of images'''\n",
    "    \n",
    "    cap = cv2.VideoCapture(vid_path)         \n",
    "    imgs = []            \n",
    "    while True:\n",
    "        flag, frame = cap.read()\n",
    "        if flag:                            \n",
    "            imgs.append(frame)       \n",
    "        else:\n",
    "            break        \n",
    "    \n",
    "    return imgs\n",
    "\n",
    "\n",
    "def plot_skeleton(x, y, ids, color_edge, ax=None):\n",
    "           \n",
    "    coords_x, coords_y = np.zeros(len(G.nodes)), np.zeros(len(G.nodes))\n",
    "    coords_x[ids] = x\n",
    "    coords_y[ids] = y\n",
    "    \n",
    "    for i, j in enumerate(G.edges()): \n",
    "        if j[0] in ids and j[1] in ids:\n",
    "            u = np.array((coords_x[j[0]], coords_x[j[1]]))\n",
    "            v = np.array((coords_y[j[0]], coords_y[j[1]]))\n",
    "            if ax is not None:\n",
    "                ax.plot(u, v, c=color_edge[j[0]], alpha=1.0, linewidth = 2)\n",
    "            else:\n",
    "                plt.plot(u, v, c=color_edge[j[0]], alpha=1.0, linewidth = 2)"
   ]
  },
  {
   "cell_type": "code",
   "execution_count": 6,
   "metadata": {},
   "outputs": [
    {
     "data": {
      "image/png": "[encoded data removed]",
      "text/plain": [
       "<Figure size 432x288 with 1 Axes>"
      ]
     },
     "metadata": {
      "needs_background": "light"
     },
     "output_type": "display_data"
    }
   ],
   "source": [
    "imgs = video_to_imgs(home_dir + experiments[0][:-3] + '_labeled.mp4')\n",
    "#imgs = video_to_imgs(home_dir + 'fly1_pre_stimulation.mp4')\n",
    "data = pickle.load(open(home_dir + experiments[0][:-3] + '.pkl','rb'))\n",
    "poses = data['points2d']\n",
    "\n",
    "f= plt.figure()\n",
    "im_rot = ndimage.rotate(imgs[0],90)\n",
    "plt.imshow(im_rot,cmap='gray', vmin=0, vmax=255)\n",
    "plot_skeleton(poses[0,:,0],poses[0,:,1],ids, color_edge)"
   ]
  },
  {
   "cell_type": "code",
   "execution_count": 8,
   "metadata": {},
   "outputs": [
    {
     "data": {
      "text/plain": [
       "(80, 24, 2)"
      ]
     },
     "execution_count": 8,
     "metadata": {},
     "output_type": "execute_result"
    }
   ],
   "source": [
    "data['points2d'].shape"
   ]
  },
  {
   "cell_type": "code",
   "execution_count": null,
   "metadata": {},
   "outputs": [],
   "source": []
  }
 ],
 "metadata": {
  "kernelspec": {
   "display_name": "Python 3",
   "language": "python",
   "name": "python3"
  },
  "language_info": {
   "codemirror_mode": {
    "name": "ipython",
    "version": 3
   },
   "file_extension": ".py",
   "mimetype": "text/x-python",
   "name": "python",
   "nbconvert_exporter": "python",
   "pygments_lexer": "ipython3",
   "version": "3.7.6"
  }
 },
 "nbformat": 4,
 "nbformat_minor": 4
}
