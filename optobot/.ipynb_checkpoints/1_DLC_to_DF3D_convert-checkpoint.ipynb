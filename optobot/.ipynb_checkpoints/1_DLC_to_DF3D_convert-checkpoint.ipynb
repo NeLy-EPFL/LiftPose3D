{
 "cells": [
  {
   "cell_type": "code",
   "execution_count": 1,
   "metadata": {},
   "outputs": [],
   "source": [
    "import numpy as np\n",
    "import pandas as pd\n",
    "import matplotlib.pyplot as plt\n",
    "from scipy import ndimage\n",
    "import glob\n",
    "from tqdm import tqdm\n",
    "import pickle\n",
    "import torch\n",
    "import cv2\n",
    "from skeleton import skeleton\n",
    "from matplotlib.animation import FFMpegWriter\n",
    "G, color_edge = skeleton()\n",
    "import src.procrustes as procrustes\n",
    "import src.utils as utils"
   ]
  },
  {
   "cell_type": "code",
   "execution_count": 2,
   "metadata": {},
   "outputs": [],
   "source": [
    "home_dir = '/data/LiftFly3D/optobot/102906_s1a5_p6-0/'\n",
    "\n",
    "experiments = ['vid_p6-0_off0_fly0_DLC_resnet50_dlcTrackingAug6shuffle1_1030000.h5',\n",
    "               'vid_p6-0_on0_fly0_DLC_resnet50_dlcTrackingAug6shuffle1_1030000.h5',\n",
    "               'vid_p6-0_off1_fly0_DLC_resnet50_dlcTrackingAug6shuffle1_1030000.h5',\n",
    "               'vid_p6-0_on1_fly0_DLC_resnet50_dlcTrackingAug6shuffle1_1030000.h5',\n",
    "               'vid_p6-0_off2_fly0_DLC_resnet50_dlcTrackingAug6shuffle1_1030000.h5',\n",
    "               'vid_p6-0_on2_fly0_DLC_resnet50_dlcTrackingAug6shuffle1_1030000.h5',\n",
    "               'vid_p6-0_off3_fly0_DLC_resnet50_dlcTrackingAug6shuffle1_1030000.h5']\n",
    "leg_joints = ['RFbodyCoxa', 'RFfemurTibia', 'RFtibiaTarsus', 'RFclaw',\n",
    "          'RMbodyCoxa', 'RMfemurTibia', 'RMtibiaTarsus', 'RMclaw',\n",
    "          'RHbodyCoxa', 'RHfemurTibia', 'RHtibiaTarsus', 'RHclaw',\n",
    "          'LFbodyCoxa', 'LFfemurTibia', 'LFtibiaTarsus', 'LFclaw', \n",
    "          'LMbodyCoxa', 'LMfemurTibia', 'LMtibiaTarsus', 'LMclaw',\n",
    "          'LHbodyCoxa', 'LHfemurTibia', 'LHtibiaTarsus', 'LHclaw']\n",
    "central_joints = ['RFbodyCoxa', 'RMbodyCoxa', 'RHbodyCoxa', 'LFbodyCoxa', 'LMbodyCoxa', 'LHbodyCoxa', 'Reye', 'Leye', 'Thorax', 'Abdomen']\n",
    "ids = [1, 2, 3, 4,  6, 7, 8, 9,  11, 12, 13, 14,  16, 17, 18, 19,  21, 22, 23, 24,  26, 27, 28, 29]\n",
    "\n",
    "prism_data = '/data/LiftFly3D/prism/data_oriented/training_data/191125_PR_Fly1_001_prism.pkl'"
   ]
  },
  {
   "cell_type": "markdown",
   "metadata": {},
   "source": [
    "Preprocess data"
   ]
  },
  {
   "cell_type": "code",
   "execution_count": 3,
   "metadata": {},
   "outputs": [
    {
     "name": "stderr",
     "output_type": "stream",
     "text": [
      "100%|██████████| 7/7 [00:00<00:00, 22.93it/s]\n"
     ]
    }
   ],
   "source": [
    "data_all = []\n",
    "X=None\n",
    "for i in tqdm(range(len(experiments))):\n",
    "    data = pd.read_hdf(home_dir + experiments[i]) #load data\n",
    "    data = data.droplevel('scorer',axis=1) #drop scorer column label\n",
    "\n",
    "    #rotate flies pointing left\n",
    "    theta = np.radians(90)\n",
    "    cos, sin = np.cos(theta), np.sin(theta)\n",
    "    R = np.array(((cos, -sin), (sin, cos)))\n",
    "    \n",
    "    xy = data.loc[:,(slice(None),['x','y'])].to_numpy().copy() \n",
    "    n = xy.shape[1]\n",
    "    xy = xy.reshape(-1,2)\n",
    "    xy = np.matmul(xy - 68,R) + 68\n",
    "    xy = xy.reshape(-1,n)\n",
    "    \n",
    "    data.loc[:,(slice(None),['x','y'])] = xy\n",
    "    \n",
    "    xy = data.loc[:,(central_joints,['x','y'])].to_numpy()\n",
    "    \n",
    "    #procrustes on coxa_femurs to decrease shaking\n",
    "    #for i in range(xy.shape[0]):\n",
    "    #    if X is None:\n",
    "    #        X = xy[41,:].reshape(-1, 2)\n",
    "    #    Xtransf = xy[i,:].reshape(-1, 2)\n",
    "                                \n",
    "        #_, Xtransf, _ = procrustes(X, Xtransf)\n",
    "    #    _, _, T, _, c = procrustes.compute_similarity_transform(Xtransf, X)\n",
    "        #Xtransf = (T@Xtransf.T).T + c\n",
    "    #    Xtransf = Xtransf + c\n",
    "\n",
    "    #    xy[i,:] = Xtransf.reshape(-1, 2*len(central_joints)).flatten()\n",
    "        \n",
    "    data.loc[:,(central_joints,['x','y'])] = xy\n",
    "    \n",
    "    #select only leg joints\n",
    "    data_np = data.loc[:,(leg_joints,['x','y'])].to_numpy()\n",
    "    \n",
    "    #save in DF3D format\n",
    "    xy = np.stack((data_np[:,::2], data_np[:,1::2]), axis=2)\n",
    "    data_all.append(xy)\n",
    "    \n",
    "data_all = np.vstack(data_all)    \n",
    "poses = {'points2d': data_all}\n",
    "    \n",
    "#save\n",
    "#pickle.dump(poses,open(home_dir + experiments[i][:-3] + '.pkl', 'wb'))\n",
    "pickle.dump(poses,open(home_dir + 'optobot_2d_pose_Fly0.pkl', 'wb'))"
   ]
  },
  {
   "cell_type": "code",
   "execution_count": 4,
   "metadata": {},
   "outputs": [
    {
     "data": {
      "text/plain": [
       "(2399, 24, 2)"
      ]
     },
     "execution_count": 4,
     "metadata": {},
     "output_type": "execute_result"
    }
   ],
   "source": [
    "data_all.shape"
   ]
  },
  {
   "cell_type": "markdown",
   "metadata": {},
   "source": [
    "Overlay DLC predictions with video"
   ]
  },
  {
   "cell_type": "code",
   "execution_count": 5,
   "metadata": {},
   "outputs": [
    {
     "data": {
      "text/plain": [
       "'vid_p6-0_on0_fly0_DLC_resnet50_dlcTrackingAug6shuffle1_1030000.h5'"
      ]
     },
     "execution_count": 5,
     "metadata": {},
     "output_type": "execute_result"
    }
   ],
   "source": [
    "experiments[1]"
   ]
  },
  {
   "cell_type": "code",
   "execution_count": 6,
   "metadata": {},
   "outputs": [
    {
     "data": {
      "text/plain": [
       "(-0.5, 137.5, 137.5, -0.5)"
      ]
     },
     "execution_count": 6,
     "metadata": {},
     "output_type": "execute_result"
    },
    {
     "data": {
      "image/png": "[encoded data removed]",
      "text/plain": [
       "<Figure size 720x720 with 1 Axes>"
      ]
     },
     "metadata": {
      "needs_background": "light"
     },
     "output_type": "display_data"
    }
   ],
   "source": [
    "def plot_skeleton(x, y, ids, color_edge, ax=None):\n",
    "           \n",
    "    for i, j in enumerate(G.edges()): \n",
    "        if (j[0] in ids) & (j[1] in ids):\n",
    "            u = np.where(j[0]==np.array(ids))[0][0]\n",
    "            v = np.where(j[1]==np.array(ids))[0][0]\n",
    "            \n",
    "            x_coord = np.array((x[u], x[v]))\n",
    "            y_coord = np.array((y[u], y[v]))\n",
    "            if ax is not None:\n",
    "                ax.plot(x_coord, y_coord, c=color_edge[j[0]], linewidth = 4)\n",
    "            else:\n",
    "                plt.plot(x_coord, y_coord, c=color_edge[j[0]], linewidth = 4)\n",
    "\n",
    "imgs = utils.video_to_imgs(home_dir + '_'.join(experiments[1].split('_')[:4] + ['.mp4']))\n",
    "data = pickle.load(open(home_dir + experiments[1][:-3] + '.pkl','rb'))\n",
    "#data = pickle.load(open(home_dir + 'optobot_2d_pose_Fly0.pkl','rb'))\n",
    "poses = data['points2d']\n",
    "\n",
    "i = 40\n",
    "\n",
    "plt.figure(figsize=(10,10))\n",
    "im_rot = ndimage.rotate(imgs[i],90)\n",
    "plt.imshow(im_rot,cmap='gray', vmin=0, vmax=255)\n",
    "plot_skeleton(poses[i,:,0], poses[i,:,1], ids, color_edge)\n",
    "plt.axis('off')"
   ]
  },
  {
   "cell_type": "markdown",
   "metadata": {},
   "source": [
    "DLC video"
   ]
  },
  {
   "cell_type": "code",
   "execution_count": null,
   "metadata": {},
   "outputs": [
    {
     "name": "stderr",
     "output_type": "stream",
     "text": [
      "100%|██████████| 41/41 [00:01<00:00, 26.11it/s]\n",
      " 20%|██        | 48/240 [00:01<00:07, 24.30it/s]"
     ]
    }
   ],
   "source": [
    "#full image\n",
    "fig = plt.figure(figsize=(6,6))\n",
    "plt.subplots_adjust(top = 1, bottom = 0, right = 1, left = 0, \n",
    "            hspace = 0, wspace = 0)\n",
    "            \n",
    "metadata = dict(title='LiftFly3D prediction', artist='Nely',comment='Watch this!')\n",
    "writer = FFMpegWriter(fps=10, metadata=metadata)\n",
    "with writer.saving(fig, \"DLC_prediction.mp4\", 100):\n",
    "    for exp in range(len(experiments)):\n",
    "        imgs = utils.video_to_imgs(home_dir + '_'.join(experiments[exp].split('_')[:4] + ['.mp4']))\n",
    "        data = pickle.load(open(home_dir + experiments[exp][:-3] + '.pkl','rb'))\n",
    "        poses = data['points2d']\n",
    "        \n",
    "        for i in tqdm(range(poses.shape[0])):\n",
    "            pos_pred, pos_tar = [], []   \n",
    "            plt.cla()\n",
    "        \n",
    "            im_rot = ndimage.rotate(imgs[i],90)\n",
    "            plt.imshow(im_rot,cmap='gray', vmin=0, vmax=255)\n",
    "                 \n",
    "            plot_skeleton(poses[i,:,0],poses[i,:,1], ids, color_edge)\n",
    "        \n",
    "            plt.axis('off')\n",
    "            writer.grab_frame() "
   ]
  },
  {
   "cell_type": "markdown",
   "metadata": {},
   "source": [
    "Arena video"
   ]
  },
  {
   "cell_type": "code",
   "execution_count": null,
   "metadata": {},
   "outputs": [],
   "source": [
    "imgs = utils.video_to_imgs('arena.mp4')\n",
    "#for i, im in enumerate(imgs):\n",
    "#    cv2.imwrite(str(i).zfill(5) + '.png', im)"
   ]
  },
  {
   "cell_type": "markdown",
   "metadata": {},
   "source": [
    "Add circle around fly 0"
   ]
  },
  {
   "cell_type": "code",
   "execution_count": null,
   "metadata": {},
   "outputs": [],
   "source": [
    "import cv2\n",
    "\n",
    "#for i in range()\n",
    "#image = cv2.imread(path) \n",
    "\n",
    "count = 0\n",
    "r = 70\n",
    "thickness = 5\n",
    "for i in range(len(experiments)):\n",
    "    pos = np.load(home_dir + '_'.join(experiments[i].split('_')[:4] + ['.npy']))\n",
    "    for j in range(pos.shape[0]):\n",
    "\n",
    "        imgs[count] = cv2.circle(imgs[count], (int(pos[j,0]), int(pos[j,1])), r, (255, 0, 0), thickness) \n",
    "        count += 1\n",
    "        #plt.imshow(image)\n",
    "        #import sys\n",
    "        #sys.exit()\n",
    "        \n",
    "out = cv2.VideoWriter('arena_marked.mp4',cv2.VideoWriter_fourcc(*'DIVX'), 10, (imgs[0].shape[0], imgs[0].shape[1]))\n",
    " \n",
    "for i in range(len(imgs)):\n",
    "    out.write(imgs[i])\n",
    "out.release()"
   ]
  },
  {
   "cell_type": "code",
   "execution_count": null,
   "metadata": {},
   "outputs": [],
   "source": [
    "#Stack videos horizontally\n",
    "#ffmpeg -i DLC_prediction.mp4 -i prediction_cams.mp4 -filter_complex \"[0:v]scale=-1:480[v0];[v0][1:v]hstack=inputs=2\" output.mp4\n",
    "#ffmpeg -i arena_marked.mp4 -i output.mp4 -filter_complex \"[0:v]scale=-1:480[v0];[v0][1:v]hstack=inputs=2\" output_2.mp4\n",
    "\n"
   ]
  },
  {
   "cell_type": "markdown",
   "metadata": {},
   "source": [
    "Check data after preprocessing"
   ]
  },
  {
   "cell_type": "code",
   "execution_count": null,
   "metadata": {},
   "outputs": [],
   "source": [
    "def unNormalizeData(data, data_mean, data_std):\n",
    "    \"\"\"\n",
    "    Un-normalizes a matrix whose mean has been substracted and that has been divided by\n",
    "    standard deviation. Some dimensions might also be missing\n",
    "    \"\"\"\n",
    "    data *= data_std\n",
    "    data += data_mean\n",
    "    \n",
    "    return data\n",
    "\n",
    "tint = [0,700]\n",
    "times = np.arange(tint[0],tint[1])\n",
    "\n",
    "prism_dir = '/data/LiftFly3D/optobot/network/'\n",
    "optobot_dir = '/data/LiftFly3D/optobot/102906_s1a5_p6-0/'\n",
    "\n",
    "poses_optobot = torch.load(optobot_dir + 'test_2d.pth.tar')\n",
    "poses_prism = torch.load(prism_dir + 'train_2d.pth.tar')\n",
    "\n",
    "poses_optobot = np.vstack(poses_optobot.values())\n",
    "poses_prism = np.vstack(poses_prism.values())\n",
    "\n",
    "targets_1d = torch.load(optobot_dir + '/stat_2d.pth.tar')['targets_1d'] \n",
    "#targets_2d = torch.load(prism_dir + '/stat_2d.pth.tar')['targets_2d']   \n",
    "#mean = torch.load(optobot_dir + '/stat_2d.pth.tar')['mean']\n",
    "#std = torch.load(optobot_dir + '/stat_2d.pth.tar')['std']\n",
    "#poses_optobot = unNormalizeData(poses_optobot, mean[targets_2d], std[targets_2d])\n",
    "#poses_prism = unNormalizeData(poses_prism, mean[targets_2d], std[targets_2d])\n",
    "\n",
    "poses_optobot = np.stack((poses_optobot[:,::2], poses_optobot[:,1::2]), axis=2)\n",
    "poses_prism = np.stack((poses_prism[:,::2], poses_prism[:,1::2]), axis=2)\n",
    "\n",
    "fig = plt.figure(figsize=([8,8])) \n",
    "\n",
    "joint_id = [2, 5, 8, 11, 14, 17] #legtips\n",
    "#joint_id = [1, 2, 4,5, 7,8, 10,11, 13,14, 16,17]\n",
    "for i, k in enumerate(joint_id):\n",
    "    fig.add_subplot(4,3,i+1)\n",
    "    plt.title(leg_joints[targets_1d[k]])\n",
    "    \n",
    "    #for i in [2, 5, 8, 11, 14, 17]:#[4,9,14,19,24,29]:\n",
    "    plt.plot(poses_prism[times,k,0], poses_prism[times,k,1],'o',alpha=0.2)\n",
    "    \n",
    "    #for i in :#[3,7,11,15,19,23]:\n",
    "    \n",
    "    plt.plot(poses_optobot[times,k,0], poses_optobot[times,k,1],'s',alpha=0.2)\n",
    "    plt.axis('equal')\n",
    "    \n",
    "plt.tight_layout()\n",
    "#plt.savefig('pose_distributions.png')"
   ]
  },
  {
   "cell_type": "code",
   "execution_count": null,
   "metadata": {},
   "outputs": [],
   "source": []
  }
 ],
 "metadata": {
  "kernelspec": {
   "display_name": "Python 3",
   "language": "python",
   "name": "python3"
  },
  "language_info": {
   "codemirror_mode": {
    "name": "ipython",
    "version": 3
   },
   "file_extension": ".py",
   "mimetype": "text/x-python",
   "name": "python",
   "nbconvert_exporter": "python",
   "pygments_lexer": "ipython3",
   "version": "3.7.6"
  }
 },
 "nbformat": 4,
 "nbformat_minor": 4
}
